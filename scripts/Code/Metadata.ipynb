{
 "cells": [
  {
   "cell_type": "code",
   "execution_count": 1,
   "id": "d6feab87",
   "metadata": {},
   "outputs": [
    {
     "name": "stderr",
     "output_type": "stream",
     "text": [
      "<>:5: SyntaxWarning: invalid escape sequence '\\R'\n",
      "<>:6: SyntaxWarning: invalid escape sequence '\\R'\n",
      "<>:7: SyntaxWarning: invalid escape sequence '\\R'\n",
      "<>:8: SyntaxWarning: invalid escape sequence '\\R'\n",
      "<>:5: SyntaxWarning: invalid escape sequence '\\R'\n",
      "<>:6: SyntaxWarning: invalid escape sequence '\\R'\n",
      "<>:7: SyntaxWarning: invalid escape sequence '\\R'\n",
      "<>:8: SyntaxWarning: invalid escape sequence '\\R'\n",
      "C:\\Users\\HP\\AppData\\Local\\Temp\\ipykernel_5344\\2853263872.py:5: SyntaxWarning: invalid escape sequence '\\R'\n",
      "  coswara_dir = Path(\"F:\\Research_Project_CMP9140\\lung-cancer-cough-classification\\data\\Processed\\healthy_coswara\")\n",
      "C:\\Users\\HP\\AppData\\Local\\Temp\\ipykernel_5344\\2853263872.py:6: SyntaxWarning: invalid escape sequence '\\R'\n",
      "  coughvid_dir = Path(\"F:\\Research_Project_CMP9140\\lung-cancer-cough-classification\\data\\Processed\\healthy_coughvid\")\n",
      "C:\\Users\\HP\\AppData\\Local\\Temp\\ipykernel_5344\\2853263872.py:7: SyntaxWarning: invalid escape sequence '\\R'\n",
      "  kaggle_normal_dir = Path(\"F:\\Research_Project_CMP9140\\lung-cancer-cough-classification\\data\\healthy\")  # if you separated normal CSI\n",
      "C:\\Users\\HP\\AppData\\Local\\Temp\\ipykernel_5344\\2853263872.py:8: SyntaxWarning: invalid escape sequence '\\R'\n",
      "  cancer_dir = Path(\"F:\\Research_Project_CMP9140\\lung-cancer-cough-classification\\data\\cancer\")\n"
     ]
    },
    {
     "name": "stdout",
     "output_type": "stream",
     "text": [
      "[INFO] Metadata saved to metadata.csv with 3601 total samples.\n",
      "                                            filepath    label   source\n",
      "0  F:\\Research_Project_CMP9140\\lung-cancer-cough-...  healthy  Coswara\n",
      "1  F:\\Research_Project_CMP9140\\lung-cancer-cough-...  healthy  Coswara\n",
      "2  F:\\Research_Project_CMP9140\\lung-cancer-cough-...  healthy  Coswara\n",
      "3  F:\\Research_Project_CMP9140\\lung-cancer-cough-...  healthy  Coswara\n",
      "4  F:\\Research_Project_CMP9140\\lung-cancer-cough-...  healthy  Coswara\n"
     ]
    }
   ],
   "source": [
    "import pandas as pd\n",
    "from pathlib import Path\n",
    "\n",
    "# Define your processed folders\n",
    "coswara_dir = Path(\"F:\\Research_Project_CMP9140\\lung-cancer-cough-classification\\data\\Processed\\healthy_coswara\")\n",
    "coughvid_dir = Path(\"F:\\Research_Project_CMP9140\\lung-cancer-cough-classification\\data\\Processed\\healthy_coughvid\")\n",
    "kaggle_normal_dir = Path(\"F:\\Research_Project_CMP9140\\lung-cancer-cough-classification\\data\\healthy\")  # if you separated normal CSI\n",
    "cancer_dir = Path(\"F:\\Research_Project_CMP9140\\lung-cancer-cough-classification\\data\\cancer\")\n",
    "\n",
    "# Collect all image paths with labels\n",
    "records = []\n",
    "\n",
    "for folder, label, source in [\n",
    "    (coswara_dir, \"healthy\", \"Coswara\"),\n",
    "    (coughvid_dir, \"healthy\", \"COUGHVID\"),\n",
    "    (kaggle_normal_dir, \"healthy\", \"Kaggle Normal\"),\n",
    "    (cancer_dir, \"cancer\", \"Kaggle Cancer\"),\n",
    "]:\n",
    "    for img_file in folder.glob(\"*.png\"):\n",
    "        records.append({\n",
    "            \"filepath\": str(img_file),\n",
    "            \"label\": label,\n",
    "            \"source\": source\n",
    "        })\n",
    "\n",
    "# Create DataFrame\n",
    "df = pd.DataFrame(records)\n",
    "\n",
    "# Save metadata.csv\n",
    "output_csv = \"metadata.csv\"\n",
    "df.to_csv(output_csv, index=False)\n",
    "\n",
    "print(f\"[INFO] Metadata saved to {output_csv} with {len(df)} total samples.\")\n",
    "print(df.head())\n"
   ]
  },
  {
   "cell_type": "code",
   "execution_count": null,
   "id": "deba9948",
   "metadata": {},
   "outputs": [],
   "source": []
  }
 ],
 "metadata": {
  "kernelspec": {
   "display_name": "base",
   "language": "python",
   "name": "python3"
  },
  "language_info": {
   "codemirror_mode": {
    "name": "ipython",
    "version": 3
   },
   "file_extension": ".py",
   "mimetype": "text/x-python",
   "name": "python",
   "nbconvert_exporter": "python",
   "pygments_lexer": "ipython3",
   "version": "3.12.7"
  }
 },
 "nbformat": 4,
 "nbformat_minor": 5
}
