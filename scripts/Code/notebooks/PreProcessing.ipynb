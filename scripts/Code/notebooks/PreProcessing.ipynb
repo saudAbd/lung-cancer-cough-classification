{
 "cells": [
  {
   "cell_type": "code",
   "execution_count": null,
   "id": "d6424f22",
   "metadata": {},
   "outputs": [],
   "source": []
  },
  {
   "cell_type": "markdown",
   "id": "c23dff9b",
   "metadata": {},
   "source": [
    "Seperated healthy cough audios from the data folder coswera as its needed for healthy class"
   ]
  },
  {
   "cell_type": "code",
   "execution_count": null,
   "id": "687e8587",
   "metadata": {},
   "outputs": [],
   "source": []
  },
  {
   "cell_type": "code",
   "execution_count": 8,
   "id": "49d582c2",
   "metadata": {},
   "outputs": [
    {
     "name": "stdout",
     "output_type": "stream",
     "text": [
      "[INFO] Total healthy participants: 1433\n",
      "[Copied] data\\raw\\healthy\\iV3Db6t1T8b7c5HQY2TwxIhjbzD3_cough-heavy.wav\n",
      "[Copied] data\\raw\\healthy\\iV3Db6t1T8b7c5HQY2TwxIhjbzD3_cough-shallow.wav\n",
      "[Copied] data\\raw\\healthy\\AxuYWBN0jFVLINCBqIW5aZmGCdu1_cough-heavy.wav\n",
      "[Copied] data\\raw\\healthy\\AxuYWBN0jFVLINCBqIW5aZmGCdu1_cough-shallow.wav\n",
      "[Copied] data\\raw\\healthy\\C5eIsssb9GSkaAgIfsHMHeR6fSh1_cough-heavy.wav\n",
      "[Copied] data\\raw\\healthy\\C5eIsssb9GSkaAgIfsHMHeR6fSh1_cough-shallow.wav\n",
      "[Copied] data\\raw\\healthy\\YjbEAECMBIaZKyfqOvWy5DDImUb2_cough-heavy.wav\n",
      "[Copied] data\\raw\\healthy\\YjbEAECMBIaZKyfqOvWy5DDImUb2_cough-shallow.wav\n",
      "[Copied] data\\raw\\healthy\\aGOvk4ji0cVqIzCs1jHnzlw2UEy2_cough-heavy.wav\n",
      "[Copied] data\\raw\\healthy\\aGOvk4ji0cVqIzCs1jHnzlw2UEy2_cough-shallow.wav\n",
      "[Copied] data\\raw\\healthy\\rB5oGtrGYZR5uJUXEaDYrrredz13_cough-heavy.wav\n",
      "[Copied] data\\raw\\healthy\\rB5oGtrGYZR5uJUXEaDYrrredz13_cough-shallow.wav\n",
      "[Copied] data\\raw\\healthy\\OW5RTM4WXPawz0QLpsfjsl4FqM22_cough-heavy.wav\n",
      "[Copied] data\\raw\\healthy\\OW5RTM4WXPawz0QLpsfjsl4FqM22_cough-shallow.wav\n",
      "[Copied] data\\raw\\healthy\\lF4uHVWCoBPlnxvapmUJ4ROtYV73_cough-heavy.wav\n",
      "[Copied] data\\raw\\healthy\\lF4uHVWCoBPlnxvapmUJ4ROtYV73_cough-shallow.wav\n",
      "[Copied] data\\raw\\healthy\\LYJToDRYDZfpjBuNC6YkUcphr0q1_cough-heavy.wav\n",
      "[Copied] data\\raw\\healthy\\LYJToDRYDZfpjBuNC6YkUcphr0q1_cough-shallow.wav\n",
      "[Copied] data\\raw\\healthy\\pOZwqBg4NsVYWASmwwhXFq4UlpC2_cough-heavy.wav\n",
      "[Copied] data\\raw\\healthy\\pOZwqBg4NsVYWASmwwhXFq4UlpC2_cough-shallow.wav\n",
      "[Copied] data\\raw\\healthy\\aB7zSIAFW7bCmQC7IBUWFjNncTF3_cough-heavy.wav\n",
      "[Copied] data\\raw\\healthy\\aB7zSIAFW7bCmQC7IBUWFjNncTF3_cough-shallow.wav\n",
      "[Copied] data\\raw\\healthy\\GzhrTQhWHSTwvweRKx2x1Uh4wx52_cough-heavy.wav\n",
      "[Copied] data\\raw\\healthy\\GzhrTQhWHSTwvweRKx2x1Uh4wx52_cough-shallow.wav\n",
      "[Copied] data\\raw\\healthy\\OTSzQ3koIrTIdjRbfrDBzn88rLe2_cough-heavy.wav\n",
      "[Copied] data\\raw\\healthy\\OTSzQ3koIrTIdjRbfrDBzn88rLe2_cough-shallow.wav\n",
      "[Copied] data\\raw\\healthy\\Q2rqPfhdilf16SbycBrtJ4gQ5Ep1_cough-heavy.wav\n",
      "[Copied] data\\raw\\healthy\\Q2rqPfhdilf16SbycBrtJ4gQ5Ep1_cough-shallow.wav\n",
      "[Copied] data\\raw\\healthy\\Q8ADRNJMa3ecKbRrrVWqBsbNmsL2_cough-heavy.wav\n",
      "[Copied] data\\raw\\healthy\\Q8ADRNJMa3ecKbRrrVWqBsbNmsL2_cough-shallow.wav\n",
      "[Copied] data\\raw\\healthy\\2n0fnSeTNiWvPi7aLxRrFsCGU8D2_cough-heavy.wav\n",
      "[Copied] data\\raw\\healthy\\2n0fnSeTNiWvPi7aLxRrFsCGU8D2_cough-shallow.wav\n",
      "[Copied] data\\raw\\healthy\\nE9m0JsRXTYoni1nN9LpiBJJJXJ2_cough-heavy.wav\n",
      "[Copied] data\\raw\\healthy\\nE9m0JsRXTYoni1nN9LpiBJJJXJ2_cough-shallow.wav\n",
      "[Copied] data\\raw\\healthy\\Ny6G594aKENcYgURBgYJJa62ziV2_cough-heavy.wav\n",
      "[Copied] data\\raw\\healthy\\Ny6G594aKENcYgURBgYJJa62ziV2_cough-shallow.wav\n",
      "[Copied] data\\raw\\healthy\\R4AY1hLOZtUJRsYeDGgGZR4sKVP2_cough-heavy.wav\n",
      "[Copied] data\\raw\\healthy\\R4AY1hLOZtUJRsYeDGgGZR4sKVP2_cough-shallow.wav\n",
      "[Copied] data\\raw\\healthy\\RUG3ss3JaEVElB4LvuOrW8wC1pD2_cough-heavy.wav\n",
      "[Copied] data\\raw\\healthy\\RUG3ss3JaEVElB4LvuOrW8wC1pD2_cough-shallow.wav\n",
      "[Copied] data\\raw\\healthy\\fKZtrxD1qFVpLIgnmwEzWvnQZc83_cough-heavy.wav\n",
      "[Copied] data\\raw\\healthy\\fKZtrxD1qFVpLIgnmwEzWvnQZc83_cough-shallow.wav\n",
      "[Copied] data\\raw\\healthy\\4e9u1T1conYlXIQp89SQRgMPScY2_cough-heavy.wav\n",
      "[Copied] data\\raw\\healthy\\4e9u1T1conYlXIQp89SQRgMPScY2_cough-shallow.wav\n",
      "[Copied] data\\raw\\healthy\\qhYsqvdV41c4THE9gd4ugJqIYW03_cough-heavy.wav\n",
      "[Copied] data\\raw\\healthy\\qhYsqvdV41c4THE9gd4ugJqIYW03_cough-shallow.wav\n",
      "[Copied] data\\raw\\healthy\\zga52aKD4sQJbsqwZg1RrLKjkus2_cough-heavy.wav\n",
      "[Copied] data\\raw\\healthy\\zga52aKD4sQJbsqwZg1RrLKjkus2_cough-shallow.wav\n",
      "[Copied] data\\raw\\healthy\\rf6smT3AxxYh5E5LqwXPy0VHrRr1_cough-heavy.wav\n",
      "[Copied] data\\raw\\healthy\\rf6smT3AxxYh5E5LqwXPy0VHrRr1_cough-shallow.wav\n",
      "[Copied] data\\raw\\healthy\\r0XiFJDYZCMvV7xT8LowfFV3DJQ2_cough-heavy.wav\n",
      "[Copied] data\\raw\\healthy\\r0XiFJDYZCMvV7xT8LowfFV3DJQ2_cough-shallow.wav\n",
      "[Copied] data\\raw\\healthy\\dPi1G2i821MDlbBUQWboTaExz023_cough-heavy.wav\n",
      "[Copied] data\\raw\\healthy\\dPi1G2i821MDlbBUQWboTaExz023_cough-shallow.wav\n",
      "[Copied] data\\raw\\healthy\\WcRpZenx0WWQmzOUPTHEEGlyJAg1_cough-heavy.wav\n",
      "[Copied] data\\raw\\healthy\\WcRpZenx0WWQmzOUPTHEEGlyJAg1_cough-shallow.wav\n",
      "[Copied] data\\raw\\healthy\\srdG1jMMYHUtAU7bKP1dsbwJvxv1_cough-heavy.wav\n",
      "[Copied] data\\raw\\healthy\\srdG1jMMYHUtAU7bKP1dsbwJvxv1_cough-shallow.wav\n",
      "[Copied] data\\raw\\healthy\\4VglD8545bYRUyNLgqC0dy8roVo2_cough-heavy.wav\n",
      "[Copied] data\\raw\\healthy\\4VglD8545bYRUyNLgqC0dy8roVo2_cough-shallow.wav\n",
      "[Copied] data\\raw\\healthy\\ptVjGFG0aEW5HjY8lyc5AwBc7cZ2_cough-heavy.wav\n",
      "[Copied] data\\raw\\healthy\\ptVjGFG0aEW5HjY8lyc5AwBc7cZ2_cough-shallow.wav\n",
      "[Copied] data\\raw\\healthy\\XAQ5xkTIEHXSPX6q02PJ6WvPNuD3_cough-heavy.wav\n",
      "[Copied] data\\raw\\healthy\\XAQ5xkTIEHXSPX6q02PJ6WvPNuD3_cough-shallow.wav\n",
      "[Copied] data\\raw\\healthy\\2DlLebpOzxaURwfwyo2fZiWIF1Z2_cough-heavy.wav\n",
      "[Copied] data\\raw\\healthy\\2DlLebpOzxaURwfwyo2fZiWIF1Z2_cough-shallow.wav\n",
      "[Copied] data\\raw\\healthy\\hbLP3s7RLsTgaMSRNWkIuuggpyL2_cough-heavy.wav\n",
      "[Copied] data\\raw\\healthy\\hbLP3s7RLsTgaMSRNWkIuuggpyL2_cough-shallow.wav\n",
      "[Copied] data\\raw\\healthy\\H2taWn5GjlQJaBy2Fvw3yp3zabg2_cough-heavy.wav\n",
      "[Copied] data\\raw\\healthy\\H2taWn5GjlQJaBy2Fvw3yp3zabg2_cough-shallow.wav\n",
      "[Copied] data\\raw\\healthy\\gZzVS7gHpQYZS5Xk5P0O2noJRN82_cough-heavy.wav\n",
      "[Copied] data\\raw\\healthy\\gZzVS7gHpQYZS5Xk5P0O2noJRN82_cough-shallow.wav\n",
      "[Copied] data\\raw\\healthy\\4h4p5SvPlHaV60UB1wA0uzaQwMt1_cough-heavy.wav\n",
      "[Copied] data\\raw\\healthy\\4h4p5SvPlHaV60UB1wA0uzaQwMt1_cough-shallow.wav\n",
      "[Copied] data\\raw\\healthy\\OTa3jtPjzyQC7FezmlYX3o5U2I83_cough-heavy.wav\n",
      "[Copied] data\\raw\\healthy\\OTa3jtPjzyQC7FezmlYX3o5U2I83_cough-shallow.wav\n",
      "[Copied] data\\raw\\healthy\\acNcVO2ualNYfKX5k7tJe2nw40Q2_cough-heavy.wav\n",
      "[Copied] data\\raw\\healthy\\acNcVO2ualNYfKX5k7tJe2nw40Q2_cough-shallow.wav\n",
      "[Copied] data\\raw\\healthy\\mBWfpnNSpAe7cqXYcWhikoYA7SA2_cough-heavy.wav\n",
      "[Copied] data\\raw\\healthy\\mBWfpnNSpAe7cqXYcWhikoYA7SA2_cough-shallow.wav\n",
      "[Copied] data\\raw\\healthy\\ubQOYCka4BUGeIeo6x3A9HYh8In2_cough-heavy.wav\n",
      "[Copied] data\\raw\\healthy\\ubQOYCka4BUGeIeo6x3A9HYh8In2_cough-shallow.wav\n",
      "[Copied] data\\raw\\healthy\\c96Fr87Qw8cbz2JKR4yE6DiuSrq1_cough-heavy.wav\n",
      "[Copied] data\\raw\\healthy\\c96Fr87Qw8cbz2JKR4yE6DiuSrq1_cough-shallow.wav\n",
      "[Copied] data\\raw\\healthy\\KHP3hql1ScXYRbOQJ7anrZXTiad2_cough-heavy.wav\n",
      "[Copied] data\\raw\\healthy\\KHP3hql1ScXYRbOQJ7anrZXTiad2_cough-shallow.wav\n",
      "[Copied] data\\raw\\healthy\\nDhgdZFoNRUBm7qY6tw3z4ZLOdw2_cough-heavy.wav\n",
      "[Copied] data\\raw\\healthy\\nDhgdZFoNRUBm7qY6tw3z4ZLOdw2_cough-shallow.wav\n",
      "[Copied] data\\raw\\healthy\\xyM7qnHrkeSfQsGyRCsomcKfMDG3_cough-heavy.wav\n",
      "[Copied] data\\raw\\healthy\\xyM7qnHrkeSfQsGyRCsomcKfMDG3_cough-shallow.wav\n",
      "[Copied] data\\raw\\healthy\\Y5YzktJpmdMp3h3YOTEWcxE41F83_cough-heavy.wav\n",
      "[Copied] data\\raw\\healthy\\Y5YzktJpmdMp3h3YOTEWcxE41F83_cough-shallow.wav\n",
      "[Copied] data\\raw\\healthy\\HRtlc2Oedzd7Q70BgFjlJGMbyPL2_cough-heavy.wav\n",
      "[Copied] data\\raw\\healthy\\HRtlc2Oedzd7Q70BgFjlJGMbyPL2_cough-shallow.wav\n",
      "[Copied] data\\raw\\healthy\\vxQXoOBf9Oa0zTwHaKRyHqiUQTB2_cough-heavy.wav\n",
      "[Copied] data\\raw\\healthy\\vxQXoOBf9Oa0zTwHaKRyHqiUQTB2_cough-shallow.wav\n",
      "[Copied] data\\raw\\healthy\\zHug6OwMsNQnCCKu5TAiHKddqer2_cough-heavy.wav\n",
      "[Copied] data\\raw\\healthy\\zHug6OwMsNQnCCKu5TAiHKddqer2_cough-shallow.wav\n",
      "[Copied] data\\raw\\healthy\\Qriv4y0rwfWRZDatFMOj9zdXeB43_cough-heavy.wav\n",
      "[Copied] data\\raw\\healthy\\Qriv4y0rwfWRZDatFMOj9zdXeB43_cough-shallow.wav\n",
      "[Copied] data\\raw\\healthy\\RQqyn5Ur0gcPPYhafDG9DDfIgVh2_cough-heavy.wav\n",
      "[Copied] data\\raw\\healthy\\RQqyn5Ur0gcPPYhafDG9DDfIgVh2_cough-shallow.wav\n",
      "[Copied] data\\raw\\healthy\\XFX3DxpzWlTsqde0wmliVzvRXnf1_cough-heavy.wav\n",
      "[Copied] data\\raw\\healthy\\XFX3DxpzWlTsqde0wmliVzvRXnf1_cough-shallow.wav\n",
      "[Copied] data\\raw\\healthy\\lS9YdIeCTmfaDKr4AgtF1hjdlR23_cough-heavy.wav\n",
      "[Copied] data\\raw\\healthy\\lS9YdIeCTmfaDKr4AgtF1hjdlR23_cough-shallow.wav\n",
      "[Copied] data\\raw\\healthy\\tkr2LeHuJyNXW3uM4NUZBmp1qIb2_cough-heavy.wav\n",
      "[Copied] data\\raw\\healthy\\tkr2LeHuJyNXW3uM4NUZBmp1qIb2_cough-shallow.wav\n",
      "[Copied] data\\raw\\healthy\\HtCYru78WihN83VInC0etddLCv62_cough-heavy.wav\n",
      "[Copied] data\\raw\\healthy\\HtCYru78WihN83VInC0etddLCv62_cough-shallow.wav\n",
      "[Copied] data\\raw\\healthy\\GMjhTrVkYsfH4RWjGFLCskzNnys2_cough-heavy.wav\n",
      "[Copied] data\\raw\\healthy\\GMjhTrVkYsfH4RWjGFLCskzNnys2_cough-shallow.wav\n",
      "[Copied] data\\raw\\healthy\\gfAVpM1IV5RhiO6CAiOjjn1AHVG2_cough-heavy.wav\n",
      "[Copied] data\\raw\\healthy\\gfAVpM1IV5RhiO6CAiOjjn1AHVG2_cough-shallow.wav\n",
      "[Copied] data\\raw\\healthy\\Uy5OhcHEQXY65CsYbiRPtN7RVBf1_cough-heavy.wav\n",
      "[Copied] data\\raw\\healthy\\Uy5OhcHEQXY65CsYbiRPtN7RVBf1_cough-shallow.wav\n",
      "[Copied] data\\raw\\healthy\\2jFheyh8bLO5peh0HPYGYjH5N9x2_cough-heavy.wav\n",
      "[Copied] data\\raw\\healthy\\2jFheyh8bLO5peh0HPYGYjH5N9x2_cough-shallow.wav\n",
      "[Copied] data\\raw\\healthy\\W9x1xBd8ZCggMQLy9vNSgo8zeAI3_cough-heavy.wav\n",
      "[Copied] data\\raw\\healthy\\W9x1xBd8ZCggMQLy9vNSgo8zeAI3_cough-shallow.wav\n",
      "[Copied] data\\raw\\healthy\\XlPcBLOUHdNZwOeNJvVy1KfjQDf2_cough-heavy.wav\n",
      "[Copied] data\\raw\\healthy\\XlPcBLOUHdNZwOeNJvVy1KfjQDf2_cough-shallow.wav\n",
      "[Copied] data\\raw\\healthy\\UbRWBwc42vQH5WKiUUP89RvPlA92_cough-heavy.wav\n",
      "[Copied] data\\raw\\healthy\\UbRWBwc42vQH5WKiUUP89RvPlA92_cough-shallow.wav\n",
      "[Copied] data\\raw\\healthy\\PAngvEIaGxXq92VkTOyQPquFkVI2_cough-heavy.wav\n",
      "[Copied] data\\raw\\healthy\\PAngvEIaGxXq92VkTOyQPquFkVI2_cough-shallow.wav\n",
      "[Copied] data\\raw\\healthy\\rsVzlx8x0INOnHAt8Xu6jrxeGqG2_cough-heavy.wav\n",
      "[Copied] data\\raw\\healthy\\rsVzlx8x0INOnHAt8Xu6jrxeGqG2_cough-shallow.wav\n",
      "[Copied] data\\raw\\healthy\\zir8PPnBwfOaT05GrKj9nK4opfk1_cough-heavy.wav\n",
      "[Copied] data\\raw\\healthy\\zir8PPnBwfOaT05GrKj9nK4opfk1_cough-shallow.wav\n",
      "[Copied] data\\raw\\healthy\\l4rsSAm6LtVu9k22v8PJnYp1pnC3_cough-heavy.wav\n",
      "[Copied] data\\raw\\healthy\\l4rsSAm6LtVu9k22v8PJnYp1pnC3_cough-shallow.wav\n",
      "[Copied] data\\raw\\healthy\\MEEGIoNSX4exg4oIL3Q9MdysPJq1_cough-heavy.wav\n",
      "[Copied] data\\raw\\healthy\\MEEGIoNSX4exg4oIL3Q9MdysPJq1_cough-shallow.wav\n",
      "[Copied] data\\raw\\healthy\\1irqEfgfrbXwr2ymwtkMB1Y0rnB3_cough-heavy.wav\n",
      "[Copied] data\\raw\\healthy\\1irqEfgfrbXwr2ymwtkMB1Y0rnB3_cough-shallow.wav\n",
      "[Copied] data\\raw\\healthy\\YRn1xdEIHufqa6lRl35Lg1YUXoJ3_cough-heavy.wav\n",
      "[Copied] data\\raw\\healthy\\YRn1xdEIHufqa6lRl35Lg1YUXoJ3_cough-shallow.wav\n",
      "[Copied] data\\raw\\healthy\\WSwgjHhTOHQwKb5nreCV0KvGcar2_cough-heavy.wav\n",
      "[Copied] data\\raw\\healthy\\WSwgjHhTOHQwKb5nreCV0KvGcar2_cough-shallow.wav\n",
      "[Copied] data\\raw\\healthy\\OM6VFW0eAoZikjyFJPQE4grOgSg2_cough-heavy.wav\n",
      "[Copied] data\\raw\\healthy\\OM6VFW0eAoZikjyFJPQE4grOgSg2_cough-shallow.wav\n",
      "[Copied] data\\raw\\healthy\\BQvb3GV9gvX4XSeyQf7BSl7Wyqn1_cough-heavy.wav\n",
      "[Copied] data\\raw\\healthy\\BQvb3GV9gvX4XSeyQf7BSl7Wyqn1_cough-shallow.wav\n",
      "[Copied] data\\raw\\healthy\\CKQpcw70anZK0rg63buUPt2FlhB3_cough-heavy.wav\n",
      "[Copied] data\\raw\\healthy\\CKQpcw70anZK0rg63buUPt2FlhB3_cough-shallow.wav\n",
      "[Copied] data\\raw\\healthy\\jwO1tHp8CJVEA8uVP80CM0g4TZN2_cough-heavy.wav\n",
      "[Copied] data\\raw\\healthy\\jwO1tHp8CJVEA8uVP80CM0g4TZN2_cough-shallow.wav\n",
      "[Copied] data\\raw\\healthy\\3l8trtOxHWOmdBh9WI5HgaVcAyi1_cough-heavy.wav\n",
      "[Copied] data\\raw\\healthy\\3l8trtOxHWOmdBh9WI5HgaVcAyi1_cough-shallow.wav\n",
      "[Copied] data\\raw\\healthy\\7XQT0puqHogVWiLYzjm7pFFz9Y52_cough-heavy.wav\n",
      "[Copied] data\\raw\\healthy\\7XQT0puqHogVWiLYzjm7pFFz9Y52_cough-shallow.wav\n",
      "[Copied] data\\raw\\healthy\\4Vsv3Lnin1Qw8LzxtmJWHfS9V2B2_cough-heavy.wav\n",
      "[Copied] data\\raw\\healthy\\4Vsv3Lnin1Qw8LzxtmJWHfS9V2B2_cough-shallow.wav\n",
      "[Copied] data\\raw\\healthy\\8Bi0fv6QwtOjcbxn1adAZp3SElb2_cough-heavy.wav\n",
      "[Copied] data\\raw\\healthy\\8Bi0fv6QwtOjcbxn1adAZp3SElb2_cough-shallow.wav\n",
      "[Copied] data\\raw\\healthy\\jk93uUBxDdd91SsfKOXhkGMsLjZ2_cough-heavy.wav\n",
      "[Copied] data\\raw\\healthy\\jk93uUBxDdd91SsfKOXhkGMsLjZ2_cough-shallow.wav\n",
      "[Copied] data\\raw\\healthy\\zl0ycIoAzhSJU1xsyLSNCDQA9Rr2_cough-heavy.wav\n",
      "[Copied] data\\raw\\healthy\\zl0ycIoAzhSJU1xsyLSNCDQA9Rr2_cough-shallow.wav\n",
      "[Copied] data\\raw\\healthy\\ItJda428lGefM787nRdA3EHDj7z1_cough-heavy.wav\n",
      "[Copied] data\\raw\\healthy\\ItJda428lGefM787nRdA3EHDj7z1_cough-shallow.wav\n",
      "[Copied] data\\raw\\healthy\\mdFe3i4I7haQAng2mO3CV1mJapt2_cough-heavy.wav\n",
      "[Copied] data\\raw\\healthy\\mdFe3i4I7haQAng2mO3CV1mJapt2_cough-shallow.wav\n",
      "[Copied] data\\raw\\healthy\\qxJxoaRLxJbV5uoKouWW2dl4nf43_cough-heavy.wav\n",
      "[Copied] data\\raw\\healthy\\qxJxoaRLxJbV5uoKouWW2dl4nf43_cough-shallow.wav\n",
      "[Copied] data\\raw\\healthy\\dZvjWWbzA8ZHagEibhMy4sJdd1n2_cough-heavy.wav\n",
      "[Copied] data\\raw\\healthy\\dZvjWWbzA8ZHagEibhMy4sJdd1n2_cough-shallow.wav\n",
      "[Copied] data\\raw\\healthy\\zX9wXjdaP8gMSv7KqPceItHsHr62_cough-heavy.wav\n",
      "[Copied] data\\raw\\healthy\\zX9wXjdaP8gMSv7KqPceItHsHr62_cough-shallow.wav\n",
      "[Copied] data\\raw\\healthy\\CzQMWbaavKTyWVIDQkA8n4pt9ap2_cough-heavy.wav\n",
      "[Copied] data\\raw\\healthy\\CzQMWbaavKTyWVIDQkA8n4pt9ap2_cough-shallow.wav\n",
      "[Copied] data\\raw\\healthy\\4KISxr5Elsd5AtONZ380AtOuGbb2_cough-heavy.wav\n",
      "[Copied] data\\raw\\healthy\\4KISxr5Elsd5AtONZ380AtOuGbb2_cough-shallow.wav\n",
      "[Copied] data\\raw\\healthy\\AMQjCiMY3BMrHMfAeXc4Z604Rlg1_cough-heavy.wav\n",
      "[Copied] data\\raw\\healthy\\AMQjCiMY3BMrHMfAeXc4Z604Rlg1_cough-shallow.wav\n",
      "[Copied] data\\raw\\healthy\\3OON9Vwuw8PeFisB03Faxoh7x482_cough-heavy.wav\n",
      "[Copied] data\\raw\\healthy\\3OON9Vwuw8PeFisB03Faxoh7x482_cough-shallow.wav\n",
      "[Copied] data\\raw\\healthy\\FNYQayw5zNMsebNuKCkLRlK9A4k2_cough-heavy.wav\n",
      "[Copied] data\\raw\\healthy\\FNYQayw5zNMsebNuKCkLRlK9A4k2_cough-shallow.wav\n",
      "[Copied] data\\raw\\healthy\\UX72LWicujPNyj9W7fb8xbtLuu13_cough-heavy.wav\n",
      "[Copied] data\\raw\\healthy\\UX72LWicujPNyj9W7fb8xbtLuu13_cough-shallow.wav\n",
      "[Copied] data\\raw\\healthy\\McLUd3uodlMnWlISFfbnhLZqNpv2_cough-heavy.wav\n",
      "[Copied] data\\raw\\healthy\\McLUd3uodlMnWlISFfbnhLZqNpv2_cough-shallow.wav\n",
      "[Copied] data\\raw\\healthy\\HIfH8OY3VQYcGEsFKVNh9m9qYer1_cough-heavy.wav\n",
      "[Copied] data\\raw\\healthy\\HIfH8OY3VQYcGEsFKVNh9m9qYer1_cough-shallow.wav\n",
      "[Copied] data\\raw\\healthy\\PohGLoOfCxQaQDbkp3lVXZMoxKE2_cough-heavy.wav\n",
      "[Copied] data\\raw\\healthy\\PohGLoOfCxQaQDbkp3lVXZMoxKE2_cough-shallow.wav\n",
      "[Copied] data\\raw\\healthy\\Fe1tKSSKTXadUtPD3nrSzimuiBl1_cough-heavy.wav\n",
      "[Copied] data\\raw\\healthy\\Fe1tKSSKTXadUtPD3nrSzimuiBl1_cough-shallow.wav\n",
      "[Copied] data\\raw\\healthy\\Qs0cEAaCeiW2Va8F0LwGsDOcNu33_cough-heavy.wav\n",
      "[Copied] data\\raw\\healthy\\Qs0cEAaCeiW2Va8F0LwGsDOcNu33_cough-shallow.wav\n",
      "[Copied] data\\raw\\healthy\\yJwPEFToEIZycxWiehwroKNpaPg1_cough-heavy.wav\n",
      "[Copied] data\\raw\\healthy\\yJwPEFToEIZycxWiehwroKNpaPg1_cough-shallow.wav\n",
      "[Copied] data\\raw\\healthy\\xh2LPx4DZNXX3hdsmHa7Lk41fPJ3_cough-heavy.wav\n",
      "[Copied] data\\raw\\healthy\\xh2LPx4DZNXX3hdsmHa7Lk41fPJ3_cough-shallow.wav\n",
      "[Copied] data\\raw\\healthy\\yZtohTVxlSauCUNuIIEUcdIA2TJ3_cough-heavy.wav\n",
      "[Copied] data\\raw\\healthy\\yZtohTVxlSauCUNuIIEUcdIA2TJ3_cough-shallow.wav\n",
      "[Copied] data\\raw\\healthy\\V4vtnfRZS8bjKjuR7KVyYnJQXw32_cough-heavy.wav\n",
      "[Copied] data\\raw\\healthy\\V4vtnfRZS8bjKjuR7KVyYnJQXw32_cough-shallow.wav\n",
      "[Copied] data\\raw\\healthy\\vSVws79jhxXr1iQrtbvhchHaHCE3_cough-heavy.wav\n",
      "[Copied] data\\raw\\healthy\\vSVws79jhxXr1iQrtbvhchHaHCE3_cough-shallow.wav\n",
      "[Copied] data\\raw\\healthy\\oeOuvTlUMEfWPcNOA4EnTk5Bh4K2_cough-heavy.wav\n",
      "[Copied] data\\raw\\healthy\\oeOuvTlUMEfWPcNOA4EnTk5Bh4K2_cough-shallow.wav\n",
      "[Copied] data\\raw\\healthy\\nQzxtyMOM3bSn98zqwBe9C7r7MI2_cough-heavy.wav\n",
      "[Copied] data\\raw\\healthy\\nQzxtyMOM3bSn98zqwBe9C7r7MI2_cough-shallow.wav\n",
      "[Copied] data\\raw\\healthy\\vn3xkK3lIdViBCa9kMj8LDOy9yV2_cough-heavy.wav\n",
      "[Copied] data\\raw\\healthy\\vn3xkK3lIdViBCa9kMj8LDOy9yV2_cough-shallow.wav\n",
      "[Copied] data\\raw\\healthy\\tLK9Z6BpfWVDFV7DQKMnEy0Woo22_cough-heavy.wav\n",
      "[Copied] data\\raw\\healthy\\tLK9Z6BpfWVDFV7DQKMnEy0Woo22_cough-shallow.wav\n",
      "[Copied] data\\raw\\healthy\\zBiORuLmvGhOciaUXFeAKRhMyhj2_cough-heavy.wav\n",
      "[Copied] data\\raw\\healthy\\zBiORuLmvGhOciaUXFeAKRhMyhj2_cough-shallow.wav\n",
      "[Copied] data\\raw\\healthy\\pQIRKYbiQ3ZHhnVt8CV73OvmBUU2_cough-heavy.wav\n",
      "[Copied] data\\raw\\healthy\\pQIRKYbiQ3ZHhnVt8CV73OvmBUU2_cough-shallow.wav\n",
      "[Copied] data\\raw\\healthy\\op1WefhMk4PWXOP5mzMctzOWM3x1_cough-heavy.wav\n",
      "[Copied] data\\raw\\healthy\\op1WefhMk4PWXOP5mzMctzOWM3x1_cough-shallow.wav\n",
      "[Copied] data\\raw\\healthy\\JuzR5zpE9HU3NsFabIcz4Kkp0Ag1_cough-heavy.wav\n",
      "[Copied] data\\raw\\healthy\\JuzR5zpE9HU3NsFabIcz4Kkp0Ag1_cough-shallow.wav\n",
      "[Copied] data\\raw\\healthy\\pvX8fr2fMcebtfWq2wXqyIp56PL2_cough-heavy.wav\n",
      "[Copied] data\\raw\\healthy\\pvX8fr2fMcebtfWq2wXqyIp56PL2_cough-shallow.wav\n",
      "[Copied] data\\raw\\healthy\\FIgw7gymskPu3RGgk3Q6GeSH7yB3_cough-heavy.wav\n",
      "[Copied] data\\raw\\healthy\\FIgw7gymskPu3RGgk3Q6GeSH7yB3_cough-shallow.wav\n",
      "[Copied] data\\raw\\healthy\\0zUxdfS5aoS6SiEoF1x6JXOk25B3_cough-heavy.wav\n",
      "[Copied] data\\raw\\healthy\\0zUxdfS5aoS6SiEoF1x6JXOk25B3_cough-shallow.wav\n",
      "[Copied] data\\raw\\healthy\\xuXF9GD5zhWX6SqjzWsrUWvevhh2_cough-heavy.wav\n",
      "[Copied] data\\raw\\healthy\\xuXF9GD5zhWX6SqjzWsrUWvevhh2_cough-shallow.wav\n",
      "[Copied] data\\raw\\healthy\\g2CeKxcydaSeP7WB3qIWjB8ZW8o1_cough-heavy.wav\n",
      "[Copied] data\\raw\\healthy\\g2CeKxcydaSeP7WB3qIWjB8ZW8o1_cough-shallow.wav\n",
      "[Copied] data\\raw\\healthy\\yZuoG6z3pRfycT6JKqwqKDMj4tM2_cough-heavy.wav\n",
      "[Copied] data\\raw\\healthy\\yZuoG6z3pRfycT6JKqwqKDMj4tM2_cough-shallow.wav\n",
      "[Copied] data\\raw\\healthy\\2suYua5dbdh2cSreNFm8flktMEc2_cough-heavy.wav\n",
      "[Copied] data\\raw\\healthy\\2suYua5dbdh2cSreNFm8flktMEc2_cough-shallow.wav\n",
      "[Copied] data\\raw\\healthy\\65JopCV7ExeP1scqYfg8nP5KjKy2_cough-heavy.wav\n",
      "[Copied] data\\raw\\healthy\\65JopCV7ExeP1scqYfg8nP5KjKy2_cough-shallow.wav\n",
      "[Copied] data\\raw\\healthy\\fuCq7eA5CPYcnRpJqc0hFSr8klr2_cough-heavy.wav\n",
      "[Copied] data\\raw\\healthy\\fuCq7eA5CPYcnRpJqc0hFSr8klr2_cough-shallow.wav\n",
      "[Copied] data\\raw\\healthy\\01OCEf1yB4czsq8ygRoT51s96Ba2_cough-heavy.wav\n",
      "[Copied] data\\raw\\healthy\\01OCEf1yB4czsq8ygRoT51s96Ba2_cough-shallow.wav\n",
      "[Copied] data\\raw\\healthy\\DmKc9V8ZeqQBMqOaGMDZ3mvRIY13_cough-heavy.wav\n",
      "[Copied] data\\raw\\healthy\\DmKc9V8ZeqQBMqOaGMDZ3mvRIY13_cough-shallow.wav\n",
      "[Copied] data\\raw\\healthy\\LziLApJbcWWu3MzbIL8k6mLdyFK2_cough-heavy.wav\n",
      "[Copied] data\\raw\\healthy\\LziLApJbcWWu3MzbIL8k6mLdyFK2_cough-shallow.wav\n",
      "[Copied] data\\raw\\healthy\\m6UxfLHv0nWKNqMZP2uNiGzXgKh2_cough-heavy.wav\n",
      "[Copied] data\\raw\\healthy\\m6UxfLHv0nWKNqMZP2uNiGzXgKh2_cough-shallow.wav\n",
      "[Copied] data\\raw\\healthy\\IG629UPMI0SQe0tpOKcTKCnQYr82_cough-heavy.wav\n",
      "[Copied] data\\raw\\healthy\\IG629UPMI0SQe0tpOKcTKCnQYr82_cough-shallow.wav\n",
      "[Copied] data\\raw\\healthy\\59dIvwH1JDU9pHbH1rc3FoVlJWl1_cough-heavy.wav\n",
      "[Copied] data\\raw\\healthy\\59dIvwH1JDU9pHbH1rc3FoVlJWl1_cough-shallow.wav\n",
      "[Copied] data\\raw\\healthy\\Tfvspm3rapd3ZLyAoMG36VxNQnr2_cough-heavy.wav\n",
      "[Copied] data\\raw\\healthy\\Tfvspm3rapd3ZLyAoMG36VxNQnr2_cough-shallow.wav\n",
      "[Copied] data\\raw\\healthy\\aU8pLZV1OUQJV0GKeeIlgWhYWeA2_cough-heavy.wav\n",
      "[Copied] data\\raw\\healthy\\aU8pLZV1OUQJV0GKeeIlgWhYWeA2_cough-shallow.wav\n",
      "[Copied] data\\raw\\healthy\\5q8gLM0yCrgGCT8F9fWlH4ycl1D3_cough-heavy.wav\n",
      "[Copied] data\\raw\\healthy\\5q8gLM0yCrgGCT8F9fWlH4ycl1D3_cough-shallow.wav\n",
      "[Copied] data\\raw\\healthy\\jppvqUD1X3VH39cGDRRlmhj4wu12_cough-heavy.wav\n",
      "[Copied] data\\raw\\healthy\\jppvqUD1X3VH39cGDRRlmhj4wu12_cough-shallow.wav\n",
      "[Copied] data\\raw\\healthy\\k0uQAYNhiUZvHePzPoWE9wUfBNk2_cough-heavy.wav\n",
      "[Copied] data\\raw\\healthy\\k0uQAYNhiUZvHePzPoWE9wUfBNk2_cough-shallow.wav\n",
      "[Copied] data\\raw\\healthy\\aNOpaVGqF7PiG5n1ln5B1VJnmCO2_cough-heavy.wav\n",
      "[Copied] data\\raw\\healthy\\aNOpaVGqF7PiG5n1ln5B1VJnmCO2_cough-shallow.wav\n",
      "[Copied] data\\raw\\healthy\\9LCBZHRlg3Nk6NMZHu7AZJ9Rju53_cough-heavy.wav\n",
      "[Copied] data\\raw\\healthy\\9LCBZHRlg3Nk6NMZHu7AZJ9Rju53_cough-shallow.wav\n",
      "[Copied] data\\raw\\healthy\\XzIjEtRHHPci6Zq0zb9Lx0d6zEr2_cough-heavy.wav\n",
      "[Copied] data\\raw\\healthy\\XzIjEtRHHPci6Zq0zb9Lx0d6zEr2_cough-shallow.wav\n",
      "[Copied] data\\raw\\healthy\\BNraT7TUj1ZHWnxzh3eVOM2CwIm1_cough-heavy.wav\n",
      "[Copied] data\\raw\\healthy\\BNraT7TUj1ZHWnxzh3eVOM2CwIm1_cough-shallow.wav\n",
      "[Copied] data\\raw\\healthy\\NRG3cVOEhsTaVQeeNG60tBv247Z2_cough-heavy.wav\n",
      "[Copied] data\\raw\\healthy\\NRG3cVOEhsTaVQeeNG60tBv247Z2_cough-shallow.wav\n",
      "[Copied] data\\raw\\healthy\\UhGuA2vn7sUfKJRENR472IxQaEu2_cough-heavy.wav\n",
      "[Copied] data\\raw\\healthy\\UhGuA2vn7sUfKJRENR472IxQaEu2_cough-shallow.wav\n",
      "[Copied] data\\raw\\healthy\\jaNAcGlkQvUYEcRFXm5gNwnOOn93_cough-heavy.wav\n",
      "[Copied] data\\raw\\healthy\\jaNAcGlkQvUYEcRFXm5gNwnOOn93_cough-shallow.wav\n",
      "[Copied] data\\raw\\healthy\\IVUrhfpO08QnE9S8UR1hk4DquTa2_cough-heavy.wav\n",
      "[Copied] data\\raw\\healthy\\IVUrhfpO08QnE9S8UR1hk4DquTa2_cough-shallow.wav\n",
      "[Copied] data\\raw\\healthy\\O9jPNdypMudWbGGiqtlgi4ae2er1_cough-heavy.wav\n",
      "[Copied] data\\raw\\healthy\\O9jPNdypMudWbGGiqtlgi4ae2er1_cough-shallow.wav\n",
      "[Copied] data\\raw\\healthy\\1pXSBzMeizcu5IpLAJUaYpmJyhB3_cough-heavy.wav\n",
      "[Copied] data\\raw\\healthy\\1pXSBzMeizcu5IpLAJUaYpmJyhB3_cough-shallow.wav\n",
      "[Copied] data\\raw\\healthy\\4EAxuOcgN5d81JCmqo2YxXlxYNL2_cough-heavy.wav\n",
      "[Copied] data\\raw\\healthy\\4EAxuOcgN5d81JCmqo2YxXlxYNL2_cough-shallow.wav\n",
      "[Copied] data\\raw\\healthy\\5CuTYRsGM5QRNjG7HejSHQh7ULi1_cough-heavy.wav\n",
      "[Copied] data\\raw\\healthy\\5CuTYRsGM5QRNjG7HejSHQh7ULi1_cough-shallow.wav\n",
      "[Copied] data\\raw\\healthy\\HltnpdE31PPFAFYRdJXRXokmdUF2_cough-heavy.wav\n",
      "[Copied] data\\raw\\healthy\\HltnpdE31PPFAFYRdJXRXokmdUF2_cough-shallow.wav\n",
      "[Copied] data\\raw\\healthy\\MbCfQyWYGIeZ5m0BCTeiM1oi7282_cough-heavy.wav\n",
      "[Copied] data\\raw\\healthy\\MbCfQyWYGIeZ5m0BCTeiM1oi7282_cough-shallow.wav\n",
      "[Copied] data\\raw\\healthy\\QOmSmWWvcLOxZgzrV4u04ByoebE2_cough-heavy.wav\n",
      "[Copied] data\\raw\\healthy\\QOmSmWWvcLOxZgzrV4u04ByoebE2_cough-shallow.wav\n",
      "[Copied] data\\raw\\healthy\\C1Jk83bZcXQM2lljEqVIr6OfMr83_cough-heavy.wav\n",
      "[Copied] data\\raw\\healthy\\C1Jk83bZcXQM2lljEqVIr6OfMr83_cough-shallow.wav\n",
      "[Copied] data\\raw\\healthy\\X7NBHQKdeDODKCzXwbmKdIbjIRG2_cough-heavy.wav\n",
      "[Copied] data\\raw\\healthy\\X7NBHQKdeDODKCzXwbmKdIbjIRG2_cough-shallow.wav\n",
      "[Copied] data\\raw\\healthy\\g1nDdvDWgDhgbVDyfl6NyFIfPAp2_cough-heavy.wav\n",
      "[Copied] data\\raw\\healthy\\g1nDdvDWgDhgbVDyfl6NyFIfPAp2_cough-shallow.wav\n",
      "[Copied] data\\raw\\healthy\\5eEXozx61BXKT71PLRaQASRcC832_cough-heavy.wav\n",
      "[Copied] data\\raw\\healthy\\5eEXozx61BXKT71PLRaQASRcC832_cough-shallow.wav\n",
      "[Copied] data\\raw\\healthy\\QC2olizheGbckya2rPjOWhn00vp1_cough-heavy.wav\n",
      "[Copied] data\\raw\\healthy\\QC2olizheGbckya2rPjOWhn00vp1_cough-shallow.wav\n",
      "[Copied] data\\raw\\healthy\\A6eyvPDHwBNMYFzA65XRMboV96s2_cough-heavy.wav\n",
      "[Copied] data\\raw\\healthy\\A6eyvPDHwBNMYFzA65XRMboV96s2_cough-shallow.wav\n",
      "[Copied] data\\raw\\healthy\\6IBOagmXVWPJaN48oiaAigwiDbw2_cough-heavy.wav\n",
      "[Copied] data\\raw\\healthy\\6IBOagmXVWPJaN48oiaAigwiDbw2_cough-shallow.wav\n",
      "[Copied] data\\raw\\healthy\\6sUnPQNXQCYawfmLL8Pg91UxoiI3_cough-heavy.wav\n",
      "[Copied] data\\raw\\healthy\\6sUnPQNXQCYawfmLL8Pg91UxoiI3_cough-shallow.wav\n",
      "[Copied] data\\raw\\healthy\\abpYyjmAQAMGlnyqXPGIL9lbnQo2_cough-heavy.wav\n",
      "[Copied] data\\raw\\healthy\\abpYyjmAQAMGlnyqXPGIL9lbnQo2_cough-shallow.wav\n",
      "[Copied] data\\raw\\healthy\\Na6w7stX7ocNYZPQW9MQAiM6mrw2_cough-heavy.wav\n",
      "[Copied] data\\raw\\healthy\\Na6w7stX7ocNYZPQW9MQAiM6mrw2_cough-shallow.wav\n",
      "[Copied] data\\raw\\healthy\\jSb7SyucSmTHhzs3qQoBExRMQZ02_cough-heavy.wav\n",
      "[Copied] data\\raw\\healthy\\jSb7SyucSmTHhzs3qQoBExRMQZ02_cough-shallow.wav\n",
      "[Copied] data\\raw\\healthy\\3LCqXTY14jROmsMpG3XkEiMJ9cD3_cough-heavy.wav\n",
      "[Copied] data\\raw\\healthy\\3LCqXTY14jROmsMpG3XkEiMJ9cD3_cough-shallow.wav\n",
      "[Copied] data\\raw\\healthy\\j0bgqdkBSRaRrpBmJLa1MkkKg593_cough-heavy.wav\n",
      "[Copied] data\\raw\\healthy\\j0bgqdkBSRaRrpBmJLa1MkkKg593_cough-shallow.wav\n",
      "[Copied] data\\raw\\healthy\\t0wrpS8L5WamJS9NhyjeHAqhaVv1_cough-heavy.wav\n",
      "[Copied] data\\raw\\healthy\\t0wrpS8L5WamJS9NhyjeHAqhaVv1_cough-shallow.wav\n",
      "[Copied] data\\raw\\healthy\\gyzIhontEeY2zHHaiy2zjZot6hg1_cough-heavy.wav\n",
      "[Copied] data\\raw\\healthy\\gyzIhontEeY2zHHaiy2zjZot6hg1_cough-shallow.wav\n",
      "[Copied] data\\raw\\healthy\\l57TNYomN4Z56eIotPFe6hN1Vgm2_cough-heavy.wav\n",
      "[Copied] data\\raw\\healthy\\l57TNYomN4Z56eIotPFe6hN1Vgm2_cough-shallow.wav\n",
      "[Copied] data\\raw\\healthy\\evcMtXUBFWS6bXPYqv7BXVfqFIc2_cough-heavy.wav\n",
      "[Copied] data\\raw\\healthy\\evcMtXUBFWS6bXPYqv7BXVfqFIc2_cough-shallow.wav\n",
      "[Copied] data\\raw\\healthy\\jRlVIgE9hofnOP2Lo8He6ebcecz1_cough-heavy.wav\n",
      "[Copied] data\\raw\\healthy\\jRlVIgE9hofnOP2Lo8He6ebcecz1_cough-shallow.wav\n",
      "[Copied] data\\raw\\healthy\\3Hi3v8KLYxXvAp9v1fuhKtaU44G2_cough-heavy.wav\n",
      "[Copied] data\\raw\\healthy\\3Hi3v8KLYxXvAp9v1fuhKtaU44G2_cough-shallow.wav\n",
      "[Copied] data\\raw\\healthy\\vw3Nw1Gmt3WA78SHAzJwelNRduv1_cough-heavy.wav\n",
      "[Copied] data\\raw\\healthy\\vw3Nw1Gmt3WA78SHAzJwelNRduv1_cough-shallow.wav\n",
      "[Copied] data\\raw\\healthy\\L6Bo4rMk15fKste9Gvn7ZyTB4qw2_cough-heavy.wav\n",
      "[Copied] data\\raw\\healthy\\L6Bo4rMk15fKste9Gvn7ZyTB4qw2_cough-shallow.wav\n",
      "[Copied] data\\raw\\healthy\\BRi5khF6PxMORMTOXjeS6r2dNqt1_cough-heavy.wav\n",
      "[Copied] data\\raw\\healthy\\BRi5khF6PxMORMTOXjeS6r2dNqt1_cough-shallow.wav\n",
      "[Copied] data\\raw\\healthy\\26xevAvhh4PSIz1ls0QAwwfz89i1_cough-heavy.wav\n",
      "[Copied] data\\raw\\healthy\\26xevAvhh4PSIz1ls0QAwwfz89i1_cough-shallow.wav\n",
      "[Copied] data\\raw\\healthy\\D1d4hc9MrgTDxgAhqpTgqOEJtLp2_cough-heavy.wav\n",
      "[Copied] data\\raw\\healthy\\D1d4hc9MrgTDxgAhqpTgqOEJtLp2_cough-shallow.wav\n",
      "[Copied] data\\raw\\healthy\\a1BWeGHqK6f0KyevbStawfUvvK83_cough-heavy.wav\n",
      "[Copied] data\\raw\\healthy\\a1BWeGHqK6f0KyevbStawfUvvK83_cough-shallow.wav\n",
      "[Copied] data\\raw\\healthy\\1j2LqFPOJIQ8nTlovQqNr6bdUMl1_cough-heavy.wav\n",
      "[Copied] data\\raw\\healthy\\1j2LqFPOJIQ8nTlovQqNr6bdUMl1_cough-shallow.wav\n",
      "[Copied] data\\raw\\healthy\\UYQqLbdvfMeQOnISZq4Okwuas6K2_cough-heavy.wav\n",
      "[Copied] data\\raw\\healthy\\UYQqLbdvfMeQOnISZq4Okwuas6K2_cough-shallow.wav\n",
      "[Copied] data\\raw\\healthy\\QKEe27GzshbGSIGQZ6nB6lpLb7l2_cough-heavy.wav\n",
      "[Copied] data\\raw\\healthy\\QKEe27GzshbGSIGQZ6nB6lpLb7l2_cough-shallow.wav\n",
      "[Copied] data\\raw\\healthy\\ArKST1jJWqRPPvdCu92MyQoGs762_cough-heavy.wav\n",
      "[Copied] data\\raw\\healthy\\ArKST1jJWqRPPvdCu92MyQoGs762_cough-shallow.wav\n",
      "[Copied] data\\raw\\healthy\\JLXdsKrUesSLpwUOMSqQFfYwtZ82_cough-heavy.wav\n",
      "[Copied] data\\raw\\healthy\\JLXdsKrUesSLpwUOMSqQFfYwtZ82_cough-shallow.wav\n",
      "[Copied] data\\raw\\healthy\\V3EIT06H4JN5KwoK8aGRXQNzGRi1_cough-heavy.wav\n",
      "[Copied] data\\raw\\healthy\\V3EIT06H4JN5KwoK8aGRXQNzGRi1_cough-shallow.wav\n",
      "[Copied] data\\raw\\healthy\\Qxlw2hDL29g1Sb9ZQO3XDPIG5Qr1_cough-heavy.wav\n",
      "[Copied] data\\raw\\healthy\\Qxlw2hDL29g1Sb9ZQO3XDPIG5Qr1_cough-shallow.wav\n",
      "[Copied] data\\raw\\healthy\\2j94Kg8TewQwjwbrRyto6seGsut1_cough-heavy.wav\n",
      "[Copied] data\\raw\\healthy\\2j94Kg8TewQwjwbrRyto6seGsut1_cough-shallow.wav\n",
      "[Copied] data\\raw\\healthy\\sSJoDuR1etTsr85E8wRfxIvfiCf1_cough-heavy.wav\n",
      "[Copied] data\\raw\\healthy\\sSJoDuR1etTsr85E8wRfxIvfiCf1_cough-shallow.wav\n",
      "[Copied] data\\raw\\healthy\\0KOy96zEUfdMY4rZzwrDT0gMPDa2_cough-heavy.wav\n",
      "[Copied] data\\raw\\healthy\\0KOy96zEUfdMY4rZzwrDT0gMPDa2_cough-shallow.wav\n",
      "[Copied] data\\raw\\healthy\\E3X8YtvZzYZiXwBevZEAByJc2v63_cough-heavy.wav\n",
      "[Copied] data\\raw\\healthy\\E3X8YtvZzYZiXwBevZEAByJc2v63_cough-shallow.wav\n",
      "[Copied] data\\raw\\healthy\\3OQBJD8fnBepqWPGQT3eTozrhLn1_cough-heavy.wav\n",
      "[Copied] data\\raw\\healthy\\3OQBJD8fnBepqWPGQT3eTozrhLn1_cough-shallow.wav\n",
      "[Copied] data\\raw\\healthy\\yHn6UxlPk8RvWZ3X5jrTa89CPwG2_cough-heavy.wav\n",
      "[Copied] data\\raw\\healthy\\yHn6UxlPk8RvWZ3X5jrTa89CPwG2_cough-shallow.wav\n",
      "[Copied] data\\raw\\healthy\\M1RgcbGDbWbsxNkmPHlrh9J9n572_cough-heavy.wav\n",
      "[Copied] data\\raw\\healthy\\M1RgcbGDbWbsxNkmPHlrh9J9n572_cough-shallow.wav\n",
      "[Copied] data\\raw\\healthy\\LwOBSX8F07Z5HgRGLFS3aOQEVKk2_cough-heavy.wav\n",
      "[Copied] data\\raw\\healthy\\LwOBSX8F07Z5HgRGLFS3aOQEVKk2_cough-shallow.wav\n",
      "[Copied] data\\raw\\healthy\\YjUO0QbUUAUJyUfgApL52jRs8Z52_cough-heavy.wav\n",
      "[Copied] data\\raw\\healthy\\YjUO0QbUUAUJyUfgApL52jRs8Z52_cough-shallow.wav\n",
      "[Copied] data\\raw\\healthy\\w51QbggHBvVnSSNG5tsEgScigyF3_cough-heavy.wav\n",
      "[Copied] data\\raw\\healthy\\w51QbggHBvVnSSNG5tsEgScigyF3_cough-shallow.wav\n",
      "[Copied] data\\raw\\healthy\\PfuMI67JW2h6z4MsRDegrhZ8FSH2_cough-heavy.wav\n",
      "[Copied] data\\raw\\healthy\\PfuMI67JW2h6z4MsRDegrhZ8FSH2_cough-shallow.wav\n",
      "[Copied] data\\raw\\healthy\\NBD8pzxLyyYZs8wul5W6UUKBZbz1_cough-heavy.wav\n",
      "[Copied] data\\raw\\healthy\\NBD8pzxLyyYZs8wul5W6UUKBZbz1_cough-shallow.wav\n",
      "[Copied] data\\raw\\healthy\\xO54amKmQMQwbMoSbmADa6Wa2kK2_cough-heavy.wav\n",
      "[Copied] data\\raw\\healthy\\xO54amKmQMQwbMoSbmADa6Wa2kK2_cough-shallow.wav\n",
      "[Copied] data\\raw\\healthy\\1kj3twlB9PcVyePxzqNGwnkYZZx2_cough-heavy.wav\n",
      "[Copied] data\\raw\\healthy\\1kj3twlB9PcVyePxzqNGwnkYZZx2_cough-shallow.wav\n",
      "[Copied] data\\raw\\healthy\\QX7F5dwjZKPahv2qzqpSSBIyHXg2_cough-heavy.wav\n",
      "[Copied] data\\raw\\healthy\\QX7F5dwjZKPahv2qzqpSSBIyHXg2_cough-shallow.wav\n",
      "[Copied] data\\raw\\healthy\\VGh9wqs8iDXHhUdrA12VtBhN1lJ3_cough-heavy.wav\n",
      "[Copied] data\\raw\\healthy\\VGh9wqs8iDXHhUdrA12VtBhN1lJ3_cough-shallow.wav\n",
      "[Copied] data\\raw\\healthy\\w8GzYkRUeuVtuONdQbOrrFefVco1_cough-heavy.wav\n",
      "[Copied] data\\raw\\healthy\\w8GzYkRUeuVtuONdQbOrrFefVco1_cough-shallow.wav\n",
      "[Copied] data\\raw\\healthy\\f9g4olEAspen4dJakQJsI2EME032_cough-heavy.wav\n",
      "[Copied] data\\raw\\healthy\\f9g4olEAspen4dJakQJsI2EME032_cough-shallow.wav\n",
      "[Copied] data\\raw\\healthy\\Qs7OP1Hyo6Y4ZE2s4aZyZ3Ew6r62_cough-heavy.wav\n",
      "[Copied] data\\raw\\healthy\\Qs7OP1Hyo6Y4ZE2s4aZyZ3Ew6r62_cough-shallow.wav\n",
      "[Copied] data\\raw\\healthy\\ZbFodPVPEZMK0DaH4J74kowt1d53_cough-heavy.wav\n",
      "[Copied] data\\raw\\healthy\\ZbFodPVPEZMK0DaH4J74kowt1d53_cough-shallow.wav\n",
      "[Copied] data\\raw\\healthy\\FQ9gUWPXRGc9z7Q4f3tMojFVrR82_cough-heavy.wav\n",
      "[Copied] data\\raw\\healthy\\FQ9gUWPXRGc9z7Q4f3tMojFVrR82_cough-shallow.wav\n",
      "[Copied] data\\raw\\healthy\\nkSUWnQgO0Tn7flFkVp7CrdsatW2_cough-heavy.wav\n",
      "[Copied] data\\raw\\healthy\\nkSUWnQgO0Tn7flFkVp7CrdsatW2_cough-shallow.wav\n",
      "[Copied] data\\raw\\healthy\\wwedtVmUE2dHLXmCHaIXW4uGRmq2_cough-heavy.wav\n",
      "[Copied] data\\raw\\healthy\\wwedtVmUE2dHLXmCHaIXW4uGRmq2_cough-shallow.wav\n",
      "[Copied] data\\raw\\healthy\\9LGZxIxgbgSheKov7FzsNcFIu4v1_cough-heavy.wav\n",
      "[Copied] data\\raw\\healthy\\9LGZxIxgbgSheKov7FzsNcFIu4v1_cough-shallow.wav\n",
      "[Copied] data\\raw\\healthy\\zAdXj9IixzaM6KUwFYIhXbNJnJ42_cough-heavy.wav\n",
      "[Copied] data\\raw\\healthy\\zAdXj9IixzaM6KUwFYIhXbNJnJ42_cough-shallow.wav\n",
      "[Copied] data\\raw\\healthy\\UJkJrzKjH6UQRZF7eHhUQVQwCHB2_cough-heavy.wav\n",
      "[Copied] data\\raw\\healthy\\UJkJrzKjH6UQRZF7eHhUQVQwCHB2_cough-shallow.wav\n",
      "[Copied] data\\raw\\healthy\\aisIUPkXXdQv8nvNAjeJb8cebOq2_cough-heavy.wav\n",
      "[Copied] data\\raw\\healthy\\aisIUPkXXdQv8nvNAjeJb8cebOq2_cough-shallow.wav\n",
      "[Copied] data\\raw\\healthy\\u1G8LRJRwyUWNf8J9McgKGyfQJ33_cough-heavy.wav\n",
      "[Copied] data\\raw\\healthy\\u1G8LRJRwyUWNf8J9McgKGyfQJ33_cough-shallow.wav\n",
      "[Copied] data\\raw\\healthy\\g0gdNMhQIbUlZRTod20TdtqafgJ3_cough-heavy.wav\n",
      "[Copied] data\\raw\\healthy\\g0gdNMhQIbUlZRTod20TdtqafgJ3_cough-shallow.wav\n",
      "[Copied] data\\raw\\healthy\\dosEoi5rKRVXDZzENH1QpxCfPWu1_cough-heavy.wav\n",
      "[Copied] data\\raw\\healthy\\dosEoi5rKRVXDZzENH1QpxCfPWu1_cough-shallow.wav\n",
      "[Copied] data\\raw\\healthy\\YXqC5B7h7iQZH3RubUFG6SBvZ5L2_cough-heavy.wav\n",
      "[Copied] data\\raw\\healthy\\YXqC5B7h7iQZH3RubUFG6SBvZ5L2_cough-shallow.wav\n",
      "[Copied] data\\raw\\healthy\\TIFqRMyFsNVEYSMu9P05PF5N2Px1_cough-heavy.wav\n",
      "[Copied] data\\raw\\healthy\\TIFqRMyFsNVEYSMu9P05PF5N2Px1_cough-shallow.wav\n",
      "[Copied] data\\raw\\healthy\\1woiacXdMmXUQiMWESqr83uk1NV2_cough-heavy.wav\n",
      "[Copied] data\\raw\\healthy\\1woiacXdMmXUQiMWESqr83uk1NV2_cough-shallow.wav\n",
      "[Copied] data\\raw\\healthy\\cxchnGnCHJQ3Tjqn5faj2Sfqa0e2_cough-heavy.wav\n",
      "[Copied] data\\raw\\healthy\\cxchnGnCHJQ3Tjqn5faj2Sfqa0e2_cough-shallow.wav\n",
      "[Copied] data\\raw\\healthy\\JtJEMsy1XPalUgUWmzkLyq9LWbI2_cough-heavy.wav\n",
      "[Copied] data\\raw\\healthy\\JtJEMsy1XPalUgUWmzkLyq9LWbI2_cough-shallow.wav\n",
      "[Copied] data\\raw\\healthy\\wq5WR6X7egP0MydXWR8nqSpHqq12_cough-heavy.wav\n",
      "[Copied] data\\raw\\healthy\\wq5WR6X7egP0MydXWR8nqSpHqq12_cough-shallow.wav\n",
      "[Copied] data\\raw\\healthy\\meYzBgsbbHT9rLhVNx4SYzjRYjK2_cough-heavy.wav\n",
      "[Copied] data\\raw\\healthy\\meYzBgsbbHT9rLhVNx4SYzjRYjK2_cough-shallow.wav\n",
      "[Copied] data\\raw\\healthy\\LVfs0kH8h3YRSg7J3Y8g3ufC3a53_cough-heavy.wav\n",
      "[Copied] data\\raw\\healthy\\LVfs0kH8h3YRSg7J3Y8g3ufC3a53_cough-shallow.wav\n",
      "[Copied] data\\raw\\healthy\\78UvO8TmtycKb98kr2eXeDdLpST2_cough-heavy.wav\n",
      "[Copied] data\\raw\\healthy\\78UvO8TmtycKb98kr2eXeDdLpST2_cough-shallow.wav\n",
      "[Copied] data\\raw\\healthy\\FNjPKyX47sUuQlzMc1urJ3VB3YE3_cough-heavy.wav\n",
      "[Copied] data\\raw\\healthy\\FNjPKyX47sUuQlzMc1urJ3VB3YE3_cough-shallow.wav\n",
      "[Copied] data\\raw\\healthy\\KqhQ8Eo62fYCdBse8NiW1BYCtxp1_cough-heavy.wav\n",
      "[Copied] data\\raw\\healthy\\KqhQ8Eo62fYCdBse8NiW1BYCtxp1_cough-shallow.wav\n",
      "[Copied] data\\raw\\healthy\\1Vm44aluw7PMy2mfETHc3MvwQxx1_cough-heavy.wav\n",
      "[Copied] data\\raw\\healthy\\1Vm44aluw7PMy2mfETHc3MvwQxx1_cough-shallow.wav\n",
      "[Copied] data\\raw\\healthy\\hkbGDo0CbGUStRblqwQj7KJc5lk2_cough-heavy.wav\n",
      "[Copied] data\\raw\\healthy\\hkbGDo0CbGUStRblqwQj7KJc5lk2_cough-shallow.wav\n",
      "[Copied] data\\raw\\healthy\\PmbK8Rb4ohNWp4KwTtlU8xzxFGs2_cough-heavy.wav\n",
      "[Copied] data\\raw\\healthy\\PmbK8Rb4ohNWp4KwTtlU8xzxFGs2_cough-shallow.wav\n",
      "[Copied] data\\raw\\healthy\\bEzlLV5ZV3fSBFl6JLs1e0t3GEG2_cough-heavy.wav\n",
      "[Copied] data\\raw\\healthy\\bEzlLV5ZV3fSBFl6JLs1e0t3GEG2_cough-shallow.wav\n",
      "[Copied] data\\raw\\healthy\\779c1GiOSsSsxsi1PrMGXwOrIuo2_cough-heavy.wav\n",
      "[Copied] data\\raw\\healthy\\779c1GiOSsSsxsi1PrMGXwOrIuo2_cough-shallow.wav\n",
      "[Copied] data\\raw\\healthy\\CFwFsoyLtGUxPNPw5vMD7cznAnO2_cough-heavy.wav\n",
      "[Copied] data\\raw\\healthy\\CFwFsoyLtGUxPNPw5vMD7cznAnO2_cough-shallow.wav\n",
      "[Copied] data\\raw\\healthy\\bGAOAliULjMQIFSvoMFuNCedl582_cough-heavy.wav\n",
      "[Copied] data\\raw\\healthy\\bGAOAliULjMQIFSvoMFuNCedl582_cough-shallow.wav\n",
      "[Copied] data\\raw\\healthy\\P8Qw2Prg2BRb7H72PbY3Dftp9Rv2_cough-heavy.wav\n",
      "[Copied] data\\raw\\healthy\\P8Qw2Prg2BRb7H72PbY3Dftp9Rv2_cough-shallow.wav\n",
      "[Copied] data\\raw\\healthy\\85XodgEaKrPebeSPsJo2UFaDlWj1_cough-heavy.wav\n",
      "[Copied] data\\raw\\healthy\\85XodgEaKrPebeSPsJo2UFaDlWj1_cough-shallow.wav\n",
      "[Copied] data\\raw\\healthy\\AeJcnB6Pl6ayw2YL7whgWyYSVnz2_cough-heavy.wav\n",
      "[Copied] data\\raw\\healthy\\AeJcnB6Pl6ayw2YL7whgWyYSVnz2_cough-shallow.wav\n",
      "[Copied] data\\raw\\healthy\\DpU572tPYaXZXMglBud6sRIaq8y2_cough-heavy.wav\n",
      "[Copied] data\\raw\\healthy\\DpU572tPYaXZXMglBud6sRIaq8y2_cough-shallow.wav\n",
      "[Copied] data\\raw\\healthy\\cAqSJ74dT8S95pUV3nj98Pp12cp1_cough-heavy.wav\n",
      "[Copied] data\\raw\\healthy\\cAqSJ74dT8S95pUV3nj98Pp12cp1_cough-shallow.wav\n",
      "[Copied] data\\raw\\healthy\\HmsAhPiHhiQOnvXYXzZ5u5qFqLq1_cough-heavy.wav\n",
      "[Copied] data\\raw\\healthy\\HmsAhPiHhiQOnvXYXzZ5u5qFqLq1_cough-shallow.wav\n",
      "[Copied] data\\raw\\healthy\\PaLptWlM9gTtp7lUybcAaXGkqhj2_cough-heavy.wav\n",
      "[Copied] data\\raw\\healthy\\PaLptWlM9gTtp7lUybcAaXGkqhj2_cough-shallow.wav\n",
      "[Copied] data\\raw\\healthy\\HxbOUFGbq4fKbs0nTLUQ5UmlZ9y2_cough-heavy.wav\n",
      "[Copied] data\\raw\\healthy\\HxbOUFGbq4fKbs0nTLUQ5UmlZ9y2_cough-shallow.wav\n",
      "[Copied] data\\raw\\healthy\\6VbC2mWfKiWVQPL1tHVmG5eCkua2_cough-heavy.wav\n",
      "[Copied] data\\raw\\healthy\\6VbC2mWfKiWVQPL1tHVmG5eCkua2_cough-shallow.wav\n",
      "[Copied] data\\raw\\healthy\\rJtkSijv5ROjzB6LHN1XCAfe9752_cough-heavy.wav\n",
      "[Copied] data\\raw\\healthy\\rJtkSijv5ROjzB6LHN1XCAfe9752_cough-shallow.wav\n",
      "[Copied] data\\raw\\healthy\\IxdOYraXjNXf620JP1hexb3YDJ93_cough-heavy.wav\n",
      "[Copied] data\\raw\\healthy\\IxdOYraXjNXf620JP1hexb3YDJ93_cough-shallow.wav\n",
      "[Copied] data\\raw\\healthy\\R1wbQWmviENBtOcugCHjcmvRl6o2_cough-heavy.wav\n",
      "[Copied] data\\raw\\healthy\\R1wbQWmviENBtOcugCHjcmvRl6o2_cough-shallow.wav\n",
      "[Copied] data\\raw\\healthy\\rjI1qyc5W6RkajiRcmde0VISAIF3_cough-heavy.wav\n",
      "[Copied] data\\raw\\healthy\\rjI1qyc5W6RkajiRcmde0VISAIF3_cough-shallow.wav\n",
      "[Copied] data\\raw\\healthy\\ZnfFHbrHryWzAq27TCTQtY7uWTm1_cough-heavy.wav\n",
      "[Copied] data\\raw\\healthy\\ZnfFHbrHryWzAq27TCTQtY7uWTm1_cough-shallow.wav\n",
      "[Copied] data\\raw\\healthy\\vBRMIg1ACdeSAFmcWnII6ZkDefV2_cough-heavy.wav\n",
      "[Copied] data\\raw\\healthy\\vBRMIg1ACdeSAFmcWnII6ZkDefV2_cough-shallow.wav\n",
      "[Copied] data\\raw\\healthy\\SiEdfz3YnndtOTlm8CIVK4YQcg42_cough-heavy.wav\n",
      "[Copied] data\\raw\\healthy\\SiEdfz3YnndtOTlm8CIVK4YQcg42_cough-shallow.wav\n",
      "[Copied] data\\raw\\healthy\\EcO51zxmIHcVtAUlxnvO6wA8JcR2_cough-heavy.wav\n",
      "[Copied] data\\raw\\healthy\\EcO51zxmIHcVtAUlxnvO6wA8JcR2_cough-shallow.wav\n",
      "[Copied] data\\raw\\healthy\\3PIiY2eRLVUN4Tba0a8ZN5W6frA3_cough-heavy.wav\n",
      "[Copied] data\\raw\\healthy\\3PIiY2eRLVUN4Tba0a8ZN5W6frA3_cough-shallow.wav\n",
      "[Copied] data\\raw\\healthy\\0gB18cWHioTobGuU3qVE0QV5mBN2_cough-heavy.wav\n",
      "[Copied] data\\raw\\healthy\\0gB18cWHioTobGuU3qVE0QV5mBN2_cough-shallow.wav\n",
      "[Copied] data\\raw\\healthy\\zNNcSmfHhTbjLm5NcVmrOAf5C2j2_cough-heavy.wav\n",
      "[Copied] data\\raw\\healthy\\zNNcSmfHhTbjLm5NcVmrOAf5C2j2_cough-shallow.wav\n",
      "[Copied] data\\raw\\healthy\\33uBb3ZF1NekffyAZpRdmyP0KHH2_cough-heavy.wav\n",
      "[Copied] data\\raw\\healthy\\33uBb3ZF1NekffyAZpRdmyP0KHH2_cough-shallow.wav\n",
      "[Copied] data\\raw\\healthy\\eu2Hm19FIUhs68KsWGAlCQ4WVc43_cough-heavy.wav\n",
      "[Copied] data\\raw\\healthy\\eu2Hm19FIUhs68KsWGAlCQ4WVc43_cough-shallow.wav\n",
      "[Copied] data\\raw\\healthy\\vdaDi7xUoVepm15b98az1F6RN1e2_cough-heavy.wav\n",
      "[Copied] data\\raw\\healthy\\vdaDi7xUoVepm15b98az1F6RN1e2_cough-shallow.wav\n",
      "[Copied] data\\raw\\healthy\\GZM32y1Sy6X9D9hfrrvpTdPfmoV2_cough-heavy.wav\n",
      "[Copied] data\\raw\\healthy\\GZM32y1Sy6X9D9hfrrvpTdPfmoV2_cough-shallow.wav\n",
      "[Copied] data\\raw\\healthy\\pbXQf83tO4bPFQ0UZjs9HDE7i7r1_cough-heavy.wav\n",
      "[Copied] data\\raw\\healthy\\pbXQf83tO4bPFQ0UZjs9HDE7i7r1_cough-shallow.wav\n",
      "[Copied] data\\raw\\healthy\\AdRRprqo5ZUuLMOPs61ZKS6vrdU2_cough-heavy.wav\n",
      "[Copied] data\\raw\\healthy\\AdRRprqo5ZUuLMOPs61ZKS6vrdU2_cough-shallow.wav\n",
      "[Copied] data\\raw\\healthy\\fMi5uNWoboXWzfIDskyLCl8HHxH3_cough-heavy.wav\n",
      "[Copied] data\\raw\\healthy\\fMi5uNWoboXWzfIDskyLCl8HHxH3_cough-shallow.wav\n",
      "[Copied] data\\raw\\healthy\\dxKWK5iTjWdjch9zRGCnc7R0eeq2_cough-heavy.wav\n",
      "[Copied] data\\raw\\healthy\\dxKWK5iTjWdjch9zRGCnc7R0eeq2_cough-shallow.wav\n",
      "[Copied] data\\raw\\healthy\\h0XfL2JtCLb7hgupJ7lLQJ0fzgF2_cough-heavy.wav\n",
      "[Copied] data\\raw\\healthy\\h0XfL2JtCLb7hgupJ7lLQJ0fzgF2_cough-shallow.wav\n",
      "[Copied] data\\raw\\healthy\\jFtviHrZKLUXECg7rQPRt16g0zv1_cough-heavy.wav\n",
      "[Copied] data\\raw\\healthy\\jFtviHrZKLUXECg7rQPRt16g0zv1_cough-shallow.wav\n",
      "[Copied] data\\raw\\healthy\\qje01PDBImMG8VBE3hnyw4GbJ7W2_cough-heavy.wav\n",
      "[Copied] data\\raw\\healthy\\qje01PDBImMG8VBE3hnyw4GbJ7W2_cough-shallow.wav\n",
      "[Copied] data\\raw\\healthy\\j0q8isyOE2akw5RDUOV9whSwNDW2_cough-heavy.wav\n",
      "[Copied] data\\raw\\healthy\\j0q8isyOE2akw5RDUOV9whSwNDW2_cough-shallow.wav\n",
      "[Copied] data\\raw\\healthy\\269e2kDksfRXKVHNXf4ACl9JUVm1_cough-heavy.wav\n",
      "[Copied] data\\raw\\healthy\\269e2kDksfRXKVHNXf4ACl9JUVm1_cough-shallow.wav\n",
      "[Copied] data\\raw\\healthy\\H0tBSJN5l8db5f6xB2yMm6QxjFO2_cough-heavy.wav\n",
      "[Copied] data\\raw\\healthy\\H0tBSJN5l8db5f6xB2yMm6QxjFO2_cough-shallow.wav\n",
      "[Copied] data\\raw\\healthy\\CZT9HTBNgaQrTVKBjIBUtlu6Dgx1_cough-heavy.wav\n",
      "[Copied] data\\raw\\healthy\\CZT9HTBNgaQrTVKBjIBUtlu6Dgx1_cough-shallow.wav\n",
      "[Copied] data\\raw\\healthy\\IH5AenjC1DTmH4Rw4PhvnaKHbmw2_cough-heavy.wav\n",
      "[Copied] data\\raw\\healthy\\IH5AenjC1DTmH4Rw4PhvnaKHbmw2_cough-shallow.wav\n",
      "[Copied] data\\raw\\healthy\\QlMu7Fl8iIgOZM3QHEOzOJY6npH3_cough-heavy.wav\n",
      "[Copied] data\\raw\\healthy\\QlMu7Fl8iIgOZM3QHEOzOJY6npH3_cough-shallow.wav\n",
      "[Copied] data\\raw\\healthy\\9esRO6MV7jhuNNWR9i0j6gBrkXG2_cough-heavy.wav\n",
      "[Copied] data\\raw\\healthy\\9esRO6MV7jhuNNWR9i0j6gBrkXG2_cough-shallow.wav\n",
      "[Copied] data\\raw\\healthy\\5JO89F9hCpVbVFy7jFqPKtVRyIV2_cough-heavy.wav\n",
      "[Copied] data\\raw\\healthy\\5JO89F9hCpVbVFy7jFqPKtVRyIV2_cough-shallow.wav\n",
      "[Copied] data\\raw\\healthy\\GWjZnz8QWXXGzHLaG0HNHFyeZgS2_cough-heavy.wav\n",
      "[Copied] data\\raw\\healthy\\GWjZnz8QWXXGzHLaG0HNHFyeZgS2_cough-shallow.wav\n",
      "[Copied] data\\raw\\healthy\\giXzRAAuoRRAg7xQ9Y56DX0FVDr1_cough-heavy.wav\n",
      "[Copied] data\\raw\\healthy\\giXzRAAuoRRAg7xQ9Y56DX0FVDr1_cough-shallow.wav\n",
      "[Copied] data\\raw\\healthy\\GKhkkTlN0PdIgHoEtwXlRlCqMd13_cough-heavy.wav\n",
      "[Copied] data\\raw\\healthy\\GKhkkTlN0PdIgHoEtwXlRlCqMd13_cough-shallow.wav\n",
      "[Copied] data\\raw\\healthy\\ByeE6FPls3S20RP7vxsLDkmqpA32_cough-heavy.wav\n",
      "[Copied] data\\raw\\healthy\\ByeE6FPls3S20RP7vxsLDkmqpA32_cough-shallow.wav\n",
      "[Copied] data\\raw\\healthy\\9qXBPCugOSe0Yl1GhThi1kCVZDD2_cough-heavy.wav\n",
      "[Copied] data\\raw\\healthy\\9qXBPCugOSe0Yl1GhThi1kCVZDD2_cough-shallow.wav\n",
      "[Copied] data\\raw\\healthy\\StMoprM57wPyrUs5p0s78r1X0Qt1_cough-heavy.wav\n",
      "[Copied] data\\raw\\healthy\\StMoprM57wPyrUs5p0s78r1X0Qt1_cough-shallow.wav\n",
      "[Copied] data\\raw\\healthy\\95XA3QmnULQ1KPlcdw4RDDKnBhH2_cough-heavy.wav\n",
      "[Copied] data\\raw\\healthy\\95XA3QmnULQ1KPlcdw4RDDKnBhH2_cough-shallow.wav\n",
      "[Copied] data\\raw\\healthy\\mX9OLV39QwhCicc7VLqQyniNdU63_cough-heavy.wav\n",
      "[Copied] data\\raw\\healthy\\mX9OLV39QwhCicc7VLqQyniNdU63_cough-shallow.wav\n",
      "[Copied] data\\raw\\healthy\\RXZtiZlgDxObuYr4m2s8eSavVg72_cough-heavy.wav\n",
      "[Copied] data\\raw\\healthy\\RXZtiZlgDxObuYr4m2s8eSavVg72_cough-shallow.wav\n",
      "[Copied] data\\raw\\healthy\\fYjYHeLgCOUf5m1f8EAgGDol5G73_cough-heavy.wav\n",
      "[Copied] data\\raw\\healthy\\fYjYHeLgCOUf5m1f8EAgGDol5G73_cough-shallow.wav\n",
      "[Copied] data\\raw\\healthy\\VB3X18XtrRdSVJ8zDzdyKohlX2F2_cough-heavy.wav\n",
      "[Copied] data\\raw\\healthy\\VB3X18XtrRdSVJ8zDzdyKohlX2F2_cough-shallow.wav\n",
      "[Copied] data\\raw\\healthy\\0c00ybTdnIRUTXeg20bZjJOzhKv1_cough-heavy.wav\n",
      "[Copied] data\\raw\\healthy\\0c00ybTdnIRUTXeg20bZjJOzhKv1_cough-shallow.wav\n",
      "[Copied] data\\raw\\healthy\\Z7ZMrrVuJKSK1JEfLQjxGXI1VTq1_cough-heavy.wav\n",
      "[Copied] data\\raw\\healthy\\Z7ZMrrVuJKSK1JEfLQjxGXI1VTq1_cough-shallow.wav\n",
      "[Copied] data\\raw\\healthy\\YR33hHou5PgrLYv2L1mLzHE4na12_cough-heavy.wav\n",
      "[Copied] data\\raw\\healthy\\YR33hHou5PgrLYv2L1mLzHE4na12_cough-shallow.wav\n",
      "[Copied] data\\raw\\healthy\\stnT0xsBXhb159fZrbzN9kwAKvF2_cough-heavy.wav\n",
      "[Copied] data\\raw\\healthy\\stnT0xsBXhb159fZrbzN9kwAKvF2_cough-shallow.wav\n",
      "[Copied] data\\raw\\healthy\\v8s9qaC0OZbY4OXHQBR5Nb0juq52_cough-heavy.wav\n",
      "[Copied] data\\raw\\healthy\\v8s9qaC0OZbY4OXHQBR5Nb0juq52_cough-shallow.wav\n",
      "[Copied] data\\raw\\healthy\\odZaQSfT6QRKhAhPRikjU7y7L9Q2_cough-heavy.wav\n",
      "[Copied] data\\raw\\healthy\\odZaQSfT6QRKhAhPRikjU7y7L9Q2_cough-shallow.wav\n",
      "[Copied] data\\raw\\healthy\\Fuj8ConlkeNoRot2tyMMyzYCKfo2_cough-heavy.wav\n",
      "[Copied] data\\raw\\healthy\\Fuj8ConlkeNoRot2tyMMyzYCKfo2_cough-shallow.wav\n",
      "[Copied] data\\raw\\healthy\\yS7pj7vgWyMU5nqgYXglXiTcW9A2_cough-heavy.wav\n",
      "[Copied] data\\raw\\healthy\\yS7pj7vgWyMU5nqgYXglXiTcW9A2_cough-shallow.wav\n",
      "[Copied] data\\raw\\healthy\\f4wYeTyCImQ0BQiwBOlScS9C2H03_cough-heavy.wav\n",
      "[Copied] data\\raw\\healthy\\f4wYeTyCImQ0BQiwBOlScS9C2H03_cough-shallow.wav\n",
      "[Copied] data\\raw\\healthy\\sW80fLKGSiXcPBKFwnwRaaRdPKX2_cough-heavy.wav\n",
      "[Copied] data\\raw\\healthy\\sW80fLKGSiXcPBKFwnwRaaRdPKX2_cough-shallow.wav\n",
      "[Copied] data\\raw\\healthy\\6WVdsp5LDLRRfYrfiR4BU2G6wve2_cough-heavy.wav\n",
      "[Copied] data\\raw\\healthy\\6WVdsp5LDLRRfYrfiR4BU2G6wve2_cough-shallow.wav\n",
      "[Copied] data\\raw\\healthy\\jaRfWYxsWjV2L833wIIyuivEWFG3_cough-heavy.wav\n",
      "[Copied] data\\raw\\healthy\\jaRfWYxsWjV2L833wIIyuivEWFG3_cough-shallow.wav\n",
      "[Copied] data\\raw\\healthy\\nlKBKSlza3VwbasF1voiECoUs6d2_cough-heavy.wav\n",
      "[Copied] data\\raw\\healthy\\nlKBKSlza3VwbasF1voiECoUs6d2_cough-shallow.wav\n",
      "[Copied] data\\raw\\healthy\\Ms3fiiaGeta2PNzjXEE3iMBmh1h1_cough-heavy.wav\n",
      "[Copied] data\\raw\\healthy\\Ms3fiiaGeta2PNzjXEE3iMBmh1h1_cough-shallow.wav\n",
      "[Copied] data\\raw\\healthy\\w1JLuqfRlwcQjnvBRZgdSo89zoz2_cough-heavy.wav\n",
      "[Copied] data\\raw\\healthy\\w1JLuqfRlwcQjnvBRZgdSo89zoz2_cough-shallow.wav\n",
      "[Copied] data\\raw\\healthy\\HqILRgOnPoYTBOwV923xNysDhA82_cough-heavy.wav\n",
      "[Copied] data\\raw\\healthy\\HqILRgOnPoYTBOwV923xNysDhA82_cough-shallow.wav\n",
      "[Copied] data\\raw\\healthy\\RNnxsLNUWPeqrfpPcDb4b903fpj2_cough-heavy.wav\n",
      "[Copied] data\\raw\\healthy\\RNnxsLNUWPeqrfpPcDb4b903fpj2_cough-shallow.wav\n",
      "[Copied] data\\raw\\healthy\\5ohNPSLiNWRs1vvHxKBj9odGFXl1_cough-heavy.wav\n",
      "[Copied] data\\raw\\healthy\\5ohNPSLiNWRs1vvHxKBj9odGFXl1_cough-shallow.wav\n",
      "[Copied] data\\raw\\healthy\\UTqsNsZQCThhJduOChbctH76Avj2_cough-heavy.wav\n",
      "[Copied] data\\raw\\healthy\\UTqsNsZQCThhJduOChbctH76Avj2_cough-shallow.wav\n",
      "[Copied] data\\raw\\healthy\\mLARvz7XxoODpubk3Q53K562JVf2_cough-heavy.wav\n",
      "[Copied] data\\raw\\healthy\\mLARvz7XxoODpubk3Q53K562JVf2_cough-shallow.wav\n",
      "[Copied] data\\raw\\healthy\\iu13CF47sRTOnPlhkzTszNkqAZ83_cough-heavy.wav\n",
      "[Copied] data\\raw\\healthy\\iu13CF47sRTOnPlhkzTszNkqAZ83_cough-shallow.wav\n",
      "[Copied] data\\raw\\healthy\\YPqxeCMKNuMVhEg9xQPA4hD8dQC2_cough-heavy.wav\n",
      "[Copied] data\\raw\\healthy\\YPqxeCMKNuMVhEg9xQPA4hD8dQC2_cough-shallow.wav\n",
      "[Copied] data\\raw\\healthy\\ZiwS2q40gsX5X7pMp0y30PUFpE93_cough-heavy.wav\n",
      "[Copied] data\\raw\\healthy\\ZiwS2q40gsX5X7pMp0y30PUFpE93_cough-shallow.wav\n",
      "[Copied] data\\raw\\healthy\\Z5Y8ewskqQWeyIFkqRKuwGz9fCv1_cough-heavy.wav\n",
      "[Copied] data\\raw\\healthy\\Z5Y8ewskqQWeyIFkqRKuwGz9fCv1_cough-shallow.wav\n",
      "[Copied] data\\raw\\healthy\\xMOI1306iZMtFQ5FCNcYraYUSDA3_cough-heavy.wav\n",
      "[Copied] data\\raw\\healthy\\xMOI1306iZMtFQ5FCNcYraYUSDA3_cough-shallow.wav\n",
      "[Copied] data\\raw\\healthy\\NatLK4N2EkhPwEQoxz59taEL3B32_cough-heavy.wav\n",
      "[Copied] data\\raw\\healthy\\NatLK4N2EkhPwEQoxz59taEL3B32_cough-shallow.wav\n",
      "[Copied] data\\raw\\healthy\\9JhZlp6ebpZYjnKlK2NTZTihDme2_cough-heavy.wav\n",
      "[Copied] data\\raw\\healthy\\9JhZlp6ebpZYjnKlK2NTZTihDme2_cough-shallow.wav\n",
      "[Copied] data\\raw\\healthy\\RfrT8p9208NHn3170qOYmxel8Kw2_cough-heavy.wav\n",
      "[Copied] data\\raw\\healthy\\RfrT8p9208NHn3170qOYmxel8Kw2_cough-shallow.wav\n",
      "[Copied] data\\raw\\healthy\\tpCCClZhHxXqu31XbOhexT55KdP2_cough-heavy.wav\n",
      "[Copied] data\\raw\\healthy\\tpCCClZhHxXqu31XbOhexT55KdP2_cough-shallow.wav\n",
      "[Copied] data\\raw\\healthy\\dtV4ZlnWakRFGKpIfiUqdu3q6iq1_cough-heavy.wav\n",
      "[Copied] data\\raw\\healthy\\dtV4ZlnWakRFGKpIfiUqdu3q6iq1_cough-shallow.wav\n",
      "[Copied] data\\raw\\healthy\\zLJnwXeJwCZI7uk7aDmLweAZCIl2_cough-heavy.wav\n",
      "[Copied] data\\raw\\healthy\\zLJnwXeJwCZI7uk7aDmLweAZCIl2_cough-shallow.wav\n",
      "[Copied] data\\raw\\healthy\\uqD6aEx3ObQK5DE4GH900S42U352_cough-heavy.wav\n",
      "[Copied] data\\raw\\healthy\\uqD6aEx3ObQK5DE4GH900S42U352_cough-shallow.wav\n",
      "[Copied] data\\raw\\healthy\\pitYbc063SXoFPZmDTvyI6yGxLm2_cough-heavy.wav\n",
      "[Copied] data\\raw\\healthy\\pitYbc063SXoFPZmDTvyI6yGxLm2_cough-shallow.wav\n",
      "[Copied] data\\raw\\healthy\\vwUqgVSWMCWzCNxdD8uE97pk0I53_cough-heavy.wav\n",
      "[Copied] data\\raw\\healthy\\vwUqgVSWMCWzCNxdD8uE97pk0I53_cough-shallow.wav\n",
      "[Copied] data\\raw\\healthy\\gX0K8ASvV0epRvdo50i3a27JEUC3_cough-heavy.wav\n",
      "[Copied] data\\raw\\healthy\\gX0K8ASvV0epRvdo50i3a27JEUC3_cough-shallow.wav\n",
      "[Copied] data\\raw\\healthy\\rGYIwhkeGffRq318R229inpudYg2_cough-heavy.wav\n",
      "[Copied] data\\raw\\healthy\\rGYIwhkeGffRq318R229inpudYg2_cough-shallow.wav\n",
      "[Copied] data\\raw\\healthy\\5FQMhLSr6je06dBSJvZjbiddFID2_cough-heavy.wav\n",
      "[Copied] data\\raw\\healthy\\5FQMhLSr6je06dBSJvZjbiddFID2_cough-shallow.wav\n",
      "[Copied] data\\raw\\healthy\\5pGi7OUjz9SyuylhXvZQ7rWH6WW2_cough-heavy.wav\n",
      "[Copied] data\\raw\\healthy\\5pGi7OUjz9SyuylhXvZQ7rWH6WW2_cough-shallow.wav\n",
      "[Copied] data\\raw\\healthy\\BTyDWg2XGnaMNkwlmO6ZWdd6LtF3_cough-heavy.wav\n",
      "[Copied] data\\raw\\healthy\\BTyDWg2XGnaMNkwlmO6ZWdd6LtF3_cough-shallow.wav\n",
      "[Copied] data\\raw\\healthy\\qr3tupBiFNgeVUX9N4ct8GigLP53_cough-heavy.wav\n",
      "[Copied] data\\raw\\healthy\\qr3tupBiFNgeVUX9N4ct8GigLP53_cough-shallow.wav\n",
      "[Copied] data\\raw\\healthy\\aDPRTmlNZ3XLxOMP2KafJi1lnWz2_cough-heavy.wav\n",
      "[Copied] data\\raw\\healthy\\aDPRTmlNZ3XLxOMP2KafJi1lnWz2_cough-shallow.wav\n",
      "[Copied] data\\raw\\healthy\\DwCHgxHJFhf0nAqiQfHS3lycTuv2_cough-heavy.wav\n",
      "[Copied] data\\raw\\healthy\\DwCHgxHJFhf0nAqiQfHS3lycTuv2_cough-shallow.wav\n",
      "[Copied] data\\raw\\healthy\\JOimE3qKkOWxkKYIDBvIpXgQ9HJ3_cough-heavy.wav\n",
      "[Copied] data\\raw\\healthy\\JOimE3qKkOWxkKYIDBvIpXgQ9HJ3_cough-shallow.wav\n",
      "[Copied] data\\raw\\healthy\\o0HUIrKBsMXkygZgI161LVIydIp1_cough-heavy.wav\n",
      "[Copied] data\\raw\\healthy\\o0HUIrKBsMXkygZgI161LVIydIp1_cough-shallow.wav\n",
      "[Copied] data\\raw\\healthy\\VhY3VgRdsbasG2EvYQxcYDN7Fw72_cough-heavy.wav\n",
      "[Copied] data\\raw\\healthy\\VhY3VgRdsbasG2EvYQxcYDN7Fw72_cough-shallow.wav\n",
      "[Copied] data\\raw\\healthy\\4achmXwhZ6UIFduMW6ShHrJpRPV2_cough-heavy.wav\n",
      "[Copied] data\\raw\\healthy\\4achmXwhZ6UIFduMW6ShHrJpRPV2_cough-shallow.wav\n",
      "[Copied] data\\raw\\healthy\\yiPghdPwkdfosD5DgpsWCwryhI12_cough-heavy.wav\n",
      "[Copied] data\\raw\\healthy\\yiPghdPwkdfosD5DgpsWCwryhI12_cough-shallow.wav\n",
      "[Copied] data\\raw\\healthy\\NKfo9DcpbQeYHlZ6pHDOwRx08i72_cough-heavy.wav\n",
      "[Copied] data\\raw\\healthy\\NKfo9DcpbQeYHlZ6pHDOwRx08i72_cough-shallow.wav\n",
      "[Copied] data\\raw\\healthy\\RHVaEkR1YzMXV33Bl1ScXlpBkpA3_cough-heavy.wav\n",
      "[Copied] data\\raw\\healthy\\RHVaEkR1YzMXV33Bl1ScXlpBkpA3_cough-shallow.wav\n",
      "[Copied] data\\raw\\healthy\\yxCtaUoJBHXnzfMfxfA9rJGR5ue2_cough-heavy.wav\n",
      "[Copied] data\\raw\\healthy\\yxCtaUoJBHXnzfMfxfA9rJGR5ue2_cough-shallow.wav\n",
      "[Copied] data\\raw\\healthy\\5FnTn9FS7uUjXCbNzKuQY28pI3G2_cough-heavy.wav\n",
      "[Copied] data\\raw\\healthy\\5FnTn9FS7uUjXCbNzKuQY28pI3G2_cough-shallow.wav\n",
      "[Copied] data\\raw\\healthy\\EPA8c37Cb5e2aaUfisoVCzoxMnT2_cough-heavy.wav\n",
      "[Copied] data\\raw\\healthy\\EPA8c37Cb5e2aaUfisoVCzoxMnT2_cough-shallow.wav\n",
      "[Copied] data\\raw\\healthy\\qRSYuXkgdobbygXanSccCsfBiSK2_cough-heavy.wav\n",
      "[Copied] data\\raw\\healthy\\qRSYuXkgdobbygXanSccCsfBiSK2_cough-shallow.wav\n",
      "[Copied] data\\raw\\healthy\\dlSirkwl7JPl36hawynOTHhscyy1_cough-heavy.wav\n",
      "[Copied] data\\raw\\healthy\\dlSirkwl7JPl36hawynOTHhscyy1_cough-shallow.wav\n",
      "[Copied] data\\raw\\healthy\\YRwYptwqVUfHZbZh1hiqsczaT8m1_cough-heavy.wav\n",
      "[Copied] data\\raw\\healthy\\YRwYptwqVUfHZbZh1hiqsczaT8m1_cough-shallow.wav\n",
      "[Copied] data\\raw\\healthy\\fezNxeyeMSSvqIiQvCsQROuhbNv1_cough-heavy.wav\n",
      "[Copied] data\\raw\\healthy\\fezNxeyeMSSvqIiQvCsQROuhbNv1_cough-shallow.wav\n",
      "[Copied] data\\raw\\healthy\\U1xH6cTpR6VhCLwJKx2wKZc5XE03_cough-heavy.wav\n",
      "[Copied] data\\raw\\healthy\\U1xH6cTpR6VhCLwJKx2wKZc5XE03_cough-shallow.wav\n",
      "[Copied] data\\raw\\healthy\\yHRFkSwYEehBF4AtthYzXkR6jUc2_cough-heavy.wav\n",
      "[Copied] data\\raw\\healthy\\yHRFkSwYEehBF4AtthYzXkR6jUc2_cough-shallow.wav\n",
      "[Copied] data\\raw\\healthy\\uJEVN893b2Pntd1Ck3cdY7RZZRo1_cough-heavy.wav\n",
      "[Copied] data\\raw\\healthy\\uJEVN893b2Pntd1Ck3cdY7RZZRo1_cough-shallow.wav\n",
      "[Copied] data\\raw\\healthy\\RYJRtbTc26a12dQ5ddAwV2hJ4Cv1_cough-heavy.wav\n",
      "[Copied] data\\raw\\healthy\\RYJRtbTc26a12dQ5ddAwV2hJ4Cv1_cough-shallow.wav\n",
      "[Copied] data\\raw\\healthy\\T9yi2QIANkPz28yo2bSNHTtpyJw1_cough-heavy.wav\n",
      "[Copied] data\\raw\\healthy\\T9yi2QIANkPz28yo2bSNHTtpyJw1_cough-shallow.wav\n",
      "[Copied] data\\raw\\healthy\\Pjs0FDjZUofs8mvB3cjg0Hibe8B2_cough-heavy.wav\n",
      "[Copied] data\\raw\\healthy\\Pjs0FDjZUofs8mvB3cjg0Hibe8B2_cough-shallow.wav\n",
      "[Copied] data\\raw\\healthy\\RJCywZ62exQqXX42zLDhAuaVjdt1_cough-heavy.wav\n",
      "[Copied] data\\raw\\healthy\\RJCywZ62exQqXX42zLDhAuaVjdt1_cough-shallow.wav\n",
      "[Copied] data\\raw\\healthy\\oNB3E8WhVsOEhgx0sgNm0Czv5bK2_cough-heavy.wav\n",
      "[Copied] data\\raw\\healthy\\oNB3E8WhVsOEhgx0sgNm0Czv5bK2_cough-shallow.wav\n",
      "[Copied] data\\raw\\healthy\\g9WjuKnjoYZYmLVDY86u4JIwZ333_cough-heavy.wav\n",
      "[Copied] data\\raw\\healthy\\g9WjuKnjoYZYmLVDY86u4JIwZ333_cough-shallow.wav\n",
      "[Copied] data\\raw\\healthy\\JNTWsYYQjzMMOsmFMml8OXjHYx92_cough-heavy.wav\n",
      "[Copied] data\\raw\\healthy\\JNTWsYYQjzMMOsmFMml8OXjHYx92_cough-shallow.wav\n",
      "[Copied] data\\raw\\healthy\\Hsd2XPLTHxa0q43WgjzaQl22cB42_cough-heavy.wav\n",
      "[Copied] data\\raw\\healthy\\Hsd2XPLTHxa0q43WgjzaQl22cB42_cough-shallow.wav\n",
      "[Copied] data\\raw\\healthy\\uiMtR0VGFIaO3CQ1Tl8znyjlyHF2_cough-heavy.wav\n",
      "[Copied] data\\raw\\healthy\\uiMtR0VGFIaO3CQ1Tl8znyjlyHF2_cough-shallow.wav\n",
      "[Copied] data\\raw\\healthy\\XCgsAnLqDUW7V3qSgO6exYqSvvB3_cough-heavy.wav\n",
      "[Copied] data\\raw\\healthy\\XCgsAnLqDUW7V3qSgO6exYqSvvB3_cough-shallow.wav\n",
      "[Copied] data\\raw\\healthy\\L6zbMqqGS1et0kjPXmSsLUI3vz22_cough-heavy.wav\n",
      "[Copied] data\\raw\\healthy\\L6zbMqqGS1et0kjPXmSsLUI3vz22_cough-shallow.wav\n",
      "[Copied] data\\raw\\healthy\\Q9mjuJioRUSHLiSgS67ZTjRtCy53_cough-heavy.wav\n",
      "[Copied] data\\raw\\healthy\\Q9mjuJioRUSHLiSgS67ZTjRtCy53_cough-shallow.wav\n",
      "[Copied] data\\raw\\healthy\\8XoAGDSPjVWjpjfIDHrIiHd4NEC2_cough-heavy.wav\n",
      "[Copied] data\\raw\\healthy\\8XoAGDSPjVWjpjfIDHrIiHd4NEC2_cough-shallow.wav\n",
      "[Copied] data\\raw\\healthy\\eSJm8nx2ygT4ZzQRzgYKpJiis1B2_cough-heavy.wav\n",
      "[Copied] data\\raw\\healthy\\eSJm8nx2ygT4ZzQRzgYKpJiis1B2_cough-shallow.wav\n",
      "[Copied] data\\raw\\healthy\\YpvrpmeZ2bRKrSUIWVe8a4fzSHg1_cough-heavy.wav\n",
      "[Copied] data\\raw\\healthy\\YpvrpmeZ2bRKrSUIWVe8a4fzSHg1_cough-shallow.wav\n",
      "[Copied] data\\raw\\healthy\\8FnL5QpBazelNsGBTVkBuTSpMEt1_cough-heavy.wav\n",
      "[Copied] data\\raw\\healthy\\8FnL5QpBazelNsGBTVkBuTSpMEt1_cough-shallow.wav\n",
      "[Copied] data\\raw\\healthy\\z3dpsRp0YuPntedc6sgMaRfW04t2_cough-heavy.wav\n",
      "[Copied] data\\raw\\healthy\\z3dpsRp0YuPntedc6sgMaRfW04t2_cough-shallow.wav\n",
      "[Copied] data\\raw\\healthy\\MQSayo88HXcUcse3I8S4Fp3V52C2_cough-heavy.wav\n",
      "[Copied] data\\raw\\healthy\\MQSayo88HXcUcse3I8S4Fp3V52C2_cough-shallow.wav\n",
      "[Copied] data\\raw\\healthy\\Ahv0311uRogDaFFI4X22nzsNVvK2_cough-heavy.wav\n",
      "[Copied] data\\raw\\healthy\\Ahv0311uRogDaFFI4X22nzsNVvK2_cough-shallow.wav\n",
      "[Copied] data\\raw\\healthy\\HCsgRpbj4vdEXoAjjSDJj9vQFbB2_cough-heavy.wav\n",
      "[Copied] data\\raw\\healthy\\HCsgRpbj4vdEXoAjjSDJj9vQFbB2_cough-shallow.wav\n",
      "[Copied] data\\raw\\healthy\\ORaul0HINZblPYZIFh9V1g2G4q43_cough-heavy.wav\n",
      "[Copied] data\\raw\\healthy\\ORaul0HINZblPYZIFh9V1g2G4q43_cough-shallow.wav\n",
      "[Copied] data\\raw\\healthy\\pOWaDLmSdob8jJcu8rxztAhHRIo2_cough-heavy.wav\n",
      "[Copied] data\\raw\\healthy\\pOWaDLmSdob8jJcu8rxztAhHRIo2_cough-shallow.wav\n",
      "[Copied] data\\raw\\healthy\\xxeoHryZgjVJhQiY6LAR7EDABMn2_cough-heavy.wav\n",
      "[Copied] data\\raw\\healthy\\xxeoHryZgjVJhQiY6LAR7EDABMn2_cough-shallow.wav\n",
      "[Copied] data\\raw\\healthy\\0W7xMFW538WmDghkiujx2v4xVnt2_cough-heavy.wav\n",
      "[Copied] data\\raw\\healthy\\0W7xMFW538WmDghkiujx2v4xVnt2_cough-shallow.wav\n",
      "[Copied] data\\raw\\healthy\\E3gn7SKrMhOK49iJSeIAEa1s7Kb2_cough-heavy.wav\n",
      "[Copied] data\\raw\\healthy\\E3gn7SKrMhOK49iJSeIAEa1s7Kb2_cough-shallow.wav\n",
      "[Copied] data\\raw\\healthy\\h6fnYcaAXxMQWF7H5QbSx4PVajk1_cough-heavy.wav\n",
      "[Copied] data\\raw\\healthy\\h6fnYcaAXxMQWF7H5QbSx4PVajk1_cough-shallow.wav\n",
      "[Copied] data\\raw\\healthy\\NPwHtrWOTPgBVHkElhwB91qJXts1_cough-heavy.wav\n",
      "[Copied] data\\raw\\healthy\\NPwHtrWOTPgBVHkElhwB91qJXts1_cough-shallow.wav\n",
      "[Copied] data\\raw\\healthy\\hmqyX7Xq7gMmLDSmb7MtmLc92R93_cough-heavy.wav\n",
      "[Copied] data\\raw\\healthy\\hmqyX7Xq7gMmLDSmb7MtmLc92R93_cough-shallow.wav\n",
      "[Copied] data\\raw\\healthy\\Hx0gMpwXrbhBp9SV7clzSDQ50EM2_cough-heavy.wav\n",
      "[Copied] data\\raw\\healthy\\Hx0gMpwXrbhBp9SV7clzSDQ50EM2_cough-shallow.wav\n",
      "[Copied] data\\raw\\healthy\\vEuocXKs0mhMOO3e5l5ZWImJG6O2_cough-heavy.wav\n",
      "[Copied] data\\raw\\healthy\\vEuocXKs0mhMOO3e5l5ZWImJG6O2_cough-shallow.wav\n",
      "[Copied] data\\raw\\healthy\\SkZeafTL9dd9dwV9nEbNrszqc8u1_cough-heavy.wav\n",
      "[Copied] data\\raw\\healthy\\SkZeafTL9dd9dwV9nEbNrszqc8u1_cough-shallow.wav\n",
      "[Copied] data\\raw\\healthy\\N0YQy11YpgTDM6243yERZXmKVas2_cough-heavy.wav\n",
      "[Copied] data\\raw\\healthy\\N0YQy11YpgTDM6243yERZXmKVas2_cough-shallow.wav\n",
      "[Copied] data\\raw\\healthy\\f4tk6UjR0Ldbnq5tRfgYhT6VGqV2_cough-heavy.wav\n",
      "[Copied] data\\raw\\healthy\\f4tk6UjR0Ldbnq5tRfgYhT6VGqV2_cough-shallow.wav\n",
      "[Copied] data\\raw\\healthy\\SwrvfymSTCSlj270wmp4wfo1iV83_cough-heavy.wav\n",
      "[Copied] data\\raw\\healthy\\SwrvfymSTCSlj270wmp4wfo1iV83_cough-shallow.wav\n",
      "[Copied] data\\raw\\healthy\\ThEx12Qb23UTenYWttvsRvioxqE2_cough-heavy.wav\n",
      "[Copied] data\\raw\\healthy\\ThEx12Qb23UTenYWttvsRvioxqE2_cough-shallow.wav\n",
      "[Copied] data\\raw\\healthy\\ZwwWzt46hVhcDukhR2G4bCNnZe52_cough-heavy.wav\n",
      "[Copied] data\\raw\\healthy\\ZwwWzt46hVhcDukhR2G4bCNnZe52_cough-shallow.wav\n",
      "[Copied] data\\raw\\healthy\\YKJ4AmuaSThm9fM7nAE2rxLs9Bm2_cough-heavy.wav\n",
      "[Copied] data\\raw\\healthy\\YKJ4AmuaSThm9fM7nAE2rxLs9Bm2_cough-shallow.wav\n",
      "[Copied] data\\raw\\healthy\\FYINlRe3mfOO34R8QcT3skESVRl1_cough-heavy.wav\n",
      "[Copied] data\\raw\\healthy\\FYINlRe3mfOO34R8QcT3skESVRl1_cough-shallow.wav\n",
      "[Copied] data\\raw\\healthy\\3k5Rnc8QjVP7LRKe0SV3R8WsfQh2_cough-heavy.wav\n",
      "[Copied] data\\raw\\healthy\\3k5Rnc8QjVP7LRKe0SV3R8WsfQh2_cough-shallow.wav\n",
      "[Copied] data\\raw\\healthy\\RTuiIzd8iGX3h3QWpU5CIJYHqD32_cough-heavy.wav\n",
      "[Copied] data\\raw\\healthy\\RTuiIzd8iGX3h3QWpU5CIJYHqD32_cough-shallow.wav\n",
      "[Copied] data\\raw\\healthy\\0xWyChUEHYOWQLxEAL3ln4FDtUL2_cough-heavy.wav\n",
      "[Copied] data\\raw\\healthy\\0xWyChUEHYOWQLxEAL3ln4FDtUL2_cough-shallow.wav\n",
      "[Copied] data\\raw\\healthy\\DYiC8Ym6NBgFGQMSLy104RVs4b43_cough-heavy.wav\n",
      "[Copied] data\\raw\\healthy\\DYiC8Ym6NBgFGQMSLy104RVs4b43_cough-shallow.wav\n",
      "[Copied] data\\raw\\healthy\\l1ObBBBZYMOCAlTxeFyd1ToMwjy2_cough-heavy.wav\n",
      "[Copied] data\\raw\\healthy\\l1ObBBBZYMOCAlTxeFyd1ToMwjy2_cough-shallow.wav\n",
      "[Copied] data\\raw\\healthy\\zdUE4UjuVwXhBeBZqWBGCDL9CSx2_cough-heavy.wav\n",
      "[Copied] data\\raw\\healthy\\zdUE4UjuVwXhBeBZqWBGCDL9CSx2_cough-shallow.wav\n",
      "[Copied] data\\raw\\healthy\\dGYruZO8jma3p1x7KKIXmuTbQvA2_cough-heavy.wav\n",
      "[Copied] data\\raw\\healthy\\dGYruZO8jma3p1x7KKIXmuTbQvA2_cough-shallow.wav\n",
      "[Copied] data\\raw\\healthy\\mikiKeqF4SVTeAyZiLFsC6FpGEO2_cough-heavy.wav\n",
      "[Copied] data\\raw\\healthy\\mikiKeqF4SVTeAyZiLFsC6FpGEO2_cough-shallow.wav\n",
      "[Copied] data\\raw\\healthy\\wr9fXFGgtfPzQMIXpgDlBU8I01H2_cough-heavy.wav\n",
      "[Copied] data\\raw\\healthy\\wr9fXFGgtfPzQMIXpgDlBU8I01H2_cough-shallow.wav\n",
      "[Copied] data\\raw\\healthy\\rXM1xzEoPifwWHJUFngAdye7u112_cough-heavy.wav\n",
      "[Copied] data\\raw\\healthy\\rXM1xzEoPifwWHJUFngAdye7u112_cough-shallow.wav\n",
      "[Copied] data\\raw\\healthy\\pqhuVm6oPbd3A4FSf5p9shz9OO02_cough-heavy.wav\n",
      "[Copied] data\\raw\\healthy\\pqhuVm6oPbd3A4FSf5p9shz9OO02_cough-shallow.wav\n",
      "[Copied] data\\raw\\healthy\\DXIw27Fbg6PgosoH84rFPOVaQ5q2_cough-heavy.wav\n",
      "[Copied] data\\raw\\healthy\\DXIw27Fbg6PgosoH84rFPOVaQ5q2_cough-shallow.wav\n",
      "[Copied] data\\raw\\healthy\\t19ZtqDNiJd7nL1SntNpS8KQDO73_cough-heavy.wav\n",
      "[Copied] data\\raw\\healthy\\t19ZtqDNiJd7nL1SntNpS8KQDO73_cough-shallow.wav\n",
      "[Copied] data\\raw\\healthy\\VKV5w2sVwhequJqUVG2kaaGakiq1_cough-heavy.wav\n",
      "[Copied] data\\raw\\healthy\\VKV5w2sVwhequJqUVG2kaaGakiq1_cough-shallow.wav\n",
      "[Copied] data\\raw\\healthy\\5ulPmiY2NpQMXjnjn5w8unXOOnl2_cough-heavy.wav\n",
      "[Copied] data\\raw\\healthy\\5ulPmiY2NpQMXjnjn5w8unXOOnl2_cough-shallow.wav\n",
      "[Copied] data\\raw\\healthy\\mpN8LVqfHAWvNZZrJw5cQ3vOVWg2_cough-heavy.wav\n",
      "[Copied] data\\raw\\healthy\\mpN8LVqfHAWvNZZrJw5cQ3vOVWg2_cough-shallow.wav\n",
      "[Copied] data\\raw\\healthy\\kirLJEuOWzYOWBeTC4CRHrTTRVv1_cough-heavy.wav\n",
      "[Copied] data\\raw\\healthy\\kirLJEuOWzYOWBeTC4CRHrTTRVv1_cough-shallow.wav\n",
      "[Copied] data\\raw\\healthy\\y7dTHpmIaYgPwbazH5f8o57WHoH3_cough-heavy.wav\n",
      "[Copied] data\\raw\\healthy\\y7dTHpmIaYgPwbazH5f8o57WHoH3_cough-shallow.wav\n",
      "[Copied] data\\raw\\healthy\\JCnMZyujiFf0m2QpwIlpld2ISDF3_cough-heavy.wav\n",
      "[Copied] data\\raw\\healthy\\JCnMZyujiFf0m2QpwIlpld2ISDF3_cough-shallow.wav\n",
      "[Copied] data\\raw\\healthy\\cPASvlDX0wewuwxfdbJgqqjYEH13_cough-heavy.wav\n",
      "[Copied] data\\raw\\healthy\\cPASvlDX0wewuwxfdbJgqqjYEH13_cough-shallow.wav\n",
      "[Copied] data\\raw\\healthy\\Kck5aZ8dc5N49j8UPNqpsoHrKgA2_cough-heavy.wav\n",
      "[Copied] data\\raw\\healthy\\Kck5aZ8dc5N49j8UPNqpsoHrKgA2_cough-shallow.wav\n",
      "[Copied] data\\raw\\healthy\\HHKpf1D4mWga1lxwcxAQjZAqELv2_cough-heavy.wav\n",
      "[Copied] data\\raw\\healthy\\HHKpf1D4mWga1lxwcxAQjZAqELv2_cough-shallow.wav\n",
      "[Copied] data\\raw\\healthy\\ikYIaaUJutT91dYfNqA7iQoAQKN2_cough-heavy.wav\n",
      "[Copied] data\\raw\\healthy\\ikYIaaUJutT91dYfNqA7iQoAQKN2_cough-shallow.wav\n",
      "[Copied] data\\raw\\healthy\\FxxDIIr8jQRkvmA2rqn9rUGGXlI2_cough-heavy.wav\n",
      "[Copied] data\\raw\\healthy\\FxxDIIr8jQRkvmA2rqn9rUGGXlI2_cough-shallow.wav\n",
      "[Copied] data\\raw\\healthy\\96vge8k4YhZKRuYBP7T1WVw2Ouz2_cough-heavy.wav\n",
      "[Copied] data\\raw\\healthy\\96vge8k4YhZKRuYBP7T1WVw2Ouz2_cough-shallow.wav\n",
      "[Copied] data\\raw\\healthy\\IvPA6FZJ5OSNOllqglmE2mkcnz83_cough-heavy.wav\n",
      "[Copied] data\\raw\\healthy\\IvPA6FZJ5OSNOllqglmE2mkcnz83_cough-shallow.wav\n",
      "[Copied] data\\raw\\healthy\\OAtQ58EyToOK0NsnlDdwpFnrwF63_cough-heavy.wav\n",
      "[Copied] data\\raw\\healthy\\OAtQ58EyToOK0NsnlDdwpFnrwF63_cough-shallow.wav\n",
      "[Copied] data\\raw\\healthy\\w3QJygDVetN5sPAsKTXe273bpau2_cough-heavy.wav\n",
      "[Copied] data\\raw\\healthy\\w3QJygDVetN5sPAsKTXe273bpau2_cough-shallow.wav\n",
      "[Copied] data\\raw\\healthy\\MvMha3CRSic03lfuBh8UIj7k3ak1_cough-heavy.wav\n",
      "[Copied] data\\raw\\healthy\\MvMha3CRSic03lfuBh8UIj7k3ak1_cough-shallow.wav\n",
      "[Copied] data\\raw\\healthy\\ck8pNfygbfardUsaoS2NNVvMTt83_cough-heavy.wav\n",
      "[Copied] data\\raw\\healthy\\ck8pNfygbfardUsaoS2NNVvMTt83_cough-shallow.wav\n",
      "[Copied] data\\raw\\healthy\\1CtdDsZvTshuIGrVGvF9pilcHP13_cough-heavy.wav\n",
      "[Copied] data\\raw\\healthy\\1CtdDsZvTshuIGrVGvF9pilcHP13_cough-shallow.wav\n",
      "[Copied] data\\raw\\healthy\\4gkSRZ0IWxVAOJSuVEFhQqrzIYx1_cough-heavy.wav\n",
      "[Copied] data\\raw\\healthy\\4gkSRZ0IWxVAOJSuVEFhQqrzIYx1_cough-shallow.wav\n",
      "[Copied] data\\raw\\healthy\\Fi4TZCxqYqMvq8ncC4aYajCVRcz1_cough-heavy.wav\n",
      "[Copied] data\\raw\\healthy\\Fi4TZCxqYqMvq8ncC4aYajCVRcz1_cough-shallow.wav\n",
      "[Copied] data\\raw\\healthy\\YwhRHergRUamkPHHq2Vo5LA0WIw1_cough-heavy.wav\n",
      "[Copied] data\\raw\\healthy\\YwhRHergRUamkPHHq2Vo5LA0WIw1_cough-shallow.wav\n",
      "[Copied] data\\raw\\healthy\\eD46zs0Gr9Rm2dRnRvkdjI0jc953_cough-heavy.wav\n",
      "[Copied] data\\raw\\healthy\\eD46zs0Gr9Rm2dRnRvkdjI0jc953_cough-shallow.wav\n",
      "[Copied] data\\raw\\healthy\\fuZ1Iu9k84gcTbZKIWElwq2RsLo1_cough-heavy.wav\n",
      "[Copied] data\\raw\\healthy\\fuZ1Iu9k84gcTbZKIWElwq2RsLo1_cough-shallow.wav\n",
      "[Copied] data\\raw\\healthy\\kufd2yIRZccwghYMiRxdc1Gc6VH2_cough-heavy.wav\n",
      "[Copied] data\\raw\\healthy\\kufd2yIRZccwghYMiRxdc1Gc6VH2_cough-shallow.wav\n",
      "[Copied] data\\raw\\healthy\\S4QDAi84LeV9bdeIeITuXAPSfVE2_cough-heavy.wav\n",
      "[Copied] data\\raw\\healthy\\S4QDAi84LeV9bdeIeITuXAPSfVE2_cough-shallow.wav\n",
      "[Copied] data\\raw\\healthy\\nDTky90V1seGFJaYNa0m4Io1eYQ2_cough-heavy.wav\n",
      "[Copied] data\\raw\\healthy\\nDTky90V1seGFJaYNa0m4Io1eYQ2_cough-shallow.wav\n",
      "[Copied] data\\raw\\healthy\\XQVpgnaYz4NHmXRFWov9lBKP1tg1_cough-heavy.wav\n",
      "[Copied] data\\raw\\healthy\\XQVpgnaYz4NHmXRFWov9lBKP1tg1_cough-shallow.wav\n",
      "[Copied] data\\raw\\healthy\\L5tZkFTeajV4uDCQnvbWLNoG5az1_cough-heavy.wav\n",
      "[Copied] data\\raw\\healthy\\L5tZkFTeajV4uDCQnvbWLNoG5az1_cough-shallow.wav\n",
      "[Copied] data\\raw\\healthy\\kaIGgo2Cw7ff8AkV7vzWQ1KArwm1_cough-heavy.wav\n",
      "[Copied] data\\raw\\healthy\\kaIGgo2Cw7ff8AkV7vzWQ1KArwm1_cough-shallow.wav\n",
      "[Copied] data\\raw\\healthy\\KXQDb2qDnpTQTTqx3JivfvB8zz83_cough-heavy.wav\n",
      "[Copied] data\\raw\\healthy\\KXQDb2qDnpTQTTqx3JivfvB8zz83_cough-shallow.wav\n",
      "[Copied] data\\raw\\healthy\\GuZQNW2ktwaUr8OxHPLN0iVGy2G2_cough-heavy.wav\n",
      "[Copied] data\\raw\\healthy\\GuZQNW2ktwaUr8OxHPLN0iVGy2G2_cough-shallow.wav\n",
      "[Copied] data\\raw\\healthy\\5dHPKHgDlcVJOWjQMg5t46IN06H2_cough-heavy.wav\n",
      "[Copied] data\\raw\\healthy\\5dHPKHgDlcVJOWjQMg5t46IN06H2_cough-shallow.wav\n",
      "[Copied] data\\raw\\healthy\\H1Ml5J5BxFT5aJB3687GpncQjOi2_cough-heavy.wav\n",
      "[Copied] data\\raw\\healthy\\H1Ml5J5BxFT5aJB3687GpncQjOi2_cough-shallow.wav\n",
      "[Copied] data\\raw\\healthy\\jkP5JFFckOVBrO7AaRcacyXkgMk1_cough-heavy.wav\n",
      "[Copied] data\\raw\\healthy\\jkP5JFFckOVBrO7AaRcacyXkgMk1_cough-shallow.wav\n",
      "[Copied] data\\raw\\healthy\\tAqfUCGTWKdgIF95SfZU0gtLPZt1_cough-heavy.wav\n",
      "[Copied] data\\raw\\healthy\\tAqfUCGTWKdgIF95SfZU0gtLPZt1_cough-shallow.wav\n",
      "[Copied] data\\raw\\healthy\\gkgap61ehlgkpjvtbEm1EVbhv8j1_cough-heavy.wav\n",
      "[Copied] data\\raw\\healthy\\gkgap61ehlgkpjvtbEm1EVbhv8j1_cough-shallow.wav\n",
      "[Copied] data\\raw\\healthy\\Icj21hlLQ5ZwFOgpuekc0Bn7Ucy1_cough-heavy.wav\n",
      "[Copied] data\\raw\\healthy\\Icj21hlLQ5ZwFOgpuekc0Bn7Ucy1_cough-shallow.wav\n",
      "[Copied] data\\raw\\healthy\\aESHvWgJIodaDacHGg6i3o05bYo2_cough-heavy.wav\n",
      "[Copied] data\\raw\\healthy\\aESHvWgJIodaDacHGg6i3o05bYo2_cough-shallow.wav\n",
      "[Copied] data\\raw\\healthy\\jzZNRqxGsTXZVZJbipHEyBaGPAI2_cough-heavy.wav\n",
      "[Copied] data\\raw\\healthy\\jzZNRqxGsTXZVZJbipHEyBaGPAI2_cough-shallow.wav\n",
      "[Copied] data\\raw\\healthy\\Xq0KTVn9T2TQhl644ZuZHT5ByQy2_cough-heavy.wav\n",
      "[Copied] data\\raw\\healthy\\Xq0KTVn9T2TQhl644ZuZHT5ByQy2_cough-shallow.wav\n",
      "[Copied] data\\raw\\healthy\\GLIDHIQIWigOOPXUqR9SYKIN2v83_cough-heavy.wav\n",
      "[Copied] data\\raw\\healthy\\GLIDHIQIWigOOPXUqR9SYKIN2v83_cough-shallow.wav\n",
      "[Copied] data\\raw\\healthy\\L6ScULj3LRPFLYdvs8HdWpzhkdp1_cough-heavy.wav\n",
      "[Copied] data\\raw\\healthy\\L6ScULj3LRPFLYdvs8HdWpzhkdp1_cough-shallow.wav\n",
      "[Copied] data\\raw\\healthy\\8BmywU3Y0Xh4xucX5Zt2xXDkMzB2_cough-heavy.wav\n",
      "[Copied] data\\raw\\healthy\\8BmywU3Y0Xh4xucX5Zt2xXDkMzB2_cough-shallow.wav\n",
      "[Copied] data\\raw\\healthy\\SeJVLdrWddXdcxmY9Q51FUjCFRv1_cough-heavy.wav\n",
      "[Copied] data\\raw\\healthy\\SeJVLdrWddXdcxmY9Q51FUjCFRv1_cough-shallow.wav\n",
      "[Copied] data\\raw\\healthy\\ZIsSazVaDRZmnV0GzL164wnjQGV2_cough-heavy.wav\n",
      "[Copied] data\\raw\\healthy\\ZIsSazVaDRZmnV0GzL164wnjQGV2_cough-shallow.wav\n",
      "[Copied] data\\raw\\healthy\\qvKy3g7enMOhjEGqHPtNrrrExQl2_cough-heavy.wav\n",
      "[Copied] data\\raw\\healthy\\qvKy3g7enMOhjEGqHPtNrrrExQl2_cough-shallow.wav\n",
      "[Copied] data\\raw\\healthy\\kCKhyeak3fP2IsFcRgP3AOPBDvz2_cough-heavy.wav\n",
      "[Copied] data\\raw\\healthy\\kCKhyeak3fP2IsFcRgP3AOPBDvz2_cough-shallow.wav\n",
      "[Copied] data\\raw\\healthy\\yMd8IFHnWWYgs6CNSFypl9QhFGu1_cough-heavy.wav\n",
      "[Copied] data\\raw\\healthy\\yMd8IFHnWWYgs6CNSFypl9QhFGu1_cough-shallow.wav\n",
      "[Copied] data\\raw\\healthy\\HSj0b9JLMjVfqxpQi1s6OVQXkZw1_cough-heavy.wav\n",
      "[Copied] data\\raw\\healthy\\HSj0b9JLMjVfqxpQi1s6OVQXkZw1_cough-shallow.wav\n",
      "[Copied] data\\raw\\healthy\\chMsCb2SqaYxVB1lc93vPGPa5ho1_cough-heavy.wav\n",
      "[Copied] data\\raw\\healthy\\chMsCb2SqaYxVB1lc93vPGPa5ho1_cough-shallow.wav\n",
      "[Copied] data\\raw\\healthy\\imhxF3UQDZNVEnNeyw8jOAsgtjv2_cough-heavy.wav\n",
      "[Copied] data\\raw\\healthy\\imhxF3UQDZNVEnNeyw8jOAsgtjv2_cough-shallow.wav\n",
      "[Copied] data\\raw\\healthy\\y8aGpi9HTmaSDBAKR70SEv9w4Ca2_cough-heavy.wav\n",
      "[Copied] data\\raw\\healthy\\y8aGpi9HTmaSDBAKR70SEv9w4Ca2_cough-shallow.wav\n",
      "[Copied] data\\raw\\healthy\\eQQfGXkyq4PbUnshUIBuHNt9jcV2_cough-heavy.wav\n",
      "[Copied] data\\raw\\healthy\\eQQfGXkyq4PbUnshUIBuHNt9jcV2_cough-shallow.wav\n",
      "[Copied] data\\raw\\healthy\\xthD326W2odUKmaURdpqoX18XEW2_cough-heavy.wav\n",
      "[Copied] data\\raw\\healthy\\xthD326W2odUKmaURdpqoX18XEW2_cough-shallow.wav\n",
      "[Copied] data\\raw\\healthy\\kOVQkT3hXPSecuCMdUHB35ejBAl2_cough-heavy.wav\n",
      "[Copied] data\\raw\\healthy\\kOVQkT3hXPSecuCMdUHB35ejBAl2_cough-shallow.wav\n",
      "[Copied] data\\raw\\healthy\\gxy19SDvEBZdJ7ZYr2b5sS2Fxrn2_cough-heavy.wav\n",
      "[Copied] data\\raw\\healthy\\gxy19SDvEBZdJ7ZYr2b5sS2Fxrn2_cough-shallow.wav\n",
      "[Copied] data\\raw\\healthy\\k7R0sHWreMTQCDnV5dMzd7t101A3_cough-heavy.wav\n",
      "[Copied] data\\raw\\healthy\\k7R0sHWreMTQCDnV5dMzd7t101A3_cough-shallow.wav\n",
      "[Copied] data\\raw\\healthy\\jtlvbJgDl6Sum26M9Tm6uZIXr6u2_cough-heavy.wav\n",
      "[Copied] data\\raw\\healthy\\jtlvbJgDl6Sum26M9Tm6uZIXr6u2_cough-shallow.wav\n",
      "[Copied] data\\raw\\healthy\\MxWWtrKw3RcNjG0Rmrw9Rt4YD9E3_cough-heavy.wav\n",
      "[Copied] data\\raw\\healthy\\MxWWtrKw3RcNjG0Rmrw9Rt4YD9E3_cough-shallow.wav\n",
      "[Copied] data\\raw\\healthy\\ZfZdmrhvFUVDL6jqf0GaWC6rzia2_cough-heavy.wav\n",
      "[Copied] data\\raw\\healthy\\ZfZdmrhvFUVDL6jqf0GaWC6rzia2_cough-shallow.wav\n",
      "[Copied] data\\raw\\healthy\\io9q2gZdUWhPDbYnJbzv8XsgCZz1_cough-heavy.wav\n",
      "[Copied] data\\raw\\healthy\\io9q2gZdUWhPDbYnJbzv8XsgCZz1_cough-shallow.wav\n",
      "[Copied] data\\raw\\healthy\\JeM753cUNJdIV37vCj94583kYCE2_cough-heavy.wav\n",
      "[Copied] data\\raw\\healthy\\JeM753cUNJdIV37vCj94583kYCE2_cough-shallow.wav\n",
      "[Copied] data\\raw\\healthy\\ojihroSqhjfXVXHu7hB7gtI2Pl13_cough-heavy.wav\n",
      "[Copied] data\\raw\\healthy\\ojihroSqhjfXVXHu7hB7gtI2Pl13_cough-shallow.wav\n",
      "[Copied] data\\raw\\healthy\\zt2ssuTmZESDhYPW40dyo5RW2sT2_cough-heavy.wav\n",
      "[Copied] data\\raw\\healthy\\zt2ssuTmZESDhYPW40dyo5RW2sT2_cough-shallow.wav\n",
      "[Copied] data\\raw\\healthy\\QQx7MsHhXfPFNPjPAydYMmTWkpo2_cough-heavy.wav\n",
      "[Copied] data\\raw\\healthy\\QQx7MsHhXfPFNPjPAydYMmTWkpo2_cough-shallow.wav\n",
      "[Copied] data\\raw\\healthy\\nsmJcSu7zRYegSynfe707MwRpjp2_cough-heavy.wav\n",
      "[Copied] data\\raw\\healthy\\nsmJcSu7zRYegSynfe707MwRpjp2_cough-shallow.wav\n",
      "[Copied] data\\raw\\healthy\\i0reS77d27TfHnKANrEGHVZXkLw2_cough-heavy.wav\n",
      "[Copied] data\\raw\\healthy\\i0reS77d27TfHnKANrEGHVZXkLw2_cough-shallow.wav\n",
      "[Copied] data\\raw\\healthy\\aC09qmwnQ6MboJlAAdxf0DGr9Ay2_cough-heavy.wav\n",
      "[Copied] data\\raw\\healthy\\aC09qmwnQ6MboJlAAdxf0DGr9Ay2_cough-shallow.wav\n",
      "[Copied] data\\raw\\healthy\\6GBpxEuVACapBiyIgwQOAj1zuuy1_cough-heavy.wav\n",
      "[Copied] data\\raw\\healthy\\6GBpxEuVACapBiyIgwQOAj1zuuy1_cough-shallow.wav\n",
      "[Copied] data\\raw\\healthy\\K3kwl6reCLNR8G0Al3zNQVztRri2_cough-heavy.wav\n",
      "[Copied] data\\raw\\healthy\\K3kwl6reCLNR8G0Al3zNQVztRri2_cough-shallow.wav\n",
      "[Copied] data\\raw\\healthy\\FA82s56D4CP2QAkUpv7Zlbz95NW2_cough-heavy.wav\n",
      "[Copied] data\\raw\\healthy\\FA82s56D4CP2QAkUpv7Zlbz95NW2_cough-shallow.wav\n",
      "[Copied] data\\raw\\healthy\\NakKwA95snbM0W6Lk1nV0ptOmOA2_cough-heavy.wav\n",
      "[Copied] data\\raw\\healthy\\NakKwA95snbM0W6Lk1nV0ptOmOA2_cough-shallow.wav\n",
      "[Copied] data\\raw\\healthy\\9V5mCzwbSgcrw64VLWR2DZf4bcx1_cough-heavy.wav\n",
      "[Copied] data\\raw\\healthy\\9V5mCzwbSgcrw64VLWR2DZf4bcx1_cough-shallow.wav\n",
      "[Copied] data\\raw\\healthy\\UWYfIxsL1LbICfxxW9dzfYDAgrD2_cough-heavy.wav\n",
      "[Copied] data\\raw\\healthy\\UWYfIxsL1LbICfxxW9dzfYDAgrD2_cough-shallow.wav\n",
      "[Copied] data\\raw\\healthy\\QHDZOE4ryxMbsGpXU7Dad9egAts2_cough-heavy.wav\n",
      "[Copied] data\\raw\\healthy\\QHDZOE4ryxMbsGpXU7Dad9egAts2_cough-shallow.wav\n",
      "[Copied] data\\raw\\healthy\\y3qWUVLhMeQvpdfsClkugyMnBmH3_cough-heavy.wav\n",
      "[Copied] data\\raw\\healthy\\y3qWUVLhMeQvpdfsClkugyMnBmH3_cough-shallow.wav\n",
      "[Copied] data\\raw\\healthy\\MzfeFflqlyWPwz3A1qscgJpZnXz2_cough-heavy.wav\n",
      "[Copied] data\\raw\\healthy\\MzfeFflqlyWPwz3A1qscgJpZnXz2_cough-shallow.wav\n",
      "[Copied] data\\raw\\healthy\\KlAIIeihTRMefwV4X9bJ6kt7E6K2_cough-heavy.wav\n",
      "[Copied] data\\raw\\healthy\\KlAIIeihTRMefwV4X9bJ6kt7E6K2_cough-shallow.wav\n",
      "[Copied] data\\raw\\healthy\\9W9lO1i6cAUZxsWDcnIOslZpR4j2_cough-heavy.wav\n",
      "[Copied] data\\raw\\healthy\\9W9lO1i6cAUZxsWDcnIOslZpR4j2_cough-shallow.wav\n",
      "[Copied] data\\raw\\healthy\\9om37Xnu61hb4q03NB3ch5uKvfq2_cough-heavy.wav\n",
      "[Copied] data\\raw\\healthy\\9om37Xnu61hb4q03NB3ch5uKvfq2_cough-shallow.wav\n",
      "[Copied] data\\raw\\healthy\\g6XvvCwb27VPOBJP0Q14xIpIgXh2_cough-heavy.wav\n",
      "[Copied] data\\raw\\healthy\\g6XvvCwb27VPOBJP0Q14xIpIgXh2_cough-shallow.wav\n",
      "[Copied] data\\raw\\healthy\\rxcxucbvOkPayD5EmBl3RAAtp3C3_cough-heavy.wav\n",
      "[Copied] data\\raw\\healthy\\rxcxucbvOkPayD5EmBl3RAAtp3C3_cough-shallow.wav\n",
      "[Copied] data\\raw\\healthy\\fYVZ4nvbW3f5v7xlccDvVTkVTzf2_cough-heavy.wav\n",
      "[Copied] data\\raw\\healthy\\fYVZ4nvbW3f5v7xlccDvVTkVTzf2_cough-shallow.wav\n",
      "[Copied] data\\raw\\healthy\\XujagD0E8cRz2OBhAsfC6p14y693_cough-heavy.wav\n",
      "[Copied] data\\raw\\healthy\\XujagD0E8cRz2OBhAsfC6p14y693_cough-shallow.wav\n",
      "[Copied] data\\raw\\healthy\\KuTattHUg2WmBsUuqE29FgsbEzI3_cough-heavy.wav\n",
      "[Copied] data\\raw\\healthy\\KuTattHUg2WmBsUuqE29FgsbEzI3_cough-shallow.wav\n",
      "[Copied] data\\raw\\healthy\\npdYHgmoGnN0QslTqGQd2i28LMo1_cough-heavy.wav\n",
      "[Copied] data\\raw\\healthy\\npdYHgmoGnN0QslTqGQd2i28LMo1_cough-shallow.wav\n",
      "[Copied] data\\raw\\healthy\\V8HUkcYumWd6DLYFlhxkZkXFiH83_cough-heavy.wav\n",
      "[Copied] data\\raw\\healthy\\V8HUkcYumWd6DLYFlhxkZkXFiH83_cough-shallow.wav\n",
      "[Copied] data\\raw\\healthy\\JAbr5e5oaIQa6gXUPpQuC5O17eD2_cough-heavy.wav\n",
      "[Copied] data\\raw\\healthy\\JAbr5e5oaIQa6gXUPpQuC5O17eD2_cough-shallow.wav\n",
      "[Copied] data\\raw\\healthy\\GHZxcmoCXZhIfg7KqA0Pt75q9Rj2_cough-heavy.wav\n",
      "[Copied] data\\raw\\healthy\\GHZxcmoCXZhIfg7KqA0Pt75q9Rj2_cough-shallow.wav\n",
      "[Copied] data\\raw\\healthy\\JcnEWYQlvAc34RZ15oa1aIdxXmu2_cough-heavy.wav\n",
      "[Copied] data\\raw\\healthy\\JcnEWYQlvAc34RZ15oa1aIdxXmu2_cough-shallow.wav\n",
      "[Copied] data\\raw\\healthy\\ojyH22z0DOScG2wYRTuXD7vEAhl1_cough-heavy.wav\n",
      "[Copied] data\\raw\\healthy\\ojyH22z0DOScG2wYRTuXD7vEAhl1_cough-shallow.wav\n",
      "[Copied] data\\raw\\healthy\\ms2rkCAPxCXbWEnltBqqgvTZkDI3_cough-heavy.wav\n",
      "[Copied] data\\raw\\healthy\\ms2rkCAPxCXbWEnltBqqgvTZkDI3_cough-shallow.wav\n",
      "[Copied] data\\raw\\healthy\\PwGuQGYgkScdEbKOiJsg4tyOYTA2_cough-heavy.wav\n",
      "[Copied] data\\raw\\healthy\\PwGuQGYgkScdEbKOiJsg4tyOYTA2_cough-shallow.wav\n",
      "[Copied] data\\raw\\healthy\\mEb1cunNRZMy7gejeZerqvdfMfm1_cough-heavy.wav\n",
      "[Copied] data\\raw\\healthy\\mEb1cunNRZMy7gejeZerqvdfMfm1_cough-shallow.wav\n",
      "[Copied] data\\raw\\healthy\\mhSZr2kQUUXpZowNrDHw9eoRiwx1_cough-heavy.wav\n",
      "[Copied] data\\raw\\healthy\\mhSZr2kQUUXpZowNrDHw9eoRiwx1_cough-shallow.wav\n",
      "[Copied] data\\raw\\healthy\\DzSbdHq5VTZB8CaVDWSnSUai5mt2_cough-heavy.wav\n",
      "[Copied] data\\raw\\healthy\\DzSbdHq5VTZB8CaVDWSnSUai5mt2_cough-shallow.wav\n",
      "[Copied] data\\raw\\healthy\\uA96Zcbna6QlFzlWKebXWRZ2NTZ2_cough-heavy.wav\n",
      "[Copied] data\\raw\\healthy\\uA96Zcbna6QlFzlWKebXWRZ2NTZ2_cough-shallow.wav\n",
      "[Copied] data\\raw\\healthy\\RvUXdksXUjPGz9GqFI0cQtpdFw13_cough-heavy.wav\n",
      "[Copied] data\\raw\\healthy\\RvUXdksXUjPGz9GqFI0cQtpdFw13_cough-shallow.wav\n",
      "[Copied] data\\raw\\healthy\\R4RGUF6ibtcRmk3SpqUoOO5JtEW2_cough-heavy.wav\n",
      "[Copied] data\\raw\\healthy\\R4RGUF6ibtcRmk3SpqUoOO5JtEW2_cough-shallow.wav\n",
      "[Copied] data\\raw\\healthy\\kKU07z5BevhBk5j0VUE0Ae8dsex2_cough-heavy.wav\n",
      "[Copied] data\\raw\\healthy\\kKU07z5BevhBk5j0VUE0Ae8dsex2_cough-shallow.wav\n",
      "[Copied] data\\raw\\healthy\\d2Z7BHOMYlaJlksH8MiGJ9wKlBX2_cough-heavy.wav\n",
      "[Copied] data\\raw\\healthy\\d2Z7BHOMYlaJlksH8MiGJ9wKlBX2_cough-shallow.wav\n",
      "[Copied] data\\raw\\healthy\\WrM6hLW3fGbGgwpWSZT9HOSU7CC3_cough-heavy.wav\n",
      "[Copied] data\\raw\\healthy\\WrM6hLW3fGbGgwpWSZT9HOSU7CC3_cough-shallow.wav\n",
      "[Copied] data\\raw\\healthy\\IP6mdjKfmKNgsLLT110MkgGvWK02_cough-heavy.wav\n",
      "[Copied] data\\raw\\healthy\\IP6mdjKfmKNgsLLT110MkgGvWK02_cough-shallow.wav\n",
      "[Copied] data\\raw\\healthy\\oOAokpgIGldpKKlBoPfcyOoycf23_cough-heavy.wav\n",
      "[Copied] data\\raw\\healthy\\oOAokpgIGldpKKlBoPfcyOoycf23_cough-shallow.wav\n",
      "[Copied] data\\raw\\healthy\\34FItWuiLofMlaG1BmqHWVgHelh2_cough-heavy.wav\n",
      "[Copied] data\\raw\\healthy\\34FItWuiLofMlaG1BmqHWVgHelh2_cough-shallow.wav\n",
      "[Copied] data\\raw\\healthy\\K5SeTDLlXVQ0U5sl17KluTKEOKJ3_cough-heavy.wav\n",
      "[Copied] data\\raw\\healthy\\K5SeTDLlXVQ0U5sl17KluTKEOKJ3_cough-shallow.wav\n",
      "[Copied] data\\raw\\healthy\\l0PKph2FdVW5pGpo8cXFg6vj2DN2_cough-heavy.wav\n",
      "[Copied] data\\raw\\healthy\\l0PKph2FdVW5pGpo8cXFg6vj2DN2_cough-shallow.wav\n",
      "[Copied] data\\raw\\healthy\\DeMaRSg6lVO7oA6v9HK3mbWjr3r2_cough-heavy.wav\n",
      "[Copied] data\\raw\\healthy\\DeMaRSg6lVO7oA6v9HK3mbWjr3r2_cough-shallow.wav\n",
      "[Copied] data\\raw\\healthy\\6EIX9NrJ1oWfURDgcOsxZ8j4z5o2_cough-heavy.wav\n",
      "[Copied] data\\raw\\healthy\\6EIX9NrJ1oWfURDgcOsxZ8j4z5o2_cough-shallow.wav\n",
      "[Copied] data\\raw\\healthy\\EAqrht1aIXZSoBIuuULWnWTjwQr2_cough-heavy.wav\n",
      "[Copied] data\\raw\\healthy\\EAqrht1aIXZSoBIuuULWnWTjwQr2_cough-shallow.wav\n",
      "[Copied] data\\raw\\healthy\\t7dXTi07q9Uu8jKWAkO7FvTGD9c2_cough-heavy.wav\n",
      "[Copied] data\\raw\\healthy\\t7dXTi07q9Uu8jKWAkO7FvTGD9c2_cough-shallow.wav\n",
      "[Copied] data\\raw\\healthy\\6BGTwwcsLoZpqSMhSzFeT2Z7Pqr2_cough-heavy.wav\n",
      "[Copied] data\\raw\\healthy\\6BGTwwcsLoZpqSMhSzFeT2Z7Pqr2_cough-shallow.wav\n",
      "[Copied] data\\raw\\healthy\\MViWQGORcQfI5lGwqT4CDXP9iHG3_cough-heavy.wav\n",
      "[Copied] data\\raw\\healthy\\MViWQGORcQfI5lGwqT4CDXP9iHG3_cough-shallow.wav\n",
      "[Copied] data\\raw\\healthy\\0xsz0lbpsoVgfojvTNSAjv9dhBq1_cough-heavy.wav\n",
      "[Copied] data\\raw\\healthy\\0xsz0lbpsoVgfojvTNSAjv9dhBq1_cough-shallow.wav\n",
      "[Copied] data\\raw\\healthy\\J1YTIleE4HWC6wCg1gIC1N4Hgw13_cough-heavy.wav\n",
      "[Copied] data\\raw\\healthy\\J1YTIleE4HWC6wCg1gIC1N4Hgw13_cough-shallow.wav\n",
      "[Copied] data\\raw\\healthy\\nwXAgQmOEVRx6dZqQzc0GdmNSx22_cough-heavy.wav\n",
      "[Copied] data\\raw\\healthy\\nwXAgQmOEVRx6dZqQzc0GdmNSx22_cough-shallow.wav\n",
      "[Copied] data\\raw\\healthy\\ZdpBUfXPEpShEdHGVTUxULhNtn23_cough-heavy.wav\n",
      "[Copied] data\\raw\\healthy\\ZdpBUfXPEpShEdHGVTUxULhNtn23_cough-shallow.wav\n",
      "[Copied] data\\raw\\healthy\\M8Y156MBhmYtI8n9jopclvzzK362_cough-heavy.wav\n",
      "[Copied] data\\raw\\healthy\\M8Y156MBhmYtI8n9jopclvzzK362_cough-shallow.wav\n",
      "[Copied] data\\raw\\healthy\\igcBoCJELsfzituxLn61lJybxgD2_cough-heavy.wav\n",
      "[Copied] data\\raw\\healthy\\igcBoCJELsfzituxLn61lJybxgD2_cough-shallow.wav\n",
      "[Copied] data\\raw\\healthy\\A9YX4pRpOyW1PuuL9YjMs0kFQI03_cough-heavy.wav\n",
      "[Copied] data\\raw\\healthy\\A9YX4pRpOyW1PuuL9YjMs0kFQI03_cough-shallow.wav\n",
      "[Copied] data\\raw\\healthy\\y2ceQRvov6OusKPKa7okrqRHkLo2_cough-heavy.wav\n",
      "[Copied] data\\raw\\healthy\\y2ceQRvov6OusKPKa7okrqRHkLo2_cough-shallow.wav\n",
      "[Copied] data\\raw\\healthy\\TfuCgDdguMVRpKIAXs2kINT1Yxx1_cough-heavy.wav\n",
      "[Copied] data\\raw\\healthy\\TfuCgDdguMVRpKIAXs2kINT1Yxx1_cough-shallow.wav\n",
      "[Copied] data\\raw\\healthy\\IIKtjdSBHDUkAzLMBs6n3SLbR8Y2_cough-heavy.wav\n",
      "[Copied] data\\raw\\healthy\\IIKtjdSBHDUkAzLMBs6n3SLbR8Y2_cough-shallow.wav\n",
      "[Copied] data\\raw\\healthy\\D246kD9hgaasRxrRMzEaQSkft032_cough-heavy.wav\n",
      "[Copied] data\\raw\\healthy\\D246kD9hgaasRxrRMzEaQSkft032_cough-shallow.wav\n",
      "[Copied] data\\raw\\healthy\\DZmX1dGK8KdmY3WYQFuCXrVWuhk2_cough-heavy.wav\n",
      "[Copied] data\\raw\\healthy\\DZmX1dGK8KdmY3WYQFuCXrVWuhk2_cough-shallow.wav\n",
      "[Copied] data\\raw\\healthy\\O924JvpBNRN7jHvErWkpfjqGvat1_cough-heavy.wav\n",
      "[Copied] data\\raw\\healthy\\O924JvpBNRN7jHvErWkpfjqGvat1_cough-shallow.wav\n",
      "[Copied] data\\raw\\healthy\\VxQekDvwa3N5B2FqB4FlQ5jBjTp2_cough-heavy.wav\n",
      "[Copied] data\\raw\\healthy\\VxQekDvwa3N5B2FqB4FlQ5jBjTp2_cough-shallow.wav\n",
      "[Copied] data\\raw\\healthy\\lkIyl8ZSqIVKiLcfXF6cez7i4o13_cough-heavy.wav\n",
      "[Copied] data\\raw\\healthy\\lkIyl8ZSqIVKiLcfXF6cez7i4o13_cough-shallow.wav\n",
      "[Copied] data\\raw\\healthy\\I5gTlFVoKbVFGCKxwV6QXSOdkZN2_cough-heavy.wav\n",
      "[Copied] data\\raw\\healthy\\I5gTlFVoKbVFGCKxwV6QXSOdkZN2_cough-shallow.wav\n",
      "[Copied] data\\raw\\healthy\\dGnCoUaAVqQqp1p7Kr74K87Hm2D2_cough-heavy.wav\n",
      "[Copied] data\\raw\\healthy\\dGnCoUaAVqQqp1p7Kr74K87Hm2D2_cough-shallow.wav\n",
      "[Copied] data\\raw\\healthy\\K0LmigcBKlRdTAlrCyfmBJaQJwk1_cough-heavy.wav\n",
      "[Copied] data\\raw\\healthy\\K0LmigcBKlRdTAlrCyfmBJaQJwk1_cough-shallow.wav\n",
      "[Copied] data\\raw\\healthy\\IBjSkzn7W6WpVSw49EXPM2ME75t2_cough-heavy.wav\n",
      "[Copied] data\\raw\\healthy\\IBjSkzn7W6WpVSw49EXPM2ME75t2_cough-shallow.wav\n",
      "[Copied] data\\raw\\healthy\\KnZ1QsM9c8UoOBXrbt4qassreFj1_cough-heavy.wav\n",
      "[Copied] data\\raw\\healthy\\KnZ1QsM9c8UoOBXrbt4qassreFj1_cough-shallow.wav\n",
      "[Copied] data\\raw\\healthy\\3rQH10GnP9UFC6WD8iVbwZLI75K2_cough-heavy.wav\n",
      "[Copied] data\\raw\\healthy\\3rQH10GnP9UFC6WD8iVbwZLI75K2_cough-shallow.wav\n",
      "[Copied] data\\raw\\healthy\\ykpL1HVINBYQdqFtTk9IPAtC2FG3_cough-heavy.wav\n",
      "[Copied] data\\raw\\healthy\\ykpL1HVINBYQdqFtTk9IPAtC2FG3_cough-shallow.wav\n",
      "[Copied] data\\raw\\healthy\\T6a1ltY6OiOg38ChVI4URNFmGe23_cough-heavy.wav\n",
      "[Copied] data\\raw\\healthy\\T6a1ltY6OiOg38ChVI4URNFmGe23_cough-shallow.wav\n",
      "[Copied] data\\raw\\healthy\\xf8WMloFOzegmJfwltZVuSQHTyA2_cough-heavy.wav\n",
      "[Copied] data\\raw\\healthy\\xf8WMloFOzegmJfwltZVuSQHTyA2_cough-shallow.wav\n",
      "[Copied] data\\raw\\healthy\\kIpoXJzNPWQXgvSIdHiJj2kBK6n1_cough-heavy.wav\n",
      "[Copied] data\\raw\\healthy\\kIpoXJzNPWQXgvSIdHiJj2kBK6n1_cough-shallow.wav\n",
      "[Copied] data\\raw\\healthy\\jEkD1ffbScZx6wVALbrAhPz3w1S2_cough-heavy.wav\n",
      "[Copied] data\\raw\\healthy\\jEkD1ffbScZx6wVALbrAhPz3w1S2_cough-shallow.wav\n",
      "[Copied] data\\raw\\healthy\\USIcgb7j6ofzFTvbjQVofvgJOoD2_cough-heavy.wav\n",
      "[Copied] data\\raw\\healthy\\USIcgb7j6ofzFTvbjQVofvgJOoD2_cough-shallow.wav\n",
      "[Copied] data\\raw\\healthy\\6igAuPMTp6YCmFo4g6qp9Cj8t1k1_cough-heavy.wav\n",
      "[Copied] data\\raw\\healthy\\6igAuPMTp6YCmFo4g6qp9Cj8t1k1_cough-shallow.wav\n",
      "[Copied] data\\raw\\healthy\\8Ngu7IThNzTVZLqXDCm2BkMBSLl1_cough-heavy.wav\n",
      "[Copied] data\\raw\\healthy\\8Ngu7IThNzTVZLqXDCm2BkMBSLl1_cough-shallow.wav\n",
      "[Copied] data\\raw\\healthy\\A58ps4OZgaO0Y1E5rbeUBGJAxiW2_cough-heavy.wav\n",
      "[Copied] data\\raw\\healthy\\A58ps4OZgaO0Y1E5rbeUBGJAxiW2_cough-shallow.wav\n",
      "[Copied] data\\raw\\healthy\\Hb9DrqUzdCfKOQWYs4T85y3S3Rl1_cough-heavy.wav\n",
      "[Copied] data\\raw\\healthy\\Hb9DrqUzdCfKOQWYs4T85y3S3Rl1_cough-shallow.wav\n",
      "[Copied] data\\raw\\healthy\\20jWH9MjwmbBKFjhi7KkMYZn9bk1_cough-heavy.wav\n",
      "[Copied] data\\raw\\healthy\\20jWH9MjwmbBKFjhi7KkMYZn9bk1_cough-shallow.wav\n",
      "[Copied] data\\raw\\healthy\\IbHJbk0Rz4QkL9zRJzb28SEDxJj1_cough-heavy.wav\n",
      "[Copied] data\\raw\\healthy\\IbHJbk0Rz4QkL9zRJzb28SEDxJj1_cough-shallow.wav\n",
      "[Copied] data\\raw\\healthy\\wgHmm8HnFkZXb1MypYI0nym1zz13_cough-heavy.wav\n",
      "[Copied] data\\raw\\healthy\\wgHmm8HnFkZXb1MypYI0nym1zz13_cough-shallow.wav\n",
      "[Copied] data\\raw\\healthy\\t36yqxelXtUEMy6tQJd8Bn1Kr673_cough-heavy.wav\n",
      "[Copied] data\\raw\\healthy\\t36yqxelXtUEMy6tQJd8Bn1Kr673_cough-shallow.wav\n",
      "[Copied] data\\raw\\healthy\\RN1h8pdpLkMEdRKNVZvFJZqWfGD2_cough-heavy.wav\n",
      "[Copied] data\\raw\\healthy\\RN1h8pdpLkMEdRKNVZvFJZqWfGD2_cough-shallow.wav\n",
      "[Copied] data\\raw\\healthy\\gr6bSWC4ScN21fpbwxCXpwgFE2X2_cough-heavy.wav\n",
      "[Copied] data\\raw\\healthy\\gr6bSWC4ScN21fpbwxCXpwgFE2X2_cough-shallow.wav\n",
      "[Copied] data\\raw\\healthy\\3VCMGx9M1tTUiEcjERCBG6iC1Ko1_cough-heavy.wav\n",
      "[Copied] data\\raw\\healthy\\3VCMGx9M1tTUiEcjERCBG6iC1Ko1_cough-shallow.wav\n",
      "[Copied] data\\raw\\healthy\\229rWq0xWbfGANPmsv6F39xhjnS2_cough-heavy.wav\n",
      "[Copied] data\\raw\\healthy\\229rWq0xWbfGANPmsv6F39xhjnS2_cough-shallow.wav\n",
      "[Copied] data\\raw\\healthy\\mNcNjQMsv8aZXFGuguWbLdmkOQk2_cough-heavy.wav\n",
      "[Copied] data\\raw\\healthy\\mNcNjQMsv8aZXFGuguWbLdmkOQk2_cough-shallow.wav\n",
      "[Copied] data\\raw\\healthy\\3RBbwztykUWGLJ5UmBZoL5pqOtA3_cough-heavy.wav\n",
      "[Copied] data\\raw\\healthy\\3RBbwztykUWGLJ5UmBZoL5pqOtA3_cough-shallow.wav\n",
      "[Copied] data\\raw\\healthy\\z7RqPeGUQ4X8rxD6ftMf9i4ZE3w2_cough-heavy.wav\n",
      "[Copied] data\\raw\\healthy\\z7RqPeGUQ4X8rxD6ftMf9i4ZE3w2_cough-shallow.wav\n",
      "[Copied] data\\raw\\healthy\\q3DEiVNvlkNAGJq8LoHEb1TVPao1_cough-heavy.wav\n",
      "[Copied] data\\raw\\healthy\\q3DEiVNvlkNAGJq8LoHEb1TVPao1_cough-shallow.wav\n",
      "[Copied] data\\raw\\healthy\\LAGGMvR7ScbjwTmMYBbEBfWRcN93_cough-heavy.wav\n",
      "[Copied] data\\raw\\healthy\\LAGGMvR7ScbjwTmMYBbEBfWRcN93_cough-shallow.wav\n",
      "[Copied] data\\raw\\healthy\\nXZU2OEKmtPSXhbaHZAKb3snrJt2_cough-heavy.wav\n",
      "[Copied] data\\raw\\healthy\\nXZU2OEKmtPSXhbaHZAKb3snrJt2_cough-shallow.wav\n",
      "[Copied] data\\raw\\healthy\\kDI4V7d7CNOZp3DwAK825tYAzsw2_cough-heavy.wav\n",
      "[Copied] data\\raw\\healthy\\kDI4V7d7CNOZp3DwAK825tYAzsw2_cough-shallow.wav\n",
      "[Copied] data\\raw\\healthy\\Gcs79sztbbauDn62MJa2xq2jrqT2_cough-heavy.wav\n",
      "[Copied] data\\raw\\healthy\\Gcs79sztbbauDn62MJa2xq2jrqT2_cough-shallow.wav\n",
      "[Copied] data\\raw\\healthy\\spM6cgJG4VQfYjnnTqxwx3Cg3pk1_cough-heavy.wav\n",
      "[Copied] data\\raw\\healthy\\spM6cgJG4VQfYjnnTqxwx3Cg3pk1_cough-shallow.wav\n",
      "[Copied] data\\raw\\healthy\\dmE3r0LE6Yg9qmCd7aubpgug9te2_cough-heavy.wav\n",
      "[Copied] data\\raw\\healthy\\dmE3r0LE6Yg9qmCd7aubpgug9te2_cough-shallow.wav\n",
      "[Copied] data\\raw\\healthy\\y3xOwlrqS3QhFVHCYnzJfCN0I8F2_cough-heavy.wav\n",
      "[Copied] data\\raw\\healthy\\y3xOwlrqS3QhFVHCYnzJfCN0I8F2_cough-shallow.wav\n",
      "[Copied] data\\raw\\healthy\\4mg0uaY0GYTtgo4hvP2APxs7zhL2_cough-heavy.wav\n",
      "[Copied] data\\raw\\healthy\\4mg0uaY0GYTtgo4hvP2APxs7zhL2_cough-shallow.wav\n",
      "[Copied] data\\raw\\healthy\\83BZjlFTcYZWakpS3tf63fpwbQO2_cough-heavy.wav\n",
      "[Copied] data\\raw\\healthy\\83BZjlFTcYZWakpS3tf63fpwbQO2_cough-shallow.wav\n",
      "[Copied] data\\raw\\healthy\\1oiS7CTfV2NXbNqmYiQ9rs5toFS2_cough-heavy.wav\n",
      "[Copied] data\\raw\\healthy\\1oiS7CTfV2NXbNqmYiQ9rs5toFS2_cough-shallow.wav\n",
      "[Copied] data\\raw\\healthy\\PlplsT6dnBbbDLRRXiSGU5I8Jls2_cough-heavy.wav\n",
      "[Copied] data\\raw\\healthy\\PlplsT6dnBbbDLRRXiSGU5I8Jls2_cough-shallow.wav\n",
      "[Copied] data\\raw\\healthy\\z1SsPGv63YeNLOjgDUTa2kEG1wY2_cough-heavy.wav\n",
      "[Copied] data\\raw\\healthy\\z1SsPGv63YeNLOjgDUTa2kEG1wY2_cough-shallow.wav\n",
      "[Copied] data\\raw\\healthy\\EAj5X2nQbNhAzPOqXj28BgI9Wpp2_cough-heavy.wav\n",
      "[Copied] data\\raw\\healthy\\EAj5X2nQbNhAzPOqXj28BgI9Wpp2_cough-shallow.wav\n",
      "[Copied] data\\raw\\healthy\\wnYwVtKVX9f8UdFFAkWGUvN98V83_cough-heavy.wav\n",
      "[Copied] data\\raw\\healthy\\wnYwVtKVX9f8UdFFAkWGUvN98V83_cough-shallow.wav\n",
      "[Copied] data\\raw\\healthy\\7a71ntGZtkQKltg52eiRPJj4cr33_cough-heavy.wav\n",
      "[Copied] data\\raw\\healthy\\7a71ntGZtkQKltg52eiRPJj4cr33_cough-shallow.wav\n",
      "[Copied] data\\raw\\healthy\\X2oy68UUgdNd97dpzW1ZubPZVIC2_cough-heavy.wav\n",
      "[Copied] data\\raw\\healthy\\X2oy68UUgdNd97dpzW1ZubPZVIC2_cough-shallow.wav\n",
      "[Copied] data\\raw\\healthy\\goCuK84Tklfu22gFPPMqt1ZIjxo2_cough-heavy.wav\n",
      "[Copied] data\\raw\\healthy\\goCuK84Tklfu22gFPPMqt1ZIjxo2_cough-shallow.wav\n",
      "[Copied] data\\raw\\healthy\\us7APpurf2OG6PGiYAvqrE4fZtQ2_cough-heavy.wav\n",
      "[Copied] data\\raw\\healthy\\us7APpurf2OG6PGiYAvqrE4fZtQ2_cough-shallow.wav\n",
      "[Copied] data\\raw\\healthy\\p892e9IyF2dZFs8eqIF1TCtxf0A3_cough-heavy.wav\n",
      "[Copied] data\\raw\\healthy\\p892e9IyF2dZFs8eqIF1TCtxf0A3_cough-shallow.wav\n",
      "[Copied] data\\raw\\healthy\\sWcxNpUjPcbEfjNw7RouuKrSMyx2_cough-heavy.wav\n",
      "[Copied] data\\raw\\healthy\\sWcxNpUjPcbEfjNw7RouuKrSMyx2_cough-shallow.wav\n",
      "[Copied] data\\raw\\healthy\\p5vVbB3dnSSw6SBYjsgsi1Hv4Eu1_cough-heavy.wav\n",
      "[Copied] data\\raw\\healthy\\p5vVbB3dnSSw6SBYjsgsi1Hv4Eu1_cough-shallow.wav\n",
      "[Copied] data\\raw\\healthy\\gjF0L8phdmPxc9az1muox66bQD93_cough-heavy.wav\n",
      "[Copied] data\\raw\\healthy\\gjF0L8phdmPxc9az1muox66bQD93_cough-shallow.wav\n",
      "[Copied] data\\raw\\healthy\\aBhVajwUynU2XvqHDXl7EA9bVNm1_cough-heavy.wav\n",
      "[Copied] data\\raw\\healthy\\aBhVajwUynU2XvqHDXl7EA9bVNm1_cough-shallow.wav\n",
      "[Copied] data\\raw\\healthy\\60JfHHIcNZUf9lCy68R1Cgl69ZN2_cough-heavy.wav\n",
      "[Copied] data\\raw\\healthy\\60JfHHIcNZUf9lCy68R1Cgl69ZN2_cough-shallow.wav\n",
      "[Copied] data\\raw\\healthy\\BMhTCbqVnHNePVbFulnWNu6ZSUg2_cough-heavy.wav\n",
      "[Copied] data\\raw\\healthy\\BMhTCbqVnHNePVbFulnWNu6ZSUg2_cough-shallow.wav\n",
      "[Copied] data\\raw\\healthy\\JecvGmjPyEVl7y6fupTTp6QZvoJ2_cough-heavy.wav\n",
      "[Copied] data\\raw\\healthy\\JecvGmjPyEVl7y6fupTTp6QZvoJ2_cough-shallow.wav\n",
      "[Copied] data\\raw\\healthy\\8XF2UFLn3Wd6dHHMdOlcGbQiMqb2_cough-heavy.wav\n",
      "[Copied] data\\raw\\healthy\\8XF2UFLn3Wd6dHHMdOlcGbQiMqb2_cough-shallow.wav\n",
      "[Copied] data\\raw\\healthy\\p2aSmxkCu5fzI6FfIGwYEMYEChl2_cough-heavy.wav\n",
      "[Copied] data\\raw\\healthy\\p2aSmxkCu5fzI6FfIGwYEMYEChl2_cough-shallow.wav\n",
      "[Copied] data\\raw\\healthy\\3xebjLX0tvTb7LwpMw7QiNixBln2_cough-heavy.wav\n",
      "[Copied] data\\raw\\healthy\\3xebjLX0tvTb7LwpMw7QiNixBln2_cough-shallow.wav\n",
      "[Copied] data\\raw\\healthy\\yUN7VBVk2wP9yT2vpgzHyVUZi5q1_cough-heavy.wav\n",
      "[Copied] data\\raw\\healthy\\yUN7VBVk2wP9yT2vpgzHyVUZi5q1_cough-shallow.wav\n",
      "[Copied] data\\raw\\healthy\\eNTXqhPqTser8AI98QMVcwQpV5p1_cough-heavy.wav\n",
      "[Copied] data\\raw\\healthy\\eNTXqhPqTser8AI98QMVcwQpV5p1_cough-shallow.wav\n",
      "[Copied] data\\raw\\healthy\\UKeaEFOLZbT7lMl0qZr3uGPO4wK2_cough-heavy.wav\n",
      "[Copied] data\\raw\\healthy\\UKeaEFOLZbT7lMl0qZr3uGPO4wK2_cough-shallow.wav\n",
      "[Copied] data\\raw\\healthy\\Yk18VcaTrIZ58BIGGgfGRvrf19b2_cough-heavy.wav\n",
      "[Copied] data\\raw\\healthy\\Yk18VcaTrIZ58BIGGgfGRvrf19b2_cough-shallow.wav\n",
      "[Copied] data\\raw\\healthy\\qqMKI7lvNFO8aQqGkWs0lvww3zJ2_cough-heavy.wav\n",
      "[Copied] data\\raw\\healthy\\qqMKI7lvNFO8aQqGkWs0lvww3zJ2_cough-shallow.wav\n",
      "[Copied] data\\raw\\healthy\\nWexc69oEiZ6d1YP3v2CDJBipkM2_cough-heavy.wav\n",
      "[Copied] data\\raw\\healthy\\nWexc69oEiZ6d1YP3v2CDJBipkM2_cough-shallow.wav\n",
      "[Copied] data\\raw\\healthy\\fVL3e9RKRgN2yNKT0KMNZhbal8R2_cough-heavy.wav\n",
      "[Copied] data\\raw\\healthy\\fVL3e9RKRgN2yNKT0KMNZhbal8R2_cough-shallow.wav\n",
      "[Copied] data\\raw\\healthy\\iwgKSGOJCSXNupqJWO2JeuT3Omf2_cough-heavy.wav\n",
      "[Copied] data\\raw\\healthy\\iwgKSGOJCSXNupqJWO2JeuT3Omf2_cough-shallow.wav\n",
      "[Copied] data\\raw\\healthy\\kgtFoIOecEZqthRZTYMaYb4zjQy2_cough-heavy.wav\n",
      "[Copied] data\\raw\\healthy\\kgtFoIOecEZqthRZTYMaYb4zjQy2_cough-shallow.wav\n",
      "[Copied] data\\raw\\healthy\\y1BNWatVkKPrYY9TfvTnWjZVaJp2_cough-heavy.wav\n",
      "[Copied] data\\raw\\healthy\\y1BNWatVkKPrYY9TfvTnWjZVaJp2_cough-shallow.wav\n",
      "[Copied] data\\raw\\healthy\\xSNAaXDQn7NXL8xgSb4ix26X1R93_cough-heavy.wav\n",
      "[Copied] data\\raw\\healthy\\xSNAaXDQn7NXL8xgSb4ix26X1R93_cough-shallow.wav\n",
      "[Copied] data\\raw\\healthy\\H6bxcGub1wOdaWWZ7kyk8KYuswf1_cough-heavy.wav\n",
      "[Copied] data\\raw\\healthy\\H6bxcGub1wOdaWWZ7kyk8KYuswf1_cough-shallow.wav\n",
      "[Copied] data\\raw\\healthy\\ypvsQ6trNDhlWTd8A5vXrRCC8mg1_cough-heavy.wav\n",
      "[Copied] data\\raw\\healthy\\ypvsQ6trNDhlWTd8A5vXrRCC8mg1_cough-shallow.wav\n",
      "[Copied] data\\raw\\healthy\\nPnKdupHeJQ46bqslx7STREbkXt2_cough-heavy.wav\n",
      "[Copied] data\\raw\\healthy\\nPnKdupHeJQ46bqslx7STREbkXt2_cough-shallow.wav\n",
      "[Copied] data\\raw\\healthy\\4wRQbTA56AgZ27o7Yq6oVWUzR7A3_cough-heavy.wav\n",
      "[Copied] data\\raw\\healthy\\4wRQbTA56AgZ27o7Yq6oVWUzR7A3_cough-shallow.wav\n",
      "[Copied] data\\raw\\healthy\\NjLggybuDbN2vcR2Va2hyDuDwQv2_cough-heavy.wav\n",
      "[Copied] data\\raw\\healthy\\NjLggybuDbN2vcR2Va2hyDuDwQv2_cough-shallow.wav\n",
      "[Copied] data\\raw\\healthy\\RrdJGUs5gtbagFUqPyOzF19r9Sv1_cough-heavy.wav\n",
      "[Copied] data\\raw\\healthy\\RrdJGUs5gtbagFUqPyOzF19r9Sv1_cough-shallow.wav\n",
      "[Copied] data\\raw\\healthy\\B6X0O4W1xyP5lMLvMIzc4fGhQSj1_cough-heavy.wav\n",
      "[Copied] data\\raw\\healthy\\B6X0O4W1xyP5lMLvMIzc4fGhQSj1_cough-shallow.wav\n",
      "[Copied] data\\raw\\healthy\\PZhCH5PyO8RD2FPFQbeCmuGB5q33_cough-heavy.wav\n",
      "[Copied] data\\raw\\healthy\\PZhCH5PyO8RD2FPFQbeCmuGB5q33_cough-shallow.wav\n",
      "[Copied] data\\raw\\healthy\\uiJ6vlTGUtO7akwp4VhP2142D9u1_cough-heavy.wav\n",
      "[Copied] data\\raw\\healthy\\uiJ6vlTGUtO7akwp4VhP2142D9u1_cough-shallow.wav\n",
      "[Copied] data\\raw\\healthy\\Ed1ZsgwOyYcEnpPXOXKPQd1QaS62_cough-heavy.wav\n",
      "[Copied] data\\raw\\healthy\\Ed1ZsgwOyYcEnpPXOXKPQd1QaS62_cough-shallow.wav\n",
      "[Copied] data\\raw\\healthy\\LuWrKc4LBRWEfrsF2sCdR7o57m12_cough-heavy.wav\n",
      "[Copied] data\\raw\\healthy\\LuWrKc4LBRWEfrsF2sCdR7o57m12_cough-shallow.wav\n",
      "[Copied] data\\raw\\healthy\\GpkFX9qB33ZsvFG4HWQHkOMWjFW2_cough-heavy.wav\n",
      "[Copied] data\\raw\\healthy\\GpkFX9qB33ZsvFG4HWQHkOMWjFW2_cough-shallow.wav\n",
      "[Copied] data\\raw\\healthy\\jU6lNbGSe4TXBJdMhRoUCRnAWsT2_cough-heavy.wav\n",
      "[Copied] data\\raw\\healthy\\jU6lNbGSe4TXBJdMhRoUCRnAWsT2_cough-shallow.wav\n",
      "[Copied] data\\raw\\healthy\\bk1oHM5vebe9ZNtgyRq54UVOIQR2_cough-heavy.wav\n",
      "[Copied] data\\raw\\healthy\\bk1oHM5vebe9ZNtgyRq54UVOIQR2_cough-shallow.wav\n",
      "[Copied] data\\raw\\healthy\\796K27lWKTfniw99yaqsYIvPrvi1_cough-heavy.wav\n",
      "[Copied] data\\raw\\healthy\\796K27lWKTfniw99yaqsYIvPrvi1_cough-shallow.wav\n",
      "[Copied] data\\raw\\healthy\\ZHsY7y4Y8JOoafrQpOKJEr6gORq2_cough-heavy.wav\n",
      "[Copied] data\\raw\\healthy\\ZHsY7y4Y8JOoafrQpOKJEr6gORq2_cough-shallow.wav\n",
      "[Copied] data\\raw\\healthy\\BPQxhBSlypXZICqfsmZcUYBxFmz1_cough-heavy.wav\n",
      "[Copied] data\\raw\\healthy\\BPQxhBSlypXZICqfsmZcUYBxFmz1_cough-shallow.wav\n",
      "[Copied] data\\raw\\healthy\\9znW0Bni1Scj62DqhsfoagP6HLI2_cough-heavy.wav\n",
      "[Copied] data\\raw\\healthy\\9znW0Bni1Scj62DqhsfoagP6HLI2_cough-shallow.wav\n",
      "[Copied] data\\raw\\healthy\\6fqe8i160qM5rtC4uHrlu3MZXe32_cough-heavy.wav\n",
      "[Copied] data\\raw\\healthy\\6fqe8i160qM5rtC4uHrlu3MZXe32_cough-shallow.wav\n",
      "[Copied] data\\raw\\healthy\\2JEOCn5AtuQh5Skzhzf5ASuIC9z1_cough-heavy.wav\n",
      "[Copied] data\\raw\\healthy\\2JEOCn5AtuQh5Skzhzf5ASuIC9z1_cough-shallow.wav\n",
      "[Copied] data\\raw\\healthy\\svTIg0ZpdObLgdUfB3x7aehwRHj2_cough-heavy.wav\n",
      "[Copied] data\\raw\\healthy\\svTIg0ZpdObLgdUfB3x7aehwRHj2_cough-shallow.wav\n",
      "[Copied] data\\raw\\healthy\\JCDtX8bUuMbQNeh7SkMjavkAgVv2_cough-heavy.wav\n",
      "[Copied] data\\raw\\healthy\\JCDtX8bUuMbQNeh7SkMjavkAgVv2_cough-shallow.wav\n",
      "[Copied] data\\raw\\healthy\\LJ7VSEWnDqb3lPknPM9Q64zjdof1_cough-heavy.wav\n",
      "[Copied] data\\raw\\healthy\\LJ7VSEWnDqb3lPknPM9Q64zjdof1_cough-shallow.wav\n",
      "[Copied] data\\raw\\healthy\\gyh4z7KnY9eBGjNzBmKh5CeJyKA2_cough-heavy.wav\n",
      "[Copied] data\\raw\\healthy\\gyh4z7KnY9eBGjNzBmKh5CeJyKA2_cough-shallow.wav\n",
      "[Copied] data\\raw\\healthy\\jOUwCxF1qygGp8DqIt0zMiueXXj1_cough-heavy.wav\n",
      "[Copied] data\\raw\\healthy\\jOUwCxF1qygGp8DqIt0zMiueXXj1_cough-shallow.wav\n",
      "[Copied] data\\raw\\healthy\\SopKRSJ4JcY36rGE8X4wRE7vPHl2_cough-heavy.wav\n",
      "[Copied] data\\raw\\healthy\\SopKRSJ4JcY36rGE8X4wRE7vPHl2_cough-shallow.wav\n",
      "[Copied] data\\raw\\healthy\\URgU2WswGtQp3hFNsrkdGsVxAzJ2_cough-heavy.wav\n",
      "[Copied] data\\raw\\healthy\\URgU2WswGtQp3hFNsrkdGsVxAzJ2_cough-shallow.wav\n",
      "[Copied] data\\raw\\healthy\\s4cWXeTXzEagPfbizekEnRnDh4p1_cough-heavy.wav\n",
      "[Copied] data\\raw\\healthy\\s4cWXeTXzEagPfbizekEnRnDh4p1_cough-shallow.wav\n",
      "[Copied] data\\raw\\healthy\\p5ZEeEq5AgbI7KMhSP9HTCXTDQ62_cough-heavy.wav\n",
      "[Copied] data\\raw\\healthy\\p5ZEeEq5AgbI7KMhSP9HTCXTDQ62_cough-shallow.wav\n",
      "[Copied] data\\raw\\healthy\\teOvCnrHvkhO4p7XASV9OXfL0k72_cough-heavy.wav\n",
      "[Copied] data\\raw\\healthy\\teOvCnrHvkhO4p7XASV9OXfL0k72_cough-shallow.wav\n",
      "[Copied] data\\raw\\healthy\\Tg9azT9vyfe95C5l2z8hwHEc1p73_cough-heavy.wav\n",
      "[Copied] data\\raw\\healthy\\Tg9azT9vyfe95C5l2z8hwHEc1p73_cough-shallow.wav\n",
      "[Copied] data\\raw\\healthy\\1gKYFXop8UQtz5vrzrbVcnjX0Vi1_cough-heavy.wav\n",
      "[Copied] data\\raw\\healthy\\1gKYFXop8UQtz5vrzrbVcnjX0Vi1_cough-shallow.wav\n",
      "[Copied] data\\raw\\healthy\\euLpkmzCb1cGb2gkZRQ6gh7hGsC3_cough-heavy.wav\n",
      "[Copied] data\\raw\\healthy\\euLpkmzCb1cGb2gkZRQ6gh7hGsC3_cough-shallow.wav\n",
      "[Copied] data\\raw\\healthy\\sGG3SWYeDtd52RBt3dMM3HSv8SG3_cough-heavy.wav\n",
      "[Copied] data\\raw\\healthy\\sGG3SWYeDtd52RBt3dMM3HSv8SG3_cough-shallow.wav\n",
      "[Copied] data\\raw\\healthy\\FJTHLyF7sGYFJpundI1mZ28HQQ03_cough-heavy.wav\n",
      "[Copied] data\\raw\\healthy\\FJTHLyF7sGYFJpundI1mZ28HQQ03_cough-shallow.wav\n",
      "[Copied] data\\raw\\healthy\\FYXJ3Brvf1Wi8YdILInJ19dSiJM2_cough-heavy.wav\n",
      "[Copied] data\\raw\\healthy\\FYXJ3Brvf1Wi8YdILInJ19dSiJM2_cough-shallow.wav\n",
      "[Copied] data\\raw\\healthy\\Q5C7zucNKTZSpYWQBFkZaoKucwi1_cough-heavy.wav\n",
      "[Copied] data\\raw\\healthy\\Q5C7zucNKTZSpYWQBFkZaoKucwi1_cough-shallow.wav\n",
      "[Copied] data\\raw\\healthy\\TmtSpBMTFzSu3z7HHtir7UqUNbl2_cough-heavy.wav\n",
      "[Copied] data\\raw\\healthy\\TmtSpBMTFzSu3z7HHtir7UqUNbl2_cough-shallow.wav\n",
      "[Copied] data\\raw\\healthy\\DsEh7p2DEgWLuhbSTrqgQnTJJjC2_cough-heavy.wav\n",
      "[Copied] data\\raw\\healthy\\DsEh7p2DEgWLuhbSTrqgQnTJJjC2_cough-shallow.wav\n",
      "[Copied] data\\raw\\healthy\\2TOBsGCz6ZUYjZ1DKt3C0ae2VlZ2_cough-heavy.wav\n",
      "[Copied] data\\raw\\healthy\\2TOBsGCz6ZUYjZ1DKt3C0ae2VlZ2_cough-shallow.wav\n",
      "[Copied] data\\raw\\healthy\\qDaEukMgm3YGWKR1SdJqKIaxG6Z2_cough-heavy.wav\n",
      "[Copied] data\\raw\\healthy\\qDaEukMgm3YGWKR1SdJqKIaxG6Z2_cough-shallow.wav\n",
      "[Copied] data\\raw\\healthy\\CStOCq03YfgBopyDsibRbZlahm13_cough-heavy.wav\n",
      "[Copied] data\\raw\\healthy\\CStOCq03YfgBopyDsibRbZlahm13_cough-shallow.wav\n",
      "[Copied] data\\raw\\healthy\\HhIoOCxCe1Z02gC8qa7RsZZ8Vz23_cough-heavy.wav\n",
      "[Copied] data\\raw\\healthy\\HhIoOCxCe1Z02gC8qa7RsZZ8Vz23_cough-shallow.wav\n",
      "[Copied] data\\raw\\healthy\\E8foKQD2BqYfZjFhdhknvaDp3Ot2_cough-heavy.wav\n",
      "[Copied] data\\raw\\healthy\\E8foKQD2BqYfZjFhdhknvaDp3Ot2_cough-shallow.wav\n",
      "[Copied] data\\raw\\healthy\\WifTQoZzOTcQ53HiZNJUQOXehde2_cough-heavy.wav\n",
      "[Copied] data\\raw\\healthy\\WifTQoZzOTcQ53HiZNJUQOXehde2_cough-shallow.wav\n",
      "[Copied] data\\raw\\healthy\\tGWiXqKaZ0VQMD0X00ESt25ZpjN2_cough-heavy.wav\n",
      "[Copied] data\\raw\\healthy\\tGWiXqKaZ0VQMD0X00ESt25ZpjN2_cough-shallow.wav\n",
      "[Copied] data\\raw\\healthy\\7R6vvnCDQcVBjNyh6TGtlx48eAZ2_cough-heavy.wav\n",
      "[Copied] data\\raw\\healthy\\7R6vvnCDQcVBjNyh6TGtlx48eAZ2_cough-shallow.wav\n",
      "[Copied] data\\raw\\healthy\\ZuysSjckdLWhDEc9mARQwWpXfIj2_cough-heavy.wav\n",
      "[Copied] data\\raw\\healthy\\ZuysSjckdLWhDEc9mARQwWpXfIj2_cough-shallow.wav\n",
      "[Copied] data\\raw\\healthy\\KoN8x5OLC9fxkriFn7LVIONyMdy2_cough-heavy.wav\n",
      "[Copied] data\\raw\\healthy\\KoN8x5OLC9fxkriFn7LVIONyMdy2_cough-shallow.wav\n",
      "[Copied] data\\raw\\healthy\\W9McKFKrXiTydseUw3gSUyTpROH2_cough-heavy.wav\n",
      "[Copied] data\\raw\\healthy\\W9McKFKrXiTydseUw3gSUyTpROH2_cough-shallow.wav\n",
      "[Copied] data\\raw\\healthy\\TBMmcughcjOlmcYhSgn2Rdej1D32_cough-heavy.wav\n",
      "[Copied] data\\raw\\healthy\\TBMmcughcjOlmcYhSgn2Rdej1D32_cough-shallow.wav\n",
      "[Copied] data\\raw\\healthy\\4AF7pgiASsYQQOw11X2wOFdFJjm1_cough-heavy.wav\n",
      "[Copied] data\\raw\\healthy\\4AF7pgiASsYQQOw11X2wOFdFJjm1_cough-shallow.wav\n",
      "[Copied] data\\raw\\healthy\\2wrPt2jccQdBHxWGghBMypnXxHE3_cough-heavy.wav\n",
      "[Copied] data\\raw\\healthy\\2wrPt2jccQdBHxWGghBMypnXxHE3_cough-shallow.wav\n",
      "[Copied] data\\raw\\healthy\\2jy59FeBfYd59GJ6zn6PvLGloD83_cough-heavy.wav\n",
      "[Copied] data\\raw\\healthy\\2jy59FeBfYd59GJ6zn6PvLGloD83_cough-shallow.wav\n",
      "[Copied] data\\raw\\healthy\\6nUulJemkddThm7rsaNw4z31Ntu2_cough-heavy.wav\n",
      "[Copied] data\\raw\\healthy\\6nUulJemkddThm7rsaNw4z31Ntu2_cough-shallow.wav\n",
      "[Copied] data\\raw\\healthy\\ankVK1DxMvbVFA9PYyKvHk6CQLP2_cough-heavy.wav\n",
      "[Copied] data\\raw\\healthy\\ankVK1DxMvbVFA9PYyKvHk6CQLP2_cough-shallow.wav\n",
      "[Copied] data\\raw\\healthy\\SEQ5HfLxZBdOymQjE5xiTbBPtjj2_cough-heavy.wav\n",
      "[Copied] data\\raw\\healthy\\SEQ5HfLxZBdOymQjE5xiTbBPtjj2_cough-shallow.wav\n",
      "[Copied] data\\raw\\healthy\\7eqeo9k4vpZnfRc8T2OMkelZFzC3_cough-heavy.wav\n",
      "[Copied] data\\raw\\healthy\\7eqeo9k4vpZnfRc8T2OMkelZFzC3_cough-shallow.wav\n",
      "[Copied] data\\raw\\healthy\\owp10hao8XZzW0ooJYkACRmuGDu1_cough-heavy.wav\n",
      "[Copied] data\\raw\\healthy\\owp10hao8XZzW0ooJYkACRmuGDu1_cough-shallow.wav\n",
      "[Copied] data\\raw\\healthy\\4aI0r8RKKtcp2MopsUZjtA6ldKx2_cough-heavy.wav\n",
      "[Copied] data\\raw\\healthy\\4aI0r8RKKtcp2MopsUZjtA6ldKx2_cough-shallow.wav\n",
      "[Copied] data\\raw\\healthy\\JxtCdZIjW1VjLM92IYEhw3xz3pS2_cough-heavy.wav\n",
      "[Copied] data\\raw\\healthy\\JxtCdZIjW1VjLM92IYEhw3xz3pS2_cough-shallow.wav\n",
      "[Copied] data\\raw\\healthy\\vflTaeqGRDgNyjCbTvMt2dajbRX2_cough-heavy.wav\n",
      "[Copied] data\\raw\\healthy\\vflTaeqGRDgNyjCbTvMt2dajbRX2_cough-shallow.wav\n",
      "[Copied] data\\raw\\healthy\\yiqapKfcyIPAOKlqOxyU8DDANe63_cough-heavy.wav\n",
      "[Copied] data\\raw\\healthy\\yiqapKfcyIPAOKlqOxyU8DDANe63_cough-shallow.wav\n",
      "[Copied] data\\raw\\healthy\\Tjh68I4MImebZJrLG5sJMGZuxT32_cough-heavy.wav\n",
      "[Copied] data\\raw\\healthy\\Tjh68I4MImebZJrLG5sJMGZuxT32_cough-shallow.wav\n",
      "[Copied] data\\raw\\healthy\\QOOsSEpxcdW688dCIFZpYkwZzP12_cough-heavy.wav\n",
      "[Copied] data\\raw\\healthy\\QOOsSEpxcdW688dCIFZpYkwZzP12_cough-shallow.wav\n",
      "[Copied] data\\raw\\healthy\\RP28VzHbG0crJB2RnboqUaM9SRm1_cough-heavy.wav\n",
      "[Copied] data\\raw\\healthy\\RP28VzHbG0crJB2RnboqUaM9SRm1_cough-shallow.wav\n",
      "[Copied] data\\raw\\healthy\\qZEBUZAYCHhWEWXUeOGrLFhaZCW2_cough-heavy.wav\n",
      "[Copied] data\\raw\\healthy\\qZEBUZAYCHhWEWXUeOGrLFhaZCW2_cough-shallow.wav\n",
      "[Copied] data\\raw\\healthy\\Gs2gwBq34aMMglNC9jqGHS3ZzIs1_cough-heavy.wav\n",
      "[Copied] data\\raw\\healthy\\Gs2gwBq34aMMglNC9jqGHS3ZzIs1_cough-shallow.wav\n",
      "[Copied] data\\raw\\healthy\\uHPhyLsj5eYghJQOYj7iXa0fyOE3_cough-heavy.wav\n",
      "[Copied] data\\raw\\healthy\\uHPhyLsj5eYghJQOYj7iXa0fyOE3_cough-shallow.wav\n",
      "[Copied] data\\raw\\healthy\\LyCZNUHMdqQtXwEox0mUHngB1Gx1_cough-heavy.wav\n",
      "[Copied] data\\raw\\healthy\\LyCZNUHMdqQtXwEox0mUHngB1Gx1_cough-shallow.wav\n",
      "[Copied] data\\raw\\healthy\\cSBabP68WbPG0xQs8NnlgtVw5R42_cough-heavy.wav\n",
      "[Copied] data\\raw\\healthy\\cSBabP68WbPG0xQs8NnlgtVw5R42_cough-shallow.wav\n",
      "[Copied] data\\raw\\healthy\\LGiTXwr1u8YlLpxd1nvTlhGCZJn2_cough-heavy.wav\n",
      "[Copied] data\\raw\\healthy\\LGiTXwr1u8YlLpxd1nvTlhGCZJn2_cough-shallow.wav\n",
      "[Copied] data\\raw\\healthy\\awro2Lz4F9SgVweiUzROf1IE8GK2_cough-heavy.wav\n",
      "[Copied] data\\raw\\healthy\\awro2Lz4F9SgVweiUzROf1IE8GK2_cough-shallow.wav\n",
      "[Copied] data\\raw\\healthy\\pBB2aZFbLCMky5VPRAoWIClKN2Y2_cough-heavy.wav\n",
      "[Copied] data\\raw\\healthy\\pBB2aZFbLCMky5VPRAoWIClKN2Y2_cough-shallow.wav\n",
      "[Copied] data\\raw\\healthy\\IkwAlxsvmhXfpi9seBDU6rksY7C2_cough-heavy.wav\n",
      "[Copied] data\\raw\\healthy\\IkwAlxsvmhXfpi9seBDU6rksY7C2_cough-shallow.wav\n",
      "[Copied] data\\raw\\healthy\\C7Q6zEVYAZR7yC0DeDQVIYqfWCi2_cough-heavy.wav\n",
      "[Copied] data\\raw\\healthy\\C7Q6zEVYAZR7yC0DeDQVIYqfWCi2_cough-shallow.wav\n",
      "[Copied] data\\raw\\healthy\\aLeBZp6qmVVooQsTvP1ptnQk9IS2_cough-heavy.wav\n",
      "[Copied] data\\raw\\healthy\\aLeBZp6qmVVooQsTvP1ptnQk9IS2_cough-shallow.wav\n",
      "[Copied] data\\raw\\healthy\\4FJNm8IlWySNOgF0Jyyvw6beLxF2_cough-heavy.wav\n",
      "[Copied] data\\raw\\healthy\\4FJNm8IlWySNOgF0Jyyvw6beLxF2_cough-shallow.wav\n",
      "[Copied] data\\raw\\healthy\\RFqBDNt9sLR9PxvBliE1JhFVzK42_cough-heavy.wav\n",
      "[Copied] data\\raw\\healthy\\RFqBDNt9sLR9PxvBliE1JhFVzK42_cough-shallow.wav\n",
      "[Copied] data\\raw\\healthy\\8e6tYVdZj2btq3rYpi9zsy5VujF3_cough-heavy.wav\n",
      "[Copied] data\\raw\\healthy\\8e6tYVdZj2btq3rYpi9zsy5VujF3_cough-shallow.wav\n",
      "[Copied] data\\raw\\healthy\\KmMFugVd4Pa4fZW9FqWFcHBVovf2_cough-heavy.wav\n",
      "[Copied] data\\raw\\healthy\\KmMFugVd4Pa4fZW9FqWFcHBVovf2_cough-shallow.wav\n",
      "[Copied] data\\raw\\healthy\\3kUDnCX53IYe2LGsEDHwuXE8bWP2_cough-heavy.wav\n",
      "[Copied] data\\raw\\healthy\\3kUDnCX53IYe2LGsEDHwuXE8bWP2_cough-shallow.wav\n",
      "[Copied] data\\raw\\healthy\\Ruz6RW2jXUVDXkYX7GsYC3hzagn1_cough-heavy.wav\n",
      "[Copied] data\\raw\\healthy\\Ruz6RW2jXUVDXkYX7GsYC3hzagn1_cough-shallow.wav\n",
      "[Copied] data\\raw\\healthy\\fYwrpxbyuVeCaIFAST2XCi5HALv1_cough-heavy.wav\n",
      "[Copied] data\\raw\\healthy\\fYwrpxbyuVeCaIFAST2XCi5HALv1_cough-shallow.wav\n",
      "[Copied] data\\raw\\healthy\\VO8vkvfYKaM5zzj1YDN07Z40MP13_cough-heavy.wav\n",
      "[Copied] data\\raw\\healthy\\VO8vkvfYKaM5zzj1YDN07Z40MP13_cough-shallow.wav\n",
      "[Copied] data\\raw\\healthy\\Lo9OvxpnOmSsMC0qy4rwtXVamU13_cough-heavy.wav\n",
      "[Copied] data\\raw\\healthy\\Lo9OvxpnOmSsMC0qy4rwtXVamU13_cough-shallow.wav\n",
      "[Copied] data\\raw\\healthy\\ceqhMFL0ricxVFj2ILcKqaW7Pyv1_cough-heavy.wav\n",
      "[Copied] data\\raw\\healthy\\ceqhMFL0ricxVFj2ILcKqaW7Pyv1_cough-shallow.wav\n",
      "[Copied] data\\raw\\healthy\\4BsVbbiOh1a5X9UgYOIPOj3Hsi62_cough-heavy.wav\n",
      "[Copied] data\\raw\\healthy\\4BsVbbiOh1a5X9UgYOIPOj3Hsi62_cough-shallow.wav\n",
      "[Copied] data\\raw\\healthy\\I6Mjl4neEPMnMH16WVW6oTG860L2_cough-heavy.wav\n",
      "[Copied] data\\raw\\healthy\\I6Mjl4neEPMnMH16WVW6oTG860L2_cough-shallow.wav\n",
      "[Copied] data\\raw\\healthy\\kjPSx3B3tXf79RLmpSEvInCJUXx2_cough-heavy.wav\n",
      "[Copied] data\\raw\\healthy\\kjPSx3B3tXf79RLmpSEvInCJUXx2_cough-shallow.wav\n",
      "[Copied] data\\raw\\healthy\\rfZxLORiZraDBDfqVP5OX9MwprW2_cough-heavy.wav\n",
      "[Copied] data\\raw\\healthy\\rfZxLORiZraDBDfqVP5OX9MwprW2_cough-shallow.wav\n",
      "[Copied] data\\raw\\healthy\\YI4ywO94vZbuRNO7LOE8yy2xNNq1_cough-heavy.wav\n",
      "[Copied] data\\raw\\healthy\\YI4ywO94vZbuRNO7LOE8yy2xNNq1_cough-shallow.wav\n",
      "[Copied] data\\raw\\healthy\\sUvE80s6vsOdjqAo5mnubdliqrW2_cough-heavy.wav\n",
      "[Copied] data\\raw\\healthy\\sUvE80s6vsOdjqAo5mnubdliqrW2_cough-shallow.wav\n",
      "[Copied] data\\raw\\healthy\\FBdqiwdp4Kc7PpyUkLBM9qMSo2k1_cough-heavy.wav\n",
      "[Copied] data\\raw\\healthy\\FBdqiwdp4Kc7PpyUkLBM9qMSo2k1_cough-shallow.wav\n",
      "[Copied] data\\raw\\healthy\\913nkZSI3KeVWwJ7NfrfNFZGcKB3_cough-heavy.wav\n",
      "[Copied] data\\raw\\healthy\\913nkZSI3KeVWwJ7NfrfNFZGcKB3_cough-shallow.wav\n",
      "[Copied] data\\raw\\healthy\\oftR0bCS4Bdgkwkudt4ecIBudlt1_cough-heavy.wav\n",
      "[Copied] data\\raw\\healthy\\oftR0bCS4Bdgkwkudt4ecIBudlt1_cough-shallow.wav\n",
      "[Copied] data\\raw\\healthy\\ZIuG3ACI2aQ7spKg26hQM9nxFWi1_cough-heavy.wav\n",
      "[Copied] data\\raw\\healthy\\ZIuG3ACI2aQ7spKg26hQM9nxFWi1_cough-shallow.wav\n",
      "[Copied] data\\raw\\healthy\\6eeE5vinOTT3eH98PW5jBcpqmom1_cough-heavy.wav\n",
      "[Copied] data\\raw\\healthy\\6eeE5vinOTT3eH98PW5jBcpqmom1_cough-shallow.wav\n",
      "[Copied] data\\raw\\healthy\\clTCcS844yb8ZbQtq8EwQANZ6p22_cough-heavy.wav\n",
      "[Copied] data\\raw\\healthy\\clTCcS844yb8ZbQtq8EwQANZ6p22_cough-shallow.wav\n",
      "[Copied] data\\raw\\healthy\\3BUB0leQxthtm7CndU3zJdUktrK2_cough-heavy.wav\n",
      "[Copied] data\\raw\\healthy\\3BUB0leQxthtm7CndU3zJdUktrK2_cough-shallow.wav\n",
      "[Copied] data\\raw\\healthy\\OHIo7PN5VJZoQefj2perUPRHsDn2_cough-heavy.wav\n",
      "[Copied] data\\raw\\healthy\\OHIo7PN5VJZoQefj2perUPRHsDn2_cough-shallow.wav\n",
      "[Copied] data\\raw\\healthy\\JBHTkiv6VFfqC5oKSbfhSYwQ0Sv2_cough-heavy.wav\n",
      "[Copied] data\\raw\\healthy\\JBHTkiv6VFfqC5oKSbfhSYwQ0Sv2_cough-shallow.wav\n",
      "[Copied] data\\raw\\healthy\\UDsJYcNsh1NOD6LBl55nI5Z2dgj2_cough-heavy.wav\n",
      "[Copied] data\\raw\\healthy\\UDsJYcNsh1NOD6LBl55nI5Z2dgj2_cough-shallow.wav\n",
      "[Copied] data\\raw\\healthy\\VJfAi0zEQHh3U8JAAdM6qwqQxmr1_cough-heavy.wav\n",
      "[Copied] data\\raw\\healthy\\VJfAi0zEQHh3U8JAAdM6qwqQxmr1_cough-shallow.wav\n",
      "[Copied] data\\raw\\healthy\\6d2och05gaZuhGjLC5rEVdGPSsS2_cough-heavy.wav\n",
      "[Copied] data\\raw\\healthy\\6d2och05gaZuhGjLC5rEVdGPSsS2_cough-shallow.wav\n",
      "[Copied] data\\raw\\healthy\\mxAHwweq7wRBFCzdQuj2NiMvMin1_cough-heavy.wav\n",
      "[Copied] data\\raw\\healthy\\mxAHwweq7wRBFCzdQuj2NiMvMin1_cough-shallow.wav\n",
      "[Copied] data\\raw\\healthy\\3YsglsCX5US6WkSzHZAgt5F1C1y1_cough-heavy.wav\n",
      "[Copied] data\\raw\\healthy\\3YsglsCX5US6WkSzHZAgt5F1C1y1_cough-shallow.wav\n",
      "[Copied] data\\raw\\healthy\\gXKyKSft8sWALKf93iCMzoiYitW2_cough-heavy.wav\n",
      "[Copied] data\\raw\\healthy\\gXKyKSft8sWALKf93iCMzoiYitW2_cough-shallow.wav\n",
      "[Copied] data\\raw\\healthy\\9NFXTnUOA3h1BZqRfhnAJGlYfKy1_cough-heavy.wav\n",
      "[Copied] data\\raw\\healthy\\9NFXTnUOA3h1BZqRfhnAJGlYfKy1_cough-shallow.wav\n",
      "[Copied] data\\raw\\healthy\\Q9Dz0jLgNVQ2crXg9QNoObk2JCu2_cough-heavy.wav\n",
      "[Copied] data\\raw\\healthy\\Q9Dz0jLgNVQ2crXg9QNoObk2JCu2_cough-shallow.wav\n",
      "[Copied] data\\raw\\healthy\\NjCErTrUnWZZoKZj7UMHrhb2pkS2_cough-heavy.wav\n",
      "[Copied] data\\raw\\healthy\\NjCErTrUnWZZoKZj7UMHrhb2pkS2_cough-shallow.wav\n",
      "[Copied] data\\raw\\healthy\\yncydoirUqa12tTAUAceL5zMWaK2_cough-heavy.wav\n",
      "[Copied] data\\raw\\healthy\\yncydoirUqa12tTAUAceL5zMWaK2_cough-shallow.wav\n",
      "[Copied] data\\raw\\healthy\\51OnFkHZ12ay7VyGlPkA3AYsB6s2_cough-heavy.wav\n",
      "[Copied] data\\raw\\healthy\\51OnFkHZ12ay7VyGlPkA3AYsB6s2_cough-shallow.wav\n",
      "[Copied] data\\raw\\healthy\\CAlwzhQrNYT72NAfkAOpXNoLJrM2_cough-heavy.wav\n",
      "[Copied] data\\raw\\healthy\\CAlwzhQrNYT72NAfkAOpXNoLJrM2_cough-shallow.wav\n",
      "[Copied] data\\raw\\healthy\\fZiUtg0yBfazUG7IFZidEF8qJRS2_cough-heavy.wav\n",
      "[Copied] data\\raw\\healthy\\fZiUtg0yBfazUG7IFZidEF8qJRS2_cough-shallow.wav\n",
      "[Copied] data\\raw\\healthy\\wcKHRzi3zFZi7KNZqDcQD2wXkUm1_cough-heavy.wav\n",
      "[Copied] data\\raw\\healthy\\wcKHRzi3zFZi7KNZqDcQD2wXkUm1_cough-shallow.wav\n",
      "[Copied] data\\raw\\healthy\\BOVL8U9dmKWYsaPdV6b0EZkHuNo1_cough-heavy.wav\n",
      "[Copied] data\\raw\\healthy\\BOVL8U9dmKWYsaPdV6b0EZkHuNo1_cough-shallow.wav\n",
      "[Copied] data\\raw\\healthy\\yeo7HwJ5Dcbqc4ozwv6az8iRVTJ3_cough-heavy.wav\n",
      "[Copied] data\\raw\\healthy\\yeo7HwJ5Dcbqc4ozwv6az8iRVTJ3_cough-shallow.wav\n",
      "[Copied] data\\raw\\healthy\\6wlO9IzJRZZ3tp02z0La8JCAU8Z2_cough-heavy.wav\n",
      "[Copied] data\\raw\\healthy\\6wlO9IzJRZZ3tp02z0La8JCAU8Z2_cough-shallow.wav\n",
      "[Copied] data\\raw\\healthy\\1swHxN9xPFUu90g29z2RMCxG3oJ2_cough-heavy.wav\n",
      "[Copied] data\\raw\\healthy\\1swHxN9xPFUu90g29z2RMCxG3oJ2_cough-shallow.wav\n",
      "[Copied] data\\raw\\healthy\\6WQPyHp9AZThZUTD1Z2rOXv3d5R2_cough-heavy.wav\n",
      "[Copied] data\\raw\\healthy\\6WQPyHp9AZThZUTD1Z2rOXv3d5R2_cough-shallow.wav\n",
      "[Copied] data\\raw\\healthy\\EJSbChF4LfPisqLxlUqiwYU7zy83_cough-heavy.wav\n",
      "[Copied] data\\raw\\healthy\\EJSbChF4LfPisqLxlUqiwYU7zy83_cough-shallow.wav\n",
      "[Copied] data\\raw\\healthy\\zzh7tK9CrZacOddJTG9YQwCZz4f2_cough-heavy.wav\n",
      "[Copied] data\\raw\\healthy\\zzh7tK9CrZacOddJTG9YQwCZz4f2_cough-shallow.wav\n",
      "[Copied] data\\raw\\healthy\\OpvwYQFOschINBVkxBVeKgC0FeJ3_cough-heavy.wav\n",
      "[Copied] data\\raw\\healthy\\OpvwYQFOschINBVkxBVeKgC0FeJ3_cough-shallow.wav\n",
      "[Copied] data\\raw\\healthy\\t0UxwxXhJxX6jA1bJNTQYjOWeQj1_cough-heavy.wav\n",
      "[Copied] data\\raw\\healthy\\t0UxwxXhJxX6jA1bJNTQYjOWeQj1_cough-shallow.wav\n",
      "[Copied] data\\raw\\healthy\\gH4tLBmPiFWp96S6j3z0wjKYhab2_cough-heavy.wav\n",
      "[Copied] data\\raw\\healthy\\gH4tLBmPiFWp96S6j3z0wjKYhab2_cough-shallow.wav\n",
      "[Copied] data\\raw\\healthy\\Fohk6SJxcJVo4rtuGD6PMwJ9qTQ2_cough-heavy.wav\n",
      "[Copied] data\\raw\\healthy\\Fohk6SJxcJVo4rtuGD6PMwJ9qTQ2_cough-shallow.wav\n",
      "[Copied] data\\raw\\healthy\\z2ormj7bF7Zkgibaf97vOCUqrm62_cough-heavy.wav\n",
      "[Copied] data\\raw\\healthy\\z2ormj7bF7Zkgibaf97vOCUqrm62_cough-shallow.wav\n",
      "[Copied] data\\raw\\healthy\\rb0viHBCj1fiEgWX34QcL3Zv8B02_cough-heavy.wav\n",
      "[Copied] data\\raw\\healthy\\rb0viHBCj1fiEgWX34QcL3Zv8B02_cough-shallow.wav\n",
      "[Copied] data\\raw\\healthy\\f3NCnb7N1qS2qraT8fdnW7BVVCm1_cough-heavy.wav\n",
      "[Copied] data\\raw\\healthy\\f3NCnb7N1qS2qraT8fdnW7BVVCm1_cough-shallow.wav\n",
      "[Copied] data\\raw\\healthy\\eTJRhMtqLcO1Q8rLtaIsALyTOyC3_cough-heavy.wav\n",
      "[Copied] data\\raw\\healthy\\eTJRhMtqLcO1Q8rLtaIsALyTOyC3_cough-shallow.wav\n",
      "[Copied] data\\raw\\healthy\\j4xItLU4BzcKshmihayCM0pTooH3_cough-heavy.wav\n",
      "[Copied] data\\raw\\healthy\\j4xItLU4BzcKshmihayCM0pTooH3_cough-shallow.wav\n",
      "[Copied] data\\raw\\healthy\\ZThKb36K24N2UGu9fRqjlpp27da2_cough-heavy.wav\n",
      "[Copied] data\\raw\\healthy\\ZThKb36K24N2UGu9fRqjlpp27da2_cough-shallow.wav\n",
      "[Copied] data\\raw\\healthy\\asYD2xAnKuTdSZPIYo242wrgKVD3_cough-heavy.wav\n",
      "[Copied] data\\raw\\healthy\\asYD2xAnKuTdSZPIYo242wrgKVD3_cough-shallow.wav\n",
      "[Copied] data\\raw\\healthy\\1G9prDQSP1fpNL0yc7C6Rqy7jmK2_cough-heavy.wav\n",
      "[Copied] data\\raw\\healthy\\1G9prDQSP1fpNL0yc7C6Rqy7jmK2_cough-shallow.wav\n",
      "[Copied] data\\raw\\healthy\\CDJLmx0CWdNRiAvgFwn2aHonth43_cough-heavy.wav\n",
      "[Copied] data\\raw\\healthy\\CDJLmx0CWdNRiAvgFwn2aHonth43_cough-shallow.wav\n",
      "[Copied] data\\raw\\healthy\\tZ4S3CC8pvNc72VYadUYndOUlCE3_cough-heavy.wav\n",
      "[Copied] data\\raw\\healthy\\tZ4S3CC8pvNc72VYadUYndOUlCE3_cough-shallow.wav\n",
      "[Copied] data\\raw\\healthy\\zOmz0TaNdmQfF2jUFkqUKuNa80m1_cough-heavy.wav\n",
      "[Copied] data\\raw\\healthy\\zOmz0TaNdmQfF2jUFkqUKuNa80m1_cough-shallow.wav\n",
      "[Copied] data\\raw\\healthy\\ETcnGsA5gNUC1t3cXJY6KXLvF7W2_cough-heavy.wav\n",
      "[Copied] data\\raw\\healthy\\ETcnGsA5gNUC1t3cXJY6KXLvF7W2_cough-shallow.wav\n",
      "[Copied] data\\raw\\healthy\\ReILZl8aPPQXHUYQzD2AUzuEF2w2_cough-heavy.wav\n",
      "[Copied] data\\raw\\healthy\\ReILZl8aPPQXHUYQzD2AUzuEF2w2_cough-shallow.wav\n",
      "[Copied] data\\raw\\healthy\\IQJWFucM7GbQ00iw3lt2UvBFzaW2_cough-heavy.wav\n",
      "[Copied] data\\raw\\healthy\\IQJWFucM7GbQ00iw3lt2UvBFzaW2_cough-shallow.wav\n",
      "[Copied] data\\raw\\healthy\\7GWUfrhqMCWAotCUbROzgawkCh82_cough-heavy.wav\n",
      "[Copied] data\\raw\\healthy\\7GWUfrhqMCWAotCUbROzgawkCh82_cough-shallow.wav\n",
      "[Copied] data\\raw\\healthy\\F2sQBi45ZdZMn8gQdcQB5wklMct2_cough-heavy.wav\n",
      "[Copied] data\\raw\\healthy\\F2sQBi45ZdZMn8gQdcQB5wklMct2_cough-shallow.wav\n",
      "[Copied] data\\raw\\healthy\\LG9JXKoSkeN9IHceg9xruqw1yt23_cough-heavy.wav\n",
      "[Copied] data\\raw\\healthy\\LG9JXKoSkeN9IHceg9xruqw1yt23_cough-shallow.wav\n",
      "[Copied] data\\raw\\healthy\\ajjbkAkwKDMcEEsiPxXiug5F8v03_cough-heavy.wav\n",
      "[Copied] data\\raw\\healthy\\ajjbkAkwKDMcEEsiPxXiug5F8v03_cough-shallow.wav\n",
      "[Copied] data\\raw\\healthy\\oWBd1blxbTefqPydUAes1xlr5VJ2_cough-heavy.wav\n",
      "[Copied] data\\raw\\healthy\\oWBd1blxbTefqPydUAes1xlr5VJ2_cough-shallow.wav\n",
      "[Copied] data\\raw\\healthy\\m9MMgToUSXV8Z3BhCJF2PGOZCMS2_cough-heavy.wav\n",
      "[Copied] data\\raw\\healthy\\m9MMgToUSXV8Z3BhCJF2PGOZCMS2_cough-shallow.wav\n",
      "[Copied] data\\raw\\healthy\\8Suz7Jl7GtXpdB7UeIPtLuZb1Lp2_cough-heavy.wav\n",
      "[Copied] data\\raw\\healthy\\8Suz7Jl7GtXpdB7UeIPtLuZb1Lp2_cough-shallow.wav\n",
      "[Copied] data\\raw\\healthy\\MjbZoe5Xl6gQAFFZAjORLjIZoC93_cough-heavy.wav\n",
      "[Copied] data\\raw\\healthy\\MjbZoe5Xl6gQAFFZAjORLjIZoC93_cough-shallow.wav\n",
      "[Copied] data\\raw\\healthy\\A1tmg4RT7Mekg8LKxGC2agpfmdi1_cough-heavy.wav\n",
      "[Copied] data\\raw\\healthy\\A1tmg4RT7Mekg8LKxGC2agpfmdi1_cough-shallow.wav\n",
      "[Copied] data\\raw\\healthy\\FYqsLjb8gjOLhrB64aWUc53KVVf2_cough-heavy.wav\n",
      "[Copied] data\\raw\\healthy\\FYqsLjb8gjOLhrB64aWUc53KVVf2_cough-shallow.wav\n",
      "[Copied] data\\raw\\healthy\\9zO8MvWYvBMLy2y2rRFKRHb9A1r1_cough-heavy.wav\n",
      "[Copied] data\\raw\\healthy\\9zO8MvWYvBMLy2y2rRFKRHb9A1r1_cough-shallow.wav\n",
      "[Copied] data\\raw\\healthy\\bixijc4LCCRqES9K306RjUCIHsJ2_cough-heavy.wav\n",
      "[Copied] data\\raw\\healthy\\bixijc4LCCRqES9K306RjUCIHsJ2_cough-shallow.wav\n",
      "[Copied] data\\raw\\healthy\\elSiVyo2V3USxFXNuExlbh9hrNm1_cough-heavy.wav\n",
      "[Copied] data\\raw\\healthy\\elSiVyo2V3USxFXNuExlbh9hrNm1_cough-shallow.wav\n",
      "[Copied] data\\raw\\healthy\\BAMibuHkXaNr3JNc0Cvbu3kdSIp1_cough-heavy.wav\n",
      "[Copied] data\\raw\\healthy\\BAMibuHkXaNr3JNc0Cvbu3kdSIp1_cough-shallow.wav\n",
      "[Copied] data\\raw\\healthy\\9CUhQAT3U5YhxXmqkw01co7jVOU2_cough-heavy.wav\n",
      "[Copied] data\\raw\\healthy\\9CUhQAT3U5YhxXmqkw01co7jVOU2_cough-shallow.wav\n",
      "[Copied] data\\raw\\healthy\\fja76ZsTgfPWoDCUcwnRLI5XrLZ2_cough-heavy.wav\n",
      "[Copied] data\\raw\\healthy\\fja76ZsTgfPWoDCUcwnRLI5XrLZ2_cough-shallow.wav\n",
      "[Copied] data\\raw\\healthy\\3CMQ3nCRdaU5K8pfUiqOpzUgQRz2_cough-heavy.wav\n",
      "[Copied] data\\raw\\healthy\\3CMQ3nCRdaU5K8pfUiqOpzUgQRz2_cough-shallow.wav\n",
      "[Copied] data\\raw\\healthy\\1kXfAOTvLBbCCcTBJOrHUFzARSo1_cough-heavy.wav\n",
      "[Copied] data\\raw\\healthy\\1kXfAOTvLBbCCcTBJOrHUFzARSo1_cough-shallow.wav\n",
      "[Copied] data\\raw\\healthy\\KVKLfU8zZ1MEywuVYflH2KYOHr52_cough-heavy.wav\n",
      "[Copied] data\\raw\\healthy\\KVKLfU8zZ1MEywuVYflH2KYOHr52_cough-shallow.wav\n",
      "[Copied] data\\raw\\healthy\\48PWPg1zZZS9UbuHspwNMsiOfep1_cough-heavy.wav\n",
      "[Copied] data\\raw\\healthy\\48PWPg1zZZS9UbuHspwNMsiOfep1_cough-shallow.wav\n",
      "[Copied] data\\raw\\healthy\\yQoN4YK60acISpPHhXR5YQKM9mm2_cough-heavy.wav\n",
      "[Copied] data\\raw\\healthy\\yQoN4YK60acISpPHhXR5YQKM9mm2_cough-shallow.wav\n",
      "[Copied] data\\raw\\healthy\\MKb4BFUuYAZfOtzGlAz1UwNzo6R2_cough-heavy.wav\n",
      "[Copied] data\\raw\\healthy\\MKb4BFUuYAZfOtzGlAz1UwNzo6R2_cough-shallow.wav\n",
      "[Copied] data\\raw\\healthy\\KNoT33BrSIfmsHryE9UR2TgfDew1_cough-heavy.wav\n",
      "[Copied] data\\raw\\healthy\\KNoT33BrSIfmsHryE9UR2TgfDew1_cough-shallow.wav\n",
      "[Copied] data\\raw\\healthy\\7MWN4jSmv3QD2sRi12K1BNjmct83_cough-heavy.wav\n",
      "[Copied] data\\raw\\healthy\\7MWN4jSmv3QD2sRi12K1BNjmct83_cough-shallow.wav\n",
      "[Copied] data\\raw\\healthy\\YLjbjcoMy1bCh25iChGjXXTc8RK2_cough-heavy.wav\n",
      "[Copied] data\\raw\\healthy\\YLjbjcoMy1bCh25iChGjXXTc8RK2_cough-shallow.wav\n",
      "[Copied] data\\raw\\healthy\\OLMx2P1UahSgkhGyN5zLHZsXMo02_cough-heavy.wav\n",
      "[Copied] data\\raw\\healthy\\OLMx2P1UahSgkhGyN5zLHZsXMo02_cough-shallow.wav\n",
      "[Copied] data\\raw\\healthy\\DRBAZX64nuVtqBQf13gH7r36Mh52_cough-heavy.wav\n",
      "[Copied] data\\raw\\healthy\\DRBAZX64nuVtqBQf13gH7r36Mh52_cough-shallow.wav\n",
      "[Copied] data\\raw\\healthy\\Jw7YMfwGqMX22UbHh1TTgYMTYWs1_cough-heavy.wav\n",
      "[Copied] data\\raw\\healthy\\Jw7YMfwGqMX22UbHh1TTgYMTYWs1_cough-shallow.wav\n",
      "[Copied] data\\raw\\healthy\\xKW2EpGmJcfigLecUTLVXEWQHPg2_cough-heavy.wav\n",
      "[Copied] data\\raw\\healthy\\xKW2EpGmJcfigLecUTLVXEWQHPg2_cough-shallow.wav\n",
      "[Copied] data\\raw\\healthy\\tM8IvvHCyCXpEsx5T6egMVLj7Lu1_cough-heavy.wav\n",
      "[Copied] data\\raw\\healthy\\tM8IvvHCyCXpEsx5T6egMVLj7Lu1_cough-shallow.wav\n",
      "[Copied] data\\raw\\healthy\\hP0R5MMdSNThSMZ7TNLjU7sxyws1_cough-heavy.wav\n",
      "[Copied] data\\raw\\healthy\\hP0R5MMdSNThSMZ7TNLjU7sxyws1_cough-shallow.wav\n",
      "[Copied] data\\raw\\healthy\\YiFpl4utCGTCGxQHqjYMOUgKlV63_cough-heavy.wav\n",
      "[Copied] data\\raw\\healthy\\YiFpl4utCGTCGxQHqjYMOUgKlV63_cough-shallow.wav\n",
      "[Copied] data\\raw\\healthy\\97Rb1xwK1GTHQL9OqkuoKV18Zug2_cough-heavy.wav\n",
      "[Copied] data\\raw\\healthy\\97Rb1xwK1GTHQL9OqkuoKV18Zug2_cough-shallow.wav\n",
      "[Copied] data\\raw\\healthy\\hD3OkVpgQJNlJSQxLgzqXzHp4jr2_cough-heavy.wav\n",
      "[Copied] data\\raw\\healthy\\hD3OkVpgQJNlJSQxLgzqXzHp4jr2_cough-shallow.wav\n",
      "[Copied] data\\raw\\healthy\\GrE7GAhI8UUX1BK0QHOBGLvOQJb2_cough-heavy.wav\n",
      "[Copied] data\\raw\\healthy\\GrE7GAhI8UUX1BK0QHOBGLvOQJb2_cough-shallow.wav\n",
      "[Copied] data\\raw\\healthy\\vulAApAIpgcosLjfJtaN7Rrp2jo2_cough-heavy.wav\n",
      "[Copied] data\\raw\\healthy\\vulAApAIpgcosLjfJtaN7Rrp2jo2_cough-shallow.wav\n",
      "[Copied] data\\raw\\healthy\\C3luMlCgAFZqGmGjFscXe9fVHSG3_cough-heavy.wav\n",
      "[Copied] data\\raw\\healthy\\C3luMlCgAFZqGmGjFscXe9fVHSG3_cough-shallow.wav\n",
      "[Copied] data\\raw\\healthy\\pnoznkafNcbciLGFDaDsiyKzf4W2_cough-heavy.wav\n",
      "[Copied] data\\raw\\healthy\\pnoznkafNcbciLGFDaDsiyKzf4W2_cough-shallow.wav\n",
      "[Copied] data\\raw\\healthy\\PlsyeCq5jHO4E70iZHfrfHSqSJu2_cough-heavy.wav\n",
      "[Copied] data\\raw\\healthy\\PlsyeCq5jHO4E70iZHfrfHSqSJu2_cough-shallow.wav\n",
      "[Copied] data\\raw\\healthy\\gHDyWKwAjxPkdxg4hh1hElbzbbR2_cough-heavy.wav\n",
      "[Copied] data\\raw\\healthy\\gHDyWKwAjxPkdxg4hh1hElbzbbR2_cough-shallow.wav\n",
      "[Copied] data\\raw\\healthy\\VOj0YLhyFhRIvXu1YYcWHVa8esT2_cough-heavy.wav\n",
      "[Copied] data\\raw\\healthy\\VOj0YLhyFhRIvXu1YYcWHVa8esT2_cough-shallow.wav\n",
      "[Copied] data\\raw\\healthy\\cV9R1idnuDfxw4jmzpA7Sj94O5J3_cough-heavy.wav\n",
      "[Copied] data\\raw\\healthy\\cV9R1idnuDfxw4jmzpA7Sj94O5J3_cough-shallow.wav\n",
      "[Copied] data\\raw\\healthy\\QU89L9WuhdW74Fj41RQwBPCl9Vv1_cough-heavy.wav\n",
      "[Copied] data\\raw\\healthy\\QU89L9WuhdW74Fj41RQwBPCl9Vv1_cough-shallow.wav\n",
      "[Copied] data\\raw\\healthy\\OllJVQmVKDgnUjNCKFCP0tPlQU03_cough-heavy.wav\n",
      "[Copied] data\\raw\\healthy\\OllJVQmVKDgnUjNCKFCP0tPlQU03_cough-shallow.wav\n",
      "[Copied] data\\raw\\healthy\\PWXapCML3JSGefaCRAxKjCNp0Ps2_cough-heavy.wav\n",
      "[Copied] data\\raw\\healthy\\PWXapCML3JSGefaCRAxKjCNp0Ps2_cough-shallow.wav\n",
      "[Copied] data\\raw\\healthy\\JdsUKe6JKBdfU7NZC6KeU0z2xKh1_cough-heavy.wav\n",
      "[Copied] data\\raw\\healthy\\JdsUKe6JKBdfU7NZC6KeU0z2xKh1_cough-shallow.wav\n",
      "[Copied] data\\raw\\healthy\\dwCHWFYULRfluqFV2B10a2aUavI3_cough-heavy.wav\n",
      "[Copied] data\\raw\\healthy\\dwCHWFYULRfluqFV2B10a2aUavI3_cough-shallow.wav\n",
      "[Copied] data\\raw\\healthy\\LShW1854ahW9IMubCKJH9L3Kdxh2_cough-heavy.wav\n",
      "[Copied] data\\raw\\healthy\\LShW1854ahW9IMubCKJH9L3Kdxh2_cough-shallow.wav\n",
      "[Copied] data\\raw\\healthy\\8PtpwfiaGpMFqciQAnNjDnnbvjw2_cough-heavy.wav\n",
      "[Copied] data\\raw\\healthy\\8PtpwfiaGpMFqciQAnNjDnnbvjw2_cough-shallow.wav\n",
      "[Copied] data\\raw\\healthy\\sEXwP0TZ79eEEbNZR1KRl3nLvN22_cough-heavy.wav\n",
      "[Copied] data\\raw\\healthy\\sEXwP0TZ79eEEbNZR1KRl3nLvN22_cough-shallow.wav\n",
      "[Copied] data\\raw\\healthy\\EVWPvD070lhgBsNRXIJ0TsQj3iz2_cough-heavy.wav\n",
      "[Copied] data\\raw\\healthy\\EVWPvD070lhgBsNRXIJ0TsQj3iz2_cough-shallow.wav\n",
      "[Copied] data\\raw\\healthy\\HSgMHc61GdN0PC5BSzR6X96yzZw2_cough-heavy.wav\n",
      "[Copied] data\\raw\\healthy\\HSgMHc61GdN0PC5BSzR6X96yzZw2_cough-shallow.wav\n",
      "[Copied] data\\raw\\healthy\\Ml6JGK0BGDYiU7CulDVQnD065BI3_cough-heavy.wav\n",
      "[Copied] data\\raw\\healthy\\Ml6JGK0BGDYiU7CulDVQnD065BI3_cough-shallow.wav\n",
      "[Copied] data\\raw\\healthy\\ARnHOwUIKyfpC9ryG6AqrTcksmq1_cough-heavy.wav\n",
      "[Copied] data\\raw\\healthy\\ARnHOwUIKyfpC9ryG6AqrTcksmq1_cough-shallow.wav\n",
      "[Copied] data\\raw\\healthy\\an56VxZWQ5RKFCHxW3Y0NquAEcA3_cough-heavy.wav\n",
      "[Copied] data\\raw\\healthy\\an56VxZWQ5RKFCHxW3Y0NquAEcA3_cough-shallow.wav\n",
      "[Copied] data\\raw\\healthy\\Qxsv89ELtlUniEBfEvmDldEdZBy2_cough-heavy.wav\n",
      "[Copied] data\\raw\\healthy\\Qxsv89ELtlUniEBfEvmDldEdZBy2_cough-shallow.wav\n",
      "[Copied] data\\raw\\healthy\\tmguPZG0j4X5PktnGJyOYxVGtqW2_cough-heavy.wav\n",
      "[Copied] data\\raw\\healthy\\tmguPZG0j4X5PktnGJyOYxVGtqW2_cough-shallow.wav\n",
      "[Copied] data\\raw\\healthy\\lRTZkLVfotSCNqqchfmOZo4Zc1o2_cough-heavy.wav\n",
      "[Copied] data\\raw\\healthy\\lRTZkLVfotSCNqqchfmOZo4Zc1o2_cough-shallow.wav\n",
      "[Copied] data\\raw\\healthy\\sh8x9M4ZeXXllQvCiFENINxFf9h1_cough-heavy.wav\n",
      "[Copied] data\\raw\\healthy\\sh8x9M4ZeXXllQvCiFENINxFf9h1_cough-shallow.wav\n",
      "[Copied] data\\raw\\healthy\\TPrDC0bAYpdmhKxfDzCivJnfpKP2_cough-heavy.wav\n",
      "[Copied] data\\raw\\healthy\\TPrDC0bAYpdmhKxfDzCivJnfpKP2_cough-shallow.wav\n",
      "[Copied] data\\raw\\healthy\\UJqJesZ2UHZm7YnsQZkzNzXdoFC2_cough-heavy.wav\n",
      "[Copied] data\\raw\\healthy\\UJqJesZ2UHZm7YnsQZkzNzXdoFC2_cough-shallow.wav\n",
      "[Copied] data\\raw\\healthy\\eW3UMx8SACOoZft0ZOLZUIVaTFb2_cough-heavy.wav\n",
      "[Copied] data\\raw\\healthy\\eW3UMx8SACOoZft0ZOLZUIVaTFb2_cough-shallow.wav\n",
      "[Copied] data\\raw\\healthy\\8t3IFTtBOVOtvpX9aX2vryuhSaG2_cough-heavy.wav\n",
      "[Copied] data\\raw\\healthy\\8t3IFTtBOVOtvpX9aX2vryuhSaG2_cough-shallow.wav\n",
      "[Copied] data\\raw\\healthy\\oT3KtPYs2CSp3MKgmhGPbuK9QIp2_cough-heavy.wav\n",
      "[Copied] data\\raw\\healthy\\oT3KtPYs2CSp3MKgmhGPbuK9QIp2_cough-shallow.wav\n",
      "[Copied] data\\raw\\healthy\\0EAAFsDWfTcrhktHy78LS6nf19G3_cough-heavy.wav\n",
      "[Copied] data\\raw\\healthy\\0EAAFsDWfTcrhktHy78LS6nf19G3_cough-shallow.wav\n",
      "[Copied] data\\raw\\healthy\\5FC78ahXNGa1Mc8A3X0Bfj5sHIJ2_cough-heavy.wav\n",
      "[Copied] data\\raw\\healthy\\5FC78ahXNGa1Mc8A3X0Bfj5sHIJ2_cough-shallow.wav\n",
      "[Copied] data\\raw\\healthy\\itvtyBYukyL63vESDviOtQzwGit1_cough-heavy.wav\n",
      "[Copied] data\\raw\\healthy\\itvtyBYukyL63vESDviOtQzwGit1_cough-shallow.wav\n",
      "[Copied] data\\raw\\healthy\\7Z834FePKIhCrPJPjkOE69XeNcm1_cough-heavy.wav\n",
      "[Copied] data\\raw\\healthy\\7Z834FePKIhCrPJPjkOE69XeNcm1_cough-shallow.wav\n",
      "[Copied] data\\raw\\healthy\\OK2CZltrvfZbpTWB75LWMFqxfpM2_cough-heavy.wav\n",
      "[Copied] data\\raw\\healthy\\OK2CZltrvfZbpTWB75LWMFqxfpM2_cough-shallow.wav\n",
      "[Copied] data\\raw\\healthy\\9CjIhgGiWqP4wrhOximVkQgE8tq2_cough-heavy.wav\n",
      "[Copied] data\\raw\\healthy\\9CjIhgGiWqP4wrhOximVkQgE8tq2_cough-shallow.wav\n",
      "[Copied] data\\raw\\healthy\\qpCGgfO05mWt67NzsFBKWJ5ZF1U2_cough-heavy.wav\n",
      "[Copied] data\\raw\\healthy\\qpCGgfO05mWt67NzsFBKWJ5ZF1U2_cough-shallow.wav\n",
      "[Copied] data\\raw\\healthy\\uzZEBGlFZ5c1dY39rmcphVB0s1q2_cough-heavy.wav\n",
      "[Copied] data\\raw\\healthy\\uzZEBGlFZ5c1dY39rmcphVB0s1q2_cough-shallow.wav\n",
      "[Copied] data\\raw\\healthy\\vwqgm68Z4gZ9T5Ry9T4u8tYsJxn2_cough-heavy.wav\n",
      "[Copied] data\\raw\\healthy\\vwqgm68Z4gZ9T5Ry9T4u8tYsJxn2_cough-shallow.wav\n",
      "[Copied] data\\raw\\healthy\\Ou2g3o2wWgXZuyjlZr8ZABItDYx1_cough-heavy.wav\n",
      "[Copied] data\\raw\\healthy\\Ou2g3o2wWgXZuyjlZr8ZABItDYx1_cough-shallow.wav\n",
      "[Copied] data\\raw\\healthy\\pUOk49eAwAcbHBwdL3OldmF1iHd2_cough-heavy.wav\n",
      "[Copied] data\\raw\\healthy\\pUOk49eAwAcbHBwdL3OldmF1iHd2_cough-shallow.wav\n",
      "[Copied] data\\raw\\healthy\\1fMS9159tNOgEbgTXBoUpBXQUIr1_cough-heavy.wav\n",
      "[Copied] data\\raw\\healthy\\1fMS9159tNOgEbgTXBoUpBXQUIr1_cough-shallow.wav\n",
      "[Copied] data\\raw\\healthy\\exj2e14KykUjLNwbOGgOgFieo8a2_cough-heavy.wav\n",
      "[Copied] data\\raw\\healthy\\exj2e14KykUjLNwbOGgOgFieo8a2_cough-shallow.wav\n",
      "[Copied] data\\raw\\healthy\\IVQDOUP0a8cwMvCkp1TnZ1FI88Z2_cough-heavy.wav\n",
      "[Copied] data\\raw\\healthy\\IVQDOUP0a8cwMvCkp1TnZ1FI88Z2_cough-shallow.wav\n",
      "[Copied] data\\raw\\healthy\\vfh8Qe0ILbWxIEeQGC0GWyLe3yt2_cough-heavy.wav\n",
      "[Copied] data\\raw\\healthy\\vfh8Qe0ILbWxIEeQGC0GWyLe3yt2_cough-shallow.wav\n",
      "[Copied] data\\raw\\healthy\\EVEnOepr9yaACgz1aJgRRoNpqaw1_cough-heavy.wav\n",
      "[Copied] data\\raw\\healthy\\EVEnOepr9yaACgz1aJgRRoNpqaw1_cough-shallow.wav\n",
      "[Copied] data\\raw\\healthy\\zhSebSRltXd69mGoGRVeYZ5eQ3l1_cough-heavy.wav\n",
      "[Copied] data\\raw\\healthy\\zhSebSRltXd69mGoGRVeYZ5eQ3l1_cough-shallow.wav\n",
      "[Copied] data\\raw\\healthy\\8jj80VIjJDhstlysp9ak8kFJwex1_cough-heavy.wav\n",
      "[Copied] data\\raw\\healthy\\8jj80VIjJDhstlysp9ak8kFJwex1_cough-shallow.wav\n",
      "[Copied] data\\raw\\healthy\\LC266EVhXoa7KP4o3naQ6oZczml1_cough-heavy.wav\n",
      "[Copied] data\\raw\\healthy\\LC266EVhXoa7KP4o3naQ6oZczml1_cough-shallow.wav\n",
      "[Copied] data\\raw\\healthy\\gdMY0DOvz8QrFltj0X4Ez0PpsHS2_cough-heavy.wav\n",
      "[Copied] data\\raw\\healthy\\gdMY0DOvz8QrFltj0X4Ez0PpsHS2_cough-shallow.wav\n",
      "[Copied] data\\raw\\healthy\\LBNOC0NrwANadd7m4SVO9cT0dyH2_cough-heavy.wav\n",
      "[Copied] data\\raw\\healthy\\LBNOC0NrwANadd7m4SVO9cT0dyH2_cough-shallow.wav\n",
      "[Copied] data\\raw\\healthy\\PR1ZyxKH1MVEQjjCaRsghm8DrEf1_cough-heavy.wav\n",
      "[Copied] data\\raw\\healthy\\PR1ZyxKH1MVEQjjCaRsghm8DrEf1_cough-shallow.wav\n",
      "[Copied] data\\raw\\healthy\\SQb3JATyGKUZvdfaoVEBhhB2d752_cough-heavy.wav\n",
      "[Copied] data\\raw\\healthy\\SQb3JATyGKUZvdfaoVEBhhB2d752_cough-shallow.wav\n",
      "[Copied] data\\raw\\healthy\\NZ7eJVaMFDMMhpOKZ1ztgkr3fVO2_cough-heavy.wav\n",
      "[Copied] data\\raw\\healthy\\NZ7eJVaMFDMMhpOKZ1ztgkr3fVO2_cough-shallow.wav\n",
      "[Copied] data\\raw\\healthy\\qkdJKHOBuAYsKvnxbLvnoJ5Dc8y2_cough-heavy.wav\n",
      "[Copied] data\\raw\\healthy\\qkdJKHOBuAYsKvnxbLvnoJ5Dc8y2_cough-shallow.wav\n",
      "[Copied] data\\raw\\healthy\\jLxswjEWjZQh3Wg6Dzu5VCoPhG92_cough-heavy.wav\n",
      "[Copied] data\\raw\\healthy\\jLxswjEWjZQh3Wg6Dzu5VCoPhG92_cough-shallow.wav\n",
      "[Copied] data\\raw\\healthy\\W1c56dgBsoe34ilAX8vAZs8tNcX2_cough-heavy.wav\n",
      "[Copied] data\\raw\\healthy\\W1c56dgBsoe34ilAX8vAZs8tNcX2_cough-shallow.wav\n",
      "[Copied] data\\raw\\healthy\\NxnNleTNUYaE2lndP2HIlGUbimy1_cough-heavy.wav\n",
      "[Copied] data\\raw\\healthy\\NxnNleTNUYaE2lndP2HIlGUbimy1_cough-shallow.wav\n",
      "[Copied] data\\raw\\healthy\\sjRWRFsE64R2o0ZFdGJe8PlWwlM2_cough-heavy.wav\n",
      "[Copied] data\\raw\\healthy\\sjRWRFsE64R2o0ZFdGJe8PlWwlM2_cough-shallow.wav\n",
      "[Copied] data\\raw\\healthy\\TQx9HF2p3pXksgf5YNrpQSh81qu1_cough-heavy.wav\n",
      "[Copied] data\\raw\\healthy\\TQx9HF2p3pXksgf5YNrpQSh81qu1_cough-shallow.wav\n",
      "[Copied] data\\raw\\healthy\\6OVT42wvVggUA7rkEuziRRtNNuo2_cough-heavy.wav\n",
      "[Copied] data\\raw\\healthy\\6OVT42wvVggUA7rkEuziRRtNNuo2_cough-shallow.wav\n",
      "[Copied] data\\raw\\healthy\\F349Of1rExaZ82Od6sp2jEzInKj1_cough-heavy.wav\n",
      "[Copied] data\\raw\\healthy\\F349Of1rExaZ82Od6sp2jEzInKj1_cough-shallow.wav\n",
      "[Copied] data\\raw\\healthy\\DINJ1hI4xpQ0fcf7TsZN4pjXrol2_cough-heavy.wav\n",
      "[Copied] data\\raw\\healthy\\DINJ1hI4xpQ0fcf7TsZN4pjXrol2_cough-shallow.wav\n",
      "[Copied] data\\raw\\healthy\\Fsy78EiP9pOaFmMc6VjdI30SMvV2_cough-heavy.wav\n",
      "[Copied] data\\raw\\healthy\\Fsy78EiP9pOaFmMc6VjdI30SMvV2_cough-shallow.wav\n",
      "[Copied] data\\raw\\healthy\\qf3n0FsFJkfsUbOFngrrxDd5x7m1_cough-heavy.wav\n",
      "[Copied] data\\raw\\healthy\\qf3n0FsFJkfsUbOFngrrxDd5x7m1_cough-shallow.wav\n",
      "[Copied] data\\raw\\healthy\\DTvGOScaAzWfSBXf8B8uF916AKP2_cough-heavy.wav\n",
      "[Copied] data\\raw\\healthy\\DTvGOScaAzWfSBXf8B8uF916AKP2_cough-shallow.wav\n",
      "[Copied] data\\raw\\healthy\\NkibhMc8cVQQq1cj4RSU3NkkMW33_cough-heavy.wav\n",
      "[Copied] data\\raw\\healthy\\NkibhMc8cVQQq1cj4RSU3NkkMW33_cough-shallow.wav\n",
      "[Copied] data\\raw\\healthy\\8UDw6kiGKhgchuwIhHR3o2npPk92_cough-heavy.wav\n",
      "[Copied] data\\raw\\healthy\\8UDw6kiGKhgchuwIhHR3o2npPk92_cough-shallow.wav\n",
      "[Copied] data\\raw\\healthy\\gGuUN1zRpINudd2X5CgQvDfJY0E2_cough-heavy.wav\n",
      "[Copied] data\\raw\\healthy\\gGuUN1zRpINudd2X5CgQvDfJY0E2_cough-shallow.wav\n",
      "[Copied] data\\raw\\healthy\\gdt5iG6NWAWoK1edYqNFXUuZXQS2_cough-heavy.wav\n",
      "[Copied] data\\raw\\healthy\\gdt5iG6NWAWoK1edYqNFXUuZXQS2_cough-shallow.wav\n",
      "[Copied] data\\raw\\healthy\\kus7obTENSPvUNbwD2yi6vUi0x23_cough-heavy.wav\n",
      "[Copied] data\\raw\\healthy\\kus7obTENSPvUNbwD2yi6vUi0x23_cough-shallow.wav\n",
      "[Copied] data\\raw\\healthy\\PzAQz6zDDcPbdSePDK02jGd4Rm42_cough-heavy.wav\n",
      "[Copied] data\\raw\\healthy\\PzAQz6zDDcPbdSePDK02jGd4Rm42_cough-shallow.wav\n",
      "[Copied] data\\raw\\healthy\\ki8Scyp1FRUOGvhgpjYjYFgx0gp1_cough-heavy.wav\n",
      "[Copied] data\\raw\\healthy\\ki8Scyp1FRUOGvhgpjYjYFgx0gp1_cough-shallow.wav\n",
      "[Copied] data\\raw\\healthy\\gWIawRTh97MMSACF9Mq9braP8s12_cough-heavy.wav\n",
      "[Copied] data\\raw\\healthy\\gWIawRTh97MMSACF9Mq9braP8s12_cough-shallow.wav\n",
      "[Copied] data\\raw\\healthy\\EBJVTXGpKucYUqz7evI887oS1162_cough-heavy.wav\n",
      "[Copied] data\\raw\\healthy\\EBJVTXGpKucYUqz7evI887oS1162_cough-shallow.wav\n",
      "[Copied] data\\raw\\healthy\\VWfBoslFF1fFUnApuT6svVPDbi52_cough-heavy.wav\n",
      "[Copied] data\\raw\\healthy\\VWfBoslFF1fFUnApuT6svVPDbi52_cough-shallow.wav\n",
      "[Copied] data\\raw\\healthy\\HLrE1Z2wnQSraudLRqiWgR154rA3_cough-heavy.wav\n",
      "[Copied] data\\raw\\healthy\\HLrE1Z2wnQSraudLRqiWgR154rA3_cough-shallow.wav\n",
      "[Copied] data\\raw\\healthy\\2csA9O1LIDQd55vbgSb3Nbva2UE3_cough-heavy.wav\n",
      "[Copied] data\\raw\\healthy\\2csA9O1LIDQd55vbgSb3Nbva2UE3_cough-shallow.wav\n",
      "[Copied] data\\raw\\healthy\\Akn9RWpa1hMNtsrYVHGlBsmHkAB2_cough-heavy.wav\n",
      "[Copied] data\\raw\\healthy\\Akn9RWpa1hMNtsrYVHGlBsmHkAB2_cough-shallow.wav\n",
      "[Copied] data\\raw\\healthy\\zLM432Aox7ZcmTXoglELTXNAVnf2_cough-heavy.wav\n",
      "[Copied] data\\raw\\healthy\\zLM432Aox7ZcmTXoglELTXNAVnf2_cough-shallow.wav\n",
      "[Copied] data\\raw\\healthy\\7Xzlu6oIWGc0odCvFMQkr612jVr1_cough-heavy.wav\n",
      "[Copied] data\\raw\\healthy\\7Xzlu6oIWGc0odCvFMQkr612jVr1_cough-shallow.wav\n",
      "[Copied] data\\raw\\healthy\\DQbyjZoEh1chrWRqOkPrUsxvqpv2_cough-heavy.wav\n",
      "[Copied] data\\raw\\healthy\\DQbyjZoEh1chrWRqOkPrUsxvqpv2_cough-shallow.wav\n",
      "[Copied] data\\raw\\healthy\\EiXN9D41sOZRBpHVHCLq3QUpKrq1_cough-heavy.wav\n",
      "[Copied] data\\raw\\healthy\\EiXN9D41sOZRBpHVHCLq3QUpKrq1_cough-shallow.wav\n",
      "[Copied] data\\raw\\healthy\\WyCgdIfGzxXRPeimIoqiPVysAHB2_cough-heavy.wav\n",
      "[Copied] data\\raw\\healthy\\WyCgdIfGzxXRPeimIoqiPVysAHB2_cough-shallow.wav\n",
      "[Copied] data\\raw\\healthy\\zPFIJ3JDo7P5qIIdKvELq76kYi02_cough-heavy.wav\n",
      "[Copied] data\\raw\\healthy\\zPFIJ3JDo7P5qIIdKvELq76kYi02_cough-shallow.wav\n",
      "[Copied] data\\raw\\healthy\\cpkq5jRCUDOvtB7vROcz6LuOAzr2_cough-heavy.wav\n",
      "[Copied] data\\raw\\healthy\\cpkq5jRCUDOvtB7vROcz6LuOAzr2_cough-shallow.wav\n",
      "[Copied] data\\raw\\healthy\\7J57fRRIEENoMhm7xRL7HNxh7Xy2_cough-heavy.wav\n",
      "[Copied] data\\raw\\healthy\\7J57fRRIEENoMhm7xRL7HNxh7Xy2_cough-shallow.wav\n",
      "[Copied] data\\raw\\healthy\\NRG2CtRi4KdGF8XvpvD5X0DJo2h1_cough-heavy.wav\n",
      "[Copied] data\\raw\\healthy\\NRG2CtRi4KdGF8XvpvD5X0DJo2h1_cough-shallow.wav\n",
      "[Copied] data\\raw\\healthy\\HNQHvssRu1QD9oJKikpEcT8ENjX2_cough-heavy.wav\n",
      "[Copied] data\\raw\\healthy\\HNQHvssRu1QD9oJKikpEcT8ENjX2_cough-shallow.wav\n",
      "[Copied] data\\raw\\healthy\\7arBtLdzGeW8oCN0DXhI6dqqUdP2_cough-heavy.wav\n",
      "[Copied] data\\raw\\healthy\\7arBtLdzGeW8oCN0DXhI6dqqUdP2_cough-shallow.wav\n",
      "[Copied] data\\raw\\healthy\\BjSaOnCo37bIz4AgpvWPiAYqwzA3_cough-heavy.wav\n",
      "[Copied] data\\raw\\healthy\\BjSaOnCo37bIz4AgpvWPiAYqwzA3_cough-shallow.wav\n",
      "[Copied] data\\raw\\healthy\\nY6Af5bvitY4R8Vp4KGFTFUkdio2_cough-heavy.wav\n",
      "[Copied] data\\raw\\healthy\\nY6Af5bvitY4R8Vp4KGFTFUkdio2_cough-shallow.wav\n",
      "[Copied] data\\raw\\healthy\\ri2VbVnIcMNkS8zYnXrLAXa1dM92_cough-heavy.wav\n",
      "[Copied] data\\raw\\healthy\\ri2VbVnIcMNkS8zYnXrLAXa1dM92_cough-shallow.wav\n",
      "[Copied] data\\raw\\healthy\\A0NM2SVNh9YFgRrZ4k20ePIAyiw1_cough-heavy.wav\n",
      "[Copied] data\\raw\\healthy\\A0NM2SVNh9YFgRrZ4k20ePIAyiw1_cough-shallow.wav\n",
      "[Copied] data\\raw\\healthy\\oaPUZHlGUKbn5pcKe9pJLksHKoP2_cough-heavy.wav\n",
      "[Copied] data\\raw\\healthy\\oaPUZHlGUKbn5pcKe9pJLksHKoP2_cough-shallow.wav\n",
      "[Copied] data\\raw\\healthy\\ArfyG6NyeWefgvOsFhWMWSkhebE3_cough-heavy.wav\n",
      "[Copied] data\\raw\\healthy\\ArfyG6NyeWefgvOsFhWMWSkhebE3_cough-shallow.wav\n",
      "[Copied] data\\raw\\healthy\\HPLBB8nluUMo7eX4zG5SmAnOhmu2_cough-heavy.wav\n",
      "[Copied] data\\raw\\healthy\\HPLBB8nluUMo7eX4zG5SmAnOhmu2_cough-shallow.wav\n",
      "[Copied] data\\raw\\healthy\\v8uTeuovxbfNIDu1Rp8IDDLOT5K2_cough-heavy.wav\n",
      "[Copied] data\\raw\\healthy\\v8uTeuovxbfNIDu1Rp8IDDLOT5K2_cough-shallow.wav\n",
      "[Copied] data\\raw\\healthy\\tTiUDsa4jOZtI0YC3hTl0NZlVGB2_cough-heavy.wav\n",
      "[Copied] data\\raw\\healthy\\tTiUDsa4jOZtI0YC3hTl0NZlVGB2_cough-shallow.wav\n",
      "[Copied] data\\raw\\healthy\\vK2bLRNzllXNeyOMudnNSL5cfpG2_cough-heavy.wav\n",
      "[Copied] data\\raw\\healthy\\vK2bLRNzllXNeyOMudnNSL5cfpG2_cough-shallow.wav\n",
      "[Copied] data\\raw\\healthy\\bjA2KpSxneNskrLBeqi4bqoTDQl2_cough-heavy.wav\n",
      "[Copied] data\\raw\\healthy\\bjA2KpSxneNskrLBeqi4bqoTDQl2_cough-shallow.wav\n",
      "[Copied] data\\raw\\healthy\\FSzobvJqOXf0rI6X05cHqOiU9Mu2_cough-heavy.wav\n",
      "[Copied] data\\raw\\healthy\\FSzobvJqOXf0rI6X05cHqOiU9Mu2_cough-shallow.wav\n",
      "[Copied] data\\raw\\healthy\\EqDWckxbsETyHUeBLQ8jLtxlhir2_cough-heavy.wav\n",
      "[Copied] data\\raw\\healthy\\EqDWckxbsETyHUeBLQ8jLtxlhir2_cough-shallow.wav\n",
      "[Copied] data\\raw\\healthy\\FGRDO4IBbAejR0WHD5YbkXTCasg2_cough-heavy.wav\n",
      "[Copied] data\\raw\\healthy\\FGRDO4IBbAejR0WHD5YbkXTCasg2_cough-shallow.wav\n",
      "[Copied] data\\raw\\healthy\\htQzROl26OWQpIYFDzv11F79PLR2_cough-heavy.wav\n",
      "[Copied] data\\raw\\healthy\\htQzROl26OWQpIYFDzv11F79PLR2_cough-shallow.wav\n",
      "[Copied] data\\raw\\healthy\\pW9mCAeWYiMoM7wW7riLvNRbYDO2_cough-heavy.wav\n",
      "[Copied] data\\raw\\healthy\\pW9mCAeWYiMoM7wW7riLvNRbYDO2_cough-shallow.wav\n",
      "[Copied] data\\raw\\healthy\\Eu11s84cuBTiPXTAtVf9mj3GkqA2_cough-heavy.wav\n",
      "[Copied] data\\raw\\healthy\\Eu11s84cuBTiPXTAtVf9mj3GkqA2_cough-shallow.wav\n",
      "[Copied] data\\raw\\healthy\\eP8gEM0KcBU6S5JpMdycX74KP3p2_cough-heavy.wav\n",
      "[Copied] data\\raw\\healthy\\eP8gEM0KcBU6S5JpMdycX74KP3p2_cough-shallow.wav\n",
      "[Copied] data\\raw\\healthy\\UiUUhL0PMjWVA6W2dKte1DCE6wG2_cough-heavy.wav\n",
      "[Copied] data\\raw\\healthy\\UiUUhL0PMjWVA6W2dKte1DCE6wG2_cough-shallow.wav\n",
      "[Copied] data\\raw\\healthy\\2TkAK2YVkYS7Ux3hAPBUgYgg9DI3_cough-heavy.wav\n",
      "[Copied] data\\raw\\healthy\\2TkAK2YVkYS7Ux3hAPBUgYgg9DI3_cough-shallow.wav\n",
      "[Copied] data\\raw\\healthy\\QQbzKidDxHQ0eZFEL4uG68s1lc02_cough-heavy.wav\n",
      "[Copied] data\\raw\\healthy\\QQbzKidDxHQ0eZFEL4uG68s1lc02_cough-shallow.wav\n",
      "[Copied] data\\raw\\healthy\\9ypQNsTsSQYlx72wxTLrHzzNoAJ2_cough-heavy.wav\n",
      "[Copied] data\\raw\\healthy\\9ypQNsTsSQYlx72wxTLrHzzNoAJ2_cough-shallow.wav\n",
      "[Copied] data\\raw\\healthy\\cfZUmZvsecYVKw5eSi4qIhfJVpI3_cough-heavy.wav\n",
      "[Copied] data\\raw\\healthy\\cfZUmZvsecYVKw5eSi4qIhfJVpI3_cough-shallow.wav\n",
      "[Copied] data\\raw\\healthy\\tiKv850hJFTmpCAvfJOmOOqkeUs1_cough-heavy.wav\n",
      "[Copied] data\\raw\\healthy\\tiKv850hJFTmpCAvfJOmOOqkeUs1_cough-shallow.wav\n",
      "[Copied] data\\raw\\healthy\\LqGeCxef4fN4IPanKEbWkO1fAwJ3_cough-heavy.wav\n",
      "[Copied] data\\raw\\healthy\\LqGeCxef4fN4IPanKEbWkO1fAwJ3_cough-shallow.wav\n",
      "[Copied] data\\raw\\healthy\\XUsJp0qysAPtu3vBI0UCiHRJhZ22_cough-heavy.wav\n",
      "[Copied] data\\raw\\healthy\\XUsJp0qysAPtu3vBI0UCiHRJhZ22_cough-shallow.wav\n",
      "[Copied] data\\raw\\healthy\\TRK6gUseEUS7dbF0soG80W1uLm53_cough-heavy.wav\n",
      "[Copied] data\\raw\\healthy\\TRK6gUseEUS7dbF0soG80W1uLm53_cough-shallow.wav\n",
      "[Copied] data\\raw\\healthy\\iq8oYXczSjPuJoVS7DBpkGNMC2p1_cough-heavy.wav\n",
      "[Copied] data\\raw\\healthy\\iq8oYXczSjPuJoVS7DBpkGNMC2p1_cough-shallow.wav\n",
      "[Copied] data\\raw\\healthy\\O4BFgxvAgwbwRGZMkMBJRFnGBbd2_cough-heavy.wav\n",
      "[Copied] data\\raw\\healthy\\O4BFgxvAgwbwRGZMkMBJRFnGBbd2_cough-shallow.wav\n",
      "[Copied] data\\raw\\healthy\\nMIOAh7qRFf3pqbchclOLKbPDOm1_cough-heavy.wav\n",
      "[Copied] data\\raw\\healthy\\nMIOAh7qRFf3pqbchclOLKbPDOm1_cough-shallow.wav\n",
      "[Copied] data\\raw\\healthy\\Pr79fov0a5TW5KPo0XACvIqMtO72_cough-heavy.wav\n",
      "[Copied] data\\raw\\healthy\\Pr79fov0a5TW5KPo0XACvIqMtO72_cough-shallow.wav\n",
      "[Copied] data\\raw\\healthy\\60Ig4PmU9NMqKGDMR8Um0Tc2KXB3_cough-heavy.wav\n",
      "[Copied] data\\raw\\healthy\\60Ig4PmU9NMqKGDMR8Um0Tc2KXB3_cough-shallow.wav\n",
      "[Copied] data\\raw\\healthy\\CrlV0ddIqdbtxNnkIhtPS5dvoX42_cough-heavy.wav\n",
      "[Copied] data\\raw\\healthy\\CrlV0ddIqdbtxNnkIhtPS5dvoX42_cough-shallow.wav\n",
      "[Copied] data\\raw\\healthy\\KL32QXSSnLZlRRT2B6rQQQKgpx12_cough-heavy.wav\n",
      "[Copied] data\\raw\\healthy\\KL32QXSSnLZlRRT2B6rQQQKgpx12_cough-shallow.wav\n",
      "[Copied] data\\raw\\healthy\\tOlOwYDEHCRx1QegeMOPaydVcgv1_cough-heavy.wav\n",
      "[Copied] data\\raw\\healthy\\tOlOwYDEHCRx1QegeMOPaydVcgv1_cough-shallow.wav\n",
      "[Copied] data\\raw\\healthy\\zvXkuEaPb0OEgG4EHx59NqdmamR2_cough-heavy.wav\n",
      "[Copied] data\\raw\\healthy\\zvXkuEaPb0OEgG4EHx59NqdmamR2_cough-shallow.wav\n",
      "[Copied] data\\raw\\healthy\\l3umDXECeOUTZH8pFN19c2WM4m43_cough-heavy.wav\n",
      "[Copied] data\\raw\\healthy\\l3umDXECeOUTZH8pFN19c2WM4m43_cough-shallow.wav\n",
      "[Copied] data\\raw\\healthy\\XVjp63ocWZRqJRdxCtklUfmdklm2_cough-heavy.wav\n",
      "[Copied] data\\raw\\healthy\\XVjp63ocWZRqJRdxCtklUfmdklm2_cough-shallow.wav\n",
      "[Copied] data\\raw\\healthy\\JmN2KXZoEThB2e8KFMbM7L4fOwy1_cough-heavy.wav\n",
      "[Copied] data\\raw\\healthy\\JmN2KXZoEThB2e8KFMbM7L4fOwy1_cough-shallow.wav\n",
      "[Copied] data\\raw\\healthy\\SY4Ekt5W4VZdeIm5r3iLmjxz9pA2_cough-heavy.wav\n",
      "[Copied] data\\raw\\healthy\\SY4Ekt5W4VZdeIm5r3iLmjxz9pA2_cough-shallow.wav\n",
      "[Copied] data\\raw\\healthy\\1ctsxp37dWNbCbizTioZzpAWqJx2_cough-heavy.wav\n",
      "[Copied] data\\raw\\healthy\\1ctsxp37dWNbCbizTioZzpAWqJx2_cough-shallow.wav\n",
      "[Copied] data\\raw\\healthy\\2XgDqzQkqLX9SbmSHfbqdRxSmRD2_cough-heavy.wav\n",
      "[Copied] data\\raw\\healthy\\2XgDqzQkqLX9SbmSHfbqdRxSmRD2_cough-shallow.wav\n",
      "[Copied] data\\raw\\healthy\\kIHldMnyvmXvpLq0LjWr7ecclSj2_cough-heavy.wav\n",
      "[Copied] data\\raw\\healthy\\kIHldMnyvmXvpLq0LjWr7ecclSj2_cough-shallow.wav\n",
      "[Copied] data\\raw\\healthy\\AI4aa1tjlXQw4iOH4RuTvgMtK3G3_cough-heavy.wav\n",
      "[Copied] data\\raw\\healthy\\AI4aa1tjlXQw4iOH4RuTvgMtK3G3_cough-shallow.wav\n",
      "[Copied] data\\raw\\healthy\\U98J2q0NnycYzzUS2BYZpUa55X83_cough-heavy.wav\n",
      "[Copied] data\\raw\\healthy\\U98J2q0NnycYzzUS2BYZpUa55X83_cough-shallow.wav\n",
      "[Copied] data\\raw\\healthy\\KGWBaTNrJmUgzGZw5Xh2ICSHVu92_cough-heavy.wav\n",
      "[Copied] data\\raw\\healthy\\KGWBaTNrJmUgzGZw5Xh2ICSHVu92_cough-shallow.wav\n",
      "[Copied] data\\raw\\healthy\\9XJ2QSvS9CaIo5hSyRZcdst0K8P2_cough-heavy.wav\n",
      "[Copied] data\\raw\\healthy\\9XJ2QSvS9CaIo5hSyRZcdst0K8P2_cough-shallow.wav\n",
      "[Copied] data\\raw\\healthy\\n7ewrIqB7wUuK1FZGGjef18jtb52_cough-heavy.wav\n",
      "[Copied] data\\raw\\healthy\\n7ewrIqB7wUuK1FZGGjef18jtb52_cough-shallow.wav\n",
      "[Copied] data\\raw\\healthy\\5le68NJRZWV6TrMTYn3j7gSlqTi2_cough-heavy.wav\n",
      "[Copied] data\\raw\\healthy\\5le68NJRZWV6TrMTYn3j7gSlqTi2_cough-shallow.wav\n",
      "[Copied] data\\raw\\healthy\\qHN6U03r3TRKVZ83fmWDDQvtDuz1_cough-heavy.wav\n",
      "[Copied] data\\raw\\healthy\\qHN6U03r3TRKVZ83fmWDDQvtDuz1_cough-shallow.wav\n",
      "[Copied] data\\raw\\healthy\\1AuoEhB8vAfCtxTFFV0W916yBqA3_cough-heavy.wav\n",
      "[Copied] data\\raw\\healthy\\1AuoEhB8vAfCtxTFFV0W916yBqA3_cough-shallow.wav\n",
      "[Copied] data\\raw\\healthy\\w1TDsR75t5PsGyAksqF3kMQ6DXT2_cough-heavy.wav\n",
      "[Copied] data\\raw\\healthy\\w1TDsR75t5PsGyAksqF3kMQ6DXT2_cough-shallow.wav\n",
      "[Copied] data\\raw\\healthy\\VcmjCfW6ddgE9lFhDXTO6hDlb452_cough-heavy.wav\n",
      "[Copied] data\\raw\\healthy\\VcmjCfW6ddgE9lFhDXTO6hDlb452_cough-shallow.wav\n",
      "[Copied] data\\raw\\healthy\\maTMkkXbqOhLPOYLpGyMPPigDFt1_cough-heavy.wav\n",
      "[Copied] data\\raw\\healthy\\maTMkkXbqOhLPOYLpGyMPPigDFt1_cough-shallow.wav\n",
      "[Copied] data\\raw\\healthy\\UV965HIG9saPO9HjKNFSm2aFeBt2_cough-heavy.wav\n",
      "[Copied] data\\raw\\healthy\\UV965HIG9saPO9HjKNFSm2aFeBt2_cough-shallow.wav\n",
      "[Copied] data\\raw\\healthy\\LwfZvk9xa6bAJbz4wQGEcyoDOmL2_cough-heavy.wav\n",
      "[Copied] data\\raw\\healthy\\LwfZvk9xa6bAJbz4wQGEcyoDOmL2_cough-shallow.wav\n",
      "[Copied] data\\raw\\healthy\\V247RjX91RY4fxtgfeWjvBhg89s2_cough-heavy.wav\n",
      "[Copied] data\\raw\\healthy\\V247RjX91RY4fxtgfeWjvBhg89s2_cough-shallow.wav\n",
      "[Copied] data\\raw\\healthy\\g6L8s5Dtq8eIYUTeRWHq0Q7w5L32_cough-heavy.wav\n",
      "[Copied] data\\raw\\healthy\\g6L8s5Dtq8eIYUTeRWHq0Q7w5L32_cough-shallow.wav\n",
      "[Copied] data\\raw\\healthy\\Eoyf44CUffgVCPPjJJkopEyAO7k2_cough-heavy.wav\n",
      "[Copied] data\\raw\\healthy\\Eoyf44CUffgVCPPjJJkopEyAO7k2_cough-shallow.wav\n",
      "[Copied] data\\raw\\healthy\\VrBIdIVnQkPbR9D2Gi7WCb17ST62_cough-heavy.wav\n",
      "[Copied] data\\raw\\healthy\\VrBIdIVnQkPbR9D2Gi7WCb17ST62_cough-shallow.wav\n",
      "[Copied] data\\raw\\healthy\\aGEXEhp3mbUandZBtCuEooDQrK53_cough-heavy.wav\n",
      "[Copied] data\\raw\\healthy\\aGEXEhp3mbUandZBtCuEooDQrK53_cough-shallow.wav\n",
      "[Copied] data\\raw\\healthy\\tFFUbYL9nSNEyaBK3w9UAtATcgO2_cough-heavy.wav\n",
      "[Copied] data\\raw\\healthy\\tFFUbYL9nSNEyaBK3w9UAtATcgO2_cough-shallow.wav\n",
      "[Copied] data\\raw\\healthy\\hRB1GYdlKAgCnwg4xFzAUE3SiUG2_cough-heavy.wav\n",
      "[Copied] data\\raw\\healthy\\hRB1GYdlKAgCnwg4xFzAUE3SiUG2_cough-shallow.wav\n",
      "[Copied] data\\raw\\healthy\\6MmSmB1lmmOiyKNNA0p7IuVe3CA3_cough-heavy.wav\n",
      "[Copied] data\\raw\\healthy\\6MmSmB1lmmOiyKNNA0p7IuVe3CA3_cough-shallow.wav\n",
      "[Copied] data\\raw\\healthy\\9D1go0wkvuPkFebFk4uQQpcBuZw1_cough-heavy.wav\n",
      "[Copied] data\\raw\\healthy\\9D1go0wkvuPkFebFk4uQQpcBuZw1_cough-shallow.wav\n",
      "[Copied] data\\raw\\healthy\\O2axQgHDogQ1mORlKYAGiPTiHvB3_cough-heavy.wav\n",
      "[Copied] data\\raw\\healthy\\O2axQgHDogQ1mORlKYAGiPTiHvB3_cough-shallow.wav\n",
      "[Copied] data\\raw\\healthy\\wawUd75qJgXdQz6qxRATEzuKvMn1_cough-heavy.wav\n",
      "[Copied] data\\raw\\healthy\\wawUd75qJgXdQz6qxRATEzuKvMn1_cough-shallow.wav\n",
      "[Copied] data\\raw\\healthy\\n4t5cgNQKXO3F8KP55vWOgYWcXC3_cough-heavy.wav\n",
      "[Copied] data\\raw\\healthy\\n4t5cgNQKXO3F8KP55vWOgYWcXC3_cough-shallow.wav\n",
      "[Copied] data\\raw\\healthy\\CAf8ILsDpQMeTPPLwi7nFlgRT2t1_cough-heavy.wav\n",
      "[Copied] data\\raw\\healthy\\CAf8ILsDpQMeTPPLwi7nFlgRT2t1_cough-shallow.wav\n",
      "[Copied] data\\raw\\healthy\\l8qDG3sN6tczDZGHbgPje0suopx1_cough-heavy.wav\n",
      "[Copied] data\\raw\\healthy\\l8qDG3sN6tczDZGHbgPje0suopx1_cough-shallow.wav\n",
      "[Copied] data\\raw\\healthy\\G3iIP9QRHPTItOsK6lpEMd6IQKw1_cough-heavy.wav\n",
      "[Copied] data\\raw\\healthy\\G3iIP9QRHPTItOsK6lpEMd6IQKw1_cough-shallow.wav\n",
      "[Copied] data\\raw\\healthy\\jRjAYMmAQee5uVm5fU8yVnpuvs33_cough-heavy.wav\n",
      "[Copied] data\\raw\\healthy\\jRjAYMmAQee5uVm5fU8yVnpuvs33_cough-shallow.wav\n",
      "[Copied] data\\raw\\healthy\\0zexHIcM7tQDdnFiEj2Eb0v3g212_cough-heavy.wav\n",
      "[Copied] data\\raw\\healthy\\0zexHIcM7tQDdnFiEj2Eb0v3g212_cough-shallow.wav\n",
      "[Copied] data\\raw\\healthy\\3VWhvtBFHKMgEKxlXzMYeg5NeBN2_cough-heavy.wav\n",
      "[Copied] data\\raw\\healthy\\3VWhvtBFHKMgEKxlXzMYeg5NeBN2_cough-shallow.wav\n",
      "[Copied] data\\raw\\healthy\\FLhjsgqrgQMKwNt5iEryxG5sDlW2_cough-heavy.wav\n",
      "[Copied] data\\raw\\healthy\\FLhjsgqrgQMKwNt5iEryxG5sDlW2_cough-shallow.wav\n",
      "[Copied] data\\raw\\healthy\\chGPz3cGyvRFMdWo36WHlyEBgpx1_cough-heavy.wav\n",
      "[Copied] data\\raw\\healthy\\chGPz3cGyvRFMdWo36WHlyEBgpx1_cough-shallow.wav\n",
      "[Copied] data\\raw\\healthy\\uwWEy23DDNYBMukZ3lpzFQOlT7m2_cough-heavy.wav\n",
      "[Copied] data\\raw\\healthy\\uwWEy23DDNYBMukZ3lpzFQOlT7m2_cough-shallow.wav\n",
      "[Copied] data\\raw\\healthy\\V2l1rcUUl3VsRmbvIWuaazcBMF12_cough-heavy.wav\n",
      "[Copied] data\\raw\\healthy\\V2l1rcUUl3VsRmbvIWuaazcBMF12_cough-shallow.wav\n",
      "[Copied] data\\raw\\healthy\\0VpjgRGE5kR8uTEhksBgvFR3xlA2_cough-heavy.wav\n",
      "[Copied] data\\raw\\healthy\\0VpjgRGE5kR8uTEhksBgvFR3xlA2_cough-shallow.wav\n",
      "[Copied] data\\raw\\healthy\\kOBN8dMQckbYR0PtSZAxOciIcY62_cough-heavy.wav\n",
      "[Copied] data\\raw\\healthy\\kOBN8dMQckbYR0PtSZAxOciIcY62_cough-shallow.wav\n",
      "[Copied] data\\raw\\healthy\\ZFjDpdVMiNgc4ApSUv0yY4b4B193_cough-heavy.wav\n",
      "[Copied] data\\raw\\healthy\\ZFjDpdVMiNgc4ApSUv0yY4b4B193_cough-shallow.wav\n",
      "[Copied] data\\raw\\healthy\\VQVtmKC3HwVHbY1xMTued5OOP4E2_cough-heavy.wav\n",
      "[Copied] data\\raw\\healthy\\VQVtmKC3HwVHbY1xMTued5OOP4E2_cough-shallow.wav\n",
      "[Copied] data\\raw\\healthy\\pGxub66GjDdAaJDd95hGHo3BcnJ3_cough-heavy.wav\n",
      "[Copied] data\\raw\\healthy\\pGxub66GjDdAaJDd95hGHo3BcnJ3_cough-shallow.wav\n",
      "[Copied] data\\raw\\healthy\\HHXDoqaHN1QbtSZkgu37f38RGqh1_cough-heavy.wav\n",
      "[Copied] data\\raw\\healthy\\HHXDoqaHN1QbtSZkgu37f38RGqh1_cough-shallow.wav\n",
      "[Copied] data\\raw\\healthy\\kiduiciSl7YBDAK9XuvaRizJUnU2_cough-heavy.wav\n",
      "[Copied] data\\raw\\healthy\\kiduiciSl7YBDAK9XuvaRizJUnU2_cough-shallow.wav\n",
      "[Copied] data\\raw\\healthy\\iukMZ50a9COYLA8Rc1l3ejRdhT92_cough-heavy.wav\n",
      "[Copied] data\\raw\\healthy\\iukMZ50a9COYLA8Rc1l3ejRdhT92_cough-shallow.wav\n",
      "[Copied] data\\raw\\healthy\\huZjiHT43maN3OQ8DAwgYImatr92_cough-heavy.wav\n",
      "[Copied] data\\raw\\healthy\\huZjiHT43maN3OQ8DAwgYImatr92_cough-shallow.wav\n",
      "[Copied] data\\raw\\healthy\\C7Km0KttQRMMM6UoyocajfgZAOB3_cough-heavy.wav\n",
      "[Copied] data\\raw\\healthy\\C7Km0KttQRMMM6UoyocajfgZAOB3_cough-shallow.wav\n",
      "[Copied] data\\raw\\healthy\\6MOH79fX0ReMHLdJCA5W9ZFBYn42_cough-heavy.wav\n",
      "[Copied] data\\raw\\healthy\\6MOH79fX0ReMHLdJCA5W9ZFBYn42_cough-shallow.wav\n",
      "[Copied] data\\raw\\healthy\\5Lln9rjGG3RqbQ1bo0SzlkB0vxq2_cough-heavy.wav\n",
      "[Copied] data\\raw\\healthy\\5Lln9rjGG3RqbQ1bo0SzlkB0vxq2_cough-shallow.wav\n",
      "[Copied] data\\raw\\healthy\\6YaTXgSnexec5CPOQg0EboLqnJJ2_cough-heavy.wav\n",
      "[Copied] data\\raw\\healthy\\6YaTXgSnexec5CPOQg0EboLqnJJ2_cough-shallow.wav\n",
      "[Copied] data\\raw\\healthy\\6qGIqJ2gx2h8BJRLD5YJE9zhiRG3_cough-heavy.wav\n",
      "[Copied] data\\raw\\healthy\\6qGIqJ2gx2h8BJRLD5YJE9zhiRG3_cough-shallow.wav\n",
      "[Copied] data\\raw\\healthy\\IQ7tfWcSsRXGe0J94ouY9rsTB8V2_cough-heavy.wav\n",
      "[Copied] data\\raw\\healthy\\IQ7tfWcSsRXGe0J94ouY9rsTB8V2_cough-shallow.wav\n",
      "[Copied] data\\raw\\healthy\\19VBCVaFPcWROz6wWui9G9IU9K12_cough-heavy.wav\n",
      "[Copied] data\\raw\\healthy\\19VBCVaFPcWROz6wWui9G9IU9K12_cough-shallow.wav\n",
      "[Copied] data\\raw\\healthy\\ZcKPQiZXR4Q0SXU9r7ZkWuQGmd52_cough-heavy.wav\n",
      "[Copied] data\\raw\\healthy\\ZcKPQiZXR4Q0SXU9r7ZkWuQGmd52_cough-shallow.wav\n",
      "[Copied] data\\raw\\healthy\\Dj0W2BYly4ZgQCCyCznEhLH5sYG2_cough-heavy.wav\n",
      "[Copied] data\\raw\\healthy\\Dj0W2BYly4ZgQCCyCznEhLH5sYG2_cough-shallow.wav\n",
      "[Copied] data\\raw\\healthy\\V0Wtp76p8QaDtvEnAsgSimyMspH3_cough-heavy.wav\n",
      "[Copied] data\\raw\\healthy\\V0Wtp76p8QaDtvEnAsgSimyMspH3_cough-shallow.wav\n",
      "[Copied] data\\raw\\healthy\\qtAMbhJqxAaVBZCt7rT5IkUtWGi2_cough-heavy.wav\n",
      "[Copied] data\\raw\\healthy\\qtAMbhJqxAaVBZCt7rT5IkUtWGi2_cough-shallow.wav\n",
      "[Copied] data\\raw\\healthy\\TyKZXsSHoMO2h8aqmLNlpaU2FZ72_cough-heavy.wav\n",
      "[Copied] data\\raw\\healthy\\TyKZXsSHoMO2h8aqmLNlpaU2FZ72_cough-shallow.wav\n",
      "[Copied] data\\raw\\healthy\\YdfYHpfmDMOnsxTHmUESvpgqg612_cough-heavy.wav\n",
      "[Copied] data\\raw\\healthy\\YdfYHpfmDMOnsxTHmUESvpgqg612_cough-shallow.wav\n",
      "[Copied] data\\raw\\healthy\\22oBvWaWwBhbdNfWoshbse1qZ4q2_cough-heavy.wav\n",
      "[Copied] data\\raw\\healthy\\22oBvWaWwBhbdNfWoshbse1qZ4q2_cough-shallow.wav\n",
      "[Copied] data\\raw\\healthy\\mh19KvxVPfMXJ823tZzidOF1Wwn2_cough-heavy.wav\n",
      "[Copied] data\\raw\\healthy\\mh19KvxVPfMXJ823tZzidOF1Wwn2_cough-shallow.wav\n",
      "[Copied] data\\raw\\healthy\\yJRZfiFIsQhFptP6nnlJp825AHF2_cough-heavy.wav\n",
      "[Copied] data\\raw\\healthy\\yJRZfiFIsQhFptP6nnlJp825AHF2_cough-shallow.wav\n",
      "[Copied] data\\raw\\healthy\\KfOIJCkbgjUKy9vbOXdcaGMO46C2_cough-heavy.wav\n",
      "[Copied] data\\raw\\healthy\\KfOIJCkbgjUKy9vbOXdcaGMO46C2_cough-shallow.wav\n",
      "[Copied] data\\raw\\healthy\\p4caw19QwZOW16e0wVjZD34Nlkv2_cough-heavy.wav\n",
      "[Copied] data\\raw\\healthy\\p4caw19QwZOW16e0wVjZD34Nlkv2_cough-shallow.wav\n",
      "[Copied] data\\raw\\healthy\\hkALlH5TJ9Pj4tbOCoXyVPtOIBf1_cough-heavy.wav\n",
      "[Copied] data\\raw\\healthy\\hkALlH5TJ9Pj4tbOCoXyVPtOIBf1_cough-shallow.wav\n",
      "[Copied] data\\raw\\healthy\\YNkZcKCX0mOhKIUO2VRQQd63ydn1_cough-heavy.wav\n",
      "[Copied] data\\raw\\healthy\\YNkZcKCX0mOhKIUO2VRQQd63ydn1_cough-shallow.wav\n",
      "[Copied] data\\raw\\healthy\\s9pMRe4F46aJf8Jg9SvLfJoxgg93_cough-heavy.wav\n",
      "[Copied] data\\raw\\healthy\\s9pMRe4F46aJf8Jg9SvLfJoxgg93_cough-shallow.wav\n",
      "[Copied] data\\raw\\healthy\\JIafPire6JYhDR73srLG2xmrdJk1_cough-heavy.wav\n",
      "[Copied] data\\raw\\healthy\\JIafPire6JYhDR73srLG2xmrdJk1_cough-shallow.wav\n",
      "[Copied] data\\raw\\healthy\\T02pBwp6UGagCMICnB4oiElAWUP2_cough-heavy.wav\n",
      "[Copied] data\\raw\\healthy\\T02pBwp6UGagCMICnB4oiElAWUP2_cough-shallow.wav\n",
      "[Copied] data\\raw\\healthy\\X2oCYyUk9HQsz8UHY03sxnrCXGF3_cough-heavy.wav\n",
      "[Copied] data\\raw\\healthy\\X2oCYyUk9HQsz8UHY03sxnrCXGF3_cough-shallow.wav\n",
      "[Copied] data\\raw\\healthy\\uZjB5Oxr9zS4xZn8rq5ubyAp17A2_cough-heavy.wav\n",
      "[Copied] data\\raw\\healthy\\uZjB5Oxr9zS4xZn8rq5ubyAp17A2_cough-shallow.wav\n",
      "[Copied] data\\raw\\healthy\\xFzTujSkizdGzHg8fPWeETDDG5R2_cough-heavy.wav\n",
      "[Copied] data\\raw\\healthy\\xFzTujSkizdGzHg8fPWeETDDG5R2_cough-shallow.wav\n",
      "[Copied] data\\raw\\healthy\\UxRRwXJtdjRZI4pgQcHHURVa33n2_cough-heavy.wav\n",
      "[Copied] data\\raw\\healthy\\UxRRwXJtdjRZI4pgQcHHURVa33n2_cough-shallow.wav\n",
      "[Copied] data\\raw\\healthy\\fXT3tXtSwYRqFf2V66ND3RpMash1_cough-heavy.wav\n",
      "[Copied] data\\raw\\healthy\\fXT3tXtSwYRqFf2V66ND3RpMash1_cough-shallow.wav\n",
      "[Copied] data\\raw\\healthy\\LyyyoHyVVygA9sFTiv5SWaaUR2E3_cough-heavy.wav\n",
      "[Copied] data\\raw\\healthy\\LyyyoHyVVygA9sFTiv5SWaaUR2E3_cough-shallow.wav\n",
      "[Copied] data\\raw\\healthy\\Jz4Ct4GvrVPZUJlPOL7htkozn4v2_cough-heavy.wav\n",
      "[Copied] data\\raw\\healthy\\Jz4Ct4GvrVPZUJlPOL7htkozn4v2_cough-shallow.wav\n",
      "[Copied] data\\raw\\healthy\\shKIgOZPRZWiewJ3vr9gCkx9ebw1_cough-heavy.wav\n",
      "[Copied] data\\raw\\healthy\\shKIgOZPRZWiewJ3vr9gCkx9ebw1_cough-shallow.wav\n",
      "[Copied] data\\raw\\healthy\\jvrGsRzHKEU4izNgLFGitM7AZVK2_cough-heavy.wav\n",
      "[Copied] data\\raw\\healthy\\jvrGsRzHKEU4izNgLFGitM7AZVK2_cough-shallow.wav\n",
      "[Copied] data\\raw\\healthy\\wDqOiRYshQTO37726tjnEy1lUQ33_cough-heavy.wav\n",
      "[Copied] data\\raw\\healthy\\wDqOiRYshQTO37726tjnEy1lUQ33_cough-shallow.wav\n",
      "[Copied] data\\raw\\healthy\\4qfhsE8JMrP67YOKBSgnbOIPlKK2_cough-heavy.wav\n",
      "[Copied] data\\raw\\healthy\\4qfhsE8JMrP67YOKBSgnbOIPlKK2_cough-shallow.wav\n",
      "[Copied] data\\raw\\healthy\\pNGFDTnofMXgetTUrGCD0ZurV383_cough-heavy.wav\n",
      "[Copied] data\\raw\\healthy\\pNGFDTnofMXgetTUrGCD0ZurV383_cough-shallow.wav\n",
      "[Copied] data\\raw\\healthy\\XIN6JrgKmzSyvfKjes3R6zImvaQ2_cough-heavy.wav\n",
      "[Copied] data\\raw\\healthy\\XIN6JrgKmzSyvfKjes3R6zImvaQ2_cough-shallow.wav\n",
      "[Copied] data\\raw\\healthy\\nJJupqmdVrf3zsgA0nJP8DMtn5B3_cough-heavy.wav\n",
      "[Copied] data\\raw\\healthy\\nJJupqmdVrf3zsgA0nJP8DMtn5B3_cough-shallow.wav\n",
      "[Copied] data\\raw\\healthy\\jR8QnHk6Efa7WysneI95oS308wR2_cough-heavy.wav\n",
      "[Copied] data\\raw\\healthy\\jR8QnHk6Efa7WysneI95oS308wR2_cough-shallow.wav\n",
      "[Copied] data\\raw\\healthy\\AHoYHSvHUjMh9wRfrrPUiEtUi372_cough-heavy.wav\n",
      "[Copied] data\\raw\\healthy\\AHoYHSvHUjMh9wRfrrPUiEtUi372_cough-shallow.wav\n",
      "[Copied] data\\raw\\healthy\\OC99RqHzOjNvaA0rJhPUgP4PM2o1_cough-heavy.wav\n",
      "[Copied] data\\raw\\healthy\\OC99RqHzOjNvaA0rJhPUgP4PM2o1_cough-shallow.wav\n",
      "[Copied] data\\raw\\healthy\\0RHdUsu2qFMmG4dhpJd1NqM5ZTC2_cough-heavy.wav\n",
      "[Copied] data\\raw\\healthy\\0RHdUsu2qFMmG4dhpJd1NqM5ZTC2_cough-shallow.wav\n",
      "[Copied] data\\raw\\healthy\\CdU4pgCdFcZxtDHTpLUn1mO9J3o2_cough-heavy.wav\n",
      "[Copied] data\\raw\\healthy\\CdU4pgCdFcZxtDHTpLUn1mO9J3o2_cough-shallow.wav\n",
      "[Copied] data\\raw\\healthy\\RY495l51qRPkLQxPMtN65Fkzcbw1_cough-heavy.wav\n",
      "[Copied] data\\raw\\healthy\\RY495l51qRPkLQxPMtN65Fkzcbw1_cough-shallow.wav\n",
      "[Copied] data\\raw\\healthy\\DCTTU4q664ROLrpqFatjOKllp9i1_cough-heavy.wav\n",
      "[Copied] data\\raw\\healthy\\DCTTU4q664ROLrpqFatjOKllp9i1_cough-shallow.wav\n",
      "[Copied] data\\raw\\healthy\\bjLKJTRQudYoV82mLEiCmc2lyXz1_cough-heavy.wav\n",
      "[Copied] data\\raw\\healthy\\bjLKJTRQudYoV82mLEiCmc2lyXz1_cough-shallow.wav\n",
      "[Copied] data\\raw\\healthy\\W673kSjviTeaeIVpuLAtv9up4s72_cough-heavy.wav\n",
      "[Copied] data\\raw\\healthy\\W673kSjviTeaeIVpuLAtv9up4s72_cough-shallow.wav\n",
      "[Copied] data\\raw\\healthy\\CkDhDGNX3iWEqDFJZXn9FrxPxYF3_cough-heavy.wav\n",
      "[Copied] data\\raw\\healthy\\CkDhDGNX3iWEqDFJZXn9FrxPxYF3_cough-shallow.wav\n",
      "[Copied] data\\raw\\healthy\\vqIREUmn5CMqyrMHxlLVmcuN5qW2_cough-heavy.wav\n",
      "[Copied] data\\raw\\healthy\\vqIREUmn5CMqyrMHxlLVmcuN5qW2_cough-shallow.wav\n",
      "[Copied] data\\raw\\healthy\\pVh5tOiOZHgxAWt7lBUe6pAtfEg2_cough-heavy.wav\n",
      "[Copied] data\\raw\\healthy\\pVh5tOiOZHgxAWt7lBUe6pAtfEg2_cough-shallow.wav\n",
      "[Copied] data\\raw\\healthy\\Q82KnSDEDTc0w7CDj1fSBntRTyg1_cough-heavy.wav\n",
      "[Copied] data\\raw\\healthy\\Q82KnSDEDTc0w7CDj1fSBntRTyg1_cough-shallow.wav\n",
      "[Copied] data\\raw\\healthy\\k4EHFQiMeAU0VmekEfZDJ11xpnP2_cough-heavy.wav\n",
      "[Copied] data\\raw\\healthy\\k4EHFQiMeAU0VmekEfZDJ11xpnP2_cough-shallow.wav\n",
      "[Copied] data\\raw\\healthy\\CU6Sqlt8NfMboou9neSzsyNLyKD2_cough-heavy.wav\n",
      "[Copied] data\\raw\\healthy\\CU6Sqlt8NfMboou9neSzsyNLyKD2_cough-shallow.wav\n",
      "[Copied] data\\raw\\healthy\\D5aq6FUMeCQal79ePD7UZniIyF12_cough-heavy.wav\n",
      "[Copied] data\\raw\\healthy\\D5aq6FUMeCQal79ePD7UZniIyF12_cough-shallow.wav\n",
      "[Copied] data\\raw\\healthy\\eiJE5pZGVMOmSsG6dLBLxAuXNzf2_cough-heavy.wav\n",
      "[Copied] data\\raw\\healthy\\eiJE5pZGVMOmSsG6dLBLxAuXNzf2_cough-shallow.wav\n",
      "[Copied] data\\raw\\healthy\\smnOOz3onPU2GxyyQuwVJuiU0No1_cough-heavy.wav\n",
      "[Copied] data\\raw\\healthy\\smnOOz3onPU2GxyyQuwVJuiU0No1_cough-shallow.wav\n",
      "[Copied] data\\raw\\healthy\\KYFep4QYHeTdetDl8dhMl0je3ux1_cough-heavy.wav\n",
      "[Copied] data\\raw\\healthy\\KYFep4QYHeTdetDl8dhMl0je3ux1_cough-shallow.wav\n",
      "[Copied] data\\raw\\healthy\\2bQap3Ev6AYxMG1p45w4TJ0DrBL2_cough-heavy.wav\n",
      "[Copied] data\\raw\\healthy\\2bQap3Ev6AYxMG1p45w4TJ0DrBL2_cough-shallow.wav\n",
      "[Copied] data\\raw\\healthy\\JXP97RVyVfVXVqOPULghR8pY3q32_cough-heavy.wav\n",
      "[Copied] data\\raw\\healthy\\JXP97RVyVfVXVqOPULghR8pY3q32_cough-shallow.wav\n",
      "[Copied] data\\raw\\healthy\\ya3VviewxzdRZqbLrEXsIrvilRR2_cough-heavy.wav\n",
      "[Copied] data\\raw\\healthy\\ya3VviewxzdRZqbLrEXsIrvilRR2_cough-shallow.wav\n",
      "[Copied] data\\raw\\healthy\\Bb9OMQWb3GNbJDH4gANBkWJ4Ihs1_cough-heavy.wav\n",
      "[Copied] data\\raw\\healthy\\Bb9OMQWb3GNbJDH4gANBkWJ4Ihs1_cough-shallow.wav\n",
      "[Copied] data\\raw\\healthy\\aRki58kKxnTunoM7BcLiwusqRcV2_cough-heavy.wav\n",
      "[Copied] data\\raw\\healthy\\aRki58kKxnTunoM7BcLiwusqRcV2_cough-shallow.wav\n",
      "[Copied] data\\raw\\healthy\\uy91CirxgXNJdJv6AalXx2Tt3Gg1_cough-heavy.wav\n",
      "[Copied] data\\raw\\healthy\\uy91CirxgXNJdJv6AalXx2Tt3Gg1_cough-shallow.wav\n",
      "[Copied] data\\raw\\healthy\\ByvAxiKJC5QyNZi2YJu6GyZYgPs1_cough-heavy.wav\n",
      "[Copied] data\\raw\\healthy\\ByvAxiKJC5QyNZi2YJu6GyZYgPs1_cough-shallow.wav\n",
      "[Copied] data\\raw\\healthy\\S0VydT0PnkaGbSLPpfoz2kr48yz1_cough-heavy.wav\n",
      "[Copied] data\\raw\\healthy\\S0VydT0PnkaGbSLPpfoz2kr48yz1_cough-shallow.wav\n",
      "[Copied] data\\raw\\healthy\\mR2kMg6kMuatgjlTHPPDNmY4YFC3_cough-heavy.wav\n",
      "[Copied] data\\raw\\healthy\\mR2kMg6kMuatgjlTHPPDNmY4YFC3_cough-shallow.wav\n",
      "[Copied] data\\raw\\healthy\\VtwjlKASmmZBtDjNuo4ryqCBfr33_cough-heavy.wav\n",
      "[Copied] data\\raw\\healthy\\VtwjlKASmmZBtDjNuo4ryqCBfr33_cough-shallow.wav\n",
      "[Copied] data\\raw\\healthy\\b3xN4I45RJb7nxHBRUd6Q6yx3z33_cough-heavy.wav\n",
      "[Copied] data\\raw\\healthy\\b3xN4I45RJb7nxHBRUd6Q6yx3z33_cough-shallow.wav\n",
      "[Copied] data\\raw\\healthy\\sQOS8ZFe4wN6uXSrjtI5ivCt92C3_cough-heavy.wav\n",
      "[Copied] data\\raw\\healthy\\sQOS8ZFe4wN6uXSrjtI5ivCt92C3_cough-shallow.wav\n",
      "[Copied] data\\raw\\healthy\\XanIvOwNxde5zwMzliOagKFFYUt1_cough-heavy.wav\n",
      "[Copied] data\\raw\\healthy\\XanIvOwNxde5zwMzliOagKFFYUt1_cough-shallow.wav\n",
      "[Copied] data\\raw\\healthy\\88mEmnYlbaPo3iQRZGn8Fbm9mNs1_cough-heavy.wav\n",
      "[Copied] data\\raw\\healthy\\88mEmnYlbaPo3iQRZGn8Fbm9mNs1_cough-shallow.wav\n",
      "[Copied] data\\raw\\healthy\\zyX6JZlkhxayEeUP5SL4L6WA1h13_cough-heavy.wav\n",
      "[Copied] data\\raw\\healthy\\zyX6JZlkhxayEeUP5SL4L6WA1h13_cough-shallow.wav\n",
      "[Copied] data\\raw\\healthy\\Z0JZ3bVzYZcEx2GkbTKAyWbyC2J3_cough-heavy.wav\n",
      "[Copied] data\\raw\\healthy\\Z0JZ3bVzYZcEx2GkbTKAyWbyC2J3_cough-shallow.wav\n",
      "[Copied] data\\raw\\healthy\\Gkp0AAA7iJakBNaPSDfnA5eEUoN2_cough-heavy.wav\n",
      "[Copied] data\\raw\\healthy\\Gkp0AAA7iJakBNaPSDfnA5eEUoN2_cough-shallow.wav\n",
      "[Copied] data\\raw\\healthy\\welbkeuEJpggaMpfcDyPgP8im703_cough-heavy.wav\n",
      "[Copied] data\\raw\\healthy\\welbkeuEJpggaMpfcDyPgP8im703_cough-shallow.wav\n",
      "[Copied] data\\raw\\healthy\\VZjOs3lF37fWrg6PsWpmwjCP5UK2_cough-heavy.wav\n",
      "[Copied] data\\raw\\healthy\\VZjOs3lF37fWrg6PsWpmwjCP5UK2_cough-shallow.wav\n",
      "[Copied] data\\raw\\healthy\\EXFN8iHqxjXW7ApntIPI2qxQiMz2_cough-heavy.wav\n",
      "[Copied] data\\raw\\healthy\\EXFN8iHqxjXW7ApntIPI2qxQiMz2_cough-shallow.wav\n",
      "[Copied] data\\raw\\healthy\\g6wE0LPtHWdH7XAWDCGHB5Kj1So1_cough-heavy.wav\n",
      "[Copied] data\\raw\\healthy\\g6wE0LPtHWdH7XAWDCGHB5Kj1So1_cough-shallow.wav\n",
      "[Copied] data\\raw\\healthy\\1HW5boss6UZ2uPXxGDCcwiKR8gh2_cough-heavy.wav\n",
      "[Copied] data\\raw\\healthy\\1HW5boss6UZ2uPXxGDCcwiKR8gh2_cough-shallow.wav\n",
      "[Copied] data\\raw\\healthy\\pT9egK3TaHP0NBelDs9O5mhOPLo2_cough-heavy.wav\n",
      "[Copied] data\\raw\\healthy\\pT9egK3TaHP0NBelDs9O5mhOPLo2_cough-shallow.wav\n",
      "[Copied] data\\raw\\healthy\\JqVURYFKRWXXcxYNrqGTVte8IIJ3_cough-heavy.wav\n",
      "[Copied] data\\raw\\healthy\\JqVURYFKRWXXcxYNrqGTVte8IIJ3_cough-shallow.wav\n",
      "[Copied] data\\raw\\healthy\\O7eAgc4vq5fZQmGh60gDaMxOjgz2_cough-heavy.wav\n",
      "[Copied] data\\raw\\healthy\\O7eAgc4vq5fZQmGh60gDaMxOjgz2_cough-shallow.wav\n",
      "[Copied] data\\raw\\healthy\\gM6ePm1Ew2d0nCVAHMf2ANaKI8D2_cough-heavy.wav\n",
      "[Copied] data\\raw\\healthy\\gM6ePm1Ew2d0nCVAHMf2ANaKI8D2_cough-shallow.wav\n",
      "[Copied] data\\raw\\healthy\\AaTqzQjwIYaQW0MHufWVP5GWQ4I3_cough-heavy.wav\n",
      "[Copied] data\\raw\\healthy\\AaTqzQjwIYaQW0MHufWVP5GWQ4I3_cough-shallow.wav\n",
      "[Copied] data\\raw\\healthy\\v0Cj73yuwacWiGqDlaVsMa1GHqd2_cough-heavy.wav\n",
      "[Copied] data\\raw\\healthy\\v0Cj73yuwacWiGqDlaVsMa1GHqd2_cough-shallow.wav\n",
      "[Copied] data\\raw\\healthy\\isi9jPjYQIRlc93sv5mb9dQseEA2_cough-heavy.wav\n",
      "[Copied] data\\raw\\healthy\\isi9jPjYQIRlc93sv5mb9dQseEA2_cough-shallow.wav\n",
      "[Copied] data\\raw\\healthy\\6FftFl1jWlQHb0N37KW4ajs9dqH3_cough-heavy.wav\n",
      "[Copied] data\\raw\\healthy\\6FftFl1jWlQHb0N37KW4ajs9dqH3_cough-shallow.wav\n",
      "[Copied] data\\raw\\healthy\\65ePxgK5pQY9m95iEk0gTXX38vK2_cough-heavy.wav\n",
      "[Copied] data\\raw\\healthy\\65ePxgK5pQY9m95iEk0gTXX38vK2_cough-shallow.wav\n",
      "[Copied] data\\raw\\healthy\\lpnAzDCKhnNhryfkxvnedo1xnan1_cough-heavy.wav\n",
      "[Copied] data\\raw\\healthy\\lpnAzDCKhnNhryfkxvnedo1xnan1_cough-shallow.wav\n",
      "[Copied] data\\raw\\healthy\\g31DKGN9FreFz5HQtF6z732O0LO2_cough-heavy.wav\n",
      "[Copied] data\\raw\\healthy\\g31DKGN9FreFz5HQtF6z732O0LO2_cough-shallow.wav\n",
      "[Copied] data\\raw\\healthy\\lyvfINttmWUoQsNNYdkTv8CzBa43_cough-heavy.wav\n",
      "[Copied] data\\raw\\healthy\\lyvfINttmWUoQsNNYdkTv8CzBa43_cough-shallow.wav\n",
      "[Copied] data\\raw\\healthy\\VFG4CURiubQsHbGiux3co3TyL043_cough-heavy.wav\n",
      "[Copied] data\\raw\\healthy\\VFG4CURiubQsHbGiux3co3TyL043_cough-shallow.wav\n",
      "[Copied] data\\raw\\healthy\\cPuXXUduYDh1lEnHlSkDeHnbTvq2_cough-heavy.wav\n",
      "[Copied] data\\raw\\healthy\\cPuXXUduYDh1lEnHlSkDeHnbTvq2_cough-shallow.wav\n",
      "[Copied] data\\raw\\healthy\\jaaBKWGuppchj0ahnBiFzFeuBB23_cough-heavy.wav\n",
      "[Copied] data\\raw\\healthy\\jaaBKWGuppchj0ahnBiFzFeuBB23_cough-shallow.wav\n",
      "[Copied] data\\raw\\healthy\\jVdlO7RPQmaumDLciCDspJInwMx2_cough-heavy.wav\n",
      "[Copied] data\\raw\\healthy\\jVdlO7RPQmaumDLciCDspJInwMx2_cough-shallow.wav\n",
      "[Copied] data\\raw\\healthy\\0ujmfEsuhJRsGfbW3ttpSMjwJi73_cough-heavy.wav\n",
      "[Copied] data\\raw\\healthy\\0ujmfEsuhJRsGfbW3ttpSMjwJi73_cough-shallow.wav\n",
      "[Copied] data\\raw\\healthy\\DES9AsgsFdVdBotRJ6R46C4tc9c2_cough-heavy.wav\n",
      "[Copied] data\\raw\\healthy\\DES9AsgsFdVdBotRJ6R46C4tc9c2_cough-shallow.wav\n",
      "[Copied] data\\raw\\healthy\\hqzMroQpC0QHDRI78EvbdmhgksU2_cough-heavy.wav\n",
      "[Copied] data\\raw\\healthy\\hqzMroQpC0QHDRI78EvbdmhgksU2_cough-shallow.wav\n",
      "[Copied] data\\raw\\healthy\\xB1PJ5sqyuQDj48VQ3E47ap9dPn1_cough-heavy.wav\n",
      "[Copied] data\\raw\\healthy\\xB1PJ5sqyuQDj48VQ3E47ap9dPn1_cough-shallow.wav\n",
      "[Copied] data\\raw\\healthy\\ItB1KcAWo8Y8Cy59mt262mXYxXU2_cough-heavy.wav\n",
      "[Copied] data\\raw\\healthy\\ItB1KcAWo8Y8Cy59mt262mXYxXU2_cough-shallow.wav\n",
      "[Copied] data\\raw\\healthy\\n53G4OdIz7a5kkUyObojHfGBvki2_cough-heavy.wav\n",
      "[Copied] data\\raw\\healthy\\n53G4OdIz7a5kkUyObojHfGBvki2_cough-shallow.wav\n",
      "[Copied] data\\raw\\healthy\\Cxk4DW9S6fQhB2mafs7RBT6HCLt1_cough-heavy.wav\n",
      "[Copied] data\\raw\\healthy\\Cxk4DW9S6fQhB2mafs7RBT6HCLt1_cough-shallow.wav\n",
      "[Copied] data\\raw\\healthy\\2BdU00Hv7XWhJQOz0TiyeLtvbAG3_cough-heavy.wav\n",
      "[Copied] data\\raw\\healthy\\2BdU00Hv7XWhJQOz0TiyeLtvbAG3_cough-shallow.wav\n",
      "[Copied] data\\raw\\healthy\\OatFCKWJSXcyyGHHGozArF6mCVU2_cough-heavy.wav\n",
      "[Copied] data\\raw\\healthy\\OatFCKWJSXcyyGHHGozArF6mCVU2_cough-shallow.wav\n",
      "[Copied] data\\raw\\healthy\\YDqGf8vnHSPjo3q3PjdkQ5Pm7C12_cough-heavy.wav\n",
      "[Copied] data\\raw\\healthy\\YDqGf8vnHSPjo3q3PjdkQ5Pm7C12_cough-shallow.wav\n",
      "[Copied] data\\raw\\healthy\\6CcWU1oa6YeaL1hletunsAHLiOx2_cough-heavy.wav\n",
      "[Copied] data\\raw\\healthy\\6CcWU1oa6YeaL1hletunsAHLiOx2_cough-shallow.wav\n",
      "[Copied] data\\raw\\healthy\\XGXvJt5p7wQ7fcvMbdN92bAPzZE2_cough-heavy.wav\n",
      "[Copied] data\\raw\\healthy\\XGXvJt5p7wQ7fcvMbdN92bAPzZE2_cough-shallow.wav\n",
      "[Copied] data\\raw\\healthy\\6foPVVE8lRXyaiy38TRYH55s3zN2_cough-heavy.wav\n",
      "[Copied] data\\raw\\healthy\\6foPVVE8lRXyaiy38TRYH55s3zN2_cough-shallow.wav\n",
      "[Copied] data\\raw\\healthy\\A6cnzNlOAmM8GCpUKtC1ZwTKUiO2_cough-heavy.wav\n",
      "[Copied] data\\raw\\healthy\\A6cnzNlOAmM8GCpUKtC1ZwTKUiO2_cough-shallow.wav\n",
      "[Copied] data\\raw\\healthy\\jtTWQOkCx0RG5LBfKnPekeYuhMD2_cough-heavy.wav\n",
      "[Copied] data\\raw\\healthy\\jtTWQOkCx0RG5LBfKnPekeYuhMD2_cough-shallow.wav\n",
      "[Copied] data\\raw\\healthy\\UOSC4wYpuNVn7If8bs0nrpetNix2_cough-heavy.wav\n",
      "[Copied] data\\raw\\healthy\\UOSC4wYpuNVn7If8bs0nrpetNix2_cough-shallow.wav\n",
      "[Copied] data\\raw\\healthy\\KOKCooQejva2hnY3f1LnxqL4gUR2_cough-heavy.wav\n",
      "[Copied] data\\raw\\healthy\\KOKCooQejva2hnY3f1LnxqL4gUR2_cough-shallow.wav\n",
      "[Copied] data\\raw\\healthy\\hVWqZEL0c6RSrDEjSCyvyFPMEum1_cough-heavy.wav\n",
      "[Copied] data\\raw\\healthy\\hVWqZEL0c6RSrDEjSCyvyFPMEum1_cough-shallow.wav\n",
      "[Copied] data\\raw\\healthy\\pLk1k0G3cnbfzxENxL8axlc1PTj1_cough-heavy.wav\n",
      "[Copied] data\\raw\\healthy\\pLk1k0G3cnbfzxENxL8axlc1PTj1_cough-shallow.wav\n",
      "[Copied] data\\raw\\healthy\\5YSIWpZPYZUqG5rGievs4epu33g2_cough-heavy.wav\n",
      "[Copied] data\\raw\\healthy\\5YSIWpZPYZUqG5rGievs4epu33g2_cough-shallow.wav\n",
      "[Copied] data\\raw\\healthy\\GGGztp5BbtgwQ7McufNdfMAvSFv1_cough-heavy.wav\n",
      "[Copied] data\\raw\\healthy\\GGGztp5BbtgwQ7McufNdfMAvSFv1_cough-shallow.wav\n",
      "[Copied] data\\raw\\healthy\\sbdVe2aEGKeFcPXdhSf5QOuA5qA3_cough-heavy.wav\n",
      "[Copied] data\\raw\\healthy\\sbdVe2aEGKeFcPXdhSf5QOuA5qA3_cough-shallow.wav\n",
      "[Copied] data\\raw\\healthy\\bbemMSSF2DWykY2lW3pFokk39Wr1_cough-heavy.wav\n",
      "[Copied] data\\raw\\healthy\\bbemMSSF2DWykY2lW3pFokk39Wr1_cough-shallow.wav\n",
      "[Copied] data\\raw\\healthy\\jx5lw63NN0SESDVLpYEQTHXuzti2_cough-heavy.wav\n",
      "[Copied] data\\raw\\healthy\\jx5lw63NN0SESDVLpYEQTHXuzti2_cough-shallow.wav\n",
      "[Copied] data\\raw\\healthy\\cFePAw64vTSRzgy3ZXZFGC1E7rS2_cough-heavy.wav\n",
      "[Copied] data\\raw\\healthy\\cFePAw64vTSRzgy3ZXZFGC1E7rS2_cough-shallow.wav\n",
      "[Copied] data\\raw\\healthy\\7uVROrqAKPMofUKBkPhYGgeU1513_cough-heavy.wav\n",
      "[Copied] data\\raw\\healthy\\7uVROrqAKPMofUKBkPhYGgeU1513_cough-shallow.wav\n",
      "[Copied] data\\raw\\healthy\\xTrcp3vDL8bkpVEICdd1YsOURKx1_cough-heavy.wav\n",
      "[Copied] data\\raw\\healthy\\xTrcp3vDL8bkpVEICdd1YsOURKx1_cough-shallow.wav\n",
      "[Copied] data\\raw\\healthy\\e5xiRpxobLe69psjXzZtitwdxpg1_cough-heavy.wav\n",
      "[Copied] data\\raw\\healthy\\e5xiRpxobLe69psjXzZtitwdxpg1_cough-shallow.wav\n",
      "[Copied] data\\raw\\healthy\\14bqYTAafsSLdCtHZVw1gavRhpd2_cough-heavy.wav\n",
      "[Copied] data\\raw\\healthy\\14bqYTAafsSLdCtHZVw1gavRhpd2_cough-shallow.wav\n",
      "[Copied] data\\raw\\healthy\\T6yyKorHTOXc7a7Hdw18FnNLN3I2_cough-heavy.wav\n",
      "[Copied] data\\raw\\healthy\\T6yyKorHTOXc7a7Hdw18FnNLN3I2_cough-shallow.wav\n",
      "[Copied] data\\raw\\healthy\\av4p9I9aBGfNYwrwkh4jEiEk1lE2_cough-heavy.wav\n",
      "[Copied] data\\raw\\healthy\\av4p9I9aBGfNYwrwkh4jEiEk1lE2_cough-shallow.wav\n",
      "[Copied] data\\raw\\healthy\\YEPHDMGy11bhRKUTSh5vHHfRk4K3_cough-heavy.wav\n",
      "[Copied] data\\raw\\healthy\\YEPHDMGy11bhRKUTSh5vHHfRk4K3_cough-shallow.wav\n",
      "[Copied] data\\raw\\healthy\\ugXNiwAC4VZuidrzssew4IEViQM2_cough-heavy.wav\n",
      "[Copied] data\\raw\\healthy\\ugXNiwAC4VZuidrzssew4IEViQM2_cough-shallow.wav\n",
      "[Copied] data\\raw\\healthy\\UKnLR9FqNMSQ4rXR6iclPC4fknp2_cough-heavy.wav\n",
      "[Copied] data\\raw\\healthy\\UKnLR9FqNMSQ4rXR6iclPC4fknp2_cough-shallow.wav\n",
      "[Copied] data\\raw\\healthy\\BvSvfAT0dRRNGX7n6wmIpOlp7W12_cough-heavy.wav\n",
      "[Copied] data\\raw\\healthy\\BvSvfAT0dRRNGX7n6wmIpOlp7W12_cough-shallow.wav\n",
      "[Copied] data\\raw\\healthy\\tk32lejaXfVLODylFxYZC199STm2_cough-heavy.wav\n",
      "[Copied] data\\raw\\healthy\\tk32lejaXfVLODylFxYZC199STm2_cough-shallow.wav\n",
      "[Copied] data\\raw\\healthy\\Zs8oTVcUPTc8pk9UES7sFEhRDxX2_cough-heavy.wav\n",
      "[Copied] data\\raw\\healthy\\Zs8oTVcUPTc8pk9UES7sFEhRDxX2_cough-shallow.wav\n",
      "[Copied] data\\raw\\healthy\\80M2CERHxJcqnfMAjwyheSC67Ec2_cough-heavy.wav\n",
      "[Copied] data\\raw\\healthy\\80M2CERHxJcqnfMAjwyheSC67Ec2_cough-shallow.wav\n",
      "[Copied] data\\raw\\healthy\\dauyEPjsulULmwBQ7REEMrEAxBk2_cough-heavy.wav\n",
      "[Copied] data\\raw\\healthy\\dauyEPjsulULmwBQ7REEMrEAxBk2_cough-shallow.wav\n",
      "[Copied] data\\raw\\healthy\\HTYeSgQx0TcOekPlmxF7AwDgMJq1_cough-heavy.wav\n",
      "[Copied] data\\raw\\healthy\\HTYeSgQx0TcOekPlmxF7AwDgMJq1_cough-shallow.wav\n",
      "[Copied] data\\raw\\healthy\\6xGgPexIjOVVNpVmRxzIarZHaqo1_cough-heavy.wav\n",
      "[Copied] data\\raw\\healthy\\6xGgPexIjOVVNpVmRxzIarZHaqo1_cough-shallow.wav\n",
      "[Copied] data\\raw\\healthy\\1YKLwejE06Poo1Whg1sYL3EC8sz2_cough-heavy.wav\n",
      "[Copied] data\\raw\\healthy\\1YKLwejE06Poo1Whg1sYL3EC8sz2_cough-shallow.wav\n",
      "[Copied] data\\raw\\healthy\\oeUYi9pKtHWMWaOPoKCjBjfOSHJ3_cough-heavy.wav\n",
      "[Copied] data\\raw\\healthy\\oeUYi9pKtHWMWaOPoKCjBjfOSHJ3_cough-shallow.wav\n",
      "[Copied] data\\raw\\healthy\\uUqS0VsfJrTv9zCPWwLqRmF8Uoq1_cough-heavy.wav\n",
      "[Copied] data\\raw\\healthy\\uUqS0VsfJrTv9zCPWwLqRmF8Uoq1_cough-shallow.wav\n",
      "[Copied] data\\raw\\healthy\\9dNkv55RCuQGvkd7ueflfG6VT2W2_cough-heavy.wav\n",
      "[Copied] data\\raw\\healthy\\9dNkv55RCuQGvkd7ueflfG6VT2W2_cough-shallow.wav\n",
      "[Copied] data\\raw\\healthy\\pCvmqsHirKcCQyWTKFUJF14jbTH3_cough-heavy.wav\n",
      "[Copied] data\\raw\\healthy\\pCvmqsHirKcCQyWTKFUJF14jbTH3_cough-shallow.wav\n",
      "[Copied] data\\raw\\healthy\\9hftEYixyhP1Neeq3fB7ZwITQC53_cough-heavy.wav\n",
      "[Missing] cough-shallow.wav for 9hftEYixyhP1Neeq3fB7ZwITQC53\n",
      "[Copied] data\\raw\\healthy\\cbmcTV6z0NVgO0i6yeYyAO7AoI72_cough-heavy.wav\n",
      "[Copied] data\\raw\\healthy\\cbmcTV6z0NVgO0i6yeYyAO7AoI72_cough-shallow.wav\n",
      "[Copied] data\\raw\\healthy\\cfkQZPXKiwUdOgACOzPoZ7alrOh1_cough-heavy.wav\n",
      "[Copied] data\\raw\\healthy\\cfkQZPXKiwUdOgACOzPoZ7alrOh1_cough-shallow.wav\n",
      "[Copied] data\\raw\\healthy\\lJlHlD5QIlOavw5qLRHbyR18T0H2_cough-heavy.wav\n",
      "[Copied] data\\raw\\healthy\\lJlHlD5QIlOavw5qLRHbyR18T0H2_cough-shallow.wav\n",
      "[Copied] data\\raw\\healthy\\tKPYt15PqwZH8RcZnoRnkk4Q8UZ2_cough-heavy.wav\n",
      "[Copied] data\\raw\\healthy\\tKPYt15PqwZH8RcZnoRnkk4Q8UZ2_cough-shallow.wav\n",
      "[Copied] data\\raw\\healthy\\lMsEJjeKrHaNhvVOMzsUoCcTguY2_cough-heavy.wav\n",
      "[Copied] data\\raw\\healthy\\lMsEJjeKrHaNhvVOMzsUoCcTguY2_cough-shallow.wav\n",
      "[Copied] data\\raw\\healthy\\KzArWjCjApUOIz69TPVaZxSKQ6W2_cough-heavy.wav\n",
      "[Copied] data\\raw\\healthy\\KzArWjCjApUOIz69TPVaZxSKQ6W2_cough-shallow.wav\n",
      "[Copied] data\\raw\\healthy\\697xpWya0DbSEN4Y6tsEH3BchHw1_cough-heavy.wav\n",
      "[Copied] data\\raw\\healthy\\697xpWya0DbSEN4Y6tsEH3BchHw1_cough-shallow.wav\n",
      "[Copied] data\\raw\\healthy\\0eQAE4NgLUWYqAaMuWoO4XgIgvF2_cough-heavy.wav\n",
      "[Copied] data\\raw\\healthy\\0eQAE4NgLUWYqAaMuWoO4XgIgvF2_cough-shallow.wav\n",
      "[Copied] data\\raw\\healthy\\4pSWWWdAaUd7s2dh6eXaaXeSLIO2_cough-heavy.wav\n",
      "[Copied] data\\raw\\healthy\\4pSWWWdAaUd7s2dh6eXaaXeSLIO2_cough-shallow.wav\n",
      "[Copied] data\\raw\\healthy\\eqI4Ht18bCU6HbJVycb8GgXRmbU2_cough-heavy.wav\n",
      "[Copied] data\\raw\\healthy\\eqI4Ht18bCU6HbJVycb8GgXRmbU2_cough-shallow.wav\n",
      "[Copied] data\\raw\\healthy\\j0KRTzpx8hepjyKHU3GuZ4JgmBW2_cough-heavy.wav\n",
      "[Copied] data\\raw\\healthy\\j0KRTzpx8hepjyKHU3GuZ4JgmBW2_cough-shallow.wav\n",
      "[Copied] data\\raw\\healthy\\okpi2sQ8U8Vmf21zXNO6kCgks5y2_cough-heavy.wav\n",
      "[Copied] data\\raw\\healthy\\okpi2sQ8U8Vmf21zXNO6kCgks5y2_cough-shallow.wav\n",
      "[Copied] data\\raw\\healthy\\nHni2h50bzR6jh4FDPgY2NtVs7I2_cough-heavy.wav\n",
      "[Copied] data\\raw\\healthy\\nHni2h50bzR6jh4FDPgY2NtVs7I2_cough-shallow.wav\n",
      "[Copied] data\\raw\\healthy\\3oM1GutSzARkQnaiMdIUMOSczz42_cough-heavy.wav\n",
      "[Copied] data\\raw\\healthy\\3oM1GutSzARkQnaiMdIUMOSczz42_cough-shallow.wav\n",
      "[Copied] data\\raw\\healthy\\oTCyHYFIjtezHe2Tr9yZg8Lj5sv2_cough-heavy.wav\n",
      "[Copied] data\\raw\\healthy\\oTCyHYFIjtezHe2Tr9yZg8Lj5sv2_cough-shallow.wav\n",
      "[Copied] data\\raw\\healthy\\38CylWLQxybGkrRABrmg63KnAJd2_cough-heavy.wav\n",
      "[Copied] data\\raw\\healthy\\38CylWLQxybGkrRABrmg63KnAJd2_cough-shallow.wav\n",
      "[Copied] data\\raw\\healthy\\cAdvtOxMKHg9hO3IbimCRK9Vooi1_cough-heavy.wav\n",
      "[Copied] data\\raw\\healthy\\cAdvtOxMKHg9hO3IbimCRK9Vooi1_cough-shallow.wav\n",
      "[Copied] data\\raw\\healthy\\Eik9USYv51RYy1mxzPOGxPLhn4o1_cough-heavy.wav\n",
      "[Copied] data\\raw\\healthy\\Eik9USYv51RYy1mxzPOGxPLhn4o1_cough-shallow.wav\n",
      "[Copied] data\\raw\\healthy\\OmMVi6kdnHbu8sKZsh6HsGHm4Cs1_cough-heavy.wav\n",
      "[Copied] data\\raw\\healthy\\OmMVi6kdnHbu8sKZsh6HsGHm4Cs1_cough-shallow.wav\n",
      "[Copied] data\\raw\\healthy\\MCyZwW6oHlddq3Cy7QRwPHw5gof1_cough-heavy.wav\n",
      "[Copied] data\\raw\\healthy\\MCyZwW6oHlddq3Cy7QRwPHw5gof1_cough-shallow.wav\n",
      "[Copied] data\\raw\\healthy\\f1tDfcVYVlOPYBAWP1ZDMdGER4m2_cough-heavy.wav\n",
      "[Copied] data\\raw\\healthy\\f1tDfcVYVlOPYBAWP1ZDMdGER4m2_cough-shallow.wav\n",
      "[Copied] data\\raw\\healthy\\j6TNknVPY1Y5LO4PYT6RoykWbha2_cough-heavy.wav\n",
      "[Copied] data\\raw\\healthy\\j6TNknVPY1Y5LO4PYT6RoykWbha2_cough-shallow.wav\n",
      "[Copied] data\\raw\\healthy\\3W9lHLbMzRVftjy3sxNnXwOTy6q1_cough-heavy.wav\n",
      "[Copied] data\\raw\\healthy\\3W9lHLbMzRVftjy3sxNnXwOTy6q1_cough-shallow.wav\n",
      "[Copied] data\\raw\\healthy\\TLfuOcZh0HfnVRRdez4CxLFiPki2_cough-heavy.wav\n",
      "[Copied] data\\raw\\healthy\\TLfuOcZh0HfnVRRdez4CxLFiPki2_cough-shallow.wav\n",
      "[Copied] data\\raw\\healthy\\IS3AoZuo0cXtuYb2aDWkrIWTciP2_cough-heavy.wav\n",
      "[Copied] data\\raw\\healthy\\IS3AoZuo0cXtuYb2aDWkrIWTciP2_cough-shallow.wav\n",
      "[Copied] data\\raw\\healthy\\9g7Qa5FMZgUoDcKvLIPLo7m6mOD3_cough-heavy.wav\n",
      "[Copied] data\\raw\\healthy\\9g7Qa5FMZgUoDcKvLIPLo7m6mOD3_cough-shallow.wav\n",
      "[Copied] data\\raw\\healthy\\nyOEOseZX2cXF7ItBTJP316eTrx2_cough-heavy.wav\n",
      "[Copied] data\\raw\\healthy\\nyOEOseZX2cXF7ItBTJP316eTrx2_cough-shallow.wav\n",
      "[Copied] data\\raw\\healthy\\wGREdkmvqncUfRgcia9679biMIC3_cough-heavy.wav\n",
      "[Copied] data\\raw\\healthy\\wGREdkmvqncUfRgcia9679biMIC3_cough-shallow.wav\n",
      "[Copied] data\\raw\\healthy\\11GcRROEvCReCSBzteGoFLw1GyS2_cough-heavy.wav\n",
      "[Copied] data\\raw\\healthy\\11GcRROEvCReCSBzteGoFLw1GyS2_cough-shallow.wav\n",
      "[Copied] data\\raw\\healthy\\rAPBfRm8PdZvmMY0SVTQCbN6hhE2_cough-heavy.wav\n",
      "[Copied] data\\raw\\healthy\\rAPBfRm8PdZvmMY0SVTQCbN6hhE2_cough-shallow.wav\n",
      "[Copied] data\\raw\\healthy\\REFqANOm1nYxqZQ8t5EftdmwYeh1_cough-heavy.wav\n",
      "[Copied] data\\raw\\healthy\\REFqANOm1nYxqZQ8t5EftdmwYeh1_cough-shallow.wav\n",
      "[Copied] data\\raw\\healthy\\KoVhPh3wszMRh4pyxUzNhhSwxyX2_cough-heavy.wav\n",
      "[Copied] data\\raw\\healthy\\KoVhPh3wszMRh4pyxUzNhhSwxyX2_cough-shallow.wav\n",
      "[Copied] data\\raw\\healthy\\tpnRTSUMvkT4tJZpIQi0OghPefz1_cough-heavy.wav\n",
      "[Copied] data\\raw\\healthy\\tpnRTSUMvkT4tJZpIQi0OghPefz1_cough-shallow.wav\n",
      "[Copied] data\\raw\\healthy\\1yXs34J4y9VaRQSdwgm4NVWs6Y12_cough-heavy.wav\n",
      "[Copied] data\\raw\\healthy\\1yXs34J4y9VaRQSdwgm4NVWs6Y12_cough-shallow.wav\n",
      "[Copied] data\\raw\\healthy\\eX9y5J7LtpfNf6c2cl8yDBRhmXV2_cough-heavy.wav\n",
      "[Copied] data\\raw\\healthy\\eX9y5J7LtpfNf6c2cl8yDBRhmXV2_cough-shallow.wav\n",
      "[Copied] data\\raw\\healthy\\4atnIFwUK3ZZTiWezgLwrvHHOzT2_cough-heavy.wav\n",
      "[Copied] data\\raw\\healthy\\4atnIFwUK3ZZTiWezgLwrvHHOzT2_cough-shallow.wav\n",
      "[Copied] data\\raw\\healthy\\CwGGsPFeFQPwRy8ba33e8SXGS132_cough-heavy.wav\n",
      "[Copied] data\\raw\\healthy\\CwGGsPFeFQPwRy8ba33e8SXGS132_cough-shallow.wav\n",
      "[Copied] data\\raw\\healthy\\DVdBgadmkvN8uJy0Q1kPTOBdUhu2_cough-heavy.wav\n",
      "[Copied] data\\raw\\healthy\\DVdBgadmkvN8uJy0Q1kPTOBdUhu2_cough-shallow.wav\n",
      "[Copied] data\\raw\\healthy\\2ACkagjqT6NFG3zysVS1cfoL4Ad2_cough-heavy.wav\n",
      "[Copied] data\\raw\\healthy\\2ACkagjqT6NFG3zysVS1cfoL4Ad2_cough-shallow.wav\n",
      "[Copied] data\\raw\\healthy\\1BFTsgEVsJdltjiXvECDOi35nT53_cough-heavy.wav\n",
      "[Copied] data\\raw\\healthy\\1BFTsgEVsJdltjiXvECDOi35nT53_cough-shallow.wav\n",
      "[Copied] data\\raw\\healthy\\7CiFcbXjGcMnMjOfs4Y4ejS9LaC2_cough-heavy.wav\n",
      "[Copied] data\\raw\\healthy\\7CiFcbXjGcMnMjOfs4Y4ejS9LaC2_cough-shallow.wav\n",
      "[Copied] data\\raw\\healthy\\wM9q9kHdbbUV3RfjYj7wJeXdmFd2_cough-heavy.wav\n",
      "[Copied] data\\raw\\healthy\\wM9q9kHdbbUV3RfjYj7wJeXdmFd2_cough-shallow.wav\n",
      "[Copied] data\\raw\\healthy\\vMGhws3ezYdCMfegQ6GXlLxmdGJ3_cough-heavy.wav\n",
      "[Copied] data\\raw\\healthy\\vMGhws3ezYdCMfegQ6GXlLxmdGJ3_cough-shallow.wav\n",
      "[Copied] data\\raw\\healthy\\9Rhe6RDHuMNXaGiqKVaspw71Exo1_cough-heavy.wav\n",
      "[Copied] data\\raw\\healthy\\9Rhe6RDHuMNXaGiqKVaspw71Exo1_cough-shallow.wav\n",
      "[Copied] data\\raw\\healthy\\z3HiQpxpksYG6UTo9umAL7qWB532_cough-heavy.wav\n",
      "[Copied] data\\raw\\healthy\\z3HiQpxpksYG6UTo9umAL7qWB532_cough-shallow.wav\n",
      "[Copied] data\\raw\\healthy\\Hl3DXvP5aMhh2JhHFE0K2ofITyl2_cough-heavy.wav\n",
      "[Copied] data\\raw\\healthy\\Hl3DXvP5aMhh2JhHFE0K2ofITyl2_cough-shallow.wav\n",
      "[Copied] data\\raw\\healthy\\SI6TF4Wk7XdAyxpOK4rW3usdrAm1_cough-heavy.wav\n",
      "[Copied] data\\raw\\healthy\\SI6TF4Wk7XdAyxpOK4rW3usdrAm1_cough-shallow.wav\n",
      "[Copied] data\\raw\\healthy\\hTXACBsoo2XasDWx8U9y7kzs8rc2_cough-heavy.wav\n",
      "[Copied] data\\raw\\healthy\\hTXACBsoo2XasDWx8U9y7kzs8rc2_cough-shallow.wav\n",
      "[Copied] data\\raw\\healthy\\N926xnCk8rTlXrPA1dleXFO4XMJ3_cough-heavy.wav\n",
      "[Copied] data\\raw\\healthy\\N926xnCk8rTlXrPA1dleXFO4XMJ3_cough-shallow.wav\n",
      "[Copied] data\\raw\\healthy\\weDSWB2g4cRfj2Xi6DfJ1DCouZr2_cough-heavy.wav\n",
      "[Copied] data\\raw\\healthy\\weDSWB2g4cRfj2Xi6DfJ1DCouZr2_cough-shallow.wav\n",
      "[Copied] data\\raw\\healthy\\zxRJaPEBRGX8uH4egnctWAuIuy32_cough-heavy.wav\n",
      "[Copied] data\\raw\\healthy\\zxRJaPEBRGX8uH4egnctWAuIuy32_cough-shallow.wav\n",
      "[Copied] data\\raw\\healthy\\MXVuW7mecgTkOLUIH7zETZopKkw1_cough-heavy.wav\n",
      "[Copied] data\\raw\\healthy\\MXVuW7mecgTkOLUIH7zETZopKkw1_cough-shallow.wav\n",
      "[Copied] data\\raw\\healthy\\ysvx8FCvKbPi3Z6Jkhcd6sNsnwn1_cough-heavy.wav\n",
      "[Copied] data\\raw\\healthy\\ysvx8FCvKbPi3Z6Jkhcd6sNsnwn1_cough-shallow.wav\n",
      "[Copied] data\\raw\\healthy\\1gimjLEgqBdoHReixdq8HlEBfEr2_cough-heavy.wav\n",
      "[Copied] data\\raw\\healthy\\1gimjLEgqBdoHReixdq8HlEBfEr2_cough-shallow.wav\n",
      "[Copied] data\\raw\\healthy\\TCLyqYcr88coeJe3jnikuqyjBvs1_cough-heavy.wav\n",
      "[Copied] data\\raw\\healthy\\TCLyqYcr88coeJe3jnikuqyjBvs1_cough-shallow.wav\n",
      "[Copied] data\\raw\\healthy\\9KCtOKDALHXZZpzXizYJxBQ2Ulz1_cough-heavy.wav\n",
      "[Copied] data\\raw\\healthy\\9KCtOKDALHXZZpzXizYJxBQ2Ulz1_cough-shallow.wav\n",
      "[Copied] data\\raw\\healthy\\jP5F3ypFwtN53rC9dVSUG8sMqHr2_cough-heavy.wav\n",
      "[Copied] data\\raw\\healthy\\jP5F3ypFwtN53rC9dVSUG8sMqHr2_cough-shallow.wav\n",
      "[Copied] data\\raw\\healthy\\6sZ85LTF8WdTDcMX028uCjK4UH32_cough-heavy.wav\n",
      "[Copied] data\\raw\\healthy\\6sZ85LTF8WdTDcMX028uCjK4UH32_cough-shallow.wav\n",
      "[Copied] data\\raw\\healthy\\ok6CEL3947hifXVHHmCDt35a7D32_cough-heavy.wav\n",
      "[Copied] data\\raw\\healthy\\ok6CEL3947hifXVHHmCDt35a7D32_cough-shallow.wav\n",
      "[Copied] data\\raw\\healthy\\5FcCm1G9aPbjeCwnAgd7UUQFK062_cough-heavy.wav\n",
      "[Copied] data\\raw\\healthy\\5FcCm1G9aPbjeCwnAgd7UUQFK062_cough-shallow.wav\n",
      "[Copied] data\\raw\\healthy\\MnRYYa6FN4VLwxLmTCQ05UPqmsW2_cough-heavy.wav\n",
      "[Copied] data\\raw\\healthy\\MnRYYa6FN4VLwxLmTCQ05UPqmsW2_cough-shallow.wav\n",
      "[Copied] data\\raw\\healthy\\iIAyplBPqGgFXKzvpIxFlcTgb4r2_cough-heavy.wav\n",
      "[Copied] data\\raw\\healthy\\iIAyplBPqGgFXKzvpIxFlcTgb4r2_cough-shallow.wav\n",
      "[Copied] data\\raw\\healthy\\7sW9NvDUCfWdCR5bPANiS05bqRc2_cough-heavy.wav\n",
      "[Copied] data\\raw\\healthy\\7sW9NvDUCfWdCR5bPANiS05bqRc2_cough-shallow.wav\n",
      "[Copied] data\\raw\\healthy\\vus9YM3VqCXq3QckSGoeHJs6pBN2_cough-heavy.wav\n",
      "[Copied] data\\raw\\healthy\\vus9YM3VqCXq3QckSGoeHJs6pBN2_cough-shallow.wav\n",
      "[Copied] data\\raw\\healthy\\7dibZ9sOTyYwP45P75NlmZQksjt2_cough-heavy.wav\n",
      "[Copied] data\\raw\\healthy\\7dibZ9sOTyYwP45P75NlmZQksjt2_cough-shallow.wav\n",
      "[Copied] data\\raw\\healthy\\UDEHS36gwSOkEmBhQZSlwGnijax2_cough-heavy.wav\n",
      "[Copied] data\\raw\\healthy\\UDEHS36gwSOkEmBhQZSlwGnijax2_cough-shallow.wav\n",
      "[Copied] data\\raw\\healthy\\e5zod8UiU5SDAOqqwi4utU24KMo2_cough-heavy.wav\n",
      "[Copied] data\\raw\\healthy\\e5zod8UiU5SDAOqqwi4utU24KMo2_cough-shallow.wav\n",
      "[Copied] data\\raw\\healthy\\QPUF1XfHBbZCGh4QhsgDhGLnjTi2_cough-heavy.wav\n",
      "[Copied] data\\raw\\healthy\\QPUF1XfHBbZCGh4QhsgDhGLnjTi2_cough-shallow.wav\n",
      "[Copied] data\\raw\\healthy\\WTy9ym2R87WxEwQufFkYxRZDY0C3_cough-heavy.wav\n",
      "[Copied] data\\raw\\healthy\\WTy9ym2R87WxEwQufFkYxRZDY0C3_cough-shallow.wav\n",
      "[Copied] data\\raw\\healthy\\kgO3qInKxTZQeaLHAceD3knSCZf2_cough-heavy.wav\n",
      "[Copied] data\\raw\\healthy\\kgO3qInKxTZQeaLHAceD3knSCZf2_cough-shallow.wav\n",
      "[Copied] data\\raw\\healthy\\LCa0jYXkxJZ7JUJC262jrqy0Zao2_cough-heavy.wav\n",
      "[Copied] data\\raw\\healthy\\LCa0jYXkxJZ7JUJC262jrqy0Zao2_cough-shallow.wav\n",
      "[Copied] data\\raw\\healthy\\Ouvxbo8RR6Rs4u9EMksEqxP84DW2_cough-heavy.wav\n",
      "[Copied] data\\raw\\healthy\\Ouvxbo8RR6Rs4u9EMksEqxP84DW2_cough-shallow.wav\n",
      "[Copied] data\\raw\\healthy\\SI80JBOb0XcjW0Ez4Dn4Y0Ev5mw2_cough-heavy.wav\n",
      "[Copied] data\\raw\\healthy\\SI80JBOb0XcjW0Ez4Dn4Y0Ev5mw2_cough-shallow.wav\n",
      "[Copied] data\\raw\\healthy\\aImqoeTbibTbtdXNmH4F1qc3Jr43_cough-heavy.wav\n",
      "[Copied] data\\raw\\healthy\\aImqoeTbibTbtdXNmH4F1qc3Jr43_cough-shallow.wav\n",
      "[Copied] data\\raw\\healthy\\CjVKAdiAXkdaeNfQ7O9VWBrSpLl2_cough-heavy.wav\n",
      "[Copied] data\\raw\\healthy\\CjVKAdiAXkdaeNfQ7O9VWBrSpLl2_cough-shallow.wav\n",
      "[Copied] data\\raw\\healthy\\vd5cQ5ZzjDXepHCAivkUaRFATk32_cough-heavy.wav\n",
      "[Copied] data\\raw\\healthy\\vd5cQ5ZzjDXepHCAivkUaRFATk32_cough-shallow.wav\n",
      "[Copied] data\\raw\\healthy\\wByjVbPfagQsv9nerwycE1QDQ5B3_cough-heavy.wav\n",
      "[Copied] data\\raw\\healthy\\wByjVbPfagQsv9nerwycE1QDQ5B3_cough-shallow.wav\n",
      "[Copied] data\\raw\\healthy\\3bcZt9qehyWmDKvJeohIgrEwUsL2_cough-heavy.wav\n",
      "[Copied] data\\raw\\healthy\\3bcZt9qehyWmDKvJeohIgrEwUsL2_cough-shallow.wav\n",
      "[Copied] data\\raw\\healthy\\SG95RAgm0wY3bzyIZPPSpHwyYuD3_cough-heavy.wav\n",
      "[Copied] data\\raw\\healthy\\SG95RAgm0wY3bzyIZPPSpHwyYuD3_cough-shallow.wav\n",
      "[Copied] data\\raw\\healthy\\yWcihv2x97Rzj5Z4i72YVe1FZMG2_cough-heavy.wav\n",
      "[Copied] data\\raw\\healthy\\yWcihv2x97Rzj5Z4i72YVe1FZMG2_cough-shallow.wav\n",
      "[Copied] data\\raw\\healthy\\nyQzKuJfGpRc1KD8cXFY9l6qdcv2_cough-heavy.wav\n",
      "[Copied] data\\raw\\healthy\\nyQzKuJfGpRc1KD8cXFY9l6qdcv2_cough-shallow.wav\n",
      "[Copied] data\\raw\\healthy\\90jN60jxwIMkR1qknR8Ziahvbe53_cough-heavy.wav\n",
      "[Copied] data\\raw\\healthy\\90jN60jxwIMkR1qknR8Ziahvbe53_cough-shallow.wav\n",
      "[Copied] data\\raw\\healthy\\cmb5xzMisFOW3SKYjF7C8mgLfD83_cough-heavy.wav\n",
      "[Copied] data\\raw\\healthy\\cmb5xzMisFOW3SKYjF7C8mgLfD83_cough-shallow.wav\n",
      "[Copied] data\\raw\\healthy\\ROuIITY6ZYQRx0FR202YGkTsmSD2_cough-heavy.wav\n",
      "[Copied] data\\raw\\healthy\\ROuIITY6ZYQRx0FR202YGkTsmSD2_cough-shallow.wav\n",
      "[Copied] data\\raw\\healthy\\xheyhxTtPHMng1BLZoH0b9jgDZ52_cough-heavy.wav\n",
      "[Copied] data\\raw\\healthy\\xheyhxTtPHMng1BLZoH0b9jgDZ52_cough-shallow.wav\n",
      "[Copied] data\\raw\\healthy\\3fKAFFPrGTZTay5GlkoipIjRUPL2_cough-heavy.wav\n",
      "[Copied] data\\raw\\healthy\\3fKAFFPrGTZTay5GlkoipIjRUPL2_cough-shallow.wav\n",
      "[Copied] data\\raw\\healthy\\CFkIEzwZ5PcogCElOD2K3RJQzmh1_cough-heavy.wav\n",
      "[Copied] data\\raw\\healthy\\CFkIEzwZ5PcogCElOD2K3RJQzmh1_cough-shallow.wav\n",
      "[Copied] data\\raw\\healthy\\8ZV97Hmq6VSrBRqWaiOLx44cHY33_cough-heavy.wav\n",
      "[Copied] data\\raw\\healthy\\8ZV97Hmq6VSrBRqWaiOLx44cHY33_cough-shallow.wav\n",
      "[Copied] data\\raw\\healthy\\Vq1h51z5x3Wp4wS2pCm6yEAZvu82_cough-heavy.wav\n",
      "[Copied] data\\raw\\healthy\\Vq1h51z5x3Wp4wS2pCm6yEAZvu82_cough-shallow.wav\n",
      "[Copied] data\\raw\\healthy\\OuoIQIvPBETkv1JvPOpHjGAK9UJ3_cough-heavy.wav\n",
      "[Copied] data\\raw\\healthy\\OuoIQIvPBETkv1JvPOpHjGAK9UJ3_cough-shallow.wav\n",
      "[Copied] data\\raw\\healthy\\6wvKyVH5jNcuBCjwHE7WvgbtaqI3_cough-heavy.wav\n",
      "[Copied] data\\raw\\healthy\\6wvKyVH5jNcuBCjwHE7WvgbtaqI3_cough-shallow.wav\n",
      "[Copied] data\\raw\\healthy\\xb5Zffvkf5MqrUPju4A98njfRMy1_cough-heavy.wav\n",
      "[Copied] data\\raw\\healthy\\xb5Zffvkf5MqrUPju4A98njfRMy1_cough-shallow.wav\n",
      "[Copied] data\\raw\\healthy\\I9Nm8cGaL5OB4fnmDPM8HrnULVj1_cough-heavy.wav\n",
      "[Copied] data\\raw\\healthy\\I9Nm8cGaL5OB4fnmDPM8HrnULVj1_cough-shallow.wav\n",
      "[Copied] data\\raw\\healthy\\JiWX55SWdOeOspm0SChcEMFURkJ2_cough-heavy.wav\n",
      "[Copied] data\\raw\\healthy\\JiWX55SWdOeOspm0SChcEMFURkJ2_cough-shallow.wav\n",
      "[Copied] data\\raw\\healthy\\ipBVOuYKjmSBDq7O2y5NOwH1R2I2_cough-heavy.wav\n",
      "[Copied] data\\raw\\healthy\\ipBVOuYKjmSBDq7O2y5NOwH1R2I2_cough-shallow.wav\n",
      "[Copied] data\\raw\\healthy\\hrxbMWssnVa3JHnqQ3CN8CE6QRE3_cough-heavy.wav\n",
      "[Copied] data\\raw\\healthy\\hrxbMWssnVa3JHnqQ3CN8CE6QRE3_cough-shallow.wav\n",
      "[Copied] data\\raw\\healthy\\zpjoDhhHvJcfhSHTK9i895kmr2f1_cough-heavy.wav\n",
      "[Copied] data\\raw\\healthy\\zpjoDhhHvJcfhSHTK9i895kmr2f1_cough-shallow.wav\n",
      "[Copied] data\\raw\\healthy\\HdJdEWQecehLzEQcyDV7vjr85C82_cough-heavy.wav\n",
      "[Copied] data\\raw\\healthy\\HdJdEWQecehLzEQcyDV7vjr85C82_cough-shallow.wav\n",
      "[Copied] data\\raw\\healthy\\VRTMrYKsWURrc4AH2nNRiElqTxB3_cough-heavy.wav\n",
      "[Copied] data\\raw\\healthy\\VRTMrYKsWURrc4AH2nNRiElqTxB3_cough-shallow.wav\n",
      "[Copied] data\\raw\\healthy\\AWZWqZAsydRwCkb1CSCZTjiG1YD2_cough-heavy.wav\n",
      "[Copied] data\\raw\\healthy\\AWZWqZAsydRwCkb1CSCZTjiG1YD2_cough-shallow.wav\n",
      "[Copied] data\\raw\\healthy\\3JXWfUZsCThwlwp2VuuS0LsfrXD2_cough-heavy.wav\n",
      "[Copied] data\\raw\\healthy\\3JXWfUZsCThwlwp2VuuS0LsfrXD2_cough-shallow.wav\n",
      "[Copied] data\\raw\\healthy\\Mx0Ij186LMVXmLB3xX54QCAbyhu1_cough-heavy.wav\n",
      "[Copied] data\\raw\\healthy\\Mx0Ij186LMVXmLB3xX54QCAbyhu1_cough-shallow.wav\n",
      "[Copied] data\\raw\\healthy\\8J17ZUDTdXfN5NYwjjp1ANcRqbJ2_cough-heavy.wav\n",
      "[Copied] data\\raw\\healthy\\8J17ZUDTdXfN5NYwjjp1ANcRqbJ2_cough-shallow.wav\n",
      "[Copied] data\\raw\\healthy\\9TA7dm7qVygA0rTNGmNJOlofvtP2_cough-heavy.wav\n",
      "[Copied] data\\raw\\healthy\\9TA7dm7qVygA0rTNGmNJOlofvtP2_cough-shallow.wav\n",
      "[Copied] data\\raw\\healthy\\t6twqoKKSMOJdmehEj2gbVo6Lao2_cough-heavy.wav\n",
      "[Copied] data\\raw\\healthy\\t6twqoKKSMOJdmehEj2gbVo6Lao2_cough-shallow.wav\n",
      "[Copied] data\\raw\\healthy\\k9c8ik6XlhbYFnHoXHqyDIQ5axe2_cough-heavy.wav\n",
      "[Copied] data\\raw\\healthy\\k9c8ik6XlhbYFnHoXHqyDIQ5axe2_cough-shallow.wav\n",
      "[Copied] data\\raw\\healthy\\6mCAHbyEebbEDkxHxOqihoJRkX83_cough-heavy.wav\n",
      "[Copied] data\\raw\\healthy\\6mCAHbyEebbEDkxHxOqihoJRkX83_cough-shallow.wav\n",
      "[Copied] data\\raw\\healthy\\IQSMEGOrc3XegUpIARWm07D2K2a2_cough-heavy.wav\n",
      "[Copied] data\\raw\\healthy\\IQSMEGOrc3XegUpIARWm07D2K2a2_cough-shallow.wav\n",
      "[Copied] data\\raw\\healthy\\oNVwfrIb63g5zB4jsaduCjuufPo1_cough-heavy.wav\n",
      "[Copied] data\\raw\\healthy\\oNVwfrIb63g5zB4jsaduCjuufPo1_cough-shallow.wav\n",
      "[Copied] data\\raw\\healthy\\CGGk5Y7thvXSCYhDX0e4yPN7g5R2_cough-heavy.wav\n",
      "[Copied] data\\raw\\healthy\\CGGk5Y7thvXSCYhDX0e4yPN7g5R2_cough-shallow.wav\n",
      "[Copied] data\\raw\\healthy\\v8cNN5eg09b4auxFmOqPrNiTZBu1_cough-heavy.wav\n",
      "[Copied] data\\raw\\healthy\\v8cNN5eg09b4auxFmOqPrNiTZBu1_cough-shallow.wav\n",
      "[Copied] data\\raw\\healthy\\aTSU2ShIvnMzIsWQo2OoiyLxIZl1_cough-heavy.wav\n",
      "[Copied] data\\raw\\healthy\\aTSU2ShIvnMzIsWQo2OoiyLxIZl1_cough-shallow.wav\n",
      "[Copied] data\\raw\\healthy\\FtDju4lrx4PqJCMCo9zctj7IFnV2_cough-heavy.wav\n",
      "[Copied] data\\raw\\healthy\\FtDju4lrx4PqJCMCo9zctj7IFnV2_cough-shallow.wav\n",
      "[Copied] data\\raw\\healthy\\gRD62e1wMoOWkrXS4zbWu95DXj93_cough-heavy.wav\n",
      "[Copied] data\\raw\\healthy\\gRD62e1wMoOWkrXS4zbWu95DXj93_cough-shallow.wav\n",
      "[Copied] data\\raw\\healthy\\lMENbuoFgAdokwyJxN0RiDDuiu03_cough-heavy.wav\n",
      "[Copied] data\\raw\\healthy\\lMENbuoFgAdokwyJxN0RiDDuiu03_cough-shallow.wav\n",
      "[Copied] data\\raw\\healthy\\mM5KRWXtilYLsOILvMB2WdRVVC53_cough-heavy.wav\n",
      "[Copied] data\\raw\\healthy\\mM5KRWXtilYLsOILvMB2WdRVVC53_cough-shallow.wav\n",
      "[Copied] data\\raw\\healthy\\nvtJhCfKkSheYFFpSkCxF1ZYnmr1_cough-heavy.wav\n",
      "[Copied] data\\raw\\healthy\\nvtJhCfKkSheYFFpSkCxF1ZYnmr1_cough-shallow.wav\n",
      "[Copied] data\\raw\\healthy\\WedAZ6DrnjVQSxRJY8qRajogvtD2_cough-heavy.wav\n",
      "[Copied] data\\raw\\healthy\\WedAZ6DrnjVQSxRJY8qRajogvtD2_cough-shallow.wav\n",
      "[Copied] data\\raw\\healthy\\y9eSqZBOJbUkIbg9oM0XSACsIg33_cough-heavy.wav\n",
      "[Copied] data\\raw\\healthy\\y9eSqZBOJbUkIbg9oM0XSACsIg33_cough-shallow.wav\n",
      "[Copied] data\\raw\\healthy\\M7fB5i9Pj0Xh2wrlgUYZw47wojo1_cough-heavy.wav\n",
      "[Copied] data\\raw\\healthy\\M7fB5i9Pj0Xh2wrlgUYZw47wojo1_cough-shallow.wav\n",
      "[Copied] data\\raw\\healthy\\0zAgZhOXaGhmL1SnhkzJOIoowKg2_cough-heavy.wav\n",
      "[Copied] data\\raw\\healthy\\0zAgZhOXaGhmL1SnhkzJOIoowKg2_cough-shallow.wav\n",
      "[Copied] data\\raw\\healthy\\2Kc88N5ZQKXucjghAP4Jzq0Dnej2_cough-heavy.wav\n",
      "[Copied] data\\raw\\healthy\\2Kc88N5ZQKXucjghAP4Jzq0Dnej2_cough-shallow.wav\n",
      "[Copied] data\\raw\\healthy\\6pXKrZlDycStXTNMBjGXtxxYfvc2_cough-heavy.wav\n",
      "[Copied] data\\raw\\healthy\\6pXKrZlDycStXTNMBjGXtxxYfvc2_cough-shallow.wav\n",
      "[Copied] data\\raw\\healthy\\Id2BHKfccpS2K8eOtrXRKjBAsds1_cough-heavy.wav\n",
      "[Copied] data\\raw\\healthy\\Id2BHKfccpS2K8eOtrXRKjBAsds1_cough-shallow.wav\n",
      "[Copied] data\\raw\\healthy\\XwiK6FSjg5b5RuQQFYmz67zSpYC3_cough-heavy.wav\n",
      "[Copied] data\\raw\\healthy\\XwiK6FSjg5b5RuQQFYmz67zSpYC3_cough-shallow.wav\n",
      "[Copied] data\\raw\\healthy\\BHFxu6LIoWfHOaN9fXmkO5xBXyz2_cough-heavy.wav\n",
      "[Copied] data\\raw\\healthy\\BHFxu6LIoWfHOaN9fXmkO5xBXyz2_cough-shallow.wav\n",
      "[Copied] data\\raw\\healthy\\3Vqysidm4ihlWFBQPErMAClnMbu2_cough-heavy.wav\n",
      "[Copied] data\\raw\\healthy\\3Vqysidm4ihlWFBQPErMAClnMbu2_cough-shallow.wav\n",
      "[Copied] data\\raw\\healthy\\Afi7SdxjNOetySybYTZ7RPxwFiW2_cough-heavy.wav\n",
      "[Copied] data\\raw\\healthy\\Afi7SdxjNOetySybYTZ7RPxwFiW2_cough-shallow.wav\n",
      "[Copied] data\\raw\\healthy\\bTiu7RJ0JkPVSja5Sr5YSHBulQ43_cough-heavy.wav\n",
      "[Copied] data\\raw\\healthy\\bTiu7RJ0JkPVSja5Sr5YSHBulQ43_cough-shallow.wav\n",
      "[Copied] data\\raw\\healthy\\rlklHwPKGycGalH7q9XMRnUqXxd2_cough-heavy.wav\n",
      "[Copied] data\\raw\\healthy\\rlklHwPKGycGalH7q9XMRnUqXxd2_cough-shallow.wav\n",
      "[Copied] data\\raw\\healthy\\5w8ZIMTjkXOMI78Q3sccWcvMKiI2_cough-heavy.wav\n",
      "[Copied] data\\raw\\healthy\\5w8ZIMTjkXOMI78Q3sccWcvMKiI2_cough-shallow.wav\n",
      "[Copied] data\\raw\\healthy\\LW6U5C8CENR1PsmldatYGdCBcYg1_cough-heavy.wav\n",
      "[Copied] data\\raw\\healthy\\LW6U5C8CENR1PsmldatYGdCBcYg1_cough-shallow.wav\n",
      "[Copied] data\\raw\\healthy\\RV4V6j3c5cbSb2B4pY9vlF6kbeE2_cough-heavy.wav\n",
      "[Copied] data\\raw\\healthy\\RV4V6j3c5cbSb2B4pY9vlF6kbeE2_cough-shallow.wav\n",
      "[Copied] data\\raw\\healthy\\Sy1VK1UgX0ZMcMJitgPal1sp8jj2_cough-heavy.wav\n",
      "[Copied] data\\raw\\healthy\\Sy1VK1UgX0ZMcMJitgPal1sp8jj2_cough-shallow.wav\n",
      "[Copied] data\\raw\\healthy\\4drDZUlQcteX5StlFT2CXEL0N0L2_cough-heavy.wav\n",
      "[Copied] data\\raw\\healthy\\4drDZUlQcteX5StlFT2CXEL0N0L2_cough-shallow.wav\n",
      "[Copied] data\\raw\\healthy\\qSDQMZj4iqhaRUz1SvwiUqyUzKH3_cough-heavy.wav\n",
      "[Copied] data\\raw\\healthy\\qSDQMZj4iqhaRUz1SvwiUqyUzKH3_cough-shallow.wav\n",
      "[Copied] data\\raw\\healthy\\vX3NZt9tyQUhXgS4dlz55VGEMdU2_cough-heavy.wav\n",
      "[Copied] data\\raw\\healthy\\vX3NZt9tyQUhXgS4dlz55VGEMdU2_cough-shallow.wav\n",
      "[Copied] data\\raw\\healthy\\JQyIFoDDO1fwOuEH0GaOFskQ90q1_cough-heavy.wav\n",
      "[Copied] data\\raw\\healthy\\JQyIFoDDO1fwOuEH0GaOFskQ90q1_cough-shallow.wav\n",
      "[Copied] data\\raw\\healthy\\r0PkYZFUK1M0lhIUFHziLkwjsL53_cough-heavy.wav\n",
      "[Copied] data\\raw\\healthy\\r0PkYZFUK1M0lhIUFHziLkwjsL53_cough-shallow.wav\n",
      "[Copied] data\\raw\\healthy\\eg0RP6C379PTXguMbBE6RUKY69S2_cough-heavy.wav\n",
      "[Copied] data\\raw\\healthy\\eg0RP6C379PTXguMbBE6RUKY69S2_cough-shallow.wav\n",
      "[Copied] data\\raw\\healthy\\SwW5rQwDVJRdGLNmwOm1DEjtslB2_cough-heavy.wav\n",
      "[Copied] data\\raw\\healthy\\SwW5rQwDVJRdGLNmwOm1DEjtslB2_cough-shallow.wav\n",
      "[Copied] data\\raw\\healthy\\MEw5YvFJ1GekU8biV6qQMPV2CDo2_cough-heavy.wav\n",
      "[Copied] data\\raw\\healthy\\MEw5YvFJ1GekU8biV6qQMPV2CDo2_cough-shallow.wav\n",
      "[Copied] data\\raw\\healthy\\2owO9U3KZ8TqQDrOx6UhOiA2OW43_cough-heavy.wav\n",
      "[Copied] data\\raw\\healthy\\2owO9U3KZ8TqQDrOx6UhOiA2OW43_cough-shallow.wav\n",
      "[Copied] data\\raw\\healthy\\0Nuh8uDalHe47HGM31i2Ew6BPcl1_cough-heavy.wav\n",
      "[Copied] data\\raw\\healthy\\0Nuh8uDalHe47HGM31i2Ew6BPcl1_cough-shallow.wav\n",
      "[Copied] data\\raw\\healthy\\yiVfb7qpTOXWhTQITq6P4zqGtXt2_cough-heavy.wav\n",
      "[Copied] data\\raw\\healthy\\yiVfb7qpTOXWhTQITq6P4zqGtXt2_cough-shallow.wav\n",
      "[Copied] data\\raw\\healthy\\v9zvxaIjcfds4XGZvqBK0moPX8a2_cough-heavy.wav\n",
      "[Copied] data\\raw\\healthy\\v9zvxaIjcfds4XGZvqBK0moPX8a2_cough-shallow.wav\n",
      "[Copied] data\\raw\\healthy\\EXTWYCHCzyc8k6PE2L7fAqqAudA2_cough-heavy.wav\n",
      "[Copied] data\\raw\\healthy\\EXTWYCHCzyc8k6PE2L7fAqqAudA2_cough-shallow.wav\n",
      "[Copied] data\\raw\\healthy\\UEJ4NxXtJzPJ5U4DPWg188b9dff2_cough-heavy.wav\n",
      "[Copied] data\\raw\\healthy\\UEJ4NxXtJzPJ5U4DPWg188b9dff2_cough-shallow.wav\n",
      "[Copied] data\\raw\\healthy\\NxqOq1i4PtUiqBxV1wFUII9SQj43_cough-heavy.wav\n",
      "[Copied] data\\raw\\healthy\\NxqOq1i4PtUiqBxV1wFUII9SQj43_cough-shallow.wav\n",
      "[Copied] data\\raw\\healthy\\fLbjQYqFGzeKly7IY7b3JqKvae02_cough-heavy.wav\n",
      "[Copied] data\\raw\\healthy\\fLbjQYqFGzeKly7IY7b3JqKvae02_cough-shallow.wav\n",
      "[Copied] data\\raw\\healthy\\FCo8orfgs5ZKKQV4T436XCoycht2_cough-heavy.wav\n",
      "[Copied] data\\raw\\healthy\\FCo8orfgs5ZKKQV4T436XCoycht2_cough-shallow.wav\n",
      "[Copied] data\\raw\\healthy\\zo7vWVJHp5W8ojnfNUogikQTu2K2_cough-heavy.wav\n",
      "[Copied] data\\raw\\healthy\\zo7vWVJHp5W8ojnfNUogikQTu2K2_cough-shallow.wav\n",
      "[Copied] data\\raw\\healthy\\c18b81Qa5YY2RbEzblDNxMNQE312_cough-heavy.wav\n",
      "[Copied] data\\raw\\healthy\\c18b81Qa5YY2RbEzblDNxMNQE312_cough-shallow.wav\n",
      "[Copied] data\\raw\\healthy\\sFzDrYGKbIchB5f15VDxz4iqKow1_cough-heavy.wav\n",
      "[Copied] data\\raw\\healthy\\sFzDrYGKbIchB5f15VDxz4iqKow1_cough-shallow.wav\n",
      "[Copied] data\\raw\\healthy\\hW4d85xBzrf1VE9gotLdeSgwXAo2_cough-heavy.wav\n",
      "[Copied] data\\raw\\healthy\\hW4d85xBzrf1VE9gotLdeSgwXAo2_cough-shallow.wav\n",
      "[Copied] data\\raw\\healthy\\qZIdh9mBr0MSVKd4TuYHazCdVm22_cough-heavy.wav\n",
      "[Copied] data\\raw\\healthy\\qZIdh9mBr0MSVKd4TuYHazCdVm22_cough-shallow.wav\n",
      "[Copied] data\\raw\\healthy\\l6n5YnEHttTxhcwv6q69TcLSpSK2_cough-heavy.wav\n",
      "[Copied] data\\raw\\healthy\\l6n5YnEHttTxhcwv6q69TcLSpSK2_cough-shallow.wav\n",
      "[Copied] data\\raw\\healthy\\YrJHnx1PgzPLiCgkSLaQqMhyBeA2_cough-heavy.wav\n",
      "[Copied] data\\raw\\healthy\\YrJHnx1PgzPLiCgkSLaQqMhyBeA2_cough-shallow.wav\n",
      "[Copied] data\\raw\\healthy\\D8gFH60PUrfFJEG2wXhvPCeTRCq1_cough-heavy.wav\n",
      "[Copied] data\\raw\\healthy\\D8gFH60PUrfFJEG2wXhvPCeTRCq1_cough-shallow.wav\n",
      "[Copied] data\\raw\\healthy\\yOgmlp4SsRfgN3OIWhxsQC4QdaC3_cough-heavy.wav\n",
      "[Copied] data\\raw\\healthy\\yOgmlp4SsRfgN3OIWhxsQC4QdaC3_cough-shallow.wav\n",
      "[Copied] data\\raw\\healthy\\KFtd9lY6jph5cl2VrZ9Nv8Jng7p1_cough-heavy.wav\n",
      "[Copied] data\\raw\\healthy\\KFtd9lY6jph5cl2VrZ9Nv8Jng7p1_cough-shallow.wav\n",
      "[Copied] data\\raw\\healthy\\0mkAUAbpROMIFjKpdFxlUnYTV262_cough-heavy.wav\n",
      "[Copied] data\\raw\\healthy\\0mkAUAbpROMIFjKpdFxlUnYTV262_cough-shallow.wav\n",
      "[Copied] data\\raw\\healthy\\blOvr1s2qrWsvkjA3QskHrSK9dp2_cough-heavy.wav\n",
      "[Copied] data\\raw\\healthy\\blOvr1s2qrWsvkjA3QskHrSK9dp2_cough-shallow.wav\n",
      "[Copied] data\\raw\\healthy\\B8eucE77s9Tg8wfQCZIv9JCTDrj2_cough-heavy.wav\n",
      "[Copied] data\\raw\\healthy\\B8eucE77s9Tg8wfQCZIv9JCTDrj2_cough-shallow.wav\n",
      "[Copied] data\\raw\\healthy\\PXFeh2WexbZ9HXhXg6tToFfY3PM2_cough-heavy.wav\n",
      "[Copied] data\\raw\\healthy\\PXFeh2WexbZ9HXhXg6tToFfY3PM2_cough-shallow.wav\n",
      "[Copied] data\\raw\\healthy\\RebRt0aSpjOeqnezG7i5XQn03Ql2_cough-heavy.wav\n",
      "[Copied] data\\raw\\healthy\\RebRt0aSpjOeqnezG7i5XQn03Ql2_cough-shallow.wav\n",
      "[Copied] data\\raw\\healthy\\JhH2YMg1TpWG7RqVv3jOTXFmJZt2_cough-heavy.wav\n",
      "[Copied] data\\raw\\healthy\\JhH2YMg1TpWG7RqVv3jOTXFmJZt2_cough-shallow.wav\n",
      "[Copied] data\\raw\\healthy\\9Q440YDVTrfSgiD2l41INZ0IHYm1_cough-heavy.wav\n",
      "[Copied] data\\raw\\healthy\\9Q440YDVTrfSgiD2l41INZ0IHYm1_cough-shallow.wav\n",
      "[Copied] data\\raw\\healthy\\qSsnWdo1MtOiGJJmH3oOXcz90Ry1_cough-heavy.wav\n",
      "[Copied] data\\raw\\healthy\\qSsnWdo1MtOiGJJmH3oOXcz90Ry1_cough-shallow.wav\n",
      "[Copied] data\\raw\\healthy\\EZzVAG1b5ef8VopTkIROvVbYGml1_cough-heavy.wav\n",
      "[Copied] data\\raw\\healthy\\EZzVAG1b5ef8VopTkIROvVbYGml1_cough-shallow.wav\n",
      "[Copied] data\\raw\\healthy\\hLXcyDliDYXrcKna9jaDwtryhK93_cough-heavy.wav\n",
      "[Copied] data\\raw\\healthy\\hLXcyDliDYXrcKna9jaDwtryhK93_cough-shallow.wav\n",
      "[Copied] data\\raw\\healthy\\16Bj2AtAiXhPGR3r4ZRjgcWTmGe2_cough-heavy.wav\n",
      "[Copied] data\\raw\\healthy\\16Bj2AtAiXhPGR3r4ZRjgcWTmGe2_cough-shallow.wav\n",
      "[Copied] data\\raw\\healthy\\Zj552DZntDTpdVbrQhp7KNVL9sC3_cough-heavy.wav\n",
      "[Copied] data\\raw\\healthy\\Zj552DZntDTpdVbrQhp7KNVL9sC3_cough-shallow.wav\n",
      "[Copied] data\\raw\\healthy\\f78ZFmqneaOWttg3xhtcmO4XZOu2_cough-heavy.wav\n",
      "[Copied] data\\raw\\healthy\\f78ZFmqneaOWttg3xhtcmO4XZOu2_cough-shallow.wav\n",
      "[Copied] data\\raw\\healthy\\EkvdE7B9zuaZEHjb80RflGGqsgz1_cough-heavy.wav\n",
      "[Copied] data\\raw\\healthy\\EkvdE7B9zuaZEHjb80RflGGqsgz1_cough-shallow.wav\n",
      "[Copied] data\\raw\\healthy\\NcPBzMBBxNbjK84kdCv2z4IJzLC3_cough-heavy.wav\n",
      "[Copied] data\\raw\\healthy\\NcPBzMBBxNbjK84kdCv2z4IJzLC3_cough-shallow.wav\n",
      "[Copied] data\\raw\\healthy\\bKFvmp9gCwagsEuSIYBWDkiaZ2i2_cough-heavy.wav\n",
      "[Copied] data\\raw\\healthy\\bKFvmp9gCwagsEuSIYBWDkiaZ2i2_cough-shallow.wav\n",
      "[Copied] data\\raw\\healthy\\rkSbQvxYLNVlPpIT3mJ4kr3OhMi1_cough-heavy.wav\n",
      "[Copied] data\\raw\\healthy\\rkSbQvxYLNVlPpIT3mJ4kr3OhMi1_cough-shallow.wav\n",
      "[Copied] data\\raw\\healthy\\LElWV2QtC5fwpqpIdAFEmaLX3Aw1_cough-heavy.wav\n",
      "[Copied] data\\raw\\healthy\\LElWV2QtC5fwpqpIdAFEmaLX3Aw1_cough-shallow.wav\n",
      "[Copied] data\\raw\\healthy\\XWseLAgCciNYqDmCI43OF2hZ56x2_cough-heavy.wav\n",
      "[Copied] data\\raw\\healthy\\XWseLAgCciNYqDmCI43OF2hZ56x2_cough-shallow.wav\n",
      "[Copied] data\\raw\\healthy\\SOYq0vyRpWUxeRZyAeobsEfuXy83_cough-heavy.wav\n",
      "[Copied] data\\raw\\healthy\\SOYq0vyRpWUxeRZyAeobsEfuXy83_cough-shallow.wav\n",
      "[Copied] data\\raw\\healthy\\0bcMNFt3dlPlUPTyCO8DVAlbTUC3_cough-heavy.wav\n",
      "[Copied] data\\raw\\healthy\\0bcMNFt3dlPlUPTyCO8DVAlbTUC3_cough-shallow.wav\n",
      "[Copied] data\\raw\\healthy\\oabgqJNwZpUwhlXxXG67cTLlLv42_cough-heavy.wav\n",
      "[Copied] data\\raw\\healthy\\oabgqJNwZpUwhlXxXG67cTLlLv42_cough-shallow.wav\n",
      "[Copied] data\\raw\\healthy\\yT2MdQkNRvMvI418P1AQ2SystgE3_cough-heavy.wav\n",
      "[Copied] data\\raw\\healthy\\yT2MdQkNRvMvI418P1AQ2SystgE3_cough-shallow.wav\n",
      "[Copied] data\\raw\\healthy\\IYNMqzUgqfdUnKv5uRtM4BOnOBq2_cough-heavy.wav\n",
      "[Copied] data\\raw\\healthy\\IYNMqzUgqfdUnKv5uRtM4BOnOBq2_cough-shallow.wav\n",
      "[Copied] data\\raw\\healthy\\OPgL5r9gSiOhpOtFGVK8e0kN4o73_cough-heavy.wav\n",
      "[Copied] data\\raw\\healthy\\OPgL5r9gSiOhpOtFGVK8e0kN4o73_cough-shallow.wav\n",
      "[Copied] data\\raw\\healthy\\sCIEJBR6IqPCVT23smYLECEv9qE3_cough-heavy.wav\n",
      "[Copied] data\\raw\\healthy\\sCIEJBR6IqPCVT23smYLECEv9qE3_cough-shallow.wav\n",
      "[Copied] data\\raw\\healthy\\iwhEG3FaU2MHsAPbfTtG1f5B4EH3_cough-heavy.wav\n",
      "[Copied] data\\raw\\healthy\\iwhEG3FaU2MHsAPbfTtG1f5B4EH3_cough-shallow.wav\n",
      "[Copied] data\\raw\\healthy\\kkQosHE5ayf0dWYbVFhLMElqTem1_cough-heavy.wav\n",
      "[Copied] data\\raw\\healthy\\kkQosHE5ayf0dWYbVFhLMElqTem1_cough-shallow.wav\n",
      "[Copied] data\\raw\\healthy\\aZxVRpoNSBebXHqCkT6EwLagTvb2_cough-heavy.wav\n",
      "[Copied] data\\raw\\healthy\\aZxVRpoNSBebXHqCkT6EwLagTvb2_cough-shallow.wav\n",
      "[Copied] data\\raw\\healthy\\A7tcR4TNNfYhbtnLDTckg6yUVho1_cough-heavy.wav\n",
      "[Copied] data\\raw\\healthy\\A7tcR4TNNfYhbtnLDTckg6yUVho1_cough-shallow.wav\n",
      "[Copied] data\\raw\\healthy\\8rOnZOCPtDZeJwWSQ9ZTH4pnD9l1_cough-heavy.wav\n",
      "[Copied] data\\raw\\healthy\\8rOnZOCPtDZeJwWSQ9ZTH4pnD9l1_cough-shallow.wav\n",
      "[Copied] data\\raw\\healthy\\FabhqSqtVOSswlym1jLjDOsiqHC2_cough-heavy.wav\n",
      "[Copied] data\\raw\\healthy\\FabhqSqtVOSswlym1jLjDOsiqHC2_cough-shallow.wav\n",
      "[Copied] data\\raw\\healthy\\4pzyamXuTgfmgVGi39RXWSfNb213_cough-heavy.wav\n",
      "[Copied] data\\raw\\healthy\\4pzyamXuTgfmgVGi39RXWSfNb213_cough-shallow.wav\n",
      "[Copied] data\\raw\\healthy\\4w3GC0eRNVXJ4q4vRLphW9RIiQY2_cough-heavy.wav\n",
      "[Copied] data\\raw\\healthy\\4w3GC0eRNVXJ4q4vRLphW9RIiQY2_cough-shallow.wav\n",
      "[Copied] data\\raw\\healthy\\7TCSKiPfz5g0WKicjrKDC0BGURI2_cough-heavy.wav\n",
      "[Copied] data\\raw\\healthy\\7TCSKiPfz5g0WKicjrKDC0BGURI2_cough-shallow.wav\n",
      "[Copied] data\\raw\\healthy\\Rf8ndrjS3JYjFU8F9TU5879SXRu1_cough-heavy.wav\n",
      "[Copied] data\\raw\\healthy\\Rf8ndrjS3JYjFU8F9TU5879SXRu1_cough-shallow.wav\n",
      "[Copied] data\\raw\\healthy\\n1A8G19t3IR9wCUhfv5sZFF9pvI2_cough-heavy.wav\n",
      "[Copied] data\\raw\\healthy\\n1A8G19t3IR9wCUhfv5sZFF9pvI2_cough-shallow.wav\n",
      "[Copied] data\\raw\\healthy\\CbcXlISWX6QO53j2LN51KavaaBz2_cough-heavy.wav\n",
      "[Copied] data\\raw\\healthy\\CbcXlISWX6QO53j2LN51KavaaBz2_cough-shallow.wav\n",
      "[Copied] data\\raw\\healthy\\hCGWjxLPdKhkAOQkOWtF9fJzQWA2_cough-heavy.wav\n",
      "[Copied] data\\raw\\healthy\\hCGWjxLPdKhkAOQkOWtF9fJzQWA2_cough-shallow.wav\n",
      "[Copied] data\\raw\\healthy\\MSqyNEX5gYfLNib5Lim9IyDnNVu2_cough-heavy.wav\n",
      "[Copied] data\\raw\\healthy\\MSqyNEX5gYfLNib5Lim9IyDnNVu2_cough-shallow.wav\n",
      "[Copied] data\\raw\\healthy\\kITWulcVb7cnGpGxSo0bKUE7MAs2_cough-heavy.wav\n",
      "[Copied] data\\raw\\healthy\\kITWulcVb7cnGpGxSo0bKUE7MAs2_cough-shallow.wav\n",
      "[Copied] data\\raw\\healthy\\2zAfpSxYt0O6Bl7qwUhicdCoyY42_cough-heavy.wav\n",
      "[Copied] data\\raw\\healthy\\2zAfpSxYt0O6Bl7qwUhicdCoyY42_cough-shallow.wav\n",
      "[Copied] data\\raw\\healthy\\esVDCnpv7ChUwuJMmzxAItbB3km1_cough-heavy.wav\n",
      "[Copied] data\\raw\\healthy\\esVDCnpv7ChUwuJMmzxAItbB3km1_cough-shallow.wav\n",
      "[Copied] data\\raw\\healthy\\Zb2Inq1UVhcMnWA41GpKyRdF4z62_cough-heavy.wav\n",
      "[Copied] data\\raw\\healthy\\Zb2Inq1UVhcMnWA41GpKyRdF4z62_cough-shallow.wav\n",
      "[Copied] data\\raw\\healthy\\BNbiq1U3xWVT44hg7Bl0f8SWjbt2_cough-heavy.wav\n",
      "[Copied] data\\raw\\healthy\\BNbiq1U3xWVT44hg7Bl0f8SWjbt2_cough-shallow.wav\n",
      "[Copied] data\\raw\\healthy\\cenBFTi9bYhzTeEIyN8YuQzFb3R2_cough-heavy.wav\n",
      "[Copied] data\\raw\\healthy\\cenBFTi9bYhzTeEIyN8YuQzFb3R2_cough-shallow.wav\n",
      "[Copied] data\\raw\\healthy\\EucWZQ2KbbQ74NhWqnrUEuS7pU53_cough-heavy.wav\n",
      "[Copied] data\\raw\\healthy\\EucWZQ2KbbQ74NhWqnrUEuS7pU53_cough-shallow.wav\n",
      "[Copied] data\\raw\\healthy\\cUmQfhZCLYML6b9ETc7qJAKXv1G3_cough-heavy.wav\n",
      "[Copied] data\\raw\\healthy\\cUmQfhZCLYML6b9ETc7qJAKXv1G3_cough-shallow.wav\n",
      "[Copied] data\\raw\\healthy\\5AL2X1GP3aVAAMeMPnvxOCNAQlA2_cough-heavy.wav\n",
      "[Copied] data\\raw\\healthy\\5AL2X1GP3aVAAMeMPnvxOCNAQlA2_cough-shallow.wav\n",
      "[Copied] data\\raw\\healthy\\zDGjm6ARbgVsIDCGpaHyHrArImr2_cough-heavy.wav\n",
      "[Copied] data\\raw\\healthy\\zDGjm6ARbgVsIDCGpaHyHrArImr2_cough-shallow.wav\n",
      "[Copied] data\\raw\\healthy\\QLfHliTV2YMbuC5y06vcclyWdEF2_cough-heavy.wav\n",
      "[Copied] data\\raw\\healthy\\QLfHliTV2YMbuC5y06vcclyWdEF2_cough-shallow.wav\n",
      "[Copied] data\\raw\\healthy\\PNSX8UstjlY1mxA69mrklK5N2i32_cough-heavy.wav\n",
      "[Copied] data\\raw\\healthy\\PNSX8UstjlY1mxA69mrklK5N2i32_cough-shallow.wav\n",
      "[Copied] data\\raw\\healthy\\ecy0t93dh8TS3yPI4YJZDSuDFAi2_cough-heavy.wav\n",
      "[Copied] data\\raw\\healthy\\ecy0t93dh8TS3yPI4YJZDSuDFAi2_cough-shallow.wav\n",
      "[Copied] data\\raw\\healthy\\Z6qimRi4c2NDdPHsocMRk9IlgdH2_cough-heavy.wav\n",
      "[Copied] data\\raw\\healthy\\Z6qimRi4c2NDdPHsocMRk9IlgdH2_cough-shallow.wav\n",
      "[Copied] data\\raw\\healthy\\P1FePApIBQedglthtDiBvs3G84M2_cough-heavy.wav\n",
      "[Copied] data\\raw\\healthy\\P1FePApIBQedglthtDiBvs3G84M2_cough-shallow.wav\n",
      "[Copied] data\\raw\\healthy\\ResMUOUcy2MrsL3bksITWifqla52_cough-heavy.wav\n",
      "[Copied] data\\raw\\healthy\\ResMUOUcy2MrsL3bksITWifqla52_cough-shallow.wav\n",
      "[Copied] data\\raw\\healthy\\VtRlegQfrDTPW4WxmoW3iJPzedQ2_cough-heavy.wav\n",
      "[Copied] data\\raw\\healthy\\VtRlegQfrDTPW4WxmoW3iJPzedQ2_cough-shallow.wav\n",
      "[Copied] data\\raw\\healthy\\YvhPqG9MqhbjHErOmOctaNdVdJZ2_cough-heavy.wav\n",
      "[Copied] data\\raw\\healthy\\YvhPqG9MqhbjHErOmOctaNdVdJZ2_cough-shallow.wav\n",
      "[Copied] data\\raw\\healthy\\9qFHoE68V7RDn79M2QtChoCpiGo2_cough-heavy.wav\n",
      "[Copied] data\\raw\\healthy\\9qFHoE68V7RDn79M2QtChoCpiGo2_cough-shallow.wav\n",
      "[Copied] data\\raw\\healthy\\38kz9bimrcUUgifY8S27MVR89eN2_cough-heavy.wav\n",
      "[Copied] data\\raw\\healthy\\38kz9bimrcUUgifY8S27MVR89eN2_cough-shallow.wav\n",
      "[Copied] data\\raw\\healthy\\1xhe0J87pIMJlB7TdQDwUTpHMKr1_cough-heavy.wav\n",
      "[Copied] data\\raw\\healthy\\1xhe0J87pIMJlB7TdQDwUTpHMKr1_cough-shallow.wav\n",
      "[Copied] data\\raw\\healthy\\AaGldp1blyVKOPpV1KVhsPhrmAg1_cough-heavy.wav\n",
      "[Copied] data\\raw\\healthy\\AaGldp1blyVKOPpV1KVhsPhrmAg1_cough-shallow.wav\n",
      "[Copied] data\\raw\\healthy\\IwdtdPMreWTA8nzpEkgfkGWZTTm1_cough-heavy.wav\n",
      "[Copied] data\\raw\\healthy\\IwdtdPMreWTA8nzpEkgfkGWZTTm1_cough-shallow.wav\n",
      "[Copied] data\\raw\\healthy\\byVsWVHvkgc9Pkf4lUPOGSdZ0Vl2_cough-heavy.wav\n",
      "[Copied] data\\raw\\healthy\\byVsWVHvkgc9Pkf4lUPOGSdZ0Vl2_cough-shallow.wav\n",
      "[Copied] data\\raw\\healthy\\0kQAWAGJHffg9kZhji65QkUaEvx1_cough-heavy.wav\n",
      "[Copied] data\\raw\\healthy\\0kQAWAGJHffg9kZhji65QkUaEvx1_cough-shallow.wav\n",
      "[Copied] data\\raw\\healthy\\yTBcpP8fONc1QpKYqlaQDyo5DYy2_cough-heavy.wav\n",
      "[Copied] data\\raw\\healthy\\yTBcpP8fONc1QpKYqlaQDyo5DYy2_cough-shallow.wav\n",
      "[Copied] data\\raw\\healthy\\6Or8DONUwObeo4MH2Sbtx7JTVNU2_cough-heavy.wav\n",
      "[Copied] data\\raw\\healthy\\6Or8DONUwObeo4MH2Sbtx7JTVNU2_cough-shallow.wav\n",
      "[Copied] data\\raw\\healthy\\zw0pYfsZxDShQGV2HTuont8wU8V2_cough-heavy.wav\n",
      "[Copied] data\\raw\\healthy\\zw0pYfsZxDShQGV2HTuont8wU8V2_cough-shallow.wav\n",
      "[Copied] data\\raw\\healthy\\r3sBhLDneedRBXKLvZU0PL2Q4R82_cough-heavy.wav\n",
      "[Copied] data\\raw\\healthy\\r3sBhLDneedRBXKLvZU0PL2Q4R82_cough-shallow.wav\n",
      "[Copied] data\\raw\\healthy\\ePaI9geAOLYTcCjN0bI0vvbHAyR2_cough-heavy.wav\n",
      "[Copied] data\\raw\\healthy\\ePaI9geAOLYTcCjN0bI0vvbHAyR2_cough-shallow.wav\n",
      "[Copied] data\\raw\\healthy\\fNZ3MnqiGRQlpOptmB2S09fDdYi1_cough-heavy.wav\n",
      "[Copied] data\\raw\\healthy\\fNZ3MnqiGRQlpOptmB2S09fDdYi1_cough-shallow.wav\n",
      "[Copied] data\\raw\\healthy\\IDotbUiFVpel1SpaktjKZftIVYx2_cough-heavy.wav\n",
      "[Copied] data\\raw\\healthy\\IDotbUiFVpel1SpaktjKZftIVYx2_cough-shallow.wav\n",
      "[Copied] data\\raw\\healthy\\zVkoMlwOqwXzjsgyGs99OoU10J92_cough-heavy.wav\n",
      "[Copied] data\\raw\\healthy\\zVkoMlwOqwXzjsgyGs99OoU10J92_cough-shallow.wav\n",
      "[Copied] data\\raw\\healthy\\pvLLeiltxePL7csr2rkLJ8fD0gc2_cough-heavy.wav\n",
      "[Copied] data\\raw\\healthy\\pvLLeiltxePL7csr2rkLJ8fD0gc2_cough-shallow.wav\n",
      "[Copied] data\\raw\\healthy\\kgjTguvo3vZJTO7F1qO9GxEicbA3_cough-heavy.wav\n",
      "[Copied] data\\raw\\healthy\\kgjTguvo3vZJTO7F1qO9GxEicbA3_cough-shallow.wav\n",
      "[Copied] data\\raw\\healthy\\AAFe8wVTf8Op4UTlq1QJmCyBdK33_cough-heavy.wav\n",
      "[Copied] data\\raw\\healthy\\AAFe8wVTf8Op4UTlq1QJmCyBdK33_cough-shallow.wav\n",
      "[Copied] data\\raw\\healthy\\O4l1a5TWsdgLlW9cECz5PnWX6UP2_cough-heavy.wav\n",
      "[Copied] data\\raw\\healthy\\O4l1a5TWsdgLlW9cECz5PnWX6UP2_cough-shallow.wav\n",
      "[Copied] data\\raw\\healthy\\DycfRd7vyobY2PgwT3rQOemSbP53_cough-heavy.wav\n",
      "[Copied] data\\raw\\healthy\\DycfRd7vyobY2PgwT3rQOemSbP53_cough-shallow.wav\n",
      "[Copied] data\\raw\\healthy\\LtqbA3mrmKN4wsTG0sEoPl6fAfB2_cough-heavy.wav\n",
      "[Copied] data\\raw\\healthy\\LtqbA3mrmKN4wsTG0sEoPl6fAfB2_cough-shallow.wav\n",
      "[Copied] data\\raw\\healthy\\Ts5Rbl9h9pWKqCQPJwoTduGvjMm2_cough-heavy.wav\n",
      "[Copied] data\\raw\\healthy\\Ts5Rbl9h9pWKqCQPJwoTduGvjMm2_cough-shallow.wav\n",
      "[Copied] data\\raw\\healthy\\76N4aFIJXScxI1iHeSsihGmRKnv1_cough-heavy.wav\n",
      "[Copied] data\\raw\\healthy\\76N4aFIJXScxI1iHeSsihGmRKnv1_cough-shallow.wav\n",
      "[Copied] data\\raw\\healthy\\CEn02KlCBsUgUqUmf5BfUgaITG33_cough-heavy.wav\n",
      "[Copied] data\\raw\\healthy\\CEn02KlCBsUgUqUmf5BfUgaITG33_cough-shallow.wav\n",
      "[Copied] data\\raw\\healthy\\ZfgCPP4WpOP78cBnZ39az9sb0F82_cough-heavy.wav\n",
      "[Copied] data\\raw\\healthy\\ZfgCPP4WpOP78cBnZ39az9sb0F82_cough-shallow.wav\n",
      "[Copied] data\\raw\\healthy\\JJAEXqn68kVaaOsFjX7n5Qehaws1_cough-heavy.wav\n",
      "[Copied] data\\raw\\healthy\\JJAEXqn68kVaaOsFjX7n5Qehaws1_cough-shallow.wav\n",
      "[Copied] data\\raw\\healthy\\JUVJnOVJKKcdzppK3hkci4TO4ij1_cough-heavy.wav\n",
      "[Copied] data\\raw\\healthy\\JUVJnOVJKKcdzppK3hkci4TO4ij1_cough-shallow.wav\n",
      "[Copied] data\\raw\\healthy\\foENi3P7alPC0yTEcDMIJEPFm4E2_cough-heavy.wav\n",
      "[Copied] data\\raw\\healthy\\foENi3P7alPC0yTEcDMIJEPFm4E2_cough-shallow.wav\n",
      "[Copied] data\\raw\\healthy\\6tVIf27diWR1deIqd3HGXxR6tlC3_cough-heavy.wav\n",
      "[Copied] data\\raw\\healthy\\6tVIf27diWR1deIqd3HGXxR6tlC3_cough-shallow.wav\n",
      "[Copied] data\\raw\\healthy\\Ww58ucOI9ofTXq34sGGDQmx7Qwk1_cough-heavy.wav\n",
      "[Copied] data\\raw\\healthy\\Ww58ucOI9ofTXq34sGGDQmx7Qwk1_cough-shallow.wav\n",
      "[Copied] data\\raw\\healthy\\466aPruIIbOEG3V1IaKzu5O8kun2_cough-heavy.wav\n",
      "[Copied] data\\raw\\healthy\\466aPruIIbOEG3V1IaKzu5O8kun2_cough-shallow.wav\n",
      "[Copied] data\\raw\\healthy\\mvUyFeIK2CSh8vtYDviTKeSQuZ62_cough-heavy.wav\n",
      "[Copied] data\\raw\\healthy\\mvUyFeIK2CSh8vtYDviTKeSQuZ62_cough-shallow.wav\n",
      "[Copied] data\\raw\\healthy\\yWWeEGFFbQV2s7QqXUQjSrdp6573_cough-heavy.wav\n",
      "[Copied] data\\raw\\healthy\\yWWeEGFFbQV2s7QqXUQjSrdp6573_cough-shallow.wav\n",
      "[Copied] data\\raw\\healthy\\Zs7tQ487P7hws3ur1TG53aiF0eC2_cough-heavy.wav\n",
      "[Copied] data\\raw\\healthy\\Zs7tQ487P7hws3ur1TG53aiF0eC2_cough-shallow.wav\n",
      "[Copied] data\\raw\\healthy\\eqtebymPdFfBCm8B85n5oSR7Gja2_cough-heavy.wav\n",
      "[Copied] data\\raw\\healthy\\eqtebymPdFfBCm8B85n5oSR7Gja2_cough-shallow.wav\n",
      "[Copied] data\\raw\\healthy\\symIMnhx0SXZB11UPJXEWP4pTbO2_cough-heavy.wav\n",
      "[Copied] data\\raw\\healthy\\symIMnhx0SXZB11UPJXEWP4pTbO2_cough-shallow.wav\n",
      "[Copied] data\\raw\\healthy\\a86P7j0ZQccywZYCvzsunFdDRaV2_cough-heavy.wav\n",
      "[Copied] data\\raw\\healthy\\a86P7j0ZQccywZYCvzsunFdDRaV2_cough-shallow.wav\n",
      "[Copied] data\\raw\\healthy\\gXkNMIy5J4VwXV2ZxAAObvb7S3Q2_cough-heavy.wav\n",
      "[Copied] data\\raw\\healthy\\gXkNMIy5J4VwXV2ZxAAObvb7S3Q2_cough-shallow.wav\n",
      "[Copied] data\\raw\\healthy\\4U5fWjzYiROaFxurdK2BCMt2IIg2_cough-heavy.wav\n",
      "[Copied] data\\raw\\healthy\\4U5fWjzYiROaFxurdK2BCMt2IIg2_cough-shallow.wav\n",
      "[Copied] data\\raw\\healthy\\ekXeaNBZYgZvh7mpGGwDQR4Jlwv2_cough-heavy.wav\n",
      "[Copied] data\\raw\\healthy\\ekXeaNBZYgZvh7mpGGwDQR4Jlwv2_cough-shallow.wav\n",
      "[Copied] data\\raw\\healthy\\Lz3Pu5AOFbQLTA8cIqRAmjPy8qw1_cough-heavy.wav\n",
      "[Copied] data\\raw\\healthy\\Lz3Pu5AOFbQLTA8cIqRAmjPy8qw1_cough-shallow.wav\n",
      "[Copied] data\\raw\\healthy\\r5SHRp49MiOtkuPzoLHbDiVphkB3_cough-heavy.wav\n",
      "[Copied] data\\raw\\healthy\\r5SHRp49MiOtkuPzoLHbDiVphkB3_cough-shallow.wav\n",
      "[Copied] data\\raw\\healthy\\c0qg1BdEVyNXI9Uq7fxJtBjy8dq2_cough-heavy.wav\n",
      "[Copied] data\\raw\\healthy\\c0qg1BdEVyNXI9Uq7fxJtBjy8dq2_cough-shallow.wav\n",
      "[Copied] data\\raw\\healthy\\5P3EfdsLvKSOquCjSeutXLqqJKL2_cough-heavy.wav\n",
      "[Copied] data\\raw\\healthy\\5P3EfdsLvKSOquCjSeutXLqqJKL2_cough-shallow.wav\n",
      "[Copied] data\\raw\\healthy\\AQTaxycYpIWSoPUFSEUiFlqgenu2_cough-heavy.wav\n",
      "[Copied] data\\raw\\healthy\\AQTaxycYpIWSoPUFSEUiFlqgenu2_cough-shallow.wav\n",
      "[Copied] data\\raw\\healthy\\D31ydMgq8wMpO9OOGwxpMfOp9qg1_cough-heavy.wav\n",
      "[Copied] data\\raw\\healthy\\D31ydMgq8wMpO9OOGwxpMfOp9qg1_cough-shallow.wav\n",
      "[Copied] data\\raw\\healthy\\3FD9salx6KQf114qJSSvW74Ffi63_cough-heavy.wav\n",
      "[Copied] data\\raw\\healthy\\3FD9salx6KQf114qJSSvW74Ffi63_cough-shallow.wav\n",
      "[Copied] data\\raw\\healthy\\9rRdrR81MVgC0ITeAwOYyqj8ju43_cough-heavy.wav\n",
      "[Copied] data\\raw\\healthy\\9rRdrR81MVgC0ITeAwOYyqj8ju43_cough-shallow.wav\n",
      "[Copied] data\\raw\\healthy\\dk845iIpzubUAv2YuoWHaWTLRAv2_cough-heavy.wav\n",
      "[Copied] data\\raw\\healthy\\dk845iIpzubUAv2YuoWHaWTLRAv2_cough-shallow.wav\n",
      "[Copied] data\\raw\\healthy\\05bieNLXPuaIWEVaX81EkbbjVrh1_cough-heavy.wav\n",
      "[Copied] data\\raw\\healthy\\05bieNLXPuaIWEVaX81EkbbjVrh1_cough-shallow.wav\n",
      "[Copied] data\\raw\\healthy\\M3mk9u8tIBUCavOhsxcGej5s9Vg2_cough-heavy.wav\n",
      "[Copied] data\\raw\\healthy\\M3mk9u8tIBUCavOhsxcGej5s9Vg2_cough-shallow.wav\n",
      "[Copied] data\\raw\\healthy\\H3sxaOqiOSgbKWig7NdWEPgrm6f2_cough-heavy.wav\n",
      "[Copied] data\\raw\\healthy\\H3sxaOqiOSgbKWig7NdWEPgrm6f2_cough-shallow.wav\n",
      "[Copied] data\\raw\\healthy\\HN3yAvicf4RTVGb6l0PjM41iBAn2_cough-heavy.wav\n",
      "[Copied] data\\raw\\healthy\\HN3yAvicf4RTVGb6l0PjM41iBAn2_cough-shallow.wav\n",
      "[Copied] data\\raw\\healthy\\X2CDAl47UaUtiS9UGq7Yn0NTOLu2_cough-heavy.wav\n",
      "[Copied] data\\raw\\healthy\\X2CDAl47UaUtiS9UGq7Yn0NTOLu2_cough-shallow.wav\n",
      "[Copied] data\\raw\\healthy\\s3gFlexwXGaT6sBmU6g82B6Zczh2_cough-heavy.wav\n",
      "[Copied] data\\raw\\healthy\\s3gFlexwXGaT6sBmU6g82B6Zczh2_cough-shallow.wav\n",
      "[Copied] data\\raw\\healthy\\8nVQh7sxmWTMdHOSFZRgCSbwFCl2_cough-heavy.wav\n",
      "[Copied] data\\raw\\healthy\\8nVQh7sxmWTMdHOSFZRgCSbwFCl2_cough-shallow.wav\n",
      "[Copied] data\\raw\\healthy\\AHHrquikw8db8IuCsKUXqunYJz73_cough-heavy.wav\n",
      "[Copied] data\\raw\\healthy\\AHHrquikw8db8IuCsKUXqunYJz73_cough-shallow.wav\n",
      "[Copied] data\\raw\\healthy\\Y5eS0NFkNCPdRy7EFiTvm5QJ4qO2_cough-heavy.wav\n",
      "[Copied] data\\raw\\healthy\\Y5eS0NFkNCPdRy7EFiTvm5QJ4qO2_cough-shallow.wav\n",
      "[Copied] data\\raw\\healthy\\AbtlW73g2HUScOPZZQYMD7jRlkX2_cough-heavy.wav\n",
      "[Copied] data\\raw\\healthy\\AbtlW73g2HUScOPZZQYMD7jRlkX2_cough-shallow.wav\n",
      "[Copied] data\\raw\\healthy\\nFYEOudV6AXO7kSQU7mjyezJXUw2_cough-heavy.wav\n",
      "[Copied] data\\raw\\healthy\\nFYEOudV6AXO7kSQU7mjyezJXUw2_cough-shallow.wav\n",
      "[Copied] data\\raw\\healthy\\MeUiOR3KHJOGkU0rpWsA5oiBt672_cough-heavy.wav\n",
      "[Copied] data\\raw\\healthy\\MeUiOR3KHJOGkU0rpWsA5oiBt672_cough-shallow.wav\n",
      "[Copied] data\\raw\\healthy\\JxSb6sEnk0RC9NPyET9sCpJ3OqN2_cough-heavy.wav\n",
      "[Copied] data\\raw\\healthy\\JxSb6sEnk0RC9NPyET9sCpJ3OqN2_cough-shallow.wav\n",
      "[Copied] data\\raw\\healthy\\gFfiG6fg9dgWt96aPPuIdtFAYc53_cough-heavy.wav\n",
      "[Copied] data\\raw\\healthy\\gFfiG6fg9dgWt96aPPuIdtFAYc53_cough-shallow.wav\n",
      "[Copied] data\\raw\\healthy\\7PIIt8R3JWVfSFURfFyRR5ufM243_cough-heavy.wav\n",
      "[Copied] data\\raw\\healthy\\7PIIt8R3JWVfSFURfFyRR5ufM243_cough-shallow.wav\n",
      "[Copied] data\\raw\\healthy\\YgKJK1UxM6NMjfugUnV4mi50d732_cough-heavy.wav\n",
      "[Copied] data\\raw\\healthy\\YgKJK1UxM6NMjfugUnV4mi50d732_cough-shallow.wav\n",
      "[Copied] data\\raw\\healthy\\B4zHaFYEkYfCKyKRsjNjme1hwjk2_cough-heavy.wav\n",
      "[Copied] data\\raw\\healthy\\B4zHaFYEkYfCKyKRsjNjme1hwjk2_cough-shallow.wav\n",
      "[Copied] data\\raw\\healthy\\P5mI5OKQZ3WbFo8FkU7VuvAwUwz2_cough-heavy.wav\n",
      "[Copied] data\\raw\\healthy\\P5mI5OKQZ3WbFo8FkU7VuvAwUwz2_cough-shallow.wav\n",
      "[Copied] data\\raw\\healthy\\lzB1CcCk33VjfRiW9vbXkplPO0r1_cough-heavy.wav\n",
      "[Copied] data\\raw\\healthy\\lzB1CcCk33VjfRiW9vbXkplPO0r1_cough-shallow.wav\n",
      "[Copied] data\\raw\\healthy\\8Iug9hOgiBZTCKZuDxazXlamW0g1_cough-heavy.wav\n",
      "[Copied] data\\raw\\healthy\\8Iug9hOgiBZTCKZuDxazXlamW0g1_cough-shallow.wav\n",
      "[Copied] data\\raw\\healthy\\aJDwaJhhehbgKgHpYaP0sng5rcn2_cough-heavy.wav\n",
      "[Copied] data\\raw\\healthy\\aJDwaJhhehbgKgHpYaP0sng5rcn2_cough-shallow.wav\n",
      "[Copied] data\\raw\\healthy\\iECdjKjowNVh89DwO6HqoRnaDtY2_cough-heavy.wav\n",
      "[Copied] data\\raw\\healthy\\iECdjKjowNVh89DwO6HqoRnaDtY2_cough-shallow.wav\n",
      "[Copied] data\\raw\\healthy\\c8fyZREWSdfus5ISad0LwnMAUcQ2_cough-heavy.wav\n",
      "[Copied] data\\raw\\healthy\\c8fyZREWSdfus5ISad0LwnMAUcQ2_cough-shallow.wav\n",
      "[Copied] data\\raw\\healthy\\2zDWjtjSxeUuy2or5XThZNSzvwO2_cough-heavy.wav\n",
      "[Copied] data\\raw\\healthy\\2zDWjtjSxeUuy2or5XThZNSzvwO2_cough-shallow.wav\n",
      "[Copied] data\\raw\\healthy\\k73r7MJLJyav5AF6DJS6LFQnvn82_cough-heavy.wav\n",
      "[Copied] data\\raw\\healthy\\k73r7MJLJyav5AF6DJS6LFQnvn82_cough-shallow.wav\n",
      "[Copied] data\\raw\\healthy\\yBJ20a3np3a8FHUUVUnXslUoX4f1_cough-heavy.wav\n",
      "[Copied] data\\raw\\healthy\\yBJ20a3np3a8FHUUVUnXslUoX4f1_cough-shallow.wav\n",
      "[Copied] data\\raw\\healthy\\IA47R6m1qMbEqlv31Gf5sjN91cA2_cough-heavy.wav\n",
      "[Copied] data\\raw\\healthy\\IA47R6m1qMbEqlv31Gf5sjN91cA2_cough-shallow.wav\n",
      "[Copied] data\\raw\\healthy\\6WWaE2bjq1YgmugnDuBgA3kLEoL2_cough-heavy.wav\n",
      "[Copied] data\\raw\\healthy\\6WWaE2bjq1YgmugnDuBgA3kLEoL2_cough-shallow.wav\n",
      "[Copied] data\\raw\\healthy\\b5dxDgKCZXVNYVrBLTjeV1rGoW62_cough-heavy.wav\n",
      "[Copied] data\\raw\\healthy\\b5dxDgKCZXVNYVrBLTjeV1rGoW62_cough-shallow.wav\n",
      "[Copied] data\\raw\\healthy\\wL14nLGSh3P7qMgVFzfxt08XJbC2_cough-heavy.wav\n",
      "[Copied] data\\raw\\healthy\\wL14nLGSh3P7qMgVFzfxt08XJbC2_cough-shallow.wav\n",
      "[Copied] data\\raw\\healthy\\UVNJbaiYLMMfREwFxt1LdpdhWWD2_cough-heavy.wav\n",
      "[Copied] data\\raw\\healthy\\UVNJbaiYLMMfREwFxt1LdpdhWWD2_cough-shallow.wav\n",
      "[Copied] data\\raw\\healthy\\JBt2sizAUqdzxaoHx2jCMl9ky1H2_cough-heavy.wav\n",
      "[Copied] data\\raw\\healthy\\JBt2sizAUqdzxaoHx2jCMl9ky1H2_cough-shallow.wav\n",
      "[Copied] data\\raw\\healthy\\AKDAo2x9EXa9BSIPCbKuOTggrp32_cough-heavy.wav\n",
      "[Copied] data\\raw\\healthy\\AKDAo2x9EXa9BSIPCbKuOTggrp32_cough-shallow.wav\n",
      "[Copied] data\\raw\\healthy\\UnNfJx6G2QZjr0opFlCkjFRmAf03_cough-heavy.wav\n",
      "[Copied] data\\raw\\healthy\\UnNfJx6G2QZjr0opFlCkjFRmAf03_cough-shallow.wav\n",
      "[Copied] data\\raw\\healthy\\A3uqqSyxT5MpzFwc0dCpiYRV4w53_cough-heavy.wav\n",
      "[Copied] data\\raw\\healthy\\A3uqqSyxT5MpzFwc0dCpiYRV4w53_cough-shallow.wav\n",
      "[Copied] data\\raw\\healthy\\hB8ntHij4nOm6YoGj86MtZJVTyr2_cough-heavy.wav\n",
      "[Copied] data\\raw\\healthy\\hB8ntHij4nOm6YoGj86MtZJVTyr2_cough-shallow.wav\n",
      "[Copied] data\\raw\\healthy\\YAw9rkwSGUakz8LhvifMQk2JyNA2_cough-heavy.wav\n",
      "[Copied] data\\raw\\healthy\\YAw9rkwSGUakz8LhvifMQk2JyNA2_cough-shallow.wav\n",
      "[Copied] data\\raw\\healthy\\uXC8VbwVHrY6Y9oh83B8X6DTjAO2_cough-heavy.wav\n",
      "[Copied] data\\raw\\healthy\\uXC8VbwVHrY6Y9oh83B8X6DTjAO2_cough-shallow.wav\n",
      "[Copied] data\\raw\\healthy\\ibsftXiIIaTlmiN1fVp4MjtS9Hl2_cough-heavy.wav\n",
      "[Copied] data\\raw\\healthy\\ibsftXiIIaTlmiN1fVp4MjtS9Hl2_cough-shallow.wav\n",
      "[Copied] data\\raw\\healthy\\kvrE8UiQfHO8R7NaadPtaHRLqtG3_cough-heavy.wav\n",
      "[Copied] data\\raw\\healthy\\kvrE8UiQfHO8R7NaadPtaHRLqtG3_cough-shallow.wav\n",
      "[Copied] data\\raw\\healthy\\CpB4mhP3leTMxJdDG3cD3xMN2AI3_cough-heavy.wav\n",
      "[Copied] data\\raw\\healthy\\CpB4mhP3leTMxJdDG3cD3xMN2AI3_cough-shallow.wav\n",
      "[Copied] data\\raw\\healthy\\hEj6K9BJ2Ddv8udX3Vw766ns9CB2_cough-heavy.wav\n",
      "[Copied] data\\raw\\healthy\\hEj6K9BJ2Ddv8udX3Vw766ns9CB2_cough-shallow.wav\n",
      "[Copied] data\\raw\\healthy\\xXvWuF9fKkRVDhhbkAT8TbE3Rj62_cough-heavy.wav\n",
      "[Copied] data\\raw\\healthy\\xXvWuF9fKkRVDhhbkAT8TbE3Rj62_cough-shallow.wav\n",
      "[Copied] data\\raw\\healthy\\p181Ap16EeNF5lB92QY7W4Q3vFc2_cough-heavy.wav\n",
      "[Copied] data\\raw\\healthy\\p181Ap16EeNF5lB92QY7W4Q3vFc2_cough-shallow.wav\n",
      "[Copied] data\\raw\\healthy\\QU0kYVYQgiS0fYWCmnHC0cGrW0o1_cough-heavy.wav\n",
      "[Copied] data\\raw\\healthy\\QU0kYVYQgiS0fYWCmnHC0cGrW0o1_cough-shallow.wav\n",
      "[Copied] data\\raw\\healthy\\qndmFcdekodLGpiKxKMVQlrJfcp2_cough-heavy.wav\n",
      "[Copied] data\\raw\\healthy\\qndmFcdekodLGpiKxKMVQlrJfcp2_cough-shallow.wav\n",
      "[Copied] data\\raw\\healthy\\un5dW3qbK1XkHtuSID6elzexvr92_cough-heavy.wav\n",
      "[Copied] data\\raw\\healthy\\un5dW3qbK1XkHtuSID6elzexvr92_cough-shallow.wav\n",
      "[Copied] data\\raw\\healthy\\l6xp4FcV20QYTrj0uF0GkKnXY1x2_cough-heavy.wav\n",
      "[Copied] data\\raw\\healthy\\l6xp4FcV20QYTrj0uF0GkKnXY1x2_cough-shallow.wav\n",
      "[Copied] data\\raw\\healthy\\Bjp6S2aILuesK2yOZQIG06WliTM2_cough-heavy.wav\n",
      "[Copied] data\\raw\\healthy\\Bjp6S2aILuesK2yOZQIG06WliTM2_cough-shallow.wav\n",
      "[Copied] data\\raw\\healthy\\AS7IWnzwSnZ6IzknBA0G7uLYEeT2_cough-heavy.wav\n",
      "[Copied] data\\raw\\healthy\\AS7IWnzwSnZ6IzknBA0G7uLYEeT2_cough-shallow.wav\n",
      "[Copied] data\\raw\\healthy\\H8O1z8p8LlQWSI98eGl4X7RtLPD2_cough-heavy.wav\n",
      "[Copied] data\\raw\\healthy\\H8O1z8p8LlQWSI98eGl4X7RtLPD2_cough-shallow.wav\n",
      "[Copied] data\\raw\\healthy\\VmwzvNbtzqbxJBXAwplGb6MMWTj1_cough-heavy.wav\n",
      "[Copied] data\\raw\\healthy\\VmwzvNbtzqbxJBXAwplGb6MMWTj1_cough-shallow.wav\n",
      "[Copied] data\\raw\\healthy\\4kto18R8RwXJ0C7c0oCORNU4GZz2_cough-heavy.wav\n",
      "[Copied] data\\raw\\healthy\\4kto18R8RwXJ0C7c0oCORNU4GZz2_cough-shallow.wav\n",
      "[Copied] data\\raw\\healthy\\xDgSKI3IBQNu2G3msYhxC7URtop1_cough-heavy.wav\n",
      "[Copied] data\\raw\\healthy\\xDgSKI3IBQNu2G3msYhxC7URtop1_cough-shallow.wav\n",
      "[Copied] data\\raw\\healthy\\HJP1QvC3s2cTtjBRHQic5Y1EBGj1_cough-heavy.wav\n",
      "[Copied] data\\raw\\healthy\\HJP1QvC3s2cTtjBRHQic5Y1EBGj1_cough-shallow.wav\n",
      "[Copied] data\\raw\\healthy\\WBNoFWUY9MhZOfFiLvIDsfIWnSZ2_cough-heavy.wav\n",
      "[Copied] data\\raw\\healthy\\WBNoFWUY9MhZOfFiLvIDsfIWnSZ2_cough-shallow.wav\n",
      "[Copied] data\\raw\\healthy\\aPGmE5oG8zRtIVECwyuUT0ussn02_cough-heavy.wav\n",
      "[Copied] data\\raw\\healthy\\aPGmE5oG8zRtIVECwyuUT0ussn02_cough-shallow.wav\n",
      "[Copied] data\\raw\\healthy\\BdJTNoebc9X4fQNSUGhjBVVADvr2_cough-heavy.wav\n",
      "[Copied] data\\raw\\healthy\\BdJTNoebc9X4fQNSUGhjBVVADvr2_cough-shallow.wav\n",
      "[Copied] data\\raw\\healthy\\I90bUGzBTMZpwCnA4eWqzKkq3362_cough-heavy.wav\n",
      "[Copied] data\\raw\\healthy\\I90bUGzBTMZpwCnA4eWqzKkq3362_cough-shallow.wav\n",
      "[Copied] data\\raw\\healthy\\J88lvfqwdhSF124B97PL8XHvUnp1_cough-heavy.wav\n",
      "[Copied] data\\raw\\healthy\\J88lvfqwdhSF124B97PL8XHvUnp1_cough-shallow.wav\n",
      "[Copied] data\\raw\\healthy\\QhBRYhmdt7XYAQlhkRX19wWuuCH2_cough-heavy.wav\n",
      "[Copied] data\\raw\\healthy\\QhBRYhmdt7XYAQlhkRX19wWuuCH2_cough-shallow.wav\n",
      "[Copied] data\\raw\\healthy\\9z2XQAVyIkb0saZVigWBr3MsDcr1_cough-heavy.wav\n",
      "[Copied] data\\raw\\healthy\\9z2XQAVyIkb0saZVigWBr3MsDcr1_cough-shallow.wav\n",
      "[Copied] data\\raw\\healthy\\p0NEd67WfNMVpZuyt7ECTS6VxDa2_cough-heavy.wav\n",
      "[Copied] data\\raw\\healthy\\p0NEd67WfNMVpZuyt7ECTS6VxDa2_cough-shallow.wav\n",
      "[Copied] data\\raw\\healthy\\pIZi88QnOcUv7rOGz8iHLw1r2XI3_cough-heavy.wav\n",
      "[Copied] data\\raw\\healthy\\pIZi88QnOcUv7rOGz8iHLw1r2XI3_cough-shallow.wav\n",
      "[Copied] data\\raw\\healthy\\r3TFCPT4wJP2K891tXSFsIxAMPG3_cough-heavy.wav\n",
      "[Copied] data\\raw\\healthy\\r3TFCPT4wJP2K891tXSFsIxAMPG3_cough-shallow.wav\n",
      "[Copied] data\\raw\\healthy\\eKGXsbhd2VOFGSoIhMH8SKaa6n12_cough-heavy.wav\n",
      "[Copied] data\\raw\\healthy\\eKGXsbhd2VOFGSoIhMH8SKaa6n12_cough-shallow.wav\n",
      "[Copied] data\\raw\\healthy\\49Ih3xxOmCT53KfYuC2BKGvSAi13_cough-heavy.wav\n",
      "[Copied] data\\raw\\healthy\\49Ih3xxOmCT53KfYuC2BKGvSAi13_cough-shallow.wav\n",
      "[Copied] data\\raw\\healthy\\GBZ88OAxQfg6NBTxjDRI0Pf59mq1_cough-heavy.wav\n",
      "[Copied] data\\raw\\healthy\\GBZ88OAxQfg6NBTxjDRI0Pf59mq1_cough-shallow.wav\n",
      "[Copied] data\\raw\\healthy\\XOfL6t78sMQHHG9VppmLHnaawvg2_cough-heavy.wav\n",
      "[Copied] data\\raw\\healthy\\XOfL6t78sMQHHG9VppmLHnaawvg2_cough-shallow.wav\n",
      "[Copied] data\\raw\\healthy\\U5bTmSt9PRfWHiGleINUHMl8cg13_cough-heavy.wav\n",
      "[Copied] data\\raw\\healthy\\U5bTmSt9PRfWHiGleINUHMl8cg13_cough-shallow.wav\n",
      "[Copied] data\\raw\\healthy\\0M4YhLM7FwWO5IjCqhi7MlBhvJv2_cough-heavy.wav\n",
      "[Copied] data\\raw\\healthy\\0M4YhLM7FwWO5IjCqhi7MlBhvJv2_cough-shallow.wav\n",
      "[Copied] data\\raw\\healthy\\0Ha52POVIxTKEPqI1eGpIoMHUd52_cough-heavy.wav\n",
      "[Copied] data\\raw\\healthy\\0Ha52POVIxTKEPqI1eGpIoMHUd52_cough-shallow.wav\n",
      "[Copied] data\\raw\\healthy\\HmLWj3LIICf3jJshJCvZPdw7S1I2_cough-heavy.wav\n",
      "[Copied] data\\raw\\healthy\\HmLWj3LIICf3jJshJCvZPdw7S1I2_cough-shallow.wav\n",
      "[Copied] data\\raw\\healthy\\yT9Pq9LwzFalmb7PBeWKoIoUcng1_cough-heavy.wav\n",
      "[Copied] data\\raw\\healthy\\yT9Pq9LwzFalmb7PBeWKoIoUcng1_cough-shallow.wav\n",
      "[Copied] data\\raw\\healthy\\WSNcPIb74jUzQoVPA7RGZKWtMrM2_cough-heavy.wav\n",
      "[Copied] data\\raw\\healthy\\WSNcPIb74jUzQoVPA7RGZKWtMrM2_cough-shallow.wav\n",
      "[Copied] data\\raw\\healthy\\CTnnDvwNIYTb6tn1b3kX2rLYaiJ3_cough-heavy.wav\n",
      "[Copied] data\\raw\\healthy\\CTnnDvwNIYTb6tn1b3kX2rLYaiJ3_cough-shallow.wav\n",
      "[Copied] data\\raw\\healthy\\KjPE6JknuWfX4UQtWrWP0h21Bmo2_cough-heavy.wav\n",
      "[Copied] data\\raw\\healthy\\KjPE6JknuWfX4UQtWrWP0h21Bmo2_cough-shallow.wav\n",
      "[Copied] data\\raw\\healthy\\OPSRSPdvG3SJ42PhF7aFmCZcVpk1_cough-heavy.wav\n",
      "[Copied] data\\raw\\healthy\\OPSRSPdvG3SJ42PhF7aFmCZcVpk1_cough-shallow.wav\n",
      "[Copied] data\\raw\\healthy\\pJV1WLRshtZDthXUILe0NR9WX6k2_cough-heavy.wav\n",
      "[Copied] data\\raw\\healthy\\pJV1WLRshtZDthXUILe0NR9WX6k2_cough-shallow.wav\n",
      "[Copied] data\\raw\\healthy\\70rp2jgNpWU7FK3UabUcNvIp5us2_cough-heavy.wav\n",
      "[Copied] data\\raw\\healthy\\70rp2jgNpWU7FK3UabUcNvIp5us2_cough-shallow.wav\n",
      "[Copied] data\\raw\\healthy\\yMJAWvrwJOUbMR0ev3LeqgWr0zI2_cough-heavy.wav\n",
      "[Copied] data\\raw\\healthy\\yMJAWvrwJOUbMR0ev3LeqgWr0zI2_cough-shallow.wav\n",
      "[Copied] data\\raw\\healthy\\DggrWUKwrkOXgR2B6v13vKEB1hi1_cough-heavy.wav\n",
      "[Copied] data\\raw\\healthy\\DggrWUKwrkOXgR2B6v13vKEB1hi1_cough-shallow.wav\n",
      "[Copied] data\\raw\\healthy\\El8HRprt4FVF6QG4dHoKLFbARSc2_cough-heavy.wav\n",
      "[Copied] data\\raw\\healthy\\El8HRprt4FVF6QG4dHoKLFbARSc2_cough-shallow.wav\n",
      "[Copied] data\\raw\\healthy\\kbznHTdWBpXO5FWTxPmJHRhgW8J3_cough-heavy.wav\n",
      "[Copied] data\\raw\\healthy\\kbznHTdWBpXO5FWTxPmJHRhgW8J3_cough-shallow.wav\n",
      "[Copied] data\\raw\\healthy\\S4RMw5HOdnaBnLOaIIuybMtreHg1_cough-heavy.wav\n",
      "[Copied] data\\raw\\healthy\\S4RMw5HOdnaBnLOaIIuybMtreHg1_cough-shallow.wav\n",
      "[Copied] data\\raw\\healthy\\I61f49auZgdsWBUYQq4BQ5gRwaC2_cough-heavy.wav\n",
      "[Copied] data\\raw\\healthy\\I61f49auZgdsWBUYQq4BQ5gRwaC2_cough-shallow.wav\n",
      "[Copied] data\\raw\\healthy\\aH6o5lYN6vh40RCFhfyBYjkQVH13_cough-heavy.wav\n",
      "[Copied] data\\raw\\healthy\\aH6o5lYN6vh40RCFhfyBYjkQVH13_cough-shallow.wav\n",
      "[Copied] data\\raw\\healthy\\ZNTuppbDaCNybeDYGmyjJeYr93s1_cough-heavy.wav\n",
      "[Copied] data\\raw\\healthy\\ZNTuppbDaCNybeDYGmyjJeYr93s1_cough-shallow.wav\n",
      "[Copied] data\\raw\\healthy\\J7R2UkId7jU0aOSw5amaS8zJVIm1_cough-heavy.wav\n",
      "[Copied] data\\raw\\healthy\\J7R2UkId7jU0aOSw5amaS8zJVIm1_cough-shallow.wav\n",
      "[Copied] data\\raw\\healthy\\tfZUfOLuABObiYEbvQPmySozHfg2_cough-heavy.wav\n",
      "[Copied] data\\raw\\healthy\\tfZUfOLuABObiYEbvQPmySozHfg2_cough-shallow.wav\n",
      "[Copied] data\\raw\\healthy\\gGgG540lBOZoSK1vyqNVlqBzQBl1_cough-heavy.wav\n",
      "[Copied] data\\raw\\healthy\\gGgG540lBOZoSK1vyqNVlqBzQBl1_cough-shallow.wav\n",
      "[Copied] data\\raw\\healthy\\nx6RCgD0OjdzLa07UHBdHfz54ML2_cough-heavy.wav\n",
      "[Copied] data\\raw\\healthy\\nx6RCgD0OjdzLa07UHBdHfz54ML2_cough-shallow.wav\n"
     ]
    }
   ],
   "source": [
    "import pandas as pd\n",
    "import os\n",
    "import shutil\n",
    "from pathlib import Path\n",
    "\n",
    "# === CONFIGURATION ===\n",
    "csv_file = \"combined_data.csv\"  # Save your Excel as this CSV in the same folder\n",
    "extracted_data_root = Path(\"F:/Research_Project_CMP9140/Data_Set/Coswara-Data/Coswara-Data-master/Extracted_data\")\n",
    "output_healthy = Path(\"data/raw/healthy\")\n",
    "\n",
    "output_healthy.mkdir(parents=True, exist_ok=True)\n",
    "\n",
    "# === LOAD METADATA ===\n",
    "df = pd.read_csv(csv_file)\n",
    "\n",
    "# Filter only healthy participants\n",
    "df_healthy = df[df[\"covid_status\"].str.lower() == \"healthy\"]\n",
    "\n",
    "print(f\"[INFO] Total healthy participants: {len(df_healthy)}\")\n",
    "\n",
    "for idx, row in df_healthy.iterrows():\n",
    "    uid = row[\"id\"]\n",
    "\n",
    "    user_folder = None\n",
    "    # Search inside each date-named subfolder\n",
    "    for date_folder in extracted_data_root.iterdir():\n",
    "        possible_path = date_folder / uid\n",
    "        if possible_path.exists():\n",
    "            user_folder = possible_path\n",
    "            break\n",
    "\n",
    "    if user_folder is None:\n",
    "        print(f\"[Skip] Folder not found for user ID: {uid}\")\n",
    "        continue\n",
    "\n",
    "    # Copy cough files only (heavy + shallow)\n",
    "    for cough_file in [\"cough-heavy.wav\", \"cough-shallow.wav\"]:\n",
    "        source = user_folder / cough_file\n",
    "        if source.exists():\n",
    "            dest = output_healthy / f\"{uid}_{cough_file}\"\n",
    "            shutil.copy(source, dest)\n",
    "            print(f\"[Copied] {dest}\")\n",
    "        else:\n",
    "            print(f\"[Missing] {cough_file} for {uid}\")\n"
   ]
  },
  {
   "cell_type": "markdown",
   "id": "989d987e",
   "metadata": {},
   "source": []
  },
  {
   "cell_type": "code",
   "execution_count": 12,
   "id": "c84560a5",
   "metadata": {},
   "outputs": [
    {
     "name": "stderr",
     "output_type": "stream",
     "text": [
      "<>:6: SyntaxWarning: invalid escape sequence '\\R'\n",
      "<>:7: SyntaxWarning: invalid escape sequence '\\R'\n",
      "<>:6: SyntaxWarning: invalid escape sequence '\\R'\n",
      "<>:7: SyntaxWarning: invalid escape sequence '\\R'\n",
      "C:\\Users\\HP\\AppData\\Local\\Temp\\ipykernel_23352\\2358880569.py:6: SyntaxWarning: invalid escape sequence '\\R'\n",
      "  csv_file = \"F:\\Research_Project_CMP9140\\Data_Set\\COUGHVID\\coughvid_20211012/metadata_compiled.csv\"\n",
      "C:\\Users\\HP\\AppData\\Local\\Temp\\ipykernel_23352\\2358880569.py:7: SyntaxWarning: invalid escape sequence '\\R'\n",
      "  audio_dir = Path(\"F:\\Research_Project_CMP9140\\Data_Set\\COUGHVID\\coughvid_20211012\")\n"
     ]
    },
    {
     "name": "stdout",
     "output_type": "stream",
     "text": [
      "[INFO] Loading metadata file...\n",
      "[INFO] Metadata loaded.\n",
      "[INFO] Finding all downloaded .wav files...\n",
      "[INFO] Found 3309 .wav files to check.\n"
     ]
    },
    {
     "name": "stderr",
     "output_type": "stream",
     "text": [
      "Separating healthy files:   4%|▍         | 129/3309 [00:00<00:04, 664.96it/s]"
     ]
    },
    {
     "name": "stdout",
     "output_type": "stream",
     "text": [
      "An error occurred with 00a1e1ea-9725-47fb-ad18-b17a30b3a145: 'float' object has no attribute 'lower'\n",
      "An error occurred with 00b38e22-dbb8-4da9-abed-5ddb6df9f287: 'float' object has no attribute 'lower'\n",
      "An error occurred with 00e92287-1088-4c8b-97fc-a8502fce4ede: 'float' object has no attribute 'lower'\n",
      "An error occurred with 00fc3fbd-27fc-4d15-99c5-f49bf50be6ef: 'float' object has no attribute 'lower'\n",
      "An error occurred with 00ff6494-286b-4fec-9359-9a38ed18136d: 'float' object has no attribute 'lower'\n",
      "An error occurred with 012c5d80-e8a0-4044-9451-9747288d76b3: 'float' object has no attribute 'lower'\n",
      "An error occurred with 014c19df-2fa1-4035-83aa-b1de288aaea0: 'float' object has no attribute 'lower'\n",
      "An error occurred with 016acd2d-7b88-43fe-a153-8194ecdb5a8d: 'float' object has no attribute 'lower'\n",
      "An error occurred with 019cca3c-dde0-455f-857b-d49b5f9d1037: 'float' object has no attribute 'lower'\n",
      "An error occurred with 01b1433f-24a2-4615-8847-5e4523aa6579: 'float' object has no attribute 'lower'\n",
      "An error occurred with 01f63a0c-6a7d-4d35-a6ef-c166e0307f45: 'float' object has no attribute 'lower'\n",
      "An error occurred with 022a48fe-8199-47a0-9459-ff3f4d2d91ed: 'float' object has no attribute 'lower'\n",
      "An error occurred with 023c64e4-a21b-4c5b-bd20-ffcf73c51fa4: 'float' object has no attribute 'lower'\n",
      "An error occurred with 029df1d4-19df-4838-825d-9fdd152ef47a: 'float' object has no attribute 'lower'\n",
      "An error occurred with 02e89a51-4d5c-4b7b-ac36-dcd2567de74a: 'float' object has no attribute 'lower'\n",
      "An error occurred with 0304b048-f297-4372-86a3-f1eab23c097d: 'float' object has no attribute 'lower'\n",
      "An error occurred with 03109a33-0079-45da-b9be-c45b26527207: 'float' object has no attribute 'lower'\n",
      "An error occurred with 0317373f-4136-4980-84b8-ca862927b3a7: 'float' object has no attribute 'lower'\n",
      "An error occurred with 0391f007-68c2-420c-a5cc-b6f4314b2d57: 'float' object has no attribute 'lower'\n",
      "An error occurred with 0430faa0-34f5-4fbc-ac29-e339303d4fdf: 'float' object has no attribute 'lower'\n",
      "An error occurred with 04931778-d627-4378-8e15-79f123a776e5: 'float' object has no attribute 'lower'\n",
      "An error occurred with 05563abd-0ed1-438a-a7d3-2bf4128b2d18: 'float' object has no attribute 'lower'\n",
      "An error occurred with 0589b52b-c56e-406e-98c7-2aa7db77ef40: 'float' object has no attribute 'lower'\n",
      "An error occurred with 058eaa1d-bdc3-4f45-8cb2-4e241b608ca1: 'float' object has no attribute 'lower'\n",
      "An error occurred with 068caea6-96e8-482d-b53e-9d4d48bae595: 'float' object has no attribute 'lower'\n",
      "An error occurred with 06a4e544-d7e6-42b3-b484-9263a00c1030: 'float' object has no attribute 'lower'\n",
      "An error occurred with 06c38629-33f6-4567-9764-e3f5847663dc: 'float' object has no attribute 'lower'\n",
      "An error occurred with 073543e2-8675-415d-bbb8-d63a4bfc9128: 'float' object has no attribute 'lower'\n",
      "An error occurred with 073fc0fc-91f9-421d-8c1d-df57619f1437: 'float' object has no attribute 'lower'\n",
      "An error occurred with 07cc6177-40df-4ef1-b11d-26b13e622473: 'float' object has no attribute 'lower'\n",
      "An error occurred with 08578a1c-1e7a-448d-a171-aacdad4c13b5: 'float' object has no attribute 'lower'\n",
      "An error occurred with 09a1f1b4-d691-4bd5-8ad4-296c34aa76b8: 'float' object has no attribute 'lower'"
     ]
    },
    {
     "name": "stderr",
     "output_type": "stream",
     "text": [
      "Separating healthy files:   6%|▌         | 197/3309 [00:00<00:04, 669.56it/s]"
     ]
    },
    {
     "name": "stdout",
     "output_type": "stream",
     "text": [
      "\n",
      "An error occurred with 09d93292-e5f3-4457-ba05-0c6f06481030: 'float' object has no attribute 'lower'\n",
      "An error occurred with 0a79e26f-2a5e-446e-829a-aa6e9381bdb5: 'float' object has no attribute 'lower'\n",
      "An error occurred with 0a8f6c0d-3c64-47a4-a78c-1e666205591f: 'float' object has no attribute 'lower'\n",
      "An error occurred with 0ac4a300-6dfe-46ed-b899-37c8651a3964: 'float' object has no attribute 'lower'\n",
      "An error occurred with 0be2c856-dc86-4d84-90c3-65ff98dba2e6: 'float' object has no attribute 'lower'\n",
      "An error occurred with 0c1f8c49-babe-469a-8595-a2440907c7d0: 'float' object has no attribute 'lower'\n",
      "An error occurred with 0c4d251a-0b67-409b-b6a9-65a44dbaf15f: 'float' object has no attribute 'lower'\n",
      "An error occurred with 0c7b7a11-0d33-49c4-a91e-43913b342c89: 'float' object has no attribute 'lower'\n",
      "An error occurred with 0ca5e8a0-350f-4b32-9a4d-d5012c7d0825: 'float' object has no attribute 'lower'\n",
      "An error occurred with 0ce6f9b8-b738-4251-8b50-716c116858d4: 'float' object has no attribute 'lower'\n",
      "An error occurred with 0d24283d-2634-4e1f-8b5c-6f0005057a6b: 'float' object has no attribute 'lower'\n",
      "An error occurred with 0d323007-cba0-4b55-b7f2-49d67a63f024: 'float' object has no attribute 'lower'\n",
      "An error occurred with 0d8155e2-3a57-4f4f-8cf5-ee504a952776: 'float' object has no attribute 'lower'\n",
      "An error occurred with 0d898ee6-3cfb-4a2c-a2f3-e989128f0d35: 'float' object has no attribute 'lower'\n",
      "An error occurred with 0de1b33c-63fb-4336-9bab-5971195d3019: 'float' object has no attribute 'lower'\n",
      "An error occurred with 0e0d4e85-b138-4f9d-b67f-4d4ad77eaac6: 'float' object has no attribute 'lower'\n",
      "An error occurred with 0e638440-f9f9-4cd3-9aca-f4187f54b3e2: 'float' object has no attribute 'lower'\n",
      "An error occurred with 0ebac901-4f3f-4ade-95f8-e3b292b17307: 'float' object has no attribute 'lower'\n",
      "An error occurred with 0eca889a-b14c-44cf-92d3-a757be8f18d8: 'float' object has no attribute 'lower'\n",
      "An error occurred with 0eccc217-f387-4725-ad0b-8834764150dd: 'float' object has no attribute 'lower'\n",
      "An error occurred with 0ef9e74a-9157-44eb-948f-d9dd41a3d059: 'float' object has no attribute 'lower'\n",
      "An error occurred with 0fb09abe-9a94-41b7-b183-7f1b68ed3cb0: 'float' object has no attribute 'lower'\n",
      "An error occurred with 0fc8f5d2-c2d8-49e2-8e25-d066ed766ad4: 'float' object has no attribute 'lower'\n",
      "An error occurred with 0ff23ad5-5bbf-4ad2-bd5e-db8f089bf0df: 'float' object has no attribute 'lower'\n",
      "An error occurred with 100db2c9-fc81-4783-b749-ebfc94fcfa84: 'float' object has no attribute 'lower'\n",
      "An error occurred with 10977b27-05a4-437e-9e19-6b2a533380f5: 'float' object has no attribute 'lower'\n",
      "An error occurred with 10a3f081-8a87-4183-a31b-b8e3a38af25f: 'float' object has no attribute 'lower'\n",
      "An error occurred with 117c44ea-cc0d-447e-b769-49301ac2d382: 'float' object has no attribute 'lower'\n",
      "An error occurred with 118a4d63-974b-4b3d-a924-f290d0976adb: 'float' object has no attribute 'lower'\n",
      "An error occurred with 11ca6c14-b4a7-409f-b91f-010827bb0f76: 'float' object has no attribute 'lower'\n",
      "An error occurred with 11cba759-ef88-4391-8b3a-7b4d046a9e53: 'float' object has no attribute 'lower'\n",
      "An error occurred with 1220078c-b7be-4f0e-9f4c-72df9a781216: 'float' object has no attribute 'lower'\n",
      "An error occurred with 12aba34b-1908-490d-8741-e0a6f60ac73b: 'float' object has no attribute 'lower'\n",
      "An error occurred with 1302339b-05e5-41de-966d-80409880efe1: 'float' object has no attribute 'lower'\n"
     ]
    },
    {
     "name": "stderr",
     "output_type": "stream",
     "text": [
      "Separating healthy files:   8%|▊         | 264/3309 [00:01<00:17, 176.64it/s]"
     ]
    },
    {
     "name": "stdout",
     "output_type": "stream",
     "text": [
      "An error occurred with 1349e277-95c7-4bdb-863a-2fd861e81726: 'float' object has no attribute 'lower'\n",
      "An error occurred with 138eb26d-70bf-4974-a0c3-3688fb361832: 'float' object has no attribute 'lower'\n",
      "An error occurred with 13aed4ef-793b-42b5-8a73-a2037dd78eae: 'float' object has no attribute 'lower'\n",
      "An error occurred with 13d270ba-9aaa-4426-bac8-9e6207949b91: 'float' object has no attribute 'lower'\n",
      "An error occurred with 13e28cdb-8cde-429d-ae47-0148e87b0821: 'float' object has no attribute 'lower'\n",
      "An error occurred with 14003b17-5b1f-4fdc-921f-91b4d0c8d9a1: 'float' object has no attribute 'lower'\n",
      "An error occurred with 142a0c20-be53-444e-afd1-6f0f8c58f11d: 'float' object has no attribute 'lower'\n",
      "An error occurred with 14a8dbe2-936e-4c34-8daf-9d5cd3f886d5: 'float' object has no attribute 'lower'\n",
      "An error occurred with 14ad9ea2-69ed-45de-ac74-ff386cd09a26: 'float' object has no attribute 'lower'\n",
      "An error occurred with 14b5c7fa-f6f1-46ab-86dd-1e1932f4bcdc: 'float' object has no attribute 'lower'\n",
      "An error occurred with 14d92929-8c74-4e64-a481-aa0d3d719b65: 'float' object has no attribute 'lower'\n",
      "An error occurred with 1505f13e-4ab8-4394-9ea6-856c5222f43d: 'float' object has no attribute 'lower'\n",
      "An error occurred with 1526fe17-7e59-4c5d-95cf-d77caa94fc54: 'float' object has no attribute 'lower'\n",
      "An error occurred with 1548d084-ae0b-436b-a8b6-b2c366ea3cef: 'float' object has no attribute 'lower'\n",
      "An error occurred with 155a9023-9818-49d9-8fe8-c5c3fad6d91d: 'float' object has no attribute 'lower'\n",
      "An error occurred with 156384e9-d9a8-43c7-88f5-98a5f9fc265a: 'float' object has no attribute 'lower'\n",
      "An error occurred with 157657b3-bf06-475a-a5d9-357ae678eb77: 'float' object has no attribute 'lower'\n",
      "An error occurred with 15908463-b89c-40bb-abbb-83cc834e29cb: 'float' object has no attribute 'lower'\n",
      "An error occurred with 15a09b97-2efd-40c2-87e8-0a4270dabed4: 'float' object has no attribute 'lower'\n",
      "An error occurred with 15bd1fff-dfb3-4710-a3ef-14dcd475ffc3: 'float' object has no attribute 'lower'\n",
      "An error occurred with 15c19d4a-7ed7-449f-b5a8-e691a9cd287f: 'float' object has no attribute 'lower'\n"
     ]
    },
    {
     "name": "stderr",
     "output_type": "stream",
     "text": [
      "Separating healthy files:   9%|▉         | 308/3309 [00:02<00:37, 80.54it/s] "
     ]
    },
    {
     "name": "stdout",
     "output_type": "stream",
     "text": [
      "An error occurred with 15e8154d-daba-427c-8719-03dba07fe879: 'float' object has no attribute 'lower'\n",
      "An error occurred with 1663b657-00a2-4ca0-8694-c147df0ccca0: 'float' object has no attribute 'lower'\n",
      "An error occurred with 16694f6d-677e-49f6-ac7d-c4caf3c1c28b: 'float' object has no attribute 'lower'\n",
      "An error occurred with 170356dd-16b5-44d2-a868-018834df2934: 'float' object has no attribute 'lower'\n",
      "An error occurred with 1735df0a-da52-4c01-b338-7bfd1b048b54: 'float' object has no attribute 'lower'\n",
      "An error occurred with 177cbc96-aa5b-40d8-ba97-47b8325165fa: 'float' object has no attribute 'lower'\n",
      "An error occurred with 17a1305c-d906-48db-993d-f25eff5a6fad: 'float' object has no attribute 'lower'\n",
      "An error occurred with 18040bf3-6499-495e-847a-1ca6b6a4d036: 'float' object has no attribute 'lower'\n"
     ]
    },
    {
     "name": "stderr",
     "output_type": "stream",
     "text": [
      "Separating healthy files:  10%|█         | 338/3309 [00:03<00:41, 72.35it/s]"
     ]
    },
    {
     "name": "stdout",
     "output_type": "stream",
     "text": [
      "An error occurred with 18535425-8f9f-49df-958a-25c7479375d1: 'float' object has no attribute 'lower'\n",
      "An error occurred with 18890235-3d05-4d3a-81e3-bf4ebf6220c2: 'float' object has no attribute 'lower'\n",
      "An error occurred with 18c7cd39-00c9-4c02-8f01-512cfc800790: 'float' object has no attribute 'lower'\n",
      "An error occurred with 18cccc6c-58d9-4f82-890c-894f59711c16: 'float' object has no attribute 'lower'\n",
      "An error occurred with 18ce6c74-cb21-4c81-b462-5225e26f1be0: 'float' object has no attribute 'lower'\n",
      "An error occurred with 190b5d5e-0f36-4a72-b280-aef29640fdec: 'float' object has no attribute 'lower'\n",
      "An error occurred with 193b2cf4-e9ec-4e91-b78a-5a81f7516177: 'float' object has no attribute 'lower'\n"
     ]
    },
    {
     "name": "stderr",
     "output_type": "stream",
     "text": [
      "Separating healthy files:  11%|█         | 360/3309 [00:03<00:48, 61.35it/s]"
     ]
    },
    {
     "name": "stdout",
     "output_type": "stream",
     "text": [
      "An error occurred with 199c9123-301d-42da-8dde-61d0847bb6cd: 'float' object has no attribute 'lower'\n",
      "An error occurred with 19e0a6b4-a8a5-420c-9916-7d107152b416: 'float' object has no attribute 'lower'\n",
      "An error occurred with 1a249d08-d9ab-4aaa-b562-5d838306c43d: 'float' object has no attribute 'lower'\n"
     ]
    },
    {
     "name": "stderr",
     "output_type": "stream",
     "text": [
      "Separating healthy files:  11%|█▏        | 376/3309 [00:04<00:52, 55.92it/s]"
     ]
    },
    {
     "name": "stdout",
     "output_type": "stream",
     "text": [
      "An error occurred with 1ac0ad8e-b48f-439f-bd8b-6497a375637e: 'float' object has no attribute 'lower'\n",
      "An error occurred with 1af4bba6-1f96-4545-8622-5c3c3b0783c7: 'float' object has no attribute 'lower'\n",
      "An error occurred with 1b6d47f7-1838-45c8-a593-6ea557133e99: 'float' object has no attribute 'lower'\n",
      "An error occurred with 1bd1345b-07ed-41b6-a96b-63717f912c8f: 'float' object has no attribute 'lower'\n"
     ]
    },
    {
     "name": "stderr",
     "output_type": "stream",
     "text": [
      "Separating healthy files:  12%|█▏        | 388/3309 [00:04<00:54, 53.19it/s]"
     ]
    },
    {
     "name": "stdout",
     "output_type": "stream",
     "text": [
      "An error occurred with 1c26f2b7-7c82-4681-a90f-557cdcf60de3: 'float' object has no attribute 'lower'\n",
      "An error occurred with 1c457e96-6a2b-40aa-a065-4a8901c0e759: 'float' object has no attribute 'lower'\n",
      "An error occurred with 1c613bf8-9ee6-42f0-87ec-f24e2e1eea8a: 'float' object has no attribute 'lower'\n",
      "An error occurred with 1c6d8db1-bf6c-45f2-a696-c3186b912e48: 'float' object has no attribute 'lower'\n",
      "An error occurred with 1ca00888-b6ba-4d74-812f-a0fa260bff40: 'float' object has no attribute 'lower'\n"
     ]
    },
    {
     "name": "stderr",
     "output_type": "stream",
     "text": [
      "Separating healthy files:  12%|█▏        | 398/3309 [00:05<01:15, 38.78it/s]"
     ]
    },
    {
     "name": "stdout",
     "output_type": "stream",
     "text": [
      "An error occurred with 1d428830-edec-4942-9972-c0536790ed29: 'float' object has no attribute 'lower'\n",
      "An error occurred with 1d9afb0d-c66f-44b7-8113-dfaaed228727: 'float' object has no attribute 'lower'\n",
      "An error occurred with 1dad23c5-db56-43ab-a2ea-46fcb73e76e6: 'float' object has no attribute 'lower'\n"
     ]
    },
    {
     "name": "stderr",
     "output_type": "stream",
     "text": [
      "Separating healthy files:  12%|█▏        | 411/3309 [00:05<01:15, 38.25it/s]"
     ]
    },
    {
     "name": "stdout",
     "output_type": "stream",
     "text": [
      "An error occurred with 1df95bee-f5ea-49a3-8fc2-b4ea932488fa: 'float' object has no attribute 'lower'\n",
      "An error occurred with 1e995a01-a5f9-448b-b6a4-a0af8777d30b: 'float' object has no attribute 'lower'\n",
      "An error occurred with 1e9ee2a0-02e4-469e-a111-27cab3688a94: 'float' object has no attribute 'lower'\n"
     ]
    },
    {
     "name": "stderr",
     "output_type": "stream",
     "text": [
      "Separating healthy files:  13%|█▎        | 423/3309 [00:05<01:18, 36.59it/s]"
     ]
    },
    {
     "name": "stdout",
     "output_type": "stream",
     "text": [
      "An error occurred with 1f510ab1-d0b4-4831-b444-2e3476817a9f: 'float' object has no attribute 'lower'\n",
      "An error occurred with 1f895e9f-a7b5-44f9-b6b3-c6af632789ba: 'float' object has no attribute 'lower'\n",
      "An error occurred with 1f8bdcb3-a182-4a2a-9261-04e9dc4b0ad2: 'float' object has no attribute 'lower'\n",
      "An error occurred with 1fa1a987-cb1f-4eef-8eaa-d853380c2c06: 'float' object has no attribute 'lower'\n",
      "An error occurred with 1fc09bed-5b3e-4d78-a2ad-99ba8812bfef: 'float' object has no attribute 'lower'\n",
      "An error occurred with 1fe4b898-3b81-4e84-827c-883512ee2b5f: 'float' object has no attribute 'lower'\n"
     ]
    },
    {
     "name": "stderr",
     "output_type": "stream",
     "text": [
      "Separating healthy files:  13%|█▎        | 428/3309 [00:05<01:15, 38.38it/s]"
     ]
    },
    {
     "name": "stdout",
     "output_type": "stream",
     "text": [
      "An error occurred with 1ffc0818-52dc-4f7b-942c-52561b21e949: 'float' object has no attribute 'lower'\n"
     ]
    },
    {
     "name": "stderr",
     "output_type": "stream",
     "text": [
      "Separating healthy files:  13%|█▎        | 441/3309 [00:06<01:22, 34.64it/s]"
     ]
    },
    {
     "name": "stdout",
     "output_type": "stream",
     "text": [
      "An error occurred with 20350f24-1dfe-4817-889a-c47e1b112a5e: 'float' object has no attribute 'lower'\n",
      "An error occurred with 205c8295-a4bd-4558-ac36-dc4532ddae1b: 'float' object has no attribute 'lower'\n",
      "An error occurred with 20632d82-8b88-4181-bc07-bac87c11fe78: 'float' object has no attribute 'lower'\n",
      "An error occurred with 2098a912-550a-4dc2-9c42-fdafd2ff42b2: 'float' object has no attribute 'lower'\n",
      "An error occurred with 209c9162-5079-467f-a4d8-c1bc66d43a3b: 'float' object has no attribute 'lower'\n",
      "An error occurred with 20b023ab-4720-48f3-b772-0bfe0aa6fdf5: 'float' object has no attribute 'lower'\n"
     ]
    },
    {
     "name": "stderr",
     "output_type": "stream",
     "text": [
      "Separating healthy files:  14%|█▎        | 452/3309 [00:06<01:11, 39.85it/s]"
     ]
    },
    {
     "name": "stdout",
     "output_type": "stream",
     "text": [
      "An error occurred with 214bcfa9-ee96-4d02-bdc4-105eaecfc6ae: 'float' object has no attribute 'lower'\n",
      "An error occurred with 219ba101-1b77-4b87-8b85-7f355530c1f0: 'float' object has no attribute 'lower'\n",
      "An error occurred with 21be3224-cf0d-479b-9577-c75b598aefb7: 'float' object has no attribute 'lower'\n"
     ]
    },
    {
     "name": "stderr",
     "output_type": "stream",
     "text": [
      "Separating healthy files:  14%|█▍        | 468/3309 [00:06<00:57, 49.34it/s]"
     ]
    },
    {
     "name": "stdout",
     "output_type": "stream",
     "text": [
      "An error occurred with 22440e05-d7a0-4c84-8350-edf19551937d: 'float' object has no attribute 'lower'\n",
      "An error occurred with 227632ae-6d1b-475e-b12e-19a05f42b1dd: 'float' object has no attribute 'lower'\n",
      "An error occurred with 227c0e21-c362-4527-8964-8bcf73519ae2: 'float' object has no attribute 'lower'\n",
      "An error occurred with 22a44b67-3111-4742-87b6-5fc8f618715c: 'float' object has no attribute 'lower'\n"
     ]
    },
    {
     "name": "stderr",
     "output_type": "stream",
     "text": [
      "Separating healthy files:  14%|█▍        | 474/3309 [00:07<01:13, 38.77it/s]"
     ]
    },
    {
     "name": "stdout",
     "output_type": "stream",
     "text": [
      "An error occurred with 237a1393-21a8-4df0-bb91-c3823aaa5fb0: 'float' object has no attribute 'lower'\n",
      "An error occurred with 23f35553-a307-4cee-882a-e3fbca66c8fa: 'float' object has no attribute 'lower'\n"
     ]
    },
    {
     "name": "stderr",
     "output_type": "stream",
     "text": [
      "Separating healthy files:  14%|█▍        | 479/3309 [00:07<01:22, 34.47it/s]"
     ]
    },
    {
     "name": "stdout",
     "output_type": "stream",
     "text": [
      "An error occurred with 243d16e3-e885-4b34-b2d1-2f3f91ea7731: 'float' object has no attribute 'lower'\n"
     ]
    },
    {
     "name": "stderr",
     "output_type": "stream",
     "text": [
      "Separating healthy files:  15%|█▍        | 487/3309 [00:07<01:45, 26.84it/s]"
     ]
    },
    {
     "name": "stdout",
     "output_type": "stream",
     "text": [
      "An error occurred with 24569797-d7ad-4655-b69e-55c8df8f1650: 'float' object has no attribute 'lower'\n",
      "An error occurred with 245aa564-9ec2-4a12-bec9-75624f8aad7d: 'float' object has no attribute 'lower'\n",
      "An error occurred with 24b9012a-246e-4904-858d-3f238797cc00: 'float' object has no attribute 'lower'\n",
      "An error occurred with 24cc730a-b32f-49d7-a4c7-324ec2962512: 'float' object has no attribute 'lower'\n",
      "An error occurred with 24e1a562-5c2a-438c-b756-3014c5372947: 'float' object has no attribute 'lower'\n"
     ]
    },
    {
     "name": "stderr",
     "output_type": "stream",
     "text": [
      "Separating healthy files:  15%|█▌        | 500/3309 [00:08<01:42, 27.28it/s]"
     ]
    },
    {
     "name": "stdout",
     "output_type": "stream",
     "text": [
      "An error occurred with 2567ef15-db89-42c9-bb34-971d7f5a69f1: 'float' object has no attribute 'lower'\n",
      "An error occurred with 2587ab1b-cd6d-46a4-bc06-11d413b288cb: 'float' object has no attribute 'lower'\n",
      "An error occurred with 258f0c8e-a56f-4886-953d-7a53398c8d1c: 'float' object has no attribute 'lower'\n"
     ]
    },
    {
     "name": "stderr",
     "output_type": "stream",
     "text": [
      "Separating healthy files:  15%|█▌        | 510/3309 [00:08<01:27, 32.17it/s]"
     ]
    },
    {
     "name": "stdout",
     "output_type": "stream",
     "text": [
      "An error occurred with 2601a1b8-0105-448e-bc23-74572dae52b4: 'float' object has no attribute 'lower'\n",
      "An error occurred with 26254478-b7c5-47cc-a7fa-8083368785a9: 'float' object has no attribute 'lower'\n",
      "An error occurred with 267e0178-afd1-47be-9b4f-d1d8638d5e74: 'float' object has no attribute 'lower'\n"
     ]
    },
    {
     "name": "stderr",
     "output_type": "stream",
     "text": [
      "Separating healthy files:  16%|█▌        | 515/3309 [00:08<01:26, 32.32it/s]"
     ]
    },
    {
     "name": "stdout",
     "output_type": "stream",
     "text": [
      "An error occurred with 26bca586-d842-4b01-ac0f-1db739bee3f6: 'float' object has no attribute 'lower'\n",
      "An error occurred with 26edd6fd-0c36-4a5a-9708-742854a313d8: 'float' object has no attribute 'lower'\n"
     ]
    },
    {
     "name": "stderr",
     "output_type": "stream",
     "text": [
      "Separating healthy files:  16%|█▌        | 522/3309 [00:09<02:20, 19.82it/s]"
     ]
    },
    {
     "name": "stdout",
     "output_type": "stream",
     "text": [
      "An error occurred with 2708b3be-b163-47fe-a335-eaf75e3a7aad: 'float' object has no attribute 'lower'\n"
     ]
    },
    {
     "name": "stderr",
     "output_type": "stream",
     "text": [
      "Separating healthy files:  16%|█▌        | 532/3309 [00:09<01:59, 23.16it/s]"
     ]
    },
    {
     "name": "stdout",
     "output_type": "stream",
     "text": [
      "An error occurred with 274d0bfc-3941-4864-8581-5dcad50f9e3d: 'float' object has no attribute 'lower'\n",
      "An error occurred with 278fce14-f4cd-4291-b9d4-f7c6ca68aac4: 'float' object has no attribute 'lower'\n",
      "An error occurred with 279ce97d-148c-4656-aeba-a4987c8e4abb: 'float' object has no attribute 'lower'\n"
     ]
    },
    {
     "name": "stderr",
     "output_type": "stream",
     "text": [
      "Separating healthy files:  16%|█▋        | 543/3309 [00:09<01:20, 34.31it/s]"
     ]
    },
    {
     "name": "stdout",
     "output_type": "stream",
     "text": [
      "An error occurred with 27fbc604-d865-4576-bd04-34e4f4f79015: 'float' object has no attribute 'lower'\n",
      "An error occurred with 2801c577-1720-4bc5-a7da-29cb9deb0b33: 'float' object has no attribute 'lower'\n",
      "An error occurred with 280d4d5b-9cb3-4628-ad1e-fb9622be1ab1: 'float' object has no attribute 'lower'\n",
      "An error occurred with 28492431-5e2b-4cea-9321-235895db4cb8: 'float' object has no attribute 'lower'\n",
      "An error occurred with 2875f765-514f-435a-a826-133604c10c84: 'float' object has no attribute 'lower'\n",
      "An error occurred with 28778c93-fd0b-4aa1-af9d-325f502110fc: 'float' object has no attribute 'lower'\n",
      "An error occurred with 28c16d45-df3e-46f0-b63a-8f549d8c97cd: 'float' object has no attribute 'lower'\n",
      "An error occurred with 28d9baac-e1d8-46e7-8620-fc230595728c: 'float' object has no attribute 'lower'\n"
     ]
    },
    {
     "name": "stderr",
     "output_type": "stream",
     "text": [
      "Separating healthy files:  17%|█▋        | 557/3309 [00:09<01:04, 42.55it/s]"
     ]
    },
    {
     "name": "stdout",
     "output_type": "stream",
     "text": [
      "An error occurred with 291592cb-6ac8-4de2-9615-56f82d578bae: 'float' object has no attribute 'lower'\n",
      "An error occurred with 297e945a-061b-41da-9931-b1fd5f632fec: 'float' object has no attribute 'lower'\n",
      "An error occurred with 29988aaa-7f72-4977-b019-305ad839ed1e: 'float' object has no attribute 'lower'\n",
      "An error occurred with 299c4270-15b9-4c53-9e5e-d12cec4b290d: 'float' object has no attribute 'lower'\n",
      "An error occurred with 29a94433-865d-44f5-8e3f-aa69a9e4d095: 'float' object has no attribute 'lower'\n"
     ]
    },
    {
     "name": "stderr",
     "output_type": "stream",
     "text": [
      "Separating healthy files:  17%|█▋        | 562/3309 [00:10<01:53, 24.19it/s]"
     ]
    },
    {
     "name": "stdout",
     "output_type": "stream",
     "text": [
      "An error occurred with 29b27ed7-b435-49f4-a5e4-9813a00f2f68: 'float' object has no attribute 'lower'\n",
      "An error occurred with 29f2944c-451c-4d38-94e4-4ac0ff4536d1: 'float' object has no attribute 'lower'\n",
      "An error occurred with 2a3a7077-f0b3-4aac-9211-c70d9b63b2f3: 'float' object has no attribute 'lower'\n",
      "An error occurred with 2a3c10c2-edce-479c-9000-03206fba84a8: 'float' object has no attribute 'lower'\n"
     ]
    },
    {
     "name": "stderr",
     "output_type": "stream",
     "text": [
      "Separating healthy files:  18%|█▊        | 581/3309 [00:10<01:22, 33.11it/s]"
     ]
    },
    {
     "name": "stdout",
     "output_type": "stream",
     "text": [
      "An error occurred with 2a74dd2f-6302-4c17-b3d7-1559c239614c: 'float' object has no attribute 'lower'\n",
      "An error occurred with 2a7e8d9c-ae56-4ecf-a484-8da49bc68d3f: 'float' object has no attribute 'lower'\n",
      "An error occurred with 2a804155-d716-4063-99a6-bb2ae5e6b2b0: 'float' object has no attribute 'lower'\n",
      "An error occurred with 2a817c4e-65a2-41eb-a542-0f49a9fe46c3: 'float' object has no attribute 'lower'\n",
      "An error occurred with 2a97a742-f738-4863-af7a-fcaf66826a44: 'float' object has no attribute 'lower'\n",
      "An error occurred with 2aa8f859-8822-48e2-846f-c15ee7749079: 'float' object has no attribute 'lower'\n",
      "An error occurred with 2b137784-b256-434c-b78b-828cad933850: 'float' object has no attribute 'lower'\n",
      "An error occurred with 2b39b17a-b2cd-4da8-8f70-1bc414c86cfe: 'float' object has no attribute 'lower'\n",
      "An error occurred with 2b41abc9-a896-4177-934b-78727fa3dd4e: 'float' object has no attribute 'lower'\n"
     ]
    },
    {
     "name": "stderr",
     "output_type": "stream",
     "text": [
      "Separating healthy files:  18%|█▊        | 600/3309 [00:11<01:09, 39.12it/s]"
     ]
    },
    {
     "name": "stdout",
     "output_type": "stream",
     "text": [
      "An error occurred with 2bb672f8-1d7d-4d68-9b73-e02fc44c074b: 'float' object has no attribute 'lower'\n",
      "An error occurred with 2c018c8f-b6e3-4fed-ae9a-de73ee121902: 'float' object has no attribute 'lower'\n",
      "An error occurred with 2c080f4a-e1eb-4960-a6cc-d078badeed84: 'float' object has no attribute 'lower'\n",
      "An error occurred with 2c132eda-4542-47d4-9911-d630eb2e6a5a: 'float' object has no attribute 'lower'\n",
      "An error occurred with 2c2387b6-9198-42cd-812c-924732f8234c: 'float' object has no attribute 'lower'\n"
     ]
    },
    {
     "name": "stderr",
     "output_type": "stream",
     "text": [
      "Separating healthy files:  18%|█▊        | 609/3309 [00:11<01:37, 27.77it/s]"
     ]
    },
    {
     "name": "stdout",
     "output_type": "stream",
     "text": [
      "An error occurred with 2c797c6e-cc24-45f1-bd6b-89d8f7d2f6ff: 'float' object has no attribute 'lower'\n",
      "An error occurred with 2c9cac85-ca75-4363-87ed-036dd16bc69f: 'float' object has no attribute 'lower'\n",
      "An error occurred with 2cd4ec91-d7d0-4979-b445-9d47cdf2a5b0: 'float' object has no attribute 'lower'\n",
      "An error occurred with 2cd8ccc5-2bf6-42c4-9e25-98f6d86dba1b: 'float' object has no attribute 'lower'\n"
     ]
    },
    {
     "name": "stderr",
     "output_type": "stream",
     "text": [
      "Separating healthy files:  19%|█▊        | 618/3309 [00:12<01:35, 28.21it/s]"
     ]
    },
    {
     "name": "stdout",
     "output_type": "stream",
     "text": [
      "An error occurred with 2d119262-5fdd-4689-a0ab-41adc0bd4e91: 'float' object has no attribute 'lower'\n",
      "An error occurred with 2db6a81f-0f9f-43ec-b7de-aa65fc4d0006: 'float' object has no attribute 'lower'\n"
     ]
    },
    {
     "name": "stderr",
     "output_type": "stream",
     "text": [
      "Separating healthy files:  19%|█▉        | 634/3309 [00:12<01:10, 37.70it/s]"
     ]
    },
    {
     "name": "stdout",
     "output_type": "stream",
     "text": [
      "An error occurred with 2df3b01d-1c4f-4efe-adae-75e35c0506d9: 'float' object has no attribute 'lower'\n",
      "An error occurred with 2e676765-29ea-47f6-828b-ab9923a23080: 'float' object has no attribute 'lower'\n",
      "An error occurred with 2e9510f3-3e58-4a9d-9e2a-685df93c80e9: 'float' object has no attribute 'lower'\n",
      "An error occurred with 2ec7f7af-42ab-48f9-8c52-64246dae757b: 'float' object has no attribute 'lower'\n",
      "An error occurred with 2f29ecb6-b231-4882-bd8e-0a215e96edf1: 'float' object has no attribute 'lower'\n"
     ]
    },
    {
     "name": "stderr",
     "output_type": "stream",
     "text": [
      "Separating healthy files:  19%|█▉        | 643/3309 [00:12<01:00, 44.19it/s]"
     ]
    },
    {
     "name": "stdout",
     "output_type": "stream",
     "text": [
      "An error occurred with 2f787d45-7fae-4ee4-96de-2a62db71b10a: 'float' object has no attribute 'lower'\n",
      "An error occurred with 2f92833e-1032-4c75-bbd2-b3afe532d5a4: 'float' object has no attribute 'lower'\n",
      "An error occurred with 2fc30240-9216-4c4d-8818-e31812dadb59: 'float' object has no attribute 'lower'\n",
      "An error occurred with 2fd5b0d4-5791-439c-a42c-9a7283d90827: 'float' object has no attribute 'lower'\n"
     ]
    },
    {
     "name": "stderr",
     "output_type": "stream",
     "text": [
      "Separating healthy files:  20%|█▉        | 648/3309 [00:12<01:17, 34.53it/s]"
     ]
    },
    {
     "name": "stdout",
     "output_type": "stream",
     "text": [
      "An error occurred with 301c78b0-718c-45e9-afea-fb14f55f698c: 'float' object has no attribute 'lower'\n"
     ]
    },
    {
     "name": "stderr",
     "output_type": "stream",
     "text": [
      "Separating healthy files:  20%|█▉        | 656/3309 [00:13<01:35, 27.79it/s]"
     ]
    },
    {
     "name": "stdout",
     "output_type": "stream",
     "text": [
      "An error occurred with 30bff11d-21dd-495e-b3b6-3a8810319edb: 'float' object has no attribute 'lower'\n",
      "An error occurred with 30cb4386-a20f-44d1-b1a8-5e9d3c578e66: 'float' object has no attribute 'lower'\n",
      "An error occurred with 3133fb2a-84fa-44c1-8412-f0462d6791d9: 'float' object has no attribute 'lower'\n",
      "An error occurred with 314ab1b0-0843-4004-9f3d-f0461fea4077: 'float' object has no attribute 'lower'\n",
      "An error occurred with 3156724d-5756-487b-903a-17464188aa17: 'float' object has no attribute 'lower'\n"
     ]
    },
    {
     "name": "stderr",
     "output_type": "stream",
     "text": [
      "Separating healthy files:  21%|██        | 679/3309 [00:13<00:56, 46.83it/s]"
     ]
    },
    {
     "name": "stdout",
     "output_type": "stream",
     "text": [
      "An error occurred with 31f16f83-af48-4f19-8d8e-977effd43ca6: 'float' object has no attribute 'lower'\n",
      "An error occurred with 3250009b-d31b-4b01-8a45-d6b68c179f45: 'float' object has no attribute 'lower'\n",
      "An error occurred with 32586a3c-f636-446e-97d9-32bcd139aad3: 'float' object has no attribute 'lower'\n",
      "An error occurred with 3275d909-96b7-4c00-896f-01bf55496162: 'float' object has no attribute 'lower'\n",
      "An error occurred with 328aa8db-4cab-4f5d-9374-563116dc0297: 'float' object has no attribute 'lower'\n",
      "An error occurred with 3297fc46-4a24-4591-9db4-d0df9f7d3dba: 'float' object has no attribute 'lower'\n"
     ]
    },
    {
     "name": "stderr",
     "output_type": "stream",
     "text": [
      "Separating healthy files:  21%|██        | 685/3309 [00:13<01:01, 42.74it/s]"
     ]
    },
    {
     "name": "stdout",
     "output_type": "stream",
     "text": [
      "An error occurred with 32d132cb-5589-400a-8c89-4ac553c893d4: 'float' object has no attribute 'lower'\n",
      "An error occurred with 32f45be9-a6fb-4f68-8861-a42aba5a7e70: 'float' object has no attribute 'lower'\n",
      "An error occurred with 32fe9c5d-37e2-442b-b096-ae89b48fdae7: 'float' object has no attribute 'lower'\n",
      "An error occurred with 3335b27b-ea9e-464c-b892-a6d9587054b1: 'float' object has no attribute 'lower'\n",
      "An error occurred with 3337ec20-1485-4efa-a443-4239ee2a250a: 'float' object has no attribute 'lower'\n",
      "An error occurred with 33432c5e-6636-45e8-904e-905d67dfd9bb: 'float' object has no attribute 'lower'\n"
     ]
    },
    {
     "name": "stderr",
     "output_type": "stream",
     "text": [
      "Separating healthy files:  21%|██        | 697/3309 [00:14<01:03, 41.29it/s]"
     ]
    },
    {
     "name": "stdout",
     "output_type": "stream",
     "text": [
      "An error occurred with 33a19138-0b7a-4bd4-a147-4708bc43c852: 'float' object has no attribute 'lower'\n",
      "An error occurred with 33eb267a-5533-4b12-acf8-ae0a90119019: 'float' object has no attribute 'lower'\n"
     ]
    },
    {
     "name": "stderr",
     "output_type": "stream",
     "text": [
      "Separating healthy files:  21%|██▏       | 706/3309 [00:14<01:25, 30.61it/s]"
     ]
    },
    {
     "name": "stdout",
     "output_type": "stream",
     "text": [
      "An error occurred with 3415236d-4397-464f-9b18-d30ca1f61bf2: 'float' object has no attribute 'lower'\n",
      "An error occurred with 3417ee10-3b82-4647-ae5c-14dd6c396c29: 'float' object has no attribute 'lower'\n",
      "An error occurred with 3483192d-d823-4022-b268-f0f7088b9c61: 'float' object has no attribute 'lower'\n",
      "An error occurred with 349a80c2-0797-4ea3-8811-a072287a2e49: 'float' object has no attribute 'lower'\n"
     ]
    },
    {
     "name": "stderr",
     "output_type": "stream",
     "text": [
      "Separating healthy files:  22%|██▏       | 714/3309 [00:14<01:23, 31.18it/s]"
     ]
    },
    {
     "name": "stdout",
     "output_type": "stream",
     "text": [
      "An error occurred with 34a9d5d3-ccd3-495a-b943-f64567be62ca: 'float' object has no attribute 'lower'\n",
      "An error occurred with 34c42709-231d-47b0-a076-cac2ed610c05: 'float' object has no attribute 'lower'\n",
      "An error occurred with 34ef8b67-0af1-49e1-b337-4d48bb4f9c3e: 'float' object has no attribute 'lower'\n",
      "An error occurred with 34fd1449-1e51-4f0a-a9e3-e1457f2ff681: 'float' object has no attribute 'lower'\n"
     ]
    },
    {
     "name": "stderr",
     "output_type": "stream",
     "text": [
      "Separating healthy files:  22%|██▏       | 724/3309 [00:15<01:14, 34.80it/s]"
     ]
    },
    {
     "name": "stdout",
     "output_type": "stream",
     "text": [
      "An error occurred with 351c6c99-2ab7-41ba-8e2d-fd6e604c7c0d: 'float' object has no attribute 'lower'\n",
      "An error occurred with 352710b2-a764-422a-b614-b980ff5a13f3: 'float' object has no attribute 'lower'\n",
      "An error occurred with 357e78eb-a64b-4c06-a250-3c4569ccd4d9: 'float' object has no attribute 'lower'\n",
      "An error occurred with 3584f84d-0617-4fff-b25e-0ebfdb255a95: 'float' object has no attribute 'lower'\n",
      "An error occurred with 35d64633-e14e-450d-9592-1e507933aed7: 'float' object has no attribute 'lower'\n",
      "An error occurred with 35e189f4-af19-44f8-be6f-558e986cd3af: 'float' object has no attribute 'lower'\n"
     ]
    },
    {
     "name": "stderr",
     "output_type": "stream",
     "text": [
      "Separating healthy files:  22%|██▏       | 734/3309 [00:15<01:04, 39.91it/s]"
     ]
    },
    {
     "name": "stdout",
     "output_type": "stream",
     "text": [
      "An error occurred with 3621f40b-00d2-4131-8f3f-3617ccff8996: 'float' object has no attribute 'lower'\n",
      "An error occurred with 364f21f1-e2fa-46be-a12d-2a2b6304e07f: 'float' object has no attribute 'lower'\n",
      "An error occurred with 368d228a-c7ad-46e9-88fc-77ce50f415bc: 'float' object has no attribute 'lower'\n",
      "An error occurred with 369d9366-15b2-40d6-a71e-b959ba16fca8: 'float' object has no attribute 'lower'\n"
     ]
    },
    {
     "name": "stderr",
     "output_type": "stream",
     "text": [
      "Separating healthy files:  22%|██▏       | 744/3309 [00:15<01:10, 36.38it/s]"
     ]
    },
    {
     "name": "stdout",
     "output_type": "stream",
     "text": [
      "An error occurred with 3705b2ed-349e-4f70-baa1-36b3d846630f: 'float' object has no attribute 'lower'\n"
     ]
    },
    {
     "name": "stderr",
     "output_type": "stream",
     "text": [
      "Separating healthy files:  23%|██▎       | 756/3309 [00:16<01:24, 30.27it/s]"
     ]
    },
    {
     "name": "stdout",
     "output_type": "stream",
     "text": [
      "An error occurred with 375eefb7-86da-46ad-ae46-cd7c6dadd7e9: 'float' object has no attribute 'lower'\n",
      "An error occurred with 37fc2c98-dda7-46bb-8911-e0c8c11f631f: 'float' object has no attribute 'lower'\n"
     ]
    },
    {
     "name": "stderr",
     "output_type": "stream",
     "text": [
      "Separating healthy files:  23%|██▎       | 770/3309 [00:16<01:01, 41.60it/s]"
     ]
    },
    {
     "name": "stdout",
     "output_type": "stream",
     "text": [
      "An error occurred with 380d9de5-7cc0-4cf3-a77d-c0018abb0d58: 'float' object has no attribute 'lower'\n",
      "An error occurred with 38799b8c-79d6-4ce2-ad8f-2f0f29ada1d6: 'float' object has no attribute 'lower'\n",
      "An error occurred with 388be183-62e0-40ef-9ed4-5452c30f1a3e: 'float' object has no attribute 'lower'\n",
      "An error occurred with 389bd309-7d75-4476-aa4a-7c73202d32f9: 'float' object has no attribute 'lower'\n",
      "An error occurred with 38a514a3-efe5-4275-8148-f23969b64bf7: 'float' object has no attribute 'lower'\n",
      "An error occurred with 38af5ada-8c18-441c-a098-2c0a67954223: 'float' object has no attribute 'lower'\n",
      "An error occurred with 38c4b37b-a3b9-473a-a751-18656598df6c: 'float' object has no attribute 'lower'\n"
     ]
    },
    {
     "name": "stderr",
     "output_type": "stream",
     "text": [
      "Separating healthy files:  23%|██▎       | 775/3309 [00:16<01:01, 41.19it/s]"
     ]
    },
    {
     "name": "stdout",
     "output_type": "stream",
     "text": [
      "An error occurred with 38e0ad8b-d403-446b-a955-f5b7ef512dab: 'float' object has no attribute 'lower'\n",
      "An error occurred with 38ffef65-c546-46d7-91d3-bd1f91802ead: 'float' object has no attribute 'lower'\n",
      "An error occurred with 3917a538-23a7-431b-984e-68b78a1ad14a: 'float' object has no attribute 'lower'\n",
      "An error occurred with 391e4f99-4e01-4e78-ba22-2cead292df99: 'float' object has no attribute 'lower'\n",
      "An error occurred with 395e6df1-c6e8-4203-a234-9c3f186a28dd: 'float' object has no attribute 'lower'\n",
      "An error occurred with 396b27b1-0a5f-4b2a-912b-fe9047b26708: 'float' object has no attribute 'lower'\n",
      "An error occurred with 39a1ed09-28a1-4c08-963b-b10925042a56: 'float' object has no attribute 'lower'\n"
     ]
    },
    {
     "name": "stderr",
     "output_type": "stream",
     "text": [
      "Separating healthy files:  24%|██▍       | 792/3309 [00:16<00:59, 42.06it/s]"
     ]
    },
    {
     "name": "stdout",
     "output_type": "stream",
     "text": [
      "An error occurred with 39d09015-f900-45be-bcdb-a404f29ab381: 'float' object has no attribute 'lower'\n",
      "An error occurred with 39d1aa75-3474-4493-a5d5-9f7c3dc18067: 'float' object has no attribute 'lower'\n",
      "An error occurred with 3a071947-ea17-4387-881b-4b0bb01d5364: 'float' object has no attribute 'lower'\n",
      "An error occurred with 3a4d074d-200e-4985-9ea2-290417935c6a: 'float' object has no attribute 'lower'\n",
      "An error occurred with 3a4dcc23-8290-4b78-b094-b68e650e0cbf: 'float' object has no attribute 'lower'\n"
     ]
    },
    {
     "name": "stderr",
     "output_type": "stream",
     "text": [
      "Separating healthy files:  24%|██▍       | 806/3309 [00:17<01:09, 35.84it/s]"
     ]
    },
    {
     "name": "stdout",
     "output_type": "stream",
     "text": [
      "An error occurred with 3a8e5154-0b3d-4be4-bc71-d806f8007a73: 'float' object has no attribute 'lower'\n",
      "An error occurred with 3ab3f29f-a13b-4b6b-bce9-22ade2c817a7: 'float' object has no attribute 'lower'\n",
      "An error occurred with 3abc7043-3b2b-463a-8ddb-0e5aef1736be: 'float' object has no attribute 'lower'\n",
      "An error occurred with 3ad13cb1-8544-400b-8bc8-30ee9c357af2: 'float' object has no attribute 'lower'\n",
      "An error occurred with 3b15d07d-b2fc-4b50-b15a-6eb321724908: 'float' object has no attribute 'lower'\n"
     ]
    },
    {
     "name": "stderr",
     "output_type": "stream",
     "text": [
      "Separating healthy files:  25%|██▍       | 816/3309 [00:17<01:10, 35.48it/s]"
     ]
    },
    {
     "name": "stdout",
     "output_type": "stream",
     "text": [
      "An error occurred with 3b6c1380-93b6-40ff-91ab-3c0bc329c22a: 'float' object has no attribute 'lower'\n",
      "An error occurred with 3baa16d6-2efd-465c-abed-f3ed3b76e504: 'float' object has no attribute 'lower'\n",
      "An error occurred with 3bb3e1fb-bdd4-4338-ae89-38b66a4d6ef2: 'float' object has no attribute 'lower'\n"
     ]
    },
    {
     "name": "stderr",
     "output_type": "stream",
     "text": [
      "Separating healthy files:  25%|██▍       | 820/3309 [00:17<01:22, 30.18it/s]"
     ]
    },
    {
     "name": "stdout",
     "output_type": "stream",
     "text": [
      "An error occurred with 3bf77b6a-064a-4709-95d9-0a327e844bae: 'float' object has no attribute 'lower'\n"
     ]
    },
    {
     "name": "stderr",
     "output_type": "stream",
     "text": [
      "Separating healthy files:  25%|██▌       | 832/3309 [00:18<02:16, 18.14it/s]"
     ]
    },
    {
     "name": "stdout",
     "output_type": "stream",
     "text": [
      "An error occurred with 3cf97714-a691-453c-8581-881638438ff5: 'float' object has no attribute 'lower'\n",
      "An error occurred with 3d4437cb-f041-4d26-bc96-0f178cb26306: 'float' object has no attribute 'lower'\n",
      "An error occurred with 3d86573c-9cd1-4073-9e97-e487a5ae17c9: 'float' object has no attribute 'lower'\n"
     ]
    },
    {
     "name": "stderr",
     "output_type": "stream",
     "text": [
      "Separating healthy files:  26%|██▌       | 848/3309 [00:18<01:07, 36.47it/s]"
     ]
    },
    {
     "name": "stdout",
     "output_type": "stream",
     "text": [
      "An error occurred with 3d9306d7-9487-4ded-94d1-f17216fa9194: 'float' object has no attribute 'lower'\n",
      "An error occurred with 3dd9a22c-93e2-4997-a616-9005653841dd: 'float' object has no attribute 'lower'\n",
      "An error occurred with 3de23d7e-8a48-4b18-af47-d0ba3e6c9d5e: 'float' object has no attribute 'lower'\n",
      "An error occurred with 3defafd2-7407-4bcf-b698-d1c9a09ce659: 'float' object has no attribute 'lower'\n",
      "An error occurred with 3e252981-72dc-4814-a630-dc139eacff09: 'float' object has no attribute 'lower'\n",
      "An error occurred with 3e69bd9f-7fd0-416e-8de3-e006f9e0c616: 'float' object has no attribute 'lower'\n",
      "An error occurred with 3e6aaba1-6d80-4950-9bf7-05817db54eee: 'float' object has no attribute 'lower'\n",
      "An error occurred with 3e872d8f-5b7f-4a75-b26a-3268217556e0: 'float' object has no attribute 'lower'\n",
      "An error occurred with 3f0b795e-f9de-4611-82b2-1f1d8a322aa5: 'float' object has no attribute 'lower'\n",
      "An error occurred with 3f1a9de1-ec9f-412a-b010-8529f8285f54: 'float' object has no attribute 'lower'\n",
      "An error occurred with 3f926ccc-f2e9-4b00-a5d7-98959730efb8: 'float' object has no attribute 'lower'\n"
     ]
    },
    {
     "name": "stderr",
     "output_type": "stream",
     "text": [
      "Separating healthy files:  26%|██▋       | 869/3309 [00:19<00:44, 54.41it/s]"
     ]
    },
    {
     "name": "stdout",
     "output_type": "stream",
     "text": [
      "An error occurred with 3faeaec9-2fa8-4f9a-b89f-ca5c0f49353b: 'float' object has no attribute 'lower'\n",
      "An error occurred with 3fcbb6f8-0f5d-4b27-8356-d9ab644df2eb: 'float' object has no attribute 'lower'\n",
      "An error occurred with 3fd77fd1-37af-410b-b8f6-0f844ccad574: 'float' object has no attribute 'lower'\n",
      "An error occurred with 401ab04e-f06a-450c-98c1-f5a29a7482d0: 'float' object has no attribute 'lower'\n",
      "An error occurred with 402bbf72-5c47-4e99-8c26-47d39320b565: 'float' object has no attribute 'lower'\n",
      "An error occurred with 40444caf-ef43-46d7-9db8-8e4f8655fd11: 'float' object has no attribute 'lower'\n",
      "An error occurred with 405b5af3-c410-4f78-bf5e-09158f204e89: 'float' object has no attribute 'lower'\n",
      "An error occurred with 408d1209-062a-4edc-9c73-83fd375dfd5d: 'float' object has no attribute 'lower'\n",
      "An error occurred with 40bde2e7-95fe-4920-ab88-8c4db4f3d536: 'float' object has no attribute 'lower'\n"
     ]
    },
    {
     "name": "stderr",
     "output_type": "stream",
     "text": [
      "Separating healthy files:  27%|██▋       | 882/3309 [00:19<00:47, 50.95it/s]"
     ]
    },
    {
     "name": "stdout",
     "output_type": "stream",
     "text": [
      "An error occurred with 4146ae06-d9be-487b-9a67-fe3ece3bc3c9: 'float' object has no attribute 'lower'\n",
      "An error occurred with 418298a2-5bd4-44b0-82b1-f46424762b2c: 'float' object has no attribute 'lower'\n",
      "An error occurred with 41b0ce37-6a9c-4e2c-b881-f23280b9ac9e: 'float' object has no attribute 'lower'\n"
     ]
    },
    {
     "name": "stderr",
     "output_type": "stream",
     "text": [
      "Separating healthy files:  27%|██▋       | 893/3309 [00:19<01:01, 39.15it/s]"
     ]
    },
    {
     "name": "stdout",
     "output_type": "stream",
     "text": [
      "An error occurred with 41d89385-bcd4-4a3f-a381-f367f04a4935: 'float' object has no attribute 'lower'\n",
      "An error occurred with 41dc382e-df98-4251-9cc7-bc8bf4923f2d: 'float' object has no attribute 'lower'\n",
      "An error occurred with 41ef1904-bdf6-4159-bc64-9718323128e1: 'float' object has no attribute 'lower'\n",
      "An error occurred with 42001f2a-6366-43fa-8914-2670a7a1fa14: 'float' object has no attribute 'lower'\n",
      "An error occurred with 4247fbbd-3666-4402-bba6-bb6afac203e6: 'float' object has no attribute 'lower'\n",
      "An error occurred with 42564c34-ed0a-4954-8816-f98afd1872a6: 'float' object has no attribute 'lower'\n"
     ]
    },
    {
     "name": "stderr",
     "output_type": "stream",
     "text": [
      "Separating healthy files:  28%|██▊       | 913/3309 [00:20<00:47, 50.43it/s]"
     ]
    },
    {
     "name": "stdout",
     "output_type": "stream",
     "text": [
      "An error occurred with 42d1d0e2-97ea-4855-85b5-77e044ba09c9: 'float' object has no attribute 'lower'\n",
      "An error occurred with 42ee6c4a-a649-42cb-851f-2e9ef5e4715c: 'float' object has no attribute 'lower'\n",
      "An error occurred with 430cc515-e16b-4cac-9f59-7c4a3049adcd: 'float' object has no attribute 'lower'\n",
      "An error occurred with 4383c289-f4ac-4bcc-b4e9-3423149d86f0: 'float' object has no attribute 'lower'\n",
      "An error occurred with 43fa7d7e-b798-4ce7-b6f1-bd51df7eb368: 'float' object has no attribute 'lower'\n"
     ]
    },
    {
     "name": "stderr",
     "output_type": "stream",
     "text": [
      "Separating healthy files:  28%|██▊       | 933/3309 [00:20<00:51, 46.11it/s]"
     ]
    },
    {
     "name": "stdout",
     "output_type": "stream",
     "text": [
      "An error occurred with 4488bba5-a191-4bb1-b4ea-5b8f7e852b29: 'float' object has no attribute 'lower'\n",
      "An error occurred with 44b77026-7a10-4e80-ae85-940c72d551bd: 'float' object has no attribute 'lower'\n",
      "An error occurred with 4539fce5-809b-4d4e-aa0a-243ab8164649: 'float' object has no attribute 'lower'\n"
     ]
    },
    {
     "name": "stderr",
     "output_type": "stream",
     "text": [
      "Separating healthy files:  28%|██▊       | 938/3309 [00:20<00:53, 44.07it/s]"
     ]
    },
    {
     "name": "stdout",
     "output_type": "stream",
     "text": [
      "An error occurred with 45ada70b-ddee-44d2-85f2-41d268b44d3f: 'float' object has no attribute 'lower'\n",
      "An error occurred with 45f74735-292e-4c41-999f-03852ca604e9: 'float' object has no attribute 'lower'\n",
      "An error occurred with 4600da3a-7778-4ae6-969c-043e8a71163d: 'float' object has no attribute 'lower'\n"
     ]
    },
    {
     "name": "stderr",
     "output_type": "stream",
     "text": [
      "Separating healthy files:  29%|██▊       | 949/3309 [00:21<01:13, 32.16it/s]"
     ]
    },
    {
     "name": "stdout",
     "output_type": "stream",
     "text": [
      "An error occurred with 4613caf3-290c-45c0-9f66-f09fc257662a: 'float' object has no attribute 'lower'\n"
     ]
    },
    {
     "name": "stderr",
     "output_type": "stream",
     "text": [
      "Separating healthy files:  29%|██▉       | 958/3309 [00:21<01:09, 33.71it/s]"
     ]
    },
    {
     "name": "stdout",
     "output_type": "stream",
     "text": [
      "An error occurred with 47013905-ab94-44a3-a14b-608f7e03a856: 'float' object has no attribute 'lower'\n",
      "An error occurred with 47ca4f9e-7ef9-4c22-bd98-8b1d8870058b: 'float' object has no attribute 'lower'\n",
      "An error occurred with 482e7907-fb2b-49a0-88ef-37c1e0c2ea66: 'float' object has no attribute 'lower'\n"
     ]
    },
    {
     "name": "stderr",
     "output_type": "stream",
     "text": [
      "Separating healthy files:  29%|██▉       | 972/3309 [00:21<01:01, 38.21it/s]"
     ]
    },
    {
     "name": "stdout",
     "output_type": "stream",
     "text": [
      "An error occurred with 4870ce59-3076-454e-9dcc-78b751b3b21b: 'float' object has no attribute 'lower'\n",
      "An error occurred with 48bc4e14-8a49-485e-a13b-e71ef33c37bb: 'float' object has no attribute 'lower'\n"
     ]
    },
    {
     "name": "stderr",
     "output_type": "stream",
     "text": [
      "Separating healthy files:  30%|██▉       | 981/3309 [00:22<01:24, 27.62it/s]"
     ]
    },
    {
     "name": "stdout",
     "output_type": "stream",
     "text": [
      "An error occurred with 492c965c-3c4f-4303-bd21-2335b0466059: 'float' object has no attribute 'lower'\n",
      "An error occurred with 496ef077-7914-47b3-a57d-679fdf22103c: 'float' object has no attribute 'lower'\n"
     ]
    },
    {
     "name": "stderr",
     "output_type": "stream",
     "text": [
      "Separating healthy files:  30%|███       | 1004/3309 [00:22<00:54, 42.45it/s]"
     ]
    },
    {
     "name": "stdout",
     "output_type": "stream",
     "text": [
      "An error occurred with 49f29f14-edf2-4a94-846d-102e6aef1f82: 'float' object has no attribute 'lower'\n",
      "An error occurred with 4a1e3c29-4b37-4e57-85b0-972b988b7691: 'float' object has no attribute 'lower'\n",
      "An error occurred with 4a4d2bc1-5ec0-4c78-b33e-3dd8de09fc8a: 'float' object has no attribute 'lower'\n",
      "An error occurred with 4a4d8908-3c7a-427f-bffb-96c775eb463a: 'float' object has no attribute 'lower'\n",
      "An error occurred with 4a5812cc-3551-4f8b-8c0c-098d1876b9e5: 'float' object has no attribute 'lower'\n",
      "An error occurred with 4accb9dc-fde1-4b1f-8429-bed26cf27d8a: 'float' object has no attribute 'lower'\n",
      "An error occurred with 4adc497b-5bad-4c8b-b734-5334c57189f2: 'float' object has no attribute 'lower'\n",
      "An error occurred with 4aec4c78-79af-4756-acc8-d73f8ee79c7d: 'float' object has no attribute 'lower'\n",
      "An error occurred with 4aeff364-4885-4a3c-95e5-f8dd1d165962: 'float' object has no attribute 'lower'\n",
      "An error occurred with 4af05bc4-1f05-42c6-be24-24ef7d27ef4b: 'float' object has no attribute 'lower'\n"
     ]
    },
    {
     "name": "stderr",
     "output_type": "stream",
     "text": [
      "Separating healthy files:  31%|███       | 1010/3309 [00:23<00:52, 43.94it/s]"
     ]
    },
    {
     "name": "stdout",
     "output_type": "stream",
     "text": [
      "An error occurred with 4b506809-7c63-4a81-9d5f-a3d3af71adda: 'float' object has no attribute 'lower'\n",
      "An error occurred with 4b58ac9e-89c8-429d-a8fc-bea8ec5549df: 'float' object has no attribute 'lower'\n",
      "An error occurred with 4b5ed308-2b7e-4992-8f68-18d1b490c996: 'float' object has no attribute 'lower'\n"
     ]
    },
    {
     "name": "stderr",
     "output_type": "stream",
     "text": [
      "Separating healthy files:  31%|███       | 1026/3309 [00:23<00:57, 39.39it/s]"
     ]
    },
    {
     "name": "stdout",
     "output_type": "stream",
     "text": [
      "An error occurred with 4c8fe8ec-757d-458a-8e21-1ccf274465e5: 'float' object has no attribute 'lower'\n",
      "An error occurred with 4d16fb77-aaa5-4068-9872-294881d2152d: 'float' object has no attribute 'lower'\n"
     ]
    },
    {
     "name": "stderr",
     "output_type": "stream",
     "text": [
      "Separating healthy files:  31%|███       | 1031/3309 [00:23<00:59, 38.46it/s]"
     ]
    },
    {
     "name": "stdout",
     "output_type": "stream",
     "text": [
      "An error occurred with 4d6168ce-13dc-46b9-a0e4-07330ea648f7: 'float' object has no attribute 'lower'\n",
      "An error occurred with 4dafbec2-ae18-4fd0-810e-3d5686361f15: 'float' object has no attribute 'lower'\n"
     ]
    },
    {
     "name": "stderr",
     "output_type": "stream",
     "text": [
      "Separating healthy files:  31%|███▏      | 1040/3309 [00:24<01:30, 25.07it/s]"
     ]
    },
    {
     "name": "stdout",
     "output_type": "stream",
     "text": [
      "An error occurred with 4e485319-5c02-420c-91fd-322469028b03: 'float' object has no attribute 'lower'\n",
      "An error occurred with 4e84cb3d-fe8c-4f52-a9ac-815dfb075ab7: 'float' object has no attribute 'lower'\n",
      "An error occurred with 4e940813-c59e-4894-986e-0aba080c7860: 'float' object has no attribute 'lower'\n",
      "An error occurred with 4ea8a795-431f-413e-b380-9d2abcec2338: 'float' object has no attribute 'lower'\n"
     ]
    },
    {
     "name": "stderr",
     "output_type": "stream",
     "text": [
      "Separating healthy files:  32%|███▏      | 1060/3309 [00:24<00:49, 45.09it/s]"
     ]
    },
    {
     "name": "stdout",
     "output_type": "stream",
     "text": [
      "An error occurred with 4f727ee8-9291-49b2-96a9-8321f3925230: 'float' object has no attribute 'lower'\n",
      "An error occurred with 50165ba9-ba50-4fd6-88f2-39c0abaa7bcc: 'float' object has no attribute 'lower'\n",
      "An error occurred with 502f457f-1932-437f-93e6-32d50af268b4: 'float' object has no attribute 'lower'\n",
      "An error occurred with 50654653-bc6e-4041-9db0-29ce6e716fd9: 'float' object has no attribute 'lower'\n",
      "An error occurred with 50718ef0-9624-47dc-a3a2-77b0c241ba21: 'float' object has no attribute 'lower'\n",
      "An error occurred with 5095a03d-c0a5-41fc-8e87-8d1627439193: 'float' object has no attribute 'lower'\n",
      "An error occurred with 50a4ae58-d3c1-4765-9888-d1469a052aff: 'float' object has no attribute 'lower'\n",
      "An error occurred with 50c98b8b-f16c-469f-9c65-ff6ff3ef0a3d: 'float' object has no attribute 'lower'\n"
     ]
    },
    {
     "name": "stderr",
     "output_type": "stream",
     "text": [
      "Separating healthy files:  32%|███▏      | 1066/3309 [00:24<00:50, 44.08it/s]"
     ]
    },
    {
     "name": "stdout",
     "output_type": "stream",
     "text": [
      "An error occurred with 511d9568-a374-48b3-b054-58560abd6342: 'float' object has no attribute 'lower'\n"
     ]
    },
    {
     "name": "stderr",
     "output_type": "stream",
     "text": [
      "Separating healthy files:  32%|███▏      | 1072/3309 [00:24<01:03, 35.42it/s]"
     ]
    },
    {
     "name": "stdout",
     "output_type": "stream",
     "text": [
      "An error occurred with 518dfc61-8aa1-43bb-b145-c3aa39ec5e2b: 'float' object has no attribute 'lower'\n"
     ]
    },
    {
     "name": "stderr",
     "output_type": "stream",
     "text": [
      "Separating healthy files:  33%|███▎      | 1077/3309 [00:25<01:14, 29.78it/s]"
     ]
    },
    {
     "name": "stdout",
     "output_type": "stream",
     "text": [
      "An error occurred with 51bb2379-5cb9-4c57-b512-cd21eaf01ab3: 'float' object has no attribute 'lower'\n",
      "An error occurred with 51d4182f-b953-4e98-8a50-6de1e97c15b3: 'float' object has no attribute 'lower'\n",
      "An error occurred with 51e4f362-c2d2-40c7-a535-e80999fc23b4: 'float' object has no attribute 'lower'\n"
     ]
    },
    {
     "name": "stderr",
     "output_type": "stream",
     "text": [
      "Separating healthy files:  33%|███▎      | 1091/3309 [00:25<01:10, 31.52it/s]"
     ]
    },
    {
     "name": "stdout",
     "output_type": "stream",
     "text": [
      "An error occurred with 523a2342-e11a-424b-86bf-010492349cfe: 'float' object has no attribute 'lower'\n",
      "An error occurred with 524e7c05-36b1-4615-b5a3-5e25babdf922: 'float' object has no attribute 'lower'\n",
      "An error occurred with 524fdcfb-cccc-4ad7-80fd-2b88dfcb819a: 'float' object has no attribute 'lower'\n",
      "An error occurred with 52b97b41-043b-42fa-9616-30913d9b777b: 'float' object has no attribute 'lower'\n",
      "An error occurred with 52c67c0d-0954-40ab-be0c-1946e986b2d5: 'float' object has no attribute 'lower'\n",
      "An error occurred with 52f8e804-cbf8-4fbe-9816-6c0751291580: 'float' object has no attribute 'lower'\n"
     ]
    },
    {
     "name": "stderr",
     "output_type": "stream",
     "text": [
      "Separating healthy files:  33%|███▎      | 1105/3309 [00:25<00:56, 39.30it/s]"
     ]
    },
    {
     "name": "stdout",
     "output_type": "stream",
     "text": [
      "An error occurred with 535d1bd9-a526-4393-88d4-3c9a5ce6b142: 'float' object has no attribute 'lower'\n",
      "An error occurred with 53d47a34-bb36-44d9-bd80-f9e6bd4ed60b: 'float' object has no attribute 'lower'\n",
      "An error occurred with 53e550fb-ef3e-452b-9b67-069e5e9ce08d: 'float' object has no attribute 'lower'\n",
      "An error occurred with 53eb5f64-2d44-481e-b132-4082130c4db4: 'float' object has no attribute 'lower'\n",
      "An error occurred with 54c2dab1-b526-482e-9be0-030d3bfbaf62: 'float' object has no attribute 'lower'\n",
      "An error occurred with 54e7464d-d41f-4e15-8031-c265b0602d21: 'float' object has no attribute 'lower'\n"
     ]
    },
    {
     "name": "stderr",
     "output_type": "stream",
     "text": [
      "Separating healthy files:  34%|███▍      | 1126/3309 [00:26<00:50, 43.42it/s]"
     ]
    },
    {
     "name": "stdout",
     "output_type": "stream",
     "text": [
      "An error occurred with 55c3fb11-8985-4c75-baff-9c39f7a97352: 'float' object has no attribute 'lower'\n",
      "An error occurred with 55ee94de-9a2c-4ce4-a54c-1ce1b2a51dcf: 'float' object has no attribute 'lower'\n",
      "An error occurred with 562500a0-6157-42b4-8fde-a388268a4d2d: 'float' object has no attribute 'lower'\n"
     ]
    },
    {
     "name": "stderr",
     "output_type": "stream",
     "text": [
      "Separating healthy files:  35%|███▍      | 1147/3309 [00:26<00:48, 44.16it/s]"
     ]
    },
    {
     "name": "stdout",
     "output_type": "stream",
     "text": [
      "An error occurred with 57198d2b-d311-444e-821e-90b4be88a59c: 'float' object has no attribute 'lower'\n",
      "An error occurred with 574c8fc2-d8eb-4412-a7ac-8ac4ae768eed: 'float' object has no attribute 'lower'\n",
      "An error occurred with 575185d8-ab48-417a-a582-f3cb5cb92b50: 'float' object has no attribute 'lower'\n",
      "An error occurred with 576bbed6-2ff4-4153-9199-cdb97bd9a5e8: 'float' object has no attribute 'lower'\n",
      "An error occurred with 57b30084-7527-417a-b900-70942a10828e: 'float' object has no attribute 'lower'\n",
      "An error occurred with 57c484dc-7c81-40e5-b395-9d10acfa7202: 'float' object has no attribute 'lower'\n",
      "An error occurred with 57d5d0e0-06a4-4aaa-bcb3-0f23ca2702cf: 'float' object has no attribute 'lower'\n",
      "An error occurred with 57e0ae81-dd23-4717-8eea-bcfa13ef685c: 'float' object has no attribute 'lower'\n",
      "An error occurred with 57f2bd4c-a8ca-49e8-84e0-1cdd52179b7c: 'float' object has no attribute 'lower'\n",
      "An error occurred with 58743958-40e2-40cc-86c4-5662a84d6d67: 'float' object has no attribute 'lower'\n"
     ]
    },
    {
     "name": "stderr",
     "output_type": "stream",
     "text": [
      "Separating healthy files:  35%|███▌      | 1159/3309 [00:27<00:49, 43.76it/s]"
     ]
    },
    {
     "name": "stdout",
     "output_type": "stream",
     "text": [
      "An error occurred with 58ac1b5a-276c-42b4-a82c-718bdfd7274f: 'float' object has no attribute 'lower'\n"
     ]
    },
    {
     "name": "stderr",
     "output_type": "stream",
     "text": [
      "Separating healthy files:  35%|███▌      | 1164/3309 [00:27<00:52, 41.02it/s]"
     ]
    },
    {
     "name": "stdout",
     "output_type": "stream",
     "text": [
      "An error occurred with 590b2d09-5025-4c11-bb64-c4fd8a3c50da: 'float' object has no attribute 'lower'\n"
     ]
    },
    {
     "name": "stderr",
     "output_type": "stream",
     "text": [
      "Separating healthy files:  36%|███▌      | 1177/3309 [00:28<01:27, 24.32it/s]"
     ]
    },
    {
     "name": "stdout",
     "output_type": "stream",
     "text": [
      "An error occurred with 5921a0ae-0ce1-4401-ab06-40914cb852b0: 'float' object has no attribute 'lower'\n",
      "An error occurred with 593411f6-2445-4a7f-90f5-1cfd9d98bfbb: 'float' object has no attribute 'lower'\n",
      "An error occurred with 59613146-d613-4c18-a05e-d236f06621a8: 'float' object has no attribute 'lower'\n",
      "An error occurred with 59a15ba4-0dc1-4d88-8bb9-a7c350032932: 'float' object has no attribute 'lower'\n",
      "An error occurred with 59bfd6cd-7513-4be4-8b9c-b0e283ba9c31: 'float' object has no attribute 'lower'\n",
      "An error occurred with 5a0df80c-aab1-422e-a1eb-3c03a07af052: 'float' object has no attribute 'lower'\n"
     ]
    },
    {
     "name": "stderr",
     "output_type": "stream",
     "text": [
      "Separating healthy files:  36%|███▌      | 1187/3309 [00:28<01:19, 26.66it/s]"
     ]
    },
    {
     "name": "stdout",
     "output_type": "stream",
     "text": [
      "An error occurred with 5a7f718e-1b23-4886-95e2-e6fb7731f87b: 'float' object has no attribute 'lower'\n",
      "An error occurred with 5a999bc8-db52-4e29-aeb2-79ac9bb29eb6: 'float' object has no attribute 'lower'\n",
      "An error occurred with 5b0d2a69-d69e-4248-bbab-1cbe18e81f0e: 'float' object has no attribute 'lower'\n",
      "An error occurred with 5b19c158-bc2f-4690-9048-73d2bbe63bf3: 'float' object has no attribute 'lower'\n"
     ]
    },
    {
     "name": "stderr",
     "output_type": "stream",
     "text": [
      "Separating healthy files:  36%|███▌      | 1195/3309 [00:28<01:11, 29.45it/s]"
     ]
    },
    {
     "name": "stdout",
     "output_type": "stream",
     "text": [
      "An error occurred with 5b46f89e-9b01-4cf2-90c7-9cd3d03fda8f: 'float' object has no attribute 'lower'\n",
      "An error occurred with 5b72b1f0-49b7-4ceb-991b-329935b1cff6: 'float' object has no attribute 'lower'\n",
      "An error occurred with 5b98da67-52c2-4a9a-8333-e5e3eaffb50c: 'float' object has no attribute 'lower'\n",
      "An error occurred with 5ba34417-def5-48e4-8b25-90bb5fbbe346: 'float' object has no attribute 'lower'\n"
     ]
    },
    {
     "name": "stderr",
     "output_type": "stream",
     "text": [
      "Separating healthy files:  36%|███▌      | 1199/3309 [00:29<01:27, 24.17it/s]"
     ]
    },
    {
     "name": "stdout",
     "output_type": "stream",
     "text": [
      "An error occurred with 5bdba74a-872e-4436-ac59-bd7af028a132: 'float' object has no attribute 'lower'\n"
     ]
    },
    {
     "name": "stderr",
     "output_type": "stream",
     "text": [
      "Separating healthy files:  37%|███▋      | 1215/3309 [00:29<01:12, 28.75it/s]"
     ]
    },
    {
     "name": "stdout",
     "output_type": "stream",
     "text": [
      "An error occurred with 5c509ac7-897b-4243-b0d6-2f59f3d700fa: 'float' object has no attribute 'lower'\n",
      "An error occurred with 5caf2506-2960-45e4-9a29-af93d67ae4bf: 'float' object has no attribute 'lower'\n",
      "An error occurred with 5cdbc825-e48a-41d8-98a8-6357f72e4ca6: 'float' object has no attribute 'lower'\n",
      "An error occurred with 5ce6405b-54cf-40bf-b56e-f5526c40a1e0: 'float' object has no attribute 'lower'\n",
      "An error occurred with 5cfd4745-d255-4b21-8ec0-aa80fdd41dc5: 'float' object has no attribute 'lower'\n"
     ]
    },
    {
     "name": "stderr",
     "output_type": "stream",
     "text": [
      "Separating healthy files:  37%|███▋      | 1227/3309 [00:30<01:13, 28.28it/s]"
     ]
    },
    {
     "name": "stdout",
     "output_type": "stream",
     "text": [
      "An error occurred with 5d322b92-b11c-435f-b12d-20149d3234c1: 'float' object has no attribute 'lower'\n",
      "An error occurred with 5d39f62b-39ee-47cb-b0d2-7898e603b556: 'float' object has no attribute 'lower'\n"
     ]
    },
    {
     "name": "stderr",
     "output_type": "stream",
     "text": [
      "Separating healthy files:  37%|███▋      | 1231/3309 [00:30<01:08, 30.26it/s]"
     ]
    },
    {
     "name": "stdout",
     "output_type": "stream",
     "text": [
      "An error occurred with 5d5434b5-0299-4b8f-9d1e-274ee55caae0: 'float' object has no attribute 'lower'\n"
     ]
    },
    {
     "name": "stderr",
     "output_type": "stream",
     "text": [
      "Separating healthy files:  38%|███▊      | 1243/3309 [00:30<01:13, 28.24it/s]"
     ]
    },
    {
     "name": "stdout",
     "output_type": "stream",
     "text": [
      "An error occurred with 5e1d1c24-d040-4aac-a533-ab0a8beca237: 'float' object has no attribute 'lower'\n",
      "An error occurred with 5e6deefd-2099-4e0a-a8b5-ff4f84687c7f: 'float' object has no attribute 'lower'\n"
     ]
    },
    {
     "name": "stderr",
     "output_type": "stream",
     "text": [
      "Separating healthy files:  38%|███▊      | 1255/3309 [00:31<01:07, 30.29it/s]"
     ]
    },
    {
     "name": "stdout",
     "output_type": "stream",
     "text": [
      "An error occurred with 5ed07a5c-a217-48c0-ba93-2c4a8af31983: 'float' object has no attribute 'lower'\n",
      "An error occurred with 5ee2f247-7c81-44da-82da-2f53a328df99: 'float' object has no attribute 'lower'\n",
      "An error occurred with 5f37d916-60e0-48d7-a441-96968f3193e1: 'float' object has no attribute 'lower'\n",
      "An error occurred with 5f6bcf08-7d22-4f3e-8394-1a4b9e579096: 'float' object has no attribute 'lower'\n",
      "An error occurred with 5f7ce25d-06eb-42a7-a02c-786e1f75ec09: 'float' object has no attribute 'lower'\n"
     ]
    },
    {
     "name": "stderr",
     "output_type": "stream",
     "text": [
      "Separating healthy files:  38%|███▊      | 1270/3309 [00:31<00:41, 49.60it/s]"
     ]
    },
    {
     "name": "stdout",
     "output_type": "stream",
     "text": [
      "An error occurred with 6007fc24-1496-44a4-8c76-77e573fd5570: 'float' object has no attribute 'lower'\n",
      "An error occurred with 6032223c-0037-4b03-b77e-0245fe57fc4b: 'float' object has no attribute 'lower'\n",
      "An error occurred with 60361ca2-57ab-4951-ad36-a4871c984212: 'float' object has no attribute 'lower'\n",
      "An error occurred with 6037ac6c-e4db-4507-be9e-5a93dd2b6e90: 'float' object has no attribute 'lower'\n",
      "An error occurred with 604c353c-90f8-4e4d-8d07-a09cab1e210f: 'float' object has no attribute 'lower'\n"
     ]
    },
    {
     "name": "stderr",
     "output_type": "stream",
     "text": [
      "Separating healthy files:  39%|███▉      | 1286/3309 [00:31<00:41, 48.54it/s]"
     ]
    },
    {
     "name": "stdout",
     "output_type": "stream",
     "text": [
      "An error occurred with 6138d0cf-2579-4bc2-ac10-98463aae5fb7: 'float' object has no attribute 'lower'\n",
      "An error occurred with 6154ba37-58a6-4c46-8b1a-5181a78dcdbb: 'float' object has no attribute 'lower'\n",
      "An error occurred with 6170eb61-ff6b-4c40-96b7-487eb1fd9452: 'float' object has no attribute 'lower'\n",
      "An error occurred with 61a3aa77-47fe-4582-8b97-89d41296c7dc: 'float' object has no attribute 'lower'\n",
      "An error occurred with 61cb1161-2238-4e9b-a188-918745559405: 'float' object has no attribute 'lower'\n",
      "An error occurred with 61dff0a1-e630-4019-9ec3-c195d22c79ed: 'float' object has no attribute 'lower'\n",
      "An error occurred with 61eaf641-5a63-438e-ad95-73efd43b8b54: 'float' object has no attribute 'lower'\n",
      "An error occurred with 623ab7ad-23be-4fe1-9872-793e9b156a2d: 'float' object has no attribute 'lower'\n"
     ]
    },
    {
     "name": "stderr",
     "output_type": "stream",
     "text": [
      "Separating healthy files:  40%|███▉      | 1308/3309 [00:31<00:38, 52.54it/s]"
     ]
    },
    {
     "name": "stdout",
     "output_type": "stream",
     "text": [
      "An error occurred with 628b91a1-857c-4369-847d-3e0e97286451: 'float' object has no attribute 'lower'\n"
     ]
    },
    {
     "name": "stderr",
     "output_type": "stream",
     "text": [
      "Separating healthy files:  40%|████      | 1325/3309 [00:32<00:52, 37.67it/s]"
     ]
    },
    {
     "name": "stdout",
     "output_type": "stream",
     "text": [
      "An error occurred with 639b2d82-b707-47b8-b1bc-93be2e185e19: 'float' object has no attribute 'lower'\n",
      "An error occurred with 63f32fec-74fb-455c-b522-1dddf81918ed: 'float' object has no attribute 'lower'\n",
      "An error occurred with 63fcb4a9-d440-4c1a-9d9e-b0954f28ce18: 'float' object has no attribute 'lower'\n",
      "An error occurred with 64307be6-9105-4d49-ab7a-a46d3a588ee5: 'float' object has no attribute 'lower'\n",
      "An error occurred with 649f3a96-535a-41ac-93e3-11f85656f062: 'float' object has no attribute 'lower'\n",
      "An error occurred with 64c5aeae-db36-48a9-b4e6-2359ce19cdf5: 'float' object has no attribute 'lower'\n",
      "An error occurred with 64ddb26b-252f-45a1-9b13-9a4aad96de62: 'float' object has no attribute 'lower'\n"
     ]
    },
    {
     "name": "stderr",
     "output_type": "stream",
     "text": [
      "Separating healthy files:  40%|████      | 1340/3309 [00:32<00:43, 45.17it/s]"
     ]
    },
    {
     "name": "stdout",
     "output_type": "stream",
     "text": [
      "An error occurred with 6540bdc3-cb70-4e12-bfe2-012e9b143dae: 'float' object has no attribute 'lower'\n",
      "An error occurred with 6558b120-cff7-41be-863a-68abab52ecfd: 'float' object has no attribute 'lower'\n",
      "An error occurred with 65649bd5-0db8-43fc-9812-28e5692fabfe: 'float' object has no attribute 'lower'\n"
     ]
    },
    {
     "name": "stderr",
     "output_type": "stream",
     "text": [
      "Separating healthy files:  41%|████      | 1346/3309 [00:32<00:43, 44.91it/s]"
     ]
    },
    {
     "name": "stdout",
     "output_type": "stream",
     "text": [
      "An error occurred with 663ef092-f340-4afa-9a81-b58a8fbcec9e: 'float' object has no attribute 'lower'\n",
      "An error occurred with 66a21389-037c-4ec9-9916-57555c6c110a: 'float' object has no attribute 'lower'\n"
     ]
    },
    {
     "name": "stderr",
     "output_type": "stream",
     "text": [
      "Separating healthy files:  41%|████      | 1363/3309 [00:33<00:46, 41.61it/s]"
     ]
    },
    {
     "name": "stdout",
     "output_type": "stream",
     "text": [
      "An error occurred with 66bb59fa-4e95-44ad-bc62-a197c95c2f8c: 'float' object has no attribute 'lower'\n",
      "An error occurred with 66c29eea-fe77-4238-8e00-36a9d01ec2d4: 'float' object has no attribute 'lower'\n",
      "An error occurred with 6702807e-6504-48ae-8bcf-32b466a1b3c5: 'float' object has no attribute 'lower'\n",
      "An error occurred with 6753f5f0-531b-417f-9797-87776462472c: 'float' object has no attribute 'lower'\n"
     ]
    },
    {
     "name": "stderr",
     "output_type": "stream",
     "text": [
      "Separating healthy files:  41%|████▏     | 1368/3309 [00:33<01:00, 32.03it/s]"
     ]
    },
    {
     "name": "stdout",
     "output_type": "stream",
     "text": [
      "An error occurred with 67a98d2f-35a9-4e9e-badb-e5f948ab22de: 'float' object has no attribute 'lower'\n"
     ]
    },
    {
     "name": "stderr",
     "output_type": "stream",
     "text": [
      "Separating healthy files:  42%|████▏     | 1375/3309 [00:33<00:51, 37.64it/s]"
     ]
    },
    {
     "name": "stdout",
     "output_type": "stream",
     "text": [
      "An error occurred with 67fdea4f-a298-4667-9fa2-e0d703d9ddc8: 'float' object has no attribute 'lower'\n",
      "An error occurred with 680a53cd-90d1-42d8-8f17-b7180884455d: 'float' object has no attribute 'lower'\n",
      "An error occurred with 684ff7ca-d1b3-4e58-8453-24f244098d6e: 'float' object has no attribute 'lower'\n",
      "An error occurred with 68deb246-b487-4ab1-b71e-625c2fc263f4: 'float' object has no attribute 'lower'\n",
      "An error occurred with 68f00911-ab87-4362-a003-e8c3195d3c41: 'float' object has no attribute 'lower'\n",
      "An error occurred with 68f16e0e-c3ec-45ca-9b0f-882be99f7ccd: 'float' object has no attribute 'lower'\n",
      "An error occurred with 6916fd2f-582f-42be-8a2e-3b41f3c78bfe: 'float' object has no attribute 'lower'\n",
      "An error occurred with 6926c269-d7fd-4080-b19b-31ba1ac3dc83: 'float' object has no attribute 'lower'\n"
     ]
    },
    {
     "name": "stderr",
     "output_type": "stream",
     "text": [
      "Separating healthy files:  42%|████▏     | 1388/3309 [00:34<00:52, 36.78it/s]"
     ]
    },
    {
     "name": "stdout",
     "output_type": "stream",
     "text": [
      "An error occurred with 69634a9c-11e7-441b-9e1c-bd7a7983a851: 'float' object has no attribute 'lower'\n",
      "An error occurred with 698e35fd-6015-4c6b-a5fd-04d0c2766734: 'float' object has no attribute 'lower'\n"
     ]
    },
    {
     "name": "stderr",
     "output_type": "stream",
     "text": [
      "Separating healthy files:  42%|████▏     | 1396/3309 [00:34<00:44, 43.12it/s]"
     ]
    },
    {
     "name": "stdout",
     "output_type": "stream",
     "text": [
      "An error occurred with 69d30058-f97a-4df1-92f8-135f8dfdcb69: 'float' object has no attribute 'lower'\n",
      "An error occurred with 69f65e89-3232-4b28-aa0d-4cd20157e765: 'float' object has no attribute 'lower'\n",
      "An error occurred with 6a1fe203-58d9-40d7-b9fa-3d573b24ac9e: 'float' object has no attribute 'lower'\n",
      "An error occurred with 6a204be9-f8ef-4b61-9138-5c0acd2e0fe3: 'float' object has no attribute 'lower'\n",
      "An error occurred with 6a3b770d-c8c3-4ade-809c-f2b8615bf75e: 'float' object has no attribute 'lower'\n",
      "An error occurred with 6a95a171-5cbb-45b0-a04f-a52243e04c84: 'float' object has no attribute 'lower'\n",
      "An error occurred with 6ac8d830-2f76-49db-a698-d0a7aed508c6: 'float' object has no attribute 'lower'\n"
     ]
    },
    {
     "name": "stderr",
     "output_type": "stream",
     "text": [
      "Separating healthy files:  43%|████▎     | 1408/3309 [00:34<00:41, 45.63it/s]"
     ]
    },
    {
     "name": "stdout",
     "output_type": "stream",
     "text": [
      "An error occurred with 6ad600e9-e8fe-4b75-90db-7806232b5c4c: 'float' object has no attribute 'lower'\n",
      "An error occurred with 6adf5ef2-eccd-44fa-b634-d6507a43edb3: 'float' object has no attribute 'lower'\n",
      "An error occurred with 6b4e17b2-1cf6-468c-8cc3-1ae8e02b3c76: 'float' object has no attribute 'lower'\n",
      "An error occurred with 6b4fab79-e4c3-4aaf-a001-7b727b664c08: 'float' object has no attribute 'lower'\n",
      "An error occurred with 6b94269f-fe2d-4faf-afa8-e86009c42f49: 'float' object has no attribute 'lower'\n",
      "An error occurred with 6b9d5b4e-70f6-4c94-bda1-0b5e66c4b6bf: 'float' object has no attribute 'lower'\n",
      "An error occurred with 6ba43d78-92de-429f-bb3d-e4cf926ad51b: 'float' object has no attribute 'lower'\n",
      "An error occurred with 6bba3dbb-431f-4429-9e6c-c89b601cf945: 'float' object has no attribute 'lower'\n",
      "An error occurred with 6bfcd3a9-0898-446c-b6c5-3e72c6c6cdd4: 'float' object has no attribute 'lower'\n",
      "An error occurred with 6c2619eb-0b55-49d4-9b5e-dcfacff6fac8: 'float' object has no attribute 'lower'\n"
     ]
    },
    {
     "name": "stderr",
     "output_type": "stream",
     "text": [
      "Separating healthy files:  43%|████▎     | 1426/3309 [00:34<00:35, 53.21it/s]"
     ]
    },
    {
     "name": "stdout",
     "output_type": "stream",
     "text": [
      "An error occurred with 6c675088-2d2e-4d9b-ab2f-3aca3b54f31c: 'float' object has no attribute 'lower'\n",
      "An error occurred with 6c7eab1c-0a50-47c6-8839-b0eb75dd1f87: 'float' object has no attribute 'lower'\n",
      "An error occurred with 6ca44e3f-5289-4d15-b40d-c7d34b27d890: 'float' object has no attribute 'lower'\n"
     ]
    },
    {
     "name": "stderr",
     "output_type": "stream",
     "text": [
      "Separating healthy files:  43%|████▎     | 1432/3309 [00:35<00:59, 31.77it/s]"
     ]
    },
    {
     "name": "stdout",
     "output_type": "stream",
     "text": [
      "An error occurred with 6cfb4be7-513b-4a6d-8908-a701765ddcaa: 'float' object has no attribute 'lower'\n",
      "An error occurred with 6d0fe5b3-68a8-4321-9608-956393afcdaf: 'float' object has no attribute 'lower'\n"
     ]
    },
    {
     "name": "stderr",
     "output_type": "stream",
     "text": [
      "Separating healthy files:  44%|████▎     | 1442/3309 [00:35<01:02, 29.75it/s]"
     ]
    },
    {
     "name": "stdout",
     "output_type": "stream",
     "text": [
      "An error occurred with 6d6a7578-dfe9-4568-8135-7852dd819e45: 'float' object has no attribute 'lower'\n",
      "An error occurred with 6dca2b9f-60d6-4e67-bca4-3242c6d2c21e: 'float' object has no attribute 'lower'\n",
      "An error occurred with 6ddcac11-f933-440a-ba0e-c6c379cc82b7: 'float' object has no attribute 'lower'\n"
     ]
    },
    {
     "name": "stderr",
     "output_type": "stream",
     "text": [
      "Separating healthy files:  44%|████▎     | 1447/3309 [00:35<00:58, 32.03it/s]"
     ]
    },
    {
     "name": "stdout",
     "output_type": "stream",
     "text": [
      "An error occurred with 6e5937b2-9309-4f90-b481-cb121a57ec2d: 'float' object has no attribute 'lower'\n",
      "An error occurred with 6eb32bee-f400-4b15-ba0f-109babf72c08: 'float' object has no attribute 'lower'\n",
      "An error occurred with 6ec1195b-06ce-40a8-9587-abfee4128639: 'float' object has no attribute 'lower'\n"
     ]
    },
    {
     "name": "stderr",
     "output_type": "stream",
     "text": [
      "Separating healthy files:  44%|████▍     | 1455/3309 [00:36<01:12, 25.41it/s]"
     ]
    },
    {
     "name": "stdout",
     "output_type": "stream",
     "text": [
      "An error occurred with 6f0309aa-6156-4e75-ad63-8cfd718295e8: 'float' object has no attribute 'lower'\n",
      "An error occurred with 6f188a19-6e63-4281-b804-8eea42b1b5da: 'float' object has no attribute 'lower'\n"
     ]
    },
    {
     "name": "stderr",
     "output_type": "stream",
     "text": [
      "Separating healthy files:  44%|████▍     | 1472/3309 [00:36<01:02, 29.60it/s]"
     ]
    },
    {
     "name": "stdout",
     "output_type": "stream",
     "text": [
      "An error occurred with 6f8e94a5-daea-4a75-941c-d4acd574a0ca: 'float' object has no attribute 'lower'\n",
      "An error occurred with 6f9df885-5d5d-4af4-abc7-bc57870b9fee: 'float' object has no attribute 'lower'\n",
      "An error occurred with 6fc2aee5-3f31-4d00-a0dd-7fee61377626: 'float' object has no attribute 'lower'\n",
      "An error occurred with 701a6b96-2303-4f5f-8299-2fb411b0b3ef: 'float' object has no attribute 'lower'\n"
     ]
    },
    {
     "name": "stderr",
     "output_type": "stream",
     "text": [
      "Separating healthy files:  45%|████▍     | 1476/3309 [00:36<01:00, 30.28it/s]"
     ]
    },
    {
     "name": "stdout",
     "output_type": "stream",
     "text": [
      "An error occurred with 704539df-a22a-4b74-8450-5b914df8fe06: 'float' object has no attribute 'lower'\n",
      "An error occurred with 7063f490-30af-4283-bc1a-c2bfd9f75e71: 'float' object has no attribute 'lower'\n",
      "An error occurred with 709e9469-4b31-4e9f-989c-196aba0973f0: 'float' object has no attribute 'lower'\n"
     ]
    },
    {
     "name": "stderr",
     "output_type": "stream",
     "text": [
      "Separating healthy files:  45%|████▍     | 1484/3309 [00:37<01:00, 30.01it/s]"
     ]
    },
    {
     "name": "stdout",
     "output_type": "stream",
     "text": [
      "An error occurred with 70b0fd78-6e4c-4d11-8d13-40a1d3d6c1bb: 'float' object has no attribute 'lower'\n",
      "An error occurred with 70d6fce1-a9e3-48c2-9ac6-8f68a7e43b0f: 'float' object has no attribute 'lower'\n",
      "An error occurred with 71029104-90ca-4314-bbb1-a38ad774140f: 'float' object has no attribute 'lower'\n"
     ]
    },
    {
     "name": "stderr",
     "output_type": "stream",
     "text": [
      "Separating healthy files:  45%|████▌     | 1492/3309 [00:37<01:08, 26.55it/s]"
     ]
    },
    {
     "name": "stdout",
     "output_type": "stream",
     "text": [
      "An error occurred with 7130e228-76dd-4f4d-be19-a6e193195640: 'float' object has no attribute 'lower'\n"
     ]
    },
    {
     "name": "stderr",
     "output_type": "stream",
     "text": [
      "Separating healthy files:  45%|████▌     | 1498/3309 [00:37<01:12, 24.98it/s]"
     ]
    },
    {
     "name": "stdout",
     "output_type": "stream",
     "text": [
      "An error occurred with 71a13cad-24a6-49d2-b8bc-071984733484: 'float' object has no attribute 'lower'\n",
      "An error occurred with 71bb5f42-b055-4a47-9133-4d1ffe4ba7f4: 'float' object has no attribute 'lower'\n",
      "An error occurred with 71c718bd-500d-42a1-8fbb-864028984621: 'float' object has no attribute 'lower'\n"
     ]
    },
    {
     "name": "stderr",
     "output_type": "stream",
     "text": [
      "Separating healthy files:  45%|████▌     | 1504/3309 [00:38<01:41, 17.73it/s]"
     ]
    },
    {
     "name": "stdout",
     "output_type": "stream",
     "text": [
      "An error occurred with 7228576a-15f5-454e-8a26-7d8c95532010: 'float' object has no attribute 'lower'\n",
      "An error occurred with 7245b350-2a95-4978-8af9-2401237f1c07: 'float' object has no attribute 'lower'\n"
     ]
    },
    {
     "name": "stderr",
     "output_type": "stream",
     "text": [
      "Separating healthy files:  46%|████▌     | 1513/3309 [00:38<01:23, 21.55it/s]"
     ]
    },
    {
     "name": "stdout",
     "output_type": "stream",
     "text": [
      "An error occurred with 72dfd77e-d195-4e3c-ac5f-da767985a966: 'float' object has no attribute 'lower'\n",
      "An error occurred with 7337b88b-48c7-4611-9d2e-d0be0292b117: 'float' object has no attribute 'lower'\n"
     ]
    },
    {
     "name": "stderr",
     "output_type": "stream",
     "text": [
      "Separating healthy files:  47%|████▋     | 1541/3309 [00:39<00:39, 45.01it/s]"
     ]
    },
    {
     "name": "stdout",
     "output_type": "stream",
     "text": [
      "An error occurred with 744503b8-52c0-4f82-94da-26db4464e398: 'float' object has no attribute 'lower'\n",
      "An error occurred with 746d1b7e-f171-475a-bba2-ff963b809fc0: 'float' object has no attribute 'lower'\n",
      "An error occurred with 751cd972-105f-417d-a46a-da3f9d019a53: 'float' object has no attribute 'lower'\n",
      "An error occurred with 752f43de-f454-4aa6-b783-6c15d1bc61e5: 'float' object has no attribute 'lower'\n",
      "An error occurred with 753ae915-2957-4e3f-a2cd-5de05a223807: 'float' object has no attribute 'lower'\n",
      "An error occurred with 756cd6c0-200f-4825-bff9-4e78a83981ea: 'float' object has no attribute 'lower'\n",
      "An error occurred with 75ab9dcd-3656-47a0-b89b-62a31265f704: 'float' object has no attribute 'lower'\n",
      "An error occurred with 75d8de0c-aeee-4cfa-91c0-dd996d648b6f: 'float' object has no attribute 'lower'\n",
      "An error occurred with 76032e90-8915-466d-9b0c-ef287d52ad1c: 'float' object has no attribute 'lower'\n"
     ]
    },
    {
     "name": "stderr",
     "output_type": "stream",
     "text": [
      "Separating healthy files:  47%|████▋     | 1557/3309 [00:40<00:58, 29.83it/s]"
     ]
    },
    {
     "name": "stdout",
     "output_type": "stream",
     "text": [
      "An error occurred with 7744e454-dd5c-4b65-9fad-4fe27bcb55b2: 'float' object has no attribute 'lower'\n",
      "An error occurred with 778271e8-47e9-4592-a6dd-fdc093d54fac: 'float' object has no attribute 'lower'\n",
      "An error occurred with 77b0f23c-2055-497d-be25-630971369fba: 'float' object has no attribute 'lower'\n"
     ]
    },
    {
     "name": "stderr",
     "output_type": "stream",
     "text": [
      "Separating healthy files:  47%|████▋     | 1565/3309 [00:40<00:55, 31.53it/s]"
     ]
    },
    {
     "name": "stdout",
     "output_type": "stream",
     "text": [
      "An error occurred with 77f0799c-eb86-4864-8e62-0dedf3939b45: 'float' object has no attribute 'lower'\n",
      "An error occurred with 78818b46-10bd-4dec-8d92-e88e6f2a3a40: 'float' object has no attribute 'lower'\n",
      "An error occurred with 788192cf-9291-4428-bbd3-3802dca81902: 'float' object has no attribute 'lower'\n",
      "An error occurred with 78b8f791-3967-4ab9-bc92-c65b3cc90620: 'float' object has no attribute 'lower'\n"
     ]
    },
    {
     "name": "stderr",
     "output_type": "stream",
     "text": [
      "Separating healthy files:  48%|████▊     | 1582/3309 [00:41<00:48, 35.68it/s]"
     ]
    },
    {
     "name": "stdout",
     "output_type": "stream",
     "text": [
      "An error occurred with 796a25c2-65c4-46ae-a574-4c4770f10023: 'float' object has no attribute 'lower'\n",
      "An error occurred with 79b592b9-845e-410b-a59f-5074835b8da9: 'float' object has no attribute 'lower'\n",
      "An error occurred with 79c7ffe4-cf98-4964-865d-6f97ec951b61: 'float' object has no attribute 'lower'\n",
      "An error occurred with 7a1d8116-9735-4e99-a5bf-f6a76a245c7b: 'float' object has no attribute 'lower'\n",
      "An error occurred with 7a385a20-7093-45fe-8b7a-1673290ece7f: 'float' object has no attribute 'lower'\n"
     ]
    },
    {
     "name": "stderr",
     "output_type": "stream",
     "text": [
      "Separating healthy files:  48%|████▊     | 1587/3309 [00:41<00:55, 30.82it/s]"
     ]
    },
    {
     "name": "stdout",
     "output_type": "stream",
     "text": [
      "An error occurred with 7a9afca5-043a-4ed7-840e-5c8ae76438e7: 'float' object has no attribute 'lower'\n",
      "An error occurred with 7ad2d260-166e-4198-8532-98c007ebe2db: 'float' object has no attribute 'lower'\n",
      "An error occurred with 7ae11d7b-c870-4c85-988b-cee014f03d98: 'float' object has no attribute 'lower'\n"
     ]
    },
    {
     "name": "stderr",
     "output_type": "stream",
     "text": [
      "Separating healthy files:  48%|████▊     | 1595/3309 [00:41<01:16, 22.42it/s]"
     ]
    },
    {
     "name": "stdout",
     "output_type": "stream",
     "text": [
      "An error occurred with 7b123a6d-d81d-4bc8-8b7c-853622be6d3c: 'float' object has no attribute 'lower'\n"
     ]
    },
    {
     "name": "stderr",
     "output_type": "stream",
     "text": [
      "Separating healthy files:  49%|████▊     | 1612/3309 [00:42<00:47, 35.76it/s]"
     ]
    },
    {
     "name": "stdout",
     "output_type": "stream",
     "text": [
      "An error occurred with 7c486482-dd79-4e9a-a306-d0380c5d4125: 'float' object has no attribute 'lower'\n",
      "An error occurred with 7c6275e3-7c02-4412-bc74-0eb912730aff: 'float' object has no attribute 'lower'\n",
      "An error occurred with 7d242e30-2edb-4ea4-8251-48a34b7ddab5: 'float' object has no attribute 'lower'\n",
      "An error occurred with 7d255961-4f5b-45d6-83c6-eef606c6d89d: 'float' object has no attribute 'lower'\n",
      "An error occurred with 7d38c2ad-ae72-46e8-94db-b4b426992b83: 'float' object has no attribute 'lower'\n",
      "An error occurred with 7d403b98-be15-4168-bfc4-5b52b4e9dc3b: 'float' object has no attribute 'lower'\n",
      "An error occurred with 7d6d60e9-0226-4862-9058-e9b51b0446ec: 'float' object has no attribute 'lower'\n",
      "An error occurred with 7dc70839-8a7f-48d6-81eb-0a8eb0bcdc69: 'float' object has no attribute 'lower'\n"
     ]
    },
    {
     "name": "stderr",
     "output_type": "stream",
     "text": [
      "Separating healthy files:  49%|████▉     | 1626/3309 [00:42<00:29, 56.63it/s]"
     ]
    },
    {
     "name": "stdout",
     "output_type": "stream",
     "text": [
      "An error occurred with 7e6069da-aabe-4ccb-83bb-5c46f44988c5: 'float' object has no attribute 'lower'\n",
      "An error occurred with 7e89301c-8571-444f-9f2f-9d15e2e4af94: 'float' object has no attribute 'lower'\n"
     ]
    },
    {
     "name": "stderr",
     "output_type": "stream",
     "text": [
      "Separating healthy files:  50%|████▉     | 1644/3309 [00:43<00:55, 30.18it/s]"
     ]
    },
    {
     "name": "stdout",
     "output_type": "stream",
     "text": [
      "An error occurred with 7fa1414f-2451-4139-89d8-364a9744fac9: 'float' object has no attribute 'lower'\n"
     ]
    },
    {
     "name": "stderr",
     "output_type": "stream",
     "text": [
      "Separating healthy files:  50%|████▉     | 1653/3309 [00:43<01:05, 25.20it/s]"
     ]
    },
    {
     "name": "stdout",
     "output_type": "stream",
     "text": [
      "An error occurred with 7fce48ea-a370-436d-aa44-e302c490a5e8: 'float' object has no attribute 'lower'\n",
      "An error occurred with 7fd19054-4f14-43fc-9bf7-de1523df135e: 'float' object has no attribute 'lower'\n",
      "An error occurred with 7ffcfdef-561e-4ec4-b93f-08f232fe256d: 'float' object has no attribute 'lower'\n",
      "An error occurred with 8034ad88-ee53-41bd-b55f-3e96bf932957: 'float' object has no attribute 'lower'\n",
      "An error occurred with 8088d145-e9e7-49e2-ba1d-b6239a12f97b: 'float' object has no attribute 'lower'\n",
      "An error occurred with 80bb5ebb-4c26-4651-a926-336c48b8fa03: 'float' object has no attribute 'lower'\n",
      "An error occurred with 80fa1994-2cad-447d-a862-7c608fcf0e48: 'float' object has no attribute 'lower'\n",
      "An error occurred with 8168f01e-ee43-4d8a-b752-6f07a20b8f71: 'float' object has no attribute 'lower'\n"
     ]
    },
    {
     "name": "stderr",
     "output_type": "stream",
     "text": [
      "Separating healthy files:  51%|█████     | 1673/3309 [00:44<00:56, 28.83it/s]"
     ]
    },
    {
     "name": "stdout",
     "output_type": "stream",
     "text": [
      "An error occurred with 8230050d-34bd-4a96-ae39-b39de558acc3: 'float' object has no attribute 'lower'\n",
      "An error occurred with 823f3bbf-7524-4725-85e2-796f7525418e: 'float' object has no attribute 'lower'\n"
     ]
    },
    {
     "name": "stderr",
     "output_type": "stream",
     "text": [
      "Separating healthy files:  51%|█████     | 1684/3309 [00:44<00:57, 28.29it/s]"
     ]
    },
    {
     "name": "stdout",
     "output_type": "stream",
     "text": [
      "An error occurred with 82cab932-7647-446e-8bba-04c92ea374fe: 'float' object has no attribute 'lower'\n",
      "An error occurred with 82e3fc98-8b39-4d6c-8274-ec152e79df2f: 'float' object has no attribute 'lower'\n",
      "An error occurred with 82ee6a5c-e410-4532-87d0-c807725fb037: 'float' object has no attribute 'lower'\n"
     ]
    },
    {
     "name": "stderr",
     "output_type": "stream",
     "text": [
      "Separating healthy files:  51%|█████▏    | 1697/3309 [00:45<01:16, 21.19it/s]"
     ]
    },
    {
     "name": "stdout",
     "output_type": "stream",
     "text": [
      "An error occurred with 83f43892-ca77-4e08-a134-983b9ff0b93f: 'float' object has no attribute 'lower'\n"
     ]
    },
    {
     "name": "stderr",
     "output_type": "stream",
     "text": [
      "Separating healthy files:  52%|█████▏    | 1717/3309 [00:45<00:35, 44.82it/s]"
     ]
    },
    {
     "name": "stdout",
     "output_type": "stream",
     "text": [
      "An error occurred with 845b621c-d5e3-4ac9-b832-4ae24239aa76: 'float' object has no attribute 'lower'\n",
      "An error occurred with 847b2743-0ff1-4846-beb1-49f0586e1aa6: 'float' object has no attribute 'lower'\n",
      "An error occurred with 84882776-6a48-4d8f-b871-8b25088bc33d: 'float' object has no attribute 'lower'\n",
      "An error occurred with 84b271b4-0ba9-4d44-950b-a66ecbf609aa: 'float' object has no attribute 'lower'\n",
      "An error occurred with 852bc72e-5513-40e6-aaee-b97305e28b85: 'float' object has no attribute 'lower'\n",
      "An error occurred with 85383a19-60d3-49f1-b93b-fe8bd8d7527c: 'float' object has no attribute 'lower'\n",
      "An error occurred with 85597bbc-c6f0-463b-acdf-c969afe15404: 'float' object has no attribute 'lower'\n",
      "An error occurred with 857b9095-6dc5-433b-b49e-a0a89594f322: 'float' object has no attribute 'lower'\n",
      "An error occurred with 85a2383c-d1fc-4795-9762-1c3b726bf3d5: 'float' object has no attribute 'lower'\n"
     ]
    },
    {
     "name": "stderr",
     "output_type": "stream",
     "text": [
      "Separating healthy files:  52%|█████▏    | 1735/3309 [00:47<01:35, 16.51it/s]"
     ]
    },
    {
     "name": "stdout",
     "output_type": "stream",
     "text": [
      "An error occurred with 87291805-8d31-413b-aa0a-f246525571c1: 'float' object has no attribute 'lower'\n",
      "An error occurred with 8737930f-0798-49f4-b5ed-8e1fca9b7815: 'float' object has no attribute 'lower'\n"
     ]
    },
    {
     "name": "stderr",
     "output_type": "stream",
     "text": [
      "Separating healthy files:  53%|█████▎    | 1744/3309 [00:48<01:39, 15.76it/s]"
     ]
    },
    {
     "name": "stdout",
     "output_type": "stream",
     "text": [
      "An error occurred with 87d0afed-32c2-451d-98ff-aeaab44ddcdd: 'float' object has no attribute 'lower'\n"
     ]
    },
    {
     "name": "stderr",
     "output_type": "stream",
     "text": [
      "Separating healthy files:  53%|█████▎    | 1753/3309 [00:48<01:03, 24.53it/s]"
     ]
    },
    {
     "name": "stdout",
     "output_type": "stream",
     "text": [
      "An error occurred with 886d7d8a-2250-483f-a7fb-c331da2b680e: 'float' object has no attribute 'lower'\n",
      "An error occurred with 88968756-9de0-4645-bb38-7a4d89d6cadb: 'float' object has no attribute 'lower'\n",
      "An error occurred with 88d90895-681e-48ce-91ca-7caf75c02e59: 'float' object has no attribute 'lower'\n",
      "An error occurred with 88f97e91-8acd-4453-9974-5b455b5ec79a: 'float' object has no attribute 'lower'\n",
      "An error occurred with 8931b53a-c0f9-44a0-8d4d-9a809eda4f00: 'float' object has no attribute 'lower'\n",
      "An error occurred with 89542139-70fa-4ac6-9ae7-7650fb6a310f: 'float' object has no attribute 'lower'\n",
      "An error occurred with 89575769-687b-48cd-96a3-86c94b9897dc: 'float' object has no attribute 'lower'\n",
      "An error occurred with 89a9ec16-00f8-4724-9037-a2ae3fc1ebf5: 'float' object has no attribute 'lower'\n"
     ]
    },
    {
     "name": "stderr",
     "output_type": "stream",
     "text": [
      "Separating healthy files:  53%|█████▎    | 1764/3309 [00:48<00:49, 31.38it/s]"
     ]
    },
    {
     "name": "stdout",
     "output_type": "stream",
     "text": [
      "An error occurred with 8a006b2d-4914-48fc-bfe8-11bc713ba434: 'float' object has no attribute 'lower'\n"
     ]
    },
    {
     "name": "stderr",
     "output_type": "stream",
     "text": [
      "Separating healthy files:  53%|█████▎    | 1768/3309 [00:48<00:55, 27.95it/s]"
     ]
    },
    {
     "name": "stdout",
     "output_type": "stream",
     "text": [
      "An error occurred with 8b035424-6704-49dc-b013-abfd1b46043c: 'float' object has no attribute 'lower'\n"
     ]
    },
    {
     "name": "stderr",
     "output_type": "stream",
     "text": [
      "Separating healthy files:  54%|█████▎    | 1775/3309 [00:49<01:16, 20.10it/s]"
     ]
    },
    {
     "name": "stdout",
     "output_type": "stream",
     "text": [
      "An error occurred with 8b30ec37-92f1-49e9-a936-aa58f64a08f6: 'float' object has no attribute 'lower'\n"
     ]
    },
    {
     "name": "stderr",
     "output_type": "stream",
     "text": [
      "Separating healthy files:  54%|█████▍    | 1785/3309 [00:49<00:54, 27.92it/s]"
     ]
    },
    {
     "name": "stdout",
     "output_type": "stream",
     "text": [
      "An error occurred with 8bb5682a-af44-484f-b8df-3692d1f1fcc1: 'float' object has no attribute 'lower'\n",
      "An error occurred with 8bc17f4a-d4ff-4420-8834-7d7641d37911: 'float' object has no attribute 'lower'\n",
      "An error occurred with 8c0d4d08-39fb-448d-93d3-6d4854544c3c: 'float' object has no attribute 'lower'\n",
      "An error occurred with 8c38799a-8c3e-4494-b569-7f6fc2259517: 'float' object has no attribute 'lower'\n"
     ]
    },
    {
     "name": "stderr",
     "output_type": "stream",
     "text": [
      "Separating healthy files:  54%|█████▍    | 1798/3309 [00:49<00:45, 32.98it/s]"
     ]
    },
    {
     "name": "stdout",
     "output_type": "stream",
     "text": [
      "An error occurred with 8c9da9af-d178-40e3-a0f9-22ed67eef008: 'float' object has no attribute 'lower'\n",
      "An error occurred with 8cfd9318-3b27-4720-84e5-ab1d81774da7: 'float' object has no attribute 'lower'\n",
      "An error occurred with 8d10654f-d1e0-4381-85ef-1bfd68de9981: 'float' object has no attribute 'lower'\n",
      "An error occurred with 8d351620-dbb1-40c1-8226-7e604bed02f0: 'float' object has no attribute 'lower'\n",
      "An error occurred with 8d63edd9-68d6-4d83-9a3a-0395cf6f36c9: 'float' object has no attribute 'lower'\n",
      "An error occurred with 8d72aa2c-794e-4c82-ba8e-ce5b8bd7eaf5: 'float' object has no attribute 'lower'\n",
      "An error occurred with 8d78994b-5b9e-4677-bc94-48c2f24a291a: 'float' object has no attribute 'lower'\n"
     ]
    },
    {
     "name": "stderr",
     "output_type": "stream",
     "text": [
      "Separating healthy files:  55%|█████▍    | 1807/3309 [00:49<00:34, 43.74it/s]"
     ]
    },
    {
     "name": "stdout",
     "output_type": "stream",
     "text": [
      "An error occurred with 8d9dc4c2-4ee9-4237-92a1-7e9f76b0614e: 'float' object has no attribute 'lower'\n"
     ]
    },
    {
     "name": "stderr",
     "output_type": "stream",
     "text": [
      "Separating healthy files:  55%|█████▌    | 1821/3309 [00:50<00:32, 45.65it/s]"
     ]
    },
    {
     "name": "stdout",
     "output_type": "stream",
     "text": [
      "An error occurred with 8e1d7094-334e-4440-86e7-f86169920ecc: 'float' object has no attribute 'lower'\n",
      "An error occurred with 8e3a846c-a277-4fb4-a3dd-4080dbc1806c: 'float' object has no attribute 'lower'\n",
      "An error occurred with 8e5529fc-97de-4cc8-86c9-22bb63c3f2d6: 'float' object has no attribute 'lower'\n",
      "An error occurred with 8e5a24f9-4d6b-4b8d-948f-51b9b6b56708: 'float' object has no attribute 'lower'\n",
      "An error occurred with 8e5ea21a-0113-4e9a-88a8-4ef22cda7ae1: 'float' object has no attribute 'lower'\n",
      "An error occurred with 8e84fd64-e821-4d3a-8b8a-29300f52584d: 'float' object has no attribute 'lower'\n",
      "An error occurred with 8ecccbe5-9075-4427-803c-5f68997d6984: 'float' object has no attribute 'lower'\n",
      "An error occurred with 8eee6b1f-3218-4653-8bf7-b98a0a6d1a45: 'float' object has no attribute 'lower'\n"
     ]
    },
    {
     "name": "stderr",
     "output_type": "stream",
     "text": [
      "Separating healthy files:  55%|█████▌    | 1831/3309 [00:50<00:41, 35.61it/s]"
     ]
    },
    {
     "name": "stdout",
     "output_type": "stream",
     "text": [
      "An error occurred with 8f239af4-af72-4465-85f3-933b28d6c823: 'float' object has no attribute 'lower'\n",
      "An error occurred with 8f3e3758-c1ae-4134-a0be-a99438d3e2c7: 'float' object has no attribute 'lower'\n",
      "An error occurred with 8fecf1ff-ec02-4e37-960f-ee5d6882990f: 'float' object has no attribute 'lower'\n",
      "An error occurred with 9003f67c-6d70-4bb5-9029-18d9209b6056: 'float' object has no attribute 'lower'\n"
     ]
    },
    {
     "name": "stderr",
     "output_type": "stream",
     "text": [
      "Separating healthy files:  56%|█████▌    | 1839/3309 [00:50<00:35, 40.99it/s]"
     ]
    },
    {
     "name": "stdout",
     "output_type": "stream",
     "text": [
      "An error occurred with 902b88b2-581e-4ae7-8d14-47ed991b6955: 'float' object has no attribute 'lower'\n",
      "An error occurred with 9040e820-50ff-420a-9b6a-d631535fbc4e: 'float' object has no attribute 'lower'\n",
      "An error occurred with 90446acf-4099-448e-8042-fc612221e51e: 'float' object has no attribute 'lower'\n",
      "An error occurred with 904df4a3-ecb0-4016-8e9a-50a4e0b58b06: 'float' object has no attribute 'lower'\n",
      "An error occurred with 90bd97d2-4274-4045-9f2f-e07283457299: 'float' object has no attribute 'lower'\n"
     ]
    },
    {
     "name": "stderr",
     "output_type": "stream",
     "text": [
      "Separating healthy files:  56%|█████▌    | 1850/3309 [00:51<00:36, 40.29it/s]"
     ]
    },
    {
     "name": "stdout",
     "output_type": "stream",
     "text": [
      "An error occurred with 9111f6e1-02f7-4b30-85ec-b05f3cef1e7a: 'float' object has no attribute 'lower'\n",
      "An error occurred with 9127319d-3195-4e51-9408-98fd4aac959d: 'float' object has no attribute 'lower'\n",
      "An error occurred with 9167a9ca-57a2-42bf-b83d-fb9edb932099: 'float' object has no attribute 'lower'\n",
      "An error occurred with 91a08ea9-196e-49bb-a8ba-946da18e1ec6: 'float' object has no attribute 'lower'\n"
     ]
    },
    {
     "name": "stderr",
     "output_type": "stream",
     "text": [
      "Separating healthy files:  56%|█████▌    | 1860/3309 [00:51<00:36, 39.98it/s]"
     ]
    },
    {
     "name": "stdout",
     "output_type": "stream",
     "text": [
      "An error occurred with 91fd1f12-377a-4cae-8060-43cf777beb5a: 'float' object has no attribute 'lower'\n",
      "An error occurred with 922b8504-f012-4b9a-afb3-c42d3b9434dd: 'float' object has no attribute 'lower'\n",
      "An error occurred with 927bc7cc-f845-4e53-9bbb-42b92ca09bdc: 'float' object has no attribute 'lower'\n"
     ]
    },
    {
     "name": "stderr",
     "output_type": "stream",
     "text": [
      "Separating healthy files:  57%|█████▋    | 1871/3309 [00:51<00:32, 44.31it/s]"
     ]
    },
    {
     "name": "stdout",
     "output_type": "stream",
     "text": [
      "An error occurred with 92ea0520-18d5-4f59-aabe-638839128ce3: 'float' object has no attribute 'lower'\n",
      "An error occurred with 93134ea1-3ce6-4f54-9e01-a2aef15a4439: 'float' object has no attribute 'lower'\n",
      "An error occurred with 935d04fd-4533-4e83-97bc-64f5d4579d9a: 'float' object has no attribute 'lower'\n",
      "An error occurred with 938d8769-b5a1-4f7d-9ee8-3ac32cfbe7bc: 'float' object has no attribute 'lower'\n"
     ]
    },
    {
     "name": "stderr",
     "output_type": "stream",
     "text": [
      "Separating healthy files:  57%|█████▋    | 1885/3309 [00:52<00:46, 30.80it/s]"
     ]
    },
    {
     "name": "stdout",
     "output_type": "stream",
     "text": [
      "An error occurred with 93d82367-a79e-41f6-8f37-b57c9b1b84c2: 'float' object has no attribute 'lower'\n",
      "An error occurred with 93e46782-6984-4cbf-b0e1-bc0cca9a23e1: 'float' object has no attribute 'lower'\n",
      "An error occurred with 93effc76-feb3-4ccf-8a13-4f433962b7c6: 'float' object has no attribute 'lower'\n",
      "An error occurred with 93f1159f-d125-4ca9-9375-127a015796ae: 'float' object has no attribute 'lower'\n",
      "An error occurred with 9439f521-1377-4485-899d-dde5bd2b12c4: 'float' object has no attribute 'lower'\n",
      "An error occurred with 9445a5e4-887f-46ce-8671-052e393539d3: 'float' object has no attribute 'lower'\n"
     ]
    },
    {
     "name": "stderr",
     "output_type": "stream",
     "text": [
      "Separating healthy files:  57%|█████▋    | 1895/3309 [00:52<00:45, 31.30it/s]"
     ]
    },
    {
     "name": "stdout",
     "output_type": "stream",
     "text": [
      "An error occurred with 94a3f8d2-e99e-4a66-ba95-f611b65cc208: 'float' object has no attribute 'lower'\n",
      "An error occurred with 94c82b3f-4e5a-411e-8182-ad262b8f470c: 'float' object has no attribute 'lower'\n",
      "An error occurred with 9514a68a-1e24-4729-b7cf-77717b3d1819: 'float' object has no attribute 'lower'\n",
      "An error occurred with 951abbdb-98f5-497d-b1eb-7cca4079032b: 'float' object has no attribute 'lower'\n"
     ]
    },
    {
     "name": "stderr",
     "output_type": "stream",
     "text": [
      "Separating healthy files:  58%|█████▊    | 1906/3309 [00:52<00:42, 32.84it/s]"
     ]
    },
    {
     "name": "stdout",
     "output_type": "stream",
     "text": [
      "An error occurred with 956a9fa1-bc87-4da9-bff9-a183d87cfc3d: 'float' object has no attribute 'lower'\n",
      "An error occurred with 95b258ca-cd40-4a28-9d9e-72bd435203d9: 'float' object has no attribute 'lower'\n"
     ]
    },
    {
     "name": "stderr",
     "output_type": "stream",
     "text": [
      "Separating healthy files:  58%|█████▊    | 1910/3309 [00:52<00:44, 31.51it/s]"
     ]
    },
    {
     "name": "stdout",
     "output_type": "stream",
     "text": [
      "An error occurred with 961103b0-6e16-4607-9d25-b8461bcedd85: 'float' object has no attribute 'lower'\n"
     ]
    },
    {
     "name": "stderr",
     "output_type": "stream",
     "text": [
      "Separating healthy files:  58%|█████▊    | 1920/3309 [00:53<00:48, 28.69it/s]"
     ]
    },
    {
     "name": "stdout",
     "output_type": "stream",
     "text": [
      "An error occurred with 966eac7e-54ee-4b4e-857b-4d3f0cb54b3f: 'float' object has no attribute 'lower'\n",
      "An error occurred with 968c4b5c-dd20-4383-980b-9f0f9aa39e6e: 'float' object has no attribute 'lower'\n",
      "An error occurred with 96994953-83cf-4537-b6ba-6a451ba52e89: 'float' object has no attribute 'lower'\n",
      "An error occurred with 96b120b6-751d-4613-83b0-1195b4821e68: 'float' object has no attribute 'lower'\n",
      "An error occurred with 972493bd-60d8-4185-ab26-ba190284e4bb: 'float' object has no attribute 'lower'\n",
      "An error occurred with 97308ca6-0f7e-45eb-af74-ed3a7454a838: 'float' object has no attribute 'lower'\n",
      "An error occurred with 974c1d90-9190-4565-ba7f-2ee7cd8d587e: 'float' object has no attribute 'lower'\n"
     ]
    },
    {
     "name": "stderr",
     "output_type": "stream",
     "text": [
      "Separating healthy files:  58%|█████▊    | 1931/3309 [00:53<00:32, 42.57it/s]"
     ]
    },
    {
     "name": "stdout",
     "output_type": "stream",
     "text": [
      "An error occurred with 982600eb-f8ca-4289-8f91-6f62e4d84a80: 'float' object has no attribute 'lower'\n"
     ]
    },
    {
     "name": "stderr",
     "output_type": "stream",
     "text": [
      "Separating healthy files:  59%|█████▉    | 1946/3309 [00:54<00:43, 31.14it/s]"
     ]
    },
    {
     "name": "stdout",
     "output_type": "stream",
     "text": [
      "An error occurred with 996c0177-40ac-4e60-9ba3-97b88f57d45c: 'float' object has no attribute 'lower'\n",
      "An error occurred with 9a2a537c-089d-4d4f-b742-7548a5f9f26b: 'float' object has no attribute 'lower'\n"
     ]
    },
    {
     "name": "stderr",
     "output_type": "stream",
     "text": [
      "Separating healthy files:  59%|█████▉    | 1962/3309 [00:54<00:52, 25.87it/s]"
     ]
    },
    {
     "name": "stdout",
     "output_type": "stream",
     "text": [
      "An error occurred with 9a993cda-178e-4497-962d-e97a2d24134e: 'float' object has no attribute 'lower'\n",
      "An error occurred with 9aa099bc-4b9c-4022-883f-fb0f5b958945: 'float' object has no attribute 'lower'\n",
      "An error occurred with 9aac836f-f2c2-453e-a310-44a3b416c7dd: 'float' object has no attribute 'lower'\n"
     ]
    },
    {
     "name": "stderr",
     "output_type": "stream",
     "text": [
      "Separating healthy files:  59%|█████▉    | 1966/3309 [00:54<00:49, 26.89it/s]"
     ]
    },
    {
     "name": "stdout",
     "output_type": "stream",
     "text": [
      "An error occurred with 9b7c7b88-84b1-4c3a-aa95-2388e8931d00: 'float' object has no attribute 'lower'\n",
      "An error occurred with 9bb71c7a-93f0-4fc2-9cea-dbf321ee1f9e: 'float' object has no attribute 'lower'\n"
     ]
    },
    {
     "name": "stderr",
     "output_type": "stream",
     "text": [
      "Separating healthy files:  60%|█████▉    | 1980/3309 [00:55<01:03, 21.01it/s]"
     ]
    },
    {
     "name": "stdout",
     "output_type": "stream",
     "text": [
      "An error occurred with 9c3c5e57-2384-4541-b8c4-478e9babbfbc: 'float' object has no attribute 'lower'\n",
      "An error occurred with 9c80aa64-3340-4898-a18d-f4aa9d7af4c2: 'float' object has no attribute 'lower'\n",
      "An error occurred with 9c849928-5ff0-49b9-b80a-f029abaabfec: 'float' object has no attribute 'lower'\n",
      "An error occurred with 9c88553b-7845-4af1-a54b-3b9b1d9029f4: 'float' object has no attribute 'lower'\n"
     ]
    },
    {
     "name": "stderr",
     "output_type": "stream",
     "text": [
      "Separating healthy files:  61%|██████    | 2002/3309 [00:56<00:31, 40.96it/s]"
     ]
    },
    {
     "name": "stdout",
     "output_type": "stream",
     "text": [
      "An error occurred with 9d2678dc-717d-4336-bbfe-9b17a20e0d3d: 'float' object has no attribute 'lower'\n",
      "An error occurred with 9e826421-cec8-479d-8fd8-ff7ae1d3d934: 'float' object has no attribute 'lower'\n"
     ]
    },
    {
     "name": "stderr",
     "output_type": "stream",
     "text": [
      "Separating healthy files:  61%|██████    | 2011/3309 [00:56<00:25, 51.11it/s]"
     ]
    },
    {
     "name": "stdout",
     "output_type": "stream",
     "text": [
      "An error occurred with 9f1f0375-e79a-470b-951c-804f0b36c623: 'float' object has no attribute 'lower'\n",
      "An error occurred with 9f42fd4f-4678-4117-87a4-cde84846b3ee: 'float' object has no attribute 'lower'\n",
      "An error occurred with 9f4b2c6a-1b37-45a1-be61-69aeda710f94: 'float' object has no attribute 'lower'\n",
      "An error occurred with 9f672df0-c449-4c46-aadb-451272c984e2: 'float' object has no attribute 'lower'\n",
      "An error occurred with 9f882eca-54a7-4345-95ff-de59300f9e67: 'float' object has no attribute 'lower'\n",
      "An error occurred with 9fe70bf0-3312-4a8f-8af2-7afdcfe58c90: 'float' object has no attribute 'lower'\n",
      "An error occurred with a018cd82-9370-4ed1-8cce-7b5d4b55a96e: 'float' object has no attribute 'lower'\n",
      "An error occurred with a023d89b-f03e-43fe-a6f8-1da89b63cf10: 'float' object has no attribute 'lower'\n",
      "An error occurred with a0270caf-0b4c-42a6-91ee-8e2de6beed86: 'float' object has no attribute 'lower'\n"
     ]
    },
    {
     "name": "stderr",
     "output_type": "stream",
     "text": [
      "Separating healthy files:  61%|██████    | 2024/3309 [00:56<00:29, 43.84it/s]"
     ]
    },
    {
     "name": "stdout",
     "output_type": "stream",
     "text": [
      "An error occurred with a07c237d-347d-4053-a08b-4acdaabc504b: 'float' object has no attribute 'lower'\n",
      "An error occurred with a09e3ea6-3b69-499a-a56d-7615acf88436: 'float' object has no attribute 'lower'\n",
      "An error occurred with a148e3d8-bc3e-4793-9cfc-b6b3fe62645f: 'float' object has no attribute 'lower'\n",
      "An error occurred with a155af3c-c6e1-4300-8866-553ec44d1e55: 'float' object has no attribute 'lower'\n"
     ]
    },
    {
     "name": "stderr",
     "output_type": "stream",
     "text": [
      "Separating healthy files:  61%|██████▏   | 2035/3309 [00:56<00:29, 42.56it/s]"
     ]
    },
    {
     "name": "stdout",
     "output_type": "stream",
     "text": [
      "An error occurred with a19bfb13-7abb-4042-8d8c-247fde3cdf81: 'float' object has no attribute 'lower'\n",
      "An error occurred with a1cb1269-8c88-4fde-8b29-8d5825d1303d: 'float' object has no attribute 'lower'\n",
      "An error occurred with a1f81d69-3d9c-4513-ab7e-c6589e86324f: 'float' object has no attribute 'lower'\n",
      "An error occurred with a2290b79-05f1-4a86-9dac-d35d5b143673: 'float' object has no attribute 'lower'\n"
     ]
    },
    {
     "name": "stderr",
     "output_type": "stream",
     "text": [
      "Separating healthy files:  62%|██████▏   | 2045/3309 [00:57<00:38, 32.46it/s]"
     ]
    },
    {
     "name": "stdout",
     "output_type": "stream",
     "text": [
      "An error occurred with a26ac65b-b650-4788-a366-e3ef84c1c05c: 'float' object has no attribute 'lower'\n"
     ]
    },
    {
     "name": "stderr",
     "output_type": "stream",
     "text": [
      "Separating healthy files:  62%|██████▏   | 2049/3309 [00:57<00:46, 26.90it/s]"
     ]
    },
    {
     "name": "stdout",
     "output_type": "stream",
     "text": [
      "An error occurred with a2e43bb0-502b-486d-ac14-5ca327d6e8bf: 'float' object has no attribute 'lower'\n",
      "An error occurred with a30b18ef-d883-40ca-889d-29aab6b97a7d: 'float' object has no attribute 'lower'\n",
      "An error occurred with a317bd17-19e8-4153-b331-0fb47e21b7d2: 'float' object has no attribute 'lower'\n",
      "An error occurred with a31f30cd-26ea-453e-b860-12475282df67: 'float' object has no attribute 'lower'\n"
     ]
    },
    {
     "name": "stderr",
     "output_type": "stream",
     "text": [
      "Separating healthy files:  62%|██████▏   | 2068/3309 [00:58<00:38, 32.08it/s]"
     ]
    },
    {
     "name": "stdout",
     "output_type": "stream",
     "text": [
      "An error occurred with a37cddf9-155e-402a-a344-7c33e8919d4f: 'float' object has no attribute 'lower'\n",
      "An error occurred with a38426f4-0a1a-47a2-822d-20968b3ff313: 'float' object has no attribute 'lower'\n",
      "An error occurred with a3cd030b-77a7-471c-b50a-4e18400e0c02: 'float' object has no attribute 'lower'\n",
      "An error occurred with a3cfa691-2484-403c-9a9e-cadd50aa2d55: 'float' object has no attribute 'lower'\n",
      "An error occurred with a3fba1ca-9312-4096-9846-181b971c4659: 'float' object has no attribute 'lower'\n",
      "An error occurred with a41b6238-fc8b-4d79-8253-477ecb66eda9: 'float' object has no attribute 'lower'\n",
      "An error occurred with a4212621-647f-4b72-ab41-0dedc98eac71: 'float' object has no attribute 'lower'\n"
     ]
    },
    {
     "name": "stderr",
     "output_type": "stream",
     "text": [
      "Separating healthy files:  63%|██████▎   | 2073/3309 [00:58<00:46, 26.82it/s]"
     ]
    },
    {
     "name": "stdout",
     "output_type": "stream",
     "text": [
      "An error occurred with a458e90c-e6f6-4da1-bc80-207c0d20161f: 'float' object has no attribute 'lower'\n",
      "An error occurred with a47107e3-30d2-439b-b56c-a26a6b0a49d0: 'float' object has no attribute 'lower'\n"
     ]
    },
    {
     "name": "stderr",
     "output_type": "stream",
     "text": [
      "Separating healthy files:  63%|██████▎   | 2080/3309 [00:58<01:01, 19.91it/s]"
     ]
    },
    {
     "name": "stdout",
     "output_type": "stream",
     "text": [
      "An error occurred with a47c5c5c-d114-4c98-9694-2c86aef9b247: 'float' object has no attribute 'lower'\n",
      "An error occurred with a490b87c-041b-4503-a599-c15ea5f0aa78: 'float' object has no attribute 'lower'\n",
      "An error occurred with a4923299-408c-4347-87c3-3fa7dc1e9bd7: 'float' object has no attribute 'lower'\n",
      "An error occurred with a4937091-0622-4b37-8988-eb0002ca0ad6: 'float' object has no attribute 'lower'\n"
     ]
    },
    {
     "name": "stderr",
     "output_type": "stream",
     "text": [
      "Separating healthy files:  63%|██████▎   | 2090/3309 [00:59<00:52, 23.01it/s]"
     ]
    },
    {
     "name": "stdout",
     "output_type": "stream",
     "text": [
      "An error occurred with a4ba311b-4131-4b7b-a63b-aeddd82a0ac2: 'float' object has no attribute 'lower'\n",
      "An error occurred with a4c381d4-b210-4105-b07b-80fda31d30f3: 'float' object has no attribute 'lower'\n",
      "An error occurred with a558fad9-fa97-4481-8e16-872957d6c198: 'float' object has no attribute 'lower'\n",
      "An error occurred with a585680f-6e43-4209-963e-4c40814f4170: 'float' object has no attribute 'lower'\n"
     ]
    },
    {
     "name": "stderr",
     "output_type": "stream",
     "text": [
      "Separating healthy files:  63%|██████▎   | 2097/3309 [00:59<00:45, 26.64it/s]"
     ]
    },
    {
     "name": "stdout",
     "output_type": "stream",
     "text": [
      "An error occurred with a5a0e6cb-f4d3-4072-b80a-da3486e7a9a4: 'float' object has no attribute 'lower'\n",
      "An error occurred with a5c7e6c8-da05-4076-b0a4-fb45322cf204: 'float' object has no attribute 'lower'\n",
      "An error occurred with a5f4a731-a3e3-4437-abd9-1394d1f6e69f: 'float' object has no attribute 'lower'\n",
      "An error occurred with a6015cc6-3238-4f60-b442-c60d8b5c53e5: 'float' object has no attribute 'lower'\n"
     ]
    },
    {
     "name": "stderr",
     "output_type": "stream",
     "text": [
      "Separating healthy files:  64%|██████▍   | 2126/3309 [01:00<00:23, 50.91it/s]"
     ]
    },
    {
     "name": "stdout",
     "output_type": "stream",
     "text": [
      "An error occurred with a620e04c-53e2-4827-8759-752572172b7e: 'float' object has no attribute 'lower'\n",
      "An error occurred with a68f936d-d68d-402b-9788-6204ccdbaf01: 'float' object has no attribute 'lower'\n",
      "An error occurred with a71649a6-1746-4d7e-89f6-4f4e50eb1a85: 'float' object has no attribute 'lower'\n",
      "An error occurred with a71df1d0-f06e-4feb-ad3d-ea1e6a856a46: 'float' object has no attribute 'lower'\n",
      "An error occurred with a746bcbc-4a5c-4755-b730-2713d1852cda: 'float' object has no attribute 'lower'\n",
      "An error occurred with a795d6c4-d274-4049-b29c-63c90b96bbfa: 'float' object has no attribute 'lower'\n",
      "An error occurred with a7b20ed3-a0e8-46ac-8a2a-1342c723bdc3: 'float' object has no attribute 'lower'\n",
      "An error occurred with a7f3ebd9-04d8-4ade-b592-529323db2f39: 'float' object has no attribute 'lower'\n",
      "An error occurred with a8177f2e-6b0e-41fc-bc3f-b1b721074b90: 'float' object has no attribute 'lower'\n",
      "An error occurred with a829ba84-b6bb-4d2d-be23-6a0a8a099ff4: 'float' object has no attribute 'lower'\n",
      "An error occurred with a891014f-f494-40ae-8108-1cafefda2729: 'float' object has no attribute 'lower'\n"
     ]
    },
    {
     "name": "stderr",
     "output_type": "stream",
     "text": [
      "Separating healthy files:  65%|██████▍   | 2139/3309 [01:00<00:23, 49.49it/s]"
     ]
    },
    {
     "name": "stdout",
     "output_type": "stream",
     "text": [
      "An error occurred with a8d05b21-140a-4ee0-9c56-b06a6ba74950: 'float' object has no attribute 'lower'\n",
      "An error occurred with a8fec642-ba65-4dda-b2d1-937e37b578d8: 'float' object has no attribute 'lower'\n",
      "An error occurred with a900ebfb-9fde-4349-97c5-440e84b879c7: 'float' object has no attribute 'lower'\n",
      "An error occurred with a92b9b69-6080-48f2-a17f-6e6b1e890812: 'float' object has no attribute 'lower'\n"
     ]
    },
    {
     "name": "stderr",
     "output_type": "stream",
     "text": [
      "Separating healthy files:  65%|██████▍   | 2145/3309 [01:00<00:25, 46.18it/s]"
     ]
    },
    {
     "name": "stdout",
     "output_type": "stream",
     "text": [
      "An error occurred with a9b8c7db-9571-4973-a05f-f50d0f43d663: 'float' object has no attribute 'lower'\n"
     ]
    },
    {
     "name": "stderr",
     "output_type": "stream",
     "text": [
      "Separating healthy files:  65%|██████▌   | 2159/3309 [01:00<00:24, 47.83it/s]"
     ]
    },
    {
     "name": "stdout",
     "output_type": "stream",
     "text": [
      "An error occurred with aa03f910-f358-4d60-9362-9b3fc45022eb: 'float' object has no attribute 'lower'\n",
      "An error occurred with aa306c91-1af9-4627-a149-efeb311863ee: 'float' object has no attribute 'lower'\n",
      "An error occurred with aa4906ff-9ba9-49fc-99fc-aaac8b47ad08: 'float' object has no attribute 'lower'\n",
      "An error occurred with aa4bb398-285e-419b-a516-1b8073b13782: 'float' object has no attribute 'lower'\n",
      "An error occurred with aa5fc15a-fed4-4137-a30e-d6276c7234cd: 'float' object has no attribute 'lower'\n",
      "An error occurred with aaa64fba-0c22-4465-a3df-f664e837fd90: 'float' object has no attribute 'lower'\n",
      "An error occurred with aaa755e7-3e2c-4be7-9bb0-1d873c9be784: 'float' object has no attribute 'lower'\n"
     ]
    },
    {
     "name": "stderr",
     "output_type": "stream",
     "text": [
      "Separating healthy files:  66%|██████▌   | 2177/3309 [01:01<00:37, 30.51it/s]"
     ]
    },
    {
     "name": "stdout",
     "output_type": "stream",
     "text": [
      "An error occurred with ab74a62a-85cc-4502-9e59-1376a93d82bb: 'float' object has no attribute 'lower'\n",
      "An error occurred with ab835e66-c958-4a6c-a58f-a4b880b662c2: 'float' object has no attribute 'lower'\n",
      "An error occurred with abbf3696-b96a-4531-8733-6cd7b79a1dc9: 'float' object has no attribute 'lower'\n",
      "An error occurred with ac0041f9-3449-48a8-a177-66c59cf38aea: 'float' object has no attribute 'lower'\n"
     ]
    },
    {
     "name": "stderr",
     "output_type": "stream",
     "text": [
      "Separating healthy files:  66%|██████▌   | 2191/3309 [01:01<00:33, 33.61it/s]"
     ]
    },
    {
     "name": "stdout",
     "output_type": "stream",
     "text": [
      "An error occurred with ac1e29df-29ba-4fe9-9251-02af83113f80: 'float' object has no attribute 'lower'\n",
      "An error occurred with ac301fd5-4dc5-4612-9ec9-dcc5fab4d4c6: 'float' object has no attribute 'lower'\n",
      "An error occurred with ac56d552-565e-457a-b841-1c2427a1a157: 'float' object has no attribute 'lower'\n",
      "An error occurred with ac669232-3ace-428a-8844-c83496799052: 'float' object has no attribute 'lower'\n",
      "An error occurred with ac7e9a9e-4251-485d-bf12-8e4aa91bb6e5: 'float' object has no attribute 'lower'\n"
     ]
    },
    {
     "name": "stderr",
     "output_type": "stream",
     "text": [
      "Separating healthy files:  67%|██████▋   | 2206/3309 [01:02<00:25, 42.98it/s]"
     ]
    },
    {
     "name": "stdout",
     "output_type": "stream",
     "text": [
      "An error occurred with acf5a73b-34c9-4e3d-bc59-37b5034cf557: 'float' object has no attribute 'lower'\n",
      "An error occurred with acfa2210-477c-483c-b298-7a7fd6b9296e: 'float' object has no attribute 'lower'\n",
      "An error occurred with ad20536c-eba3-4d78-81e4-86ecf3563171: 'float' object has no attribute 'lower'\n",
      "An error occurred with ad501b08-47f3-4166-8efc-5b95ab0284a4: 'float' object has no attribute 'lower'\n",
      "An error occurred with ad8497c7-804c-4492-8224-c1750eaae9d3: 'float' object has no attribute 'lower'\n",
      "An error occurred with ade4d6ec-18aa-4a1a-a8d0-6561c2a773e5: 'float' object has no attribute 'lower'\n"
     ]
    },
    {
     "name": "stderr",
     "output_type": "stream",
     "text": [
      "Separating healthy files:  67%|██████▋   | 2211/3309 [01:02<00:25, 42.94it/s]"
     ]
    },
    {
     "name": "stdout",
     "output_type": "stream",
     "text": [
      "An error occurred with adf2adfc-2b63-40e3-96bd-82c6205ac78a: 'float' object has no attribute 'lower'\n",
      "An error occurred with ae2252eb-9176-4a0c-8780-3f3a314c96a1: 'float' object has no attribute 'lower'\n"
     ]
    },
    {
     "name": "stderr",
     "output_type": "stream",
     "text": [
      "Separating healthy files:  67%|██████▋   | 2216/3309 [01:02<00:30, 35.92it/s]"
     ]
    },
    {
     "name": "stdout",
     "output_type": "stream",
     "text": [
      "An error occurred with ae630495-b7d0-4b97-8714-99ba0b3b77a1: 'float' object has no attribute 'lower'\n",
      "An error occurred with aea61fd5-6019-48cb-98e1-3dac878a3001: 'float' object has no attribute 'lower'\n"
     ]
    },
    {
     "name": "stderr",
     "output_type": "stream",
     "text": [
      "Separating healthy files:  68%|██████▊   | 2235/3309 [01:03<00:36, 29.82it/s]"
     ]
    },
    {
     "name": "stdout",
     "output_type": "stream",
     "text": [
      "An error occurred with af5c3955-b26f-4bb1-90ed-0c800c5a1cfe: 'float' object has no attribute 'lower'\n",
      "An error occurred with afcf665a-3d18-4873-8336-a143d68a099c: 'float' object has no attribute 'lower'\n"
     ]
    },
    {
     "name": "stderr",
     "output_type": "stream",
     "text": [
      "Separating healthy files:  68%|██████▊   | 2253/3309 [01:03<00:23, 44.61it/s]"
     ]
    },
    {
     "name": "stdout",
     "output_type": "stream",
     "text": [
      "An error occurred with b0a3baeb-89c6-46c4-a313-4e500d6283f6: 'float' object has no attribute 'lower'\n",
      "An error occurred with b0d1ffc5-5e9d-4db0-9230-c7830ee02cb2: 'float' object has no attribute 'lower'\n",
      "An error occurred with b0d26798-44b3-42fd-9bbb-89fba0c4c190: 'float' object has no attribute 'lower'\n",
      "An error occurred with b11201b1-b0ac-407f-a0c9-9e19b8a9ff88: 'float' object has no attribute 'lower'\n",
      "An error occurred with b116b733-7aae-4cfe-89a9-a6226babffa6: 'float' object has no attribute 'lower'\n",
      "An error occurred with b132d88e-b8b2-418c-a2d8-7e81cfb982da: 'float' object has no attribute 'lower'\n",
      "An error occurred with b1463b5e-9942-4c59-98e3-c5da4b73a707: 'float' object has no attribute 'lower'\n",
      "An error occurred with b1498a85-3f8b-409d-a437-9027f8b76795: 'float' object has no attribute 'lower'\n"
     ]
    },
    {
     "name": "stderr",
     "output_type": "stream",
     "text": [
      "Separating healthy files:  69%|██████▊   | 2270/3309 [01:03<00:22, 46.59it/s]"
     ]
    },
    {
     "name": "stdout",
     "output_type": "stream",
     "text": [
      "An error occurred with b193d4b7-7799-43ae-aadf-96db0a65efea: 'float' object has no attribute 'lower'\n",
      "An error occurred with b1a13a43-d0d5-4b9f-8442-6f910e2c76f9: 'float' object has no attribute 'lower'\n",
      "An error occurred with b1abdb26-a38f-4c46-a6bf-d3bad0a8c9b5: 'float' object has no attribute 'lower'\n",
      "An error occurred with b1bee3ce-be7c-480a-9fc0-ebd479e62771: 'float' object has no attribute 'lower'\n",
      "An error occurred with b1ca2e10-2549-4a20-9322-f6f1b4c13ab2: 'float' object has no attribute 'lower'\n"
     ]
    },
    {
     "name": "stderr",
     "output_type": "stream",
     "text": [
      "Separating healthy files:  69%|██████▉   | 2285/3309 [01:04<00:24, 42.66it/s]"
     ]
    },
    {
     "name": "stdout",
     "output_type": "stream",
     "text": [
      "An error occurred with b2234fe7-52bd-4f32-97a9-6f5adf39c651: 'float' object has no attribute 'lower'\n",
      "An error occurred with b249a4eb-6f81-4528-b03b-a2bd79d8703f: 'float' object has no attribute 'lower'\n",
      "An error occurred with b27a2e1a-9d99-473d-ad66-6283a8b63ef3: 'float' object has no attribute 'lower'\n",
      "An error occurred with b2a3457e-39dd-46cb-a32e-aff37fb0af85: 'float' object has no attribute 'lower'\n",
      "An error occurred with b2b919eb-fa4a-468b-82c2-5595599385c3: 'float' object has no attribute 'lower'\n"
     ]
    },
    {
     "name": "stderr",
     "output_type": "stream",
     "text": [
      "Separating healthy files:  69%|██████▉   | 2299/3309 [01:04<00:20, 50.12it/s]"
     ]
    },
    {
     "name": "stdout",
     "output_type": "stream",
     "text": [
      "An error occurred with b3c36480-d7a8-4e2b-83f3-932203b66d10: 'float' object has no attribute 'lower'\n",
      "An error occurred with b3cae986-797e-401d-863f-34826e0485c9: 'float' object has no attribute 'lower'\n",
      "An error occurred with b3d155ad-345b-4df2-a9f2-edf8af6ab692: 'float' object has no attribute 'lower'\n",
      "An error occurred with b3d1606b-c7e8-48ce-a1cd-328d5e05093d: 'float' object has no attribute 'lower'\n",
      "An error occurred with b3f17063-7759-4ec4-8830-fd7817780ddb: 'float' object has no attribute 'lower'\n",
      "An error occurred with b433d9cc-d775-4958-a637-6c4f5886b87b: 'float' object has no attribute 'lower'\n"
     ]
    },
    {
     "name": "stderr",
     "output_type": "stream",
     "text": [
      "Separating healthy files:  70%|██████▉   | 2316/3309 [01:04<00:16, 61.15it/s]"
     ]
    },
    {
     "name": "stdout",
     "output_type": "stream",
     "text": [
      "An error occurred with b49f017e-0f74-4bdb-aef3-7974dca6d056: 'float' object has no attribute 'lower'\n",
      "An error occurred with b4a6e293-378e-4955-8d58-fa0fe1d2613c: 'float' object has no attribute 'lower'\n",
      "An error occurred with b4aaa0fd-05cc-4772-82d1-18f1cfdef09d: 'float' object has no attribute 'lower'\n",
      "An error occurred with b4bcdb24-de61-4dc2-9326-68c88f1f0944: 'float' object has no attribute 'lower'\n",
      "An error occurred with b4c0c7b6-62e6-47a0-a6f0-fe83ec0ee3fd: 'float' object has no attribute 'lower'\n",
      "An error occurred with b4c867a5-ece7-4b1b-ad57-e9039154464d: 'float' object has no attribute 'lower'\n"
     ]
    },
    {
     "name": "stderr",
     "output_type": "stream",
     "text": [
      "Separating healthy files:  70%|███████   | 2323/3309 [01:05<00:19, 49.88it/s]"
     ]
    },
    {
     "name": "stdout",
     "output_type": "stream",
     "text": [
      "An error occurred with b5a2ffeb-a237-422f-9f34-56c328a27f45: 'float' object has no attribute 'lower'\n",
      "An error occurred with b5ff0e5a-90d1-45ea-9d34-56dba1362bac: 'float' object has no attribute 'lower'\n",
      "An error occurred with b607c7dd-db55-4aa2-b895-c04a9934a0e8: 'float' object has no attribute 'lower'\n"
     ]
    },
    {
     "name": "stderr",
     "output_type": "stream",
     "text": [
      "Separating healthy files:  70%|███████   | 2329/3309 [01:05<00:23, 40.94it/s]"
     ]
    },
    {
     "name": "stdout",
     "output_type": "stream",
     "text": [
      "An error occurred with b62629b8-5fa1-488c-afd9-4e4b362e2fd8: 'float' object has no attribute 'lower'\n",
      "An error occurred with b6378684-e3fe-42fb-847e-2afe0d938a0f: 'float' object has no attribute 'lower'\n",
      "An error occurred with b6519421-9340-48fd-b2fe-014e32b598fb: 'float' object has no attribute 'lower'\n"
     ]
    },
    {
     "name": "stderr",
     "output_type": "stream",
     "text": [
      "Separating healthy files:  71%|███████   | 2338/3309 [01:05<00:29, 33.16it/s]"
     ]
    },
    {
     "name": "stdout",
     "output_type": "stream",
     "text": [
      "An error occurred with b66a463e-2bfd-4843-8339-a362e24aeb08: 'float' object has no attribute 'lower'\n",
      "An error occurred with b6a78562-80d5-4e38-9b63-493fc4505e7d: 'float' object has no attribute 'lower'\n",
      "An error occurred with b6f73260-46ff-4fb8-bbc8-87e6bc43688d: 'float' object has no attribute 'lower'\n",
      "An error occurred with b6fbc98a-ea98-4590-a92f-b2b261514f95: 'float' object has no attribute 'lower'\n"
     ]
    },
    {
     "name": "stderr",
     "output_type": "stream",
     "text": [
      "Separating healthy files:  71%|███████   | 2350/3309 [01:05<00:27, 34.97it/s]"
     ]
    },
    {
     "name": "stdout",
     "output_type": "stream",
     "text": [
      "An error occurred with b7325167-2b52-4d58-90d2-5163c6fccaf9: 'float' object has no attribute 'lower'\n",
      "An error occurred with b785a381-fea3-4ba5-b840-a51494cc4fc3: 'float' object has no attribute 'lower'\n",
      "An error occurred with b787f5f6-865d-4483-9e0b-98ba7caa5b39: 'float' object has no attribute 'lower'\n",
      "An error occurred with b7ff26cf-0996-4f92-860d-7728ee6ef64a: 'float' object has no attribute 'lower'\n"
     ]
    },
    {
     "name": "stderr",
     "output_type": "stream",
     "text": [
      "Separating healthy files:  72%|███████▏  | 2366/3309 [01:06<00:25, 36.93it/s]"
     ]
    },
    {
     "name": "stdout",
     "output_type": "stream",
     "text": [
      "An error occurred with b886e653-48f6-4bc1-b34b-ca6f32282655: 'float' object has no attribute 'lower'\n",
      "An error occurred with b916b299-9195-4f19-8660-6e55e698325a: 'float' object has no attribute 'lower'\n",
      "An error occurred with b925ff9d-23b0-4813-b4c1-4d4830ef6043: 'float' object has no attribute 'lower'\n",
      "An error occurred with b9381e12-8ca1-48fc-9658-c18510870c61: 'float' object has no attribute 'lower'\n",
      "An error occurred with b9417f96-d883-48c8-8300-7619c31f7f4c: 'float' object has no attribute 'lower'\n",
      "An error occurred with b9679ffa-3bfa-47bf-9d31-d7bc52e81b13: 'float' object has no attribute 'lower'\n"
     ]
    },
    {
     "name": "stderr",
     "output_type": "stream",
     "text": [
      "Separating healthy files:  72%|███████▏  | 2380/3309 [01:06<00:20, 44.39it/s]"
     ]
    },
    {
     "name": "stdout",
     "output_type": "stream",
     "text": [
      "An error occurred with b9974eb2-059a-4ce3-9139-a3a78507f71d: 'float' object has no attribute 'lower'\n",
      "An error occurred with ba4c00cf-dfee-4c88-8510-f5f0d72286c0: 'float' object has no attribute 'lower'\n",
      "An error occurred with ba5c7456-6436-40e8-b838-503788bd9edf: 'float' object has no attribute 'lower'\n",
      "An error occurred with ba5c7717-42ce-4a47-bf5a-d99b3f7cbd42: 'float' object has no attribute 'lower'\n",
      "An error occurred with ba632ae2-44f1-4927-b892-594d751f10e1: 'float' object has no attribute 'lower'\n"
     ]
    },
    {
     "name": "stderr",
     "output_type": "stream",
     "text": [
      "Separating healthy files:  72%|███████▏  | 2391/3309 [01:06<00:24, 36.90it/s]"
     ]
    },
    {
     "name": "stdout",
     "output_type": "stream",
     "text": [
      "An error occurred with baaca084-5a6a-44e4-aa43-f2f14331b86b: 'float' object has no attribute 'lower'\n",
      "An error occurred with badd2dad-cb7f-4d96-bcca-0e867d3f2436: 'float' object has no attribute 'lower'\n",
      "An error occurred with bb14dcd1-deb5-4e35-b27f-4cc5dd6868e0: 'float' object has no attribute 'lower'\n"
     ]
    },
    {
     "name": "stderr",
     "output_type": "stream",
     "text": [
      "Separating healthy files:  73%|███████▎  | 2404/3309 [01:07<00:23, 39.29it/s]"
     ]
    },
    {
     "name": "stdout",
     "output_type": "stream",
     "text": [
      "An error occurred with bb73e7c2-2379-4625-bc6f-ba2b83afc119: 'float' object has no attribute 'lower'\n",
      "An error occurred with bb939b5d-c1a5-4e97-840d-c24b347817d4: 'float' object has no attribute 'lower'\n",
      "An error occurred with bba59f8e-1ef2-490f-983f-eec1058cff25: 'float' object has no attribute 'lower'\n",
      "An error occurred with bbaea5cd-7ca2-4f1a-9a09-89508093d56d: 'float' object has no attribute 'lower'\n",
      "An error occurred with bbdabf2d-dd11-4651-a4fb-b79d83f64ce7: 'float' object has no attribute 'lower'\n",
      "An error occurred with bc048a5e-c0c4-4f13-8c70-392b69fcdf45: 'float' object has no attribute 'lower'\n"
     ]
    },
    {
     "name": "stderr",
     "output_type": "stream",
     "text": [
      "Separating healthy files:  73%|███████▎  | 2414/3309 [01:07<00:23, 37.38it/s]"
     ]
    },
    {
     "name": "stdout",
     "output_type": "stream",
     "text": [
      "An error occurred with bc65b550-8faf-47b6-b1e3-221384548560: 'float' object has no attribute 'lower'\n",
      "An error occurred with bca5ef2c-5ffc-40cf-9806-eea7159abe33: 'float' object has no attribute 'lower'\n",
      "An error occurred with bcb7eb50-b6a5-47fc-bb7a-3306f2651ff1: 'float' object has no attribute 'lower'\n",
      "An error occurred with bcdd7161-8b96-4383-acd7-584c544dab6a: 'float' object has no attribute 'lower'\n",
      "An error occurred with bd0cad2a-abae-48a5-bc63-73581be2af05: 'float' object has no attribute 'lower'\n"
     ]
    },
    {
     "name": "stderr",
     "output_type": "stream",
     "text": [
      "Separating healthy files:  73%|███████▎  | 2431/3309 [01:08<00:22, 39.85it/s]"
     ]
    },
    {
     "name": "stdout",
     "output_type": "stream",
     "text": [
      "An error occurred with bdbf7eff-53ab-497c-bc5d-d8f83c0fd557: 'float' object has no attribute 'lower'\n",
      "An error occurred with be2a0bb4-722e-47b9-97c7-af6ef13d31d3: 'float' object has no attribute 'lower'\n",
      "An error occurred with be38460b-bcdb-4459-b6ff-3a345dbf2a97: 'float' object has no attribute 'lower'\n",
      "An error occurred with be8120f9-5fed-4a05-ac88-8de3e7ef36be: 'float' object has no attribute 'lower'\n",
      "An error occurred with beda8819-8546-43fd-bbfa-3f503e0750d5: 'float' object has no attribute 'lower'\n",
      "An error occurred with bf1c7d25-8748-4b60-bd65-1d585219707e: 'float' object has no attribute 'lower'\n"
     ]
    },
    {
     "name": "stderr",
     "output_type": "stream",
     "text": [
      "Separating healthy files:  74%|███████▍  | 2441/3309 [01:08<00:28, 30.34it/s]"
     ]
    },
    {
     "name": "stdout",
     "output_type": "stream",
     "text": [
      "An error occurred with bf3323df-0bd2-45fe-a720-9d39a41b843e: 'float' object has no attribute 'lower'\n",
      "An error occurred with bf99afa3-2960-4d1c-a00b-5db0d4d7c35a: 'float' object has no attribute 'lower'\n",
      "An error occurred with bfae7920-a6d0-40a6-8ec4-bc17bf5ec269: 'float' object has no attribute 'lower'\n",
      "An error occurred with bfcc5b22-50d9-4a22-966a-28c5a5b9cdf1: 'float' object has no attribute 'lower'\n"
     ]
    },
    {
     "name": "stderr",
     "output_type": "stream",
     "text": [
      "Separating healthy files:  74%|███████▍  | 2459/3309 [01:08<00:21, 39.02it/s]"
     ]
    },
    {
     "name": "stdout",
     "output_type": "stream",
     "text": [
      "An error occurred with c0085960-c960-4de8-9661-63ba2fdcc996: 'float' object has no attribute 'lower'\n",
      "An error occurred with c01c0e74-fb48-44f8-87b1-d806f6c88802: 'float' object has no attribute 'lower'\n",
      "An error occurred with c0307455-34f7-4dd6-82b6-4cdc56205861: 'float' object has no attribute 'lower'\n",
      "An error occurred with c031238c-39a0-4ad4-a274-528454a4319c: 'float' object has no attribute 'lower'\n",
      "An error occurred with c04b8aad-2108-4e94-8fa2-cac875f80cba: 'float' object has no attribute 'lower'\n",
      "An error occurred with c0616c69-92fe-4920-914c-a497ef51b3f4: 'float' object has no attribute 'lower'\n",
      "An error occurred with c095f108-24ef-4617-8b4f-11d4a312a121: 'float' object has no attribute 'lower'\n",
      "An error occurred with c0a6b2d1-36d5-460b-a02f-c019d9b52e6b: 'float' object has no attribute 'lower'\n",
      "An error occurred with c0d19929-a5d7-46d1-a9d4-e54b7daed4b6: 'float' object has no attribute 'lower'\n"
     ]
    },
    {
     "name": "stderr",
     "output_type": "stream",
     "text": [
      "Separating healthy files:  75%|███████▍  | 2480/3309 [01:09<00:14, 57.27it/s]"
     ]
    },
    {
     "name": "stdout",
     "output_type": "stream",
     "text": [
      "An error occurred with c13b14c1-cd9e-4e09-a6b1-1024dc06a5d9: 'float' object has no attribute 'lower'\n",
      "An error occurred with c160e62b-a907-458d-8217-55228c842556: 'float' object has no attribute 'lower'\n",
      "An error occurred with c1c80bd1-a9be-4bd6-bd33-138133110088: 'float' object has no attribute 'lower'\n",
      "An error occurred with c1e4a13e-dfff-4409-b0d1-1c72dac34786: 'float' object has no attribute 'lower'\n",
      "An error occurred with c1f753c6-4d76-46ab-900d-d8dc5fb55683: 'float' object has no attribute 'lower'\n",
      "An error occurred with c2164c75-eecd-4227-84d2-b6f2a1137fb7: 'float' object has no attribute 'lower'\n",
      "An error occurred with c25d9882-25b5-403f-95d3-6d14d651d8fa: 'float' object has no attribute 'lower'\n",
      "An error occurred with c2631c5d-c935-468b-a858-a0d674a33fba: 'float' object has no attribute 'lower'\n"
     ]
    },
    {
     "name": "stderr",
     "output_type": "stream",
     "text": [
      "Separating healthy files:  75%|███████▌  | 2495/3309 [01:09<00:12, 62.94it/s]"
     ]
    },
    {
     "name": "stdout",
     "output_type": "stream",
     "text": [
      "An error occurred with c2b76528-f19a-4aaf-90eb-71e7c1de5f41: 'float' object has no attribute 'lower'\n",
      "An error occurred with c32210da-f6fc-4968-9603-fbfc65c03acd: 'float' object has no attribute 'lower'\n",
      "An error occurred with c34b7d8d-2efb-443e-bd87-e30d7cc86cc6: 'float' object has no attribute 'lower'\n"
     ]
    },
    {
     "name": "stderr",
     "output_type": "stream",
     "text": [
      "Separating healthy files:  76%|███████▌  | 2502/3309 [01:09<00:21, 37.12it/s]"
     ]
    },
    {
     "name": "stdout",
     "output_type": "stream",
     "text": [
      "An error occurred with c3eb1d5d-52ad-4954-a6fe-d3549f04fc12: 'float' object has no attribute 'lower'\n",
      "An error occurred with c41bdfe4-3083-497c-a6ea-22e7e90a79c8: 'float' object has no attribute 'lower'\n",
      "An error occurred with c42651ad-2804-4e1e-865d-30512bc466a5: 'float' object has no attribute 'lower'\n",
      "An error occurred with c4353af0-b552-4419-9fe9-7effdf84b19e: 'float' object has no attribute 'lower'\n"
     ]
    },
    {
     "name": "stderr",
     "output_type": "stream",
     "text": [
      "Separating healthy files:  76%|███████▌  | 2508/3309 [01:09<00:25, 31.77it/s]"
     ]
    },
    {
     "name": "stdout",
     "output_type": "stream",
     "text": [
      "An error occurred with c473f14c-1ef1-4d5a-8d98-4f6a97c742da: 'float' object has no attribute 'lower'\n"
     ]
    },
    {
     "name": "stderr",
     "output_type": "stream",
     "text": [
      "Separating healthy files:  76%|███████▌  | 2513/3309 [01:10<00:29, 27.05it/s]"
     ]
    },
    {
     "name": "stdout",
     "output_type": "stream",
     "text": [
      "An error occurred with c4a63678-aea7-4920-9240-cdcd2f18772e: 'float' object has no attribute 'lower'\n",
      "An error occurred with c5445d8d-ca00-46dd-95f7-496317b1b647: 'float' object has no attribute 'lower'\n"
     ]
    },
    {
     "name": "stderr",
     "output_type": "stream",
     "text": [
      "Separating healthy files:  76%|███████▋  | 2525/3309 [01:10<00:23, 33.62it/s]"
     ]
    },
    {
     "name": "stdout",
     "output_type": "stream",
     "text": [
      "An error occurred with c5a91cf8-f4dc-48a7-8c2c-6cea19c1074c: 'float' object has no attribute 'lower'\n",
      "An error occurred with c5c695dd-a3ca-45fb-b621-724ddf0c6da6: 'float' object has no attribute 'lower'\n",
      "An error occurred with c5f1735e-25a3-44c8-8746-cdc00fde912c: 'float' object has no attribute 'lower'\n",
      "An error occurred with c66db63d-cec1-4b6d-b6fb-7aa985afd09b: 'float' object has no attribute 'lower'\n",
      "An error occurred with c67f9d6f-fbc3-4aae-85d1-ac05fa54ae79: 'float' object has no attribute 'lower'\n"
     ]
    },
    {
     "name": "stderr",
     "output_type": "stream",
     "text": [
      "Separating healthy files:  77%|███████▋  | 2538/3309 [01:10<00:20, 38.49it/s]"
     ]
    },
    {
     "name": "stdout",
     "output_type": "stream",
     "text": [
      "An error occurred with c709703e-e79a-4665-aea1-af316fa063a1: 'float' object has no attribute 'lower'\n"
     ]
    },
    {
     "name": "stderr",
     "output_type": "stream",
     "text": [
      "Separating healthy files:  77%|███████▋  | 2543/3309 [01:11<00:30, 25.17it/s]"
     ]
    },
    {
     "name": "stdout",
     "output_type": "stream",
     "text": [
      "An error occurred with c732c61a-1178-43e0-bbea-dc84bb813c25: 'float' object has no attribute 'lower'\n",
      "An error occurred with c793fa66-71bf-46b8-b1bd-5b9c9da68c18: 'float' object has no attribute 'lower'\n"
     ]
    },
    {
     "name": "stderr",
     "output_type": "stream",
     "text": [
      "Separating healthy files:  77%|███████▋  | 2549/3309 [01:11<00:26, 29.19it/s]"
     ]
    },
    {
     "name": "stdout",
     "output_type": "stream",
     "text": [
      "An error occurred with c79fdd88-65bd-4679-b1bf-607eb0fd5b7a: 'float' object has no attribute 'lower'\n",
      "An error occurred with c824e724-e99d-4cd1-bfeb-04fe58ae21fd: 'float' object has no attribute 'lower'\n",
      "An error occurred with c837d1e5-c12b-43c5-afb3-fd950a2b9cbc: 'float' object has no attribute 'lower'\n",
      "An error occurred with c83bb6ae-646a-4193-b9f4-47b558b9b36a: 'float' object has no attribute 'lower'\n",
      "An error occurred with c84d5641-40ae-4b6e-a132-0b719ae809d5: 'float' object has no attribute 'lower'\n",
      "An error occurred with c85f5f93-7bbd-481a-a0ed-0fdc26eefc83: 'float' object has no attribute 'lower'\n"
     ]
    },
    {
     "name": "stderr",
     "output_type": "stream",
     "text": [
      "Separating healthy files:  77%|███████▋  | 2562/3309 [01:11<00:21, 34.28it/s]"
     ]
    },
    {
     "name": "stdout",
     "output_type": "stream",
     "text": [
      "An error occurred with c89e77cc-928d-4b84-9d31-076717f7fc05: 'float' object has no attribute 'lower'\n",
      "An error occurred with c8a44022-7ff1-478f-b528-081b0f328fe5: 'float' object has no attribute 'lower'\n",
      "An error occurred with c8b81501-ffb7-4105-aaca-1d62112ad1c5: 'float' object has no attribute 'lower'\n",
      "An error occurred with c8c393c1-3f0c-4877-a3b8-74ce207e91ef: 'float' object has no attribute 'lower'\n"
     ]
    },
    {
     "name": "stderr",
     "output_type": "stream",
     "text": [
      "Separating healthy files:  78%|███████▊  | 2575/3309 [01:11<00:20, 35.87it/s]"
     ]
    },
    {
     "name": "stdout",
     "output_type": "stream",
     "text": [
      "An error occurred with c8e0a631-9c5e-431d-abf5-fedfc1040d20: 'float' object has no attribute 'lower'\n",
      "An error occurred with c8e0cef1-bb64-4a4b-bd6d-babbf5f1fbe2: 'float' object has no attribute 'lower'\n",
      "An error occurred with c910cb8c-cd3c-4af0-a35c-0b2c5ae38373: 'float' object has no attribute 'lower'\n",
      "An error occurred with c91858bc-9da1-4bdd-a9fd-bb2b88d449f8: 'float' object has no attribute 'lower'\n"
     ]
    },
    {
     "name": "stderr",
     "output_type": "stream",
     "text": [
      "Separating healthy files:  78%|███████▊  | 2580/3309 [01:12<00:19, 36.78it/s]"
     ]
    },
    {
     "name": "stdout",
     "output_type": "stream",
     "text": [
      "An error occurred with c92cf481-fca4-4caa-a8b8-ebc53b98fac1: 'float' object has no attribute 'lower'\n",
      "An error occurred with c93c6c86-b948-4e73-b25f-39008202a2df: 'float' object has no attribute 'lower'\n"
     ]
    },
    {
     "name": "stderr",
     "output_type": "stream",
     "text": [
      "Separating healthy files:  78%|███████▊  | 2592/3309 [01:12<00:19, 36.67it/s]"
     ]
    },
    {
     "name": "stdout",
     "output_type": "stream",
     "text": [
      "An error occurred with ca713175-0bf8-46df-8849-1c519256ea97: 'float' object has no attribute 'lower'\n",
      "An error occurred with ca878caa-edd1-40ea-8646-e893085c147d: 'float' object has no attribute 'lower'\n",
      "An error occurred with ca8ae8a4-d797-4ab4-9af7-609157f7d832: 'float' object has no attribute 'lower'\n",
      "An error occurred with caba988f-e1ca-4a06-add2-8ba5d3c43536: 'float' object has no attribute 'lower'\n",
      "An error occurred with cabfb1eb-58ab-4c9e-a0b5-68a26d62ad06: 'float' object has no attribute 'lower'\n"
     ]
    },
    {
     "name": "stderr",
     "output_type": "stream",
     "text": [
      "Separating healthy files:  79%|███████▉  | 2608/3309 [01:12<00:15, 43.88it/s]"
     ]
    },
    {
     "name": "stdout",
     "output_type": "stream",
     "text": [
      "An error occurred with cb361f81-e908-40d1-a4f9-8a6bb16ea461: 'float' object has no attribute 'lower'\n",
      "An error occurred with cb39a55e-af6e-4a1b-ba5f-85b6be03c945: 'float' object has no attribute 'lower'\n",
      "An error occurred with cb4a75d9-765a-490f-86e5-45eedf8cc142: 'float' object has no attribute 'lower'\n",
      "An error occurred with cb6027cc-83b7-4d0c-89f1-e0499943455b: 'float' object has no attribute 'lower'\n",
      "An error occurred with cb6a9688-1196-43a7-b31a-706f3b33a21a: 'float' object has no attribute 'lower'\n",
      "An error occurred with cbb2ccd6-b68d-47ee-81c0-c6e6306abbca: 'float' object has no attribute 'lower'\n",
      "An error occurred with cbc108d3-97e3-4680-8e8c-ecdf2d5437e1: 'float' object has no attribute 'lower'\n",
      "An error occurred with cbdee0fe-edec-4131-a6c7-d60c18bd8fc0: 'float' object has no attribute 'lower'\n"
     ]
    },
    {
     "name": "stderr",
     "output_type": "stream",
     "text": [
      "Separating healthy files:  79%|███████▉  | 2621/3309 [01:13<00:15, 45.25it/s]"
     ]
    },
    {
     "name": "stdout",
     "output_type": "stream",
     "text": [
      "An error occurred with cc1962e5-d432-4b08-b3a6-d4f5cf1c2382: 'float' object has no attribute 'lower'\n",
      "An error occurred with cc1ce865-7bef-4c17-be6f-6f01853db0b7: 'float' object has no attribute 'lower'\n",
      "An error occurred with cc8505b0-5c84-46fe-8a06-e1eae4ad5d0a: 'float' object has no attribute 'lower'\n",
      "An error occurred with cc9e9421-226b-4cea-a107-94c51fd7675e: 'float' object has no attribute 'lower'\n",
      "An error occurred with ccc34068-1f61-4f7d-b40a-8828e1909316: 'float' object has no attribute 'lower'\n"
     ]
    },
    {
     "name": "stderr",
     "output_type": "stream",
     "text": [
      "Separating healthy files:  80%|███████▉  | 2636/3309 [01:13<00:15, 42.42it/s]"
     ]
    },
    {
     "name": "stdout",
     "output_type": "stream",
     "text": [
      "An error occurred with ccdd3051-3077-4eb7-a74f-0092af07f486: 'float' object has no attribute 'lower'\n",
      "An error occurred with ccde1cde-333e-47dd-b8c8-202181e94e3a: 'float' object has no attribute 'lower'\n",
      "An error occurred with ccedc9ef-2476-4980-8ff9-2994f913737c: 'float' object has no attribute 'lower'\n"
     ]
    },
    {
     "name": "stderr",
     "output_type": "stream",
     "text": [
      "Separating healthy files:  80%|███████▉  | 2641/3309 [01:13<00:17, 38.89it/s]"
     ]
    },
    {
     "name": "stdout",
     "output_type": "stream",
     "text": [
      "An error occurred with cd4a0265-469e-4b1c-a75a-6b61f87787a6: 'float' object has no attribute 'lower'\n",
      "An error occurred with cd5204b0-7dea-4150-ae31-49fc41b51b72: 'float' object has no attribute 'lower'\n",
      "An error occurred with cd86240a-cee5-4c7c-91da-fd374762bee5: 'float' object has no attribute 'lower'\n",
      "An error occurred with cdb9ecb2-535a-4078-a02f-e695eedc992e: 'float' object has no attribute 'lower'\n"
     ]
    },
    {
     "name": "stderr",
     "output_type": "stream",
     "text": [
      "Separating healthy files:  80%|████████  | 2655/3309 [01:13<00:16, 39.34it/s]"
     ]
    },
    {
     "name": "stdout",
     "output_type": "stream",
     "text": [
      "An error occurred with cdee486f-2c81-469c-b1e5-8ff60a04b728: 'float' object has no attribute 'lower'\n",
      "An error occurred with cdf38466-ab73-4f5d-a6d9-2b7eb32c99fe: 'float' object has no attribute 'lower'\n",
      "An error occurred with ce0e0637-9613-46db-954b-516f8bae4dd9: 'float' object has no attribute 'lower'\n",
      "An error occurred with ce16a060-db61-42ee-82b8-1032c3d9fd80: 'float' object has no attribute 'lower'\n",
      "An error occurred with ce16dbe9-5da3-4823-bf57-df839a17b26e: 'float' object has no attribute 'lower'\n",
      "An error occurred with ce1e2438-2e71-4816-97c1-dab747f37c47: 'float' object has no attribute 'lower'\n"
     ]
    },
    {
     "name": "stderr",
     "output_type": "stream",
     "text": [
      "Separating healthy files:  81%|████████  | 2665/3309 [01:14<00:20, 31.54it/s]"
     ]
    },
    {
     "name": "stdout",
     "output_type": "stream",
     "text": [
      "An error occurred with cefdf45f-9a80-43f5-aa34-fc24c8f77a11: 'float' object has no attribute 'lower'\n",
      "An error occurred with cf00f862-5475-441a-ac76-c54325208859: 'float' object has no attribute 'lower'\n",
      "An error occurred with cf19ad06-7ca9-43be-9c4f-6bc029eec614: 'float' object has no attribute 'lower'\n"
     ]
    },
    {
     "name": "stderr",
     "output_type": "stream",
     "text": [
      "Separating healthy files:  81%|████████  | 2678/3309 [01:14<00:15, 41.59it/s]"
     ]
    },
    {
     "name": "stdout",
     "output_type": "stream",
     "text": [
      "An error occurred with d0cd6be1-58e1-478e-8a7f-6f40be091c9b: 'float' object has no attribute 'lower'\n",
      "An error occurred with d0e5727f-9fe5-4451-be92-822058cf623d: 'float' object has no attribute 'lower'\n",
      "An error occurred with d1117008-0d5f-4873-b8be-7eacfaac67ae: 'float' object has no attribute 'lower'\n",
      "An error occurred with d14ce159-d7b0-479d-aca9-cfd317a8069a: 'float' object has no attribute 'lower'\n",
      "An error occurred with d15e4c05-0829-4ab4-a1c7-31076c288b99: 'float' object has no attribute 'lower'\n",
      "An error occurred with d1889e2c-b78c-4ac0-8ec1-1a0b0f9d3caf: 'float' object has no attribute 'lower'\n",
      "An error occurred with d1a88bd4-c3b2-4470-bda9-836e45006b5e: 'float' object has no attribute 'lower'\n"
     ]
    },
    {
     "name": "stderr",
     "output_type": "stream",
     "text": [
      "Separating healthy files:  81%|████████▏ | 2694/3309 [01:14<00:13, 45.63it/s]"
     ]
    },
    {
     "name": "stdout",
     "output_type": "stream",
     "text": [
      "An error occurred with d1e0c1e1-c2e2-40de-854a-64895fe02e7d: 'float' object has no attribute 'lower'\n",
      "An error occurred with d1eff3e2-621b-4daf-80ab-e97d34c32612: 'float' object has no attribute 'lower'\n",
      "An error occurred with d21b4dc4-0a87-4d3b-b7a6-c1fc24275433: 'float' object has no attribute 'lower'\n",
      "An error occurred with d2401b53-706b-4a31-8ea2-a1ec77b9cf28: 'float' object has no attribute 'lower'\n",
      "An error occurred with d244fe5b-7f86-4ebc-b7a1-c09b5cefc297: 'float' object has no attribute 'lower'\n",
      "An error occurred with d24c09d0-e796-423f-a5fd-834b40872a6d: 'float' object has no attribute 'lower'\n"
     ]
    },
    {
     "name": "stderr",
     "output_type": "stream",
     "text": [
      "Separating healthy files:  82%|████████▏ | 2714/3309 [01:15<00:16, 36.63it/s]"
     ]
    },
    {
     "name": "stdout",
     "output_type": "stream",
     "text": [
      "An error occurred with d2c6507c-8b17-4aa0-8fe3-e640f5e38b32: 'float' object has no attribute 'lower'\n",
      "An error occurred with d2f6d48f-9b4d-4b5a-a7bb-aaa7676aeb0d: 'float' object has no attribute 'lower'\n"
     ]
    },
    {
     "name": "stderr",
     "output_type": "stream",
     "text": [
      "Separating healthy files:  82%|████████▏ | 2725/3309 [01:15<00:14, 39.04it/s]"
     ]
    },
    {
     "name": "stdout",
     "output_type": "stream",
     "text": [
      "An error occurred with d38ed5be-f038-41a4-b101-a063b7d86035: 'float' object has no attribute 'lower'\n",
      "An error occurred with d3c67c68-1fc9-4fb8-853e-c67b68c91350: 'float' object has no attribute 'lower'\n",
      "An error occurred with d42f4ffc-bff0-4e46-8ba8-1103347405b0: 'float' object has no attribute 'lower'\n"
     ]
    },
    {
     "name": "stderr",
     "output_type": "stream",
     "text": [
      "Separating healthy files:  83%|████████▎ | 2742/3309 [01:15<00:10, 54.26it/s]"
     ]
    },
    {
     "name": "stdout",
     "output_type": "stream",
     "text": [
      "An error occurred with d463b224-8863-4254-990c-840974a85153: 'float' object has no attribute 'lower'\n",
      "An error occurred with d48772cc-2485-43de-b689-8a6a9604462b: 'float' object has no attribute 'lower'\n",
      "An error occurred with d49f5604-5231-487b-b87d-a3874ed9331e: 'float' object has no attribute 'lower'\n",
      "An error occurred with d4dd896f-cf32-45b6-b882-b12b4ff69b22: 'float' object has no attribute 'lower'\n",
      "An error occurred with d4e1359f-e6b7-4aa9-a1c4-946d0c55092f: 'float' object has no attribute 'lower'\n",
      "An error occurred with d4f56e16-b85e-45d5-a7af-494068e7543b: 'float' object has no attribute 'lower'\n",
      "An error occurred with d51125c8-9a14-49a7-858c-74c7e70ade53: 'float' object has no attribute 'lower'\n",
      "An error occurred with d516a105-5cda-4c59-9d04-23cec4f3e523: 'float' object has no attribute 'lower'\n"
     ]
    },
    {
     "name": "stderr",
     "output_type": "stream",
     "text": [
      "Separating healthy files:  83%|████████▎ | 2755/3309 [01:16<00:16, 33.23it/s]"
     ]
    },
    {
     "name": "stdout",
     "output_type": "stream",
     "text": [
      "An error occurred with d585b48d-bbea-4f26-a8b0-ea47d4db8de5: 'float' object has no attribute 'lower'\n",
      "An error occurred with d5cec677-541a-4df4-a09b-d1f12e8e1374: 'float' object has no attribute 'lower'\n",
      "An error occurred with d5f5669d-763e-4486-b5e1-27ddbd6901e8: 'float' object has no attribute 'lower'\n",
      "An error occurred with d5fd7c75-c9a6-488e-b6d9-a6c05454376f: 'float' object has no attribute 'lower'\n"
     ]
    },
    {
     "name": "stderr",
     "output_type": "stream",
     "text": [
      "Separating healthy files:  84%|████████▎ | 2764/3309 [01:16<00:17, 30.56it/s]"
     ]
    },
    {
     "name": "stdout",
     "output_type": "stream",
     "text": [
      "An error occurred with d6294a07-278c-40e3-bb38-ec578706b79c: 'float' object has no attribute 'lower'\n",
      "An error occurred with d67ec839-5599-4986-bd9b-82bd712a5901: 'float' object has no attribute 'lower'\n",
      "An error occurred with d6af8572-fdf2-4113-a6f2-dbf3bd9ab022: 'float' object has no attribute 'lower'\n",
      "An error occurred with d6d586b7-d2a1-46f1-b4d8-5ababb1c8f4f: 'float' object has no attribute 'lower'\n"
     ]
    },
    {
     "name": "stderr",
     "output_type": "stream",
     "text": [
      "Separating healthy files:  84%|████████▍ | 2783/3309 [01:17<00:11, 44.72it/s]"
     ]
    },
    {
     "name": "stdout",
     "output_type": "stream",
     "text": [
      "An error occurred with d712a4ab-5d0b-4b37-8344-89505cbb2181: 'float' object has no attribute 'lower'\n",
      "An error occurred with d717e59d-1f04-4c96-b3d6-c0b0fbc1fea7: 'float' object has no attribute 'lower'\n",
      "An error occurred with d71e5ee7-e032-42d2-bba0-7c30e74e0766: 'float' object has no attribute 'lower'\n",
      "An error occurred with d73f39e2-d4ca-4ba4-a44c-63648c5dbc5f: 'float' object has no attribute 'lower'\n",
      "An error occurred with d763e20b-b3aa-4cc6-8b7f-9ffce6df835e: 'float' object has no attribute 'lower'\n",
      "An error occurred with d76a15f7-af94-431a-875a-8fe7333df5f9: 'float' object has no attribute 'lower'\n",
      "An error occurred with d7cd0b1f-9487-4de6-b50b-aa1003fc68c2: 'float' object has no attribute 'lower'\n"
     ]
    },
    {
     "name": "stderr",
     "output_type": "stream",
     "text": [
      "Separating healthy files:  84%|████████▍ | 2788/3309 [01:17<00:17, 30.25it/s]"
     ]
    },
    {
     "name": "stdout",
     "output_type": "stream",
     "text": [
      "An error occurred with d7df6c37-5e53-4dae-85bf-4343a81ec0fc: 'float' object has no attribute 'lower'\n",
      "An error occurred with d7fd9e99-59b5-43b7-af21-5b113ae5d66c: 'float' object has no attribute 'lower'\n",
      "An error occurred with d82fdca3-4706-4718-9f54-57679bcbe8fc: 'float' object has no attribute 'lower'\n",
      "An error occurred with d83d7c46-4981-4513-b470-be2ef62bd6e4: 'float' object has no attribute 'lower'\n"
     ]
    },
    {
     "name": "stderr",
     "output_type": "stream",
     "text": [
      "Separating healthy files:  84%|████████▍ | 2792/3309 [01:17<00:16, 30.47it/s]"
     ]
    },
    {
     "name": "stdout",
     "output_type": "stream",
     "text": [
      "An error occurred with d853ff39-bd5c-4abc-acac-a92531a810f5: 'float' object has no attribute 'lower'\n",
      "An error occurred with d85a74c4-0f51-481f-9cae-8b6b2cdfa90e: 'float' object has no attribute 'lower'\n"
     ]
    },
    {
     "name": "stderr",
     "output_type": "stream",
     "text": [
      "Separating healthy files:  85%|████████▍ | 2802/3309 [01:18<00:18, 27.96it/s]"
     ]
    },
    {
     "name": "stdout",
     "output_type": "stream",
     "text": [
      "An error occurred with d894ce82-597f-4c15-9cf9-816c8c5a84d8: 'float' object has no attribute 'lower'\n",
      "An error occurred with d8b607f0-63e5-4018-9bbf-039d429a6ec9: 'float' object has no attribute 'lower'\n"
     ]
    },
    {
     "name": "stderr",
     "output_type": "stream",
     "text": [
      "Separating healthy files:  85%|████████▍ | 2809/3309 [01:18<00:20, 23.84it/s]"
     ]
    },
    {
     "name": "stdout",
     "output_type": "stream",
     "text": [
      "An error occurred with d90d74d0-efeb-4122-a7c5-960601bed88a: 'float' object has no attribute 'lower'\n",
      "An error occurred with d920fbd5-0fc9-4c9b-9a7b-aa5824734968: 'float' object has no attribute 'lower'\n",
      "An error occurred with d94dcb4b-36c4-4682-9a2c-bc95b9b84b15: 'float' object has no attribute 'lower'\n"
     ]
    },
    {
     "name": "stderr",
     "output_type": "stream",
     "text": [
      "Separating healthy files:  85%|████████▌ | 2823/3309 [01:18<00:16, 29.36it/s]"
     ]
    },
    {
     "name": "stdout",
     "output_type": "stream",
     "text": [
      "An error occurred with d9d6c8d9-455a-4fd0-919e-e59bffb79a5f: 'float' object has no attribute 'lower'\n",
      "An error occurred with da663e77-4483-48e1-85c9-3eaf928f12da: 'float' object has no attribute 'lower'\n"
     ]
    },
    {
     "name": "stderr",
     "output_type": "stream",
     "text": [
      "Separating healthy files:  86%|████████▌ | 2832/3309 [01:19<00:22, 21.42it/s]"
     ]
    },
    {
     "name": "stdout",
     "output_type": "stream",
     "text": [
      "An error occurred with db04f9cb-f497-4ecb-86c1-daf9ab63535e: 'float' object has no attribute 'lower'\n",
      "An error occurred with db70f57a-3b11-4667-aa00-33b9950046ed: 'float' object has no attribute 'lower'\n",
      "An error occurred with db9fc365-0042-4ee7-963d-ce176956832a: 'float' object has no attribute 'lower'\n",
      "An error occurred with dbaf6833-ea9a-4427-aefa-1cdd3947c109: 'float' object has no attribute 'lower'\n"
     ]
    },
    {
     "name": "stderr",
     "output_type": "stream",
     "text": [
      "Separating healthy files:  86%|████████▌ | 2840/3309 [01:19<00:19, 24.31it/s]"
     ]
    },
    {
     "name": "stdout",
     "output_type": "stream",
     "text": [
      "An error occurred with dbcbb652-d70b-47e6-b0ed-9e1f7067979e: 'float' object has no attribute 'lower'\n",
      "An error occurred with dc11e9b8-9c52-44c7-9570-c589130dd683: 'float' object has no attribute 'lower'\n"
     ]
    },
    {
     "name": "stderr",
     "output_type": "stream",
     "text": [
      "Separating healthy files:  86%|████████▌ | 2847/3309 [01:20<00:21, 21.71it/s]"
     ]
    },
    {
     "name": "stdout",
     "output_type": "stream",
     "text": [
      "An error occurred with dc327bef-8a14-4909-8dbd-bbaf1d04bd16: 'float' object has no attribute 'lower'\n"
     ]
    },
    {
     "name": "stderr",
     "output_type": "stream",
     "text": [
      "Separating healthy files:  86%|████████▌ | 2853/3309 [01:20<00:17, 26.72it/s]"
     ]
    },
    {
     "name": "stdout",
     "output_type": "stream",
     "text": [
      "An error occurred with dc9695ad-0301-4f4d-bf58-6823d6190e6a: 'float' object has no attribute 'lower'\n",
      "An error occurred with dcb32d04-70e5-4074-9837-d3b15cdd189e: 'float' object has no attribute 'lower'\n",
      "An error occurred with dcc53730-5abc-4722-8408-7e15cb6e6993: 'float' object has no attribute 'lower'\n",
      "An error occurred with dd003e11-5962-4b5b-9eb1-932476367e9c: 'float' object has no attribute 'lower'\n"
     ]
    },
    {
     "name": "stderr",
     "output_type": "stream",
     "text": [
      "Separating healthy files:  86%|████████▋ | 2860/3309 [01:20<00:23, 19.30it/s]"
     ]
    },
    {
     "name": "stdout",
     "output_type": "stream",
     "text": [
      "An error occurred with dd85f045-fd9b-489d-930e-a17d3e95241e: 'float' object has no attribute 'lower'\n",
      "An error occurred with dd96b1d9-3532-435f-8ced-c0b6f5a1c7a7: 'float' object has no attribute 'lower'\n"
     ]
    },
    {
     "name": "stderr",
     "output_type": "stream",
     "text": [
      "Separating healthy files:  87%|████████▋ | 2873/3309 [01:21<00:19, 22.46it/s]"
     ]
    },
    {
     "name": "stdout",
     "output_type": "stream",
     "text": [
      "An error occurred with de2984a9-4c80-44e1-9bd9-63ba2ddaf7c2: 'float' object has no attribute 'lower'\n",
      "An error occurred with de462369-0b00-4dda-be75-7bf8634ac04e: 'float' object has no attribute 'lower'\n"
     ]
    },
    {
     "name": "stderr",
     "output_type": "stream",
     "text": [
      "Separating healthy files:  87%|████████▋ | 2876/3309 [01:21<00:18, 23.78it/s]"
     ]
    },
    {
     "name": "stdout",
     "output_type": "stream",
     "text": [
      "An error occurred with de631271-3847-473e-838d-386dc977beb9: 'float' object has no attribute 'lower'\n",
      "An error occurred with dee01636-7401-4162-8b16-3a893e7e3103: 'float' object has no attribute 'lower'\n",
      "An error occurred with deee39c2-8102-41a0-9e70-684297d2e644: 'float' object has no attribute 'lower'\n"
     ]
    },
    {
     "name": "stderr",
     "output_type": "stream",
     "text": [
      "Separating healthy files:  87%|████████▋ | 2889/3309 [01:21<00:11, 37.80it/s]"
     ]
    },
    {
     "name": "stdout",
     "output_type": "stream",
     "text": [
      "An error occurred with df05554b-8a5d-41a4-88e1-5a8206d3c72c: 'float' object has no attribute 'lower'\n",
      "An error occurred with df1ace30-8912-4844-946b-0180ff898246: 'float' object has no attribute 'lower'\n",
      "An error occurred with df707f46-e6ae-42a8-895d-fac74c063c01: 'float' object has no attribute 'lower'\n",
      "An error occurred with df827b68-3d15-4a14-b7db-ca127fbdadc1: 'float' object has no attribute 'lower'\n"
     ]
    },
    {
     "name": "stderr",
     "output_type": "stream",
     "text": [
      "Separating healthy files:  88%|████████▊ | 2899/3309 [01:22<00:13, 29.87it/s]"
     ]
    },
    {
     "name": "stdout",
     "output_type": "stream",
     "text": [
      "An error occurred with dfee9845-9404-471c-86c0-35fdf14bbf51: 'float' object has no attribute 'lower'\n",
      "An error occurred with dff76ffa-6e55-4f85-a8be-6d9e53975cdb: 'float' object has no attribute 'lower'\n",
      "An error occurred with e071a5bb-6f4b-4c61-9de7-c7d08c394067: 'float' object has no attribute 'lower'\n"
     ]
    },
    {
     "name": "stderr",
     "output_type": "stream",
     "text": [
      "Separating healthy files:  88%|████████▊ | 2910/3309 [01:22<00:12, 31.27it/s]"
     ]
    },
    {
     "name": "stdout",
     "output_type": "stream",
     "text": [
      "An error occurred with e0b638f6-673c-4c7b-b9a6-70d29831b77e: 'float' object has no attribute 'lower'\n",
      "An error occurred with e0fb87f2-60bf-446f-89ba-8969d4c385cb: 'float' object has no attribute 'lower'\n"
     ]
    },
    {
     "name": "stderr",
     "output_type": "stream",
     "text": [
      "Separating healthy files:  88%|████████▊ | 2921/3309 [01:23<00:18, 20.63it/s]"
     ]
    },
    {
     "name": "stdout",
     "output_type": "stream",
     "text": [
      "An error occurred with e16b984d-c9e4-48fb-9c18-5760ed52c41c: 'float' object has no attribute 'lower'\n"
     ]
    },
    {
     "name": "stderr",
     "output_type": "stream",
     "text": [
      "Separating healthy files:  88%|████████▊ | 2924/3309 [01:23<00:20, 18.67it/s]"
     ]
    },
    {
     "name": "stdout",
     "output_type": "stream",
     "text": [
      "An error occurred with e1aed68d-3c29-4857-803f-4ccc78a226b8: 'float' object has no attribute 'lower'\n"
     ]
    },
    {
     "name": "stderr",
     "output_type": "stream",
     "text": [
      "Separating healthy files:  89%|████████▊ | 2931/3309 [01:23<00:20, 18.68it/s]"
     ]
    },
    {
     "name": "stdout",
     "output_type": "stream",
     "text": [
      "An error occurred with e20e61e0-536c-43ed-9510-11c4e292146d: 'float' object has no attribute 'lower'\n",
      "An error occurred with e22096dc-526b-4029-80a9-b4d3e9b45e9f: 'float' object has no attribute 'lower'\n",
      "An error occurred with e24a3f6c-3456-45a4-8325-711cade0e797: 'float' object has no attribute 'lower'\n",
      "An error occurred with e25c4624-49f9-45d2-b425-12f326eb3c62: 'float' object has no attribute 'lower'\n"
     ]
    },
    {
     "name": "stderr",
     "output_type": "stream",
     "text": [
      "Separating healthy files:  89%|████████▉ | 2947/3309 [01:24<00:16, 21.33it/s]"
     ]
    },
    {
     "name": "stdout",
     "output_type": "stream",
     "text": [
      "An error occurred with e330ac65-5a73-43ae-b924-6b40fb198be9: 'float' object has no attribute 'lower'\n",
      "An error occurred with e37ad6e4-61c3-4e22-bffb-f3f3b10700c6: 'float' object has no attribute 'lower'\n",
      "An error occurred with e3973f82-e8b5-472e-bd44-43e9b065a34b: 'float' object has no attribute 'lower'\n",
      "An error occurred with e3a8fb1e-2adb-4121-be96-445dda325072: 'float' object has no attribute 'lower'\n"
     ]
    },
    {
     "name": "stderr",
     "output_type": "stream",
     "text": [
      "Separating healthy files:  90%|████████▉ | 2962/3309 [01:24<00:08, 38.56it/s]"
     ]
    },
    {
     "name": "stdout",
     "output_type": "stream",
     "text": [
      "An error occurred with e41bf874-eddb-4c60-a997-661bdeccf9e8: 'float' object has no attribute 'lower'\n",
      "An error occurred with e41d0d39-11fe-48fd-98e9-3beb81cc0212: 'float' object has no attribute 'lower'\n",
      "An error occurred with e41e03e9-d69f-41d5-93d1-f784d840eaa9: 'float' object has no attribute 'lower'\n",
      "An error occurred with e420e198-cd96-46e8-a87b-055e88f6607b: 'float' object has no attribute 'lower'\n",
      "An error occurred with e43317ce-d27b-461e-859a-081db1f4bcc8: 'float' object has no attribute 'lower'\n",
      "An error occurred with e48da59b-53df-4a60-9116-633d8288744b: 'float' object has no attribute 'lower'\n"
     ]
    },
    {
     "name": "stderr",
     "output_type": "stream",
     "text": [
      "Separating healthy files:  90%|████████▉ | 2971/3309 [01:25<00:12, 27.96it/s]"
     ]
    },
    {
     "name": "stdout",
     "output_type": "stream",
     "text": [
      "An error occurred with e4f4c3a5-85bf-4327-a4f5-c47b265e6eb5: 'float' object has no attribute 'lower'\n"
     ]
    },
    {
     "name": "stderr",
     "output_type": "stream",
     "text": [
      "Separating healthy files:  90%|████████▉ | 2975/3309 [01:25<00:11, 30.10it/s]"
     ]
    },
    {
     "name": "stdout",
     "output_type": "stream",
     "text": [
      "An error occurred with e52d0aa9-4d8b-40f2-911d-233d2719caa8: 'float' object has no attribute 'lower'\n",
      "An error occurred with e531edfe-5c41-444e-ad45-53df051863b6: 'float' object has no attribute 'lower'\n",
      "An error occurred with e577a4d6-8f55-4ef3-b7ca-9ba4a53705e9: 'float' object has no attribute 'lower'\n"
     ]
    },
    {
     "name": "stderr",
     "output_type": "stream",
     "text": [
      "Separating healthy files:  90%|█████████ | 2989/3309 [01:26<00:13, 24.41it/s]"
     ]
    },
    {
     "name": "stdout",
     "output_type": "stream",
     "text": [
      "An error occurred with e6840fa7-409a-4db5-917d-734c594c9efd: 'float' object has no attribute 'lower'\n",
      "An error occurred with e68b4809-a4e9-43b9-bc47-df9d3124a05e: 'float' object has no attribute 'lower'\n",
      "An error occurred with e69eb525-68f4-4c57-8e9b-601e4c6ba5d5: 'float' object has no attribute 'lower'\n"
     ]
    },
    {
     "name": "stderr",
     "output_type": "stream",
     "text": [
      "Separating healthy files:  91%|█████████ | 3003/3309 [01:26<00:10, 29.04it/s]"
     ]
    },
    {
     "name": "stdout",
     "output_type": "stream",
     "text": [
      "An error occurred with e73a408c-1f3e-4b25-ad34-0fc8dca65dee: 'float' object has no attribute 'lower'\n",
      "An error occurred with e787f04e-e330-424c-84a9-bb97fe48f489: 'float' object has no attribute 'lower'\n",
      "An error occurred with e7c5760e-bcab-4dda-bfcd-2289f674c2cd: 'float' object has no attribute 'lower'\n",
      "An error occurred with e82f229f-0b03-4a46-8869-75fb3ac0a5e5: 'float' object has no attribute 'lower'\n"
     ]
    },
    {
     "name": "stderr",
     "output_type": "stream",
     "text": [
      "Separating healthy files:  91%|█████████▏| 3023/3309 [01:26<00:06, 46.79it/s]"
     ]
    },
    {
     "name": "stdout",
     "output_type": "stream",
     "text": [
      "An error occurred with e8619627-146b-4794-86cc-b126c203a157: 'float' object has no attribute 'lower'\n",
      "An error occurred with e861df16-45f8-44d0-a9ed-0b2642823342: 'float' object has no attribute 'lower'\n",
      "An error occurred with e86497ef-0fe9-4604-ae54-1fff136bf73d: 'float' object has no attribute 'lower'\n",
      "An error occurred with e872f0d2-1dff-42e0-973f-84d73afad880: 'float' object has no attribute 'lower'\n",
      "An error occurred with e8e8de7e-92f2-482b-8529-81bf06bb1c80: 'float' object has no attribute 'lower'\n",
      "An error occurred with e931d59c-78b9-4af7-8099-01a4c6ea041b: 'float' object has no attribute 'lower'\n",
      "An error occurred with e9772fe6-c2cb-4583-a57b-ba3320c02e2f: 'float' object has no attribute 'lower'\n"
     ]
    },
    {
     "name": "stderr",
     "output_type": "stream",
     "text": [
      "Separating healthy files:  92%|█████████▏| 3037/3309 [01:27<00:05, 48.84it/s]"
     ]
    },
    {
     "name": "stdout",
     "output_type": "stream",
     "text": [
      "An error occurred with e9a19383-8c3f-426e-817f-a174fe905e68: 'float' object has no attribute 'lower'\n",
      "An error occurred with e9b3ed0f-7e3d-402b-aec6-02f342656b20: 'float' object has no attribute 'lower'\n",
      "An error occurred with ea61a497-2e4d-4c54-a499-20b90912c027: 'float' object has no attribute 'lower'\n",
      "An error occurred with eaa89aa2-d956-405c-88fe-a6d6c09754b9: 'float' object has no attribute 'lower'\n",
      "An error occurred with eabc83f7-ca80-495f-920d-d414821b0d6b: 'float' object has no attribute 'lower'\n"
     ]
    },
    {
     "name": "stderr",
     "output_type": "stream",
     "text": [
      "Separating healthy files:  92%|█████████▏| 3045/3309 [01:27<00:05, 50.62it/s]"
     ]
    },
    {
     "name": "stdout",
     "output_type": "stream",
     "text": [
      "An error occurred with eacdb4ae-4546-44c9-ae8a-bf16a56b32b2: 'float' object has no attribute 'lower'\n",
      "An error occurred with eb7d4b67-f339-4ec1-8e85-97858ad01f6b: 'float' object has no attribute 'lower'\n"
     ]
    },
    {
     "name": "stderr",
     "output_type": "stream",
     "text": [
      "Separating healthy files:  92%|█████████▏| 3059/3309 [01:27<00:05, 46.44it/s]"
     ]
    },
    {
     "name": "stdout",
     "output_type": "stream",
     "text": [
      "An error occurred with ebe249b9-ccd6-496c-be4f-00709c248366: 'float' object has no attribute 'lower'\n",
      "An error occurred with ebeb7ddf-e498-4e54-a14b-b42593a3a471: 'float' object has no attribute 'lower'\n",
      "An error occurred with ec0d4d12-3ee7-4c14-b824-2338f2701af4: 'float' object has no attribute 'lower'\n",
      "An error occurred with ecfdd68f-7a3f-4046-a164-f49906fc98a5: 'float' object has no attribute 'lower'\n"
     ]
    },
    {
     "name": "stderr",
     "output_type": "stream",
     "text": [
      "Separating healthy files:  93%|█████████▎| 3068/3309 [01:27<00:05, 45.24it/s]"
     ]
    },
    {
     "name": "stdout",
     "output_type": "stream",
     "text": [
      "An error occurred with ed3e7f27-4c51-471b-8c5f-5828aec55ecc: 'float' object has no attribute 'lower'\n",
      "An error occurred with ed89acbf-da0c-474c-83d2-fb18dc9e00de: 'float' object has no attribute 'lower'\n",
      "An error occurred with edb8090c-315e-4e6e-8644-8412e0e83d9e: 'float' object has no attribute 'lower'\n",
      "An error occurred with eddbb15d-d9e3-472c-839c-9ad91f1229cf: 'float' object has no attribute 'lower'\n"
     ]
    },
    {
     "name": "stderr",
     "output_type": "stream",
     "text": [
      "Separating healthy files:  93%|█████████▎| 3079/3309 [01:28<00:05, 39.59it/s]"
     ]
    },
    {
     "name": "stdout",
     "output_type": "stream",
     "text": [
      "An error occurred with edf503a3-70e8-4be9-bde5-83d82421818f: 'float' object has no attribute 'lower'\n",
      "An error occurred with ee46ded6-dc48-4828-b397-3a51a5bcee6a: 'float' object has no attribute 'lower'\n",
      "An error occurred with ee52c54e-af73-4c22-a127-2f2d40458b0b: 'float' object has no attribute 'lower'\n"
     ]
    },
    {
     "name": "stderr",
     "output_type": "stream",
     "text": [
      "Separating healthy files:  93%|█████████▎| 3091/3309 [01:28<00:04, 44.00it/s]"
     ]
    },
    {
     "name": "stdout",
     "output_type": "stream",
     "text": [
      "An error occurred with ee7f0234-049c-462f-b747-d9a4cc7188eb: 'float' object has no attribute 'lower'\n",
      "An error occurred with ee93f2fb-556e-40b1-a4b5-4d841aa76f55: 'float' object has no attribute 'lower'\n",
      "An error occurred with ee98e526-fa2e-40dc-80b6-e016ee8fc627: 'float' object has no attribute 'lower'\n",
      "An error occurred with eebb9d7b-f2b1-4bb1-bb5b-08507037eca0: 'float' object has no attribute 'lower'\n"
     ]
    },
    {
     "name": "stderr",
     "output_type": "stream",
     "text": [
      "Separating healthy files:  94%|█████████▍| 3105/3309 [01:28<00:03, 52.55it/s]"
     ]
    },
    {
     "name": "stdout",
     "output_type": "stream",
     "text": [
      "An error occurred with ef49c308-ce72-41bb-8ca7-2fcf35bba593: 'float' object has no attribute 'lower'\n",
      "An error occurred with ef4aec95-6b49-4fde-8f6a-12e8d038fe42: 'float' object has no attribute 'lower'\n",
      "An error occurred with ef769ba8-7476-4577-b499-01033e5bcb62: 'float' object has no attribute 'lower'\n",
      "An error occurred with ef799099-5bac-4dc2-8b28-53cd300e9c13: 'float' object has no attribute 'lower'\n",
      "An error occurred with ef979941-1dfc-44ec-95de-0f0834d532ce: 'float' object has no attribute 'lower'\n",
      "An error occurred with efba0add-532d-4ceb-bf40-2a7b0fa62d9c: 'float' object has no attribute 'lower'\n"
     ]
    },
    {
     "name": "stderr",
     "output_type": "stream",
     "text": [
      "Separating healthy files:  94%|█████████▍| 3125/3309 [01:29<00:03, 57.88it/s]"
     ]
    },
    {
     "name": "stdout",
     "output_type": "stream",
     "text": [
      "An error occurred with f0a56d34-0d19-492c-9067-d7e978ecb30a: 'float' object has no attribute 'lower'\n",
      "An error occurred with f15e33c9-aec3-4f6d-9a99-96b5130676e2: 'float' object has no attribute 'lower'\n",
      "An error occurred with f1a9cb4c-6660-4eb8-b504-815ae44b0dc5: 'float' object has no attribute 'lower'\n",
      "An error occurred with f1cb44d8-6caa-4181-9182-11cc1999109a: 'float' object has no attribute 'lower'\n",
      "An error occurred with f1cbed32-88f4-4736-b37e-551dc4a5e368: 'float' object has no attribute 'lower'\n",
      "An error occurred with f2258abb-d0b1-45ec-842e-c2c54ad9043e: 'float' object has no attribute 'lower'\n",
      "An error occurred with f2357e77-f716-4281-b7dd-4d1d92899aeb: 'float' object has no attribute 'lower'\n",
      "An error occurred with f2711667-dd92-464d-b302-d1e263d80dbc: 'float' object has no attribute 'lower'\n",
      "An error occurred with f2786c6c-c3e8-47e8-bc1b-4cc87975bd68: 'float' object has no attribute 'lower'\n"
     ]
    },
    {
     "name": "stderr",
     "output_type": "stream",
     "text": [
      "Separating healthy files:  95%|█████████▍| 3140/3309 [01:29<00:03, 43.47it/s]"
     ]
    },
    {
     "name": "stdout",
     "output_type": "stream",
     "text": [
      "An error occurred with f2ca521c-7d2b-48ad-9476-e6df1b76c57a: 'float' object has no attribute 'lower'\n",
      "An error occurred with f343ad14-a89e-4129-8e6e-c1ecc9e2df14: 'float' object has no attribute 'lower'\n",
      "An error occurred with f3b5cfac-05cd-4f4f-a936-3c084037e1e4: 'float' object has no attribute 'lower'\n"
     ]
    },
    {
     "name": "stderr",
     "output_type": "stream",
     "text": [
      "Separating healthy files:  95%|█████████▌| 3151/3309 [01:29<00:04, 35.98it/s]"
     ]
    },
    {
     "name": "stdout",
     "output_type": "stream",
     "text": [
      "An error occurred with f3ee823c-b85c-47ac-9c01-21a6cdd526d4: 'float' object has no attribute 'lower'\n",
      "An error occurred with f3fb4996-cca4-426b-bd59-28260a22a803: 'float' object has no attribute 'lower'\n"
     ]
    },
    {
     "name": "stderr",
     "output_type": "stream",
     "text": [
      "Separating healthy files:  96%|█████████▌| 3171/3309 [01:30<00:04, 29.03it/s]"
     ]
    },
    {
     "name": "stdout",
     "output_type": "stream",
     "text": [
      "An error occurred with f5dff268-c081-4231-806b-f1e797b1039e: 'float' object has no attribute 'lower'\n",
      "An error occurred with f5f60cdf-a65f-441a-8925-788566ee7a94: 'float' object has no attribute 'lower'\n"
     ]
    },
    {
     "name": "stderr",
     "output_type": "stream",
     "text": [
      "Separating healthy files:  96%|█████████▌| 3184/3309 [01:31<00:03, 31.81it/s]"
     ]
    },
    {
     "name": "stdout",
     "output_type": "stream",
     "text": [
      "An error occurred with f6197ebe-e05a-4da5-b2a0-fcf1420f44ec: 'float' object has no attribute 'lower'\n",
      "An error occurred with f69e986a-22eb-483b-9a6d-0ea053ec2939: 'float' object has no attribute 'lower'\n"
     ]
    },
    {
     "name": "stderr",
     "output_type": "stream",
     "text": [
      "Separating healthy files:  97%|█████████▋| 3199/3309 [01:31<00:02, 46.48it/s]"
     ]
    },
    {
     "name": "stdout",
     "output_type": "stream",
     "text": [
      "An error occurred with f6d8e260-f040-45ea-8afa-9c74e9864f26: 'float' object has no attribute 'lower'\n",
      "An error occurred with f6eb44ac-c95a-4faa-b353-17017e4276f4: 'float' object has no attribute 'lower'\n",
      "An error occurred with f786b80e-cfd7-4653-b190-58348302dd1d: 'float' object has no attribute 'lower'\n",
      "An error occurred with f791f4e0-783a-4d06-831e-4c459a7a0ade: 'float' object has no attribute 'lower'\n",
      "An error occurred with f7985445-2b85-421e-a223-b6081ffaa773: 'float' object has no attribute 'lower'\n",
      "An error occurred with f7c6b365-adf4-44f4-b38d-cbaadff045dd: 'float' object has no attribute 'lower'\n",
      "An error occurred with f803cbdd-a26b-4ddb-838f-22a184d156e7: 'float' object has no attribute 'lower'\n",
      "An error occurred with f84be726-ae8f-4199-aa90-b99fe63deaca: 'float' object has no attribute 'lower'\n"
     ]
    },
    {
     "name": "stderr",
     "output_type": "stream",
     "text": [
      "Separating healthy files:  97%|█████████▋| 3213/3309 [01:31<00:02, 40.75it/s]"
     ]
    },
    {
     "name": "stdout",
     "output_type": "stream",
     "text": [
      "An error occurred with f89f2f65-89a7-420c-bf2a-c77a06f6bafe: 'float' object has no attribute 'lower'\n",
      "An error occurred with f8a5dec6-2d28-408c-8a0d-bdce0cd12178: 'float' object has no attribute 'lower'\n",
      "An error occurred with f8e0a84c-868d-4ab3-831b-366b12fcc0c3: 'float' object has no attribute 'lower'\n",
      "An error occurred with f9102723-39d9-436d-85e1-669418cbb975: 'float' object has no attribute 'lower'\n",
      "An error occurred with f91c770b-ca93-4720-bb60-93de9ab46ba4: 'float' object has no attribute 'lower'\n"
     ]
    },
    {
     "name": "stderr",
     "output_type": "stream",
     "text": [
      "Separating healthy files:  97%|█████████▋| 3226/3309 [01:32<00:01, 43.15it/s]"
     ]
    },
    {
     "name": "stdout",
     "output_type": "stream",
     "text": [
      "An error occurred with f97cccc4-d792-44cc-852d-3392fb4eff18: 'float' object has no attribute 'lower'\n",
      "An error occurred with f9c57cb8-1994-40bb-81b8-6c10f95a1515: 'float' object has no attribute 'lower'\n",
      "An error occurred with fa17aa9b-d2d8-40b4-a07f-5a367c56a775: 'float' object has no attribute 'lower'\n"
     ]
    },
    {
     "name": "stderr",
     "output_type": "stream",
     "text": [
      "Separating healthy files:  98%|█████████▊| 3236/3309 [01:32<00:01, 37.88it/s]"
     ]
    },
    {
     "name": "stdout",
     "output_type": "stream",
     "text": [
      "An error occurred with fa9f06d7-9e5f-434d-a75d-81291b38ed2c: 'float' object has no attribute 'lower'\n"
     ]
    },
    {
     "name": "stderr",
     "output_type": "stream",
     "text": [
      "Separating healthy files:  98%|█████████▊| 3258/3309 [01:32<00:00, 52.02it/s]"
     ]
    },
    {
     "name": "stdout",
     "output_type": "stream",
     "text": [
      "An error occurred with fb489899-139f-405e-98bd-d979e4573ce3: 'float' object has no attribute 'lower'\n",
      "An error occurred with fb4b32b2-bf65-4281-bfb2-de5a20937c3c: 'float' object has no attribute 'lower'\n",
      "An error occurred with fb729dce-07dc-4a5e-8d50-1a8663e7b297: 'float' object has no attribute 'lower'\n",
      "An error occurred with fbbfb251-dab4-413f-8ec6-8fc0eb5c47a2: 'float' object has no attribute 'lower'\n",
      "An error occurred with fbd87c7e-81db-4f4b-a863-85f9339b4c50: 'float' object has no attribute 'lower'\n",
      "An error occurred with fbed2af5-2e30-4702-affd-c5154c570f9a: 'float' object has no attribute 'lower'\n",
      "An error occurred with fc695cbd-c0b3-4698-a070-d6481ee4fd12: 'float' object has no attribute 'lower'\n",
      "An error occurred with fca44b1d-945f-41e0-aa08-bae938627e0a: 'float' object has no attribute 'lower'\n",
      "An error occurred with fccfb969-00dc-402e-8952-ad3055f6f1e0: 'float' object has no attribute 'lower'\n",
      "An error occurred with fcd06cdc-73fd-4238-9620-cd55397aa7cc: 'float' object has no attribute 'lower'\n"
     ]
    },
    {
     "name": "stderr",
     "output_type": "stream",
     "text": [
      "Separating healthy files:  99%|█████████▊| 3264/3309 [01:33<00:01, 38.31it/s]"
     ]
    },
    {
     "name": "stdout",
     "output_type": "stream",
     "text": [
      "An error occurred with fd390b72-ccd8-4f22-9d1a-06d5d3b74ae4: 'float' object has no attribute 'lower'\n",
      "An error occurred with fd3a7aa2-607d-4adb-903a-8ab9057a2120: 'float' object has no attribute 'lower'\n",
      "An error occurred with fd805990-f78e-4b88-836e-66c3d211fb15: 'float' object has no attribute 'lower'\n"
     ]
    },
    {
     "name": "stderr",
     "output_type": "stream",
     "text": [
      "Separating healthy files:  99%|█████████▉| 3276/3309 [01:33<00:00, 35.13it/s]"
     ]
    },
    {
     "name": "stdout",
     "output_type": "stream",
     "text": [
      "An error occurred with fd9a47b3-9b67-4977-9477-f64872da4407: 'float' object has no attribute 'lower'\n",
      "An error occurred with fdc24218-9958-42b6-bdf7-746b444940ef: 'float' object has no attribute 'lower'\n",
      "An error occurred with fe1cc11e-7218-4f43-9fa8-26d379968963: 'float' object has no attribute 'lower'\n"
     ]
    },
    {
     "name": "stderr",
     "output_type": "stream",
     "text": [
      "Separating healthy files: 100%|█████████▉| 3296/3309 [01:33<00:00, 57.17it/s]"
     ]
    },
    {
     "name": "stdout",
     "output_type": "stream",
     "text": [
      "An error occurred with fe42e2b2-fe8d-4e0d-8444-179305bdce07: 'float' object has no attribute 'lower'\n",
      "An error occurred with fe5882a5-9b5b-4f57-a108-5f0318866318: 'float' object has no attribute 'lower'\n",
      "An error occurred with fe8357fa-cb0c-4dad-b4be-d651ab256e6a: 'float' object has no attribute 'lower'\n",
      "An error occurred with fe88556f-89c4-4ac3-8b27-0d759e9c211a: 'float' object has no attribute 'lower'\n",
      "An error occurred with feb0273d-00a6-4a6c-886f-9a71d42cc584: 'float' object has no attribute 'lower'\n",
      "An error occurred with ff6fe95a-a854-4c25-ba39-89c7f511793f: 'float' object has no attribute 'lower'\n"
     ]
    },
    {
     "name": "stderr",
     "output_type": "stream",
     "text": [
      "Separating healthy files: 100%|██████████| 3309/3309 [01:33<00:00, 35.22it/s]"
     ]
    },
    {
     "name": "stdout",
     "output_type": "stream",
     "text": [
      "An error occurred with ff7fbb79-5f4f-49a0-b2dc-57da67222928: 'float' object has no attribute 'lower'\n",
      "An error occurred with ff860834-53d2-405e-8b29-065b917a48dd: 'float' object has no attribute 'lower'\n",
      "An error occurred with ffe8b243-9c7b-49f1-8d7d-a953f736ea4b: 'float' object has no attribute 'lower'\n",
      "\n",
      "[COMPLETE] Copied 1533 healthy audio files to the 'raw/healthy' folder.\n"
     ]
    },
    {
     "name": "stderr",
     "output_type": "stream",
     "text": [
      "\n"
     ]
    }
   ],
   "source": [
    "import pandas as pd\n",
    "from pathlib import Path\n",
    "import shutil\n",
    "\n",
    "# === CONFIG (Update these paths) ===\n",
    "csv_file = \"F:\\Research_Project_CMP9140\\Data_Set\\COUGHVID\\coughvid_20211012/metadata_compiled.csv\"\n",
    "audio_dir = Path(\"F:\\Research_Project_CMP9140\\Data_Set\\COUGHVID\\coughvid_20211012\")\n",
    "output_healthy_audio = Path(\"../data/raw/healthy2/\")\n",
    "# ==================================\n",
    "\n",
    "# Load metadata and set UUID as the index for very fast lookups\n",
    "print(\"[INFO] Loading metadata file...\")\n",
    "df = pd.read_csv(csv_file)\n",
    "df.columns = df.columns.str.strip().str.lower()\n",
    "# This helps find files even if there are extra spaces\n",
    "df['uuid'] = df['uuid'].str.strip() \n",
    "df.set_index('uuid', inplace=True)\n",
    "print(\"[INFO] Metadata loaded.\")\n",
    "\n",
    "# Get a list of all .wav files you have actually downloaded\n",
    "print(\"[INFO] Finding all downloaded .wav files...\")\n",
    "all_wav_files = list(audio_dir.glob(\"**/*.wav\"))\n",
    "print(f\"[INFO] Found {len(all_wav_files)} .wav files to check.\")\n",
    "\n",
    "copied_count = 0\n",
    "# Loop through the list of audio files that actually exist on your computer\n",
    "for audio_path in tqdm(all_wav_files, desc=\"Separating healthy files\"):\n",
    "    # Get the filename without the \".wav\" extension\n",
    "    file_id = audio_path.stem \n",
    "\n",
    "    try:\n",
    "        # Look up the status of this specific file_id in the CSV\n",
    "        status = df.loc[file_id, 'status']\n",
    "        \n",
    "        # If the status is 'healthy', copy the file\n",
    "        if status.lower() == 'healthy':\n",
    "            dest_path = output_healthy_audio / audio_path.name\n",
    "            shutil.copy(audio_path, dest_path)\n",
    "            copied_count += 1\n",
    "    except KeyError:\n",
    "        # This means the audio file's ID wasn't in the CSV, so we skip it\n",
    "        continue\n",
    "    except Exception as e:\n",
    "        print(f\"An error occurred with {file_id}: {e}\")\n",
    "\n",
    "print(f\"\\n[COMPLETE] Copied {copied_count} healthy audio files to the 'raw/healthy' folder.\")\n"
   ]
  },
  {
   "cell_type": "code",
   "execution_count": null,
   "id": "775b8f06",
   "metadata": {},
   "outputs": [],
   "source": []
  }
 ],
 "metadata": {
  "kernelspec": {
   "display_name": "base",
   "language": "python",
   "name": "python3"
  },
  "language_info": {
   "codemirror_mode": {
    "name": "ipython",
    "version": 3
   },
   "file_extension": ".py",
   "mimetype": "text/x-python",
   "name": "python",
   "nbconvert_exporter": "python",
   "pygments_lexer": "ipython3",
   "version": "3.12.7"
  }
 },
 "nbformat": 4,
 "nbformat_minor": 5
}
