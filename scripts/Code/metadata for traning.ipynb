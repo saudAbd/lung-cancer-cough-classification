{
 "cells": [
  {
   "cell_type": "code",
   "execution_count": 1,
   "id": "b31a75f1",
   "metadata": {},
   "outputs": [
    {
     "name": "stdout",
     "output_type": "stream",
     "text": [
      "[INFO] Metadata generated with 3601 samples.\n",
      "[INFO] Saved to: F:\\Research_Project_CMP9140\\lung-cancer-cough-classification\\data\\Spectrograms\\metadata.csv\n",
      "                                            filepath   label  source\n",
      "0  F:\\Research_Project_CMP9140\\lung-cancer-cough-...  cancer  cancer\n",
      "1  F:\\Research_Project_CMP9140\\lung-cancer-cough-...  cancer  cancer\n",
      "2  F:\\Research_Project_CMP9140\\lung-cancer-cough-...  cancer  cancer\n",
      "3  F:\\Research_Project_CMP9140\\lung-cancer-cough-...  cancer  cancer\n",
      "4  F:\\Research_Project_CMP9140\\lung-cancer-cough-...  cancer  cancer\n"
     ]
    }
   ],
   "source": [
    "import pandas as pd\n",
    "from pathlib import Path\n",
    "\n",
    "# Update this path to your main processed folder\n",
    "base_dir = Path(r\"F:\\Research_Project_CMP9140\\lung-cancer-cough-classification\\data\\Spectrograms\\Processed\")\n",
    "\n",
    "# All subfolders (e.g., healthy_coswara, healthy_coughvid, healthy_kaggle, cancer)\n",
    "folders = [f for f in base_dir.iterdir() if f.is_dir()]\n",
    "\n",
    "data = []\n",
    "\n",
    "for folder in folders:\n",
    "    label = \"cancer\" if \"cancer\" in folder.name.lower() else \"healthy\"\n",
    "    source = folder.name  # Keep track of the dataset source\n",
    "\n",
    "    for img_file in folder.glob(\"*.png\"):\n",
    "        data.append({\n",
    "            \"filepath\": str(img_file),\n",
    "            \"label\": label,\n",
    "            \"source\": source\n",
    "        })\n",
    "\n",
    "# Create DataFrame\n",
    "df = pd.DataFrame(data)\n",
    "\n",
    "# Save metadata\n",
    "output_csv = base_dir.parent / \"metadata.csv\"\n",
    "df.to_csv(output_csv, index=False)\n",
    "\n",
    "print(f\"[INFO] Metadata generated with {len(df)} samples.\")\n",
    "print(f\"[INFO] Saved to: {output_csv}\")\n",
    "print(df.head())\n"
   ]
  },
  {
   "cell_type": "code",
   "execution_count": null,
   "id": "a9c547c2",
   "metadata": {},
   "outputs": [],
   "source": []
  }
 ],
 "metadata": {
  "kernelspec": {
   "display_name": "base",
   "language": "python",
   "name": "python3"
  },
  "language_info": {
   "codemirror_mode": {
    "name": "ipython",
    "version": 3
   },
   "file_extension": ".py",
   "mimetype": "text/x-python",
   "name": "python",
   "nbconvert_exporter": "python",
   "pygments_lexer": "ipython3",
   "version": "3.12.7"
  }
 },
 "nbformat": 4,
 "nbformat_minor": 5
}
