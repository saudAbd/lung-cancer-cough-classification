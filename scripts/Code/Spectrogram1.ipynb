{
 "cells": [
  {
   "cell_type": "code",
   "execution_count": 1,
   "id": "49e32086",
   "metadata": {},
   "outputs": [
    {
     "name": "stdout",
     "output_type": "stream",
     "text": [
      "Input Folder: F:\\Research_Project_CMP9140\\lung-cancer-cough-classification\\data\\raw\\healthy2\n",
      "Output Folder: F:\\Research_Project_CMP9140\\lung-cancer-cough-classification\\data\\Processed\\healthy\n",
      "Found 1659 files to process.\n"
     ]
    },
    {
     "name": "stderr",
     "output_type": "stream",
     "text": [
      "  0%|          | 0/1659 [00:00<?, ?it/s]d:\\Python\\Lib\\site-packages\\paramiko\\pkey.py:82: CryptographyDeprecationWarning: TripleDES has been moved to cryptography.hazmat.decrepit.ciphers.algorithms.TripleDES and will be removed from this module in 48.0.0.\n",
      "  \"cipher\": algorithms.TripleDES,\n",
      "d:\\Python\\Lib\\site-packages\\paramiko\\transport.py:219: CryptographyDeprecationWarning: Blowfish has been moved to cryptography.hazmat.decrepit.ciphers.algorithms.Blowfish and will be removed from this module in 45.0.0.\n",
      "  \"class\": algorithms.Blowfish,\n",
      "d:\\Python\\Lib\\site-packages\\paramiko\\transport.py:243: CryptographyDeprecationWarning: TripleDES has been moved to cryptography.hazmat.decrepit.ciphers.algorithms.TripleDES and will be removed from this module in 48.0.0.\n",
      "  \"class\": algorithms.TripleDES,\n",
      "C:\\Users\\HP\\AppData\\Local\\Temp\\ipykernel_26480\\3756852384.py:44: UserWarning: PySoundFile failed. Trying audioread instead.\n",
      "  y, sr = librosa.load(audio_path, sr=sample_rate)\n",
      "d:\\Python\\Lib\\site-packages\\librosa\\core\\audio.py:184: FutureWarning: librosa.core.audio.__audioread_load\n",
      "\tDeprecated as of librosa version 0.10.0.\n",
      "\tIt will be removed in librosa version 1.0.\n",
      "  y, sr_native = __audioread_load(path, offset, duration, dtype)\n",
      "  0%|          | 1/1659 [00:09<4:14:21,  9.21s/it]"
     ]
    },
    {
     "name": "stdout",
     "output_type": "stream",
     "text": [
      "Error processing 00098cdb-4da1-4aa7-825a-4f1b9abc214b.wav: \n"
     ]
    },
    {
     "name": "stderr",
     "output_type": "stream",
     "text": [
      "  0%|          | 4/1659 [00:14<1:01:46,  2.24s/it]C:\\Users\\HP\\AppData\\Local\\Temp\\ipykernel_26480\\3756852384.py:44: UserWarning: PySoundFile failed. Trying audioread instead.\n",
      "  y, sr = librosa.load(audio_path, sr=sample_rate)\n",
      "d:\\Python\\Lib\\site-packages\\librosa\\core\\audio.py:184: FutureWarning: librosa.core.audio.__audioread_load\n",
      "\tDeprecated as of librosa version 0.10.0.\n",
      "\tIt will be removed in librosa version 1.0.\n",
      "  y, sr_native = __audioread_load(path, offset, duration, dtype)\n",
      "  0%|          | 6/1659 [00:14<30:31,  1.11s/it]  "
     ]
    },
    {
     "name": "stdout",
     "output_type": "stream",
     "text": [
      "Error processing 007089d2-ed48-4464-b981-66fc66a6c121.wav: \n"
     ]
    },
    {
     "name": "stderr",
     "output_type": "stream",
     "text": [
      "  1%|          | 9/1659 [00:14<15:17,  1.80it/s]"
     ]
    },
    {
     "name": "stdout",
     "output_type": "stream",
     "text": [
      "Error processing 00bca802-462d-403c-956d-5c92f3f886c3.wav: \n",
      "Error processing 00eb562b-7e14-4981-8521-0194253470f0.wav: \n",
      "Error processing 00eeef06-9ab0-45d8-8ddf-5fbc54b96dec.wav: \n",
      "Error processing 00f41aaf-b05b-4594-8769-fed636fad323.wav: \n",
      "Error processing 00f461f5-d121-4254-8d8b-6111e523c5ae.wav: \n"
     ]
    },
    {
     "name": "stderr",
     "output_type": "stream",
     "text": [
      "  1%|          | 15/1659 [00:15<08:32,  3.21it/s]"
     ]
    },
    {
     "name": "stdout",
     "output_type": "stream",
     "text": [
      "Error processing 016173c7-5890-49e2-891f-3ef460cda5f8.wav: \n",
      "Error processing 01861986-a00a-44ec-a397-5b5cf7cb66af.wav: \n",
      "Error processing 01887051-1e3a-4287-85bc-0f2633740667.wav: \n",
      "Error processing 01c1c8d7-611c-4a28-b48a-8f0ce3506e49.wav: \n",
      "Error processing 01f22bba-9d34-451f-868a-dacd249ccd71.wav: \n"
     ]
    },
    {
     "name": "stderr",
     "output_type": "stream",
     "text": [
      "  2%|▏         | 26/1659 [00:17<05:02,  5.39it/s]"
     ]
    },
    {
     "name": "stdout",
     "output_type": "stream",
     "text": [
      "Error processing 020eab56-1312-4f66-9f96-0bafdcac2be4.wav: \n",
      "Error processing 0225680c-9b5b-4d47-9add-d5cb8bf42337.wav: \n",
      "Error processing 02335034-6397-4cb3-9f05-04398651c749.wav: \n"
     ]
    },
    {
     "name": "stderr",
     "output_type": "stream",
     "text": [
      "  2%|▏         | 31/1659 [00:17<03:25,  7.94it/s]"
     ]
    },
    {
     "name": "stdout",
     "output_type": "stream",
     "text": [
      "Error processing 026967ef-d1a3-4fc5-a752-e0259d3c92a1.wav: \n",
      "Error processing 028ec384-8216-492a-9c16-ba00367b6e3e.wav: \n"
     ]
    },
    {
     "name": "stderr",
     "output_type": "stream",
     "text": [
      "  2%|▏         | 35/1659 [00:17<03:28,  7.80it/s]"
     ]
    },
    {
     "name": "stdout",
     "output_type": "stream",
     "text": [
      "Error processing 02ea54d1-9935-4404-80b5-9841dc5f7e00.wav: \n",
      "Error processing 02f276e7-f935-4154-aa17-39fd7166e929.wav: \n"
     ]
    },
    {
     "name": "stderr",
     "output_type": "stream",
     "text": [
      "  2%|▏         | 38/1659 [00:18<03:29,  7.73it/s]"
     ]
    },
    {
     "name": "stdout",
     "output_type": "stream",
     "text": [
      "Error processing 033010fd-2c99-46b6-9198-6ff053d88c12.wav: \n"
     ]
    },
    {
     "name": "stderr",
     "output_type": "stream",
     "text": [
      "  3%|▎         | 45/1659 [00:19<03:21,  8.03it/s]"
     ]
    },
    {
     "name": "stdout",
     "output_type": "stream",
     "text": [
      "Error processing 045404f5-fd32-49e9-b48f-d0cd6569fd4b.wav: \n"
     ]
    },
    {
     "name": "stderr",
     "output_type": "stream",
     "text": [
      "  3%|▎         | 48/1659 [00:20<05:11,  5.17it/s]"
     ]
    },
    {
     "name": "stdout",
     "output_type": "stream",
     "text": [
      "Error processing 04a60f2a-e4bc-4dd9-bd75-8598de152d45.wav: \n"
     ]
    },
    {
     "name": "stderr",
     "output_type": "stream",
     "text": [
      "  3%|▎         | 53/1659 [00:20<03:17,  8.14it/s]"
     ]
    },
    {
     "name": "stdout",
     "output_type": "stream",
     "text": [
      "Error processing 04b709e3-2aae-4f51-b81a-3fc157ba2994.wav: \n",
      "Error processing 04fb9f54-00f2-477a-a79f-7db1ddfae415.wav: \n"
     ]
    },
    {
     "name": "stderr",
     "output_type": "stream",
     "text": [
      "  3%|▎         | 58/1659 [00:21<03:00,  8.86it/s]"
     ]
    },
    {
     "name": "stdout",
     "output_type": "stream",
     "text": [
      "Error processing 05e22d2a-0eff-475f-b663-1d39283cb42d.wav: \n",
      "Error processing 05e6422c-fac4-4dc3-bc69-3030839f7caf.wav: \n",
      "Error processing 06b55e46-5023-48e6-96c5-434261268ab8.wav: \n"
     ]
    },
    {
     "name": "stderr",
     "output_type": "stream",
     "text": [
      "  4%|▎         | 62/1659 [00:22<04:28,  5.95it/s]"
     ]
    },
    {
     "name": "stdout",
     "output_type": "stream",
     "text": [
      "Error processing 07a762da-332e-41a9-8374-136552397b04.wav: \n"
     ]
    },
    {
     "name": "stderr",
     "output_type": "stream",
     "text": [
      "  4%|▍         | 72/1659 [00:22<01:48, 14.68it/s]"
     ]
    },
    {
     "name": "stdout",
     "output_type": "stream",
     "text": [
      "Error processing 07fcc0af-e219-4421-bf02-4562284e2d92.wav: \n",
      "Error processing 0801ef4f-795a-4755-b861-adcaa52f1818.wav: \n",
      "Error processing 0886c74c-725a-4539-83ea-7bbdd1ca093c.wav: \n",
      "Error processing 08cd3aec-ad63-430b-b670-01fbd328c8b3.wav: \n",
      "Error processing 08e35e05-f2d0-45fc-abcb-1316fda14db4.wav: \n",
      "Error processing 08f0b838-4104-46bf-b234-554c30fd8238.wav: \n",
      "Error processing 092a0f31-db97-4d45-a643-c5984b6f4cf9.wav: \n",
      "Error processing 093a01ef-0cb6-49e3-a54e-2318b696cfd7.wav: \n"
     ]
    },
    {
     "name": "stderr",
     "output_type": "stream",
     "text": [
      "  5%|▍         | 75/1659 [00:23<02:06, 12.56it/s]"
     ]
    },
    {
     "name": "stdout",
     "output_type": "stream",
     "text": [
      "Error processing 0a3556ce-e37b-48cb-9867-3497956f5a04.wav: \n"
     ]
    },
    {
     "name": "stderr",
     "output_type": "stream",
     "text": [
      "  5%|▍         | 79/1659 [00:23<03:01,  8.68it/s]"
     ]
    },
    {
     "name": "stdout",
     "output_type": "stream",
     "text": [
      "Error processing 0ace0c46-6ca7-4749-9f9b-470e63c64999.wav: \n",
      "Error processing 0ad66251-aa2a-4b28-9a8b-e145cfc8bc21.wav: \n"
     ]
    },
    {
     "name": "stderr",
     "output_type": "stream",
     "text": [
      "  5%|▌         | 84/1659 [00:24<04:15,  6.16it/s]"
     ]
    },
    {
     "name": "stdout",
     "output_type": "stream",
     "text": [
      "Error processing 0b52ef1e-a0df-481c-b674-7a13317ed727.wav: \n",
      "Error processing 0b7e830a-d625-4ec4-ad3a-4c0a5d382fda.wav: \n"
     ]
    },
    {
     "name": "stderr",
     "output_type": "stream",
     "text": [
      "  5%|▌         | 87/1659 [00:25<04:18,  6.09it/s]"
     ]
    },
    {
     "name": "stdout",
     "output_type": "stream",
     "text": [
      "Error processing 0bd3c2f3-bfd8-46de-a90a-41ddcee2b586.wav: \n",
      "Error processing 0bffcea9-4afe-4efe-9fc7-4ae2a8956daf.wav: \n"
     ]
    },
    {
     "name": "stderr",
     "output_type": "stream",
     "text": [
      "  5%|▌         | 90/1659 [00:25<03:12,  8.15it/s]"
     ]
    },
    {
     "name": "stdout",
     "output_type": "stream",
     "text": [
      "Error processing 0c218289-a7ae-4b6f-88b3-6eaf08b6484f.wav: \n"
     ]
    },
    {
     "name": "stderr",
     "output_type": "stream",
     "text": [
      "  6%|▌         | 98/1659 [00:26<03:49,  6.81it/s]"
     ]
    },
    {
     "name": "stdout",
     "output_type": "stream",
     "text": [
      "Error processing 0d48a6a4-b166-4cab-a748-a35a84e0a7c7.wav: \n",
      "Error processing 0db55d54-78ad-4bca-91ac-cb90cc34f74d.wav: \n"
     ]
    },
    {
     "name": "stderr",
     "output_type": "stream",
     "text": [
      "  6%|▌         | 102/1659 [00:27<04:09,  6.25it/s]"
     ]
    },
    {
     "name": "stdout",
     "output_type": "stream",
     "text": [
      "Error processing 0dddb73e-8bc6-45f0-879e-7e40387599d4.wav: \n",
      "Error processing 0df75466-7a54-41e1-8b97-e84b9ec356d2.wav: \n"
     ]
    },
    {
     "name": "stderr",
     "output_type": "stream",
     "text": [
      "  6%|▋         | 107/1659 [00:28<03:46,  6.84it/s]"
     ]
    },
    {
     "name": "stdout",
     "output_type": "stream",
     "text": [
      "Error processing 0ef8b324-f619-4c79-8c7e-8d0e1ff3e6a5.wav: \n",
      "Error processing 0f0d7c3d-f36d-4983-94ac-68a2abf29f86.wav: \n"
     ]
    },
    {
     "name": "stderr",
     "output_type": "stream",
     "text": [
      "  7%|▋         | 110/1659 [00:28<03:59,  6.47it/s]"
     ]
    },
    {
     "name": "stdout",
     "output_type": "stream",
     "text": [
      "Error processing 0f629beb-0401-415b-9069-67d89ecd1e78.wav: \n",
      "Error processing 0f740f8b-e028-4ec4-812f-9732babeffec.wav: \n"
     ]
    },
    {
     "name": "stderr",
     "output_type": "stream",
     "text": [
      "  7%|▋         | 112/1659 [00:29<04:01,  6.39it/s]"
     ]
    },
    {
     "name": "stdout",
     "output_type": "stream",
     "text": [
      "Error processing 101d9d85-6e30-4512-ac16-c09ec80c274a.wav: \n"
     ]
    },
    {
     "name": "stderr",
     "output_type": "stream",
     "text": [
      "  7%|▋         | 120/1659 [00:30<04:48,  5.34it/s]"
     ]
    },
    {
     "name": "stdout",
     "output_type": "stream",
     "text": [
      "Error processing 10e0a31f-bc7d-46ad-ac22-32f4cf230a38.wav: \n"
     ]
    },
    {
     "name": "stderr",
     "output_type": "stream",
     "text": [
      "  7%|▋         | 124/1659 [00:31<06:02,  4.23it/s]"
     ]
    },
    {
     "name": "stdout",
     "output_type": "stream",
     "text": [
      "Error processing 11b17520-ab42-472b-99d9-047fad32b9ff.wav: \n"
     ]
    },
    {
     "name": "stderr",
     "output_type": "stream",
     "text": [
      "  8%|▊         | 126/1659 [00:32<05:01,  5.09it/s]"
     ]
    },
    {
     "name": "stdout",
     "output_type": "stream",
     "text": [
      "Error processing 1207db70-09f9-45b1-81b7-59b95eb949c8.wav: \n"
     ]
    },
    {
     "name": "stderr",
     "output_type": "stream",
     "text": [
      "  8%|▊         | 131/1659 [00:33<05:19,  4.78it/s]"
     ]
    },
    {
     "name": "stdout",
     "output_type": "stream",
     "text": [
      "Error processing 12da6703-4827-4f63-99f3-7ceae083ce35.wav: \n",
      "Error processing 12dda628-df74-439e-a8df-f4fa6234ed3d.wav: \n"
     ]
    },
    {
     "name": "stderr",
     "output_type": "stream",
     "text": [
      "  8%|▊         | 135/1659 [00:33<04:20,  5.84it/s]"
     ]
    },
    {
     "name": "stdout",
     "output_type": "stream",
     "text": [
      "Error processing 1334b337-c40c-4cf2-a392-54c79a200856.wav: \n"
     ]
    },
    {
     "name": "stderr",
     "output_type": "stream",
     "text": [
      "  8%|▊         | 137/1659 [00:33<03:48,  6.67it/s]"
     ]
    },
    {
     "name": "stdout",
     "output_type": "stream",
     "text": [
      "Error processing 13e39226-e7a6-4e24-a3c4-f997272f4136.wav: \n"
     ]
    },
    {
     "name": "stderr",
     "output_type": "stream",
     "text": [
      "  9%|▉         | 152/1659 [00:36<03:05,  8.14it/s]"
     ]
    },
    {
     "name": "stdout",
     "output_type": "stream",
     "text": [
      "Error processing 15d51bac-3b27-4170-b3ec-909ea76a3031.wav: \n",
      "Error processing 16030693-f208-413e-a5d8-72921f3b8fca.wav: \n"
     ]
    },
    {
     "name": "stderr",
     "output_type": "stream",
     "text": [
      "  9%|▉         | 155/1659 [00:37<04:32,  5.52it/s]"
     ]
    },
    {
     "name": "stdout",
     "output_type": "stream",
     "text": [
      "Error processing 16e22fff-4125-4b42-8c4e-cc4ff55688b6.wav: \n",
      "Error processing 1700295e-1023-4738-9821-695cabd829b6.wav: \n"
     ]
    },
    {
     "name": "stderr",
     "output_type": "stream",
     "text": [
      " 10%|▉         | 159/1659 [00:37<03:36,  6.92it/s]"
     ]
    },
    {
     "name": "stdout",
     "output_type": "stream",
     "text": [
      "Error processing 174e954c-f0cd-403e-9c89-289a11563ea7.wav: \n",
      "Error processing 1768153e-67b0-43ba-92c3-10b3b0c42a9a.wav: \n",
      "Error processing 17691258-9711-4fba-bf92-b4a5ec55ed84.wav: \n"
     ]
    },
    {
     "name": "stderr",
     "output_type": "stream",
     "text": [
      " 10%|▉         | 164/1659 [00:38<02:54,  8.55it/s]"
     ]
    },
    {
     "name": "stdout",
     "output_type": "stream",
     "text": [
      "Error processing 18356979-ed77-4b80-9810-b4db64db672f.wav: \n",
      "Error processing 1845da6d-4ff4-4d68-8e2a-da12bd48b2b0.wav: \n",
      "Error processing 18523b48-4314-4761-86b4-b37c0532f832.wav: \n",
      "Error processing 186c27db-f13e-4379-a644-adae1d47a135.wav: \n"
     ]
    },
    {
     "name": "stderr",
     "output_type": "stream",
     "text": [
      " 10%|█         | 171/1659 [00:38<02:10, 11.40it/s]"
     ]
    },
    {
     "name": "stdout",
     "output_type": "stream",
     "text": [
      "Error processing 189979c9-cdb8-4927-be19-a7ae9690c7b2.wav: \n",
      "Error processing 18b56410-83d0-4fbb-9767-266ba3f5182b.wav: \n"
     ]
    },
    {
     "name": "stderr",
     "output_type": "stream",
     "text": [
      " 11%|█         | 176/1659 [00:40<04:34,  5.40it/s]"
     ]
    },
    {
     "name": "stdout",
     "output_type": "stream",
     "text": [
      "Error processing 197f6003-27c8-46ee-b214-374033b3ac68.wav: \n"
     ]
    },
    {
     "name": "stderr",
     "output_type": "stream",
     "text": [
      " 11%|█         | 180/1659 [00:41<05:08,  4.80it/s]"
     ]
    },
    {
     "name": "stdout",
     "output_type": "stream",
     "text": [
      "Error processing 19c2e55e-9e91-4d40-9abe-029603c938e8.wav: \n",
      "Error processing 19f26b8c-46d2-417b-b852-05972c793679.wav: \n"
     ]
    },
    {
     "name": "stderr",
     "output_type": "stream",
     "text": [
      " 11%|█         | 183/1659 [00:41<03:42,  6.62it/s]"
     ]
    },
    {
     "name": "stdout",
     "output_type": "stream",
     "text": [
      "Error processing 1a4f7f3a-06eb-4baf-b193-873034927f24.wav: \n"
     ]
    },
    {
     "name": "stderr",
     "output_type": "stream",
     "text": [
      " 11%|█▏        | 187/1659 [00:41<03:17,  7.44it/s]"
     ]
    },
    {
     "name": "stdout",
     "output_type": "stream",
     "text": [
      "Error processing 1a9f6297-20dc-49e5-8213-6d4c0791c2a0.wav: \n"
     ]
    },
    {
     "name": "stderr",
     "output_type": "stream",
     "text": [
      " 12%|█▏        | 192/1659 [00:43<05:23,  4.54it/s]"
     ]
    },
    {
     "name": "stdout",
     "output_type": "stream",
     "text": [
      "Error processing 1cacb04e-1100-4498-bbdf-39f38841a620.wav: \n",
      "Error processing 1cec57f8-962e-4ae6-b63c-0e12152ece76.wav: \n"
     ]
    },
    {
     "name": "stderr",
     "output_type": "stream",
     "text": [
      " 12%|█▏        | 195/1659 [00:43<04:48,  5.07it/s]"
     ]
    },
    {
     "name": "stdout",
     "output_type": "stream",
     "text": [
      "Error processing 1d066fd4-ecc6-430a-a34e-b6ebd9bbbdbb.wav: \n"
     ]
    },
    {
     "name": "stderr",
     "output_type": "stream",
     "text": [
      " 12%|█▏        | 197/1659 [00:44<04:56,  4.92it/s]"
     ]
    },
    {
     "name": "stdout",
     "output_type": "stream",
     "text": [
      "Error processing 1d1f1138-e687-43e7-9de3-164d74a20db3.wav: \n"
     ]
    },
    {
     "name": "stderr",
     "output_type": "stream",
     "text": [
      " 12%|█▏        | 199/1659 [00:44<04:31,  5.38it/s]"
     ]
    },
    {
     "name": "stdout",
     "output_type": "stream",
     "text": [
      "Error processing 1d4bf461-bcaa-4538-ac32-55d199e716ab.wav: \n",
      "Error processing 1d64fced-4d18-4967-b8ea-6479aefe5181.wav: \n"
     ]
    },
    {
     "name": "stderr",
     "output_type": "stream",
     "text": [
      " 12%|█▏        | 204/1659 [00:44<03:24,  7.12it/s]"
     ]
    },
    {
     "name": "stdout",
     "output_type": "stream",
     "text": [
      "Error processing 1dc73a7a-dc25-4377-9ede-ad8aca0a59fd.wav: \n"
     ]
    },
    {
     "name": "stderr",
     "output_type": "stream",
     "text": [
      " 12%|█▏        | 205/1659 [00:45<04:33,  5.31it/s]"
     ]
    },
    {
     "name": "stdout",
     "output_type": "stream",
     "text": [
      "Error processing 1e4dd4a4-477b-4d0a-abaa-3fe53c45c6c2.wav: \n",
      "Error processing 1ea6222f-ebe4-4227-9b13-88a66aeee465.wav: \n"
     ]
    },
    {
     "name": "stderr",
     "output_type": "stream",
     "text": [
      " 13%|█▎        | 211/1659 [00:45<03:25,  7.03it/s]"
     ]
    },
    {
     "name": "stdout",
     "output_type": "stream",
     "text": [
      "Error processing 1ee7f97c-60a9-46a1-a476-0390bc33c7d2.wav: \n",
      "Error processing 1f41d02c-f203-4195-ae10-d3b81ea612ce.wav: \n"
     ]
    },
    {
     "name": "stderr",
     "output_type": "stream",
     "text": [
      " 13%|█▎        | 215/1659 [00:46<02:30,  9.59it/s]"
     ]
    },
    {
     "name": "stdout",
     "output_type": "stream",
     "text": [
      "Error processing 1fd9b19e-54d8-4302-8f90-51f038957183.wav: \n",
      "Error processing 1feefd6b-84d5-4159-8387-0a4a09dcc1e4.wav: \n",
      "Error processing 201dde9c-b1c9-48e3-a7d3-898e128eb08c.wav: \n"
     ]
    },
    {
     "name": "stderr",
     "output_type": "stream",
     "text": [
      " 13%|█▎        | 219/1659 [00:47<04:33,  5.26it/s]"
     ]
    },
    {
     "name": "stdout",
     "output_type": "stream",
     "text": [
      "Error processing 2116e1b7-94b7-4f21-ba26-da9c9c08cdfc.wav: \n",
      "Error processing 21543ef3-f04a-427f-b71c-1bd1f6dc0445.wav: \n",
      "Error processing 2199446c-e531-4fd4-a6e6-f413d41efcc8.wav: \n"
     ]
    },
    {
     "name": "stderr",
     "output_type": "stream",
     "text": [
      " 14%|█▎        | 228/1659 [00:47<02:07, 11.22it/s]"
     ]
    },
    {
     "name": "stdout",
     "output_type": "stream",
     "text": [
      "Error processing 22018f2a-36d9-4f28-9f29-76634c8d00e4.wav: \n",
      "Error processing 2209f009-ee71-4289-9b40-422c5ac82d3f.wav: \n",
      "Error processing 2270a681-ee06-46ab-b1eb-4928a8e0f662.wav: \n",
      "Error processing 22c261f9-47db-450a-8846-8cb517e37421.wav: \n"
     ]
    },
    {
     "name": "stderr",
     "output_type": "stream",
     "text": [
      " 14%|█▍        | 230/1659 [00:48<02:19, 10.21it/s]"
     ]
    },
    {
     "name": "stdout",
     "output_type": "stream",
     "text": [
      "Error processing 23704523-4d25-497c-8b81-b2495d154af5.wav: \n"
     ]
    },
    {
     "name": "stderr",
     "output_type": "stream",
     "text": [
      " 14%|█▍        | 236/1659 [00:49<03:34,  6.64it/s]"
     ]
    },
    {
     "name": "stdout",
     "output_type": "stream",
     "text": [
      "Error processing 24268722-ee7b-420f-80bf-2b5e7d76d728.wav: \n",
      "Error processing 2445a58d-e09f-4734-9d6b-c05cbc44399f.wav: \n"
     ]
    },
    {
     "name": "stderr",
     "output_type": "stream",
     "text": [
      " 15%|█▍        | 247/1659 [00:50<02:05, 11.27it/s]"
     ]
    },
    {
     "name": "stdout",
     "output_type": "stream",
     "text": [
      "Error processing 25200d85-1c87-4699-a247-f5f8fed06c3d.wav: \n",
      "Error processing 254f39d2-7291-417a-b688-89962892dd11.wav: \n",
      "Error processing 256b12f7-cec0-4091-9383-c457524beb10.wav: \n",
      "Error processing 258358fd-521d-46d6-9471-bdf9349c31aa.wav: \n",
      "Error processing 25f6a979-f386-4100-b37e-a1d4e18c9067.wav: \n",
      "Error processing 26073735-f8a3-4b4b-ba63-55229c622004.wav: \n"
     ]
    },
    {
     "name": "stderr",
     "output_type": "stream",
     "text": [
      " 15%|█▌        | 252/1659 [00:51<02:03, 11.40it/s]"
     ]
    },
    {
     "name": "stdout",
     "output_type": "stream",
     "text": [
      "Error processing 264b59a6-967f-43c8-8ad3-c759319a2593.wav: \n"
     ]
    },
    {
     "name": "stderr",
     "output_type": "stream",
     "text": [
      " 15%|█▌        | 254/1659 [00:51<02:39,  8.80it/s]"
     ]
    },
    {
     "name": "stdout",
     "output_type": "stream",
     "text": [
      "Error processing 268046b8-62d4-4624-b8ba-5a11b337dff4.wav: \n"
     ]
    },
    {
     "name": "stderr",
     "output_type": "stream",
     "text": [
      " 15%|█▌        | 256/1659 [00:51<02:38,  8.88it/s]"
     ]
    },
    {
     "name": "stdout",
     "output_type": "stream",
     "text": [
      "Error processing 26e6c6d2-41bb-4e5b-a6ed-1a86fcd0c3d5.wav: \n",
      "Error processing 26f9a4e8-bbc3-4a74-b537-123d478bc692.wav: \n",
      "Error processing 27121566-6c40-487d-83cc-ced165112315.wav: \n"
     ]
    },
    {
     "name": "stderr",
     "output_type": "stream",
     "text": [
      " 16%|█▌        | 261/1659 [00:52<02:25,  9.60it/s]"
     ]
    },
    {
     "name": "stdout",
     "output_type": "stream",
     "text": [
      "Error processing 271ca096-4b7b-4501-b406-c257498c707b.wav: \n"
     ]
    },
    {
     "name": "stderr",
     "output_type": "stream",
     "text": [
      " 16%|█▌        | 266/1659 [00:52<02:57,  7.84it/s]"
     ]
    },
    {
     "name": "stdout",
     "output_type": "stream",
     "text": [
      "Error processing 274a40d8-44ad-437b-a22c-86f543bddeff.wav: \n",
      "Error processing 275a19fe-e93e-4217-bd31-9426a8a608d1.wav: \n",
      "Error processing 2761dd4d-ee17-460a-ac93-a2c4008f1b1e.wav: \n"
     ]
    },
    {
     "name": "stderr",
     "output_type": "stream",
     "text": [
      " 16%|█▋        | 271/1659 [00:53<03:31,  6.57it/s]"
     ]
    },
    {
     "name": "stdout",
     "output_type": "stream",
     "text": [
      "Error processing 29001fdf-6b23-4637-a9eb-4817ef78f3d6.wav: \n"
     ]
    },
    {
     "name": "stderr",
     "output_type": "stream",
     "text": [
      " 17%|█▋        | 277/1659 [00:54<02:16, 10.15it/s]"
     ]
    },
    {
     "name": "stdout",
     "output_type": "stream",
     "text": [
      "Error processing 2926c346-6345-4b42-8de2-77e94b634afd.wav: \n",
      "Error processing 29acef42-4926-4113-80e3-101afb073995.wav: \n",
      "Error processing 29d56ba1-b96b-40ce-8804-7deda01ae647.wav: \n",
      "Error processing 2a471e6d-779c-4d30-ba06-ffc97bda33a0.wav: \n"
     ]
    },
    {
     "name": "stderr",
     "output_type": "stream",
     "text": [
      " 17%|█▋        | 280/1659 [00:54<02:55,  7.87it/s]"
     ]
    },
    {
     "name": "stdout",
     "output_type": "stream",
     "text": [
      "Error processing 2ac4a59e-891b-494c-8e2f-932b81606005.wav: \n",
      "Error processing 2ae4e11b-c16e-486d-bcfe-4b550f575b23.wav: \n"
     ]
    },
    {
     "name": "stderr",
     "output_type": "stream",
     "text": [
      " 17%|█▋        | 290/1659 [00:56<02:40,  8.53it/s]"
     ]
    },
    {
     "name": "stdout",
     "output_type": "stream",
     "text": [
      "Error processing 2b861eee-cf74-4277-8062-399c4a388196.wav: \n",
      "Error processing 2c01d847-54c8-449e-80c2-3d3f415096e7.wav: \n"
     ]
    },
    {
     "name": "stderr",
     "output_type": "stream",
     "text": [
      " 18%|█▊        | 291/1659 [00:56<03:10,  7.18it/s]"
     ]
    },
    {
     "name": "stdout",
     "output_type": "stream",
     "text": [
      "Error processing 2c2abfd7-52ab-457b-a947-cac6f50f467c.wav: \n"
     ]
    },
    {
     "name": "stderr",
     "output_type": "stream",
     "text": [
      " 18%|█▊        | 300/1659 [00:57<02:33,  8.83it/s]"
     ]
    },
    {
     "name": "stdout",
     "output_type": "stream",
     "text": [
      "Error processing 2cf2d21a-77eb-4cf5-a22a-676e13e4596e.wav: \n",
      "Error processing 2d0580fe-7883-4218-a7e1-28a926627127.wav: \n",
      "Error processing 2d29cca6-fa8f-4722-b82a-2c3268b434ef.wav: \n",
      "Error processing 2d366a21-f992-4aa9-a05a-c4374f1615de.wav: \n",
      "Error processing 2d8038de-1538-434a-b3f3-b8ff5655a836.wav: \n",
      "Error processing 2d8c9420-b96d-42f2-9d3d-472713f5d28b.wav: \n"
     ]
    },
    {
     "name": "stderr",
     "output_type": "stream",
     "text": [
      " 19%|█▊        | 307/1659 [00:58<02:38,  8.55it/s]"
     ]
    },
    {
     "name": "stdout",
     "output_type": "stream",
     "text": [
      "Error processing 2de3eb1a-8460-45b4-8124-ad980daf535e.wav: \n",
      "Error processing 2eb2f88a-b522-4f79-872f-4a7b793e6805.wav: \n"
     ]
    },
    {
     "name": "stderr",
     "output_type": "stream",
     "text": [
      " 19%|█▊        | 311/1659 [00:59<02:35,  8.68it/s]"
     ]
    },
    {
     "name": "stdout",
     "output_type": "stream",
     "text": [
      "Error processing 2f968129-d6f0-4254-a053-c8dd7544abb1.wav: \n",
      "Error processing 2fe399a0-bc5c-49df-a503-069ecf2fd59e.wav: \n",
      "Error processing 300b6f03-4b65-46fc-a229-e4be93bd9956.wav: \n",
      "Error processing 301b0b1e-3126-450d-b81d-0fffd598cc2a.wav: \n"
     ]
    },
    {
     "name": "stderr",
     "output_type": "stream",
     "text": [
      " 19%|█▉        | 316/1659 [00:59<02:33,  8.78it/s]"
     ]
    },
    {
     "name": "stdout",
     "output_type": "stream",
     "text": [
      "Error processing 304baaa9-06f9-4890-bc53-06a497aca343.wav: \n"
     ]
    },
    {
     "name": "stderr",
     "output_type": "stream",
     "text": [
      " 19%|█▉        | 322/1659 [01:01<04:45,  4.69it/s]"
     ]
    },
    {
     "name": "stdout",
     "output_type": "stream",
     "text": [
      "Error processing 317577a8-510c-4aa9-96dd-de3a288c3ef9.wav: \n"
     ]
    },
    {
     "name": "stderr",
     "output_type": "stream",
     "text": [
      " 20%|█▉        | 324/1659 [01:01<06:10,  3.61it/s]"
     ]
    },
    {
     "name": "stdout",
     "output_type": "stream",
     "text": [
      "Error processing 32146ce5-8845-449e-9cb6-d0f0500c5be4.wav: \n"
     ]
    },
    {
     "name": "stderr",
     "output_type": "stream",
     "text": [
      " 20%|█▉        | 326/1659 [01:02<05:55,  3.75it/s]"
     ]
    },
    {
     "name": "stdout",
     "output_type": "stream",
     "text": [
      "Error processing 32c1fef3-5ad1-419c-99fd-39de71b07e78.wav: \n"
     ]
    },
    {
     "name": "stderr",
     "output_type": "stream",
     "text": [
      " 20%|█▉        | 331/1659 [01:02<03:33,  6.22it/s]"
     ]
    },
    {
     "name": "stdout",
     "output_type": "stream",
     "text": [
      "Error processing 33015c6a-6a0c-4027-9818-7ef9fe5d1b79.wav: \n",
      "Error processing 33658962-c783-4084-8322-db1c0fc99056.wav: \n"
     ]
    },
    {
     "name": "stderr",
     "output_type": "stream",
     "text": [
      " 20%|██        | 333/1659 [01:03<03:27,  6.40it/s]"
     ]
    },
    {
     "name": "stdout",
     "output_type": "stream",
     "text": [
      "Error processing 33789fa4-8167-4041-ae46-8e7ef702c587.wav: \n"
     ]
    },
    {
     "name": "stderr",
     "output_type": "stream",
     "text": [
      " 20%|██        | 338/1659 [01:03<03:07,  7.04it/s]"
     ]
    },
    {
     "name": "stdout",
     "output_type": "stream",
     "text": [
      "Error processing 341cab9c-c4d7-4d1a-9635-2f7f8416381c.wav: \n"
     ]
    },
    {
     "name": "stderr",
     "output_type": "stream",
     "text": [
      " 21%|██        | 341/1659 [01:04<04:40,  4.69it/s]"
     ]
    },
    {
     "name": "stdout",
     "output_type": "stream",
     "text": [
      "Error processing 34d05fd2-edf7-474c-a8ed-4633396622c6.wav: \n",
      "Error processing 34daa0d0-7715-474c-8797-052233a93d54.wav: \n"
     ]
    },
    {
     "name": "stderr",
     "output_type": "stream",
     "text": [
      " 21%|██        | 346/1659 [01:05<05:04,  4.32it/s]"
     ]
    },
    {
     "name": "stdout",
     "output_type": "stream",
     "text": [
      "Error processing 351f572a-f80d-422d-9b1b-803068ed52fe.wav: \n",
      "Error processing 35a21644-8a05-4998-85be-85f89798ac5a.wav: \n",
      "Error processing 35c85396-e531-46ef-9234-3cd9e8470911.wav: \n",
      "Error processing 35f29df7-6030-4ada-b031-6fd65cc1dc4b.wav: \n"
     ]
    },
    {
     "name": "stderr",
     "output_type": "stream",
     "text": [
      " 21%|██        | 352/1659 [01:06<03:31,  6.18it/s]"
     ]
    },
    {
     "name": "stdout",
     "output_type": "stream",
     "text": [
      "Error processing 3615a01e-aa8b-40db-b820-afc5ecdbcd6b.wav: \n"
     ]
    },
    {
     "name": "stderr",
     "output_type": "stream",
     "text": [
      " 21%|██▏       | 356/1659 [01:07<03:26,  6.30it/s]"
     ]
    },
    {
     "name": "stdout",
     "output_type": "stream",
     "text": [
      "Error processing 36a65adb-6107-4edf-90e0-0371675fb2ce.wav: \n",
      "Error processing 370bba18-104e-4a37-a4f4-cd61974be291.wav: \n"
     ]
    },
    {
     "name": "stderr",
     "output_type": "stream",
     "text": [
      " 22%|██▏       | 359/1659 [01:07<03:29,  6.20it/s]"
     ]
    },
    {
     "name": "stdout",
     "output_type": "stream",
     "text": [
      "Error processing 374ff405-3aa5-4018-a4d9-2c1a0e64c371.wav: \n"
     ]
    },
    {
     "name": "stderr",
     "output_type": "stream",
     "text": [
      " 22%|██▏       | 364/1659 [01:09<06:19,  3.41it/s]"
     ]
    },
    {
     "name": "stdout",
     "output_type": "stream",
     "text": [
      "Error processing 37713909-705f-4158-bbb8-8745e2a39752.wav: \n"
     ]
    },
    {
     "name": "stderr",
     "output_type": "stream",
     "text": [
      " 22%|██▏       | 365/1659 [01:09<06:12,  3.48it/s]"
     ]
    },
    {
     "name": "stdout",
     "output_type": "stream",
     "text": [
      "Error processing 3800d76b-80ef-409c-a14d-9aa497f3889d.wav: \n"
     ]
    },
    {
     "name": "stderr",
     "output_type": "stream",
     "text": [
      " 23%|██▎       | 374/1659 [01:12<07:13,  2.97it/s]"
     ]
    },
    {
     "name": "stdout",
     "output_type": "stream",
     "text": [
      "Error processing 39c95566-77c1-412d-ba17-d9cb8ab205ea.wav: \n",
      "Error processing 3a1a09e2-c053-4cd1-a28a-f9fd282cbb7e.wav: \n"
     ]
    },
    {
     "name": "stderr",
     "output_type": "stream",
     "text": [
      " 23%|██▎       | 376/1659 [01:13<06:23,  3.34it/s]"
     ]
    },
    {
     "name": "stdout",
     "output_type": "stream",
     "text": [
      "Error processing 3a51ea30-abb3-4921-b2ac-18402c692443.wav: \n",
      "Error processing 3a5c7da1-59ed-48ba-bfca-5fbe667511fe.wav: \n"
     ]
    },
    {
     "name": "stderr",
     "output_type": "stream",
     "text": [
      " 23%|██▎       | 379/1659 [01:14<05:02,  4.23it/s]"
     ]
    },
    {
     "name": "stdout",
     "output_type": "stream",
     "text": [
      "Error processing 3ab89f29-400e-46e8-91d7-da71e8c8d0c1.wav: \n"
     ]
    },
    {
     "name": "stderr",
     "output_type": "stream",
     "text": [
      " 23%|██▎       | 382/1659 [01:15<06:01,  3.53it/s]"
     ]
    },
    {
     "name": "stdout",
     "output_type": "stream",
     "text": [
      "Error processing 3b57e194-3493-4396-9b5a-f3603baa4fdb.wav: \n"
     ]
    },
    {
     "name": "stderr",
     "output_type": "stream",
     "text": [
      " 23%|██▎       | 385/1659 [01:15<05:37,  3.77it/s]"
     ]
    },
    {
     "name": "stdout",
     "output_type": "stream",
     "text": [
      "Error processing 3b7d71be-e6ca-444c-9742-2a9d93195e4d.wav: \n"
     ]
    },
    {
     "name": "stderr",
     "output_type": "stream",
     "text": [
      " 23%|██▎       | 387/1659 [01:16<05:28,  3.87it/s]"
     ]
    },
    {
     "name": "stdout",
     "output_type": "stream",
     "text": [
      "Error processing 3bf75b78-7d7a-4ef1-afaa-0752ffcbc938.wav: \n"
     ]
    },
    {
     "name": "stderr",
     "output_type": "stream",
     "text": [
      " 24%|██▎       | 391/1659 [01:16<03:46,  5.61it/s]"
     ]
    },
    {
     "name": "stdout",
     "output_type": "stream",
     "text": [
      "Error processing 3c21caab-7543-40a2-ac96-671f3830eb25.wav: \n",
      "Error processing 3c375c57-a48d-4f10-8930-ccf1f9fc70b1.wav: \n"
     ]
    },
    {
     "name": "stderr",
     "output_type": "stream",
     "text": [
      " 24%|██▎       | 393/1659 [01:17<02:47,  7.55it/s]"
     ]
    },
    {
     "name": "stdout",
     "output_type": "stream",
     "text": [
      "Error processing 3c56f1b5-2829-49f1-80ba-44d075310789.wav: \n",
      "Error processing 3c8b9971-70e8-42b8-9945-a6b7277cd928.wav: \n",
      "Error processing 3ca029b1-513b-4c38-b3f7-219dcb44dda3.wav: \n",
      "Error processing 3cb1bc22-6a96-4599-a0ca-f9dd54df70be.wav: \n"
     ]
    },
    {
     "name": "stderr",
     "output_type": "stream",
     "text": [
      " 24%|██▍       | 398/1659 [01:17<02:20,  9.00it/s]"
     ]
    },
    {
     "name": "stdout",
     "output_type": "stream",
     "text": [
      "Error processing 3d4067a7-21e6-4384-af25-343afe1dc006.wav: \n"
     ]
    },
    {
     "name": "stderr",
     "output_type": "stream",
     "text": [
      " 24%|██▍       | 401/1659 [01:18<03:23,  6.17it/s]"
     ]
    },
    {
     "name": "stdout",
     "output_type": "stream",
     "text": [
      "Error processing 3e32d5ee-22d9-42e7-9e1c-2847b6d684ea.wav: \n"
     ]
    },
    {
     "name": "stderr",
     "output_type": "stream",
     "text": [
      " 24%|██▍       | 403/1659 [01:18<03:31,  5.93it/s]"
     ]
    },
    {
     "name": "stdout",
     "output_type": "stream",
     "text": [
      "Error processing 3e988961-0890-4a8e-ba89-23420269642b.wav: \n",
      "Error processing 3f6253cf-7ab6-4ad8-a707-3db9f8df69f3.wav: \n"
     ]
    },
    {
     "name": "stderr",
     "output_type": "stream",
     "text": [
      " 25%|██▍       | 409/1659 [01:19<02:10,  9.59it/s]"
     ]
    },
    {
     "name": "stdout",
     "output_type": "stream",
     "text": [
      "Error processing 3fb92b40-b2b6-4024-8c12-6e53e0c0eb20.wav: \n",
      "Error processing 3ff8bf4a-48f0-4a02-8cea-dfaab3b19761.wav: \n",
      "Error processing 40a93061-9142-4ea7-a3a9-8eb9e827d928.wav: \n"
     ]
    },
    {
     "name": "stderr",
     "output_type": "stream",
     "text": [
      " 25%|██▍       | 411/1659 [01:19<02:16,  9.12it/s]"
     ]
    },
    {
     "name": "stdout",
     "output_type": "stream",
     "text": [
      "Error processing 4128fe66-c804-4575-87b1-67e11d1eff6d.wav: \n",
      "Error processing 41384fd5-9300-4dc8-ab01-bcb72b119d6e.wav: \n",
      "Error processing 41534fe4-b6b9-4c17-bd4e-9bfed6ac4ba7.wav: \n"
     ]
    },
    {
     "name": "stderr",
     "output_type": "stream",
     "text": [
      " 25%|██▌       | 416/1659 [01:19<02:25,  8.57it/s]"
     ]
    },
    {
     "name": "stdout",
     "output_type": "stream",
     "text": [
      "Error processing 41a3a30d-a302-4f05-9c2e-237c03d3cf75.wav: \n"
     ]
    },
    {
     "name": "stderr",
     "output_type": "stream",
     "text": [
      " 25%|██▌       | 422/1659 [01:20<01:37, 12.71it/s]"
     ]
    },
    {
     "name": "stdout",
     "output_type": "stream",
     "text": [
      "Error processing 41bccb0c-0edc-44ba-b8fb-16409d006672.wav: \n",
      "Error processing 41c3efb5-4417-4d7d-9cba-6b9cb801e525.wav: \n",
      "Error processing 41ec149b-f08f-4ff2-ada3-f9b6359d0d14.wav: \n",
      "Error processing 420683cf-ad23-4514-a800-ff2efcbfc9a5.wav: \n",
      "Error processing 426ae966-49aa-46c7-a498-3c8edb253c70.wav: \n"
     ]
    },
    {
     "name": "stderr",
     "output_type": "stream",
     "text": [
      " 26%|██▌       | 424/1659 [01:20<02:23,  8.59it/s]"
     ]
    },
    {
     "name": "stdout",
     "output_type": "stream",
     "text": [
      "Error processing 42d4cb3d-7003-4dbf-aa21-e1d5d731af8c.wav: \n"
     ]
    },
    {
     "name": "stderr",
     "output_type": "stream",
     "text": [
      " 26%|██▌       | 426/1659 [01:21<03:11,  6.44it/s]"
     ]
    },
    {
     "name": "stdout",
     "output_type": "stream",
     "text": [
      "Error processing 4388dd1b-1829-40a9-a747-8914cd66c8b6.wav: \n",
      "Error processing 438a5bed-eba6-4ffe-90b5-20bb627fe0ef.wav: \n"
     ]
    },
    {
     "name": "stderr",
     "output_type": "stream",
     "text": [
      " 26%|██▌       | 430/1659 [01:22<04:15,  4.80it/s]"
     ]
    },
    {
     "name": "stdout",
     "output_type": "stream",
     "text": [
      "Error processing 445360a1-0767-4212-b767-7484d719dc81.wav: \n",
      "Error processing 4463597e-ef6c-40dc-a853-068b0f9f3591.wav: \n",
      "Error processing 447beed8-75e2-4949-8784-15912daea6c3.wav: \n"
     ]
    },
    {
     "name": "stderr",
     "output_type": "stream",
     "text": [
      " 26%|██▋       | 437/1659 [01:23<03:05,  6.60it/s]"
     ]
    },
    {
     "name": "stdout",
     "output_type": "stream",
     "text": [
      "Error processing 45487471-2199-4a81-bfb9-552251fa1798.wav: \n"
     ]
    },
    {
     "name": "stderr",
     "output_type": "stream",
     "text": [
      " 27%|██▋       | 440/1659 [01:23<02:40,  7.58it/s]"
     ]
    },
    {
     "name": "stdout",
     "output_type": "stream",
     "text": [
      "Error processing 46097eb4-95c1-4319-819a-01d3dd19165b.wav: \n",
      "Error processing 461841f1-b07d-4f99-84fb-5b133d03bf10.wav: \n"
     ]
    },
    {
     "name": "stderr",
     "output_type": "stream",
     "text": [
      " 27%|██▋       | 441/1659 [01:23<03:04,  6.59it/s]"
     ]
    },
    {
     "name": "stdout",
     "output_type": "stream",
     "text": [
      "Error processing 464c83a8-dbaa-40a8-96d7-c855f65fd5dd.wav: \n"
     ]
    },
    {
     "name": "stderr",
     "output_type": "stream",
     "text": [
      " 27%|██▋       | 445/1659 [01:24<03:49,  5.30it/s]"
     ]
    },
    {
     "name": "stdout",
     "output_type": "stream",
     "text": [
      "Error processing 468ce88d-45ce-4bf7-b4c3-a9e28ba8fcc2.wav: \n",
      "Error processing 46e92a34-9b80-4fd0-8075-175c27c9ba4d.wav: \n"
     ]
    },
    {
     "name": "stderr",
     "output_type": "stream",
     "text": [
      " 27%|██▋       | 447/1659 [01:25<03:31,  5.74it/s]"
     ]
    },
    {
     "name": "stdout",
     "output_type": "stream",
     "text": [
      "Error processing 47179eb2-df59-4b69-9c4b-66db46a06492.wav: \n",
      "Error processing 4764865d-d321-41f4-8658-662a9b0476d4.wav: \n"
     ]
    },
    {
     "name": "stderr",
     "output_type": "stream",
     "text": [
      " 27%|██▋       | 451/1659 [01:25<03:35,  5.61it/s]"
     ]
    },
    {
     "name": "stdout",
     "output_type": "stream",
     "text": [
      "Error processing 48323389-3350-4091-9713-a60a1932facc.wav: \n",
      "Error processing 487adfdc-8888-48d6-9255-c97eacbb79a4.wav: \n",
      "Error processing 48832697-5caf-4964-836b-b38c01712fd0.wav: \n"
     ]
    },
    {
     "name": "stderr",
     "output_type": "stream",
     "text": [
      " 27%|██▋       | 454/1659 [01:26<03:05,  6.51it/s]"
     ]
    },
    {
     "name": "stdout",
     "output_type": "stream",
     "text": [
      "Error processing 48bebf74-9efa-4a7a-bd27-40e0e3386f84.wav: \n",
      "Error processing 48d9e257-f1d9-48f4-ba38-677f403ed4b6.wav: \n",
      "Error processing 49062609-4677-4f96-9202-844982e8f3a9.wav: \n"
     ]
    },
    {
     "name": "stderr",
     "output_type": "stream",
     "text": [
      " 28%|██▊       | 460/1659 [01:26<02:20,  8.52it/s]"
     ]
    },
    {
     "name": "stdout",
     "output_type": "stream",
     "text": [
      "Error processing 491e79e6-2bfa-4304-ab58-d05b75f88b80.wav: \n"
     ]
    },
    {
     "name": "stderr",
     "output_type": "stream",
     "text": [
      " 28%|██▊       | 465/1659 [01:27<02:57,  6.73it/s]"
     ]
    },
    {
     "name": "stdout",
     "output_type": "stream",
     "text": [
      "Error processing 49e437b1-1154-4b44-8bec-2011be5b55c6.wav: \n",
      "Error processing 49ea5a82-86ef-4b48-80c9-e650d8698783.wav: \n",
      "Error processing 4a823757-c9c2-4711-b8b5-456ffa5ab677.wav: \n"
     ]
    },
    {
     "name": "stderr",
     "output_type": "stream",
     "text": [
      " 28%|██▊       | 470/1659 [01:28<03:12,  6.17it/s]"
     ]
    },
    {
     "name": "stdout",
     "output_type": "stream",
     "text": [
      "Error processing 4b4dc000-e1cd-425b-b4b3-732db6b77d71.wav: \n"
     ]
    },
    {
     "name": "stderr",
     "output_type": "stream",
     "text": [
      " 29%|██▉       | 477/1659 [01:28<01:30, 13.05it/s]"
     ]
    },
    {
     "name": "stdout",
     "output_type": "stream",
     "text": [
      "Error processing 4b9966ad-7c0c-4f16-a4cc-c968b32c4b39.wav: \n",
      "Error processing 4bb304a1-795a-4f65-acb6-e24b93af084f.wav: \n",
      "Error processing 4bba461f-af38-467d-b60d-87f16257ffbd.wav: \n",
      "Error processing 4bc0586c-99d5-4976-8696-341609fc3e72.wav: \n",
      "Error processing 4c4213c9-70bc-4d55-a6f0-e2d84c7b5397.wav: \n"
     ]
    },
    {
     "name": "stderr",
     "output_type": "stream",
     "text": [
      " 29%|██▉       | 479/1659 [01:29<01:56, 10.17it/s]"
     ]
    },
    {
     "name": "stdout",
     "output_type": "stream",
     "text": [
      "Error processing 4c492ea1-082c-4382-9a39-30f470fb57d7.wav: \n",
      "Error processing 4c6e8d00-8273-4942-9e03-4b7eb512216c.wav: \n"
     ]
    },
    {
     "name": "stderr",
     "output_type": "stream",
     "text": [
      " 29%|██▉       | 481/1659 [01:29<02:36,  7.54it/s]"
     ]
    },
    {
     "name": "stdout",
     "output_type": "stream",
     "text": [
      "Error processing 4cbe60dc-6201-4eb3-8441-b9c92d7466dd.wav: \n"
     ]
    },
    {
     "name": "stderr",
     "output_type": "stream",
     "text": [
      " 29%|██▉       | 485/1659 [01:30<02:26,  8.03it/s]"
     ]
    },
    {
     "name": "stdout",
     "output_type": "stream",
     "text": [
      "Error processing 4d53c5f6-0646-47de-95b9-ff140d819768.wav: \n"
     ]
    },
    {
     "name": "stderr",
     "output_type": "stream",
     "text": [
      " 29%|██▉       | 486/1659 [01:30<03:07,  6.25it/s]"
     ]
    },
    {
     "name": "stdout",
     "output_type": "stream",
     "text": [
      "Error processing 4dc22c24-30cc-4748-81d3-c07cb3e5a954.wav: \n"
     ]
    },
    {
     "name": "stderr",
     "output_type": "stream",
     "text": [
      " 30%|██▉       | 492/1659 [01:31<03:36,  5.39it/s]"
     ]
    },
    {
     "name": "stdout",
     "output_type": "stream",
     "text": [
      "Error processing 4e73d0c4-914d-495d-8b93-6516da5fe88f.wav: \n"
     ]
    },
    {
     "name": "stderr",
     "output_type": "stream",
     "text": [
      " 30%|██▉       | 495/1659 [01:32<02:52,  6.73it/s]"
     ]
    },
    {
     "name": "stdout",
     "output_type": "stream",
     "text": [
      "Error processing 4f205043-f155-4fc1-b6ab-429982bed90d.wav: \n",
      "Error processing 4f652e8f-fac1-40ef-90da-60f85f1961e7.wav: \n"
     ]
    },
    {
     "name": "stderr",
     "output_type": "stream",
     "text": [
      " 30%|███       | 498/1659 [01:32<03:10,  6.11it/s]"
     ]
    },
    {
     "name": "stdout",
     "output_type": "stream",
     "text": [
      "Error processing 507a49e6-7f80-45c0-941a-8d4ec56dd8cf.wav: \n"
     ]
    },
    {
     "name": "stderr",
     "output_type": "stream",
     "text": [
      " 30%|███       | 500/1659 [01:32<03:12,  6.02it/s]"
     ]
    },
    {
     "name": "stdout",
     "output_type": "stream",
     "text": [
      "Error processing 50d84a8d-3b91-425d-b6b6-618b44145a92.wav: \n"
     ]
    },
    {
     "name": "stderr",
     "output_type": "stream",
     "text": [
      " 30%|███       | 502/1659 [01:33<03:07,  6.18it/s]"
     ]
    },
    {
     "name": "stdout",
     "output_type": "stream",
     "text": [
      "Error processing 51306b67-8f23-4cd6-bf89-c8da272815ef.wav: \n"
     ]
    },
    {
     "name": "stderr",
     "output_type": "stream",
     "text": [
      " 31%|███       | 507/1659 [01:33<02:22,  8.07it/s]"
     ]
    },
    {
     "name": "stdout",
     "output_type": "stream",
     "text": [
      "Error processing 51581515-6677-4be4-bb92-21e7891fb083.wav: \n",
      "Error processing 51909b92-fd3d-408d-a175-fedad8a417b9.wav: \n",
      "Error processing 51a44f2b-7717-4183-8a0b-022549f5a45b.wav: \n",
      "Error processing 51a6ba22-a053-4ec3-a0da-e4004ee8ce6b.wav: \n"
     ]
    },
    {
     "name": "stderr",
     "output_type": "stream",
     "text": [
      " 31%|███       | 513/1659 [01:34<01:36, 11.93it/s]"
     ]
    },
    {
     "name": "stdout",
     "output_type": "stream",
     "text": [
      "Error processing 51cb87b3-700e-4241-8198-5cdf4c5246cf.wav: \n",
      "Error processing 51eecaf4-325f-4520-a58f-4c0acad3e93f.wav: \n",
      "Error processing 521fb6da-fd5a-442d-bdba-0e9530186adb.wav: \n",
      "Error processing 5237d05e-7670-4103-9a16-a0f9013a85a2.wav: \n"
     ]
    },
    {
     "name": "stderr",
     "output_type": "stream",
     "text": [
      " 31%|███       | 515/1659 [01:34<01:56,  9.85it/s]"
     ]
    },
    {
     "name": "stdout",
     "output_type": "stream",
     "text": [
      "Error processing 526b8ebd-8b92-4135-9dc8-d924a9142347.wav: \n"
     ]
    },
    {
     "name": "stderr",
     "output_type": "stream",
     "text": [
      " 31%|███▏      | 521/1659 [01:35<02:46,  6.85it/s]"
     ]
    },
    {
     "name": "stdout",
     "output_type": "stream",
     "text": [
      "Error processing 535ff064-f7f4-4933-81d0-06f8feb0f2d4.wav: \n"
     ]
    },
    {
     "name": "stderr",
     "output_type": "stream",
     "text": [
      " 32%|███▏      | 524/1659 [01:36<03:40,  5.15it/s]"
     ]
    },
    {
     "name": "stdout",
     "output_type": "stream",
     "text": [
      "Error processing 53ed7dd5-408c-4a37-98d7-094433a18819.wav: \n"
     ]
    },
    {
     "name": "stderr",
     "output_type": "stream",
     "text": [
      " 32%|███▏      | 527/1659 [01:37<03:18,  5.71it/s]"
     ]
    },
    {
     "name": "stdout",
     "output_type": "stream",
     "text": [
      "Error processing 54ef4cb3-efa0-4098-a394-41e1244ed094.wav: \n",
      "Error processing 551a7409-2c17-4ed5-a48a-3053687e0f71.wav: \n"
     ]
    },
    {
     "name": "stderr",
     "output_type": "stream",
     "text": [
      " 32%|███▏      | 530/1659 [01:37<03:55,  4.79it/s]"
     ]
    },
    {
     "name": "stdout",
     "output_type": "stream",
     "text": [
      "Error processing 55f89171-01b2-4a53-9b07-9f862650cdf6.wav: \n",
      "Error processing 561308e7-26c0-47da-9972-ac72462f72ba.wav: \n"
     ]
    },
    {
     "name": "stderr",
     "output_type": "stream",
     "text": [
      " 33%|███▎      | 542/1659 [01:38<01:13, 15.19it/s]"
     ]
    },
    {
     "name": "stdout",
     "output_type": "stream",
     "text": [
      "Error processing 56aee3f0-88b9-4570-b08c-27342a5eb383.wav: \n",
      "Error processing 56c9413c-be8c-4aea-95c4-ce868e1a9020.wav: \n",
      "Error processing 573ae160-a462-4594-8075-fff54913bcb8.wav: \n",
      "Error processing 575be907-66cb-48c4-a355-349eb63d5f77.wav: \n",
      "Error processing 5807f16c-e3f5-4eab-a629-94b199220ac9.wav: \n",
      "Error processing 5815776a-c9c4-40ff-bae4-e0b9b371bf03.wav: \n",
      "Error processing 58275478-6f96-47a5-9373-fc3f927a206f.wav: \n",
      "Error processing 582caf3e-56f1-47b1-8bb6-e83016c7d458.wav: \n"
     ]
    },
    {
     "name": "stderr",
     "output_type": "stream",
     "text": [
      " 33%|███▎      | 545/1659 [01:38<01:27, 12.73it/s]"
     ]
    },
    {
     "name": "stdout",
     "output_type": "stream",
     "text": [
      "Error processing 587b740c-2302-41d9-ac9c-929e38c3903c.wav: \n"
     ]
    },
    {
     "name": "stderr",
     "output_type": "stream",
     "text": [
      " 33%|███▎      | 547/1659 [01:39<01:47, 10.36it/s]"
     ]
    },
    {
     "name": "stdout",
     "output_type": "stream",
     "text": [
      "Error processing 58d67a32-22c8-46ec-b72d-e225a238149c.wav: \n",
      "Error processing 58f1606c-2b58-4a96-a188-c27632c9e67f.wav: \n"
     ]
    },
    {
     "name": "stderr",
     "output_type": "stream",
     "text": [
      " 33%|███▎      | 551/1659 [01:40<02:37,  7.03it/s]"
     ]
    },
    {
     "name": "stdout",
     "output_type": "stream",
     "text": [
      "Error processing 58ffa8a8-6c54-4d2a-9b0b-fbb515ce478b.wav: \n"
     ]
    },
    {
     "name": "stderr",
     "output_type": "stream",
     "text": [
      " 33%|███▎      | 555/1659 [01:40<02:56,  6.24it/s]"
     ]
    },
    {
     "name": "stdout",
     "output_type": "stream",
     "text": [
      "Error processing 5918ec0f-c313-43e2-8c94-5c3b0e5e217c.wav: \n",
      "Error processing 59f0f061-20e0-4578-ac3e-7f22d14b178b.wav: \n"
     ]
    },
    {
     "name": "stderr",
     "output_type": "stream",
     "text": [
      " 34%|███▎      | 558/1659 [01:41<02:58,  6.17it/s]"
     ]
    },
    {
     "name": "stdout",
     "output_type": "stream",
     "text": [
      "Error processing 5aa9783c-30af-4000-a838-9ef2bb14843c.wav: \n",
      "Error processing 5ace312c-a8d1-431a-931d-86b8cd97a71f.wav: \n",
      "Error processing 5b41571c-3061-4ebd-8e49-27f95f23e47d.wav: \n",
      "Error processing 5b68f557-895b-477f-9986-e66cf6803395.wav: \n",
      "Error processing 5b8f2af0-714a-4539-bdd8-2ee16d203d04.wav: \n"
     ]
    },
    {
     "name": "stderr",
     "output_type": "stream",
     "text": [
      " 34%|███▍      | 568/1659 [01:42<02:38,  6.88it/s]"
     ]
    },
    {
     "name": "stdout",
     "output_type": "stream",
     "text": [
      "Error processing 5c2cb993-7dce-4d81-90eb-ad7735cf5c6e.wav: \n",
      "Error processing 5c3d6172-f9f5-4a9e-9c51-2635a7e7ff8c.wav: \n"
     ]
    },
    {
     "name": "stderr",
     "output_type": "stream",
     "text": [
      " 35%|███▍      | 574/1659 [01:43<02:49,  6.40it/s]"
     ]
    },
    {
     "name": "stdout",
     "output_type": "stream",
     "text": [
      "Error processing 5cea9b9d-da96-4311-b3c1-4a1d9bd6b978.wav: \n",
      "Error processing 5d09341c-b56a-4c92-91a6-fce81743a5f1.wav: \n",
      "Error processing 5d24dd18-0ae7-45bb-9949-e8df291da61d.wav: \n"
     ]
    },
    {
     "name": "stderr",
     "output_type": "stream",
     "text": [
      " 35%|███▌      | 582/1659 [01:43<01:30, 11.89it/s]"
     ]
    },
    {
     "name": "stdout",
     "output_type": "stream",
     "text": [
      "Error processing 5d31e142-4880-4641-a9bc-2c0c89f387ac.wav: \n",
      "Error processing 5d333145-24fd-4199-a7ee-3d8d33dea114.wav: \n",
      "Error processing 5d343b27-1523-452e-885b-8261458cba8b.wav: \n",
      "Error processing 5d3b07f9-e970-44d0-aad6-9aa40116d749.wav: \n",
      "Error processing 5d3f525a-3327-41d6-a837-902f62dc1e19.wav: \n"
     ]
    },
    {
     "name": "stderr",
     "output_type": "stream",
     "text": [
      " 35%|███▌      | 584/1659 [01:44<02:13,  8.03it/s]"
     ]
    },
    {
     "name": "stdout",
     "output_type": "stream",
     "text": [
      "Error processing 5dc227bb-2f0d-44a4-a122-dba3561b1051.wav: \n"
     ]
    },
    {
     "name": "stderr",
     "output_type": "stream",
     "text": [
      " 35%|███▌      | 586/1659 [01:44<02:25,  7.37it/s]"
     ]
    },
    {
     "name": "stdout",
     "output_type": "stream",
     "text": [
      "Error processing 5dee3b76-7cac-49da-8779-065f68903278.wav: \n",
      "Error processing 5dee61ea-7e3c-4b88-8a9b-97687b35c0af.wav: \n"
     ]
    },
    {
     "name": "stderr",
     "output_type": "stream",
     "text": [
      " 36%|███▌      | 590/1659 [01:45<02:34,  6.92it/s]"
     ]
    },
    {
     "name": "stdout",
     "output_type": "stream",
     "text": [
      "Error processing 5e60eba6-4e3b-4674-8b18-d677fa1779a1.wav: \n",
      "Error processing 5e69e303-6b5f-451f-bc8c-3eddc99aff24.wav: \n",
      "Error processing 5e806da6-a18e-4f56-9ed9-dc6cc3aa4add.wav: \n",
      "Error processing 5eed157d-49a2-42f3-bf54-02da22b96188.wav: \n"
     ]
    },
    {
     "name": "stderr",
     "output_type": "stream",
     "text": [
      " 36%|███▌      | 599/1659 [01:46<01:46, 10.00it/s]"
     ]
    },
    {
     "name": "stdout",
     "output_type": "stream",
     "text": [
      "Error processing 604be4e4-8434-4ab6-99c0-8d56e8fde809.wav: \n",
      "Error processing 6073f7ab-d6e1-4cb4-80a9-a4b2bdda02aa.wav: \n",
      "Error processing 60b89bc2-9a75-4e9b-98c1-fc22cc063d36.wav: \n"
     ]
    },
    {
     "name": "stderr",
     "output_type": "stream",
     "text": [
      " 36%|███▋      | 602/1659 [01:46<02:23,  7.35it/s]"
     ]
    },
    {
     "name": "stdout",
     "output_type": "stream",
     "text": [
      "Error processing 60e60d72-3332-4fbb-b5aa-ab7181a780e4.wav: \n"
     ]
    },
    {
     "name": "stderr",
     "output_type": "stream",
     "text": [
      " 36%|███▋      | 604/1659 [01:47<04:07,  4.26it/s]"
     ]
    },
    {
     "name": "stdout",
     "output_type": "stream",
     "text": [
      "Error processing 61989a5f-d28e-485a-8af8-4bf5f36236e3.wav: \n",
      "Error processing 61a29a1c-67b9-4a22-829d-6e75cddebdfc.wav: \n",
      "Error processing 61a4e376-e30a-4f2d-8fbd-f635fd668fd6.wav: \n"
     ]
    },
    {
     "name": "stderr",
     "output_type": "stream",
     "text": [
      " 37%|███▋      | 609/1659 [01:48<02:55,  5.99it/s]"
     ]
    },
    {
     "name": "stdout",
     "output_type": "stream",
     "text": [
      "Error processing 62038d32-690d-4de3-aa65-c6a92d5c211f.wav: \n"
     ]
    },
    {
     "name": "stderr",
     "output_type": "stream",
     "text": [
      " 37%|███▋      | 610/1659 [01:48<03:06,  5.64it/s]"
     ]
    },
    {
     "name": "stdout",
     "output_type": "stream",
     "text": [
      "Error processing 6288ac4b-b9e5-4371-bffd-edc88082114b.wav: \n",
      "Error processing 62a9a2f6-762e-4487-9051-b1bbad5c2ad4.wav: \n",
      "Error processing 62b98443-bcb9-4b13-ae81-be64f093afdd.wav: \n"
     ]
    },
    {
     "name": "stderr",
     "output_type": "stream",
     "text": [
      " 37%|███▋      | 615/1659 [01:49<02:32,  6.83it/s]"
     ]
    },
    {
     "name": "stdout",
     "output_type": "stream",
     "text": [
      "Error processing 62d2e902-6f15-4f29-9b32-0a66b48e0178.wav: \n",
      "Error processing 62d7624f-4c90-4cfa-83c0-725de1130b49.wav: \n",
      "Error processing 62e59733-49e5-44cc-a3a0-5c14a5e0da75.wav: \n"
     ]
    },
    {
     "name": "stderr",
     "output_type": "stream",
     "text": [
      " 37%|███▋      | 619/1659 [01:49<01:56,  8.91it/s]"
     ]
    },
    {
     "name": "stdout",
     "output_type": "stream",
     "text": [
      "Error processing 6357386d-a9d1-407a-b1e6-cc037dcc38a5.wav: \n",
      "Error processing 637311a9-eb00-4f11-a71e-79c5ac7b14b4.wav: \n",
      "Error processing 638b4fa0-88a1-4e55-b9e1-f9bcb844669e.wav: \n"
     ]
    },
    {
     "name": "stderr",
     "output_type": "stream",
     "text": [
      " 38%|███▊      | 628/1659 [01:50<02:21,  7.30it/s]"
     ]
    },
    {
     "name": "stdout",
     "output_type": "stream",
     "text": [
      "Error processing 653f8aa1-76e5-485d-b9f1-9bcf16f8fe8b.wav: \n",
      "Error processing 654b37ce-8855-4749-99b6-b68188113e52.wav: \n"
     ]
    },
    {
     "name": "stderr",
     "output_type": "stream",
     "text": [
      " 38%|███▊      | 630/1659 [01:51<02:51,  6.00it/s]"
     ]
    },
    {
     "name": "stdout",
     "output_type": "stream",
     "text": [
      "Error processing 6615577b-1f90-41fb-949f-8be172591d74.wav: \n",
      "Error processing 66204476-8f76-4d4c-9470-6133a1ebbf09.wav: \n",
      "Error processing 6663dbe2-8592-4aec-a629-81db58b371cc.wav: \n",
      "Error processing 668ff6bd-a541-488a-828a-22f8791fc0db.wav: \n"
     ]
    },
    {
     "name": "stderr",
     "output_type": "stream",
     "text": [
      " 39%|███▊      | 641/1659 [01:52<02:13,  7.63it/s]"
     ]
    },
    {
     "name": "stdout",
     "output_type": "stream",
     "text": [
      "Error processing 66faa821-fd62-444e-bb84-e6ae86d0a35a.wav: \n",
      "Error processing 6709cab8-d561-4e1c-a84a-903b4a2fe9a1.wav: \n",
      "Error processing 67738af3-6a7b-449c-a043-4c265b65cf5d.wav: \n",
      "Error processing 67b07c0e-afb8-4181-8234-2d9d3f2044dd.wav: \n"
     ]
    },
    {
     "name": "stderr",
     "output_type": "stream",
     "text": [
      " 39%|███▉      | 647/1659 [01:53<01:28, 11.39it/s]"
     ]
    },
    {
     "name": "stdout",
     "output_type": "stream",
     "text": [
      "Error processing 6818a310-1aa4-42c3-8956-c2b73414b029.wav: \n",
      "Error processing 68662954-70d9-40f1-b2ef-b8619660ec94.wav: \n",
      "Error processing 6896595e-d6b6-4d30-b4c2-5370689d6337.wav: \n"
     ]
    },
    {
     "name": "stderr",
     "output_type": "stream",
     "text": [
      " 39%|███▉      | 651/1659 [01:53<02:12,  7.62it/s]"
     ]
    },
    {
     "name": "stdout",
     "output_type": "stream",
     "text": [
      "Error processing 69a85c78-0e77-4edb-80c6-64e25b8727c0.wav: \n"
     ]
    },
    {
     "name": "stderr",
     "output_type": "stream",
     "text": [
      " 40%|███▉      | 656/1659 [01:54<02:07,  7.84it/s]"
     ]
    },
    {
     "name": "stdout",
     "output_type": "stream",
     "text": [
      "Error processing 6a6e00ec-b986-459f-8827-337cc968af5c.wav: \n",
      "Error processing 6a6ead7a-8873-486f-9130-2ae77d0ce577.wav: \n",
      "Error processing 6aa0ffb9-1311-48f1-9f23-30e7256507d3.wav: \n",
      "Error processing 6acffb76-cae6-4c63-9b58-a0bb4bf8fc8f.wav: \n",
      "Error processing 6b510701-2e63-401f-a16f-061beb5fa841.wav: \n",
      "Error processing 6b6cd6c4-fd00-4ba7-b14d-ab764547cf30.wav: \n"
     ]
    },
    {
     "name": "stderr",
     "output_type": "stream",
     "text": [
      " 40%|███▉      | 659/1659 [01:54<01:53,  8.84it/s]"
     ]
    },
    {
     "name": "stdout",
     "output_type": "stream",
     "text": [
      "Error processing 6c33df32-43fc-42b3-b937-3071a5acbcf6.wav: \n"
     ]
    },
    {
     "name": "stderr",
     "output_type": "stream",
     "text": [
      " 40%|███▉      | 663/1659 [01:55<02:07,  7.80it/s]"
     ]
    },
    {
     "name": "stdout",
     "output_type": "stream",
     "text": [
      "Error processing 6c8eee43-6c79-4f84-a5ed-69e5a60ef209.wav: \n"
     ]
    },
    {
     "name": "stderr",
     "output_type": "stream",
     "text": [
      " 40%|████      | 666/1659 [01:56<02:28,  6.67it/s]"
     ]
    },
    {
     "name": "stdout",
     "output_type": "stream",
     "text": [
      "Error processing 6d61864c-62e6-4903-ac18-176465b66786.wav: \n",
      "Error processing 6d760adf-c82d-467c-845f-e9204a2154ff.wav: \n"
     ]
    },
    {
     "name": "stderr",
     "output_type": "stream",
     "text": [
      " 40%|████      | 670/1659 [01:56<02:25,  6.78it/s]"
     ]
    },
    {
     "name": "stdout",
     "output_type": "stream",
     "text": [
      "Error processing 6e4e5308-3f80-4995-a77b-92c74688749c.wav: \n",
      "Error processing 6e7a6a59-47d8-45b5-ba5a-9e67bb6ed7c9.wav: \n"
     ]
    },
    {
     "name": "stderr",
     "output_type": "stream",
     "text": [
      " 41%|████      | 674/1659 [01:57<02:44,  6.00it/s]"
     ]
    },
    {
     "name": "stdout",
     "output_type": "stream",
     "text": [
      "Error processing 6ed2ccc2-f7cc-4f61-aaf0-0bf338fcdde6.wav: \n",
      "Error processing 6ee4fbd0-bdb8-4fb6-92eb-52bcfe71c162.wav: \n",
      "Error processing 6f0be31f-9488-49f8-a34f-b8ac61cb77a0.wav: \n"
     ]
    },
    {
     "name": "stderr",
     "output_type": "stream",
     "text": [
      " 41%|████      | 683/1659 [01:58<01:56,  8.36it/s]"
     ]
    },
    {
     "name": "stdout",
     "output_type": "stream",
     "text": [
      "Error processing 6f386d4b-dbbb-4d08-b736-c401ab6ac6b4.wav: \n",
      "Error processing 6f4b27d1-418e-46ac-bcd4-76630af7d4d2.wav: \n",
      "Error processing 6f5e9d67-b89e-493b-9579-12e3c99730c5.wav: \n",
      "Error processing 6fa82258-2bfd-414c-aa27-49dbda099f58.wav: \n"
     ]
    },
    {
     "name": "stderr",
     "output_type": "stream",
     "text": [
      " 41%|████▏     | 685/1659 [01:58<01:50,  8.81it/s]"
     ]
    },
    {
     "name": "stdout",
     "output_type": "stream",
     "text": [
      "Error processing 6fdc0644-318d-4ef9-b07c-debe2999f224.wav: \n",
      "Error processing 703ce2f9-8303-467b-8c66-8c9a2908b6e8.wav: \n",
      "Error processing 704b248e-c06c-49a8-b3cc-aba398fe43a2.wav: \n"
     ]
    },
    {
     "name": "stderr",
     "output_type": "stream",
     "text": [
      " 41%|████▏     | 688/1659 [01:59<02:04,  7.79it/s]"
     ]
    },
    {
     "name": "stdout",
     "output_type": "stream",
     "text": [
      "Error processing 7081b1c8-fdfe-4591-b3b3-32218f941de4.wav: \n"
     ]
    },
    {
     "name": "stderr",
     "output_type": "stream",
     "text": [
      " 42%|████▏     | 691/1659 [01:59<02:25,  6.66it/s]"
     ]
    },
    {
     "name": "stdout",
     "output_type": "stream",
     "text": [
      "Error processing 70e150be-f14e-44f6-8c10-d3a6b0ba1df8.wav: \n"
     ]
    },
    {
     "name": "stderr",
     "output_type": "stream",
     "text": [
      " 42%|████▏     | 693/1659 [01:59<02:31,  6.36it/s]"
     ]
    },
    {
     "name": "stdout",
     "output_type": "stream",
     "text": [
      "Error processing 7113207a-2a95-4662-bc11-46093ee8f32e.wav: \n",
      "Error processing 71347938-562f-4d24-9a05-268fcfa494e1.wav: \n"
     ]
    },
    {
     "name": "stderr",
     "output_type": "stream",
     "text": [
      " 42%|████▏     | 698/1659 [02:01<03:27,  4.63it/s]"
     ]
    },
    {
     "name": "stdout",
     "output_type": "stream",
     "text": [
      "Error processing 716fedb7-a7a4-4940-a8a4-a7645667b718.wav: \n",
      "Error processing 717a8b50-6500-47d5-9961-9bd82ced8fbb.wav: \n"
     ]
    },
    {
     "name": "stderr",
     "output_type": "stream",
     "text": [
      " 42%|████▏     | 704/1659 [02:02<03:14,  4.90it/s]"
     ]
    },
    {
     "name": "stdout",
     "output_type": "stream",
     "text": [
      "Error processing 726969f0-9381-42a6-86ef-32374fe612ed.wav: \n",
      "Error processing 72862f67-b66a-44de-bcd4-e6627f9eab32.wav: \n"
     ]
    },
    {
     "name": "stderr",
     "output_type": "stream",
     "text": [
      " 43%|████▎     | 708/1659 [02:03<03:06,  5.09it/s]"
     ]
    },
    {
     "name": "stdout",
     "output_type": "stream",
     "text": [
      "Error processing 7309afa3-c8bb-46ae-a73f-d1df18bf193a.wav: \n",
      "Error processing 730ddeac-f450-4523-8b82-91c8f95b4647.wav: \n"
     ]
    },
    {
     "name": "stderr",
     "output_type": "stream",
     "text": [
      " 43%|████▎     | 716/1659 [02:04<02:41,  5.83it/s]"
     ]
    },
    {
     "name": "stdout",
     "output_type": "stream",
     "text": [
      "Error processing 73a43566-d2db-4622-989a-4466a1699397.wav: \n"
     ]
    },
    {
     "name": "stderr",
     "output_type": "stream",
     "text": [
      " 44%|████▎     | 722/1659 [02:05<01:37,  9.60it/s]"
     ]
    },
    {
     "name": "stdout",
     "output_type": "stream",
     "text": [
      "Error processing 73c035c9-f9f6-4e37-9205-83ecac284935.wav: \n",
      "Error processing 73fcfa52-70b3-44a6-b5ea-5307dfe7996a.wav: \n",
      "Error processing 7461901a-f0a4-4d95-9b34-73ce07c92733.wav: \n",
      "Error processing 7532f333-8887-47c2-a54a-3cb75d589984.wav: \n",
      "Error processing 75f5dabd-489e-4318-bbf6-3dfeaa76e310.wav: \n",
      "Error processing 761fbf7d-87e3-4746-bbea-7eba4186dd19.wav: \n",
      "Error processing 762bf828-bd6b-43dc-bc25-9e88f07ed339.wav: \n"
     ]
    },
    {
     "name": "stderr",
     "output_type": "stream",
     "text": [
      " 44%|████▍     | 726/1659 [02:05<01:27, 10.68it/s]"
     ]
    },
    {
     "name": "stdout",
     "output_type": "stream",
     "text": [
      "Error processing 7697b717-ac07-45dc-8138-7f44aa01056b.wav: \n",
      "Error processing 76e8310e-e8ef-4a43-9627-8539f493dc59.wav: \n"
     ]
    },
    {
     "name": "stderr",
     "output_type": "stream",
     "text": [
      " 44%|████▍     | 731/1659 [02:06<01:54,  8.13it/s]"
     ]
    },
    {
     "name": "stdout",
     "output_type": "stream",
     "text": [
      "Error processing 775e32a8-8d89-4aa0-a8a0-7504d21f2dc9.wav: \n",
      "Error processing 776f8d8b-da52-4463-a0ff-c73d9d6325ef.wav: \n"
     ]
    },
    {
     "name": "stderr",
     "output_type": "stream",
     "text": [
      " 44%|████▍     | 736/1659 [02:07<02:52,  5.36it/s]"
     ]
    },
    {
     "name": "stdout",
     "output_type": "stream",
     "text": [
      "Error processing 77d602b9-2d80-4507-9485-cd48b87dd14d.wav: \n"
     ]
    },
    {
     "name": "stderr",
     "output_type": "stream",
     "text": [
      " 44%|████▍     | 738/1659 [02:07<02:28,  6.18it/s]"
     ]
    },
    {
     "name": "stdout",
     "output_type": "stream",
     "text": [
      "Error processing 78336855-9778-4525-96c5-75ef78e5e09e.wav: \n",
      "Error processing 78dbc465-a985-4804-9431-2149927626bc.wav: \n"
     ]
    },
    {
     "name": "stderr",
     "output_type": "stream",
     "text": [
      " 45%|████▍     | 745/1659 [02:08<02:25,  6.28it/s]"
     ]
    },
    {
     "name": "stdout",
     "output_type": "stream",
     "text": [
      "Error processing 79787db1-f26c-43ea-bb50-06f07447291d.wav: \n",
      "Error processing 79a98858-31c5-4e76-8b57-2bcf76e125be.wav: \n",
      "Error processing 79aee3d4-3951-4df7-9e1e-99722faa38cf.wav: \n"
     ]
    },
    {
     "name": "stderr",
     "output_type": "stream",
     "text": [
      " 45%|████▌     | 749/1659 [02:09<02:07,  7.11it/s]"
     ]
    },
    {
     "name": "stdout",
     "output_type": "stream",
     "text": [
      "Error processing 7a4f41e7-8122-4c1a-b95c-43fcbc40e786.wav: \n",
      "Error processing 7a593ab0-639e-499d-a488-1f1f22a405d3.wav: \n"
     ]
    },
    {
     "name": "stderr",
     "output_type": "stream",
     "text": [
      " 45%|████▌     | 751/1659 [02:09<02:08,  7.07it/s]"
     ]
    },
    {
     "name": "stdout",
     "output_type": "stream",
     "text": [
      "Error processing 7a99117a-bcba-437d-9116-7080e70d4d1f.wav: \n",
      "Error processing 7ab7aec6-d7b3-44ac-9c25-f6bf244cd0b5.wav: \n"
     ]
    },
    {
     "name": "stderr",
     "output_type": "stream",
     "text": [
      " 45%|████▌     | 754/1659 [02:09<02:07,  7.08it/s]"
     ]
    },
    {
     "name": "stdout",
     "output_type": "stream",
     "text": [
      "Error processing 7b11677e-6ea0-4500-af68-c851b2be6108.wav: \n"
     ]
    },
    {
     "name": "stderr",
     "output_type": "stream",
     "text": [
      " 46%|████▌     | 758/1659 [02:10<02:59,  5.02it/s]"
     ]
    },
    {
     "name": "stdout",
     "output_type": "stream",
     "text": [
      "Error processing 7c27ea13-7929-4b3b-8b36-afc9eb160289.wav: \n"
     ]
    },
    {
     "name": "stderr",
     "output_type": "stream",
     "text": [
      " 46%|████▌     | 761/1659 [02:11<02:33,  5.86it/s]"
     ]
    },
    {
     "name": "stdout",
     "output_type": "stream",
     "text": [
      "Error processing 7c4e3b30-75ec-4147-bbf0-0ec4ecf83e9a.wav: \n",
      "Error processing 7c64998c-c3f9-4fab-92d2-291742292110.wav: \n",
      "Error processing 7c7ca396-3037-4714-b1dd-1543f3196100.wav: \n",
      "Error processing 7cbc1e72-012f-45ef-b882-a95f00533e6c.wav: \n",
      "Error processing 7ce9309d-89df-4bfa-9e77-f3d0a3d0ce0a.wav: \n"
     ]
    },
    {
     "name": "stderr",
     "output_type": "stream",
     "text": [
      " 46%|████▋     | 771/1659 [02:11<01:10, 12.58it/s]"
     ]
    },
    {
     "name": "stdout",
     "output_type": "stream",
     "text": [
      "Error processing 7d19e59d-1ff3-4fb3-a486-61cfe8d487e2.wav: \n",
      "Error processing 7d786a0a-4cbd-4784-8b1b-e4ef058cbd68.wav: \n",
      "Error processing 7df56d65-4838-4b31-ac3d-5575854f3d60.wav: \n",
      "Error processing 7e329e4d-81d1-4bca-a400-ae5efadce0f0.wav: \n",
      "Error processing 7e6416ab-ad1a-41dd-b282-ca07d66ad4f9.wav: \n"
     ]
    },
    {
     "name": "stderr",
     "output_type": "stream",
     "text": [
      " 47%|████▋     | 773/1659 [02:12<01:28, 10.01it/s]"
     ]
    },
    {
     "name": "stdout",
     "output_type": "stream",
     "text": [
      "Error processing 7e994b6b-0272-459b-b294-2e9451faeed9.wav: \n",
      "Error processing 7ea8c17c-d3a8-4043-bc90-5be0c0269a41.wav: \n",
      "Error processing 7eba5e3e-8fc8-4788-9a56-a42cd609d906.wav: \n"
     ]
    },
    {
     "name": "stderr",
     "output_type": "stream",
     "text": [
      " 47%|████▋     | 777/1659 [02:12<01:17, 11.37it/s]"
     ]
    },
    {
     "name": "stdout",
     "output_type": "stream",
     "text": [
      "Error processing 7f115036-7881-4b69-93d8-adc1bc24fd0f.wav: \n",
      "Error processing 7f1c4ddc-b188-4bf8-89f9-df0f199bf4c4.wav: \n"
     ]
    },
    {
     "name": "stderr",
     "output_type": "stream",
     "text": [
      " 47%|████▋     | 785/1659 [02:13<01:20, 10.88it/s]"
     ]
    },
    {
     "name": "stdout",
     "output_type": "stream",
     "text": [
      "Error processing 7f6a2b16-5c4a-4cce-8106-db44bc2cf0ef.wav: \n",
      "Error processing 7fa15c05-5a85-406e-9411-789662f0e006.wav: \n",
      "Error processing 7fa5988d-bfe6-4085-9563-36bf90eed03e.wav: \n"
     ]
    },
    {
     "name": "stderr",
     "output_type": "stream",
     "text": [
      " 47%|████▋     | 787/1659 [02:13<01:19, 11.03it/s]"
     ]
    },
    {
     "name": "stdout",
     "output_type": "stream",
     "text": [
      "Error processing 80241f4d-23f7-4912-b4c5-8410e806eacb.wav: \n"
     ]
    },
    {
     "name": "stderr",
     "output_type": "stream",
     "text": [
      " 48%|████▊     | 789/1659 [02:14<01:49,  7.96it/s]"
     ]
    },
    {
     "name": "stdout",
     "output_type": "stream",
     "text": [
      "Error processing 81e6aebe-f37a-45b6-9e53-58058bee8ae1.wav: \n"
     ]
    },
    {
     "name": "stderr",
     "output_type": "stream",
     "text": [
      " 48%|████▊     | 794/1659 [02:15<02:08,  6.73it/s]"
     ]
    },
    {
     "name": "stdout",
     "output_type": "stream",
     "text": [
      "Error processing 824c1722-fdef-486b-ad9a-9a2e0ae452a4.wav: \n",
      "Error processing 8289c03a-2724-4c3c-af34-042569d61471.wav: \n",
      "Error processing 829de410-1f1b-47a5-8afa-f4a1b865b44a.wav: \n"
     ]
    },
    {
     "name": "stderr",
     "output_type": "stream",
     "text": [
      " 48%|████▊     | 796/1659 [02:15<02:24,  5.98it/s]"
     ]
    },
    {
     "name": "stdout",
     "output_type": "stream",
     "text": [
      "Error processing 8313c9ca-d57f-46db-9b94-fc956e397deb.wav: \n",
      "Error processing 83236e78-c1ba-4d40-a75a-62fb929541c0.wav: \n"
     ]
    },
    {
     "name": "stderr",
     "output_type": "stream",
     "text": [
      " 48%|████▊     | 801/1659 [02:15<01:46,  8.05it/s]"
     ]
    },
    {
     "name": "stdout",
     "output_type": "stream",
     "text": [
      "Error processing 83a28b1a-c744-45d7-9393-d6c718bbe78f.wav: \n",
      "Error processing 83dd1174-bfa3-41ba-8f1c-428da1cd9c45.wav: \n"
     ]
    },
    {
     "name": "stderr",
     "output_type": "stream",
     "text": [
      " 49%|████▊     | 806/1659 [02:16<02:36,  5.44it/s]"
     ]
    },
    {
     "name": "stdout",
     "output_type": "stream",
     "text": [
      "Error processing 84139823-18cc-42ed-883e-12b2869664df.wav: \n",
      "Error processing 8435bdd1-3406-43d8-85f1-87bb2ea3a134.wav: \n"
     ]
    },
    {
     "name": "stderr",
     "output_type": "stream",
     "text": [
      " 49%|████▉     | 810/1659 [02:17<02:32,  5.56it/s]"
     ]
    },
    {
     "name": "stdout",
     "output_type": "stream",
     "text": [
      "Error processing 84480fa6-2732-420f-a94b-143ff92c74ac.wav: \n",
      "Error processing 85530532-91e0-4e71-a0e9-f11b53e1c7cc.wav: \n",
      "Error processing 85dcddcb-e041-40f8-8776-ca49f8a352cc.wav: \n",
      "Error processing 85df4bae-e27c-4e25-9df5-613b05e0fe14.wav: \n"
     ]
    },
    {
     "name": "stderr",
     "output_type": "stream",
     "text": [
      " 49%|████▉     | 814/1659 [02:18<02:10,  6.46it/s]"
     ]
    },
    {
     "name": "stdout",
     "output_type": "stream",
     "text": [
      "Error processing 85ed871e-9dc8-4430-b48b-6fbe773b7d08.wav: \n"
     ]
    },
    {
     "name": "stderr",
     "output_type": "stream",
     "text": [
      " 49%|████▉     | 817/1659 [02:18<02:20,  6.01it/s]"
     ]
    },
    {
     "name": "stdout",
     "output_type": "stream",
     "text": [
      "Error processing 86099049-22a9-426c-9ab6-08ac08b27dde.wav: \n"
     ]
    },
    {
     "name": "stderr",
     "output_type": "stream",
     "text": [
      " 49%|████▉     | 821/1659 [02:19<02:53,  4.84it/s]"
     ]
    },
    {
     "name": "stdout",
     "output_type": "stream",
     "text": [
      "Error processing 8698f50b-41fd-486e-9fde-d1d37052b93c.wav: \n"
     ]
    },
    {
     "name": "stderr",
     "output_type": "stream",
     "text": [
      " 50%|████▉     | 827/1659 [02:20<01:43,  8.02it/s]"
     ]
    },
    {
     "name": "stdout",
     "output_type": "stream",
     "text": [
      "Error processing 87415d6c-c8a2-4527-b1ce-8f29ce5d98a0.wav: \n",
      "Error processing 87417720-9d9e-4d19-bdb8-904e66cc1148.wav: \n",
      "Error processing 8752c247-773e-4e1f-aff4-003ae9615126.wav: \n",
      "Error processing 8776221e-c935-49f0-9fe6-0530637461e3.wav: \n",
      "Error processing 87879c37-5870-4773-9025-930cb3ad4688.wav: \n"
     ]
    },
    {
     "name": "stderr",
     "output_type": "stream",
     "text": [
      " 50%|█████     | 831/1659 [02:20<01:26,  9.55it/s]"
     ]
    },
    {
     "name": "stdout",
     "output_type": "stream",
     "text": [
      "Error processing 87deded6-0f28-4abe-b088-463013ac8e20.wav: \n",
      "Error processing 880bfb81-1bf3-4a12-a683-395abe021bd5.wav: \n"
     ]
    },
    {
     "name": "stderr",
     "output_type": "stream",
     "text": [
      " 50%|█████     | 833/1659 [02:21<02:41,  5.12it/s]"
     ]
    },
    {
     "name": "stdout",
     "output_type": "stream",
     "text": [
      "Error processing 89c08cd6-b5a4-4f76-8e62-58496a8778a2.wav: \n",
      "Error processing 8a26fd39-0a8f-42cb-924e-d877145c3d94.wav: \n",
      "Error processing 8a51ac5e-5f3d-4cce-ba04-d4608ae0b6a3.wav: \n"
     ]
    },
    {
     "name": "stderr",
     "output_type": "stream",
     "text": [
      " 50%|█████     | 837/1659 [02:21<01:59,  6.88it/s]"
     ]
    },
    {
     "name": "stdout",
     "output_type": "stream",
     "text": [
      "Error processing 8b189f17-c7fa-4ba5-85e7-0930790774a6.wav: \n",
      "Error processing 8b1cb65e-2f4e-49c5-99b9-28a4044310ad.wav: \n"
     ]
    },
    {
     "name": "stderr",
     "output_type": "stream",
     "text": [
      " 51%|█████     | 840/1659 [02:22<01:56,  7.05it/s]"
     ]
    },
    {
     "name": "stdout",
     "output_type": "stream",
     "text": [
      "Error processing 8b7c4e11-ebdd-4ae3-b22b-d8396ffa4179.wav: \n"
     ]
    },
    {
     "name": "stderr",
     "output_type": "stream",
     "text": [
      " 51%|█████     | 842/1659 [02:22<02:01,  6.74it/s]"
     ]
    },
    {
     "name": "stdout",
     "output_type": "stream",
     "text": [
      "Error processing 8b86e1a8-a27e-447e-9833-a1ffd1ad00ff.wav: \n",
      "Error processing 8b9bc12c-7c31-4535-abf9-6372785ee01e.wav: \n"
     ]
    },
    {
     "name": "stderr",
     "output_type": "stream",
     "text": [
      " 51%|█████     | 845/1659 [02:23<01:50,  7.34it/s]"
     ]
    },
    {
     "name": "stdout",
     "output_type": "stream",
     "text": [
      "Error processing 8c155570-c3df-4118-9969-16fa478bb8ed.wav: \n"
     ]
    },
    {
     "name": "stderr",
     "output_type": "stream",
     "text": [
      " 51%|█████     | 847/1659 [02:23<01:51,  7.26it/s]"
     ]
    },
    {
     "name": "stdout",
     "output_type": "stream",
     "text": [
      "Error processing 8c3ca396-c64f-4c1f-b8ab-553beaee252e.wav: \n"
     ]
    },
    {
     "name": "stderr",
     "output_type": "stream",
     "text": [
      " 51%|█████     | 849/1659 [02:23<02:13,  6.05it/s]"
     ]
    },
    {
     "name": "stdout",
     "output_type": "stream",
     "text": [
      "Error processing 8c7e228d-02e8-481c-a30f-d04a8cbb4388.wav: \n",
      "Error processing 8cdc4e18-fe54-4a64-9add-aeb3f9a4483f.wav: \n"
     ]
    },
    {
     "name": "stderr",
     "output_type": "stream",
     "text": [
      " 52%|█████▏    | 855/1659 [02:24<01:45,  7.60it/s]"
     ]
    },
    {
     "name": "stdout",
     "output_type": "stream",
     "text": [
      "Error processing 8d99b4b5-f756-4e57-bed9-46c0d1b5b043.wav: \n"
     ]
    },
    {
     "name": "stderr",
     "output_type": "stream",
     "text": [
      " 52%|█████▏    | 859/1659 [02:25<02:27,  5.41it/s]"
     ]
    },
    {
     "name": "stdout",
     "output_type": "stream",
     "text": [
      "Error processing 8e6328aa-1364-4412-9634-88325101b08f.wav: \n",
      "Error processing 8ea8670d-9e22-47eb-81a2-2f3242d9a634.wav: \n"
     ]
    },
    {
     "name": "stderr",
     "output_type": "stream",
     "text": [
      " 52%|█████▏    | 865/1659 [02:26<03:21,  3.94it/s]"
     ]
    },
    {
     "name": "stdout",
     "output_type": "stream",
     "text": [
      "Error processing 8fecbe60-53a4-490f-8e49-ea24565a21d9.wav: \n"
     ]
    },
    {
     "name": "stderr",
     "output_type": "stream",
     "text": [
      " 53%|█████▎    | 871/1659 [02:27<01:28,  8.91it/s]"
     ]
    },
    {
     "name": "stdout",
     "output_type": "stream",
     "text": [
      "Error processing 900ab1df-0216-4d58-b7d0-d934402c07de.wav: \n",
      "Error processing 906a835b-216e-4a1d-9f04-2cb666c793c6.wav: \n",
      "Error processing 9072229e-0668-46de-b218-94b1a49b381f.wav: \n",
      "Error processing 90814a62-a5ea-4558-a014-473087990ed7.wav: \n",
      "Error processing 9100e3fd-d527-4f55-9363-40a8b3954b86.wav: \n",
      "Error processing 9126ed05-59b4-4e9f-9522-6a74a5b77af5.wav: \n"
     ]
    },
    {
     "name": "stderr",
     "output_type": "stream",
     "text": [
      " 53%|█████▎    | 877/1659 [02:28<01:53,  6.89it/s]"
     ]
    },
    {
     "name": "stdout",
     "output_type": "stream",
     "text": [
      "Error processing 9195a37e-a3e8-4de5-b2ce-c7d5365bf3c8.wav: \n"
     ]
    },
    {
     "name": "stderr",
     "output_type": "stream",
     "text": [
      " 53%|█████▎    | 879/1659 [02:28<01:38,  7.90it/s]"
     ]
    },
    {
     "name": "stdout",
     "output_type": "stream",
     "text": [
      "Error processing 92110ea6-f651-4503-80dd-1a07c1dafe8b.wav: \n",
      "Error processing 92665623-c0ad-4862-b5a7-27c010b4a0d2.wav: \n",
      "Error processing 929a73d6-55f2-4a64-b443-c64dff4b2e88.wav: \n",
      "Error processing 92c07f59-5c92-49db-9474-13557ddef45f.wav: \n"
     ]
    },
    {
     "name": "stderr",
     "output_type": "stream",
     "text": [
      " 53%|█████▎    | 885/1659 [02:29<01:50,  7.00it/s]"
     ]
    },
    {
     "name": "stdout",
     "output_type": "stream",
     "text": [
      "Error processing 9352ebeb-9530-44a7-99d9-72d91adedf8b.wav: \n",
      "Error processing 9388940b-ee26-4cba-abd6-fe33fd353f06.wav: \n",
      "Error processing 93946be1-ed30-4f8b-9a64-21cb36dd27bd.wav: \n",
      "Error processing 93cd25ef-112e-414f-8a39-d6d0e4faa6b8.wav: \n",
      "Error processing 940e8a50-c78d-4ff0-b463-18bf8540a6ac.wav: \n"
     ]
    },
    {
     "name": "stderr",
     "output_type": "stream",
     "text": [
      " 54%|█████▍    | 893/1659 [02:30<01:33,  8.17it/s]"
     ]
    },
    {
     "name": "stdout",
     "output_type": "stream",
     "text": [
      "Error processing 94c69064-983b-4b04-9262-709a71ea2f59.wav: \n"
     ]
    },
    {
     "name": "stderr",
     "output_type": "stream",
     "text": [
      " 54%|█████▍    | 895/1659 [02:30<01:42,  7.45it/s]"
     ]
    },
    {
     "name": "stdout",
     "output_type": "stream",
     "text": [
      "Error processing 9511fa6d-5af4-488a-bb53-e915ceedde2c.wav: \n"
     ]
    },
    {
     "name": "stderr",
     "output_type": "stream",
     "text": [
      " 54%|█████▍    | 900/1659 [02:31<02:05,  6.03it/s]"
     ]
    },
    {
     "name": "stdout",
     "output_type": "stream",
     "text": [
      "Error processing 95f7c339-121d-4802-bcec-c828313fd083.wav: \n"
     ]
    },
    {
     "name": "stderr",
     "output_type": "stream",
     "text": [
      " 54%|█████▍    | 902/1659 [02:32<02:13,  5.69it/s]"
     ]
    },
    {
     "name": "stdout",
     "output_type": "stream",
     "text": [
      "Error processing 963fb64a-dcbd-4889-8b05-0c7675888f0c.wav: \n"
     ]
    },
    {
     "name": "stderr",
     "output_type": "stream",
     "text": [
      " 54%|█████▍    | 904/1659 [02:32<02:07,  5.92it/s]"
     ]
    },
    {
     "name": "stdout",
     "output_type": "stream",
     "text": [
      "Error processing 9683ec4d-2343-41fa-955d-ceee1a4c8a29.wav: \n",
      "Error processing 969ada35-6441-4c97-9f61-e50c8af17f44.wav: \n"
     ]
    },
    {
     "name": "stderr",
     "output_type": "stream",
     "text": [
      " 55%|█████▍    | 909/1659 [02:33<02:11,  5.71it/s]"
     ]
    },
    {
     "name": "stdout",
     "output_type": "stream",
     "text": [
      "Error processing 9716a40c-906a-4fec-a51a-1e08e49b7edf.wav: \n",
      "Error processing 97ca8770-bcea-4746-9a23-6e18c748d080.wav: \n"
     ]
    },
    {
     "name": "stderr",
     "output_type": "stream",
     "text": [
      " 55%|█████▌    | 913/1659 [02:33<02:03,  6.04it/s]"
     ]
    },
    {
     "name": "stdout",
     "output_type": "stream",
     "text": [
      "Error processing 984347bd-90c5-4fed-adb0-43cce147646f.wav: \n"
     ]
    },
    {
     "name": "stderr",
     "output_type": "stream",
     "text": [
      " 55%|█████▌    | 915/1659 [02:34<02:45,  4.49it/s]"
     ]
    },
    {
     "name": "stdout",
     "output_type": "stream",
     "text": [
      "Error processing 98f91729-923a-4789-bb5e-21b8ee0d5382.wav: \n",
      "Error processing 99053df5-f035-4b93-b9fe-e10a05e169be.wav: \n"
     ]
    },
    {
     "name": "stderr",
     "output_type": "stream",
     "text": [
      " 55%|█████▌    | 918/1659 [02:34<02:03,  6.00it/s]"
     ]
    },
    {
     "name": "stdout",
     "output_type": "stream",
     "text": [
      "Error processing 9930c3fe-a837-4e0b-ac82-b91515eeea7c.wav: \n"
     ]
    },
    {
     "name": "stderr",
     "output_type": "stream",
     "text": [
      " 56%|█████▌    | 924/1659 [02:36<02:05,  5.84it/s]"
     ]
    },
    {
     "name": "stdout",
     "output_type": "stream",
     "text": [
      "Error processing 99e0b995-1526-411a-88de-0908231790a0.wav: \n"
     ]
    },
    {
     "name": "stderr",
     "output_type": "stream",
     "text": [
      " 56%|█████▌    | 929/1659 [02:37<02:24,  5.07it/s]"
     ]
    },
    {
     "name": "stdout",
     "output_type": "stream",
     "text": [
      "Error processing 9a94a9bd-a1b4-4188-91de-7089cd6a1854.wav: \n",
      "Error processing 9b41df40-776e-4c7d-8f5f-2fa3d0e66e2c.wav: \n",
      "Error processing 9b42c8b8-bfe7-42b9-81d6-231990d491a4.wav: \n"
     ]
    },
    {
     "name": "stderr",
     "output_type": "stream",
     "text": [
      " 56%|█████▋    | 934/1659 [02:38<03:08,  3.84it/s]"
     ]
    },
    {
     "name": "stdout",
     "output_type": "stream",
     "text": [
      "Error processing 9bd7cf6e-7963-477b-83c9-0497931e9320.wav: \n",
      "Error processing 9bdb885e-1432-4b43-9ca1-621d9c033e9a.wav: \n"
     ]
    },
    {
     "name": "stderr",
     "output_type": "stream",
     "text": [
      " 56%|█████▋    | 937/1659 [02:39<03:25,  3.51it/s]"
     ]
    },
    {
     "name": "stdout",
     "output_type": "stream",
     "text": [
      "Error processing 9c3ad710-3ac7-4d46-9884-cfe125d06e34.wav: \n"
     ]
    },
    {
     "name": "stderr",
     "output_type": "stream",
     "text": [
      " 57%|█████▋    | 940/1659 [02:40<02:53,  4.14it/s]"
     ]
    },
    {
     "name": "stdout",
     "output_type": "stream",
     "text": [
      "Error processing 9cc7de2b-6ead-4525-a3a5-9bd35b2fc33d.wav: \n"
     ]
    },
    {
     "name": "stderr",
     "output_type": "stream",
     "text": [
      " 57%|█████▋    | 947/1659 [02:41<01:54,  6.24it/s]"
     ]
    },
    {
     "name": "stdout",
     "output_type": "stream",
     "text": [
      "Error processing 9dc7a235-4015-4919-8e48-03a3b597b18c.wav: \n",
      "Error processing 9e245b64-398e-4149-99d5-6c520d082f4e.wav: \n"
     ]
    },
    {
     "name": "stderr",
     "output_type": "stream",
     "text": [
      " 57%|█████▋    | 951/1659 [02:41<01:40,  7.05it/s]"
     ]
    },
    {
     "name": "stdout",
     "output_type": "stream",
     "text": [
      "Error processing 9f890ee1-c761-4de9-920d-c228045f6c39.wav: \n"
     ]
    },
    {
     "name": "stderr",
     "output_type": "stream",
     "text": [
      " 57%|█████▋    | 953/1659 [02:42<03:04,  3.82it/s]"
     ]
    },
    {
     "name": "stdout",
     "output_type": "stream",
     "text": [
      "Error processing a056ab31-52e7-4643-a2dc-494057301716.wav: \n",
      "Error processing a078c470-9e01-4ac0-9f77-fc23e80920d4.wav: \n",
      "Error processing a092f0dd-e6f5-4dce-8d66-2993fee3d7e1.wav: \n"
     ]
    },
    {
     "name": "stderr",
     "output_type": "stream",
     "text": [
      " 58%|█████▊    | 962/1659 [02:43<01:02, 11.10it/s]"
     ]
    },
    {
     "name": "stdout",
     "output_type": "stream",
     "text": [
      "Error processing a1b7bcec-3c3b-4a7a-93bf-2c61c76c797f.wav: \n",
      "Error processing a1c4d78e-3549-4040-8704-17f7bb939911.wav: \n",
      "Error processing a1dc0ee8-dcf5-4315-921b-2ab6c947d818.wav: \n",
      "Error processing a1f6bed6-9a4f-4154-b088-085a949903e9.wav: \n",
      "Error processing a2583080-e267-44bf-aa55-5bf041467dea.wav: \n"
     ]
    },
    {
     "name": "stderr",
     "output_type": "stream",
     "text": [
      " 58%|█████▊    | 968/1659 [02:43<01:04, 10.75it/s]"
     ]
    },
    {
     "name": "stdout",
     "output_type": "stream",
     "text": [
      "Error processing a27552ed-140c-4c98-9974-be454f9ed55c.wav: \n",
      "Error processing a28c68ec-b98f-4699-a6ed-ce51b5d38d2b.wav: \n",
      "Error processing a2a3bb6f-f477-4245-8f67-25617eb50e0c.wav: \n",
      "Error processing a2a56b12-1947-4e7e-b598-9292b7a4a075.wav: \n",
      "Error processing a2c003e7-bde2-4f3e-962f-04573a424804.wav: \n",
      "Error processing a326247d-d063-49d5-976d-fa307a8edec9.wav: \n"
     ]
    },
    {
     "name": "stderr",
     "output_type": "stream",
     "text": [
      " 59%|█████▊    | 971/1659 [02:44<01:04, 10.75it/s]"
     ]
    },
    {
     "name": "stdout",
     "output_type": "stream",
     "text": [
      "Error processing a3696e39-74ab-475a-803d-2777fd76718e.wav: \n"
     ]
    },
    {
     "name": "stderr",
     "output_type": "stream",
     "text": [
      " 59%|█████▊    | 973/1659 [02:44<01:06, 10.26it/s]"
     ]
    },
    {
     "name": "stdout",
     "output_type": "stream",
     "text": [
      "Error processing a36df6ca-0061-44a4-ba84-bbddf3ff75ec.wav: \n",
      "Error processing a3c414de-1cea-401b-8c0a-67f8560596f6.wav: \n",
      "Error processing a417702f-739f-4da0-a2bb-a6e464e5458d.wav: \n",
      "Error processing a432abf1-f1bb-4b51-8bc5-1d43496a0b5e.wav: \n"
     ]
    },
    {
     "name": "stderr",
     "output_type": "stream",
     "text": [
      " 59%|█████▉    | 977/1659 [02:44<01:05, 10.34it/s]"
     ]
    },
    {
     "name": "stdout",
     "output_type": "stream",
     "text": [
      "Error processing a471ec3a-82bb-4cd7-9fa5-28fc473fab50.wav: \n",
      "Error processing a4815b74-5be3-4dea-a86d-477e3ea37b0b.wav: \n"
     ]
    },
    {
     "name": "stderr",
     "output_type": "stream",
     "text": [
      " 59%|█████▉    | 982/1659 [02:45<01:09,  9.68it/s]"
     ]
    },
    {
     "name": "stdout",
     "output_type": "stream",
     "text": [
      "Error processing a4b53b92-703b-4d14-944f-a3f81e00f7d4.wav: \n",
      "Error processing a546209f-20ae-401d-80d5-78b55b4ac6bf.wav: \n",
      "Error processing a5893df2-a332-4767-943b-ef50f08ca8d6.wav: \n"
     ]
    },
    {
     "name": "stderr",
     "output_type": "stream",
     "text": [
      " 59%|█████▉    | 987/1659 [02:45<01:13,  9.20it/s]"
     ]
    },
    {
     "name": "stdout",
     "output_type": "stream",
     "text": [
      "Error processing a5b9f7b3-2b97-4b72-8556-5873124589c8.wav: \n"
     ]
    },
    {
     "name": "stderr",
     "output_type": "stream",
     "text": [
      " 60%|█████▉    | 991/1659 [02:46<01:41,  6.61it/s]"
     ]
    },
    {
     "name": "stdout",
     "output_type": "stream",
     "text": [
      "Error processing a61a9d50-64c4-4e55-9e02-5f03ec652f3f.wav: \n",
      "Error processing a61c839b-1a75-4d45-a433-af099a38a196.wav: \n",
      "Error processing a6f93d05-5196-4fda-ace4-63cdf06183f6.wav: \n",
      "Error processing a7acd6b6-d316-43e0-8844-a160d29a1779.wav: \n",
      "Error processing a817f95b-7703-4cc9-85f3-c1fc3cc85c93.wav: \n"
     ]
    },
    {
     "name": "stderr",
     "output_type": "stream",
     "text": [
      " 60%|██████    | 998/1659 [02:47<01:18,  8.44it/s]"
     ]
    },
    {
     "name": "stdout",
     "output_type": "stream",
     "text": [
      "Error processing a8f54f3f-d1a8-48dc-bb5a-629df7d3b79b.wav: \n",
      "Error processing a90faa30-b14d-4f78-beaf-80043a8aa245.wav: \n",
      "Error processing a9209102-9362-447e-9514-0ef7c95681fa.wav: \n"
     ]
    },
    {
     "name": "stderr",
     "output_type": "stream",
     "text": [
      " 60%|██████    | 1000/1659 [02:47<01:22,  7.96it/s]"
     ]
    },
    {
     "name": "stdout",
     "output_type": "stream",
     "text": [
      "Error processing a966a87e-332a-45f6-a052-bce4dc91c76c.wav: \n",
      "Error processing a9c07dc9-167d-4196-8e6a-57a21f2d3cfb.wav: \n"
     ]
    },
    {
     "name": "stderr",
     "output_type": "stream",
     "text": [
      " 60%|██████    | 1003/1659 [02:48<01:21,  8.05it/s]"
     ]
    },
    {
     "name": "stdout",
     "output_type": "stream",
     "text": [
      "Error processing a9f50558-bf36-4997-9b36-dca4d785b2f0.wav: \n",
      "Error processing a9f74cca-fdae-40a4-abaf-c894c9fb2800.wav: \n"
     ]
    },
    {
     "name": "stderr",
     "output_type": "stream",
     "text": [
      " 61%|██████    | 1010/1659 [02:49<02:03,  5.25it/s]"
     ]
    },
    {
     "name": "stdout",
     "output_type": "stream",
     "text": [
      "Error processing ab173e37-c04f-422f-b2cc-88f1f894d203.wav: \n",
      "Error processing ab19a662-2457-469a-8491-721aa56b27d1.wav: \n"
     ]
    },
    {
     "name": "stderr",
     "output_type": "stream",
     "text": [
      " 62%|██████▏   | 1022/1659 [02:51<01:32,  6.92it/s]"
     ]
    },
    {
     "name": "stdout",
     "output_type": "stream",
     "text": [
      "Error processing ac14aef4-c6ce-405d-91a1-66c2476265ab.wav: \n"
     ]
    },
    {
     "name": "stderr",
     "output_type": "stream",
     "text": [
      " 62%|██████▏   | 1024/1659 [02:52<01:52,  5.66it/s]"
     ]
    },
    {
     "name": "stdout",
     "output_type": "stream",
     "text": [
      "Error processing ac8d0de9-88c8-4279-85c4-574d52b91f72.wav: \n"
     ]
    },
    {
     "name": "stderr",
     "output_type": "stream",
     "text": [
      " 62%|██████▏   | 1029/1659 [02:52<01:18,  7.99it/s]"
     ]
    },
    {
     "name": "stdout",
     "output_type": "stream",
     "text": [
      "Error processing acfe4fb4-d3a2-48c9-af3f-c669fccb26a9.wav: \n",
      "Error processing ad89032b-8f97-4b1d-89b2-f328a00d4af6.wav: \n",
      "Error processing adbfdac5-3871-4795-be24-5b3a62aae1eb.wav: \n"
     ]
    },
    {
     "name": "stderr",
     "output_type": "stream",
     "text": [
      " 62%|██████▏   | 1034/1659 [02:53<01:41,  6.15it/s]"
     ]
    },
    {
     "name": "stdout",
     "output_type": "stream",
     "text": [
      "Error processing ae32960f-6896-4405-8223-e956c8eaa4df.wav: \n",
      "Error processing ae760906-9c6d-46c8-930e-4186b34b92cd.wav: \n"
     ]
    },
    {
     "name": "stderr",
     "output_type": "stream",
     "text": [
      " 63%|██████▎   | 1037/1659 [02:54<01:52,  5.54it/s]"
     ]
    },
    {
     "name": "stdout",
     "output_type": "stream",
     "text": [
      "Error processing aec6aa87-026a-4ddd-aea2-9bb7538f4e81.wav: \n",
      "Error processing aed43f39-acaf-490c-b579-65da57baa989.wav: \n"
     ]
    },
    {
     "name": "stderr",
     "output_type": "stream",
     "text": [
      " 63%|██████▎   | 1041/1659 [02:55<03:08,  3.28it/s]"
     ]
    },
    {
     "name": "stdout",
     "output_type": "stream",
     "text": [
      "Error processing aef53b2a-9d07-4747-a63e-b5487337874c.wav: \n",
      "Error processing af0fa3b7-5864-45ac-934d-dd498cfd8ac0.wav: \n"
     ]
    },
    {
     "name": "stderr",
     "output_type": "stream",
     "text": [
      " 63%|██████▎   | 1047/1659 [02:56<02:27,  4.15it/s]"
     ]
    },
    {
     "name": "stdout",
     "output_type": "stream",
     "text": [
      "Error processing aff58f54-587d-4351-a2f2-8fc914288887.wav: \n",
      "Error processing affc21e8-d348-499e-ae0f-33951cda3bf4.wav: \n"
     ]
    },
    {
     "name": "stderr",
     "output_type": "stream",
     "text": [
      " 63%|██████▎   | 1051/1659 [02:57<01:57,  5.17it/s]"
     ]
    },
    {
     "name": "stdout",
     "output_type": "stream",
     "text": [
      "Error processing b09b5a75-9260-40cf-9f86-9ae0121b4964.wav: \n"
     ]
    },
    {
     "name": "stderr",
     "output_type": "stream",
     "text": [
      " 64%|██████▎   | 1055/1659 [02:58<02:03,  4.89it/s]"
     ]
    },
    {
     "name": "stdout",
     "output_type": "stream",
     "text": [
      "Error processing b12aa566-23d9-42cc-912c-f0b630c3a62b.wav: \n"
     ]
    },
    {
     "name": "stderr",
     "output_type": "stream",
     "text": [
      " 64%|██████▍   | 1058/1659 [02:59<02:04,  4.84it/s]"
     ]
    },
    {
     "name": "stdout",
     "output_type": "stream",
     "text": [
      "Error processing b1ba338c-7fa6-4089-8eb7-46884c745405.wav: \n",
      "Error processing b1f8f645-e71f-4541-a67e-5e3e74f81410.wav: \n",
      "Error processing b20b4c5e-984d-4f34-9190-8582aaef92c0.wav: \n"
     ]
    },
    {
     "name": "stderr",
     "output_type": "stream",
     "text": [
      " 64%|██████▍   | 1061/1659 [02:59<01:41,  5.89it/s]"
     ]
    },
    {
     "name": "stdout",
     "output_type": "stream",
     "text": [
      "Error processing b220808a-309a-4786-9dfe-6270373e1fe3.wav: \n",
      "Error processing b2344ef7-4a11-4bf0-b018-121d308e24cd.wav: \n"
     ]
    },
    {
     "name": "stderr",
     "output_type": "stream",
     "text": [
      " 64%|██████▍   | 1065/1659 [02:59<01:31,  6.48it/s]"
     ]
    },
    {
     "name": "stdout",
     "output_type": "stream",
     "text": [
      "Error processing b2cc9712-85dd-487d-b38b-65665d0f6853.wav: \n"
     ]
    },
    {
     "name": "stderr",
     "output_type": "stream",
     "text": [
      " 64%|██████▍   | 1067/1659 [03:00<01:31,  6.50it/s]"
     ]
    },
    {
     "name": "stdout",
     "output_type": "stream",
     "text": [
      "Error processing b33d222c-948e-49b4-a6f5-b65057d32791.wav: \n"
     ]
    },
    {
     "name": "stderr",
     "output_type": "stream",
     "text": [
      " 65%|██████▍   | 1075/1659 [03:01<00:59,  9.83it/s]"
     ]
    },
    {
     "name": "stdout",
     "output_type": "stream",
     "text": [
      "Error processing b3fd90b7-97f1-4f34-8977-4a84f4e44f47.wav: \n",
      "Error processing b3ffe786-cdb0-4794-aace-6978fc66e223.wav: \n",
      "Error processing b4350c9c-c72d-4655-b732-2eaffe219aea.wav: \n",
      "Error processing b4643cd6-dc17-4017-926a-7aea559a8ecf.wav: \n",
      "Error processing b4761d93-6990-4439-ab4b-345b75163b82.wav: \n",
      "Error processing b4b6c914-8b30-41d3-b01e-d013605668de.wav: \n"
     ]
    },
    {
     "name": "stderr",
     "output_type": "stream",
     "text": [
      " 65%|██████▍   | 1077/1659 [03:01<01:07,  8.60it/s]"
     ]
    },
    {
     "name": "stdout",
     "output_type": "stream",
     "text": [
      "Error processing b4db1909-6284-4bfd-9c6f-3d136486e1f8.wav: \n",
      "Error processing b4f002a3-d56b-4659-a746-cab7ef00f6b3.wav: \n"
     ]
    },
    {
     "name": "stderr",
     "output_type": "stream",
     "text": [
      " 65%|██████▌   | 1085/1659 [03:03<01:44,  5.48it/s]"
     ]
    },
    {
     "name": "stdout",
     "output_type": "stream",
     "text": [
      "Error processing b5f472f6-fa44-41f9-a110-85d833fc0631.wav: \n",
      "Error processing b60aa5fa-e96e-4619-9737-83e1581e2c5e.wav: \n"
     ]
    },
    {
     "name": "stderr",
     "output_type": "stream",
     "text": [
      " 66%|██████▌   | 1089/1659 [03:03<01:41,  5.60it/s]"
     ]
    },
    {
     "name": "stdout",
     "output_type": "stream",
     "text": [
      "Error processing b6746f87-1209-47d2-90b9-a16d91e884d4.wav: \n"
     ]
    },
    {
     "name": "stderr",
     "output_type": "stream",
     "text": [
      " 66%|██████▌   | 1098/1659 [03:05<01:08,  8.14it/s]"
     ]
    },
    {
     "name": "stdout",
     "output_type": "stream",
     "text": [
      "Error processing b790ea2f-ace6-418a-a2ae-f6b8e091ed36.wav: \n",
      "Error processing b7eb83a5-f8df-4f86-a6a4-1ee47e339cff.wav: \n",
      "Error processing b864a7f9-b48c-45eb-bd87-515f6f4b0de0.wav: \n"
     ]
    },
    {
     "name": "stderr",
     "output_type": "stream",
     "text": [
      " 67%|██████▋   | 1104/1659 [03:06<01:30,  6.14it/s]"
     ]
    },
    {
     "name": "stdout",
     "output_type": "stream",
     "text": [
      "Error processing b8d4bba0-38e7-4044-aede-e648fcd0be46.wav: \n"
     ]
    },
    {
     "name": "stderr",
     "output_type": "stream",
     "text": [
      " 67%|██████▋   | 1111/1659 [03:07<00:57,  9.56it/s]"
     ]
    },
    {
     "name": "stdout",
     "output_type": "stream",
     "text": [
      "Error processing b9dd967a-7be4-47ae-9b1a-a38994320308.wav: \n",
      "Error processing ba08dae5-1633-4f5b-b8bc-cabf6fbbb930.wav: \n",
      "Error processing ba34e97e-11a3-4ec4-b374-8b3db691882a.wav: \n",
      "Error processing ba66f9a3-4208-4065-acaf-a61860f6d3d8.wav: \n",
      "Error processing bb15b0c7-2f79-41ec-87fa-f226dd6736e1.wav: \n"
     ]
    },
    {
     "name": "stderr",
     "output_type": "stream",
     "text": [
      " 67%|██████▋   | 1114/1659 [03:07<00:57,  9.52it/s]"
     ]
    },
    {
     "name": "stdout",
     "output_type": "stream",
     "text": [
      "Error processing bb6aa9d5-b297-4d5f-bb5e-a8350c99dcb5.wav: \n"
     ]
    },
    {
     "name": "stderr",
     "output_type": "stream",
     "text": [
      " 67%|██████▋   | 1116/1659 [03:07<01:08,  7.89it/s]"
     ]
    },
    {
     "name": "stdout",
     "output_type": "stream",
     "text": [
      "Error processing bb7ce65c-6415-4a60-b8e6-678ebf66f417.wav: \n"
     ]
    },
    {
     "name": "stderr",
     "output_type": "stream",
     "text": [
      " 68%|██████▊   | 1122/1659 [03:08<00:58,  9.19it/s]"
     ]
    },
    {
     "name": "stdout",
     "output_type": "stream",
     "text": [
      "Error processing bc283e9f-d39c-4d98-b500-da108858e746.wav: \n",
      "Error processing bc7e75b9-ea9a-4da8-8189-8324ba129271.wav: \n"
     ]
    },
    {
     "name": "stderr",
     "output_type": "stream",
     "text": [
      " 68%|██████▊   | 1124/1659 [03:08<01:10,  7.56it/s]"
     ]
    },
    {
     "name": "stdout",
     "output_type": "stream",
     "text": [
      "Error processing bc96d007-985d-4524-bef4-33b08ff1c8e4.wav: \n",
      "Error processing bcafde79-5a8d-4239-a50c-d0f1f680ffa3.wav: \n",
      "Error processing bd5990b0-0a81-4290-b1b3-fd2e71422af6.wav: \n",
      "Error processing bd850c44-ba73-4d6e-86b0-bff747a487bd.wav: \n"
     ]
    },
    {
     "name": "stderr",
     "output_type": "stream",
     "text": [
      " 68%|██████▊   | 1132/1659 [03:09<00:44, 11.82it/s]"
     ]
    },
    {
     "name": "stdout",
     "output_type": "stream",
     "text": [
      "Error processing bde68830-f3ce-4b53-b2e9-2792a0830749.wav: \n",
      "Error processing bde7b662-db81-411e-a654-f4e2c2ff685e.wav: \n"
     ]
    },
    {
     "name": "stderr",
     "output_type": "stream",
     "text": [
      " 68%|██████▊   | 1135/1659 [03:10<01:12,  7.25it/s]"
     ]
    },
    {
     "name": "stdout",
     "output_type": "stream",
     "text": [
      "Error processing bf27be23-075c-4f52-bd6f-83319bddf2d4.wav: \n"
     ]
    },
    {
     "name": "stderr",
     "output_type": "stream",
     "text": [
      " 69%|██████▉   | 1142/1659 [03:11<00:56,  9.18it/s]"
     ]
    },
    {
     "name": "stdout",
     "output_type": "stream",
     "text": [
      "Error processing bfe1665e-e975-4623-bf94-b5e20824aca4.wav: \n",
      "Error processing bffb11c9-3661-4352-aa2d-708860756355.wav: \n",
      "Error processing c0010fe9-5280-4919-86ee-43502f79c950.wav: \n",
      "Error processing c02f1970-4e6a-4b16-a66a-bdfce6e2a632.wav: \n",
      "Error processing c05e9a8a-79cb-4afb-b006-299b584d3ba6.wav: \n",
      "Error processing c07a0f97-b311-4048-9565-e23dbdb2728e.wav: \n"
     ]
    },
    {
     "name": "stderr",
     "output_type": "stream",
     "text": [
      " 69%|██████▉   | 1149/1659 [03:12<00:58,  8.78it/s]"
     ]
    },
    {
     "name": "stdout",
     "output_type": "stream",
     "text": [
      "Error processing c1205f25-167e-4a1a-abb9-a637e0b98d2f.wav: \n",
      "Error processing c12175df-6db7-425a-b5a2-71b690337ed1.wav: \n",
      "Error processing c14e8bfe-2660-4cd5-9618-7f5ccec0a88a.wav: \n"
     ]
    },
    {
     "name": "stderr",
     "output_type": "stream",
     "text": [
      " 69%|██████▉   | 1151/1659 [03:12<00:48, 10.39it/s]"
     ]
    },
    {
     "name": "stdout",
     "output_type": "stream",
     "text": [
      "Error processing c1ea9d24-934b-4413-9461-b00f5807a7ba.wav: \n",
      "Error processing c24c4fe2-a818-470d-96ee-f4d477f4f04e.wav: \n"
     ]
    },
    {
     "name": "stderr",
     "output_type": "stream",
     "text": [
      " 70%|██████▉   | 1158/1659 [03:13<01:08,  7.31it/s]"
     ]
    },
    {
     "name": "stdout",
     "output_type": "stream",
     "text": [
      "Error processing c34e5693-aacf-4cd2-87cf-9a6225d65e16.wav: \n"
     ]
    },
    {
     "name": "stderr",
     "output_type": "stream",
     "text": [
      " 70%|███████   | 1168/1659 [03:13<00:29, 16.52it/s]"
     ]
    },
    {
     "name": "stdout",
     "output_type": "stream",
     "text": [
      "Error processing c41c3358-565f-4b2a-a891-28baa7d1c2cb.wav: \n",
      "Error processing c46a1fd0-01d0-4ce3-80bf-d40869c3606b.wav: \n",
      "Error processing c488dd07-d3f3-4621-b7f0-b98e263bcb61.wav: \n",
      "Error processing c497e70f-cad3-42df-9772-401e0355cc19.wav: \n",
      "Error processing c49cb523-36ee-4117-8d63-918c6cc6e5fa.wav: \n",
      "Error processing c4d30559-c04e-4210-b989-a55a9cd1236a.wav: \n",
      "Error processing c4d51c3b-da76-4f35-be85-13f37e82390b.wav: \n",
      "Error processing c4facfa0-7e97-4035-a488-9176b3293401.wav: \n",
      "Error processing c5a0c1c2-0cbf-4186-a14f-3960b36ee9f3.wav: \n"
     ]
    },
    {
     "name": "stderr",
     "output_type": "stream",
     "text": [
      " 71%|███████   | 1173/1659 [03:14<01:01,  7.97it/s]"
     ]
    },
    {
     "name": "stdout",
     "output_type": "stream",
     "text": [
      "Error processing c60c477a-d873-4d5c-9c17-55cc83c09b1c.wav: \n"
     ]
    },
    {
     "name": "stderr",
     "output_type": "stream",
     "text": [
      " 71%|███████   | 1175/1659 [03:15<00:59,  8.13it/s]"
     ]
    },
    {
     "name": "stdout",
     "output_type": "stream",
     "text": [
      "Error processing c6aaa22d-a817-45d4-b9a7-21d82ebb70bd.wav: \n",
      "Error processing c6c57ea4-e950-4ee3-8b37-b2bf4d97e491.wav: \n"
     ]
    },
    {
     "name": "stderr",
     "output_type": "stream",
     "text": [
      " 71%|███████   | 1181/1659 [03:16<01:31,  5.24it/s]"
     ]
    },
    {
     "name": "stdout",
     "output_type": "stream",
     "text": [
      "Error processing c77c01c4-d1ec-4cc4-8e41-4962d62302e9.wav: \n",
      "Error processing c785a096-c7ac-4bb6-b56e-615fac0583a6.wav: \n"
     ]
    },
    {
     "name": "stderr",
     "output_type": "stream",
     "text": [
      " 71%|███████▏  | 1185/1659 [03:17<01:10,  6.68it/s]"
     ]
    },
    {
     "name": "stdout",
     "output_type": "stream",
     "text": [
      "Error processing c79e9078-b369-463f-99f6-aae59a80c9ad.wav: \n"
     ]
    },
    {
     "name": "stderr",
     "output_type": "stream",
     "text": [
      " 72%|███████▏  | 1191/1659 [03:17<00:56,  8.30it/s]"
     ]
    },
    {
     "name": "stdout",
     "output_type": "stream",
     "text": [
      "Error processing c8b31fd7-4113-424c-aa9b-dc34583518bc.wav: \n",
      "Error processing c8bd41eb-5621-4a3d-9e5b-1acbe8465c6d.wav: \n"
     ]
    },
    {
     "name": "stderr",
     "output_type": "stream",
     "text": [
      " 72%|███████▏  | 1193/1659 [03:18<00:55,  8.38it/s]"
     ]
    },
    {
     "name": "stdout",
     "output_type": "stream",
     "text": [
      "Error processing c91aadd1-c900-4753-8e4e-fa6a4c380b4f.wav: \n",
      "Error processing c91ec940-5ec8-4337-a859-dd28694f547e.wav: \n",
      "Error processing c9287d1e-f6b5-4d47-b8e6-e619ef0c08b7.wav: \n"
     ]
    },
    {
     "name": "stderr",
     "output_type": "stream",
     "text": [
      " 72%|███████▏  | 1196/1659 [03:18<00:49,  9.31it/s]"
     ]
    },
    {
     "name": "stdout",
     "output_type": "stream",
     "text": [
      "Error processing c994370f-db94-40dd-bc2f-48f9a387ea18.wav: \n",
      "Error processing ca3911c3-9dae-449c-b450-7d61502c74bc.wav: \n"
     ]
    },
    {
     "name": "stderr",
     "output_type": "stream",
     "text": [
      " 72%|███████▏  | 1201/1659 [03:18<00:44, 10.24it/s]"
     ]
    },
    {
     "name": "stdout",
     "output_type": "stream",
     "text": [
      "Error processing ca97b934-fa0e-410a-af95-5635c70b4343.wav: \n"
     ]
    },
    {
     "name": "stderr",
     "output_type": "stream",
     "text": [
      " 73%|███████▎  | 1205/1659 [03:19<00:43, 10.40it/s]"
     ]
    },
    {
     "name": "stdout",
     "output_type": "stream",
     "text": [
      "Error processing cae65ae8-2b28-4cb9-a070-aa7379cbd9f8.wav: \n",
      "Error processing cb111d0f-ed51-4f50-851b-c5a56fe33a15.wav: \n"
     ]
    },
    {
     "name": "stderr",
     "output_type": "stream",
     "text": [
      " 73%|███████▎  | 1207/1659 [03:19<00:49,  9.11it/s]"
     ]
    },
    {
     "name": "stdout",
     "output_type": "stream",
     "text": [
      "Error processing cb8d8217-bea2-4b2c-b265-c3d8d5310135.wav: \n"
     ]
    },
    {
     "name": "stderr",
     "output_type": "stream",
     "text": [
      " 73%|███████▎  | 1208/1659 [03:20<01:22,  5.46it/s]"
     ]
    },
    {
     "name": "stdout",
     "output_type": "stream",
     "text": [
      "Error processing cbf919f4-822c-404a-92f6-716cb1422330.wav: \n",
      "Error processing cbf99b96-221d-4dbb-8d2a-76f50d5a996b.wav: \n",
      "Error processing cc0bf17b-96f7-43f7-89e0-6193500cbb94.wav: \n"
     ]
    },
    {
     "name": "stderr",
     "output_type": "stream",
     "text": [
      " 73%|███████▎  | 1216/1659 [03:20<00:54,  8.06it/s]"
     ]
    },
    {
     "name": "stdout",
     "output_type": "stream",
     "text": [
      "Error processing cc828e81-3352-4a1f-9da4-fd980846d960.wav: \n"
     ]
    },
    {
     "name": "stderr",
     "output_type": "stream",
     "text": [
      " 73%|███████▎  | 1218/1659 [03:21<00:51,  8.52it/s]"
     ]
    },
    {
     "name": "stdout",
     "output_type": "stream",
     "text": [
      "Error processing ccce70a7-b2ca-40eb-b13d-2a9500f1cd68.wav: \n",
      "Error processing cd0afe33-3558-4cb9-8552-6c28617ca397.wav: \n",
      "Error processing cd2def27-a7c6-427f-a70c-0ec2590e9803.wav: \n"
     ]
    },
    {
     "name": "stderr",
     "output_type": "stream",
     "text": [
      " 74%|███████▎  | 1223/1659 [03:21<01:10,  6.16it/s]d:\\Python\\Lib\\site-packages\\librosa\\core\\spectrum.py:266: UserWarning: n_fft=2048 is too large for input signal of length=941\n",
      "  warnings.warn(\n",
      " 74%|███████▍  | 1229/1659 [03:23<01:34,  4.53it/s]"
     ]
    },
    {
     "name": "stdout",
     "output_type": "stream",
     "text": [
      "Error processing cf280e42-b806-44a3-a2de-9e20690dedd4.wav: \n",
      "Error processing cf57ed69-a8b9-4518-b817-cd91b872c5ec.wav: \n",
      "Error processing cf6dd28a-00c3-4e04-a0ec-2a9b27a7f10f.wav: \n",
      "Error processing cf9a5fb6-823d-48b8-8fb1-572968e5cd1a.wav: \n"
     ]
    },
    {
     "name": "stderr",
     "output_type": "stream",
     "text": [
      " 74%|███████▍  | 1234/1659 [03:23<00:52,  8.12it/s]"
     ]
    },
    {
     "name": "stdout",
     "output_type": "stream",
     "text": [
      "Error processing cff0465e-daab-4bcf-9fe3-57122111e07b.wav: \n",
      "Error processing coughvid_00098cdb-4da1-4aa7-825a-4f1b9abc214b.wav: \n"
     ]
    },
    {
     "name": "stderr",
     "output_type": "stream",
     "text": [
      " 75%|███████▍  | 1239/1659 [03:25<01:37,  4.29it/s]"
     ]
    },
    {
     "name": "stdout",
     "output_type": "stream",
     "text": [
      "Error processing coughvid_007089d2-ed48-4464-b981-66fc66a6c121.wav: \n"
     ]
    },
    {
     "name": "stderr",
     "output_type": "stream",
     "text": [
      " 75%|███████▍  | 1241/1659 [03:25<01:25,  4.90it/s]"
     ]
    },
    {
     "name": "stdout",
     "output_type": "stream",
     "text": [
      "Error processing coughvid_00bca802-462d-403c-956d-5c92f3f886c3.wav: \n",
      "Error processing coughvid_00eb562b-7e14-4981-8521-0194253470f0.wav: \n"
     ]
    },
    {
     "name": "stderr",
     "output_type": "stream",
     "text": [
      " 75%|███████▍  | 1244/1659 [03:25<01:12,  5.76it/s]"
     ]
    },
    {
     "name": "stdout",
     "output_type": "stream",
     "text": [
      "Error processing coughvid_00eeef06-9ab0-45d8-8ddf-5fbc54b96dec.wav: \n",
      "Error processing coughvid_00f41aaf-b05b-4594-8769-fed636fad323.wav: \n",
      "Error processing coughvid_00f461f5-d121-4254-8d8b-6111e523c5ae.wav: \n"
     ]
    },
    {
     "name": "stderr",
     "output_type": "stream",
     "text": [
      " 76%|███████▌  | 1254/1659 [03:27<00:46,  8.68it/s]"
     ]
    },
    {
     "name": "stdout",
     "output_type": "stream",
     "text": [
      "Error processing coughvid_016173c7-5890-49e2-891f-3ef460cda5f8.wav: \n",
      "Error processing coughvid_01861986-a00a-44ec-a397-5b5cf7cb66af.wav: \n",
      "Error processing coughvid_01887051-1e3a-4287-85bc-0f2633740667.wav: \n",
      "Error processing coughvid_01c1c8d7-611c-4a28-b48a-8f0ce3506e49.wav: \n",
      "Error processing coughvid_01f22bba-9d34-451f-868a-dacd249ccd71.wav: \n"
     ]
    },
    {
     "name": "stderr",
     "output_type": "stream",
     "text": [
      " 76%|███████▌  | 1260/1659 [03:28<01:11,  5.59it/s]"
     ]
    },
    {
     "name": "stdout",
     "output_type": "stream",
     "text": [
      "Error processing coughvid_020eab56-1312-4f66-9f96-0bafdcac2be4.wav: \n"
     ]
    },
    {
     "name": "stderr",
     "output_type": "stream",
     "text": [
      " 76%|███████▌  | 1262/1659 [03:28<01:23,  4.78it/s]"
     ]
    },
    {
     "name": "stdout",
     "output_type": "stream",
     "text": [
      "Error processing coughvid_0225680c-9b5b-4d47-9add-d5cb8bf42337.wav: \n",
      "Error processing coughvid_02335034-6397-4cb3-9f05-04398651c749.wav: \n"
     ]
    },
    {
     "name": "stderr",
     "output_type": "stream",
     "text": [
      " 76%|███████▌  | 1264/1659 [03:29<01:17,  5.11it/s]"
     ]
    },
    {
     "name": "stdout",
     "output_type": "stream",
     "text": [
      "Error processing coughvid_026967ef-d1a3-4fc5-a752-e0259d3c92a1.wav: \n"
     ]
    },
    {
     "name": "stderr",
     "output_type": "stream",
     "text": [
      " 76%|███████▋  | 1267/1659 [03:29<01:21,  4.81it/s]"
     ]
    },
    {
     "name": "stdout",
     "output_type": "stream",
     "text": [
      "Error processing coughvid_028ec384-8216-492a-9c16-ba00367b6e3e.wav: \n"
     ]
    },
    {
     "name": "stderr",
     "output_type": "stream",
     "text": [
      " 76%|███████▋  | 1269/1659 [03:30<01:55,  3.38it/s]"
     ]
    },
    {
     "name": "stdout",
     "output_type": "stream",
     "text": [
      "Error processing coughvid_02ea54d1-9935-4404-80b5-9841dc5f7e00.wav: \n",
      "Error processing coughvid_02f276e7-f935-4154-aa17-39fd7166e929.wav: \n"
     ]
    },
    {
     "name": "stderr",
     "output_type": "stream",
     "text": [
      " 77%|███████▋  | 1273/1659 [03:31<01:29,  4.32it/s]"
     ]
    },
    {
     "name": "stdout",
     "output_type": "stream",
     "text": [
      "Error processing coughvid_033010fd-2c99-46b6-9198-6ff053d88c12.wav: \n"
     ]
    },
    {
     "name": "stderr",
     "output_type": "stream",
     "text": [
      " 77%|███████▋  | 1280/1659 [03:33<01:21,  4.63it/s]"
     ]
    },
    {
     "name": "stdout",
     "output_type": "stream",
     "text": [
      "Error processing coughvid_045404f5-fd32-49e9-b48f-d0cd6569fd4b.wav: \n"
     ]
    },
    {
     "name": "stderr",
     "output_type": "stream",
     "text": [
      " 77%|███████▋  | 1283/1659 [03:33<01:28,  4.25it/s]"
     ]
    },
    {
     "name": "stdout",
     "output_type": "stream",
     "text": [
      "Error processing coughvid_04a60f2a-e4bc-4dd9-bd75-8598de152d45.wav: \n"
     ]
    },
    {
     "name": "stderr",
     "output_type": "stream",
     "text": [
      " 77%|███████▋  | 1285/1659 [03:34<01:10,  5.31it/s]"
     ]
    },
    {
     "name": "stdout",
     "output_type": "stream",
     "text": [
      "Error processing coughvid_04b709e3-2aae-4f51-b81a-3fc157ba2994.wav: \n",
      "Error processing coughvid_04fb9f54-00f2-477a-a79f-7db1ddfae415.wav: \n"
     ]
    },
    {
     "name": "stderr",
     "output_type": "stream",
     "text": [
      " 78%|███████▊  | 1290/1659 [03:34<00:56,  6.50it/s]"
     ]
    },
    {
     "name": "stdout",
     "output_type": "stream",
     "text": [
      "Error processing coughvid_05e22d2a-0eff-475f-b663-1d39283cb42d.wav: \n",
      "Error processing coughvid_05e6422c-fac4-4dc3-bc69-3030839f7caf.wav: \n"
     ]
    },
    {
     "name": "stderr",
     "output_type": "stream",
     "text": [
      " 78%|███████▊  | 1293/1659 [03:35<00:51,  7.06it/s]"
     ]
    },
    {
     "name": "stdout",
     "output_type": "stream",
     "text": [
      "Error processing coughvid_06b55e46-5023-48e6-96c5-434261268ab8.wav: \n"
     ]
    },
    {
     "name": "stderr",
     "output_type": "stream",
     "text": [
      " 78%|███████▊  | 1296/1659 [03:36<01:20,  4.51it/s]"
     ]
    },
    {
     "name": "stdout",
     "output_type": "stream",
     "text": [
      "Error processing coughvid_07a762da-332e-41a9-8374-136552397b04.wav: \n"
     ]
    },
    {
     "name": "stderr",
     "output_type": "stream",
     "text": [
      " 78%|███████▊  | 1301/1659 [03:36<00:53,  6.73it/s]"
     ]
    },
    {
     "name": "stdout",
     "output_type": "stream",
     "text": [
      "Error processing coughvid_07fcc0af-e219-4421-bf02-4562284e2d92.wav: \n",
      "Error processing coughvid_0801ef4f-795a-4755-b861-adcaa52f1818.wav: \n",
      "Error processing coughvid_0886c74c-725a-4539-83ea-7bbdd1ca093c.wav: \n",
      "Error processing coughvid_08cd3aec-ad63-430b-b670-01fbd328c8b3.wav: \n",
      "Error processing coughvid_08e35e05-f2d0-45fc-abcb-1316fda14db4.wav: \n",
      "Error processing coughvid_08f0b838-4104-46bf-b234-554c30fd8238.wav: \n"
     ]
    },
    {
     "name": "stderr",
     "output_type": "stream",
     "text": [
      " 79%|███████▉  | 1308/1659 [03:37<00:43,  8.05it/s]"
     ]
    },
    {
     "name": "stdout",
     "output_type": "stream",
     "text": [
      "Error processing coughvid_092a0f31-db97-4d45-a643-c5984b6f4cf9.wav: \n",
      "Error processing coughvid_093a01ef-0cb6-49e3-a54e-2318b696cfd7.wav: \n"
     ]
    },
    {
     "name": "stderr",
     "output_type": "stream",
     "text": [
      " 79%|███████▉  | 1311/1659 [03:38<00:56,  6.13it/s]"
     ]
    },
    {
     "name": "stdout",
     "output_type": "stream",
     "text": [
      "Error processing coughvid_0a3556ce-e37b-48cb-9867-3497956f5a04.wav: \n"
     ]
    },
    {
     "name": "stderr",
     "output_type": "stream",
     "text": [
      " 79%|███████▉  | 1313/1659 [03:38<01:15,  4.57it/s]"
     ]
    },
    {
     "name": "stdout",
     "output_type": "stream",
     "text": [
      "Error processing coughvid_0ace0c46-6ca7-4749-9f9b-470e63c64999.wav: \n",
      "Error processing coughvid_0ad66251-aa2a-4b28-9a8b-e145cfc8bc21.wav: \n"
     ]
    },
    {
     "name": "stderr",
     "output_type": "stream",
     "text": [
      " 79%|███████▉  | 1318/1659 [03:39<01:00,  5.63it/s]"
     ]
    },
    {
     "name": "stdout",
     "output_type": "stream",
     "text": [
      "Error processing coughvid_0b52ef1e-a0df-481c-b674-7a13317ed727.wav: \n",
      "Error processing coughvid_0b7e830a-d625-4ec4-ad3a-4c0a5d382fda.wav: \n"
     ]
    },
    {
     "name": "stderr",
     "output_type": "stream",
     "text": [
      " 80%|███████▉  | 1322/1659 [03:39<00:49,  6.74it/s]"
     ]
    },
    {
     "name": "stdout",
     "output_type": "stream",
     "text": [
      "Error processing coughvid_0bd3c2f3-bfd8-46de-a90a-41ddcee2b586.wav: \n",
      "Error processing coughvid_0bffcea9-4afe-4efe-9fc7-4ae2a8956daf.wav: \n"
     ]
    },
    {
     "name": "stderr",
     "output_type": "stream",
     "text": [
      " 80%|███████▉  | 1325/1659 [03:40<00:42,  7.86it/s]"
     ]
    },
    {
     "name": "stdout",
     "output_type": "stream",
     "text": [
      "Error processing coughvid_0c218289-a7ae-4b6f-88b3-6eaf08b6484f.wav: \n"
     ]
    },
    {
     "name": "stderr",
     "output_type": "stream",
     "text": [
      " 80%|████████  | 1331/1659 [03:41<00:57,  5.67it/s]"
     ]
    },
    {
     "name": "stdout",
     "output_type": "stream",
     "text": [
      "Error processing coughvid_0d48a6a4-b166-4cab-a748-a35a84e0a7c7.wav: \n"
     ]
    },
    {
     "name": "stderr",
     "output_type": "stream",
     "text": [
      " 80%|████████  | 1334/1659 [03:41<00:55,  5.81it/s]"
     ]
    },
    {
     "name": "stdout",
     "output_type": "stream",
     "text": [
      "Error processing coughvid_0db55d54-78ad-4bca-91ac-cb90cc34f74d.wav: \n"
     ]
    },
    {
     "name": "stderr",
     "output_type": "stream",
     "text": [
      " 81%|████████  | 1337/1659 [03:42<01:04,  4.98it/s]"
     ]
    },
    {
     "name": "stdout",
     "output_type": "stream",
     "text": [
      "Error processing coughvid_0dddb73e-8bc6-45f0-879e-7e40387599d4.wav: \n",
      "Error processing coughvid_0df75466-7a54-41e1-8b97-e84b9ec356d2.wav: \n"
     ]
    },
    {
     "name": "stderr",
     "output_type": "stream",
     "text": [
      " 81%|████████  | 1340/1659 [03:42<00:56,  5.69it/s]"
     ]
    },
    {
     "name": "stdout",
     "output_type": "stream",
     "text": [
      "Error processing coughvid_0ef8b324-f619-4c79-8c7e-8d0e1ff3e6a5.wav: \n"
     ]
    },
    {
     "name": "stderr",
     "output_type": "stream",
     "text": [
      " 81%|████████  | 1344/1659 [03:43<00:42,  7.48it/s]"
     ]
    },
    {
     "name": "stdout",
     "output_type": "stream",
     "text": [
      "Error processing coughvid_0f0d7c3d-f36d-4983-94ac-68a2abf29f86.wav: \n",
      "Error processing coughvid_0f629beb-0401-415b-9069-67d89ecd1e78.wav: \n",
      "Error processing coughvid_0f740f8b-e028-4ec4-812f-9732babeffec.wav: \n"
     ]
    },
    {
     "name": "stderr",
     "output_type": "stream",
     "text": [
      " 81%|████████▏ | 1349/1659 [03:44<00:37,  8.18it/s]"
     ]
    },
    {
     "name": "stdout",
     "output_type": "stream",
     "text": [
      "Error processing coughvid_101d9d85-6e30-4512-ac16-c09ec80c274a.wav: \n"
     ]
    },
    {
     "name": "stderr",
     "output_type": "stream",
     "text": [
      " 82%|████████▏ | 1353/1659 [03:45<01:07,  4.54it/s]"
     ]
    },
    {
     "name": "stdout",
     "output_type": "stream",
     "text": [
      "Error processing coughvid_10e0a31f-bc7d-46ad-ac22-32f4cf230a38.wav: \n"
     ]
    },
    {
     "name": "stderr",
     "output_type": "stream",
     "text": [
      " 82%|████████▏ | 1359/1659 [03:46<01:46,  2.81it/s]"
     ]
    },
    {
     "name": "stdout",
     "output_type": "stream",
     "text": [
      "Error processing coughvid_11b17520-ab42-472b-99d9-047fad32b9ff.wav: \n"
     ]
    },
    {
     "name": "stderr",
     "output_type": "stream",
     "text": [
      " 82%|████████▏ | 1362/1659 [03:47<01:32,  3.23it/s]"
     ]
    },
    {
     "name": "stdout",
     "output_type": "stream",
     "text": [
      "Error processing d11337a3-b222-4ae1-9d54-7351977b5329.wav: \n"
     ]
    },
    {
     "name": "stderr",
     "output_type": "stream",
     "text": [
      " 82%|████████▏ | 1366/1659 [03:48<00:59,  4.93it/s]"
     ]
    },
    {
     "name": "stdout",
     "output_type": "stream",
     "text": [
      "Error processing d168dd12-e998-4a54-9610-136a8ea940a7.wav: \n"
     ]
    },
    {
     "name": "stderr",
     "output_type": "stream",
     "text": [
      " 83%|████████▎ | 1374/1659 [03:48<00:22, 12.64it/s]"
     ]
    },
    {
     "name": "stdout",
     "output_type": "stream",
     "text": [
      "Error processing d1cbb734-744c-46dc-a0f7-fb3e1f7d38bc.wav: \n",
      "Error processing d1cbd250-5bdd-4e4e-923c-6ff4e2619c67.wav: \n",
      "Error processing d1d368c6-391b-40a3-be84-1011e68fe1b0.wav: \n",
      "Error processing d1da3bfe-5742-4414-912c-f5ee88d5d922.wav: \n",
      "Error processing d1e2292d-eb38-4925-8036-b3502b911f85.wav: \n",
      "Error processing d2450ad5-fe14-4107-8e96-55cbce093be0.wav: \n",
      "Error processing d2b5f92f-bda8-4b14-8722-200aecb776d9.wav: \n",
      "Error processing d2c29f73-3c42-415c-91b6-9dfd113216b2.wav: \n"
     ]
    },
    {
     "name": "stderr",
     "output_type": "stream",
     "text": [
      " 83%|████████▎ | 1377/1659 [03:48<00:21, 13.10it/s]"
     ]
    },
    {
     "name": "stdout",
     "output_type": "stream",
     "text": [
      "Error processing d2d87eee-0e87-4faf-95bf-bb30f5ad49f0.wav: \n"
     ]
    },
    {
     "name": "stderr",
     "output_type": "stream",
     "text": [
      " 83%|████████▎ | 1380/1659 [03:49<00:41,  6.66it/s]"
     ]
    },
    {
     "name": "stdout",
     "output_type": "stream",
     "text": [
      "Error processing d3699f36-0e5b-4363-a540-695c9ba81365.wav: \n",
      "Error processing d3eda19b-74dd-4cc4-b5cb-79b2382bed84.wav: \n"
     ]
    },
    {
     "name": "stderr",
     "output_type": "stream",
     "text": [
      " 83%|████████▎ | 1385/1659 [03:50<00:45,  6.02it/s]"
     ]
    },
    {
     "name": "stdout",
     "output_type": "stream",
     "text": [
      "Error processing d4194a05-0e06-4a6c-8419-caedd839c6fd.wav: \n"
     ]
    },
    {
     "name": "stderr",
     "output_type": "stream",
     "text": [
      " 84%|████████▎ | 1387/1659 [03:51<00:41,  6.52it/s]"
     ]
    },
    {
     "name": "stdout",
     "output_type": "stream",
     "text": [
      "Error processing d459e0f5-d467-4694-a73c-36aaeba47a40.wav: \n",
      "Error processing d47f4d10-fe98-4de4-ab1f-cdc59d74721a.wav: \n",
      "Error processing d4c002e8-8bae-4e93-b1c4-904ac4c69174.wav: \n"
     ]
    },
    {
     "name": "stderr",
     "output_type": "stream",
     "text": [
      " 84%|████████▍ | 1394/1659 [03:51<00:32,  8.10it/s]"
     ]
    },
    {
     "name": "stdout",
     "output_type": "stream",
     "text": [
      "Error processing d53be4c6-fac3-4b18-93c7-8ee00ef67e4f.wav: \n",
      "Error processing d53c61dd-b0d1-42ec-adc2-d27194d3ca09.wav: \n"
     ]
    },
    {
     "name": "stderr",
     "output_type": "stream",
     "text": [
      " 84%|████████▍ | 1398/1659 [03:52<00:31,  8.23it/s]"
     ]
    },
    {
     "name": "stdout",
     "output_type": "stream",
     "text": [
      "Error processing d5ded6fb-212a-464f-a4c0-6cdf4b642fa3.wav: \n",
      "Error processing d626348a-4ffa-42a0-8f16-ceeb6dbdc7f8.wav: \n"
     ]
    },
    {
     "name": "stderr",
     "output_type": "stream",
     "text": [
      " 85%|████████▍ | 1403/1659 [03:52<00:22, 11.27it/s]"
     ]
    },
    {
     "name": "stdout",
     "output_type": "stream",
     "text": [
      "Error processing d63fcbb9-5e0e-4030-98e4-98e5eaa82619.wav: \n",
      "Error processing d6776221-ae3d-4ed7-b3a1-7e63ccf0f150.wav: \n",
      "Error processing d707eb14-8a64-478d-ab01-a61c134d0ae7.wav: \n",
      "Error processing d73873d0-3419-4fd6-a491-688483f09d6a.wav: \n",
      "Error processing d781eabc-e812-4383-857d-ddbcacd0f2e9.wav: \n"
     ]
    },
    {
     "name": "stderr",
     "output_type": "stream",
     "text": [
      " 85%|████████▍ | 1410/1659 [03:53<00:23, 10.67it/s]"
     ]
    },
    {
     "name": "stdout",
     "output_type": "stream",
     "text": [
      "Error processing d8095fdd-f417-4fe4-aa3c-369e63977f44.wav: \n",
      "Error processing d858b15a-2f0d-4f8e-acdb-126ef23ff746.wav: \n"
     ]
    },
    {
     "name": "stderr",
     "output_type": "stream",
     "text": [
      " 85%|████████▌ | 1412/1659 [03:53<00:30,  8.02it/s]"
     ]
    },
    {
     "name": "stdout",
     "output_type": "stream",
     "text": [
      "Error processing d908629d-649c-4121-b7b8-9e80e18a0e5f.wav: \n",
      "Error processing d90b99a8-16af-45fb-ac66-764679a766da.wav: \n"
     ]
    },
    {
     "name": "stderr",
     "output_type": "stream",
     "text": [
      " 85%|████████▌ | 1415/1659 [03:54<00:27,  8.83it/s]"
     ]
    },
    {
     "name": "stdout",
     "output_type": "stream",
     "text": [
      "Error processing d924a7be-dda7-4060-816a-7590dd5c9c9a.wav: \n",
      "Error processing d94e0cd9-5bd8-4ea1-a36b-ecd66cf84134.wav: \n"
     ]
    },
    {
     "name": "stderr",
     "output_type": "stream",
     "text": [
      " 86%|████████▌ | 1419/1659 [03:55<00:48,  4.99it/s]"
     ]
    },
    {
     "name": "stdout",
     "output_type": "stream",
     "text": [
      "Error processing d9abc58a-02eb-4517-be6d-11175376c990.wav: \n"
     ]
    },
    {
     "name": "stderr",
     "output_type": "stream",
     "text": [
      " 86%|████████▌ | 1422/1659 [03:55<00:48,  4.88it/s]"
     ]
    },
    {
     "name": "stdout",
     "output_type": "stream",
     "text": [
      "Error processing d9e2b597-579c-4437-908f-e77b8e3e189f.wav: \n"
     ]
    },
    {
     "name": "stderr",
     "output_type": "stream",
     "text": [
      " 86%|████████▌ | 1426/1659 [03:57<01:02,  3.74it/s]"
     ]
    },
    {
     "name": "stdout",
     "output_type": "stream",
     "text": [
      "Error processing dae40f43-71a3-46eb-91cb-b2412657b642.wav: \n"
     ]
    },
    {
     "name": "stderr",
     "output_type": "stream",
     "text": [
      " 86%|████████▌ | 1429/1659 [03:57<00:57,  3.97it/s]"
     ]
    },
    {
     "name": "stdout",
     "output_type": "stream",
     "text": [
      "Error processing dbbe9d85-c343-4f9e-9466-dd2c963c2a8d.wav: \n",
      "Error processing dbc6d838-25eb-47cd-9556-1b5c8f3818de.wav: \n"
     ]
    },
    {
     "name": "stderr",
     "output_type": "stream",
     "text": [
      " 86%|████████▋ | 1435/1659 [03:58<00:35,  6.39it/s]"
     ]
    },
    {
     "name": "stdout",
     "output_type": "stream",
     "text": [
      "Error processing dc19859c-7547-4498-9de6-9c3678c7bf10.wav: \n",
      "Error processing dc24352b-64a4-4d7c-a363-6a8ea887009b.wav: \n",
      "Error processing dc26cf65-e317-478b-9c46-558463ca65ac.wav: \n"
     ]
    },
    {
     "name": "stderr",
     "output_type": "stream",
     "text": [
      " 87%|████████▋ | 1436/1659 [03:59<00:57,  3.85it/s]"
     ]
    },
    {
     "name": "stdout",
     "output_type": "stream",
     "text": [
      "Error processing dc606c9e-3d20-405c-bda1-a1b892f68593.wav: \n"
     ]
    },
    {
     "name": "stderr",
     "output_type": "stream",
     "text": [
      " 87%|████████▋ | 1442/1659 [04:01<01:00,  3.59it/s]"
     ]
    },
    {
     "name": "stdout",
     "output_type": "stream",
     "text": [
      "Error processing dda674af-7aeb-4fde-8242-8f1912858a5b.wav: \n"
     ]
    },
    {
     "name": "stderr",
     "output_type": "stream",
     "text": [
      " 87%|████████▋ | 1445/1659 [04:01<00:45,  4.65it/s]"
     ]
    },
    {
     "name": "stdout",
     "output_type": "stream",
     "text": [
      "Error processing ddec079c-e2c0-4398-a14d-d38cbc691104.wav: \n",
      "Error processing ddf09d4e-f2a7-4f5b-a72b-7ca0d310d577.wav: \n",
      "Error processing de1a7d84-0085-4fe0-9e73-82f8f6b3bbb7.wav: \n"
     ]
    },
    {
     "name": "stderr",
     "output_type": "stream",
     "text": [
      " 87%|████████▋ | 1450/1659 [04:02<00:31,  6.62it/s]"
     ]
    },
    {
     "name": "stdout",
     "output_type": "stream",
     "text": [
      "Error processing de4d2c38-3277-4cf2-8ae3-453669bde3cb.wav: \n"
     ]
    },
    {
     "name": "stderr",
     "output_type": "stream",
     "text": [
      " 87%|████████▋ | 1451/1659 [04:02<00:30,  6.89it/s]"
     ]
    },
    {
     "name": "stdout",
     "output_type": "stream",
     "text": [
      "Error processing deaf5071-cbb4-44d7-92d2-8620df58750e.wav: \n",
      "Error processing deba8a25-c4a6-469d-a4ba-00981b53ccf5.wav: \n",
      "Error processing df033787-6054-4f57-ab32-686e515213ea.wav: \n"
     ]
    },
    {
     "name": "stderr",
     "output_type": "stream",
     "text": [
      " 88%|████████▊ | 1455/1659 [04:02<00:23,  8.77it/s]"
     ]
    },
    {
     "name": "stdout",
     "output_type": "stream",
     "text": [
      "Error processing df785564-f625-4bb1-9c4f-166e90f626b5.wav: \n",
      "Error processing df8ce32f-1818-4f86-9246-090b2f127f0d.wav: \n"
     ]
    },
    {
     "name": "stderr",
     "output_type": "stream",
     "text": [
      " 88%|████████▊ | 1458/1659 [04:02<00:21,  9.53it/s]"
     ]
    },
    {
     "name": "stdout",
     "output_type": "stream",
     "text": [
      "Error processing dfde77ac-0c9f-414f-a5eb-91a1b4aa285a.wav: \n",
      "Error processing dfe8a19c-d7aa-4875-a38e-dc2315f44e84.wav: \n",
      "Error processing e0047ff0-5a63-4e00-b5bb-0ed401c25aeb.wav: \n",
      "Error processing e01a74f3-213b-429b-8db9-c762e84799fe.wav: \n",
      "Error processing e03213d8-ebd0-42fe-bf9c-37b1a901bdce.wav: \n"
     ]
    },
    {
     "name": "stderr",
     "output_type": "stream",
     "text": [
      " 88%|████████▊ | 1468/1659 [04:03<00:16, 11.25it/s]"
     ]
    },
    {
     "name": "stdout",
     "output_type": "stream",
     "text": [
      "Error processing e0ddeaf8-5496-48a7-b7bc-c9e6bf8edfdc.wav: \n",
      "Error processing e1062226-f13a-4dcd-9144-344e44a59cfa.wav: \n"
     ]
    },
    {
     "name": "stderr",
     "output_type": "stream",
     "text": [
      " 89%|████████▉ | 1476/1659 [04:05<00:36,  4.95it/s]"
     ]
    },
    {
     "name": "stdout",
     "output_type": "stream",
     "text": [
      "Error processing e1b20305-7189-4804-b381-33068d79170e.wav: \n",
      "Error processing e203bb87-b469-4666-8153-3d94c23ccb42.wav: \n"
     ]
    },
    {
     "name": "stderr",
     "output_type": "stream",
     "text": [
      " 89%|████████▉ | 1479/1659 [04:06<00:26,  6.70it/s]"
     ]
    },
    {
     "name": "stdout",
     "output_type": "stream",
     "text": [
      "Error processing e2211df8-5208-4079-a363-9d04df741dac.wav: \n",
      "Error processing e26d6366-f0c8-4ea2-8dbc-0d2f97ce9145.wav: \n",
      "Error processing e2ac657b-31a1-4925-9aa5-40f7e38a00ec.wav: \n"
     ]
    },
    {
     "name": "stderr",
     "output_type": "stream",
     "text": [
      " 90%|████████▉ | 1487/1659 [04:06<00:18,  9.38it/s]"
     ]
    },
    {
     "name": "stdout",
     "output_type": "stream",
     "text": [
      "Error processing e31295aa-59a2-4df0-a44c-d563beb34582.wav: \n",
      "Error processing e31e0d77-8ee9-4c77-aac1-f2986332d165.wav: \n",
      "Error processing e361f56b-313e-40af-a1f6-885af6b3047f.wav: \n",
      "Error processing e3817dd2-6d7e-4299-83e2-100b9284404e.wav: \n",
      "Error processing e3c4b08f-48f3-42f6-994f-6e4ba3d254d6.wav: \n"
     ]
    },
    {
     "name": "stderr",
     "output_type": "stream",
     "text": [
      " 90%|████████▉ | 1491/1659 [04:07<00:16, 10.29it/s]"
     ]
    },
    {
     "name": "stdout",
     "output_type": "stream",
     "text": [
      "Error processing e447fb5d-624a-43a8-b5bc-858797dbaf11.wav: \n",
      "Error processing e494609e-bf6a-4bb1-aa9f-1e2b79aa2132.wav: \n",
      "Error processing e49d1565-022e-4891-ae23-00a5c0b32103.wav: \n",
      "Error processing e5082de4-8316-462b-96c0-beae0dcfc1d1.wav: \n"
     ]
    },
    {
     "name": "stderr",
     "output_type": "stream",
     "text": [
      " 91%|█████████ | 1502/1659 [04:07<00:08, 19.10it/s]"
     ]
    },
    {
     "name": "stdout",
     "output_type": "stream",
     "text": [
      "Error processing e52a6417-bf2f-4962-b6ff-fe42ee9edfb1.wav: \n",
      "Error processing e543cc89-2385-4158-b2f0-6976b9531173.wav: \n",
      "Error processing e57e28a3-fc64-4e77-8a75-eae982cab53c.wav: \n",
      "Error processing e58245cf-30f8-41de-bea8-4487eaadc26d.wav: \n",
      "Error processing e5ac83d3-4e92-4b41-8a25-668926dd52d3.wav: \n",
      "Error processing e62090ef-6c61-4454-9ede-35ee1350fb4b.wav: \n"
     ]
    },
    {
     "name": "stderr",
     "output_type": "stream",
     "text": [
      " 91%|█████████ | 1505/1659 [04:08<00:11, 13.31it/s]"
     ]
    },
    {
     "name": "stdout",
     "output_type": "stream",
     "text": [
      "Error processing e6524adf-ae92-48be-abc1-fe237de090bf.wav: \n",
      "Error processing e6a91374-450e-4779-b6c3-1ad7898e0a3e.wav: \n"
     ]
    },
    {
     "name": "stderr",
     "output_type": "stream",
     "text": [
      " 91%|█████████ | 1508/1659 [04:08<00:15, 10.05it/s]"
     ]
    },
    {
     "name": "stdout",
     "output_type": "stream",
     "text": [
      "Error processing e707807b-b4f2-4269-befd-132d198eacf4.wav: \n",
      "Error processing e70efea1-b393-4670-a625-8d06e4361ae2.wav: \n",
      "Error processing e730678a-3b2e-4d0e-a15e-0e3015e89ffa.wav: \n"
     ]
    },
    {
     "name": "stderr",
     "output_type": "stream",
     "text": [
      " 91%|█████████ | 1512/1659 [04:08<00:12, 11.59it/s]"
     ]
    },
    {
     "name": "stdout",
     "output_type": "stream",
     "text": [
      "Error processing e7878b50-5162-4f53-bddf-037e3a0a836b.wav: \n",
      "Error processing e798f56a-95ff-4731-9a83-6d2fc6657a74.wav: \n"
     ]
    },
    {
     "name": "stderr",
     "output_type": "stream",
     "text": [
      " 91%|█████████▏| 1515/1659 [04:09<00:12, 11.33it/s]"
     ]
    },
    {
     "name": "stdout",
     "output_type": "stream",
     "text": [
      "Error processing e7b0d36a-dce0-44f9-bc39-271a32bfdd91.wav: \n"
     ]
    },
    {
     "name": "stderr",
     "output_type": "stream",
     "text": [
      " 92%|█████████▏| 1525/1659 [04:10<00:15,  8.48it/s]"
     ]
    },
    {
     "name": "stdout",
     "output_type": "stream",
     "text": [
      "Error processing e91d4450-87fc-4898-8506-348c25292cec.wav: \n",
      "Error processing e95112be-ac7b-4444-9911-680db3c4ce6d.wav: \n"
     ]
    },
    {
     "name": "stderr",
     "output_type": "stream",
     "text": [
      " 92%|█████████▏| 1527/1659 [04:11<00:20,  6.56it/s]"
     ]
    },
    {
     "name": "stdout",
     "output_type": "stream",
     "text": [
      "Error processing eac6c3f6-fa0a-4e91-89b0-197830d3b8d4.wav: \n",
      "Error processing ead9ad04-7d13-4f5e-86ad-78dfaa17084c.wav: \n",
      "Error processing eae2ef9f-51e0-4030-8c8b-9e4b7454382e.wav: \n"
     ]
    },
    {
     "name": "stderr",
     "output_type": "stream",
     "text": [
      " 92%|█████████▏| 1531/1659 [04:11<00:15,  8.29it/s]"
     ]
    },
    {
     "name": "stdout",
     "output_type": "stream",
     "text": [
      "Error processing eba21dcc-85d1-4ac5-9e90-e8633b7b5866.wav: \n"
     ]
    },
    {
     "name": "stderr",
     "output_type": "stream",
     "text": [
      " 93%|█████████▎| 1542/1659 [04:12<00:09, 12.92it/s]"
     ]
    },
    {
     "name": "stdout",
     "output_type": "stream",
     "text": [
      "Error processing ec46f91f-da46-4ddb-b309-b37ff6d95986.wav: \n",
      "Error processing ec82f9dd-ad2a-407d-88ee-2596292d8f67.wav: \n",
      "Error processing ec8929f7-abfa-4c9f-b915-27c87e49fda3.wav: \n",
      "Error processing ecb239a5-5193-42bd-b2e2-350a37ef23de.wav: \n",
      "Error processing ecfe9175-a51f-44d2-8ecf-639a46e3aa70.wav: \n",
      "Error processing edb4f7c1-ca78-4342-bb7f-88998acb861e.wav: \n",
      "Error processing ede6a3d1-902f-4345-9c19-d18376d31454.wav: \n",
      "Error processing ee056594-fe80-4159-b7e3-43f1b1ae4097.wav: \n"
     ]
    },
    {
     "name": "stderr",
     "output_type": "stream",
     "text": [
      " 93%|█████████▎| 1549/1659 [04:13<00:10, 10.72it/s]"
     ]
    },
    {
     "name": "stdout",
     "output_type": "stream",
     "text": [
      "Error processing ee538a20-40b2-4681-824a-bb8c292c79f0.wav: \n",
      "Error processing ee980d9c-1ff9-49ea-9fb8-b5192cfeabcc.wav: \n",
      "Error processing eeb388c1-e973-4cb3-8e2e-54255fa9c2a8.wav: \n",
      "Error processing eef2294a-2f8d-4783-9f78-cb617046ca63.wav: \n"
     ]
    },
    {
     "name": "stderr",
     "output_type": "stream",
     "text": [
      " 94%|█████████▎| 1554/1659 [04:13<00:09, 10.98it/s]"
     ]
    },
    {
     "name": "stdout",
     "output_type": "stream",
     "text": [
      "Error processing ef1cb60e-c0f3-42b9-a231-f340c530e8ea.wav: \n",
      "Error processing ef62b82c-9480-48d3-87f7-8bab317c9bcf.wav: \n"
     ]
    },
    {
     "name": "stderr",
     "output_type": "stream",
     "text": [
      " 94%|█████████▍| 1556/1659 [04:14<00:09, 10.78it/s]"
     ]
    },
    {
     "name": "stdout",
     "output_type": "stream",
     "text": [
      "Error processing efb3ed40-f742-4113-b63c-09ddaed3c99a.wav: \n"
     ]
    },
    {
     "name": "stderr",
     "output_type": "stream",
     "text": [
      " 94%|█████████▍| 1558/1659 [04:14<00:11,  8.50it/s]"
     ]
    },
    {
     "name": "stdout",
     "output_type": "stream",
     "text": [
      "Error processing f01eef94-8907-4be6-945f-6cbd18e5a7b9.wav: \n"
     ]
    },
    {
     "name": "stderr",
     "output_type": "stream",
     "text": [
      " 94%|█████████▍| 1560/1659 [04:14<00:14,  6.96it/s]"
     ]
    },
    {
     "name": "stdout",
     "output_type": "stream",
     "text": [
      "Error processing f084b959-23fc-4887-af5d-c50b4ed85337.wav: \n",
      "Error processing f1a8c8ac-ed30-4535-badf-1cb702a21f7e.wav: \n",
      "Error processing f1b6d7f3-bc50-4ed7-b470-20108b81d417.wav: \n"
     ]
    },
    {
     "name": "stderr",
     "output_type": "stream",
     "text": [
      " 95%|█████████▍| 1569/1659 [04:16<00:17,  5.19it/s]"
     ]
    },
    {
     "name": "stdout",
     "output_type": "stream",
     "text": [
      "Error processing f324406a-b642-44ca-b547-896b6bd1ce90.wav: \n",
      "Error processing f3a94f15-0b7b-404d-b16c-e80592f63b4f.wav: \n",
      "Error processing f3b86f2a-3162-4726-b11d-a74b566e2124.wav: \n"
     ]
    },
    {
     "name": "stderr",
     "output_type": "stream",
     "text": [
      " 95%|█████████▍| 1575/1659 [04:17<00:15,  5.43it/s]"
     ]
    },
    {
     "name": "stdout",
     "output_type": "stream",
     "text": [
      "Error processing f3e16a8d-a7e9-4a35-9763-7439b6a215e7.wav: \n",
      "Error processing f3e25563-1d8d-4569-a128-7453e65fe90c.wav: \n"
     ]
    },
    {
     "name": "stderr",
     "output_type": "stream",
     "text": [
      " 95%|█████████▌| 1581/1659 [04:18<00:11,  6.56it/s]"
     ]
    },
    {
     "name": "stdout",
     "output_type": "stream",
     "text": [
      "Error processing f48862b4-21c2-4b6d-ae62-7f1ca39b0291.wav: \n"
     ]
    },
    {
     "name": "stderr",
     "output_type": "stream",
     "text": [
      " 95%|█████████▌| 1584/1659 [04:18<00:11,  6.30it/s]"
     ]
    },
    {
     "name": "stdout",
     "output_type": "stream",
     "text": [
      "Error processing f4d7b38f-58ec-4578-a75f-e7aaedb7e0a2.wav: \n"
     ]
    },
    {
     "name": "stderr",
     "output_type": "stream",
     "text": [
      " 96%|█████████▌| 1588/1659 [04:18<00:08,  8.10it/s]"
     ]
    },
    {
     "name": "stdout",
     "output_type": "stream",
     "text": [
      "Error processing f510e2f0-ecc8-475d-96aa-881f5cb4c0da.wav: \n",
      "Error processing f52e59f1-cde7-4ef2-b578-f581b571824b.wav: \n",
      "Error processing f535ab06-c4dd-4ce5-8dc4-7cbae23dcd0b.wav: \n",
      "Error processing f54c5137-eecb-44ff-b0b4-67ecdf1a3846.wav: \n",
      "Error processing f57f24dd-6f9b-4eff-8843-9a47564ad525.wav: \n"
     ]
    },
    {
     "name": "stderr",
     "output_type": "stream",
     "text": [
      " 96%|█████████▌| 1593/1659 [04:19<00:05, 12.08it/s]"
     ]
    },
    {
     "name": "stdout",
     "output_type": "stream",
     "text": [
      "Error processing f5add6f1-203f-4d35-af70-ee84ad4f1fb6.wav: \n",
      "Error processing f5d149e1-913c-41a0-be33-2785e4baf977.wav: \n"
     ]
    },
    {
     "name": "stderr",
     "output_type": "stream",
     "text": [
      " 96%|█████████▋| 1598/1659 [04:19<00:05, 12.06it/s]"
     ]
    },
    {
     "name": "stdout",
     "output_type": "stream",
     "text": [
      "Error processing f5f641a4-9a38-41d1-869a-7c425756b66f.wav: \n",
      "Error processing f612d1f0-e1db-4d50-bb22-d2371983c612.wav: \n"
     ]
    },
    {
     "name": "stderr",
     "output_type": "stream",
     "text": [
      " 97%|█████████▋| 1602/1659 [04:20<00:05, 10.53it/s]"
     ]
    },
    {
     "name": "stdout",
     "output_type": "stream",
     "text": [
      "Error processing f6309f89-3bf0-467f-b93b-0f47b75f4995.wav: \n",
      "Error processing f651fb64-60c3-4a8e-ac33-c4fc33253c47.wav: \n",
      "Error processing f67c9dfc-0c76-4ef2-893b-2155a052bb7d.wav: \n"
     ]
    },
    {
     "name": "stderr",
     "output_type": "stream",
     "text": [
      " 97%|█████████▋| 1605/1659 [04:20<00:05, 10.19it/s]"
     ]
    },
    {
     "name": "stdout",
     "output_type": "stream",
     "text": [
      "Error processing f6c7f7b6-8cc9-4cd1-a53d-0848e0169104.wav: \n",
      "Error processing f6e4abf1-0338-4678-8b33-666e072e321a.wav: \n",
      "Error processing f72d158f-7ac9-46a4-8f6a-ce11ea3e182f.wav: \n",
      "Error processing f7370038-3bff-4dcc-af92-cae8910387fa.wav: \n",
      "Error processing f74d0c3c-1303-4b5d-bc28-1206afdf982c.wav: \n",
      "Error processing f77023b2-b2c3-42dd-9389-69cd24fef9ea.wav: \n"
     ]
    },
    {
     "name": "stderr",
     "output_type": "stream",
     "text": [
      " 97%|█████████▋| 1614/1659 [04:21<00:06,  7.43it/s]"
     ]
    },
    {
     "name": "stdout",
     "output_type": "stream",
     "text": [
      "Error processing f9259f42-843f-4561-b72d-f18d41eab14d.wav: \n"
     ]
    },
    {
     "name": "stderr",
     "output_type": "stream",
     "text": [
      " 97%|█████████▋| 1615/1659 [04:21<00:06,  6.32it/s]"
     ]
    },
    {
     "name": "stdout",
     "output_type": "stream",
     "text": [
      "Error processing f9542d4f-b590-4152-b48c-5926a4e31cda.wav: \n"
     ]
    },
    {
     "name": "stderr",
     "output_type": "stream",
     "text": [
      " 97%|█████████▋| 1617/1659 [04:22<00:06,  6.36it/s]"
     ]
    },
    {
     "name": "stdout",
     "output_type": "stream",
     "text": [
      "Error processing fa04b524-a83b-40ba-be56-d6075f33f167.wav: \n"
     ]
    },
    {
     "name": "stderr",
     "output_type": "stream",
     "text": [
      " 98%|█████████▊| 1620/1659 [04:22<00:06,  5.78it/s]"
     ]
    },
    {
     "name": "stdout",
     "output_type": "stream",
     "text": [
      "Error processing fa518788-bb6e-45c2-8dc1-7440a9e2dc70.wav: \n"
     ]
    },
    {
     "name": "stderr",
     "output_type": "stream",
     "text": [
      " 98%|█████████▊| 1622/1659 [04:23<00:06,  5.72it/s]"
     ]
    },
    {
     "name": "stdout",
     "output_type": "stream",
     "text": [
      "Error processing fa977b70-68b8-40af-9686-41fd7ab5802c.wav: \n",
      "Error processing fab28d05-a27c-4cde-b637-acdce5bfeb17.wav: \n"
     ]
    },
    {
     "name": "stderr",
     "output_type": "stream",
     "text": [
      " 98%|█████████▊| 1628/1659 [04:24<00:06,  5.14it/s]"
     ]
    },
    {
     "name": "stdout",
     "output_type": "stream",
     "text": [
      "Error processing fae20358-10f6-46ac-b749-e985b36ff42e.wav: \n",
      "Error processing fae754f2-3bf1-4270-a471-ca575bded59a.wav: \n"
     ]
    },
    {
     "name": "stderr",
     "output_type": "stream",
     "text": [
      " 98%|█████████▊| 1633/1659 [04:25<00:04,  5.69it/s]"
     ]
    },
    {
     "name": "stdout",
     "output_type": "stream",
     "text": [
      "Error processing fb5ac841-cc79-464d-be19-e1583a350c4c.wav: \n"
     ]
    },
    {
     "name": "stderr",
     "output_type": "stream",
     "text": [
      " 98%|█████████▊| 1634/1659 [04:25<00:05,  4.77it/s]"
     ]
    },
    {
     "name": "stdout",
     "output_type": "stream",
     "text": [
      "Error processing fbc95caa-e9b8-48ba-9a71-62c014da5c5c.wav: \n"
     ]
    },
    {
     "name": "stderr",
     "output_type": "stream",
     "text": [
      " 99%|█████████▊| 1638/1659 [04:26<00:04,  4.95it/s]"
     ]
    },
    {
     "name": "stdout",
     "output_type": "stream",
     "text": [
      "Error processing fd80ff54-c72e-46a1-ba51-7e600eeb43e9.wav: \n",
      "Error processing fd8545e0-5f6a-42b2-8e9e-a200cf2ade1c.wav: \n",
      "Error processing fdb19d89-235d-4484-ac59-c094d82224ff.wav: \n"
     ]
    },
    {
     "name": "stderr",
     "output_type": "stream",
     "text": [
      " 99%|█████████▉| 1646/1659 [04:28<00:02,  4.90it/s]"
     ]
    },
    {
     "name": "stdout",
     "output_type": "stream",
     "text": [
      "Error processing fe24978d-9f13-4492-ad27-b9f8d5da0e3c.wav: \n",
      "Error processing fe774436-b851-46f1-9cc4-2c0dfd5eb43c.wav: \n",
      "Error processing fe8adc4d-30bf-42d8-aef4-d9e3fa2efada.wav: \n"
     ]
    },
    {
     "name": "stderr",
     "output_type": "stream",
     "text": [
      " 99%|█████████▉| 1650/1659 [04:28<00:01,  7.59it/s]"
     ]
    },
    {
     "name": "stdout",
     "output_type": "stream",
     "text": [
      "Error processing fef36b2b-6313-4ce7-9e3c-c8b937a8c482.wav: \n",
      "Error processing ff00a576-4315-4366-84cf-5e4e108ed7da.wav: \n",
      "Error processing ff0d22e6-f14c-42cd-af1c-3963fc20124b.wav: \n",
      "Error processing ff7c39ee-30c1-46cc-a4d8-f90acb7279e4.wav: \n",
      "Error processing ff8d2339-0fd8-4edc-968a-93a26c7dd4ff.wav: \n"
     ]
    },
    {
     "name": "stderr",
     "output_type": "stream",
     "text": [
      "100%|██████████| 1659/1659 [04:29<00:00,  6.17it/s]"
     ]
    },
    {
     "name": "stdout",
     "output_type": "stream",
     "text": [
      "Error processing ffa8b60c-9bd2-4f4e-b72d-1cb5082ef7ad.wav: \n",
      "Error processing fffd1834-6cf2-4782-bb30-04c31b46a1fe.wav: \n"
     ]
    },
    {
     "name": "stderr",
     "output_type": "stream",
     "text": [
      "\n"
     ]
    }
   ],
   "source": [
    "import os\n",
    "import librosa\n",
    "import librosa.display\n",
    "import matplotlib.pyplot as plt\n",
    "import numpy as np\n",
    "from pathlib import Path\n",
    "from tqdm import tqdm\n",
    "# Set your input and output folders\n",
    "from pathlib import Path\n",
    "\n",
    "input_folder = Path(r\"F:\\Research_Project_CMP9140\\lung-cancer-cough-classification\\data\\raw\\healthy2\")\n",
    "output_folder = Path(r\"F:\\Research_Project_CMP9140\\lung-cancer-cough-classification\\data\\Processed\\healthy\")\n",
    "\n",
    "output_folder.mkdir(parents=True, exist_ok=True)\n",
    "\n",
    "print(f\"Input Folder: {input_folder.resolve()}\")\n",
    "print(f\"Output Folder: {output_folder.resolve()}\") \n",
    "\n",
    "def audio_to_mel_spectrogram(audio_path, output_path, sample_rate=22050):\n",
    "    try:\n",
    "        # Load audio\n",
    "        y, sr = librosa.load(audio_path, sr=sample_rate)\n",
    "        \n",
    "        # Trim silence\n",
    "        y, _ = librosa.effects.trim(y)\n",
    "\n",
    "        # Generate Mel spectrogram\n",
    "        S = librosa.feature.melspectrogram(y, sr=sr, n_mels=128)\n",
    "        S_dB = librosa.power_to_db(S, ref=np.max)\n",
    "\n",
    "        # Save as image\n",
    "        plt.figure(figsize=(2.56, 2.56), dpi=100)  # 256x256\n",
    "        plt.axis('off')\n",
    "        librosa.display.specshow(S_dB, sr=sr, cmap='inferno')\n",
    "        plt.savefig(output_path, bbox_inches='tight', pad_inches=0)\n",
    "        plt.close()\n",
    "        \n",
    "        return True\n",
    "    except Exception as e:\n",
    "        print(f\"Error processing {audio_path.name}: {e}\")\n",
    "        return False\n",
    "def audio_to_mel_spectrogram(audio_path, output_path, sample_rate=22050):\n",
    "    try:\n",
    "        y, sr = librosa.load(audio_path, sr=sample_rate)\n",
    "        y, _ = librosa.effects.trim(y)\n",
    "\n",
    "        # ✅ Fixed: correct function call for older librosa\n",
    "        S = librosa.feature.melspectrogram(y=y, sr=sr, n_mels=128)\n",
    "        S_dB = librosa.power_to_db(S, ref=np.max)\n",
    "\n",
    "        plt.figure(figsize=(2.56, 2.56), dpi=100)\n",
    "        plt.axis('off')\n",
    "        librosa.display.specshow(S_dB, sr=sr, cmap='inferno')\n",
    "        plt.savefig(output_path, bbox_inches='tight', pad_inches=0)\n",
    "        plt.close()\n",
    "\n",
    "        return True\n",
    "    except Exception as e:\n",
    "        print(f\"Error processing {audio_path.name}: {e}\")\n",
    "        return False\n",
    "# Get all .wav files from the input folder\n",
    "wav_files = list(input_folder.glob(\"*.wav\"))\n",
    "print(f\"Found {len(wav_files)} files to process.\")\n",
    "\n",
    "# Process each file\n",
    "for audio_file in tqdm(wav_files):\n",
    "    image_filename = output_folder / (audio_file.stem + \".png\")\n",
    "    audio_to_mel_spectrogram(audio_file, image_filename)\n"
   ]
  },
  {
   "cell_type": "code",
   "execution_count": 1,
   "id": "c23fcc97",
   "metadata": {},
   "outputs": [
    {
     "ename": "NameError",
     "evalue": "name 'input_folder' is not defined",
     "output_type": "error",
     "traceback": [
      "\u001b[1;31m---------------------------------------------------------------------------\u001b[0m",
      "\u001b[1;31mNameError\u001b[0m                                 Traceback (most recent call last)",
      "Cell \u001b[1;32mIn[1], line 4\u001b[0m\n\u001b[0;32m      1\u001b[0m \u001b[38;5;28;01mfrom\u001b[39;00m \u001b[38;5;21;01mtime\u001b[39;00m \u001b[38;5;28;01mimport\u001b[39;00m time\n\u001b[0;32m      3\u001b[0m \u001b[38;5;66;03m# Get all .wav files again (re-using earlier list is also fine)\u001b[39;00m\n\u001b[1;32m----> 4\u001b[0m wav_files \u001b[38;5;241m=\u001b[39m \u001b[38;5;28mlist\u001b[39m(input_folder\u001b[38;5;241m.\u001b[39mglob(\u001b[38;5;124m\"\u001b[39m\u001b[38;5;124m*.wav\u001b[39m\u001b[38;5;124m\"\u001b[39m))\n\u001b[0;32m      5\u001b[0m \u001b[38;5;28mprint\u001b[39m(\u001b[38;5;124mf\u001b[39m\u001b[38;5;124m\"\u001b[39m\u001b[38;5;124mFound \u001b[39m\u001b[38;5;132;01m{\u001b[39;00m\u001b[38;5;28mlen\u001b[39m(wav_files)\u001b[38;5;132;01m}\u001b[39;00m\u001b[38;5;124m files to process.\u001b[39m\u001b[38;5;124m\"\u001b[39m)\n\u001b[0;32m      7\u001b[0m \u001b[38;5;66;03m# Process with better logging\u001b[39;00m\n",
      "\u001b[1;31mNameError\u001b[0m: name 'input_folder' is not defined"
     ]
    }
   ],
   "source": [
    "from time import time\n",
    "\n",
    "# Get all .wav files again (re-using earlier list is also fine)\n",
    "wav_files = list(input_folder.glob(\"*.wav\"))\n",
    "print(f\"Found {len(wav_files)} files to process.\")\n",
    "\n",
    "# Process with better logging\n",
    "for i, audio_file in enumerate(tqdm(wav_files)):\n",
    "    start_time = time()\n",
    "    image_filename = output_folder / (audio_file.stem + \".png\")\n",
    "    \n",
    "    if not image_filename.exists():  # Avoid reprocessing\n",
    "        success = audio_to_mel_spectrogram(audio_file, image_filename)\n",
    "        elapsed = time() - start_time\n",
    "        \n",
    "        if not success:\n",
    "            print(f\"❌ Failed: {audio_file.name}\")\n",
    "        else:\n",
    "            print(f\"✅ Processed {i+1}/{len(wav_files)}: {audio_file.name} in {elapsed:.2f}s\")\n"
   ]
  },
  {
   "cell_type": "code",
   "execution_count": 2,
   "id": "99d036b0",
   "metadata": {},
   "outputs": [
    {
     "name": "stdout",
     "output_type": "stream",
     "text": [
      "Input Folder: F:\\Research_Project_CMP9140\\lung-cancer-cough-classification\\data\\raw\\healthy2\n",
      "Output Folder: F:\\Research_Project_CMP9140\\lung-cancer-cough-classification\\data\\Processed\\healthy\n",
      "Found 1659 files to process.\n"
     ]
    },
    {
     "name": "stderr",
     "output_type": "stream",
     "text": [
      "  0%|          | 0/1659 [00:00<?, ?it/s]d:\\Python\\Lib\\site-packages\\paramiko\\pkey.py:82: CryptographyDeprecationWarning: TripleDES has been moved to cryptography.hazmat.decrepit.ciphers.algorithms.TripleDES and will be removed from this module in 48.0.0.\n",
      "  \"cipher\": algorithms.TripleDES,\n",
      "d:\\Python\\Lib\\site-packages\\paramiko\\transport.py:219: CryptographyDeprecationWarning: Blowfish has been moved to cryptography.hazmat.decrepit.ciphers.algorithms.Blowfish and will be removed from this module in 45.0.0.\n",
      "  \"class\": algorithms.Blowfish,\n",
      "d:\\Python\\Lib\\site-packages\\paramiko\\transport.py:243: CryptographyDeprecationWarning: TripleDES has been moved to cryptography.hazmat.decrepit.ciphers.algorithms.TripleDES and will be removed from this module in 48.0.0.\n",
      "  \"class\": algorithms.TripleDES,\n",
      "C:\\Users\\HP\\AppData\\Local\\Temp\\ipykernel_28200\\789638841.py:22: UserWarning: PySoundFile failed. Trying audioread instead.\n",
      "  y, sr = librosa.load(audio_path, sr=sample_rate)\n",
      "d:\\Python\\Lib\\site-packages\\librosa\\core\\audio.py:184: FutureWarning: librosa.core.audio.__audioread_load\n",
      "\tDeprecated as of librosa version 0.10.0.\n",
      "\tIt will be removed in librosa version 1.0.\n",
      "  y, sr_native = __audioread_load(path, offset, duration, dtype)\n",
      "  6%|▋         | 106/1659 [00:03<00:39, 39.19it/s]"
     ]
    },
    {
     "name": "stdout",
     "output_type": "stream",
     "text": [
      "Error processing 00098cdb-4da1-4aa7-825a-4f1b9abc214b.wav: \n",
      "❌ Failed: 00098cdb-4da1-4aa7-825a-4f1b9abc214b.wav\n",
      "Error processing 007089d2-ed48-4464-b981-66fc66a6c121.wav: \n",
      "❌ Failed: 007089d2-ed48-4464-b981-66fc66a6c121.wav\n",
      "Error processing 00bca802-462d-403c-956d-5c92f3f886c3.wav: \n",
      "❌ Failed: 00bca802-462d-403c-956d-5c92f3f886c3.wav\n",
      "Error processing 00eb562b-7e14-4981-8521-0194253470f0.wav: \n",
      "❌ Failed: 00eb562b-7e14-4981-8521-0194253470f0.wav\n",
      "Error processing 00eeef06-9ab0-45d8-8ddf-5fbc54b96dec.wav: \n",
      "❌ Failed: 00eeef06-9ab0-45d8-8ddf-5fbc54b96dec.wav\n",
      "Error processing 00f41aaf-b05b-4594-8769-fed636fad323.wav: \n",
      "❌ Failed: 00f41aaf-b05b-4594-8769-fed636fad323.wav\n",
      "Error processing 00f461f5-d121-4254-8d8b-6111e523c5ae.wav: \n",
      "❌ Failed: 00f461f5-d121-4254-8d8b-6111e523c5ae.wav\n",
      "Error processing 016173c7-5890-49e2-891f-3ef460cda5f8.wav: \n",
      "❌ Failed: 016173c7-5890-49e2-891f-3ef460cda5f8.wav\n",
      "Error processing 01861986-a00a-44ec-a397-5b5cf7cb66af.wav: \n",
      "❌ Failed: 01861986-a00a-44ec-a397-5b5cf7cb66af.wav\n",
      "Error processing 01887051-1e3a-4287-85bc-0f2633740667.wav: \n",
      "❌ Failed: 01887051-1e3a-4287-85bc-0f2633740667.wav\n",
      "Error processing 01c1c8d7-611c-4a28-b48a-8f0ce3506e49.wav: \n",
      "❌ Failed: 01c1c8d7-611c-4a28-b48a-8f0ce3506e49.wav\n",
      "Error processing 01f22bba-9d34-451f-868a-dacd249ccd71.wav: \n",
      "❌ Failed: 01f22bba-9d34-451f-868a-dacd249ccd71.wav\n",
      "Error processing 020eab56-1312-4f66-9f96-0bafdcac2be4.wav: \n",
      "❌ Failed: 020eab56-1312-4f66-9f96-0bafdcac2be4.wav\n",
      "Error processing 0225680c-9b5b-4d47-9add-d5cb8bf42337.wav: \n",
      "❌ Failed: 0225680c-9b5b-4d47-9add-d5cb8bf42337.wav\n",
      "Error processing 02335034-6397-4cb3-9f05-04398651c749.wav: \n",
      "❌ Failed: 02335034-6397-4cb3-9f05-04398651c749.wav\n",
      "Error processing 026967ef-d1a3-4fc5-a752-e0259d3c92a1.wav: \n",
      "❌ Failed: 026967ef-d1a3-4fc5-a752-e0259d3c92a1.wav\n",
      "Error processing 028ec384-8216-492a-9c16-ba00367b6e3e.wav: \n",
      "❌ Failed: 028ec384-8216-492a-9c16-ba00367b6e3e.wav\n",
      "Error processing 02ea54d1-9935-4404-80b5-9841dc5f7e00.wav: \n",
      "❌ Failed: 02ea54d1-9935-4404-80b5-9841dc5f7e00.wav\n",
      "Error processing 02f276e7-f935-4154-aa17-39fd7166e929.wav: \n",
      "❌ Failed: 02f276e7-f935-4154-aa17-39fd7166e929.wav\n",
      "Error processing 033010fd-2c99-46b6-9198-6ff053d88c12.wav: \n",
      "❌ Failed: 033010fd-2c99-46b6-9198-6ff053d88c12.wav\n",
      "Error processing 045404f5-fd32-49e9-b48f-d0cd6569fd4b.wav: \n",
      "❌ Failed: 045404f5-fd32-49e9-b48f-d0cd6569fd4b.wav\n",
      "Error processing 04a60f2a-e4bc-4dd9-bd75-8598de152d45.wav: \n",
      "❌ Failed: 04a60f2a-e4bc-4dd9-bd75-8598de152d45.wav\n",
      "Error processing 04b709e3-2aae-4f51-b81a-3fc157ba2994.wav: \n",
      "❌ Failed: 04b709e3-2aae-4f51-b81a-3fc157ba2994.wav\n",
      "Error processing 04fb9f54-00f2-477a-a79f-7db1ddfae415.wav: \n",
      "❌ Failed: 04fb9f54-00f2-477a-a79f-7db1ddfae415.wav\n",
      "Error processing 05e22d2a-0eff-475f-b663-1d39283cb42d.wav: \n",
      "❌ Failed: 05e22d2a-0eff-475f-b663-1d39283cb42d.wav\n",
      "Error processing 05e6422c-fac4-4dc3-bc69-3030839f7caf.wav: \n",
      "❌ Failed: 05e6422c-fac4-4dc3-bc69-3030839f7caf.wav\n",
      "Error processing 06b55e46-5023-48e6-96c5-434261268ab8.wav: \n",
      "❌ Failed: 06b55e46-5023-48e6-96c5-434261268ab8.wav\n",
      "Error processing 07a762da-332e-41a9-8374-136552397b04.wav: \n",
      "❌ Failed: 07a762da-332e-41a9-8374-136552397b04.wav\n",
      "Error processing 07fcc0af-e219-4421-bf02-4562284e2d92.wav: \n",
      "❌ Failed: 07fcc0af-e219-4421-bf02-4562284e2d92.wav\n",
      "Error processing 0801ef4f-795a-4755-b861-adcaa52f1818.wav: \n",
      "❌ Failed: 0801ef4f-795a-4755-b861-adcaa52f1818.wav\n",
      "Error processing 0886c74c-725a-4539-83ea-7bbdd1ca093c.wav: \n",
      "❌ Failed: 0886c74c-725a-4539-83ea-7bbdd1ca093c.wav\n",
      "Error processing 08cd3aec-ad63-430b-b670-01fbd328c8b3.wav: \n",
      "❌ Failed: 08cd3aec-ad63-430b-b670-01fbd328c8b3.wav\n",
      "Error processing 08e35e05-f2d0-45fc-abcb-1316fda14db4.wav: \n",
      "❌ Failed: 08e35e05-f2d0-45fc-abcb-1316fda14db4.wav\n",
      "Error processing 08f0b838-4104-46bf-b234-554c30fd8238.wav: \n",
      "❌ Failed: 08f0b838-4104-46bf-b234-554c30fd8238.wav\n",
      "Error processing 092a0f31-db97-4d45-a643-c5984b6f4cf9.wav: \n",
      "❌ Failed: 092a0f31-db97-4d45-a643-c5984b6f4cf9.wav\n",
      "Error processing 093a01ef-0cb6-49e3-a54e-2318b696cfd7.wav: \n",
      "❌ Failed: 093a01ef-0cb6-49e3-a54e-2318b696cfd7.wav\n",
      "Error processing 0a3556ce-e37b-48cb-9867-3497956f5a04.wav: \n",
      "❌ Failed: 0a3556ce-e37b-48cb-9867-3497956f5a04.wav\n",
      "Error processing 0ace0c46-6ca7-4749-9f9b-470e63c64999.wav: \n",
      "❌ Failed: 0ace0c46-6ca7-4749-9f9b-470e63c64999.wav\n",
      "Error processing 0ad66251-aa2a-4b28-9a8b-e145cfc8bc21.wav: \n",
      "❌ Failed: 0ad66251-aa2a-4b28-9a8b-e145cfc8bc21.wav\n",
      "Error processing 0b52ef1e-a0df-481c-b674-7a13317ed727.wav: \n",
      "❌ Failed: 0b52ef1e-a0df-481c-b674-7a13317ed727.wav\n",
      "Error processing 0b7e830a-d625-4ec4-ad3a-4c0a5d382fda.wav: \n",
      "❌ Failed: 0b7e830a-d625-4ec4-ad3a-4c0a5d382fda.wav\n",
      "Error processing 0bd3c2f3-bfd8-46de-a90a-41ddcee2b586.wav: \n",
      "❌ Failed: 0bd3c2f3-bfd8-46de-a90a-41ddcee2b586.wav\n",
      "Error processing 0bffcea9-4afe-4efe-9fc7-4ae2a8956daf.wav: \n",
      "❌ Failed: 0bffcea9-4afe-4efe-9fc7-4ae2a8956daf.wav\n",
      "Error processing 0c218289-a7ae-4b6f-88b3-6eaf08b6484f.wav: \n",
      "❌ Failed: 0c218289-a7ae-4b6f-88b3-6eaf08b6484f.wav\n",
      "Error processing 0d48a6a4-b166-4cab-a748-a35a84e0a7c7.wav: \n",
      "❌ Failed: 0d48a6a4-b166-4cab-a748-a35a84e0a7c7.wav\n",
      "Error processing 0db55d54-78ad-4bca-91ac-cb90cc34f74d.wav: \n",
      "❌ Failed: 0db55d54-78ad-4bca-91ac-cb90cc34f74d.wav\n",
      "Error processing 0dddb73e-8bc6-45f0-879e-7e40387599d4.wav: \n",
      "❌ Failed: 0dddb73e-8bc6-45f0-879e-7e40387599d4.wav\n",
      "Error processing 0df75466-7a54-41e1-8b97-e84b9ec356d2.wav: \n",
      "❌ Failed: 0df75466-7a54-41e1-8b97-e84b9ec356d2.wav\n",
      "Error processing 0ef8b324-f619-4c79-8c7e-8d0e1ff3e6a5.wav: \n",
      "❌ Failed: 0ef8b324-f619-4c79-8c7e-8d0e1ff3e6a5.wav\n",
      "Error processing 0f0d7c3d-f36d-4983-94ac-68a2abf29f86.wav: \n",
      "❌ Failed: 0f0d7c3d-f36d-4983-94ac-68a2abf29f86.wav\n",
      "Error processing 0f629beb-0401-415b-9069-67d89ecd1e78.wav: \n",
      "❌ Failed: 0f629beb-0401-415b-9069-67d89ecd1e78.wav\n",
      "Error processing 0f740f8b-e028-4ec4-812f-9732babeffec.wav: \n",
      "❌ Failed: 0f740f8b-e028-4ec4-812f-9732babeffec.wav\n",
      "Error processing 101d9d85-6e30-4512-ac16-c09ec80c274a.wav: \n",
      "❌ Failed: 101d9d85-6e30-4512-ac16-c09ec80c274a.wav\n",
      "Error processing 10e0a31f-bc7d-46ad-ac22-32f4cf230a38.wav: \n",
      "❌ Failed: 10e0a31f-bc7d-46ad-ac22-32f4cf230a38.wav\n",
      "Error processing 11b17520-ab42-472b-99d9-047fad32b9ff.wav: \n",
      "❌ Failed: 11b17520-ab42-472b-99d9-047fad32b9ff.wav\n",
      "Error processing 1207db70-09f9-45b1-81b7-59b95eb949c8.wav: \n",
      "❌ Failed: 1207db70-09f9-45b1-81b7-59b95eb949c8.wav\n",
      "Error processing 12da6703-4827-4f63-99f3-7ceae083ce35.wav: \n",
      "❌ Failed: 12da6703-4827-4f63-99f3-7ceae083ce35.wav\n",
      "Error processing 12dda628-df74-439e-a8df-f4fa6234ed3d.wav: \n",
      "❌ Failed: 12dda628-df74-439e-a8df-f4fa6234ed3d.wav\n",
      "Error processing 1334b337-c40c-4cf2-a392-54c79a200856.wav: \n",
      "❌ Failed: 1334b337-c40c-4cf2-a392-54c79a200856.wav\n",
      "Error processing 13e39226-e7a6-4e24-a3c4-f997272f4136.wav: \n",
      "❌ Failed: 13e39226-e7a6-4e24-a3c4-f997272f4136.wav\n",
      "Error processing 15d51bac-3b27-4170-b3ec-909ea76a3031.wav: \n",
      "❌ Failed: 15d51bac-3b27-4170-b3ec-909ea76a3031.wav\n",
      "Error processing 16030693-f208-413e-a5d8-72921f3b8fca.wav: \n",
      "❌ Failed: 16030693-f208-413e-a5d8-72921f3b8fca.wav\n",
      "Error processing 16e22fff-4125-4b42-8c4e-cc4ff55688b6.wav: \n",
      "❌ Failed: 16e22fff-4125-4b42-8c4e-cc4ff55688b6.wav\n",
      "Error processing 1700295e-1023-4738-9821-695cabd829b6.wav: \n",
      "❌ Failed: 1700295e-1023-4738-9821-695cabd829b6.wav\n",
      "Error processing 174e954c-f0cd-403e-9c89-289a11563ea7.wav: \n",
      "❌ Failed: 174e954c-f0cd-403e-9c89-289a11563ea7.wav\n",
      "Error processing 1768153e-67b0-43ba-92c3-10b3b0c42a9a.wav: \n",
      "❌ Failed: 1768153e-67b0-43ba-92c3-10b3b0c42a9a.wav\n",
      "Error processing 17691258-9711-4fba-bf92-b4a5ec55ed84.wav: \n",
      "❌ Failed: 17691258-9711-4fba-bf92-b4a5ec55ed84.wav\n",
      "Error processing 18356979-ed77-4b80-9810-b4db64db672f.wav: \n",
      "❌ Failed: 18356979-ed77-4b80-9810-b4db64db672f.wav\n",
      "Error processing 1845da6d-4ff4-4d68-8e2a-da12bd48b2b0.wav: \n",
      "❌ Failed: 1845da6d-4ff4-4d68-8e2a-da12bd48b2b0.wav\n",
      "Error processing 18523b48-4314-4761-86b4-b37c0532f832.wav: \n",
      "❌ Failed: 18523b48-4314-4761-86b4-b37c0532f832.wav\n",
      "Error processing 186c27db-f13e-4379-a644-adae1d47a135.wav: \n",
      "❌ Failed: 186c27db-f13e-4379-a644-adae1d47a135.wav\n",
      "Error processing 189979c9-cdb8-4927-be19-a7ae9690c7b2.wav: \n",
      "❌ Failed: 189979c9-cdb8-4927-be19-a7ae9690c7b2.wav\n",
      "Error processing 18b56410-83d0-4fbb-9767-266ba3f5182b.wav: \n",
      "❌ Failed: 18b56410-83d0-4fbb-9767-266ba3f5182b.wav\n",
      "Error processing 197f6003-27c8-46ee-b214-374033b3ac68.wav: \n",
      "❌ Failed: 197f6003-27c8-46ee-b214-374033b3ac68.wav\n",
      "Error processing 19c2e55e-9e91-4d40-9abe-029603c938e8.wav: \n",
      "❌ Failed: 19c2e55e-9e91-4d40-9abe-029603c938e8.wav\n",
      "Error processing 19f26b8c-46d2-417b-b852-05972c793679.wav: \n",
      "❌ Failed: 19f26b8c-46d2-417b-b852-05972c793679.wav\n",
      "Error processing 1a4f7f3a-06eb-4baf-b193-873034927f24.wav: \n",
      "❌ Failed: 1a4f7f3a-06eb-4baf-b193-873034927f24.wav\n",
      "Error processing 1a9f6297-20dc-49e5-8213-6d4c0791c2a0.wav: \n",
      "❌ Failed: 1a9f6297-20dc-49e5-8213-6d4c0791c2a0.wav\n",
      "Error processing 1cacb04e-1100-4498-bbdf-39f38841a620.wav: \n",
      "❌ Failed: 1cacb04e-1100-4498-bbdf-39f38841a620.wav\n",
      "Error processing 1cec57f8-962e-4ae6-b63c-0e12152ece76.wav: \n",
      "❌ Failed: 1cec57f8-962e-4ae6-b63c-0e12152ece76.wav\n",
      "Error processing 1d066fd4-ecc6-430a-a34e-b6ebd9bbbdbb.wav: \n",
      "❌ Failed: 1d066fd4-ecc6-430a-a34e-b6ebd9bbbdbb.wav\n",
      "Error processing 1d1f1138-e687-43e7-9de3-164d74a20db3.wav: \n",
      "❌ Failed: 1d1f1138-e687-43e7-9de3-164d74a20db3.wav\n",
      "Error processing 1d4bf461-bcaa-4538-ac32-55d199e716ab.wav: \n",
      "❌ Failed: 1d4bf461-bcaa-4538-ac32-55d199e716ab.wav\n",
      "Error processing 1d64fced-4d18-4967-b8ea-6479aefe5181.wav: \n",
      "❌ Failed: 1d64fced-4d18-4967-b8ea-6479aefe5181.wav\n",
      "Error processing 1dc73a7a-dc25-4377-9ede-ad8aca0a59fd.wav: \n",
      "❌ Failed: 1dc73a7a-dc25-4377-9ede-ad8aca0a59fd.wav\n",
      "Error processing 1e4dd4a4-477b-4d0a-abaa-3fe53c45c6c2.wav: \n",
      "❌ Failed: 1e4dd4a4-477b-4d0a-abaa-3fe53c45c6c2.wav\n",
      "Error processing 1ea6222f-ebe4-4227-9b13-88a66aeee465.wav: \n",
      "❌ Failed: 1ea6222f-ebe4-4227-9b13-88a66aeee465.wav\n",
      "Error processing 1ee7f97c-60a9-46a1-a476-0390bc33c7d2.wav: \n",
      "❌ Failed: 1ee7f97c-60a9-46a1-a476-0390bc33c7d2.wav\n",
      "Error processing 1f41d02c-f203-4195-ae10-d3b81ea612ce.wav: \n",
      "❌ Failed: 1f41d02c-f203-4195-ae10-d3b81ea612ce.wav\n",
      "Error processing 1fd9b19e-54d8-4302-8f90-51f038957183.wav: \n",
      "❌ Failed: 1fd9b19e-54d8-4302-8f90-51f038957183.wav\n",
      "Error processing 1feefd6b-84d5-4159-8387-0a4a09dcc1e4.wav: \n",
      "❌ Failed: 1feefd6b-84d5-4159-8387-0a4a09dcc1e4.wav\n",
      "Error processing 201dde9c-b1c9-48e3-a7d3-898e128eb08c.wav: \n",
      "❌ Failed: 201dde9c-b1c9-48e3-a7d3-898e128eb08c.wav\n",
      "Error processing 2116e1b7-94b7-4f21-ba26-da9c9c08cdfc.wav: \n",
      "❌ Failed: 2116e1b7-94b7-4f21-ba26-da9c9c08cdfc.wav\n",
      "Error processing 21543ef3-f04a-427f-b71c-1bd1f6dc0445.wav: \n",
      "❌ Failed: 21543ef3-f04a-427f-b71c-1bd1f6dc0445.wav\n",
      "Error processing 2199446c-e531-4fd4-a6e6-f413d41efcc8.wav: \n",
      "❌ Failed: 2199446c-e531-4fd4-a6e6-f413d41efcc8.wav\n",
      "Error processing 22018f2a-36d9-4f28-9f29-76634c8d00e4.wav: \n",
      "❌ Failed: 22018f2a-36d9-4f28-9f29-76634c8d00e4.wav\n",
      "Error processing 2209f009-ee71-4289-9b40-422c5ac82d3f.wav: \n",
      "❌ Failed: 2209f009-ee71-4289-9b40-422c5ac82d3f.wav\n",
      "Error processing 2270a681-ee06-46ab-b1eb-4928a8e0f662.wav: \n",
      "❌ Failed: 2270a681-ee06-46ab-b1eb-4928a8e0f662.wav\n",
      "Error processing 22c261f9-47db-450a-8846-8cb517e37421.wav: \n",
      "❌ Failed: 22c261f9-47db-450a-8846-8cb517e37421.wav\n",
      "Error processing 23704523-4d25-497c-8b81-b2495d154af5.wav: \n",
      "❌ Failed: 23704523-4d25-497c-8b81-b2495d154af5.wav\n",
      "Error processing 24268722-ee7b-420f-80bf-2b5e7d76d728.wav: \n",
      "❌ Failed: 24268722-ee7b-420f-80bf-2b5e7d76d728.wav\n",
      "Error processing 2445a58d-e09f-4734-9d6b-c05cbc44399f.wav: \n",
      "❌ Failed: 2445a58d-e09f-4734-9d6b-c05cbc44399f.wav\n",
      "Error processing 25200d85-1c87-4699-a247-f5f8fed06c3d.wav: \n",
      "❌ Failed: 25200d85-1c87-4699-a247-f5f8fed06c3d.wav\n",
      "Error processing 254f39d2-7291-417a-b688-89962892dd11.wav: \n",
      "❌ Failed: 254f39d2-7291-417a-b688-89962892dd11.wav\n"
     ]
    },
    {
     "name": "stderr",
     "output_type": "stream",
     "text": [
      " 20%|██        | 340/1659 [00:04<00:08, 161.22it/s]"
     ]
    },
    {
     "name": "stdout",
     "output_type": "stream",
     "text": [
      "Error processing 256b12f7-cec0-4091-9383-c457524beb10.wav: \n",
      "❌ Failed: 256b12f7-cec0-4091-9383-c457524beb10.wav\n",
      "Error processing 258358fd-521d-46d6-9471-bdf9349c31aa.wav: \n",
      "❌ Failed: 258358fd-521d-46d6-9471-bdf9349c31aa.wav\n",
      "Error processing 25f6a979-f386-4100-b37e-a1d4e18c9067.wav: \n",
      "❌ Failed: 25f6a979-f386-4100-b37e-a1d4e18c9067.wav\n",
      "Error processing 26073735-f8a3-4b4b-ba63-55229c622004.wav: \n",
      "❌ Failed: 26073735-f8a3-4b4b-ba63-55229c622004.wav\n",
      "Error processing 264b59a6-967f-43c8-8ad3-c759319a2593.wav: \n",
      "❌ Failed: 264b59a6-967f-43c8-8ad3-c759319a2593.wav\n",
      "Error processing 268046b8-62d4-4624-b8ba-5a11b337dff4.wav: \n",
      "❌ Failed: 268046b8-62d4-4624-b8ba-5a11b337dff4.wav\n",
      "Error processing 26e6c6d2-41bb-4e5b-a6ed-1a86fcd0c3d5.wav: \n",
      "❌ Failed: 26e6c6d2-41bb-4e5b-a6ed-1a86fcd0c3d5.wav\n",
      "Error processing 26f9a4e8-bbc3-4a74-b537-123d478bc692.wav: \n",
      "❌ Failed: 26f9a4e8-bbc3-4a74-b537-123d478bc692.wav\n",
      "Error processing 27121566-6c40-487d-83cc-ced165112315.wav: \n",
      "❌ Failed: 27121566-6c40-487d-83cc-ced165112315.wav\n",
      "Error processing 271ca096-4b7b-4501-b406-c257498c707b.wav: \n",
      "❌ Failed: 271ca096-4b7b-4501-b406-c257498c707b.wav\n",
      "Error processing 274a40d8-44ad-437b-a22c-86f543bddeff.wav: \n",
      "❌ Failed: 274a40d8-44ad-437b-a22c-86f543bddeff.wav\n",
      "Error processing 275a19fe-e93e-4217-bd31-9426a8a608d1.wav: \n",
      "❌ Failed: 275a19fe-e93e-4217-bd31-9426a8a608d1.wav\n",
      "Error processing 2761dd4d-ee17-460a-ac93-a2c4008f1b1e.wav: \n",
      "❌ Failed: 2761dd4d-ee17-460a-ac93-a2c4008f1b1e.wav\n",
      "Error processing 29001fdf-6b23-4637-a9eb-4817ef78f3d6.wav: \n",
      "❌ Failed: 29001fdf-6b23-4637-a9eb-4817ef78f3d6.wav\n",
      "Error processing 2926c346-6345-4b42-8de2-77e94b634afd.wav: \n",
      "❌ Failed: 2926c346-6345-4b42-8de2-77e94b634afd.wav\n",
      "Error processing 29acef42-4926-4113-80e3-101afb073995.wav: \n",
      "❌ Failed: 29acef42-4926-4113-80e3-101afb073995.wav\n",
      "Error processing 29d56ba1-b96b-40ce-8804-7deda01ae647.wav: \n",
      "❌ Failed: 29d56ba1-b96b-40ce-8804-7deda01ae647.wav\n",
      "Error processing 2a471e6d-779c-4d30-ba06-ffc97bda33a0.wav: \n",
      "❌ Failed: 2a471e6d-779c-4d30-ba06-ffc97bda33a0.wav\n",
      "Error processing 2ac4a59e-891b-494c-8e2f-932b81606005.wav: \n",
      "❌ Failed: 2ac4a59e-891b-494c-8e2f-932b81606005.wav\n",
      "Error processing 2ae4e11b-c16e-486d-bcfe-4b550f575b23.wav: \n",
      "❌ Failed: 2ae4e11b-c16e-486d-bcfe-4b550f575b23.wav\n",
      "Error processing 2b861eee-cf74-4277-8062-399c4a388196.wav: \n",
      "❌ Failed: 2b861eee-cf74-4277-8062-399c4a388196.wav\n",
      "Error processing 2c01d847-54c8-449e-80c2-3d3f415096e7.wav: \n",
      "❌ Failed: 2c01d847-54c8-449e-80c2-3d3f415096e7.wav\n",
      "Error processing 2c2abfd7-52ab-457b-a947-cac6f50f467c.wav: \n",
      "❌ Failed: 2c2abfd7-52ab-457b-a947-cac6f50f467c.wav\n",
      "Error processing 2cf2d21a-77eb-4cf5-a22a-676e13e4596e.wav: \n",
      "❌ Failed: 2cf2d21a-77eb-4cf5-a22a-676e13e4596e.wav\n",
      "Error processing 2d0580fe-7883-4218-a7e1-28a926627127.wav: \n",
      "❌ Failed: 2d0580fe-7883-4218-a7e1-28a926627127.wav\n",
      "Error processing 2d29cca6-fa8f-4722-b82a-2c3268b434ef.wav: \n",
      "❌ Failed: 2d29cca6-fa8f-4722-b82a-2c3268b434ef.wav\n",
      "Error processing 2d366a21-f992-4aa9-a05a-c4374f1615de.wav: \n",
      "❌ Failed: 2d366a21-f992-4aa9-a05a-c4374f1615de.wav\n",
      "Error processing 2d8038de-1538-434a-b3f3-b8ff5655a836.wav: \n",
      "❌ Failed: 2d8038de-1538-434a-b3f3-b8ff5655a836.wav\n",
      "Error processing 2d8c9420-b96d-42f2-9d3d-472713f5d28b.wav: \n",
      "❌ Failed: 2d8c9420-b96d-42f2-9d3d-472713f5d28b.wav\n",
      "Error processing 2de3eb1a-8460-45b4-8124-ad980daf535e.wav: \n",
      "❌ Failed: 2de3eb1a-8460-45b4-8124-ad980daf535e.wav\n",
      "Error processing 2eb2f88a-b522-4f79-872f-4a7b793e6805.wav: \n",
      "❌ Failed: 2eb2f88a-b522-4f79-872f-4a7b793e6805.wav\n",
      "Error processing 2f968129-d6f0-4254-a053-c8dd7544abb1.wav: \n",
      "❌ Failed: 2f968129-d6f0-4254-a053-c8dd7544abb1.wav\n",
      "Error processing 2fe399a0-bc5c-49df-a503-069ecf2fd59e.wav: \n",
      "❌ Failed: 2fe399a0-bc5c-49df-a503-069ecf2fd59e.wav\n",
      "Error processing 300b6f03-4b65-46fc-a229-e4be93bd9956.wav: \n",
      "❌ Failed: 300b6f03-4b65-46fc-a229-e4be93bd9956.wav\n",
      "Error processing 301b0b1e-3126-450d-b81d-0fffd598cc2a.wav: \n",
      "❌ Failed: 301b0b1e-3126-450d-b81d-0fffd598cc2a.wav\n",
      "Error processing 304baaa9-06f9-4890-bc53-06a497aca343.wav: \n",
      "❌ Failed: 304baaa9-06f9-4890-bc53-06a497aca343.wav\n",
      "Error processing 317577a8-510c-4aa9-96dd-de3a288c3ef9.wav: \n",
      "❌ Failed: 317577a8-510c-4aa9-96dd-de3a288c3ef9.wav\n",
      "Error processing 32146ce5-8845-449e-9cb6-d0f0500c5be4.wav: \n",
      "❌ Failed: 32146ce5-8845-449e-9cb6-d0f0500c5be4.wav\n",
      "Error processing 32c1fef3-5ad1-419c-99fd-39de71b07e78.wav: \n",
      "❌ Failed: 32c1fef3-5ad1-419c-99fd-39de71b07e78.wav\n",
      "Error processing 33015c6a-6a0c-4027-9818-7ef9fe5d1b79.wav: \n",
      "❌ Failed: 33015c6a-6a0c-4027-9818-7ef9fe5d1b79.wav\n",
      "Error processing 33658962-c783-4084-8322-db1c0fc99056.wav: \n",
      "❌ Failed: 33658962-c783-4084-8322-db1c0fc99056.wav\n",
      "Error processing 33789fa4-8167-4041-ae46-8e7ef702c587.wav: \n",
      "❌ Failed: 33789fa4-8167-4041-ae46-8e7ef702c587.wav\n",
      "Error processing 341cab9c-c4d7-4d1a-9635-2f7f8416381c.wav: \n",
      "❌ Failed: 341cab9c-c4d7-4d1a-9635-2f7f8416381c.wav\n",
      "Error processing 34d05fd2-edf7-474c-a8ed-4633396622c6.wav: \n",
      "❌ Failed: 34d05fd2-edf7-474c-a8ed-4633396622c6.wav\n",
      "Error processing 34daa0d0-7715-474c-8797-052233a93d54.wav: \n",
      "❌ Failed: 34daa0d0-7715-474c-8797-052233a93d54.wav\n",
      "Error processing 351f572a-f80d-422d-9b1b-803068ed52fe.wav: \n",
      "❌ Failed: 351f572a-f80d-422d-9b1b-803068ed52fe.wav\n",
      "Error processing 35a21644-8a05-4998-85be-85f89798ac5a.wav: \n",
      "❌ Failed: 35a21644-8a05-4998-85be-85f89798ac5a.wav\n",
      "Error processing 35c85396-e531-46ef-9234-3cd9e8470911.wav: \n",
      "❌ Failed: 35c85396-e531-46ef-9234-3cd9e8470911.wav\n",
      "Error processing 35f29df7-6030-4ada-b031-6fd65cc1dc4b.wav: \n",
      "❌ Failed: 35f29df7-6030-4ada-b031-6fd65cc1dc4b.wav\n",
      "Error processing 3615a01e-aa8b-40db-b820-afc5ecdbcd6b.wav: \n",
      "❌ Failed: 3615a01e-aa8b-40db-b820-afc5ecdbcd6b.wav\n",
      "Error processing 36a65adb-6107-4edf-90e0-0371675fb2ce.wav: \n",
      "❌ Failed: 36a65adb-6107-4edf-90e0-0371675fb2ce.wav\n",
      "Error processing 370bba18-104e-4a37-a4f4-cd61974be291.wav: \n",
      "❌ Failed: 370bba18-104e-4a37-a4f4-cd61974be291.wav\n",
      "Error processing 374ff405-3aa5-4018-a4d9-2c1a0e64c371.wav: \n",
      "❌ Failed: 374ff405-3aa5-4018-a4d9-2c1a0e64c371.wav\n",
      "Error processing 37713909-705f-4158-bbb8-8745e2a39752.wav: \n",
      "❌ Failed: 37713909-705f-4158-bbb8-8745e2a39752.wav\n",
      "Error processing 3800d76b-80ef-409c-a14d-9aa497f3889d.wav: \n",
      "❌ Failed: 3800d76b-80ef-409c-a14d-9aa497f3889d.wav\n",
      "Error processing 39c95566-77c1-412d-ba17-d9cb8ab205ea.wav: \n",
      "❌ Failed: 39c95566-77c1-412d-ba17-d9cb8ab205ea.wav\n",
      "Error processing 3a1a09e2-c053-4cd1-a28a-f9fd282cbb7e.wav: \n",
      "❌ Failed: 3a1a09e2-c053-4cd1-a28a-f9fd282cbb7e.wav\n",
      "Error processing 3a51ea30-abb3-4921-b2ac-18402c692443.wav: \n",
      "❌ Failed: 3a51ea30-abb3-4921-b2ac-18402c692443.wav\n",
      "Error processing 3a5c7da1-59ed-48ba-bfca-5fbe667511fe.wav: \n",
      "❌ Failed: 3a5c7da1-59ed-48ba-bfca-5fbe667511fe.wav\n",
      "Error processing 3ab89f29-400e-46e8-91d7-da71e8c8d0c1.wav: \n",
      "❌ Failed: 3ab89f29-400e-46e8-91d7-da71e8c8d0c1.wav\n",
      "Error processing 3b57e194-3493-4396-9b5a-f3603baa4fdb.wav: \n",
      "❌ Failed: 3b57e194-3493-4396-9b5a-f3603baa4fdb.wav\n",
      "Error processing 3b7d71be-e6ca-444c-9742-2a9d93195e4d.wav: \n",
      "❌ Failed: 3b7d71be-e6ca-444c-9742-2a9d93195e4d.wav\n"
     ]
    },
    {
     "name": "stderr",
     "output_type": "stream",
     "text": [
      " 32%|███▏      | 537/1659 [00:04<00:03, 299.40it/s]"
     ]
    },
    {
     "name": "stdout",
     "output_type": "stream",
     "text": [
      "Error processing 3bf75b78-7d7a-4ef1-afaa-0752ffcbc938.wav: \n",
      "❌ Failed: 3bf75b78-7d7a-4ef1-afaa-0752ffcbc938.wav\n",
      "Error processing 3c21caab-7543-40a2-ac96-671f3830eb25.wav: \n",
      "❌ Failed: 3c21caab-7543-40a2-ac96-671f3830eb25.wav\n",
      "Error processing 3c375c57-a48d-4f10-8930-ccf1f9fc70b1.wav: \n",
      "❌ Failed: 3c375c57-a48d-4f10-8930-ccf1f9fc70b1.wav\n",
      "Error processing 3c56f1b5-2829-49f1-80ba-44d075310789.wav: \n",
      "❌ Failed: 3c56f1b5-2829-49f1-80ba-44d075310789.wav\n",
      "Error processing 3c8b9971-70e8-42b8-9945-a6b7277cd928.wav: \n",
      "❌ Failed: 3c8b9971-70e8-42b8-9945-a6b7277cd928.wav\n",
      "Error processing 3ca029b1-513b-4c38-b3f7-219dcb44dda3.wav: \n",
      "❌ Failed: 3ca029b1-513b-4c38-b3f7-219dcb44dda3.wav\n",
      "Error processing 3cb1bc22-6a96-4599-a0ca-f9dd54df70be.wav: \n",
      "❌ Failed: 3cb1bc22-6a96-4599-a0ca-f9dd54df70be.wav\n",
      "Error processing 3d4067a7-21e6-4384-af25-343afe1dc006.wav: \n",
      "❌ Failed: 3d4067a7-21e6-4384-af25-343afe1dc006.wav\n",
      "Error processing 3e32d5ee-22d9-42e7-9e1c-2847b6d684ea.wav: \n",
      "❌ Failed: 3e32d5ee-22d9-42e7-9e1c-2847b6d684ea.wav\n",
      "Error processing 3e988961-0890-4a8e-ba89-23420269642b.wav: \n",
      "❌ Failed: 3e988961-0890-4a8e-ba89-23420269642b.wav\n",
      "Error processing 3f6253cf-7ab6-4ad8-a707-3db9f8df69f3.wav: \n",
      "❌ Failed: 3f6253cf-7ab6-4ad8-a707-3db9f8df69f3.wav\n",
      "Error processing 3fb92b40-b2b6-4024-8c12-6e53e0c0eb20.wav: \n",
      "❌ Failed: 3fb92b40-b2b6-4024-8c12-6e53e0c0eb20.wav\n",
      "Error processing 3ff8bf4a-48f0-4a02-8cea-dfaab3b19761.wav: \n",
      "❌ Failed: 3ff8bf4a-48f0-4a02-8cea-dfaab3b19761.wav\n",
      "Error processing 40a93061-9142-4ea7-a3a9-8eb9e827d928.wav: \n",
      "❌ Failed: 40a93061-9142-4ea7-a3a9-8eb9e827d928.wav\n",
      "Error processing 4128fe66-c804-4575-87b1-67e11d1eff6d.wav: \n",
      "❌ Failed: 4128fe66-c804-4575-87b1-67e11d1eff6d.wav\n",
      "Error processing 41384fd5-9300-4dc8-ab01-bcb72b119d6e.wav: \n",
      "❌ Failed: 41384fd5-9300-4dc8-ab01-bcb72b119d6e.wav\n",
      "Error processing 41534fe4-b6b9-4c17-bd4e-9bfed6ac4ba7.wav: \n",
      "❌ Failed: 41534fe4-b6b9-4c17-bd4e-9bfed6ac4ba7.wav\n",
      "Error processing 41a3a30d-a302-4f05-9c2e-237c03d3cf75.wav: \n",
      "❌ Failed: 41a3a30d-a302-4f05-9c2e-237c03d3cf75.wav\n",
      "Error processing 41bccb0c-0edc-44ba-b8fb-16409d006672.wav: \n",
      "❌ Failed: 41bccb0c-0edc-44ba-b8fb-16409d006672.wav\n",
      "Error processing 41c3efb5-4417-4d7d-9cba-6b9cb801e525.wav: \n",
      "❌ Failed: 41c3efb5-4417-4d7d-9cba-6b9cb801e525.wav\n",
      "Error processing 41ec149b-f08f-4ff2-ada3-f9b6359d0d14.wav: \n",
      "❌ Failed: 41ec149b-f08f-4ff2-ada3-f9b6359d0d14.wav\n",
      "Error processing 420683cf-ad23-4514-a800-ff2efcbfc9a5.wav: \n",
      "❌ Failed: 420683cf-ad23-4514-a800-ff2efcbfc9a5.wav\n",
      "Error processing 426ae966-49aa-46c7-a498-3c8edb253c70.wav: \n",
      "❌ Failed: 426ae966-49aa-46c7-a498-3c8edb253c70.wav\n",
      "Error processing 42d4cb3d-7003-4dbf-aa21-e1d5d731af8c.wav: \n",
      "❌ Failed: 42d4cb3d-7003-4dbf-aa21-e1d5d731af8c.wav\n",
      "Error processing 4388dd1b-1829-40a9-a747-8914cd66c8b6.wav: \n",
      "❌ Failed: 4388dd1b-1829-40a9-a747-8914cd66c8b6.wav\n",
      "Error processing 438a5bed-eba6-4ffe-90b5-20bb627fe0ef.wav: \n",
      "❌ Failed: 438a5bed-eba6-4ffe-90b5-20bb627fe0ef.wav\n",
      "Error processing 445360a1-0767-4212-b767-7484d719dc81.wav: \n",
      "❌ Failed: 445360a1-0767-4212-b767-7484d719dc81.wav\n",
      "Error processing 4463597e-ef6c-40dc-a853-068b0f9f3591.wav: \n",
      "❌ Failed: 4463597e-ef6c-40dc-a853-068b0f9f3591.wav\n",
      "Error processing 447beed8-75e2-4949-8784-15912daea6c3.wav: \n",
      "❌ Failed: 447beed8-75e2-4949-8784-15912daea6c3.wav\n",
      "Error processing 45487471-2199-4a81-bfb9-552251fa1798.wav: \n",
      "❌ Failed: 45487471-2199-4a81-bfb9-552251fa1798.wav\n",
      "Error processing 46097eb4-95c1-4319-819a-01d3dd19165b.wav: \n",
      "❌ Failed: 46097eb4-95c1-4319-819a-01d3dd19165b.wav\n",
      "Error processing 461841f1-b07d-4f99-84fb-5b133d03bf10.wav: \n",
      "❌ Failed: 461841f1-b07d-4f99-84fb-5b133d03bf10.wav\n",
      "Error processing 464c83a8-dbaa-40a8-96d7-c855f65fd5dd.wav: \n",
      "❌ Failed: 464c83a8-dbaa-40a8-96d7-c855f65fd5dd.wav\n",
      "Error processing 468ce88d-45ce-4bf7-b4c3-a9e28ba8fcc2.wav: \n",
      "❌ Failed: 468ce88d-45ce-4bf7-b4c3-a9e28ba8fcc2.wav\n",
      "Error processing 46e92a34-9b80-4fd0-8075-175c27c9ba4d.wav: \n",
      "❌ Failed: 46e92a34-9b80-4fd0-8075-175c27c9ba4d.wav\n",
      "Error processing 47179eb2-df59-4b69-9c4b-66db46a06492.wav: \n",
      "❌ Failed: 47179eb2-df59-4b69-9c4b-66db46a06492.wav\n",
      "Error processing 4764865d-d321-41f4-8658-662a9b0476d4.wav: \n",
      "❌ Failed: 4764865d-d321-41f4-8658-662a9b0476d4.wav\n",
      "Error processing 48323389-3350-4091-9713-a60a1932facc.wav: \n",
      "❌ Failed: 48323389-3350-4091-9713-a60a1932facc.wav\n",
      "Error processing 487adfdc-8888-48d6-9255-c97eacbb79a4.wav: \n",
      "❌ Failed: 487adfdc-8888-48d6-9255-c97eacbb79a4.wav\n",
      "Error processing 48832697-5caf-4964-836b-b38c01712fd0.wav: \n",
      "❌ Failed: 48832697-5caf-4964-836b-b38c01712fd0.wav\n",
      "Error processing 48bebf74-9efa-4a7a-bd27-40e0e3386f84.wav: \n",
      "❌ Failed: 48bebf74-9efa-4a7a-bd27-40e0e3386f84.wav\n",
      "Error processing 48d9e257-f1d9-48f4-ba38-677f403ed4b6.wav: \n",
      "❌ Failed: 48d9e257-f1d9-48f4-ba38-677f403ed4b6.wav\n",
      "Error processing 49062609-4677-4f96-9202-844982e8f3a9.wav: \n",
      "❌ Failed: 49062609-4677-4f96-9202-844982e8f3a9.wav\n",
      "Error processing 491e79e6-2bfa-4304-ab58-d05b75f88b80.wav: \n",
      "❌ Failed: 491e79e6-2bfa-4304-ab58-d05b75f88b80.wav\n",
      "Error processing 49e437b1-1154-4b44-8bec-2011be5b55c6.wav: \n",
      "❌ Failed: 49e437b1-1154-4b44-8bec-2011be5b55c6.wav\n",
      "Error processing 49ea5a82-86ef-4b48-80c9-e650d8698783.wav: \n",
      "❌ Failed: 49ea5a82-86ef-4b48-80c9-e650d8698783.wav\n",
      "Error processing 4a823757-c9c2-4711-b8b5-456ffa5ab677.wav: \n",
      "❌ Failed: 4a823757-c9c2-4711-b8b5-456ffa5ab677.wav\n",
      "Error processing 4b4dc000-e1cd-425b-b4b3-732db6b77d71.wav: \n",
      "❌ Failed: 4b4dc000-e1cd-425b-b4b3-732db6b77d71.wav\n",
      "Error processing 4b9966ad-7c0c-4f16-a4cc-c968b32c4b39.wav: \n",
      "❌ Failed: 4b9966ad-7c0c-4f16-a4cc-c968b32c4b39.wav\n",
      "Error processing 4bb304a1-795a-4f65-acb6-e24b93af084f.wav: \n",
      "❌ Failed: 4bb304a1-795a-4f65-acb6-e24b93af084f.wav\n",
      "Error processing 4bba461f-af38-467d-b60d-87f16257ffbd.wav: \n",
      "❌ Failed: 4bba461f-af38-467d-b60d-87f16257ffbd.wav\n",
      "Error processing 4bc0586c-99d5-4976-8696-341609fc3e72.wav: \n",
      "❌ Failed: 4bc0586c-99d5-4976-8696-341609fc3e72.wav\n",
      "Error processing 4c4213c9-70bc-4d55-a6f0-e2d84c7b5397.wav: \n",
      "❌ Failed: 4c4213c9-70bc-4d55-a6f0-e2d84c7b5397.wav\n",
      "Error processing 4c492ea1-082c-4382-9a39-30f470fb57d7.wav: \n",
      "❌ Failed: 4c492ea1-082c-4382-9a39-30f470fb57d7.wav\n",
      "Error processing 4c6e8d00-8273-4942-9e03-4b7eb512216c.wav: \n",
      "❌ Failed: 4c6e8d00-8273-4942-9e03-4b7eb512216c.wav\n",
      "Error processing 4cbe60dc-6201-4eb3-8441-b9c92d7466dd.wav: \n",
      "❌ Failed: 4cbe60dc-6201-4eb3-8441-b9c92d7466dd.wav\n",
      "Error processing 4d53c5f6-0646-47de-95b9-ff140d819768.wav: \n",
      "❌ Failed: 4d53c5f6-0646-47de-95b9-ff140d819768.wav\n",
      "Error processing 4dc22c24-30cc-4748-81d3-c07cb3e5a954.wav: \n",
      "❌ Failed: 4dc22c24-30cc-4748-81d3-c07cb3e5a954.wav\n",
      "Error processing 4e73d0c4-914d-495d-8b93-6516da5fe88f.wav: \n",
      "❌ Failed: 4e73d0c4-914d-495d-8b93-6516da5fe88f.wav\n",
      "Error processing 4f205043-f155-4fc1-b6ab-429982bed90d.wav: \n",
      "❌ Failed: 4f205043-f155-4fc1-b6ab-429982bed90d.wav\n",
      "Error processing 4f652e8f-fac1-40ef-90da-60f85f1961e7.wav: \n",
      "❌ Failed: 4f652e8f-fac1-40ef-90da-60f85f1961e7.wav\n",
      "Error processing 507a49e6-7f80-45c0-941a-8d4ec56dd8cf.wav: \n",
      "❌ Failed: 507a49e6-7f80-45c0-941a-8d4ec56dd8cf.wav\n",
      "Error processing 50d84a8d-3b91-425d-b6b6-618b44145a92.wav: \n",
      "❌ Failed: 50d84a8d-3b91-425d-b6b6-618b44145a92.wav\n",
      "Error processing 51306b67-8f23-4cd6-bf89-c8da272815ef.wav: \n",
      "❌ Failed: 51306b67-8f23-4cd6-bf89-c8da272815ef.wav\n",
      "Error processing 51581515-6677-4be4-bb92-21e7891fb083.wav: \n",
      "❌ Failed: 51581515-6677-4be4-bb92-21e7891fb083.wav\n",
      "Error processing 51909b92-fd3d-408d-a175-fedad8a417b9.wav: \n",
      "❌ Failed: 51909b92-fd3d-408d-a175-fedad8a417b9.wav\n",
      "Error processing 51a44f2b-7717-4183-8a0b-022549f5a45b.wav: \n",
      "❌ Failed: 51a44f2b-7717-4183-8a0b-022549f5a45b.wav\n",
      "Error processing 51a6ba22-a053-4ec3-a0da-e4004ee8ce6b.wav: \n",
      "❌ Failed: 51a6ba22-a053-4ec3-a0da-e4004ee8ce6b.wav\n",
      "Error processing 51cb87b3-700e-4241-8198-5cdf4c5246cf.wav: \n",
      "❌ Failed: 51cb87b3-700e-4241-8198-5cdf4c5246cf.wav\n",
      "Error processing 51eecaf4-325f-4520-a58f-4c0acad3e93f.wav: \n",
      "❌ Failed: 51eecaf4-325f-4520-a58f-4c0acad3e93f.wav\n",
      "Error processing 521fb6da-fd5a-442d-bdba-0e9530186adb.wav: \n",
      "❌ Failed: 521fb6da-fd5a-442d-bdba-0e9530186adb.wav\n",
      "Error processing 5237d05e-7670-4103-9a16-a0f9013a85a2.wav: \n",
      "❌ Failed: 5237d05e-7670-4103-9a16-a0f9013a85a2.wav\n",
      "Error processing 526b8ebd-8b92-4135-9dc8-d924a9142347.wav: \n",
      "❌ Failed: 526b8ebd-8b92-4135-9dc8-d924a9142347.wav\n",
      "Error processing 535ff064-f7f4-4933-81d0-06f8feb0f2d4.wav: \n",
      "❌ Failed: 535ff064-f7f4-4933-81d0-06f8feb0f2d4.wav\n",
      "Error processing 53ed7dd5-408c-4a37-98d7-094433a18819.wav: \n",
      "❌ Failed: 53ed7dd5-408c-4a37-98d7-094433a18819.wav\n",
      "Error processing 54ef4cb3-efa0-4098-a394-41e1244ed094.wav: \n",
      "❌ Failed: 54ef4cb3-efa0-4098-a394-41e1244ed094.wav\n",
      "Error processing 551a7409-2c17-4ed5-a48a-3053687e0f71.wav: \n",
      "❌ Failed: 551a7409-2c17-4ed5-a48a-3053687e0f71.wav\n",
      "Error processing 55f89171-01b2-4a53-9b07-9f862650cdf6.wav: \n",
      "❌ Failed: 55f89171-01b2-4a53-9b07-9f862650cdf6.wav\n",
      "Error processing 561308e7-26c0-47da-9972-ac72462f72ba.wav: \n",
      "❌ Failed: 561308e7-26c0-47da-9972-ac72462f72ba.wav\n",
      "Error processing 56aee3f0-88b9-4570-b08c-27342a5eb383.wav: \n",
      "❌ Failed: 56aee3f0-88b9-4570-b08c-27342a5eb383.wav\n",
      "Error processing 56c9413c-be8c-4aea-95c4-ce868e1a9020.wav: \n",
      "❌ Failed: 56c9413c-be8c-4aea-95c4-ce868e1a9020.wav\n"
     ]
    },
    {
     "name": "stderr",
     "output_type": "stream",
     "text": [
      " 44%|████▍     | 737/1659 [00:04<00:01, 486.07it/s]"
     ]
    },
    {
     "name": "stdout",
     "output_type": "stream",
     "text": [
      "Error processing 573ae160-a462-4594-8075-fff54913bcb8.wav: \n",
      "❌ Failed: 573ae160-a462-4594-8075-fff54913bcb8.wav\n",
      "Error processing 575be907-66cb-48c4-a355-349eb63d5f77.wav: \n",
      "❌ Failed: 575be907-66cb-48c4-a355-349eb63d5f77.wav\n",
      "Error processing 5807f16c-e3f5-4eab-a629-94b199220ac9.wav: \n",
      "❌ Failed: 5807f16c-e3f5-4eab-a629-94b199220ac9.wav\n",
      "Error processing 5815776a-c9c4-40ff-bae4-e0b9b371bf03.wav: \n",
      "❌ Failed: 5815776a-c9c4-40ff-bae4-e0b9b371bf03.wav\n",
      "Error processing 58275478-6f96-47a5-9373-fc3f927a206f.wav: \n",
      "❌ Failed: 58275478-6f96-47a5-9373-fc3f927a206f.wav\n",
      "Error processing 582caf3e-56f1-47b1-8bb6-e83016c7d458.wav: \n",
      "❌ Failed: 582caf3e-56f1-47b1-8bb6-e83016c7d458.wav\n",
      "Error processing 587b740c-2302-41d9-ac9c-929e38c3903c.wav: \n",
      "❌ Failed: 587b740c-2302-41d9-ac9c-929e38c3903c.wav\n",
      "Error processing 58d67a32-22c8-46ec-b72d-e225a238149c.wav: \n",
      "❌ Failed: 58d67a32-22c8-46ec-b72d-e225a238149c.wav\n",
      "Error processing 58f1606c-2b58-4a96-a188-c27632c9e67f.wav: \n",
      "❌ Failed: 58f1606c-2b58-4a96-a188-c27632c9e67f.wav\n",
      "Error processing 58ffa8a8-6c54-4d2a-9b0b-fbb515ce478b.wav: \n",
      "❌ Failed: 58ffa8a8-6c54-4d2a-9b0b-fbb515ce478b.wav\n",
      "Error processing 5918ec0f-c313-43e2-8c94-5c3b0e5e217c.wav: \n",
      "❌ Failed: 5918ec0f-c313-43e2-8c94-5c3b0e5e217c.wav\n",
      "Error processing 59f0f061-20e0-4578-ac3e-7f22d14b178b.wav: \n",
      "❌ Failed: 59f0f061-20e0-4578-ac3e-7f22d14b178b.wav\n",
      "Error processing 5aa9783c-30af-4000-a838-9ef2bb14843c.wav: \n",
      "❌ Failed: 5aa9783c-30af-4000-a838-9ef2bb14843c.wav\n",
      "Error processing 5ace312c-a8d1-431a-931d-86b8cd97a71f.wav: \n",
      "❌ Failed: 5ace312c-a8d1-431a-931d-86b8cd97a71f.wav\n",
      "Error processing 5b41571c-3061-4ebd-8e49-27f95f23e47d.wav: \n",
      "❌ Failed: 5b41571c-3061-4ebd-8e49-27f95f23e47d.wav\n",
      "Error processing 5b68f557-895b-477f-9986-e66cf6803395.wav: \n",
      "❌ Failed: 5b68f557-895b-477f-9986-e66cf6803395.wav\n",
      "Error processing 5b8f2af0-714a-4539-bdd8-2ee16d203d04.wav: \n",
      "❌ Failed: 5b8f2af0-714a-4539-bdd8-2ee16d203d04.wav\n",
      "Error processing 5c2cb993-7dce-4d81-90eb-ad7735cf5c6e.wav: \n",
      "❌ Failed: 5c2cb993-7dce-4d81-90eb-ad7735cf5c6e.wav\n",
      "Error processing 5c3d6172-f9f5-4a9e-9c51-2635a7e7ff8c.wav: \n",
      "❌ Failed: 5c3d6172-f9f5-4a9e-9c51-2635a7e7ff8c.wav\n",
      "Error processing 5cea9b9d-da96-4311-b3c1-4a1d9bd6b978.wav: \n",
      "❌ Failed: 5cea9b9d-da96-4311-b3c1-4a1d9bd6b978.wav\n",
      "Error processing 5d09341c-b56a-4c92-91a6-fce81743a5f1.wav: \n",
      "❌ Failed: 5d09341c-b56a-4c92-91a6-fce81743a5f1.wav\n",
      "Error processing 5d24dd18-0ae7-45bb-9949-e8df291da61d.wav: \n",
      "❌ Failed: 5d24dd18-0ae7-45bb-9949-e8df291da61d.wav\n",
      "Error processing 5d31e142-4880-4641-a9bc-2c0c89f387ac.wav: \n",
      "❌ Failed: 5d31e142-4880-4641-a9bc-2c0c89f387ac.wav\n",
      "Error processing 5d333145-24fd-4199-a7ee-3d8d33dea114.wav: \n",
      "❌ Failed: 5d333145-24fd-4199-a7ee-3d8d33dea114.wav\n",
      "Error processing 5d343b27-1523-452e-885b-8261458cba8b.wav: \n",
      "❌ Failed: 5d343b27-1523-452e-885b-8261458cba8b.wav\n",
      "Error processing 5d3b07f9-e970-44d0-aad6-9aa40116d749.wav: \n",
      "❌ Failed: 5d3b07f9-e970-44d0-aad6-9aa40116d749.wav\n",
      "Error processing 5d3f525a-3327-41d6-a837-902f62dc1e19.wav: \n",
      "❌ Failed: 5d3f525a-3327-41d6-a837-902f62dc1e19.wav\n",
      "Error processing 5dc227bb-2f0d-44a4-a122-dba3561b1051.wav: \n",
      "❌ Failed: 5dc227bb-2f0d-44a4-a122-dba3561b1051.wav\n",
      "Error processing 5dee3b76-7cac-49da-8779-065f68903278.wav: \n",
      "❌ Failed: 5dee3b76-7cac-49da-8779-065f68903278.wav\n",
      "Error processing 5dee61ea-7e3c-4b88-8a9b-97687b35c0af.wav: \n",
      "❌ Failed: 5dee61ea-7e3c-4b88-8a9b-97687b35c0af.wav\n",
      "Error processing 5e60eba6-4e3b-4674-8b18-d677fa1779a1.wav: \n",
      "❌ Failed: 5e60eba6-4e3b-4674-8b18-d677fa1779a1.wav\n",
      "Error processing 5e69e303-6b5f-451f-bc8c-3eddc99aff24.wav: \n",
      "❌ Failed: 5e69e303-6b5f-451f-bc8c-3eddc99aff24.wav\n",
      "Error processing 5e806da6-a18e-4f56-9ed9-dc6cc3aa4add.wav: \n",
      "❌ Failed: 5e806da6-a18e-4f56-9ed9-dc6cc3aa4add.wav\n",
      "Error processing 5eed157d-49a2-42f3-bf54-02da22b96188.wav: \n",
      "❌ Failed: 5eed157d-49a2-42f3-bf54-02da22b96188.wav\n",
      "Error processing 604be4e4-8434-4ab6-99c0-8d56e8fde809.wav: \n",
      "❌ Failed: 604be4e4-8434-4ab6-99c0-8d56e8fde809.wav\n",
      "Error processing 6073f7ab-d6e1-4cb4-80a9-a4b2bdda02aa.wav: \n",
      "❌ Failed: 6073f7ab-d6e1-4cb4-80a9-a4b2bdda02aa.wav\n",
      "Error processing 60b89bc2-9a75-4e9b-98c1-fc22cc063d36.wav: \n",
      "❌ Failed: 60b89bc2-9a75-4e9b-98c1-fc22cc063d36.wav\n",
      "Error processing 60e60d72-3332-4fbb-b5aa-ab7181a780e4.wav: \n",
      "❌ Failed: 60e60d72-3332-4fbb-b5aa-ab7181a780e4.wav\n",
      "Error processing 61989a5f-d28e-485a-8af8-4bf5f36236e3.wav: \n",
      "❌ Failed: 61989a5f-d28e-485a-8af8-4bf5f36236e3.wav\n",
      "Error processing 61a29a1c-67b9-4a22-829d-6e75cddebdfc.wav: \n",
      "❌ Failed: 61a29a1c-67b9-4a22-829d-6e75cddebdfc.wav\n",
      "Error processing 61a4e376-e30a-4f2d-8fbd-f635fd668fd6.wav: \n",
      "❌ Failed: 61a4e376-e30a-4f2d-8fbd-f635fd668fd6.wav\n",
      "Error processing 62038d32-690d-4de3-aa65-c6a92d5c211f.wav: \n",
      "❌ Failed: 62038d32-690d-4de3-aa65-c6a92d5c211f.wav\n",
      "Error processing 6288ac4b-b9e5-4371-bffd-edc88082114b.wav: \n",
      "❌ Failed: 6288ac4b-b9e5-4371-bffd-edc88082114b.wav\n",
      "Error processing 62a9a2f6-762e-4487-9051-b1bbad5c2ad4.wav: \n",
      "❌ Failed: 62a9a2f6-762e-4487-9051-b1bbad5c2ad4.wav\n",
      "Error processing 62b98443-bcb9-4b13-ae81-be64f093afdd.wav: \n",
      "❌ Failed: 62b98443-bcb9-4b13-ae81-be64f093afdd.wav\n",
      "Error processing 62d2e902-6f15-4f29-9b32-0a66b48e0178.wav: \n",
      "❌ Failed: 62d2e902-6f15-4f29-9b32-0a66b48e0178.wav\n",
      "Error processing 62d7624f-4c90-4cfa-83c0-725de1130b49.wav: \n",
      "❌ Failed: 62d7624f-4c90-4cfa-83c0-725de1130b49.wav\n",
      "Error processing 62e59733-49e5-44cc-a3a0-5c14a5e0da75.wav: \n",
      "❌ Failed: 62e59733-49e5-44cc-a3a0-5c14a5e0da75.wav\n",
      "Error processing 6357386d-a9d1-407a-b1e6-cc037dcc38a5.wav: \n",
      "❌ Failed: 6357386d-a9d1-407a-b1e6-cc037dcc38a5.wav\n",
      "Error processing 637311a9-eb00-4f11-a71e-79c5ac7b14b4.wav: \n",
      "❌ Failed: 637311a9-eb00-4f11-a71e-79c5ac7b14b4.wav\n",
      "Error processing 638b4fa0-88a1-4e55-b9e1-f9bcb844669e.wav: \n",
      "❌ Failed: 638b4fa0-88a1-4e55-b9e1-f9bcb844669e.wav\n",
      "Error processing 653f8aa1-76e5-485d-b9f1-9bcf16f8fe8b.wav: \n",
      "❌ Failed: 653f8aa1-76e5-485d-b9f1-9bcf16f8fe8b.wav\n",
      "Error processing 654b37ce-8855-4749-99b6-b68188113e52.wav: \n",
      "❌ Failed: 654b37ce-8855-4749-99b6-b68188113e52.wav\n",
      "Error processing 6615577b-1f90-41fb-949f-8be172591d74.wav: \n",
      "❌ Failed: 6615577b-1f90-41fb-949f-8be172591d74.wav\n",
      "Error processing 66204476-8f76-4d4c-9470-6133a1ebbf09.wav: \n",
      "❌ Failed: 66204476-8f76-4d4c-9470-6133a1ebbf09.wav\n",
      "Error processing 6663dbe2-8592-4aec-a629-81db58b371cc.wav: \n",
      "❌ Failed: 6663dbe2-8592-4aec-a629-81db58b371cc.wav\n",
      "Error processing 668ff6bd-a541-488a-828a-22f8791fc0db.wav: \n",
      "❌ Failed: 668ff6bd-a541-488a-828a-22f8791fc0db.wav\n",
      "Error processing 66faa821-fd62-444e-bb84-e6ae86d0a35a.wav: \n",
      "❌ Failed: 66faa821-fd62-444e-bb84-e6ae86d0a35a.wav\n",
      "Error processing 6709cab8-d561-4e1c-a84a-903b4a2fe9a1.wav: \n",
      "❌ Failed: 6709cab8-d561-4e1c-a84a-903b4a2fe9a1.wav\n",
      "Error processing 67738af3-6a7b-449c-a043-4c265b65cf5d.wav: \n",
      "❌ Failed: 67738af3-6a7b-449c-a043-4c265b65cf5d.wav\n",
      "Error processing 67b07c0e-afb8-4181-8234-2d9d3f2044dd.wav: \n",
      "❌ Failed: 67b07c0e-afb8-4181-8234-2d9d3f2044dd.wav\n",
      "Error processing 6818a310-1aa4-42c3-8956-c2b73414b029.wav: \n",
      "❌ Failed: 6818a310-1aa4-42c3-8956-c2b73414b029.wav\n",
      "Error processing 68662954-70d9-40f1-b2ef-b8619660ec94.wav: \n",
      "❌ Failed: 68662954-70d9-40f1-b2ef-b8619660ec94.wav\n",
      "Error processing 6896595e-d6b6-4d30-b4c2-5370689d6337.wav: \n",
      "❌ Failed: 6896595e-d6b6-4d30-b4c2-5370689d6337.wav\n",
      "Error processing 69a85c78-0e77-4edb-80c6-64e25b8727c0.wav: \n",
      "❌ Failed: 69a85c78-0e77-4edb-80c6-64e25b8727c0.wav\n",
      "Error processing 6a6e00ec-b986-459f-8827-337cc968af5c.wav: \n",
      "❌ Failed: 6a6e00ec-b986-459f-8827-337cc968af5c.wav\n",
      "Error processing 6a6ead7a-8873-486f-9130-2ae77d0ce577.wav: \n",
      "❌ Failed: 6a6ead7a-8873-486f-9130-2ae77d0ce577.wav\n",
      "Error processing 6aa0ffb9-1311-48f1-9f23-30e7256507d3.wav: \n",
      "❌ Failed: 6aa0ffb9-1311-48f1-9f23-30e7256507d3.wav\n",
      "Error processing 6acffb76-cae6-4c63-9b58-a0bb4bf8fc8f.wav: \n",
      "❌ Failed: 6acffb76-cae6-4c63-9b58-a0bb4bf8fc8f.wav\n",
      "Error processing 6b510701-2e63-401f-a16f-061beb5fa841.wav: \n",
      "❌ Failed: 6b510701-2e63-401f-a16f-061beb5fa841.wav\n",
      "Error processing 6b6cd6c4-fd00-4ba7-b14d-ab764547cf30.wav: \n",
      "❌ Failed: 6b6cd6c4-fd00-4ba7-b14d-ab764547cf30.wav\n",
      "Error processing 6c33df32-43fc-42b3-b937-3071a5acbcf6.wav: \n",
      "❌ Failed: 6c33df32-43fc-42b3-b937-3071a5acbcf6.wav\n",
      "Error processing 6c8eee43-6c79-4f84-a5ed-69e5a60ef209.wav: \n",
      "❌ Failed: 6c8eee43-6c79-4f84-a5ed-69e5a60ef209.wav\n",
      "Error processing 6d61864c-62e6-4903-ac18-176465b66786.wav: \n",
      "❌ Failed: 6d61864c-62e6-4903-ac18-176465b66786.wav\n",
      "Error processing 6d760adf-c82d-467c-845f-e9204a2154ff.wav: \n",
      "❌ Failed: 6d760adf-c82d-467c-845f-e9204a2154ff.wav\n",
      "Error processing 6e4e5308-3f80-4995-a77b-92c74688749c.wav: \n",
      "❌ Failed: 6e4e5308-3f80-4995-a77b-92c74688749c.wav\n",
      "Error processing 6e7a6a59-47d8-45b5-ba5a-9e67bb6ed7c9.wav: \n",
      "❌ Failed: 6e7a6a59-47d8-45b5-ba5a-9e67bb6ed7c9.wav\n",
      "Error processing 6ed2ccc2-f7cc-4f61-aaf0-0bf338fcdde6.wav: \n",
      "❌ Failed: 6ed2ccc2-f7cc-4f61-aaf0-0bf338fcdde6.wav\n",
      "Error processing 6ee4fbd0-bdb8-4fb6-92eb-52bcfe71c162.wav: \n",
      "❌ Failed: 6ee4fbd0-bdb8-4fb6-92eb-52bcfe71c162.wav\n",
      "Error processing 6f0be31f-9488-49f8-a34f-b8ac61cb77a0.wav: \n",
      "❌ Failed: 6f0be31f-9488-49f8-a34f-b8ac61cb77a0.wav\n",
      "Error processing 6f386d4b-dbbb-4d08-b736-c401ab6ac6b4.wav: \n",
      "❌ Failed: 6f386d4b-dbbb-4d08-b736-c401ab6ac6b4.wav\n",
      "Error processing 6f4b27d1-418e-46ac-bcd4-76630af7d4d2.wav: \n",
      "❌ Failed: 6f4b27d1-418e-46ac-bcd4-76630af7d4d2.wav\n",
      "Error processing 6f5e9d67-b89e-493b-9579-12e3c99730c5.wav: \n",
      "❌ Failed: 6f5e9d67-b89e-493b-9579-12e3c99730c5.wav\n",
      "Error processing 6fa82258-2bfd-414c-aa27-49dbda099f58.wav: \n",
      "❌ Failed: 6fa82258-2bfd-414c-aa27-49dbda099f58.wav\n",
      "Error processing 6fdc0644-318d-4ef9-b07c-debe2999f224.wav: \n",
      "❌ Failed: 6fdc0644-318d-4ef9-b07c-debe2999f224.wav\n",
      "Error processing 703ce2f9-8303-467b-8c66-8c9a2908b6e8.wav: \n",
      "❌ Failed: 703ce2f9-8303-467b-8c66-8c9a2908b6e8.wav\n",
      "Error processing 704b248e-c06c-49a8-b3cc-aba398fe43a2.wav: \n",
      "❌ Failed: 704b248e-c06c-49a8-b3cc-aba398fe43a2.wav\n",
      "Error processing 7081b1c8-fdfe-4591-b3b3-32218f941de4.wav: \n",
      "❌ Failed: 7081b1c8-fdfe-4591-b3b3-32218f941de4.wav\n",
      "Error processing 70e150be-f14e-44f6-8c10-d3a6b0ba1df8.wav: \n",
      "❌ Failed: 70e150be-f14e-44f6-8c10-d3a6b0ba1df8.wav\n",
      "Error processing 7113207a-2a95-4662-bc11-46093ee8f32e.wav: \n",
      "❌ Failed: 7113207a-2a95-4662-bc11-46093ee8f32e.wav\n",
      "Error processing 71347938-562f-4d24-9a05-268fcfa494e1.wav: \n",
      "❌ Failed: 71347938-562f-4d24-9a05-268fcfa494e1.wav\n",
      "Error processing 716fedb7-a7a4-4940-a8a4-a7645667b718.wav: \n",
      "❌ Failed: 716fedb7-a7a4-4940-a8a4-a7645667b718.wav\n",
      "Error processing 717a8b50-6500-47d5-9961-9bd82ced8fbb.wav: \n",
      "❌ Failed: 717a8b50-6500-47d5-9961-9bd82ced8fbb.wav\n",
      "Error processing 726969f0-9381-42a6-86ef-32374fe612ed.wav: \n",
      "❌ Failed: 726969f0-9381-42a6-86ef-32374fe612ed.wav\n",
      "Error processing 72862f67-b66a-44de-bcd4-e6627f9eab32.wav: \n",
      "❌ Failed: 72862f67-b66a-44de-bcd4-e6627f9eab32.wav\n",
      "Error processing 7309afa3-c8bb-46ae-a73f-d1df18bf193a.wav: \n",
      "❌ Failed: 7309afa3-c8bb-46ae-a73f-d1df18bf193a.wav\n",
      "Error processing 730ddeac-f450-4523-8b82-91c8f95b4647.wav: \n",
      "❌ Failed: 730ddeac-f450-4523-8b82-91c8f95b4647.wav\n",
      "Error processing 73a43566-d2db-4622-989a-4466a1699397.wav: \n",
      "❌ Failed: 73a43566-d2db-4622-989a-4466a1699397.wav\n",
      "Error processing 73c035c9-f9f6-4e37-9205-83ecac284935.wav: \n",
      "❌ Failed: 73c035c9-f9f6-4e37-9205-83ecac284935.wav\n",
      "Error processing 73fcfa52-70b3-44a6-b5ea-5307dfe7996a.wav: \n",
      "❌ Failed: 73fcfa52-70b3-44a6-b5ea-5307dfe7996a.wav\n",
      "Error processing 7461901a-f0a4-4d95-9b34-73ce07c92733.wav: \n",
      "❌ Failed: 7461901a-f0a4-4d95-9b34-73ce07c92733.wav\n",
      "Error processing 7532f333-8887-47c2-a54a-3cb75d589984.wav: \n",
      "❌ Failed: 7532f333-8887-47c2-a54a-3cb75d589984.wav\n",
      "Error processing 75f5dabd-489e-4318-bbf6-3dfeaa76e310.wav: \n",
      "❌ Failed: 75f5dabd-489e-4318-bbf6-3dfeaa76e310.wav\n",
      "Error processing 761fbf7d-87e3-4746-bbea-7eba4186dd19.wav: \n",
      "❌ Failed: 761fbf7d-87e3-4746-bbea-7eba4186dd19.wav\n",
      "Error processing 762bf828-bd6b-43dc-bc25-9e88f07ed339.wav: \n",
      "❌ Failed: 762bf828-bd6b-43dc-bc25-9e88f07ed339.wav\n",
      "Error processing 7697b717-ac07-45dc-8138-7f44aa01056b.wav: \n",
      "❌ Failed: 7697b717-ac07-45dc-8138-7f44aa01056b.wav\n",
      "Error processing 76e8310e-e8ef-4a43-9627-8539f493dc59.wav: \n",
      "❌ Failed: 76e8310e-e8ef-4a43-9627-8539f493dc59.wav\n",
      "Error processing 775e32a8-8d89-4aa0-a8a0-7504d21f2dc9.wav: \n",
      "❌ Failed: 775e32a8-8d89-4aa0-a8a0-7504d21f2dc9.wav\n",
      "Error processing 776f8d8b-da52-4463-a0ff-c73d9d6325ef.wav: \n",
      "❌ Failed: 776f8d8b-da52-4463-a0ff-c73d9d6325ef.wav\n",
      "Error processing 77d602b9-2d80-4507-9485-cd48b87dd14d.wav: \n",
      "❌ Failed: 77d602b9-2d80-4507-9485-cd48b87dd14d.wav\n"
     ]
    },
    {
     "name": "stderr",
     "output_type": "stream",
     "text": [
      " 50%|█████     | 831/1659 [00:04<00:01, 551.42it/s]"
     ]
    },
    {
     "name": "stdout",
     "output_type": "stream",
     "text": [
      "Error processing 78336855-9778-4525-96c5-75ef78e5e09e.wav: \n",
      "❌ Failed: 78336855-9778-4525-96c5-75ef78e5e09e.wav\n",
      "Error processing 78dbc465-a985-4804-9431-2149927626bc.wav: \n",
      "❌ Failed: 78dbc465-a985-4804-9431-2149927626bc.wav\n",
      "Error processing 79787db1-f26c-43ea-bb50-06f07447291d.wav: \n",
      "❌ Failed: 79787db1-f26c-43ea-bb50-06f07447291d.wav\n",
      "Error processing 79a98858-31c5-4e76-8b57-2bcf76e125be.wav: \n",
      "❌ Failed: 79a98858-31c5-4e76-8b57-2bcf76e125be.wav\n",
      "Error processing 79aee3d4-3951-4df7-9e1e-99722faa38cf.wav: \n",
      "❌ Failed: 79aee3d4-3951-4df7-9e1e-99722faa38cf.wav\n",
      "Error processing 7a4f41e7-8122-4c1a-b95c-43fcbc40e786.wav: \n",
      "❌ Failed: 7a4f41e7-8122-4c1a-b95c-43fcbc40e786.wav\n",
      "Error processing 7a593ab0-639e-499d-a488-1f1f22a405d3.wav: \n",
      "❌ Failed: 7a593ab0-639e-499d-a488-1f1f22a405d3.wav\n",
      "Error processing 7a99117a-bcba-437d-9116-7080e70d4d1f.wav: \n",
      "❌ Failed: 7a99117a-bcba-437d-9116-7080e70d4d1f.wav\n",
      "Error processing 7ab7aec6-d7b3-44ac-9c25-f6bf244cd0b5.wav: \n",
      "❌ Failed: 7ab7aec6-d7b3-44ac-9c25-f6bf244cd0b5.wav\n",
      "Error processing 7b11677e-6ea0-4500-af68-c851b2be6108.wav: \n",
      "❌ Failed: 7b11677e-6ea0-4500-af68-c851b2be6108.wav\n",
      "Error processing 7c27ea13-7929-4b3b-8b36-afc9eb160289.wav: \n",
      "❌ Failed: 7c27ea13-7929-4b3b-8b36-afc9eb160289.wav\n",
      "Error processing 7c4e3b30-75ec-4147-bbf0-0ec4ecf83e9a.wav: \n",
      "❌ Failed: 7c4e3b30-75ec-4147-bbf0-0ec4ecf83e9a.wav\n",
      "Error processing 7c64998c-c3f9-4fab-92d2-291742292110.wav: \n",
      "❌ Failed: 7c64998c-c3f9-4fab-92d2-291742292110.wav\n",
      "Error processing 7c7ca396-3037-4714-b1dd-1543f3196100.wav: \n",
      "❌ Failed: 7c7ca396-3037-4714-b1dd-1543f3196100.wav\n",
      "Error processing 7cbc1e72-012f-45ef-b882-a95f00533e6c.wav: \n",
      "❌ Failed: 7cbc1e72-012f-45ef-b882-a95f00533e6c.wav\n",
      "Error processing 7ce9309d-89df-4bfa-9e77-f3d0a3d0ce0a.wav: \n",
      "❌ Failed: 7ce9309d-89df-4bfa-9e77-f3d0a3d0ce0a.wav\n",
      "Error processing 7d19e59d-1ff3-4fb3-a486-61cfe8d487e2.wav: \n",
      "❌ Failed: 7d19e59d-1ff3-4fb3-a486-61cfe8d487e2.wav\n",
      "Error processing 7d786a0a-4cbd-4784-8b1b-e4ef058cbd68.wav: \n",
      "❌ Failed: 7d786a0a-4cbd-4784-8b1b-e4ef058cbd68.wav\n",
      "Error processing 7df56d65-4838-4b31-ac3d-5575854f3d60.wav: \n",
      "❌ Failed: 7df56d65-4838-4b31-ac3d-5575854f3d60.wav\n",
      "Error processing 7e329e4d-81d1-4bca-a400-ae5efadce0f0.wav: \n",
      "❌ Failed: 7e329e4d-81d1-4bca-a400-ae5efadce0f0.wav\n",
      "Error processing 7e6416ab-ad1a-41dd-b282-ca07d66ad4f9.wav: \n",
      "❌ Failed: 7e6416ab-ad1a-41dd-b282-ca07d66ad4f9.wav\n",
      "Error processing 7e994b6b-0272-459b-b294-2e9451faeed9.wav: \n",
      "❌ Failed: 7e994b6b-0272-459b-b294-2e9451faeed9.wav\n",
      "Error processing 7ea8c17c-d3a8-4043-bc90-5be0c0269a41.wav: \n",
      "❌ Failed: 7ea8c17c-d3a8-4043-bc90-5be0c0269a41.wav\n",
      "Error processing 7eba5e3e-8fc8-4788-9a56-a42cd609d906.wav: \n",
      "❌ Failed: 7eba5e3e-8fc8-4788-9a56-a42cd609d906.wav\n",
      "Error processing 7f115036-7881-4b69-93d8-adc1bc24fd0f.wav: \n",
      "❌ Failed: 7f115036-7881-4b69-93d8-adc1bc24fd0f.wav\n",
      "Error processing 7f1c4ddc-b188-4bf8-89f9-df0f199bf4c4.wav: \n",
      "❌ Failed: 7f1c4ddc-b188-4bf8-89f9-df0f199bf4c4.wav\n",
      "Error processing 7f6a2b16-5c4a-4cce-8106-db44bc2cf0ef.wav: \n",
      "❌ Failed: 7f6a2b16-5c4a-4cce-8106-db44bc2cf0ef.wav\n",
      "Error processing 7fa15c05-5a85-406e-9411-789662f0e006.wav: \n",
      "❌ Failed: 7fa15c05-5a85-406e-9411-789662f0e006.wav\n",
      "Error processing 7fa5988d-bfe6-4085-9563-36bf90eed03e.wav: \n",
      "❌ Failed: 7fa5988d-bfe6-4085-9563-36bf90eed03e.wav\n",
      "Error processing 80241f4d-23f7-4912-b4c5-8410e806eacb.wav: \n",
      "❌ Failed: 80241f4d-23f7-4912-b4c5-8410e806eacb.wav\n",
      "Error processing 81e6aebe-f37a-45b6-9e53-58058bee8ae1.wav: \n",
      "❌ Failed: 81e6aebe-f37a-45b6-9e53-58058bee8ae1.wav\n",
      "Error processing 824c1722-fdef-486b-ad9a-9a2e0ae452a4.wav: \n",
      "❌ Failed: 824c1722-fdef-486b-ad9a-9a2e0ae452a4.wav\n",
      "Error processing 8289c03a-2724-4c3c-af34-042569d61471.wav: \n",
      "❌ Failed: 8289c03a-2724-4c3c-af34-042569d61471.wav\n",
      "Error processing 829de410-1f1b-47a5-8afa-f4a1b865b44a.wav: \n",
      "❌ Failed: 829de410-1f1b-47a5-8afa-f4a1b865b44a.wav\n",
      "Error processing 8313c9ca-d57f-46db-9b94-fc956e397deb.wav: \n",
      "❌ Failed: 8313c9ca-d57f-46db-9b94-fc956e397deb.wav\n",
      "Error processing 83236e78-c1ba-4d40-a75a-62fb929541c0.wav: \n",
      "❌ Failed: 83236e78-c1ba-4d40-a75a-62fb929541c0.wav\n",
      "Error processing 83a28b1a-c744-45d7-9393-d6c718bbe78f.wav: \n",
      "❌ Failed: 83a28b1a-c744-45d7-9393-d6c718bbe78f.wav\n",
      "Error processing 83dd1174-bfa3-41ba-8f1c-428da1cd9c45.wav: \n",
      "❌ Failed: 83dd1174-bfa3-41ba-8f1c-428da1cd9c45.wav\n",
      "Error processing 84139823-18cc-42ed-883e-12b2869664df.wav: \n",
      "❌ Failed: 84139823-18cc-42ed-883e-12b2869664df.wav\n",
      "Error processing 8435bdd1-3406-43d8-85f1-87bb2ea3a134.wav: \n",
      "❌ Failed: 8435bdd1-3406-43d8-85f1-87bb2ea3a134.wav\n",
      "Error processing 84480fa6-2732-420f-a94b-143ff92c74ac.wav: \n",
      "❌ Failed: 84480fa6-2732-420f-a94b-143ff92c74ac.wav\n",
      "Error processing 85530532-91e0-4e71-a0e9-f11b53e1c7cc.wav: \n",
      "❌ Failed: 85530532-91e0-4e71-a0e9-f11b53e1c7cc.wav\n",
      "Error processing 85dcddcb-e041-40f8-8776-ca49f8a352cc.wav: \n",
      "❌ Failed: 85dcddcb-e041-40f8-8776-ca49f8a352cc.wav\n",
      "Error processing 85df4bae-e27c-4e25-9df5-613b05e0fe14.wav: \n",
      "❌ Failed: 85df4bae-e27c-4e25-9df5-613b05e0fe14.wav\n",
      "Error processing 85ed871e-9dc8-4430-b48b-6fbe773b7d08.wav: \n",
      "❌ Failed: 85ed871e-9dc8-4430-b48b-6fbe773b7d08.wav\n",
      "Error processing 86099049-22a9-426c-9ab6-08ac08b27dde.wav: \n",
      "❌ Failed: 86099049-22a9-426c-9ab6-08ac08b27dde.wav\n",
      "Error processing 8698f50b-41fd-486e-9fde-d1d37052b93c.wav: \n",
      "❌ Failed: 8698f50b-41fd-486e-9fde-d1d37052b93c.wav\n",
      "Error processing 87415d6c-c8a2-4527-b1ce-8f29ce5d98a0.wav: \n",
      "❌ Failed: 87415d6c-c8a2-4527-b1ce-8f29ce5d98a0.wav\n",
      "Error processing 87417720-9d9e-4d19-bdb8-904e66cc1148.wav: \n",
      "❌ Failed: 87417720-9d9e-4d19-bdb8-904e66cc1148.wav\n",
      "Error processing 8752c247-773e-4e1f-aff4-003ae9615126.wav: \n",
      "❌ Failed: 8752c247-773e-4e1f-aff4-003ae9615126.wav\n",
      "Error processing 8776221e-c935-49f0-9fe6-0530637461e3.wav: \n",
      "❌ Failed: 8776221e-c935-49f0-9fe6-0530637461e3.wav\n",
      "Error processing 87879c37-5870-4773-9025-930cb3ad4688.wav: \n",
      "❌ Failed: 87879c37-5870-4773-9025-930cb3ad4688.wav\n",
      "Error processing 87deded6-0f28-4abe-b088-463013ac8e20.wav: \n",
      "❌ Failed: 87deded6-0f28-4abe-b088-463013ac8e20.wav\n",
      "Error processing 880bfb81-1bf3-4a12-a683-395abe021bd5.wav: \n",
      "❌ Failed: 880bfb81-1bf3-4a12-a683-395abe021bd5.wav\n",
      "Error processing 89c08cd6-b5a4-4f76-8e62-58496a8778a2.wav: \n",
      "❌ Failed: 89c08cd6-b5a4-4f76-8e62-58496a8778a2.wav\n",
      "Error processing 8a26fd39-0a8f-42cb-924e-d877145c3d94.wav: \n",
      "❌ Failed: 8a26fd39-0a8f-42cb-924e-d877145c3d94.wav\n",
      "Error processing 8a51ac5e-5f3d-4cce-ba04-d4608ae0b6a3.wav: \n",
      "❌ Failed: 8a51ac5e-5f3d-4cce-ba04-d4608ae0b6a3.wav\n",
      "Error processing 8b189f17-c7fa-4ba5-85e7-0930790774a6.wav: \n",
      "❌ Failed: 8b189f17-c7fa-4ba5-85e7-0930790774a6.wav\n",
      "Error processing 8b1cb65e-2f4e-49c5-99b9-28a4044310ad.wav: \n",
      "❌ Failed: 8b1cb65e-2f4e-49c5-99b9-28a4044310ad.wav\n",
      "Error processing 8b7c4e11-ebdd-4ae3-b22b-d8396ffa4179.wav: \n",
      "❌ Failed: 8b7c4e11-ebdd-4ae3-b22b-d8396ffa4179.wav\n",
      "Error processing 8b86e1a8-a27e-447e-9833-a1ffd1ad00ff.wav: \n",
      "❌ Failed: 8b86e1a8-a27e-447e-9833-a1ffd1ad00ff.wav\n",
      "Error processing 8b9bc12c-7c31-4535-abf9-6372785ee01e.wav: \n",
      "❌ Failed: 8b9bc12c-7c31-4535-abf9-6372785ee01e.wav\n",
      "Error processing 8c155570-c3df-4118-9969-16fa478bb8ed.wav: \n",
      "❌ Failed: 8c155570-c3df-4118-9969-16fa478bb8ed.wav\n",
      "Error processing 8c3ca396-c64f-4c1f-b8ab-553beaee252e.wav: \n",
      "❌ Failed: 8c3ca396-c64f-4c1f-b8ab-553beaee252e.wav\n",
      "Error processing 8c7e228d-02e8-481c-a30f-d04a8cbb4388.wav: \n",
      "❌ Failed: 8c7e228d-02e8-481c-a30f-d04a8cbb4388.wav\n",
      "Error processing 8cdc4e18-fe54-4a64-9add-aeb3f9a4483f.wav: \n",
      "❌ Failed: 8cdc4e18-fe54-4a64-9add-aeb3f9a4483f.wav\n",
      "Error processing 8d99b4b5-f756-4e57-bed9-46c0d1b5b043.wav: \n",
      "❌ Failed: 8d99b4b5-f756-4e57-bed9-46c0d1b5b043.wav\n",
      "Error processing 8e6328aa-1364-4412-9634-88325101b08f.wav: \n",
      "❌ Failed: 8e6328aa-1364-4412-9634-88325101b08f.wav\n",
      "Error processing 8ea8670d-9e22-47eb-81a2-2f3242d9a634.wav: \n",
      "❌ Failed: 8ea8670d-9e22-47eb-81a2-2f3242d9a634.wav\n",
      "Error processing 8fecbe60-53a4-490f-8e49-ea24565a21d9.wav: \n",
      "❌ Failed: 8fecbe60-53a4-490f-8e49-ea24565a21d9.wav\n",
      "Error processing 900ab1df-0216-4d58-b7d0-d934402c07de.wav: \n",
      "❌ Failed: 900ab1df-0216-4d58-b7d0-d934402c07de.wav\n",
      "Error processing 906a835b-216e-4a1d-9f04-2cb666c793c6.wav: \n",
      "❌ Failed: 906a835b-216e-4a1d-9f04-2cb666c793c6.wav\n",
      "Error processing 9072229e-0668-46de-b218-94b1a49b381f.wav: \n",
      "❌ Failed: 9072229e-0668-46de-b218-94b1a49b381f.wav\n",
      "Error processing 90814a62-a5ea-4558-a014-473087990ed7.wav: \n",
      "❌ Failed: 90814a62-a5ea-4558-a014-473087990ed7.wav\n",
      "Error processing 9100e3fd-d527-4f55-9363-40a8b3954b86.wav: \n",
      "❌ Failed: 9100e3fd-d527-4f55-9363-40a8b3954b86.wav\n",
      "Error processing 9126ed05-59b4-4e9f-9522-6a74a5b77af5.wav: \n",
      "❌ Failed: 9126ed05-59b4-4e9f-9522-6a74a5b77af5.wav\n",
      "Error processing 9195a37e-a3e8-4de5-b2ce-c7d5365bf3c8.wav: \n",
      "❌ Failed: 9195a37e-a3e8-4de5-b2ce-c7d5365bf3c8.wav\n",
      "Error processing 92110ea6-f651-4503-80dd-1a07c1dafe8b.wav: \n",
      "❌ Failed: 92110ea6-f651-4503-80dd-1a07c1dafe8b.wav\n",
      "Error processing 92665623-c0ad-4862-b5a7-27c010b4a0d2.wav: \n",
      "❌ Failed: 92665623-c0ad-4862-b5a7-27c010b4a0d2.wav\n",
      "Error processing 929a73d6-55f2-4a64-b443-c64dff4b2e88.wav: \n",
      "❌ Failed: 929a73d6-55f2-4a64-b443-c64dff4b2e88.wav\n",
      "Error processing 92c07f59-5c92-49db-9474-13557ddef45f.wav: \n",
      "❌ Failed: 92c07f59-5c92-49db-9474-13557ddef45f.wav\n",
      "Error processing 9352ebeb-9530-44a7-99d9-72d91adedf8b.wav: \n",
      "❌ Failed: 9352ebeb-9530-44a7-99d9-72d91adedf8b.wav\n",
      "Error processing 9388940b-ee26-4cba-abd6-fe33fd353f06.wav: \n",
      "❌ Failed: 9388940b-ee26-4cba-abd6-fe33fd353f06.wav\n",
      "Error processing 93946be1-ed30-4f8b-9a64-21cb36dd27bd.wav: \n",
      "❌ Failed: 93946be1-ed30-4f8b-9a64-21cb36dd27bd.wav\n",
      "Error processing 93cd25ef-112e-414f-8a39-d6d0e4faa6b8.wav: \n",
      "❌ Failed: 93cd25ef-112e-414f-8a39-d6d0e4faa6b8.wav\n",
      "Error processing 940e8a50-c78d-4ff0-b463-18bf8540a6ac.wav: \n",
      "❌ Failed: 940e8a50-c78d-4ff0-b463-18bf8540a6ac.wav\n",
      "Error processing 94c69064-983b-4b04-9262-709a71ea2f59.wav: \n",
      "❌ Failed: 94c69064-983b-4b04-9262-709a71ea2f59.wav\n",
      "Error processing 9511fa6d-5af4-488a-bb53-e915ceedde2c.wav: \n",
      "❌ Failed: 9511fa6d-5af4-488a-bb53-e915ceedde2c.wav\n",
      "Error processing 95f7c339-121d-4802-bcec-c828313fd083.wav: \n",
      "❌ Failed: 95f7c339-121d-4802-bcec-c828313fd083.wav\n",
      "Error processing 963fb64a-dcbd-4889-8b05-0c7675888f0c.wav: \n",
      "❌ Failed: 963fb64a-dcbd-4889-8b05-0c7675888f0c.wav\n",
      "Error processing 9683ec4d-2343-41fa-955d-ceee1a4c8a29.wav: \n",
      "❌ Failed: 9683ec4d-2343-41fa-955d-ceee1a4c8a29.wav\n",
      "Error processing 969ada35-6441-4c97-9f61-e50c8af17f44.wav: \n",
      "❌ Failed: 969ada35-6441-4c97-9f61-e50c8af17f44.wav\n",
      "Error processing 9716a40c-906a-4fec-a51a-1e08e49b7edf.wav: \n",
      "❌ Failed: 9716a40c-906a-4fec-a51a-1e08e49b7edf.wav\n",
      "Error processing 97ca8770-bcea-4746-9a23-6e18c748d080.wav: \n",
      "❌ Failed: 97ca8770-bcea-4746-9a23-6e18c748d080.wav\n",
      "Error processing 984347bd-90c5-4fed-adb0-43cce147646f.wav: \n",
      "❌ Failed: 984347bd-90c5-4fed-adb0-43cce147646f.wav\n",
      "Error processing 98f91729-923a-4789-bb5e-21b8ee0d5382.wav: \n",
      "❌ Failed: 98f91729-923a-4789-bb5e-21b8ee0d5382.wav\n",
      "Error processing 99053df5-f035-4b93-b9fe-e10a05e169be.wav: \n",
      "❌ Failed: 99053df5-f035-4b93-b9fe-e10a05e169be.wav\n",
      "Error processing 9930c3fe-a837-4e0b-ac82-b91515eeea7c.wav: \n",
      "❌ Failed: 9930c3fe-a837-4e0b-ac82-b91515eeea7c.wav\n",
      "Error processing 99e0b995-1526-411a-88de-0908231790a0.wav: \n",
      "❌ Failed: 99e0b995-1526-411a-88de-0908231790a0.wav\n",
      "Error processing 9a94a9bd-a1b4-4188-91de-7089cd6a1854.wav: \n",
      "❌ Failed: 9a94a9bd-a1b4-4188-91de-7089cd6a1854.wav\n",
      "Error processing 9b41df40-776e-4c7d-8f5f-2fa3d0e66e2c.wav: \n",
      "❌ Failed: 9b41df40-776e-4c7d-8f5f-2fa3d0e66e2c.wav\n",
      "Error processing 9b42c8b8-bfe7-42b9-81d6-231990d491a4.wav: \n",
      "❌ Failed: 9b42c8b8-bfe7-42b9-81d6-231990d491a4.wav\n",
      "Error processing 9bd7cf6e-7963-477b-83c9-0497931e9320.wav: \n",
      "❌ Failed: 9bd7cf6e-7963-477b-83c9-0497931e9320.wav\n",
      "Error processing 9bdb885e-1432-4b43-9ca1-621d9c033e9a.wav: \n",
      "❌ Failed: 9bdb885e-1432-4b43-9ca1-621d9c033e9a.wav\n",
      "Error processing 9c3ad710-3ac7-4d46-9884-cfe125d06e34.wav: \n",
      "❌ Failed: 9c3ad710-3ac7-4d46-9884-cfe125d06e34.wav\n"
     ]
    },
    {
     "name": "stderr",
     "output_type": "stream",
     "text": [
      " 70%|███████   | 1164/1659 [00:04<00:00, 842.53it/s]"
     ]
    },
    {
     "name": "stdout",
     "output_type": "stream",
     "text": [
      "Error processing 9cc7de2b-6ead-4525-a3a5-9bd35b2fc33d.wav: \n",
      "❌ Failed: 9cc7de2b-6ead-4525-a3a5-9bd35b2fc33d.wav\n",
      "Error processing 9dc7a235-4015-4919-8e48-03a3b597b18c.wav: \n",
      "❌ Failed: 9dc7a235-4015-4919-8e48-03a3b597b18c.wav\n",
      "Error processing 9e245b64-398e-4149-99d5-6c520d082f4e.wav: \n",
      "❌ Failed: 9e245b64-398e-4149-99d5-6c520d082f4e.wav\n",
      "Error processing 9f890ee1-c761-4de9-920d-c228045f6c39.wav: \n",
      "❌ Failed: 9f890ee1-c761-4de9-920d-c228045f6c39.wav\n",
      "Error processing a056ab31-52e7-4643-a2dc-494057301716.wav: \n",
      "❌ Failed: a056ab31-52e7-4643-a2dc-494057301716.wav\n",
      "Error processing a078c470-9e01-4ac0-9f77-fc23e80920d4.wav: \n",
      "❌ Failed: a078c470-9e01-4ac0-9f77-fc23e80920d4.wav\n",
      "Error processing a092f0dd-e6f5-4dce-8d66-2993fee3d7e1.wav: \n",
      "❌ Failed: a092f0dd-e6f5-4dce-8d66-2993fee3d7e1.wav\n",
      "Error processing a1b7bcec-3c3b-4a7a-93bf-2c61c76c797f.wav: \n",
      "❌ Failed: a1b7bcec-3c3b-4a7a-93bf-2c61c76c797f.wav\n",
      "Error processing a1c4d78e-3549-4040-8704-17f7bb939911.wav: \n",
      "❌ Failed: a1c4d78e-3549-4040-8704-17f7bb939911.wav\n",
      "Error processing a1dc0ee8-dcf5-4315-921b-2ab6c947d818.wav: \n",
      "❌ Failed: a1dc0ee8-dcf5-4315-921b-2ab6c947d818.wav\n",
      "Error processing a1f6bed6-9a4f-4154-b088-085a949903e9.wav: \n",
      "❌ Failed: a1f6bed6-9a4f-4154-b088-085a949903e9.wav\n",
      "Error processing a2583080-e267-44bf-aa55-5bf041467dea.wav: \n",
      "❌ Failed: a2583080-e267-44bf-aa55-5bf041467dea.wav\n",
      "Error processing a27552ed-140c-4c98-9974-be454f9ed55c.wav: \n",
      "❌ Failed: a27552ed-140c-4c98-9974-be454f9ed55c.wav\n",
      "Error processing a28c68ec-b98f-4699-a6ed-ce51b5d38d2b.wav: \n",
      "❌ Failed: a28c68ec-b98f-4699-a6ed-ce51b5d38d2b.wav\n",
      "Error processing a2a3bb6f-f477-4245-8f67-25617eb50e0c.wav: \n",
      "❌ Failed: a2a3bb6f-f477-4245-8f67-25617eb50e0c.wav\n",
      "Error processing a2a56b12-1947-4e7e-b598-9292b7a4a075.wav: \n",
      "❌ Failed: a2a56b12-1947-4e7e-b598-9292b7a4a075.wav\n",
      "Error processing a2c003e7-bde2-4f3e-962f-04573a424804.wav: \n",
      "❌ Failed: a2c003e7-bde2-4f3e-962f-04573a424804.wav\n",
      "Error processing a326247d-d063-49d5-976d-fa307a8edec9.wav: \n",
      "❌ Failed: a326247d-d063-49d5-976d-fa307a8edec9.wav\n",
      "Error processing a3696e39-74ab-475a-803d-2777fd76718e.wav: \n",
      "❌ Failed: a3696e39-74ab-475a-803d-2777fd76718e.wav\n",
      "Error processing a36df6ca-0061-44a4-ba84-bbddf3ff75ec.wav: \n",
      "❌ Failed: a36df6ca-0061-44a4-ba84-bbddf3ff75ec.wav\n",
      "Error processing a3c414de-1cea-401b-8c0a-67f8560596f6.wav: \n",
      "❌ Failed: a3c414de-1cea-401b-8c0a-67f8560596f6.wav\n",
      "Error processing a417702f-739f-4da0-a2bb-a6e464e5458d.wav: \n",
      "❌ Failed: a417702f-739f-4da0-a2bb-a6e464e5458d.wav\n",
      "Error processing a432abf1-f1bb-4b51-8bc5-1d43496a0b5e.wav: \n",
      "❌ Failed: a432abf1-f1bb-4b51-8bc5-1d43496a0b5e.wav\n",
      "Error processing a471ec3a-82bb-4cd7-9fa5-28fc473fab50.wav: \n",
      "❌ Failed: a471ec3a-82bb-4cd7-9fa5-28fc473fab50.wav\n",
      "Error processing a4815b74-5be3-4dea-a86d-477e3ea37b0b.wav: \n",
      "❌ Failed: a4815b74-5be3-4dea-a86d-477e3ea37b0b.wav\n",
      "Error processing a4b53b92-703b-4d14-944f-a3f81e00f7d4.wav: \n",
      "❌ Failed: a4b53b92-703b-4d14-944f-a3f81e00f7d4.wav\n",
      "Error processing a546209f-20ae-401d-80d5-78b55b4ac6bf.wav: \n",
      "❌ Failed: a546209f-20ae-401d-80d5-78b55b4ac6bf.wav\n",
      "Error processing a5893df2-a332-4767-943b-ef50f08ca8d6.wav: \n",
      "❌ Failed: a5893df2-a332-4767-943b-ef50f08ca8d6.wav\n",
      "Error processing a5b9f7b3-2b97-4b72-8556-5873124589c8.wav: \n",
      "❌ Failed: a5b9f7b3-2b97-4b72-8556-5873124589c8.wav\n",
      "Error processing a61a9d50-64c4-4e55-9e02-5f03ec652f3f.wav: \n",
      "❌ Failed: a61a9d50-64c4-4e55-9e02-5f03ec652f3f.wav\n",
      "Error processing a61c839b-1a75-4d45-a433-af099a38a196.wav: \n",
      "❌ Failed: a61c839b-1a75-4d45-a433-af099a38a196.wav\n",
      "Error processing a6f93d05-5196-4fda-ace4-63cdf06183f6.wav: \n",
      "❌ Failed: a6f93d05-5196-4fda-ace4-63cdf06183f6.wav\n",
      "Error processing a7acd6b6-d316-43e0-8844-a160d29a1779.wav: \n",
      "❌ Failed: a7acd6b6-d316-43e0-8844-a160d29a1779.wav\n",
      "Error processing a817f95b-7703-4cc9-85f3-c1fc3cc85c93.wav: \n",
      "❌ Failed: a817f95b-7703-4cc9-85f3-c1fc3cc85c93.wav\n",
      "Error processing a8f54f3f-d1a8-48dc-bb5a-629df7d3b79b.wav: \n",
      "❌ Failed: a8f54f3f-d1a8-48dc-bb5a-629df7d3b79b.wav\n",
      "Error processing a90faa30-b14d-4f78-beaf-80043a8aa245.wav: \n",
      "❌ Failed: a90faa30-b14d-4f78-beaf-80043a8aa245.wav\n",
      "Error processing a9209102-9362-447e-9514-0ef7c95681fa.wav: \n",
      "❌ Failed: a9209102-9362-447e-9514-0ef7c95681fa.wav\n",
      "Error processing a966a87e-332a-45f6-a052-bce4dc91c76c.wav: \n",
      "❌ Failed: a966a87e-332a-45f6-a052-bce4dc91c76c.wav\n",
      "Error processing a9c07dc9-167d-4196-8e6a-57a21f2d3cfb.wav: \n",
      "❌ Failed: a9c07dc9-167d-4196-8e6a-57a21f2d3cfb.wav\n",
      "Error processing a9f50558-bf36-4997-9b36-dca4d785b2f0.wav: \n",
      "❌ Failed: a9f50558-bf36-4997-9b36-dca4d785b2f0.wav\n",
      "Error processing a9f74cca-fdae-40a4-abaf-c894c9fb2800.wav: \n",
      "❌ Failed: a9f74cca-fdae-40a4-abaf-c894c9fb2800.wav\n",
      "Error processing ab173e37-c04f-422f-b2cc-88f1f894d203.wav: \n",
      "❌ Failed: ab173e37-c04f-422f-b2cc-88f1f894d203.wav\n",
      "Error processing ab19a662-2457-469a-8491-721aa56b27d1.wav: \n",
      "❌ Failed: ab19a662-2457-469a-8491-721aa56b27d1.wav\n",
      "Error processing ac14aef4-c6ce-405d-91a1-66c2476265ab.wav: \n",
      "❌ Failed: ac14aef4-c6ce-405d-91a1-66c2476265ab.wav\n",
      "Error processing ac8d0de9-88c8-4279-85c4-574d52b91f72.wav: \n",
      "❌ Failed: ac8d0de9-88c8-4279-85c4-574d52b91f72.wav\n",
      "Error processing acfe4fb4-d3a2-48c9-af3f-c669fccb26a9.wav: \n",
      "❌ Failed: acfe4fb4-d3a2-48c9-af3f-c669fccb26a9.wav\n",
      "Error processing ad89032b-8f97-4b1d-89b2-f328a00d4af6.wav: \n",
      "❌ Failed: ad89032b-8f97-4b1d-89b2-f328a00d4af6.wav\n",
      "Error processing adbfdac5-3871-4795-be24-5b3a62aae1eb.wav: \n",
      "❌ Failed: adbfdac5-3871-4795-be24-5b3a62aae1eb.wav\n",
      "Error processing ae32960f-6896-4405-8223-e956c8eaa4df.wav: \n",
      "❌ Failed: ae32960f-6896-4405-8223-e956c8eaa4df.wav\n",
      "Error processing ae760906-9c6d-46c8-930e-4186b34b92cd.wav: \n",
      "❌ Failed: ae760906-9c6d-46c8-930e-4186b34b92cd.wav\n",
      "Error processing aec6aa87-026a-4ddd-aea2-9bb7538f4e81.wav: \n",
      "❌ Failed: aec6aa87-026a-4ddd-aea2-9bb7538f4e81.wav\n",
      "Error processing aed43f39-acaf-490c-b579-65da57baa989.wav: \n",
      "❌ Failed: aed43f39-acaf-490c-b579-65da57baa989.wav\n",
      "Error processing aef53b2a-9d07-4747-a63e-b5487337874c.wav: \n",
      "❌ Failed: aef53b2a-9d07-4747-a63e-b5487337874c.wav\n",
      "Error processing af0fa3b7-5864-45ac-934d-dd498cfd8ac0.wav: \n",
      "❌ Failed: af0fa3b7-5864-45ac-934d-dd498cfd8ac0.wav\n",
      "Error processing aff58f54-587d-4351-a2f2-8fc914288887.wav: \n",
      "❌ Failed: aff58f54-587d-4351-a2f2-8fc914288887.wav\n",
      "Error processing affc21e8-d348-499e-ae0f-33951cda3bf4.wav: \n",
      "❌ Failed: affc21e8-d348-499e-ae0f-33951cda3bf4.wav\n",
      "Error processing b09b5a75-9260-40cf-9f86-9ae0121b4964.wav: \n",
      "❌ Failed: b09b5a75-9260-40cf-9f86-9ae0121b4964.wav\n",
      "Error processing b12aa566-23d9-42cc-912c-f0b630c3a62b.wav: \n",
      "❌ Failed: b12aa566-23d9-42cc-912c-f0b630c3a62b.wav\n",
      "Error processing b1ba338c-7fa6-4089-8eb7-46884c745405.wav: \n",
      "❌ Failed: b1ba338c-7fa6-4089-8eb7-46884c745405.wav\n",
      "Error processing b1f8f645-e71f-4541-a67e-5e3e74f81410.wav: \n",
      "❌ Failed: b1f8f645-e71f-4541-a67e-5e3e74f81410.wav\n",
      "Error processing b20b4c5e-984d-4f34-9190-8582aaef92c0.wav: \n",
      "❌ Failed: b20b4c5e-984d-4f34-9190-8582aaef92c0.wav\n",
      "Error processing b220808a-309a-4786-9dfe-6270373e1fe3.wav: \n",
      "❌ Failed: b220808a-309a-4786-9dfe-6270373e1fe3.wav\n",
      "Error processing b2344ef7-4a11-4bf0-b018-121d308e24cd.wav: \n",
      "❌ Failed: b2344ef7-4a11-4bf0-b018-121d308e24cd.wav\n",
      "Error processing b2cc9712-85dd-487d-b38b-65665d0f6853.wav: \n",
      "❌ Failed: b2cc9712-85dd-487d-b38b-65665d0f6853.wav\n",
      "Error processing b33d222c-948e-49b4-a6f5-b65057d32791.wav: \n",
      "❌ Failed: b33d222c-948e-49b4-a6f5-b65057d32791.wav\n",
      "Error processing b3fd90b7-97f1-4f34-8977-4a84f4e44f47.wav: \n",
      "❌ Failed: b3fd90b7-97f1-4f34-8977-4a84f4e44f47.wav\n",
      "Error processing b3ffe786-cdb0-4794-aace-6978fc66e223.wav: \n",
      "❌ Failed: b3ffe786-cdb0-4794-aace-6978fc66e223.wav\n",
      "Error processing b4350c9c-c72d-4655-b732-2eaffe219aea.wav: \n",
      "❌ Failed: b4350c9c-c72d-4655-b732-2eaffe219aea.wav\n",
      "Error processing b4643cd6-dc17-4017-926a-7aea559a8ecf.wav: \n",
      "❌ Failed: b4643cd6-dc17-4017-926a-7aea559a8ecf.wav\n",
      "Error processing b4761d93-6990-4439-ab4b-345b75163b82.wav: \n",
      "❌ Failed: b4761d93-6990-4439-ab4b-345b75163b82.wav\n",
      "Error processing b4b6c914-8b30-41d3-b01e-d013605668de.wav: \n",
      "❌ Failed: b4b6c914-8b30-41d3-b01e-d013605668de.wav\n",
      "Error processing b4db1909-6284-4bfd-9c6f-3d136486e1f8.wav: \n",
      "❌ Failed: b4db1909-6284-4bfd-9c6f-3d136486e1f8.wav\n",
      "Error processing b4f002a3-d56b-4659-a746-cab7ef00f6b3.wav: \n",
      "❌ Failed: b4f002a3-d56b-4659-a746-cab7ef00f6b3.wav\n",
      "Error processing b5f472f6-fa44-41f9-a110-85d833fc0631.wav: \n",
      "❌ Failed: b5f472f6-fa44-41f9-a110-85d833fc0631.wav\n",
      "Error processing b60aa5fa-e96e-4619-9737-83e1581e2c5e.wav: \n",
      "❌ Failed: b60aa5fa-e96e-4619-9737-83e1581e2c5e.wav\n",
      "Error processing b6746f87-1209-47d2-90b9-a16d91e884d4.wav: \n",
      "❌ Failed: b6746f87-1209-47d2-90b9-a16d91e884d4.wav\n",
      "Error processing b790ea2f-ace6-418a-a2ae-f6b8e091ed36.wav: \n",
      "❌ Failed: b790ea2f-ace6-418a-a2ae-f6b8e091ed36.wav\n",
      "Error processing b7eb83a5-f8df-4f86-a6a4-1ee47e339cff.wav: \n",
      "❌ Failed: b7eb83a5-f8df-4f86-a6a4-1ee47e339cff.wav\n",
      "Error processing b864a7f9-b48c-45eb-bd87-515f6f4b0de0.wav: \n",
      "❌ Failed: b864a7f9-b48c-45eb-bd87-515f6f4b0de0.wav\n",
      "Error processing b8d4bba0-38e7-4044-aede-e648fcd0be46.wav: \n",
      "❌ Failed: b8d4bba0-38e7-4044-aede-e648fcd0be46.wav\n",
      "Error processing b9dd967a-7be4-47ae-9b1a-a38994320308.wav: \n",
      "❌ Failed: b9dd967a-7be4-47ae-9b1a-a38994320308.wav\n",
      "Error processing ba08dae5-1633-4f5b-b8bc-cabf6fbbb930.wav: \n",
      "❌ Failed: ba08dae5-1633-4f5b-b8bc-cabf6fbbb930.wav\n",
      "Error processing ba34e97e-11a3-4ec4-b374-8b3db691882a.wav: \n",
      "❌ Failed: ba34e97e-11a3-4ec4-b374-8b3db691882a.wav\n",
      "Error processing ba66f9a3-4208-4065-acaf-a61860f6d3d8.wav: \n",
      "❌ Failed: ba66f9a3-4208-4065-acaf-a61860f6d3d8.wav\n",
      "Error processing bb15b0c7-2f79-41ec-87fa-f226dd6736e1.wav: \n",
      "❌ Failed: bb15b0c7-2f79-41ec-87fa-f226dd6736e1.wav\n",
      "Error processing bb6aa9d5-b297-4d5f-bb5e-a8350c99dcb5.wav: \n",
      "❌ Failed: bb6aa9d5-b297-4d5f-bb5e-a8350c99dcb5.wav\n",
      "Error processing bb7ce65c-6415-4a60-b8e6-678ebf66f417.wav: \n",
      "❌ Failed: bb7ce65c-6415-4a60-b8e6-678ebf66f417.wav\n",
      "Error processing bc283e9f-d39c-4d98-b500-da108858e746.wav: \n",
      "❌ Failed: bc283e9f-d39c-4d98-b500-da108858e746.wav\n",
      "Error processing bc7e75b9-ea9a-4da8-8189-8324ba129271.wav: \n",
      "❌ Failed: bc7e75b9-ea9a-4da8-8189-8324ba129271.wav\n",
      "Error processing bc96d007-985d-4524-bef4-33b08ff1c8e4.wav: \n",
      "❌ Failed: bc96d007-985d-4524-bef4-33b08ff1c8e4.wav\n",
      "Error processing bcafde79-5a8d-4239-a50c-d0f1f680ffa3.wav: \n",
      "❌ Failed: bcafde79-5a8d-4239-a50c-d0f1f680ffa3.wav\n",
      "Error processing bd5990b0-0a81-4290-b1b3-fd2e71422af6.wav: \n",
      "❌ Failed: bd5990b0-0a81-4290-b1b3-fd2e71422af6.wav\n",
      "Error processing bd850c44-ba73-4d6e-86b0-bff747a487bd.wav: \n",
      "❌ Failed: bd850c44-ba73-4d6e-86b0-bff747a487bd.wav\n",
      "Error processing bde68830-f3ce-4b53-b2e9-2792a0830749.wav: \n",
      "❌ Failed: bde68830-f3ce-4b53-b2e9-2792a0830749.wav\n",
      "Error processing bde7b662-db81-411e-a654-f4e2c2ff685e.wav: \n",
      "❌ Failed: bde7b662-db81-411e-a654-f4e2c2ff685e.wav\n",
      "Error processing bf27be23-075c-4f52-bd6f-83319bddf2d4.wav: \n",
      "❌ Failed: bf27be23-075c-4f52-bd6f-83319bddf2d4.wav\n",
      "Error processing bfe1665e-e975-4623-bf94-b5e20824aca4.wav: \n",
      "❌ Failed: bfe1665e-e975-4623-bf94-b5e20824aca4.wav\n",
      "Error processing bffb11c9-3661-4352-aa2d-708860756355.wav: \n",
      "❌ Failed: bffb11c9-3661-4352-aa2d-708860756355.wav\n",
      "Error processing c0010fe9-5280-4919-86ee-43502f79c950.wav: \n",
      "❌ Failed: c0010fe9-5280-4919-86ee-43502f79c950.wav\n",
      "Error processing c02f1970-4e6a-4b16-a66a-bdfce6e2a632.wav: \n",
      "❌ Failed: c02f1970-4e6a-4b16-a66a-bdfce6e2a632.wav\n",
      "Error processing c05e9a8a-79cb-4afb-b006-299b584d3ba6.wav: \n",
      "❌ Failed: c05e9a8a-79cb-4afb-b006-299b584d3ba6.wav\n",
      "Error processing c07a0f97-b311-4048-9565-e23dbdb2728e.wav: \n",
      "❌ Failed: c07a0f97-b311-4048-9565-e23dbdb2728e.wav\n",
      "Error processing c1205f25-167e-4a1a-abb9-a637e0b98d2f.wav: \n",
      "❌ Failed: c1205f25-167e-4a1a-abb9-a637e0b98d2f.wav\n",
      "Error processing c12175df-6db7-425a-b5a2-71b690337ed1.wav: \n",
      "❌ Failed: c12175df-6db7-425a-b5a2-71b690337ed1.wav\n",
      "Error processing c14e8bfe-2660-4cd5-9618-7f5ccec0a88a.wav: \n",
      "❌ Failed: c14e8bfe-2660-4cd5-9618-7f5ccec0a88a.wav\n",
      "Error processing c1ea9d24-934b-4413-9461-b00f5807a7ba.wav: \n",
      "❌ Failed: c1ea9d24-934b-4413-9461-b00f5807a7ba.wav\n",
      "Error processing c24c4fe2-a818-470d-96ee-f4d477f4f04e.wav: \n",
      "❌ Failed: c24c4fe2-a818-470d-96ee-f4d477f4f04e.wav\n",
      "Error processing c34e5693-aacf-4cd2-87cf-9a6225d65e16.wav: \n",
      "❌ Failed: c34e5693-aacf-4cd2-87cf-9a6225d65e16.wav\n",
      "Error processing c41c3358-565f-4b2a-a891-28baa7d1c2cb.wav: \n",
      "❌ Failed: c41c3358-565f-4b2a-a891-28baa7d1c2cb.wav\n",
      "Error processing c46a1fd0-01d0-4ce3-80bf-d40869c3606b.wav: \n",
      "❌ Failed: c46a1fd0-01d0-4ce3-80bf-d40869c3606b.wav\n",
      "Error processing c488dd07-d3f3-4621-b7f0-b98e263bcb61.wav: \n",
      "❌ Failed: c488dd07-d3f3-4621-b7f0-b98e263bcb61.wav\n"
     ]
    },
    {
     "name": "stderr",
     "output_type": "stream",
     "text": [
      " 83%|████████▎ | 1378/1659 [00:05<00:00, 936.28it/s]"
     ]
    },
    {
     "name": "stdout",
     "output_type": "stream",
     "text": [
      "Error processing c497e70f-cad3-42df-9772-401e0355cc19.wav: \n",
      "❌ Failed: c497e70f-cad3-42df-9772-401e0355cc19.wav\n",
      "Error processing c49cb523-36ee-4117-8d63-918c6cc6e5fa.wav: \n",
      "❌ Failed: c49cb523-36ee-4117-8d63-918c6cc6e5fa.wav\n",
      "Error processing c4d30559-c04e-4210-b989-a55a9cd1236a.wav: \n",
      "❌ Failed: c4d30559-c04e-4210-b989-a55a9cd1236a.wav\n",
      "Error processing c4d51c3b-da76-4f35-be85-13f37e82390b.wav: \n",
      "❌ Failed: c4d51c3b-da76-4f35-be85-13f37e82390b.wav\n",
      "Error processing c4facfa0-7e97-4035-a488-9176b3293401.wav: \n",
      "❌ Failed: c4facfa0-7e97-4035-a488-9176b3293401.wav\n",
      "Error processing c5a0c1c2-0cbf-4186-a14f-3960b36ee9f3.wav: \n",
      "❌ Failed: c5a0c1c2-0cbf-4186-a14f-3960b36ee9f3.wav\n",
      "Error processing c60c477a-d873-4d5c-9c17-55cc83c09b1c.wav: \n",
      "❌ Failed: c60c477a-d873-4d5c-9c17-55cc83c09b1c.wav\n",
      "Error processing c6aaa22d-a817-45d4-b9a7-21d82ebb70bd.wav: \n",
      "❌ Failed: c6aaa22d-a817-45d4-b9a7-21d82ebb70bd.wav\n",
      "Error processing c6c57ea4-e950-4ee3-8b37-b2bf4d97e491.wav: \n",
      "❌ Failed: c6c57ea4-e950-4ee3-8b37-b2bf4d97e491.wav\n",
      "Error processing c77c01c4-d1ec-4cc4-8e41-4962d62302e9.wav: \n",
      "❌ Failed: c77c01c4-d1ec-4cc4-8e41-4962d62302e9.wav\n",
      "Error processing c785a096-c7ac-4bb6-b56e-615fac0583a6.wav: \n",
      "❌ Failed: c785a096-c7ac-4bb6-b56e-615fac0583a6.wav\n",
      "Error processing c79e9078-b369-463f-99f6-aae59a80c9ad.wav: \n",
      "❌ Failed: c79e9078-b369-463f-99f6-aae59a80c9ad.wav\n",
      "Error processing c8b31fd7-4113-424c-aa9b-dc34583518bc.wav: \n",
      "❌ Failed: c8b31fd7-4113-424c-aa9b-dc34583518bc.wav\n",
      "Error processing c8bd41eb-5621-4a3d-9e5b-1acbe8465c6d.wav: \n",
      "❌ Failed: c8bd41eb-5621-4a3d-9e5b-1acbe8465c6d.wav\n",
      "Error processing c91aadd1-c900-4753-8e4e-fa6a4c380b4f.wav: \n",
      "❌ Failed: c91aadd1-c900-4753-8e4e-fa6a4c380b4f.wav\n",
      "Error processing c91ec940-5ec8-4337-a859-dd28694f547e.wav: \n",
      "❌ Failed: c91ec940-5ec8-4337-a859-dd28694f547e.wav\n",
      "Error processing c9287d1e-f6b5-4d47-b8e6-e619ef0c08b7.wav: \n",
      "❌ Failed: c9287d1e-f6b5-4d47-b8e6-e619ef0c08b7.wav\n",
      "Error processing c994370f-db94-40dd-bc2f-48f9a387ea18.wav: \n",
      "❌ Failed: c994370f-db94-40dd-bc2f-48f9a387ea18.wav\n",
      "Error processing ca3911c3-9dae-449c-b450-7d61502c74bc.wav: \n",
      "❌ Failed: ca3911c3-9dae-449c-b450-7d61502c74bc.wav\n",
      "Error processing ca97b934-fa0e-410a-af95-5635c70b4343.wav: \n",
      "❌ Failed: ca97b934-fa0e-410a-af95-5635c70b4343.wav\n",
      "Error processing cae65ae8-2b28-4cb9-a070-aa7379cbd9f8.wav: \n",
      "❌ Failed: cae65ae8-2b28-4cb9-a070-aa7379cbd9f8.wav\n",
      "Error processing cb111d0f-ed51-4f50-851b-c5a56fe33a15.wav: \n",
      "❌ Failed: cb111d0f-ed51-4f50-851b-c5a56fe33a15.wav\n",
      "Error processing cb8d8217-bea2-4b2c-b265-c3d8d5310135.wav: \n",
      "❌ Failed: cb8d8217-bea2-4b2c-b265-c3d8d5310135.wav\n",
      "Error processing cbf919f4-822c-404a-92f6-716cb1422330.wav: \n",
      "❌ Failed: cbf919f4-822c-404a-92f6-716cb1422330.wav\n",
      "Error processing cbf99b96-221d-4dbb-8d2a-76f50d5a996b.wav: \n",
      "❌ Failed: cbf99b96-221d-4dbb-8d2a-76f50d5a996b.wav\n",
      "Error processing cc0bf17b-96f7-43f7-89e0-6193500cbb94.wav: \n",
      "❌ Failed: cc0bf17b-96f7-43f7-89e0-6193500cbb94.wav\n",
      "Error processing cc828e81-3352-4a1f-9da4-fd980846d960.wav: \n",
      "❌ Failed: cc828e81-3352-4a1f-9da4-fd980846d960.wav\n",
      "Error processing ccce70a7-b2ca-40eb-b13d-2a9500f1cd68.wav: \n",
      "❌ Failed: ccce70a7-b2ca-40eb-b13d-2a9500f1cd68.wav\n",
      "Error processing cd0afe33-3558-4cb9-8552-6c28617ca397.wav: \n",
      "❌ Failed: cd0afe33-3558-4cb9-8552-6c28617ca397.wav\n",
      "Error processing cd2def27-a7c6-427f-a70c-0ec2590e9803.wav: \n",
      "❌ Failed: cd2def27-a7c6-427f-a70c-0ec2590e9803.wav\n",
      "Error processing cf280e42-b806-44a3-a2de-9e20690dedd4.wav: \n",
      "❌ Failed: cf280e42-b806-44a3-a2de-9e20690dedd4.wav\n",
      "Error processing cf57ed69-a8b9-4518-b817-cd91b872c5ec.wav: \n",
      "❌ Failed: cf57ed69-a8b9-4518-b817-cd91b872c5ec.wav\n",
      "Error processing cf6dd28a-00c3-4e04-a0ec-2a9b27a7f10f.wav: \n",
      "❌ Failed: cf6dd28a-00c3-4e04-a0ec-2a9b27a7f10f.wav\n",
      "Error processing cf9a5fb6-823d-48b8-8fb1-572968e5cd1a.wav: \n",
      "❌ Failed: cf9a5fb6-823d-48b8-8fb1-572968e5cd1a.wav\n",
      "Error processing cff0465e-daab-4bcf-9fe3-57122111e07b.wav: \n",
      "❌ Failed: cff0465e-daab-4bcf-9fe3-57122111e07b.wav\n",
      "Error processing coughvid_00098cdb-4da1-4aa7-825a-4f1b9abc214b.wav: \n",
      "❌ Failed: coughvid_00098cdb-4da1-4aa7-825a-4f1b9abc214b.wav\n",
      "Error processing coughvid_007089d2-ed48-4464-b981-66fc66a6c121.wav: \n",
      "❌ Failed: coughvid_007089d2-ed48-4464-b981-66fc66a6c121.wav\n",
      "Error processing coughvid_00bca802-462d-403c-956d-5c92f3f886c3.wav: \n",
      "❌ Failed: coughvid_00bca802-462d-403c-956d-5c92f3f886c3.wav\n",
      "Error processing coughvid_00eb562b-7e14-4981-8521-0194253470f0.wav: \n",
      "❌ Failed: coughvid_00eb562b-7e14-4981-8521-0194253470f0.wav\n",
      "Error processing coughvid_00eeef06-9ab0-45d8-8ddf-5fbc54b96dec.wav: \n",
      "❌ Failed: coughvid_00eeef06-9ab0-45d8-8ddf-5fbc54b96dec.wav\n",
      "Error processing coughvid_00f41aaf-b05b-4594-8769-fed636fad323.wav: \n",
      "❌ Failed: coughvid_00f41aaf-b05b-4594-8769-fed636fad323.wav\n",
      "Error processing coughvid_00f461f5-d121-4254-8d8b-6111e523c5ae.wav: \n",
      "❌ Failed: coughvid_00f461f5-d121-4254-8d8b-6111e523c5ae.wav\n",
      "Error processing coughvid_016173c7-5890-49e2-891f-3ef460cda5f8.wav: \n",
      "❌ Failed: coughvid_016173c7-5890-49e2-891f-3ef460cda5f8.wav\n",
      "Error processing coughvid_01861986-a00a-44ec-a397-5b5cf7cb66af.wav: \n",
      "❌ Failed: coughvid_01861986-a00a-44ec-a397-5b5cf7cb66af.wav\n",
      "Error processing coughvid_01887051-1e3a-4287-85bc-0f2633740667.wav: \n",
      "❌ Failed: coughvid_01887051-1e3a-4287-85bc-0f2633740667.wav\n",
      "Error processing coughvid_01c1c8d7-611c-4a28-b48a-8f0ce3506e49.wav: \n",
      "❌ Failed: coughvid_01c1c8d7-611c-4a28-b48a-8f0ce3506e49.wav\n",
      "Error processing coughvid_01f22bba-9d34-451f-868a-dacd249ccd71.wav: \n",
      "❌ Failed: coughvid_01f22bba-9d34-451f-868a-dacd249ccd71.wav\n",
      "Error processing coughvid_020eab56-1312-4f66-9f96-0bafdcac2be4.wav: \n",
      "❌ Failed: coughvid_020eab56-1312-4f66-9f96-0bafdcac2be4.wav\n",
      "Error processing coughvid_0225680c-9b5b-4d47-9add-d5cb8bf42337.wav: \n",
      "❌ Failed: coughvid_0225680c-9b5b-4d47-9add-d5cb8bf42337.wav\n",
      "Error processing coughvid_02335034-6397-4cb3-9f05-04398651c749.wav: \n",
      "❌ Failed: coughvid_02335034-6397-4cb3-9f05-04398651c749.wav\n",
      "Error processing coughvid_026967ef-d1a3-4fc5-a752-e0259d3c92a1.wav: \n",
      "❌ Failed: coughvid_026967ef-d1a3-4fc5-a752-e0259d3c92a1.wav\n",
      "Error processing coughvid_028ec384-8216-492a-9c16-ba00367b6e3e.wav: \n",
      "❌ Failed: coughvid_028ec384-8216-492a-9c16-ba00367b6e3e.wav\n",
      "Error processing coughvid_02ea54d1-9935-4404-80b5-9841dc5f7e00.wav: \n",
      "❌ Failed: coughvid_02ea54d1-9935-4404-80b5-9841dc5f7e00.wav\n",
      "Error processing coughvid_02f276e7-f935-4154-aa17-39fd7166e929.wav: \n",
      "❌ Failed: coughvid_02f276e7-f935-4154-aa17-39fd7166e929.wav\n",
      "Error processing coughvid_033010fd-2c99-46b6-9198-6ff053d88c12.wav: \n",
      "❌ Failed: coughvid_033010fd-2c99-46b6-9198-6ff053d88c12.wav\n",
      "Error processing coughvid_045404f5-fd32-49e9-b48f-d0cd6569fd4b.wav: \n",
      "❌ Failed: coughvid_045404f5-fd32-49e9-b48f-d0cd6569fd4b.wav\n",
      "Error processing coughvid_04a60f2a-e4bc-4dd9-bd75-8598de152d45.wav: \n",
      "❌ Failed: coughvid_04a60f2a-e4bc-4dd9-bd75-8598de152d45.wav\n",
      "Error processing coughvid_04b709e3-2aae-4f51-b81a-3fc157ba2994.wav: \n",
      "❌ Failed: coughvid_04b709e3-2aae-4f51-b81a-3fc157ba2994.wav\n",
      "Error processing coughvid_04fb9f54-00f2-477a-a79f-7db1ddfae415.wav: \n",
      "❌ Failed: coughvid_04fb9f54-00f2-477a-a79f-7db1ddfae415.wav\n",
      "Error processing coughvid_05e22d2a-0eff-475f-b663-1d39283cb42d.wav: \n",
      "❌ Failed: coughvid_05e22d2a-0eff-475f-b663-1d39283cb42d.wav\n",
      "Error processing coughvid_05e6422c-fac4-4dc3-bc69-3030839f7caf.wav: \n",
      "❌ Failed: coughvid_05e6422c-fac4-4dc3-bc69-3030839f7caf.wav\n",
      "Error processing coughvid_06b55e46-5023-48e6-96c5-434261268ab8.wav: \n",
      "❌ Failed: coughvid_06b55e46-5023-48e6-96c5-434261268ab8.wav\n",
      "Error processing coughvid_07a762da-332e-41a9-8374-136552397b04.wav: \n",
      "❌ Failed: coughvid_07a762da-332e-41a9-8374-136552397b04.wav\n",
      "Error processing coughvid_07fcc0af-e219-4421-bf02-4562284e2d92.wav: \n",
      "❌ Failed: coughvid_07fcc0af-e219-4421-bf02-4562284e2d92.wav\n",
      "Error processing coughvid_0801ef4f-795a-4755-b861-adcaa52f1818.wav: \n",
      "❌ Failed: coughvid_0801ef4f-795a-4755-b861-adcaa52f1818.wav\n",
      "Error processing coughvid_0886c74c-725a-4539-83ea-7bbdd1ca093c.wav: \n",
      "❌ Failed: coughvid_0886c74c-725a-4539-83ea-7bbdd1ca093c.wav\n",
      "Error processing coughvid_08cd3aec-ad63-430b-b670-01fbd328c8b3.wav: \n",
      "❌ Failed: coughvid_08cd3aec-ad63-430b-b670-01fbd328c8b3.wav\n",
      "Error processing coughvid_08e35e05-f2d0-45fc-abcb-1316fda14db4.wav: \n",
      "❌ Failed: coughvid_08e35e05-f2d0-45fc-abcb-1316fda14db4.wav\n",
      "Error processing coughvid_08f0b838-4104-46bf-b234-554c30fd8238.wav: \n",
      "❌ Failed: coughvid_08f0b838-4104-46bf-b234-554c30fd8238.wav\n",
      "Error processing coughvid_092a0f31-db97-4d45-a643-c5984b6f4cf9.wav: \n",
      "❌ Failed: coughvid_092a0f31-db97-4d45-a643-c5984b6f4cf9.wav\n",
      "Error processing coughvid_093a01ef-0cb6-49e3-a54e-2318b696cfd7.wav: \n",
      "❌ Failed: coughvid_093a01ef-0cb6-49e3-a54e-2318b696cfd7.wav\n",
      "Error processing coughvid_0a3556ce-e37b-48cb-9867-3497956f5a04.wav: \n",
      "❌ Failed: coughvid_0a3556ce-e37b-48cb-9867-3497956f5a04.wav\n",
      "Error processing coughvid_0ace0c46-6ca7-4749-9f9b-470e63c64999.wav: \n",
      "❌ Failed: coughvid_0ace0c46-6ca7-4749-9f9b-470e63c64999.wav\n",
      "Error processing coughvid_0ad66251-aa2a-4b28-9a8b-e145cfc8bc21.wav: \n",
      "❌ Failed: coughvid_0ad66251-aa2a-4b28-9a8b-e145cfc8bc21.wav\n",
      "Error processing coughvid_0b52ef1e-a0df-481c-b674-7a13317ed727.wav: \n",
      "❌ Failed: coughvid_0b52ef1e-a0df-481c-b674-7a13317ed727.wav\n",
      "Error processing coughvid_0b7e830a-d625-4ec4-ad3a-4c0a5d382fda.wav: \n",
      "❌ Failed: coughvid_0b7e830a-d625-4ec4-ad3a-4c0a5d382fda.wav\n",
      "Error processing coughvid_0bd3c2f3-bfd8-46de-a90a-41ddcee2b586.wav: \n",
      "❌ Failed: coughvid_0bd3c2f3-bfd8-46de-a90a-41ddcee2b586.wav\n",
      "Error processing coughvid_0bffcea9-4afe-4efe-9fc7-4ae2a8956daf.wav: \n",
      "❌ Failed: coughvid_0bffcea9-4afe-4efe-9fc7-4ae2a8956daf.wav\n",
      "Error processing coughvid_0c218289-a7ae-4b6f-88b3-6eaf08b6484f.wav: \n",
      "❌ Failed: coughvid_0c218289-a7ae-4b6f-88b3-6eaf08b6484f.wav\n",
      "Error processing coughvid_0d48a6a4-b166-4cab-a748-a35a84e0a7c7.wav: \n",
      "❌ Failed: coughvid_0d48a6a4-b166-4cab-a748-a35a84e0a7c7.wav\n",
      "Error processing coughvid_0db55d54-78ad-4bca-91ac-cb90cc34f74d.wav: \n",
      "❌ Failed: coughvid_0db55d54-78ad-4bca-91ac-cb90cc34f74d.wav\n",
      "Error processing coughvid_0dddb73e-8bc6-45f0-879e-7e40387599d4.wav: \n",
      "❌ Failed: coughvid_0dddb73e-8bc6-45f0-879e-7e40387599d4.wav\n",
      "Error processing coughvid_0df75466-7a54-41e1-8b97-e84b9ec356d2.wav: \n",
      "❌ Failed: coughvid_0df75466-7a54-41e1-8b97-e84b9ec356d2.wav\n",
      "Error processing coughvid_0ef8b324-f619-4c79-8c7e-8d0e1ff3e6a5.wav: \n",
      "❌ Failed: coughvid_0ef8b324-f619-4c79-8c7e-8d0e1ff3e6a5.wav\n",
      "Error processing coughvid_0f0d7c3d-f36d-4983-94ac-68a2abf29f86.wav: \n",
      "❌ Failed: coughvid_0f0d7c3d-f36d-4983-94ac-68a2abf29f86.wav\n",
      "Error processing coughvid_0f629beb-0401-415b-9069-67d89ecd1e78.wav: \n",
      "❌ Failed: coughvid_0f629beb-0401-415b-9069-67d89ecd1e78.wav\n",
      "Error processing coughvid_0f740f8b-e028-4ec4-812f-9732babeffec.wav: \n",
      "❌ Failed: coughvid_0f740f8b-e028-4ec4-812f-9732babeffec.wav\n",
      "Error processing coughvid_101d9d85-6e30-4512-ac16-c09ec80c274a.wav: \n",
      "❌ Failed: coughvid_101d9d85-6e30-4512-ac16-c09ec80c274a.wav\n",
      "Error processing coughvid_10e0a31f-bc7d-46ad-ac22-32f4cf230a38.wav: \n",
      "❌ Failed: coughvid_10e0a31f-bc7d-46ad-ac22-32f4cf230a38.wav\n",
      "Error processing coughvid_11b17520-ab42-472b-99d9-047fad32b9ff.wav: \n",
      "❌ Failed: coughvid_11b17520-ab42-472b-99d9-047fad32b9ff.wav\n",
      "Error processing d11337a3-b222-4ae1-9d54-7351977b5329.wav: \n",
      "❌ Failed: d11337a3-b222-4ae1-9d54-7351977b5329.wav\n",
      "Error processing d168dd12-e998-4a54-9610-136a8ea940a7.wav: \n",
      "❌ Failed: d168dd12-e998-4a54-9610-136a8ea940a7.wav\n",
      "Error processing d1cbb734-744c-46dc-a0f7-fb3e1f7d38bc.wav: \n",
      "❌ Failed: d1cbb734-744c-46dc-a0f7-fb3e1f7d38bc.wav\n",
      "Error processing d1cbd250-5bdd-4e4e-923c-6ff4e2619c67.wav: \n",
      "❌ Failed: d1cbd250-5bdd-4e4e-923c-6ff4e2619c67.wav\n",
      "Error processing d1d368c6-391b-40a3-be84-1011e68fe1b0.wav: \n",
      "❌ Failed: d1d368c6-391b-40a3-be84-1011e68fe1b0.wav\n",
      "Error processing d1da3bfe-5742-4414-912c-f5ee88d5d922.wav: \n",
      "❌ Failed: d1da3bfe-5742-4414-912c-f5ee88d5d922.wav\n",
      "Error processing d1e2292d-eb38-4925-8036-b3502b911f85.wav: \n",
      "❌ Failed: d1e2292d-eb38-4925-8036-b3502b911f85.wav\n",
      "Error processing d2450ad5-fe14-4107-8e96-55cbce093be0.wav: \n",
      "❌ Failed: d2450ad5-fe14-4107-8e96-55cbce093be0.wav\n",
      "Error processing d2b5f92f-bda8-4b14-8722-200aecb776d9.wav: \n",
      "❌ Failed: d2b5f92f-bda8-4b14-8722-200aecb776d9.wav\n",
      "Error processing d2c29f73-3c42-415c-91b6-9dfd113216b2.wav: \n",
      "❌ Failed: d2c29f73-3c42-415c-91b6-9dfd113216b2.wav\n",
      "Error processing d2d87eee-0e87-4faf-95bf-bb30f5ad49f0.wav: \n",
      "❌ Failed: d2d87eee-0e87-4faf-95bf-bb30f5ad49f0.wav\n"
     ]
    },
    {
     "name": "stderr",
     "output_type": "stream",
     "text": [
      " 96%|█████████▌| 1595/1659 [00:05<00:00, 1001.70it/s]"
     ]
    },
    {
     "name": "stdout",
     "output_type": "stream",
     "text": [
      "Error processing d3699f36-0e5b-4363-a540-695c9ba81365.wav: \n",
      "❌ Failed: d3699f36-0e5b-4363-a540-695c9ba81365.wav\n",
      "Error processing d3eda19b-74dd-4cc4-b5cb-79b2382bed84.wav: \n",
      "❌ Failed: d3eda19b-74dd-4cc4-b5cb-79b2382bed84.wav\n",
      "Error processing d4194a05-0e06-4a6c-8419-caedd839c6fd.wav: \n",
      "❌ Failed: d4194a05-0e06-4a6c-8419-caedd839c6fd.wav\n",
      "Error processing d459e0f5-d467-4694-a73c-36aaeba47a40.wav: \n",
      "❌ Failed: d459e0f5-d467-4694-a73c-36aaeba47a40.wav\n",
      "Error processing d47f4d10-fe98-4de4-ab1f-cdc59d74721a.wav: \n",
      "❌ Failed: d47f4d10-fe98-4de4-ab1f-cdc59d74721a.wav\n",
      "Error processing d4c002e8-8bae-4e93-b1c4-904ac4c69174.wav: \n",
      "❌ Failed: d4c002e8-8bae-4e93-b1c4-904ac4c69174.wav\n",
      "Error processing d53be4c6-fac3-4b18-93c7-8ee00ef67e4f.wav: \n",
      "❌ Failed: d53be4c6-fac3-4b18-93c7-8ee00ef67e4f.wav\n",
      "Error processing d53c61dd-b0d1-42ec-adc2-d27194d3ca09.wav: \n",
      "❌ Failed: d53c61dd-b0d1-42ec-adc2-d27194d3ca09.wav\n",
      "Error processing d5ded6fb-212a-464f-a4c0-6cdf4b642fa3.wav: \n",
      "❌ Failed: d5ded6fb-212a-464f-a4c0-6cdf4b642fa3.wav\n",
      "Error processing d626348a-4ffa-42a0-8f16-ceeb6dbdc7f8.wav: \n",
      "❌ Failed: d626348a-4ffa-42a0-8f16-ceeb6dbdc7f8.wav\n",
      "Error processing d63fcbb9-5e0e-4030-98e4-98e5eaa82619.wav: \n",
      "❌ Failed: d63fcbb9-5e0e-4030-98e4-98e5eaa82619.wav\n",
      "Error processing d6776221-ae3d-4ed7-b3a1-7e63ccf0f150.wav: \n",
      "❌ Failed: d6776221-ae3d-4ed7-b3a1-7e63ccf0f150.wav\n",
      "Error processing d707eb14-8a64-478d-ab01-a61c134d0ae7.wav: \n",
      "❌ Failed: d707eb14-8a64-478d-ab01-a61c134d0ae7.wav\n",
      "Error processing d73873d0-3419-4fd6-a491-688483f09d6a.wav: \n",
      "❌ Failed: d73873d0-3419-4fd6-a491-688483f09d6a.wav\n",
      "Error processing d781eabc-e812-4383-857d-ddbcacd0f2e9.wav: \n",
      "❌ Failed: d781eabc-e812-4383-857d-ddbcacd0f2e9.wav\n",
      "Error processing d8095fdd-f417-4fe4-aa3c-369e63977f44.wav: \n",
      "❌ Failed: d8095fdd-f417-4fe4-aa3c-369e63977f44.wav\n",
      "Error processing d858b15a-2f0d-4f8e-acdb-126ef23ff746.wav: \n",
      "❌ Failed: d858b15a-2f0d-4f8e-acdb-126ef23ff746.wav\n",
      "Error processing d908629d-649c-4121-b7b8-9e80e18a0e5f.wav: \n",
      "❌ Failed: d908629d-649c-4121-b7b8-9e80e18a0e5f.wav\n",
      "Error processing d90b99a8-16af-45fb-ac66-764679a766da.wav: \n",
      "❌ Failed: d90b99a8-16af-45fb-ac66-764679a766da.wav\n",
      "Error processing d924a7be-dda7-4060-816a-7590dd5c9c9a.wav: \n",
      "❌ Failed: d924a7be-dda7-4060-816a-7590dd5c9c9a.wav\n",
      "Error processing d94e0cd9-5bd8-4ea1-a36b-ecd66cf84134.wav: \n",
      "❌ Failed: d94e0cd9-5bd8-4ea1-a36b-ecd66cf84134.wav\n",
      "Error processing d9abc58a-02eb-4517-be6d-11175376c990.wav: \n",
      "❌ Failed: d9abc58a-02eb-4517-be6d-11175376c990.wav\n",
      "Error processing d9e2b597-579c-4437-908f-e77b8e3e189f.wav: \n",
      "❌ Failed: d9e2b597-579c-4437-908f-e77b8e3e189f.wav\n",
      "Error processing dae40f43-71a3-46eb-91cb-b2412657b642.wav: \n",
      "❌ Failed: dae40f43-71a3-46eb-91cb-b2412657b642.wav\n",
      "Error processing dbbe9d85-c343-4f9e-9466-dd2c963c2a8d.wav: \n",
      "❌ Failed: dbbe9d85-c343-4f9e-9466-dd2c963c2a8d.wav\n",
      "Error processing dbc6d838-25eb-47cd-9556-1b5c8f3818de.wav: \n",
      "❌ Failed: dbc6d838-25eb-47cd-9556-1b5c8f3818de.wav\n",
      "Error processing dc19859c-7547-4498-9de6-9c3678c7bf10.wav: \n",
      "❌ Failed: dc19859c-7547-4498-9de6-9c3678c7bf10.wav\n",
      "Error processing dc24352b-64a4-4d7c-a363-6a8ea887009b.wav: \n",
      "❌ Failed: dc24352b-64a4-4d7c-a363-6a8ea887009b.wav\n",
      "Error processing dc26cf65-e317-478b-9c46-558463ca65ac.wav: \n",
      "❌ Failed: dc26cf65-e317-478b-9c46-558463ca65ac.wav\n",
      "Error processing dc606c9e-3d20-405c-bda1-a1b892f68593.wav: \n",
      "❌ Failed: dc606c9e-3d20-405c-bda1-a1b892f68593.wav\n",
      "Error processing dda674af-7aeb-4fde-8242-8f1912858a5b.wav: \n",
      "❌ Failed: dda674af-7aeb-4fde-8242-8f1912858a5b.wav\n",
      "Error processing ddec079c-e2c0-4398-a14d-d38cbc691104.wav: \n",
      "❌ Failed: ddec079c-e2c0-4398-a14d-d38cbc691104.wav\n",
      "Error processing ddf09d4e-f2a7-4f5b-a72b-7ca0d310d577.wav: \n",
      "❌ Failed: ddf09d4e-f2a7-4f5b-a72b-7ca0d310d577.wav\n",
      "Error processing de1a7d84-0085-4fe0-9e73-82f8f6b3bbb7.wav: \n",
      "❌ Failed: de1a7d84-0085-4fe0-9e73-82f8f6b3bbb7.wav\n",
      "Error processing de4d2c38-3277-4cf2-8ae3-453669bde3cb.wav: \n",
      "❌ Failed: de4d2c38-3277-4cf2-8ae3-453669bde3cb.wav\n",
      "Error processing deaf5071-cbb4-44d7-92d2-8620df58750e.wav: \n",
      "❌ Failed: deaf5071-cbb4-44d7-92d2-8620df58750e.wav\n",
      "Error processing deba8a25-c4a6-469d-a4ba-00981b53ccf5.wav: \n",
      "❌ Failed: deba8a25-c4a6-469d-a4ba-00981b53ccf5.wav\n",
      "Error processing df033787-6054-4f57-ab32-686e515213ea.wav: \n",
      "❌ Failed: df033787-6054-4f57-ab32-686e515213ea.wav\n",
      "Error processing df785564-f625-4bb1-9c4f-166e90f626b5.wav: \n",
      "❌ Failed: df785564-f625-4bb1-9c4f-166e90f626b5.wav\n",
      "Error processing df8ce32f-1818-4f86-9246-090b2f127f0d.wav: \n",
      "❌ Failed: df8ce32f-1818-4f86-9246-090b2f127f0d.wav\n",
      "Error processing dfde77ac-0c9f-414f-a5eb-91a1b4aa285a.wav: \n",
      "❌ Failed: dfde77ac-0c9f-414f-a5eb-91a1b4aa285a.wav\n",
      "Error processing dfe8a19c-d7aa-4875-a38e-dc2315f44e84.wav: \n",
      "❌ Failed: dfe8a19c-d7aa-4875-a38e-dc2315f44e84.wav\n",
      "Error processing e0047ff0-5a63-4e00-b5bb-0ed401c25aeb.wav: \n",
      "❌ Failed: e0047ff0-5a63-4e00-b5bb-0ed401c25aeb.wav\n",
      "Error processing e01a74f3-213b-429b-8db9-c762e84799fe.wav: \n",
      "❌ Failed: e01a74f3-213b-429b-8db9-c762e84799fe.wav\n",
      "Error processing e03213d8-ebd0-42fe-bf9c-37b1a901bdce.wav: \n",
      "❌ Failed: e03213d8-ebd0-42fe-bf9c-37b1a901bdce.wav\n",
      "Error processing e0ddeaf8-5496-48a7-b7bc-c9e6bf8edfdc.wav: \n",
      "❌ Failed: e0ddeaf8-5496-48a7-b7bc-c9e6bf8edfdc.wav\n",
      "Error processing e1062226-f13a-4dcd-9144-344e44a59cfa.wav: \n",
      "❌ Failed: e1062226-f13a-4dcd-9144-344e44a59cfa.wav\n",
      "Error processing e1b20305-7189-4804-b381-33068d79170e.wav: \n",
      "❌ Failed: e1b20305-7189-4804-b381-33068d79170e.wav\n",
      "Error processing e203bb87-b469-4666-8153-3d94c23ccb42.wav: \n",
      "❌ Failed: e203bb87-b469-4666-8153-3d94c23ccb42.wav\n",
      "Error processing e2211df8-5208-4079-a363-9d04df741dac.wav: \n",
      "❌ Failed: e2211df8-5208-4079-a363-9d04df741dac.wav\n",
      "Error processing e26d6366-f0c8-4ea2-8dbc-0d2f97ce9145.wav: \n",
      "❌ Failed: e26d6366-f0c8-4ea2-8dbc-0d2f97ce9145.wav\n",
      "Error processing e2ac657b-31a1-4925-9aa5-40f7e38a00ec.wav: \n",
      "❌ Failed: e2ac657b-31a1-4925-9aa5-40f7e38a00ec.wav\n",
      "Error processing e31295aa-59a2-4df0-a44c-d563beb34582.wav: \n",
      "❌ Failed: e31295aa-59a2-4df0-a44c-d563beb34582.wav\n",
      "Error processing e31e0d77-8ee9-4c77-aac1-f2986332d165.wav: \n",
      "❌ Failed: e31e0d77-8ee9-4c77-aac1-f2986332d165.wav\n",
      "Error processing e361f56b-313e-40af-a1f6-885af6b3047f.wav: \n",
      "❌ Failed: e361f56b-313e-40af-a1f6-885af6b3047f.wav\n",
      "Error processing e3817dd2-6d7e-4299-83e2-100b9284404e.wav: \n",
      "❌ Failed: e3817dd2-6d7e-4299-83e2-100b9284404e.wav\n",
      "Error processing e3c4b08f-48f3-42f6-994f-6e4ba3d254d6.wav: \n",
      "❌ Failed: e3c4b08f-48f3-42f6-994f-6e4ba3d254d6.wav\n",
      "Error processing e447fb5d-624a-43a8-b5bc-858797dbaf11.wav: \n",
      "❌ Failed: e447fb5d-624a-43a8-b5bc-858797dbaf11.wav\n",
      "Error processing e494609e-bf6a-4bb1-aa9f-1e2b79aa2132.wav: \n",
      "❌ Failed: e494609e-bf6a-4bb1-aa9f-1e2b79aa2132.wav\n",
      "Error processing e49d1565-022e-4891-ae23-00a5c0b32103.wav: \n",
      "❌ Failed: e49d1565-022e-4891-ae23-00a5c0b32103.wav\n",
      "Error processing e5082de4-8316-462b-96c0-beae0dcfc1d1.wav: \n",
      "❌ Failed: e5082de4-8316-462b-96c0-beae0dcfc1d1.wav\n",
      "Error processing e52a6417-bf2f-4962-b6ff-fe42ee9edfb1.wav: \n",
      "❌ Failed: e52a6417-bf2f-4962-b6ff-fe42ee9edfb1.wav\n",
      "Error processing e543cc89-2385-4158-b2f0-6976b9531173.wav: \n",
      "❌ Failed: e543cc89-2385-4158-b2f0-6976b9531173.wav\n",
      "Error processing e57e28a3-fc64-4e77-8a75-eae982cab53c.wav: \n",
      "❌ Failed: e57e28a3-fc64-4e77-8a75-eae982cab53c.wav\n",
      "Error processing e58245cf-30f8-41de-bea8-4487eaadc26d.wav: \n",
      "❌ Failed: e58245cf-30f8-41de-bea8-4487eaadc26d.wav\n",
      "Error processing e5ac83d3-4e92-4b41-8a25-668926dd52d3.wav: \n",
      "❌ Failed: e5ac83d3-4e92-4b41-8a25-668926dd52d3.wav\n",
      "Error processing e62090ef-6c61-4454-9ede-35ee1350fb4b.wav: \n",
      "❌ Failed: e62090ef-6c61-4454-9ede-35ee1350fb4b.wav\n",
      "Error processing e6524adf-ae92-48be-abc1-fe237de090bf.wav: \n",
      "❌ Failed: e6524adf-ae92-48be-abc1-fe237de090bf.wav\n",
      "Error processing e6a91374-450e-4779-b6c3-1ad7898e0a3e.wav: \n",
      "❌ Failed: e6a91374-450e-4779-b6c3-1ad7898e0a3e.wav\n",
      "Error processing e707807b-b4f2-4269-befd-132d198eacf4.wav: \n",
      "❌ Failed: e707807b-b4f2-4269-befd-132d198eacf4.wav\n",
      "Error processing e70efea1-b393-4670-a625-8d06e4361ae2.wav: \n",
      "❌ Failed: e70efea1-b393-4670-a625-8d06e4361ae2.wav\n",
      "Error processing e730678a-3b2e-4d0e-a15e-0e3015e89ffa.wav: \n",
      "❌ Failed: e730678a-3b2e-4d0e-a15e-0e3015e89ffa.wav\n",
      "Error processing e7878b50-5162-4f53-bddf-037e3a0a836b.wav: \n",
      "❌ Failed: e7878b50-5162-4f53-bddf-037e3a0a836b.wav\n",
      "Error processing e798f56a-95ff-4731-9a83-6d2fc6657a74.wav: \n",
      "❌ Failed: e798f56a-95ff-4731-9a83-6d2fc6657a74.wav\n",
      "Error processing e7b0d36a-dce0-44f9-bc39-271a32bfdd91.wav: \n",
      "❌ Failed: e7b0d36a-dce0-44f9-bc39-271a32bfdd91.wav\n",
      "Error processing e91d4450-87fc-4898-8506-348c25292cec.wav: \n",
      "❌ Failed: e91d4450-87fc-4898-8506-348c25292cec.wav\n",
      "Error processing e95112be-ac7b-4444-9911-680db3c4ce6d.wav: \n",
      "❌ Failed: e95112be-ac7b-4444-9911-680db3c4ce6d.wav\n",
      "Error processing eac6c3f6-fa0a-4e91-89b0-197830d3b8d4.wav: \n",
      "❌ Failed: eac6c3f6-fa0a-4e91-89b0-197830d3b8d4.wav\n",
      "Error processing ead9ad04-7d13-4f5e-86ad-78dfaa17084c.wav: \n",
      "❌ Failed: ead9ad04-7d13-4f5e-86ad-78dfaa17084c.wav\n",
      "Error processing eae2ef9f-51e0-4030-8c8b-9e4b7454382e.wav: \n",
      "❌ Failed: eae2ef9f-51e0-4030-8c8b-9e4b7454382e.wav\n",
      "Error processing eba21dcc-85d1-4ac5-9e90-e8633b7b5866.wav: \n",
      "❌ Failed: eba21dcc-85d1-4ac5-9e90-e8633b7b5866.wav\n",
      "Error processing ec46f91f-da46-4ddb-b309-b37ff6d95986.wav: \n",
      "❌ Failed: ec46f91f-da46-4ddb-b309-b37ff6d95986.wav\n",
      "Error processing ec82f9dd-ad2a-407d-88ee-2596292d8f67.wav: \n",
      "❌ Failed: ec82f9dd-ad2a-407d-88ee-2596292d8f67.wav\n",
      "Error processing ec8929f7-abfa-4c9f-b915-27c87e49fda3.wav: \n",
      "❌ Failed: ec8929f7-abfa-4c9f-b915-27c87e49fda3.wav\n",
      "Error processing ecb239a5-5193-42bd-b2e2-350a37ef23de.wav: \n",
      "❌ Failed: ecb239a5-5193-42bd-b2e2-350a37ef23de.wav\n",
      "Error processing ecfe9175-a51f-44d2-8ecf-639a46e3aa70.wav: \n",
      "❌ Failed: ecfe9175-a51f-44d2-8ecf-639a46e3aa70.wav\n",
      "Error processing edb4f7c1-ca78-4342-bb7f-88998acb861e.wav: \n",
      "❌ Failed: edb4f7c1-ca78-4342-bb7f-88998acb861e.wav\n",
      "Error processing ede6a3d1-902f-4345-9c19-d18376d31454.wav: \n",
      "❌ Failed: ede6a3d1-902f-4345-9c19-d18376d31454.wav\n",
      "Error processing ee056594-fe80-4159-b7e3-43f1b1ae4097.wav: \n",
      "❌ Failed: ee056594-fe80-4159-b7e3-43f1b1ae4097.wav\n",
      "Error processing ee538a20-40b2-4681-824a-bb8c292c79f0.wav: \n",
      "❌ Failed: ee538a20-40b2-4681-824a-bb8c292c79f0.wav\n",
      "Error processing ee980d9c-1ff9-49ea-9fb8-b5192cfeabcc.wav: \n",
      "❌ Failed: ee980d9c-1ff9-49ea-9fb8-b5192cfeabcc.wav\n",
      "Error processing eeb388c1-e973-4cb3-8e2e-54255fa9c2a8.wav: \n",
      "❌ Failed: eeb388c1-e973-4cb3-8e2e-54255fa9c2a8.wav\n",
      "Error processing eef2294a-2f8d-4783-9f78-cb617046ca63.wav: \n",
      "❌ Failed: eef2294a-2f8d-4783-9f78-cb617046ca63.wav\n",
      "Error processing ef1cb60e-c0f3-42b9-a231-f340c530e8ea.wav: \n",
      "❌ Failed: ef1cb60e-c0f3-42b9-a231-f340c530e8ea.wav\n",
      "Error processing ef62b82c-9480-48d3-87f7-8bab317c9bcf.wav: \n",
      "❌ Failed: ef62b82c-9480-48d3-87f7-8bab317c9bcf.wav\n",
      "Error processing efb3ed40-f742-4113-b63c-09ddaed3c99a.wav: \n",
      "❌ Failed: efb3ed40-f742-4113-b63c-09ddaed3c99a.wav\n",
      "Error processing f01eef94-8907-4be6-945f-6cbd18e5a7b9.wav: \n",
      "❌ Failed: f01eef94-8907-4be6-945f-6cbd18e5a7b9.wav\n",
      "Error processing f084b959-23fc-4887-af5d-c50b4ed85337.wav: \n",
      "❌ Failed: f084b959-23fc-4887-af5d-c50b4ed85337.wav\n",
      "Error processing f1a8c8ac-ed30-4535-badf-1cb702a21f7e.wav: \n",
      "❌ Failed: f1a8c8ac-ed30-4535-badf-1cb702a21f7e.wav\n",
      "Error processing f1b6d7f3-bc50-4ed7-b470-20108b81d417.wav: \n",
      "❌ Failed: f1b6d7f3-bc50-4ed7-b470-20108b81d417.wav\n",
      "Error processing f324406a-b642-44ca-b547-896b6bd1ce90.wav: \n",
      "❌ Failed: f324406a-b642-44ca-b547-896b6bd1ce90.wav\n",
      "Error processing f3a94f15-0b7b-404d-b16c-e80592f63b4f.wav: \n",
      "❌ Failed: f3a94f15-0b7b-404d-b16c-e80592f63b4f.wav\n",
      "Error processing f3b86f2a-3162-4726-b11d-a74b566e2124.wav: \n",
      "❌ Failed: f3b86f2a-3162-4726-b11d-a74b566e2124.wav\n",
      "Error processing f3e16a8d-a7e9-4a35-9763-7439b6a215e7.wav: \n",
      "❌ Failed: f3e16a8d-a7e9-4a35-9763-7439b6a215e7.wav\n",
      "Error processing f3e25563-1d8d-4569-a128-7453e65fe90c.wav: \n",
      "❌ Failed: f3e25563-1d8d-4569-a128-7453e65fe90c.wav\n",
      "Error processing f48862b4-21c2-4b6d-ae62-7f1ca39b0291.wav: \n",
      "❌ Failed: f48862b4-21c2-4b6d-ae62-7f1ca39b0291.wav\n",
      "Error processing f4d7b38f-58ec-4578-a75f-e7aaedb7e0a2.wav: \n",
      "❌ Failed: f4d7b38f-58ec-4578-a75f-e7aaedb7e0a2.wav\n",
      "Error processing f510e2f0-ecc8-475d-96aa-881f5cb4c0da.wav: \n",
      "❌ Failed: f510e2f0-ecc8-475d-96aa-881f5cb4c0da.wav\n",
      "Error processing f52e59f1-cde7-4ef2-b578-f581b571824b.wav: \n",
      "❌ Failed: f52e59f1-cde7-4ef2-b578-f581b571824b.wav\n",
      "Error processing f535ab06-c4dd-4ce5-8dc4-7cbae23dcd0b.wav: \n",
      "❌ Failed: f535ab06-c4dd-4ce5-8dc4-7cbae23dcd0b.wav\n",
      "Error processing f54c5137-eecb-44ff-b0b4-67ecdf1a3846.wav: \n",
      "❌ Failed: f54c5137-eecb-44ff-b0b4-67ecdf1a3846.wav\n",
      "Error processing f57f24dd-6f9b-4eff-8843-9a47564ad525.wav: \n",
      "❌ Failed: f57f24dd-6f9b-4eff-8843-9a47564ad525.wav\n",
      "Error processing f5add6f1-203f-4d35-af70-ee84ad4f1fb6.wav: \n",
      "❌ Failed: f5add6f1-203f-4d35-af70-ee84ad4f1fb6.wav\n",
      "Error processing f5d149e1-913c-41a0-be33-2785e4baf977.wav: \n",
      "❌ Failed: f5d149e1-913c-41a0-be33-2785e4baf977.wav\n"
     ]
    },
    {
     "name": "stderr",
     "output_type": "stream",
     "text": [
      "100%|██████████| 1659/1659 [00:05<00:00, 305.66it/s] \n"
     ]
    },
    {
     "name": "stdout",
     "output_type": "stream",
     "text": [
      "Error processing f5f641a4-9a38-41d1-869a-7c425756b66f.wav: \n",
      "❌ Failed: f5f641a4-9a38-41d1-869a-7c425756b66f.wav\n",
      "Error processing f612d1f0-e1db-4d50-bb22-d2371983c612.wav: \n",
      "❌ Failed: f612d1f0-e1db-4d50-bb22-d2371983c612.wav\n",
      "Error processing f6309f89-3bf0-467f-b93b-0f47b75f4995.wav: \n",
      "❌ Failed: f6309f89-3bf0-467f-b93b-0f47b75f4995.wav\n",
      "Error processing f651fb64-60c3-4a8e-ac33-c4fc33253c47.wav: \n",
      "❌ Failed: f651fb64-60c3-4a8e-ac33-c4fc33253c47.wav\n",
      "Error processing f67c9dfc-0c76-4ef2-893b-2155a052bb7d.wav: \n",
      "❌ Failed: f67c9dfc-0c76-4ef2-893b-2155a052bb7d.wav\n",
      "Error processing f6c7f7b6-8cc9-4cd1-a53d-0848e0169104.wav: \n",
      "❌ Failed: f6c7f7b6-8cc9-4cd1-a53d-0848e0169104.wav\n",
      "Error processing f6e4abf1-0338-4678-8b33-666e072e321a.wav: \n",
      "❌ Failed: f6e4abf1-0338-4678-8b33-666e072e321a.wav\n",
      "Error processing f72d158f-7ac9-46a4-8f6a-ce11ea3e182f.wav: \n",
      "❌ Failed: f72d158f-7ac9-46a4-8f6a-ce11ea3e182f.wav\n",
      "Error processing f7370038-3bff-4dcc-af92-cae8910387fa.wav: \n",
      "❌ Failed: f7370038-3bff-4dcc-af92-cae8910387fa.wav\n",
      "Error processing f74d0c3c-1303-4b5d-bc28-1206afdf982c.wav: \n",
      "❌ Failed: f74d0c3c-1303-4b5d-bc28-1206afdf982c.wav\n",
      "Error processing f77023b2-b2c3-42dd-9389-69cd24fef9ea.wav: \n",
      "❌ Failed: f77023b2-b2c3-42dd-9389-69cd24fef9ea.wav\n",
      "Error processing f9259f42-843f-4561-b72d-f18d41eab14d.wav: \n",
      "❌ Failed: f9259f42-843f-4561-b72d-f18d41eab14d.wav\n",
      "Error processing f9542d4f-b590-4152-b48c-5926a4e31cda.wav: \n",
      "❌ Failed: f9542d4f-b590-4152-b48c-5926a4e31cda.wav\n",
      "Error processing fa04b524-a83b-40ba-be56-d6075f33f167.wav: \n",
      "❌ Failed: fa04b524-a83b-40ba-be56-d6075f33f167.wav\n",
      "Error processing fa518788-bb6e-45c2-8dc1-7440a9e2dc70.wav: \n",
      "❌ Failed: fa518788-bb6e-45c2-8dc1-7440a9e2dc70.wav\n",
      "Error processing fa977b70-68b8-40af-9686-41fd7ab5802c.wav: \n",
      "❌ Failed: fa977b70-68b8-40af-9686-41fd7ab5802c.wav\n",
      "Error processing fab28d05-a27c-4cde-b637-acdce5bfeb17.wav: \n",
      "❌ Failed: fab28d05-a27c-4cde-b637-acdce5bfeb17.wav\n",
      "Error processing fae20358-10f6-46ac-b749-e985b36ff42e.wav: \n",
      "❌ Failed: fae20358-10f6-46ac-b749-e985b36ff42e.wav\n",
      "Error processing fae754f2-3bf1-4270-a471-ca575bded59a.wav: \n",
      "❌ Failed: fae754f2-3bf1-4270-a471-ca575bded59a.wav\n",
      "Error processing fb5ac841-cc79-464d-be19-e1583a350c4c.wav: \n",
      "❌ Failed: fb5ac841-cc79-464d-be19-e1583a350c4c.wav\n",
      "Error processing fbc95caa-e9b8-48ba-9a71-62c014da5c5c.wav: \n",
      "❌ Failed: fbc95caa-e9b8-48ba-9a71-62c014da5c5c.wav\n",
      "Error processing fd80ff54-c72e-46a1-ba51-7e600eeb43e9.wav: \n",
      "❌ Failed: fd80ff54-c72e-46a1-ba51-7e600eeb43e9.wav\n",
      "Error processing fd8545e0-5f6a-42b2-8e9e-a200cf2ade1c.wav: \n",
      "❌ Failed: fd8545e0-5f6a-42b2-8e9e-a200cf2ade1c.wav\n",
      "Error processing fdb19d89-235d-4484-ac59-c094d82224ff.wav: \n",
      "❌ Failed: fdb19d89-235d-4484-ac59-c094d82224ff.wav\n",
      "Error processing fe24978d-9f13-4492-ad27-b9f8d5da0e3c.wav: \n",
      "❌ Failed: fe24978d-9f13-4492-ad27-b9f8d5da0e3c.wav\n",
      "Error processing fe774436-b851-46f1-9cc4-2c0dfd5eb43c.wav: \n",
      "❌ Failed: fe774436-b851-46f1-9cc4-2c0dfd5eb43c.wav\n",
      "Error processing fe8adc4d-30bf-42d8-aef4-d9e3fa2efada.wav: \n",
      "❌ Failed: fe8adc4d-30bf-42d8-aef4-d9e3fa2efada.wav\n",
      "Error processing fef36b2b-6313-4ce7-9e3c-c8b937a8c482.wav: \n",
      "❌ Failed: fef36b2b-6313-4ce7-9e3c-c8b937a8c482.wav\n",
      "Error processing ff00a576-4315-4366-84cf-5e4e108ed7da.wav: \n",
      "❌ Failed: ff00a576-4315-4366-84cf-5e4e108ed7da.wav\n",
      "Error processing ff0d22e6-f14c-42cd-af1c-3963fc20124b.wav: \n",
      "❌ Failed: ff0d22e6-f14c-42cd-af1c-3963fc20124b.wav\n",
      "Error processing ff7c39ee-30c1-46cc-a4d8-f90acb7279e4.wav: \n",
      "❌ Failed: ff7c39ee-30c1-46cc-a4d8-f90acb7279e4.wav\n",
      "Error processing ff8d2339-0fd8-4edc-968a-93a26c7dd4ff.wav: \n",
      "❌ Failed: ff8d2339-0fd8-4edc-968a-93a26c7dd4ff.wav\n",
      "Error processing ffa8b60c-9bd2-4f4e-b72d-1cb5082ef7ad.wav: \n",
      "❌ Failed: ffa8b60c-9bd2-4f4e-b72d-1cb5082ef7ad.wav\n",
      "Error processing fffd1834-6cf2-4782-bb30-04c31b46a1fe.wav: \n",
      "❌ Failed: fffd1834-6cf2-4782-bb30-04c31b46a1fe.wav\n"
     ]
    }
   ],
   "source": [
    "import os\n",
    "import librosa\n",
    "import librosa.display\n",
    "import matplotlib.pyplot as plt\n",
    "import numpy as np\n",
    "from pathlib import Path\n",
    "from tqdm import tqdm\n",
    "from time import time\n",
    "\n",
    "# Set your input and output folders\n",
    "input_folder = Path(r\"F:\\Research_Project_CMP9140\\lung-cancer-cough-classification\\data\\raw\\healthy2\")\n",
    "output_folder = Path(r\"F:\\Research_Project_CMP9140\\lung-cancer-cough-classification\\data\\Processed\\healthy\")\n",
    "\n",
    "output_folder.mkdir(parents=True, exist_ok=True)\n",
    "\n",
    "print(f\"Input Folder: {input_folder.resolve()}\")\n",
    "print(f\"Output Folder: {output_folder.resolve()}\")\n",
    "\n",
    "# Fixed function (only one version now)\n",
    "def audio_to_mel_spectrogram(audio_path, output_path, sample_rate=22050):\n",
    "    try:\n",
    "        y, sr = librosa.load(audio_path, sr=sample_rate)\n",
    "        y, _ = librosa.effects.trim(y)\n",
    "\n",
    "        # Generate Mel spectrogram\n",
    "        S = librosa.feature.melspectrogram(y=y, sr=sr, n_mels=128)\n",
    "        S_dB = librosa.power_to_db(S, ref=np.max)\n",
    "\n",
    "        plt.figure(figsize=(2.56, 2.56), dpi=100)\n",
    "        plt.axis('off')\n",
    "        librosa.display.specshow(S_dB, sr=sr, cmap='inferno')\n",
    "        plt.savefig(output_path, bbox_inches='tight', pad_inches=0)\n",
    "        plt.close()\n",
    "\n",
    "        return True\n",
    "    except Exception as e:\n",
    "        print(f\"Error processing {audio_path.name}: {e}\")\n",
    "        return False\n",
    "\n",
    "# Process all files but skip ones already converted\n",
    "wav_files = list(input_folder.glob(\"*.wav\"))\n",
    "print(f\"Found {len(wav_files)} files to process.\")\n",
    "\n",
    "for i, audio_file in enumerate(tqdm(wav_files)):\n",
    "    image_filename = output_folder / (audio_file.stem + \".png\")\n",
    "    \n",
    "    # Skip if already processed\n",
    "    if image_filename.exists():\n",
    "        continue\n",
    "    \n",
    "    start_time = time()\n",
    "    success = audio_to_mel_spectrogram(audio_file, image_filename)\n",
    "    elapsed = time() - start_time\n",
    "    \n",
    "    if success:\n",
    "        print(f\"✅ Processed {i+1}/{len(wav_files)}: {audio_file.name} in {elapsed:.2f}s\")\n",
    "    else:\n",
    "        print(f\"❌ Failed: {audio_file.name}\")\n"
   ]
  },
  {
   "cell_type": "code",
   "execution_count": 3,
   "id": "a243e623",
   "metadata": {},
   "outputs": [
    {
     "name": "stdout",
     "output_type": "stream",
     "text": [
      "[INFO] Saved list of 822 failed files to F:\\Research_Project_CMP9140\\lung-cancer-cough-classification\\scripts\\failed_files.txt\n"
     ]
    }
   ],
   "source": [
    "# Save a list of all failed .wav files to a text file\n",
    "failed_log = Path(\"failed_files.txt\")\n",
    "\n",
    "# Collect all failed files (those without a corresponding spectrogram)\n",
    "failed_files = [wav for wav in wav_files if not (output_folder / (wav.stem + \".png\")).exists()]\n",
    "\n",
    "with open(failed_log, \"w\") as f:\n",
    "    for file in failed_files:\n",
    "        f.write(str(file) + \"\\n\")\n",
    "\n",
    "print(f\"[INFO] Saved list of {len(failed_files)} failed files to {failed_log.resolve()}\")\n"
   ]
  },
  {
   "cell_type": "code",
   "execution_count": null,
   "id": "b0565a93",
   "metadata": {},
   "outputs": [],
   "source": []
  }
 ],
 "metadata": {
  "kernelspec": {
   "display_name": "base",
   "language": "python",
   "name": "python3"
  },
  "language_info": {
   "codemirror_mode": {
    "name": "ipython",
    "version": 3
   },
   "file_extension": ".py",
   "mimetype": "text/x-python",
   "name": "python",
   "nbconvert_exporter": "python",
   "pygments_lexer": "ipython3",
   "version": "3.12.7"
  }
 },
 "nbformat": 4,
 "nbformat_minor": 5
}
